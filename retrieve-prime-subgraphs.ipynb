{
 "cells": [
  {
   "cell_type": "code",
   "id": "initial_id",
   "metadata": {
    "collapsed": true,
    "jupyter": {
     "outputs_hidden": true
    },
    "colab": {
     "base_uri": "https://localhost:8080/"
    },
    "id": "initial_id",
    "outputId": "8d0cf051-7022-4169-fb5f-f98dd7d44f4b",
    "ExecuteTime": {
     "end_time": "2024-09-01T03:12:32.474169Z",
     "start_time": "2024-09-01T03:12:31.368903Z"
    }
   },
   "source": [
    "%%capture\n",
    "%pip install torch torch_geometric stark-qa neo4j python-dotenv pcst_fast datasets pandas transformers langchain langchain-openai"
   ],
   "outputs": [],
   "execution_count": 1
  },
  {
   "metadata": {},
   "cell_type": "markdown",
   "source": [
    "## Setup"
   ],
   "id": "f27f805265507608"
  },
  {
   "metadata": {},
   "cell_type": "markdown",
   "source": [
    "load env variables"
   ],
   "id": "b9888993aa1c4114"
  },
  {
   "metadata": {
    "id": "d5f15c92d7faa635",
    "ExecuteTime": {
     "end_time": "2024-09-01T03:12:32.485723Z",
     "start_time": "2024-09-01T03:12:32.476910Z"
    }
   },
   "cell_type": "code",
   "source": [
    "from dotenv import load_dotenv\n",
    "import os\n",
    "\n",
    "load_dotenv('db.env', override=True)\n",
    "NEO4J_URI = os.getenv('NEO4J_URI')\n",
    "NEO4J_USERNAME = os.getenv('NEO4J_USERNAME')\n",
    "NEO4J_PASSWORD = os.getenv('NEO4J_PASSWORD')\n",
    "\n",
    "OPENAI_API_KEY = os.getenv('OPENAI_API_KEY')"
   ],
   "id": "d5f15c92d7faa635",
   "outputs": [],
   "execution_count": 1
  },
  {
   "metadata": {},
   "cell_type": "markdown",
   "source": [
    "helper functions, utilities, and such"
   ],
   "id": "fac0100877d56dba"
  },
  {
   "metadata": {
    "id": "c3c3a85bd43694e8",
    "ExecuteTime": {
     "end_time": "2024-09-01T03:12:35.393032Z",
     "start_time": "2024-09-01T03:12:32.486996Z"
    }
   },
   "cell_type": "code",
   "source": [
    "from torch_geometric.data.data import Data\n",
    "from neo4j import Driver\n",
    "import pandas as pd\n",
    "from typing import List\n",
    "import torch\n",
    "import numpy as np\n",
    "from langchain_openai import OpenAIEmbeddings\n",
    "from tqdm import tqdm\n",
    "\n",
    "embedding_model = OpenAIEmbeddings(model=\"text-embedding-ada-002\")\n",
    "embedding_dimension = 1536\n",
    "\n",
    "def chunks(xs, n=500):\n",
    "    n = max(1, n)\n",
    "    return [xs[i:i + n] for i in range(0, len(xs), n)]\n",
    "\n",
    "\n",
    "def embed(doc_list, chunk_size=500):\n",
    "    embeddings = []\n",
    "    for docs in chunks(doc_list):\n",
    "        embeddings.extend(embedding_model.embed_documents(docs))\n",
    "    return embeddings\n",
    "def get_nodes_by_vector_search(prompt:str, driver:Driver) -> List:\n",
    "  res = driver.execute_query(\"\"\"\n",
    "    WITH genai.vector.encode(\n",
    "      $searchPrompt,\n",
    "      \"OpenAI\",\n",
    "      {token:$token}) AS queryVector\n",
    "    CALL db.index.vector.queryNodes($index, $k, queryVector) YIELD node\n",
    "    RETURN node.nodeId AS nodeId\n",
    "    \"\"\",\n",
    "    parameters_={\n",
    "        \"searchPrompt\":prompt,\n",
    "        \"token\":OPENAI_API_KEY,\n",
    "        \"index\":\"text_embeddings\",\n",
    "        \"k\":4})\n",
    "  return [rec.data()['nodeId'] for rec in res.records]\n",
    "\n",
    "def get_subgraph_rels(node_ids:List, driver:Driver):\n",
    "  res = driver.execute_query(\"\"\"\n",
    "    UNWIND $nodeIds AS nodeId\n",
    "    MATCH(node:_Entity_ {nodeId:nodeId})\n",
    "    // create filtered cartesian product\n",
    "    WITH collect(node) AS sources, collect(node) AS targets\n",
    "    UNWIND sources as source\n",
    "    UNWIND targets as target\n",
    "    WITH source, target\n",
    "    WHERE source > target //how is this calculated? on element id?...it works\n",
    "\n",
    "    // find connecting paths\n",
    "    MATCH (source)-[rl]->{0,2}(target)\n",
    "\n",
    "    //get rels\n",
    "    UNWIND rl AS r\n",
    "    WITH DISTINCT r\n",
    "    MATCH (m)-[r]->(n)\n",
    "    RETURN\n",
    "    m.nodeId AS src,\n",
    "    n.nodeId AS tgt,\n",
    "    n.name + ' - ' + type(r) +  ' -> ' + m.name AS text\n",
    "    \"\"\",\n",
    "    parameters_={\"nodeIds\":node_ids})\n",
    "  return pd.DataFrame([rec.data() for rec in res.records])\n",
    "\n",
    "def get_all_node_ids(initial_node_ids, rel_df):\n",
    "  node_ids = set(initial_node_ids)\n",
    "  if rel_df.shape[0] > 0:\n",
    "    node_ids.update(rel_df.src)\n",
    "    node_ids.update(rel_df.tgt)\n",
    "  return list(node_ids)\n",
    "\n",
    "def get_node_df(initial_node_ids, rel_df, driver:Driver):\n",
    "  node_ids = get_all_node_ids(initial_node_ids, rel_df)\n",
    "  res = driver.execute_query(\"\"\"\n",
    "    UNWIND $nodeIds AS nodeId\n",
    "    MATCH(n:_Entity_ {nodeId:nodeId})\n",
    "    RETURN n.nodeId AS nodeId, n.name AS name, n.textEmbedding AS textEmbedding, n.details AS details\n",
    "    \"\"\",\n",
    "    parameters_={\"nodeIds\":node_ids})\n",
    "  return pd.DataFrame([rec.data() for rec in res.records])\n",
    "\n",
    "def create_data_obj(node_df, rel_df, prompt):\n",
    "  # sub-graph re-index for edge_index\n",
    "  node_df = node_df.reset_index()\n",
    "  n_df = node_df.reset_index()[['index', 'nodeId']]\n",
    "  rel_df = (rel_df\n",
    "    .merge(n_df, left_on='src', right_on='nodeId')\n",
    "    .rename(columns={'index': 'src_index'})\n",
    "    .drop(columns='nodeId')\n",
    "    .merge(n_df, left_on='tgt', right_on='nodeId')\n",
    "    .rename(columns={'index': 'tgt_index'})\n",
    "    .drop(columns='nodeId')\n",
    "  )\n",
    "\n",
    "  # node attributes\n",
    "  x = torch.tensor(np.stack(node_df.textEmbedding), dtype=torch.float)\n",
    "\n",
    "  # edge attributes\n",
    "  edge_attr = torch.tensor(np.stack(rel_df.textEmbedding), dtype=torch.float)\n",
    "\n",
    "  # edge index\n",
    "  edge_index = torch.tensor(np.array(rel_df[['src_index', 'tgt_index']]).T)\n",
    "\n",
    "  # answer - leaving blank for now\n",
    "  answer=''\n",
    "\n",
    "  # desc - leaving blank for now\n",
    "  desc=''\n",
    "\n",
    "  return Data(x, edge_index, edge_attr, question=prompt, answer=answer, desc=desc)\n",
    "\n",
    "\n",
    "def retrieve(prompt:str, driver:Driver) -> Data:\n",
    "    init_node_ids = get_nodes_by_vector_search(prompt, driver)\n",
    "    rel_df = get_subgraph_rels(init_node_ids, driver)\n",
    "    node_df = get_node_df(init_node_ids, rel_df, driver)\n",
    "    #doing this outside of the graph for now\n",
    "    print('generating edge embeddings')\n",
    "    rel_df['textEmbedding'] = embed(rel_df['text'])\n",
    "    return create_data_obj(node_df, rel_df, prompt)"
   ],
   "id": "c3c3a85bd43694e8",
   "outputs": [],
   "execution_count": 2
  },
  {
   "metadata": {},
   "cell_type": "markdown",
   "source": [
    "## Test Example\n",
    "\n",
    "TODO: Adding answer and \"desc\" attributes. Desc is used as additional context...I think it is the \"textualized graph\" from the paper. "
   ],
   "id": "1438b62f63cf3fa5"
  },
  {
   "metadata": {
    "colab": {
     "base_uri": "https://localhost:8080/"
    },
    "id": "6a86fd6b8ba29edf",
    "outputId": "a89f5eff-71d9-493c-de15-8e4a9bd0a26d",
    "ExecuteTime": {
     "end_time": "2024-09-01T03:12:40.443464Z",
     "start_time": "2024-09-01T03:12:35.393652Z"
    }
   },
   "cell_type": "code",
   "source": [
    "from neo4j import GraphDatabase\n",
    "\n",
    "with GraphDatabase.driver(NEO4J_URI, auth=(NEO4J_USERNAME, NEO4J_PASSWORD)) as driver:\n",
    "    res = retrieve(\"Which gene or protein is engaged in DCC-mediated attractive signaling, can bind to actin filaments, and belongs to the actin-binding LIM protein family?\", driver)\n",
    "res"
   ],
   "id": "6a86fd6b8ba29edf",
   "outputs": [
    {
     "name": "stdout",
     "output_type": "stream",
     "text": [
      "generating edge embeddings\n"
     ]
    },
    {
     "data": {
      "text/plain": "Data(x=[148, 1536], edge_index=[2, 472], edge_attr=[472, 1536], question='Which gene or protein is engaged in DCC-mediated attractive signaling, can bind to actin filaments, and belongs to the actin-binding LIM protein family?', answer='', desc='')"
     },
     "execution_count": 3,
     "metadata": {},
     "output_type": "execute_result"
    }
   ],
   "execution_count": 3
  },
  {
   "cell_type": "code",
   "source": [
    "res.x"
   ],
   "metadata": {
    "colab": {
     "base_uri": "https://localhost:8080/",
     "height": 423
    },
    "id": "qeJn_AebRmJ4",
    "outputId": "1179fc6d-7802-4f9e-dec3-4399826c4af6",
    "ExecuteTime": {
     "end_time": "2024-09-01T03:12:40.471271Z",
     "start_time": "2024-09-01T03:12:40.445237Z"
    }
   },
   "id": "qeJn_AebRmJ4",
   "outputs": [
    {
     "data": {
      "text/plain": "tensor([[-0.0225,  0.0008,  0.0099,  ..., -0.0139,  0.0011, -0.0444],\n        [-0.0140,  0.0068, -0.0137,  ..., -0.0098, -0.0041, -0.0517],\n        [-0.0159, -0.0007, -0.0074,  ..., -0.0104, -0.0044, -0.0491],\n        ...,\n        [-0.0517, -0.0009, -0.0132,  ..., -0.0161, -0.0225, -0.0461],\n        [-0.0104, -0.0070, -0.0021,  ..., -0.0232, -0.0206, -0.0446],\n        [-0.0072,  0.0103, -0.0005,  ..., -0.0144, -0.0177, -0.0433]])"
     },
     "execution_count": 4,
     "metadata": {},
     "output_type": "execute_result"
    }
   ],
   "execution_count": 4
  },
  {
   "metadata": {
    "ExecuteTime": {
     "end_time": "2024-09-01T03:12:40.476392Z",
     "start_time": "2024-09-01T03:12:40.472069Z"
    }
   },
   "cell_type": "code",
   "source": [
    "res.edge_index"
   ],
   "id": "bf413cebab47627b",
   "outputs": [
    {
     "data": {
      "text/plain": "tensor([[ 22, 129,  22,  35,  22,  64,  22, 109,  22, 117,  22, 126,  22, 130,\n          22,  74,  22,  84,  22,  94,  22, 114,  22, 138,  22, 141,  22,  76,\n          22, 105,  22,  91,  22, 103,  22,  97,  22,  46,  56, 129,  56,  75,\n          56,  35,  56,  64,  56, 109,  56, 117,  56, 126,  56, 130,  56, 131,\n          56,  74,  56,  97,  56,  84,  56,  85,  56,  87,  56,  88,  56,  90,\n          56,  92,  56,  94,  56, 111,  56, 114,  56, 138,  56, 141,  56,  76,\n          56, 105,  56,  15,  56,  24,  56,  46,  56,  91,  56, 103,  56,  20,\n          56, 123,  56,  36,  56,  38,  56,  42,  56,  47,  56,  54,  56,  68,\n          56,  81,  56, 113,  56, 128,  56, 143,  56, 146,  56,   5,  56,   6,\n          56,  21,  56,  26,  56,  31,  56,  45,  56,  58,  56,  60,  56,  66,\n          56,  67,  56, 102,  56,  70,  56, 100,  56, 106,  56, 121,  56, 137,\n          56, 139,  56,   4,  56,   9,  56,  10,  56,  11,  56,  12,  56,  13,\n          56,  16,  56,  23,  56,  25,  56,  77,  56,  78,  56,  83,  56, 108,\n          56,   0,  56,  18,  56,  32,  56, 104,  59,  48,  59,  63,  59,  37,\n          59,  59,  27,  59,  59,  59,  59,  59,  59,  59,  59,  59,  59,  59,\n          59,  59,  59,  59,  59,  59,  59,  59,  59,  59,  59,  59,  59,  59,\n          59,  59,  59,  59,  59,  59,  59,  59,  59,  59,  59,  59,  59,  59,\n          59,  59,  59,  59,  59,  59,  59,  59,  59,  59,  59,  59,  59,  59,\n          59,  59,  59,  59,  59,  59,  59,  59,  59,  59,  59,  59,  59,  59,\n          59,  59,  59,  59,  59,  59,  41,  59,  57,  59, 119,  59,  43,  59,\n         145,  59,  55,  59, 136,  59, 115, 129,  59,  28,  59,  33,  59,  34,\n          35,  36,  38,  42,  59,  44,  47,  59,  51,  59,  53,  54,  64,  68,\n          81, 109, 113,  59, 116, 117,  59, 118,  59, 122, 126,  59, 127, 128,\n         130, 131,  59, 142, 143,  59, 144, 146,  59, 147,   5,   6,  21,  59,\n          29,  59,  30,  26,  31,  45,  59,  49,  59,  50,  58,  60,  66,  67,\n          74,  97,  59,  99, 102,  59, 124,  59, 134,  59,  17,  59,  19,  70,\n          84,  85,  59,  86,  87,  88,  59,  89,  90,  92,  94,  59,  95,  59,\n          96,  59,  98,  59, 101, 100, 106, 111, 114,  59, 120, 121,  59, 133,\n          59, 135, 137, 138, 139, 141,  59,   1,  59,   2,   4,   9,  10,  11,\n          12,  13,  59,  14,  16,  23,  25,  59,  39,  59,  40,  59,  65,  59,\n          69,  59,  72,  77,  76,  59,  79,  78,  59,  80,  59,  82,  83, 105,\n         108,  59, 110,  15,  24,  59, 112,  59, 140,  59,   7,  59, 132,   0,\n          46,  59,  52,  59,  71,  59,  73,  18,  59,  61,  59, 125,  59,   3,\n          32,  91,  59,  93,  59,  62,  59,   8, 103, 104],\n        [129, 107,  35, 107,  64, 107, 109, 107, 117, 107, 126, 107, 130, 107,\n          74, 107,  84, 107,  94, 107, 114, 107, 138, 107, 141, 107,  76, 107,\n         105, 107,  91, 107, 103, 107,  97, 107,  46, 107, 129,  22,  75,  22,\n          35,  22,  64,  22, 109,  22, 117,  22, 126,  22, 130,  22, 131,  22,\n          74,  22,  97,  22,  84,  22,  85,  22,  87,  22,  88,  22,  90,  22,\n          92,  22,  94,  22, 111,  22, 114,  22, 138,  22, 141,  22,  76,  22,\n         105,  22,  15,  22,  24,  22,  46,  22,  91,  22, 103,  22,  20, 107,\n         123, 107,  36, 107,  38, 107,  42, 107,  47, 107,  54, 107,  68, 107,\n          81, 107, 113, 107, 128, 107, 143, 107, 146, 107,   5, 107,   6, 107,\n          21, 107,  26, 107,  31, 107,  45, 107,  58, 107,  60, 107,  66, 107,\n          67, 107, 102, 107,  70, 107, 100, 107, 106, 107, 121, 107, 137, 107,\n         139, 107,   4, 107,   9, 107,  10, 107,  11, 107,  12, 107,  13, 107,\n          16, 107,  23, 107,  25, 107,  77, 107,  78, 107,  83, 107, 108, 107,\n           0, 107,  18, 107,  32, 107, 104, 107,  48,  22,  63,  22,  37,  22,\n         129,  27,  22,  35,  64, 109, 117, 126, 130, 131,  74,  97,  84,  85,\n          87,  88,  90,  92,  94, 111, 114, 138, 141,  76, 105,  15,  24,  46,\n          91, 103,  36,  38,  42,  47,  54,  68,  81, 113, 128, 143, 146,   5,\n           6,  21,  26,  31,  45,  58,  60,  66,  67, 102,  70, 100, 106, 121,\n         137, 139,   4,   9,  10,  11,  12,  13,  16,  23,  25,  77,  78,  83,\n         108,   0,  18,  32, 104,  41,  56,  57,  56, 119,  56,  43,  56, 145,\n          56,  55,  56, 136,  56, 115,  56,  56,  28,  56,  33,  56,  34,  56,\n          56,  56,  56,  56,  44,  56,  56,  51,  56,  53,  56,  56,  56,  56,\n          56,  56,  56, 116,  56,  56, 118,  56, 122,  56,  56, 127,  56,  56,\n          56,  56, 142,  56,  56, 144,  56,  56, 147,  56,  56,  56,  56,  29,\n          56,  30,  56,  56,  56,  56,  49,  56,  50,  56,  56,  56,  56,  56,\n          56,  56,  99,  56,  56, 124,  56, 134,  56,  17,  56,  19,  56,  56,\n          56,  56,  86,  56,  56,  56,  89,  56,  56,  56,  56,  95,  56,  96,\n          56,  98,  56, 101,  56,  56,  56,  56,  56, 120,  56,  56, 133,  56,\n         135,  56,  56,  56,  56,  56,   1,  56,   2,  56,  56,  56,  56,  56,\n          56,  56,  14,  56,  56,  56,  56,  39,  56,  40,  56,  65,  56,  69,\n          56,  72,  56,  56,  56,  79,  56,  56,  80,  56,  82,  56,  56,  56,\n          56, 110,  56,  56,  56, 112,  56, 140,  56,   7,  56, 132,  56,  56,\n          56,  52,  56,  71,  56,  73,  56,  56,  61,  56, 125,  56,   3,  56,\n          56,  56,  93,  56,  62,  56,   8,  56,  56,  56]])"
     },
     "execution_count": 5,
     "metadata": {},
     "output_type": "execute_result"
    }
   ],
   "execution_count": 5
  },
  {
   "metadata": {},
   "cell_type": "markdown",
   "source": [
    "## Load the Prime Dataset"
   ],
   "id": "c2c72772ebdcd5ba"
  },
  {
   "metadata": {
    "ExecuteTime": {
     "end_time": "2024-09-01T03:12:42.507717Z",
     "start_time": "2024-09-01T03:12:40.477334Z"
    }
   },
   "cell_type": "code",
   "source": [
    "from stark_qa import load_qa, load_skb\n",
    "\n",
    "dataset_name = 'prime'\n",
    "\n",
    "# Load the retrieval dataset\n",
    "qa_dataset = load_qa(dataset_name)"
   ],
   "id": "2bbf9b25bfaef6c9",
   "outputs": [
    {
     "name": "stdout",
     "output_type": "stream",
     "text": [
      "Use file from /Users/sbr/.cache/huggingface/hub/datasets--snap-stanford--stark/snapshots/7b0352c7dcefbf254478c203bcfdf284a08866ac/qa/prime/stark_qa/stark_qa_human_generated_eval.csv.\n"
     ]
    }
   ],
   "execution_count": 6
  },
  {
   "metadata": {
    "ExecuteTime": {
     "end_time": "2024-09-01T03:12:42.515101Z",
     "start_time": "2024-09-01T03:12:42.508642Z"
    }
   },
   "cell_type": "code",
   "source": [
    "qa_dataset.data"
   ],
   "id": "10fa0ea64b3c3321",
   "outputs": [
    {
     "data": {
      "text/plain": "          id                                              query  \\\n0          0  Could you identify any skin diseases associate...   \n1          1  What drugs target the CYP3A4 enzyme and are us...   \n2          2  What is the name of the condition characterize...   \n3          3  What drugs are used to treat epithelioid sarco...   \n4          4  Can you supply a compilation of genes and prot...   \n...      ...                                                ...   \n11199  11199  Which gene or protein is not expressed in fema...   \n11200  11200  Could you identify a biological pathway in whi...   \n11201  11201  Is there an interaction between genes or prote...   \n11202  11202  Which pharmacological agents that stimulate os...   \n11203  11203  Identify common genetic targets that serve as ...   \n\n            answer_ids  \n0              [95886]  \n1              [15450]  \n2       [98851, 98853]  \n3              [15698]  \n4        [7161, 22045]  \n...                ...  \n11199           [2414]  \n11200         [128199]  \n11201  [127611, 62903]  \n11202          [20180]  \n11203           [8094]  \n\n[11204 rows x 3 columns]",
      "text/html": "<div>\n<style scoped>\n    .dataframe tbody tr th:only-of-type {\n        vertical-align: middle;\n    }\n\n    .dataframe tbody tr th {\n        vertical-align: top;\n    }\n\n    .dataframe thead th {\n        text-align: right;\n    }\n</style>\n<table border=\"1\" class=\"dataframe\">\n  <thead>\n    <tr style=\"text-align: right;\">\n      <th></th>\n      <th>id</th>\n      <th>query</th>\n      <th>answer_ids</th>\n    </tr>\n  </thead>\n  <tbody>\n    <tr>\n      <th>0</th>\n      <td>0</td>\n      <td>Could you identify any skin diseases associate...</td>\n      <td>[95886]</td>\n    </tr>\n    <tr>\n      <th>1</th>\n      <td>1</td>\n      <td>What drugs target the CYP3A4 enzyme and are us...</td>\n      <td>[15450]</td>\n    </tr>\n    <tr>\n      <th>2</th>\n      <td>2</td>\n      <td>What is the name of the condition characterize...</td>\n      <td>[98851, 98853]</td>\n    </tr>\n    <tr>\n      <th>3</th>\n      <td>3</td>\n      <td>What drugs are used to treat epithelioid sarco...</td>\n      <td>[15698]</td>\n    </tr>\n    <tr>\n      <th>4</th>\n      <td>4</td>\n      <td>Can you supply a compilation of genes and prot...</td>\n      <td>[7161, 22045]</td>\n    </tr>\n    <tr>\n      <th>...</th>\n      <td>...</td>\n      <td>...</td>\n      <td>...</td>\n    </tr>\n    <tr>\n      <th>11199</th>\n      <td>11199</td>\n      <td>Which gene or protein is not expressed in fema...</td>\n      <td>[2414]</td>\n    </tr>\n    <tr>\n      <th>11200</th>\n      <td>11200</td>\n      <td>Could you identify a biological pathway in whi...</td>\n      <td>[128199]</td>\n    </tr>\n    <tr>\n      <th>11201</th>\n      <td>11201</td>\n      <td>Is there an interaction between genes or prote...</td>\n      <td>[127611, 62903]</td>\n    </tr>\n    <tr>\n      <th>11202</th>\n      <td>11202</td>\n      <td>Which pharmacological agents that stimulate os...</td>\n      <td>[20180]</td>\n    </tr>\n    <tr>\n      <th>11203</th>\n      <td>11203</td>\n      <td>Identify common genetic targets that serve as ...</td>\n      <td>[8094]</td>\n    </tr>\n  </tbody>\n</table>\n<p>11204 rows × 3 columns</p>\n</div>"
     },
     "execution_count": 7,
     "metadata": {},
     "output_type": "execute_result"
    }
   ],
   "execution_count": 7
  },
  {
   "cell_type": "code",
   "source": [
    "data_list = []\n",
    "with GraphDatabase.driver(NEO4J_URI, auth=(NEO4J_USERNAME, NEO4J_PASSWORD)) as driver:\n",
    "    for prompt in tqdm(qa_dataset.data['query'][:10]):\n",
    "        data_list.append(retrieve(prompt, driver))  "
   ],
   "metadata": {
    "colab": {
     "base_uri": "https://localhost:8080/"
    },
    "id": "flE-ptGNU1vn",
    "outputId": "46ec97d1-badd-44e1-b1bb-9a5b7f5756c7",
    "ExecuteTime": {
     "end_time": "2024-09-01T03:13:18.729918Z",
     "start_time": "2024-09-01T03:12:42.516002Z"
    }
   },
   "id": "flE-ptGNU1vn",
   "outputs": [
    {
     "name": "stderr",
     "output_type": "stream",
     "text": [
      "  0%|          | 0/10 [00:00<?, ?it/s]"
     ]
    },
    {
     "name": "stdout",
     "output_type": "stream",
     "text": [
      "generating edge embeddings\n"
     ]
    },
    {
     "name": "stderr",
     "output_type": "stream",
     "text": [
      " 10%|█         | 1/10 [00:01<00:15,  1.76s/it]"
     ]
    },
    {
     "name": "stdout",
     "output_type": "stream",
     "text": [
      "generating edge embeddings\n"
     ]
    },
    {
     "name": "stderr",
     "output_type": "stream",
     "text": [
      " 20%|██        | 2/10 [00:22<01:44, 13.10s/it]"
     ]
    },
    {
     "name": "stdout",
     "output_type": "stream",
     "text": [
      "generating edge embeddings\n"
     ]
    },
    {
     "name": "stderr",
     "output_type": "stream",
     "text": [
      " 30%|███       | 3/10 [00:24<00:55,  7.86s/it]"
     ]
    },
    {
     "name": "stdout",
     "output_type": "stream",
     "text": [
      "generating edge embeddings\n"
     ]
    },
    {
     "name": "stderr",
     "output_type": "stream",
     "text": [
      " 40%|████      | 4/10 [00:37<00:59,  9.87s/it]"
     ]
    },
    {
     "name": "stdout",
     "output_type": "stream",
     "text": [
      "generating edge embeddings\n"
     ]
    },
    {
     "name": "stderr",
     "output_type": "stream",
     "text": [
      " 50%|█████     | 5/10 [00:38<00:33,  6.71s/it]"
     ]
    },
    {
     "name": "stdout",
     "output_type": "stream",
     "text": [
      "generating edge embeddings\n"
     ]
    },
    {
     "name": "stderr",
     "output_type": "stream",
     "text": [
      " 60%|██████    | 6/10 [00:39<00:18,  4.69s/it]"
     ]
    },
    {
     "name": "stdout",
     "output_type": "stream",
     "text": [
      "generating edge embeddings\n"
     ]
    },
    {
     "name": "stderr",
     "output_type": "stream",
     "text": [
      " 70%|███████   | 7/10 [00:40<00:11,  3.67s/it]"
     ]
    },
    {
     "name": "stdout",
     "output_type": "stream",
     "text": [
      "generating edge embeddings\n"
     ]
    },
    {
     "name": "stderr",
     "output_type": "stream",
     "text": [
      " 80%|████████  | 8/10 [00:42<00:05,  2.98s/it]"
     ]
    },
    {
     "name": "stdout",
     "output_type": "stream",
     "text": [
      "generating edge embeddings\n"
     ]
    },
    {
     "name": "stderr",
     "output_type": "stream",
     "text": [
      " 90%|█████████ | 9/10 [00:43<00:02,  2.37s/it]"
     ]
    },
    {
     "name": "stdout",
     "output_type": "stream",
     "text": [
      "generating edge embeddings\n"
     ]
    },
    {
     "name": "stderr",
     "output_type": "stream",
     "text": [
      "100%|██████████| 10/10 [00:46<00:00,  4.63s/it]\n"
     ]
    }
   ],
   "execution_count": 8
  },
  {
   "cell_type": "code",
   "source": [
    "for d in data_list:\n",
    "    print(d)"
   ],
   "metadata": {
    "id": "7Zsc3oDGXR-c",
    "ExecuteTime": {
     "end_time": "2024-09-01T03:13:18.735990Z",
     "start_time": "2024-09-01T03:13:18.731779Z"
    }
   },
   "id": "7Zsc3oDGXR-c",
   "outputs": [
    {
     "name": "stdout",
     "output_type": "stream",
     "text": [
      "Data(x=[5, 1536], edge_index=[2, 3], edge_attr=[3, 1536], question='Could you identify any skin diseases associated with epithelial skin neoplasms? I've observed a tiny, yellowish lesion on sun-exposed areas of my face and neck, and I suspect it might be connected.', answer='', desc='')\n",
      "Data(x=[747, 1536], edge_index=[2, 2931], edge_attr=[2931, 1536], question='What drugs target the CYP3A4 enzyme and are used to treat strongyloidiasis?', answer='', desc='')\n",
      "Data(x=[4, 1536], edge_index=[2, 5], edge_attr=[5, 1536], question='What is the name of the condition characterized by a complete interruption of the inferior vena cava, falling under congenital vena cava anomalies?', answer='', desc='')\n",
      "Data(x=[1197, 1536], edge_index=[2, 2405], edge_attr=[2405, 1536], question='What drugs are used to treat epithelioid sarcoma and also affect the EZH2 gene product?', answer='', desc='')\n",
      "Data(x=[8, 1536], edge_index=[2, 13], edge_attr=[13, 1536], question='Can you supply a compilation of genes and proteins associated with endothelin B receptor interaction, involved in G alpha (q) signaling, and contributing to hypertension and ovulation-related biological functions?', answer='', desc='')\n",
      "Data(x=[4, 1536], edge_index=[2, 5], edge_attr=[5, 1536], question='What is the name of the disease that presents with a congenital blockage of the mitral valve and is categorized as a specific subtype or variation of congenital mitral malformation?', answer='', desc='')\n",
      "Data(x=[14, 1536], edge_index=[2, 27], edge_attr=[27, 1536], question='What is the medical diagnosis for a disorder associated with the FOSB gene, characterized by extreme aggressive episodes and destructive behavior due to poor impulse control, usually beginning after age 6 or during teenage years, with exaggerated verbal and physical reactions to environmental triggers?', answer='', desc='')\n",
      "Data(x=[47, 1536], edge_index=[2, 100], edge_attr=[100, 1536], question='What condition is linked to KCNJ2 mutations and features episodic paralysis and hypokalemia, often triggered by hyperthyroidism?', answer='', desc='')\n",
      "Data(x=[6, 1536], edge_index=[2, 7], edge_attr=[7, 1536], question='Please find genes and proteins interacting with the peroxisomal membrane and also involved in inhibiting mitochondrial outer membrane permeabilization, relevant to apoptotic signaling.', answer='', desc='')\n",
      "Data(x=[148, 1536], edge_index=[2, 472], edge_attr=[472, 1536], question='Which gene or protein is engaged in DCC-mediated attractive signaling, can bind to actin filaments, and belongs to the actin-binding LIM protein family?', answer='', desc='')\n"
     ]
    }
   ],
   "execution_count": 9
  },
  {
   "cell_type": "code",
   "execution_count": null,
   "outputs": [],
   "source": [],
   "metadata": {
    "collapsed": false
   }
  }
 ],
 "metadata": {
  "kernelspec": {
   "display_name": "Python 3 (ipykernel)",
   "language": "python",
   "name": "python3"
  },
  "language_info": {
   "codemirror_mode": {
    "name": "ipython",
    "version": 3
   },
   "file_extension": ".py",
   "mimetype": "text/x-python",
   "name": "python",
   "nbconvert_exporter": "python",
   "pygments_lexer": "ipython3",
   "version": "3.11.6"
  },
  "colab": {
   "provenance": []
  }
 },
 "nbformat": 4,
 "nbformat_minor": 5
}
