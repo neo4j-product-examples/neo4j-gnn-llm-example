{
 "cells": [
  {
   "cell_type": "code",
   "id": "initial_id",
   "metadata": {
    "collapsed": true,
    "jupyter": {
     "outputs_hidden": true
    },
    "colab": {
     "base_uri": "https://localhost:8080/"
    },
    "id": "initial_id",
    "outputId": "8d0cf051-7022-4169-fb5f-f98dd7d44f4b"
   },
   "source": [
    "%%capture\n",
    "%pip install torch torch_geometric stark-qa neo4j python-dotenv pcst_fast datasets pandas transformers langchain langchain-openai langchain-community"
   ],
   "outputs": [],
   "execution_count": null
  },
  {
   "metadata": {},
   "cell_type": "markdown",
   "source": [
    "## Setup"
   ],
   "id": "f27f805265507608"
  },
  {
   "metadata": {},
   "cell_type": "markdown",
   "source": [
    "load env variables"
   ],
   "id": "b9888993aa1c4114"
  },
  {
   "metadata": {
    "id": "d5f15c92d7faa635",
    "ExecuteTime": {
     "end_time": "2024-10-20T14:44:00.472567Z",
     "start_time": "2024-10-20T14:44:00.463302Z"
    }
   },
   "cell_type": "code",
   "source": [
    "from dotenv import load_dotenv\n",
    "import os\n",
    "\n",
    "load_dotenv('.env', override=True)\n",
    "NEO4J_URI = os.getenv('NEO4J_URI')\n",
    "NEO4J_USERNAME = os.getenv('NEO4J_USERNAME')\n",
    "NEO4J_PASSWORD = os.getenv('NEO4J_PASSWORD')\n",
    "\n",
    "OPENAI_API_KEY = os.getenv('OPENAI_API_KEY')"
   ],
   "id": "d5f15c92d7faa635",
   "outputs": [],
   "execution_count": 1
  },
  {
   "metadata": {},
   "cell_type": "markdown",
   "source": "Get stark-qa dataset",
   "id": "89557cc51eaa9b6f"
  },
  {
   "metadata": {
    "ExecuteTime": {
     "end_time": "2024-10-20T14:44:09.653247Z",
     "start_time": "2024-10-20T14:44:03.190790Z"
    }
   },
   "cell_type": "code",
   "source": [
    "from stark_qa import load_qa, load_skb\n",
    "\n",
    "dataset_name = 'prime'\n",
    "\n",
    "# Load the retrieval dataset\n",
    "qa_dataset = load_qa(dataset_name)"
   ],
   "id": "c2245ddc0486acec",
   "outputs": [
    {
     "name": "stdout",
     "output_type": "stream",
     "text": [
      "Use file from /Users/zachblumenfeld/.cache/huggingface/hub/datasets--snap-stanford--stark/snapshots/e3387ba9c873528521e125c3da687092d9872104/qa/prime/stark_qa/stark_qa_human_generated_eval_uncleaned.csv.\n"
     ]
    }
   ],
   "execution_count": 2
  },
  {
   "metadata": {
    "ExecuteTime": {
     "end_time": "2024-10-20T14:44:09.662177Z",
     "start_time": "2024-10-20T14:44:09.654644Z"
    }
   },
   "cell_type": "code",
   "source": "qa_dataset.data",
   "id": "72bb63449ed8c90",
   "outputs": [
    {
     "data": {
      "text/plain": [
       "          id                                              query  \\\n",
       "0          0  Could you identify any skin diseases associate...   \n",
       "1          1  What drugs target the CYP3A4 enzyme and are us...   \n",
       "2          2  What is the name of the condition characterize...   \n",
       "3          3  What drugs are used to treat epithelioid sarco...   \n",
       "4          4  Can you supply a compilation of genes and prot...   \n",
       "...      ...                                                ...   \n",
       "11199  11199  Which gene or protein is not expressed in fema...   \n",
       "11200  11200  Could you identify a biological pathway in whi...   \n",
       "11201  11201  Is there an interaction between genes or prote...   \n",
       "11202  11202  Which pharmacological agents that stimulate os...   \n",
       "11203  11203  Identify common genetic targets that serve as ...   \n",
       "\n",
       "            answer_ids  \n",
       "0              [95886]  \n",
       "1              [15450]  \n",
       "2       [98851, 98853]  \n",
       "3              [15698]  \n",
       "4        [7161, 22045]  \n",
       "...                ...  \n",
       "11199           [2414]  \n",
       "11200         [128199]  \n",
       "11201  [127611, 62903]  \n",
       "11202          [20180]  \n",
       "11203           [8094]  \n",
       "\n",
       "[11204 rows x 3 columns]"
      ],
      "text/html": [
       "<div>\n",
       "<style scoped>\n",
       "    .dataframe tbody tr th:only-of-type {\n",
       "        vertical-align: middle;\n",
       "    }\n",
       "\n",
       "    .dataframe tbody tr th {\n",
       "        vertical-align: top;\n",
       "    }\n",
       "\n",
       "    .dataframe thead th {\n",
       "        text-align: right;\n",
       "    }\n",
       "</style>\n",
       "<table border=\"1\" class=\"dataframe\">\n",
       "  <thead>\n",
       "    <tr style=\"text-align: right;\">\n",
       "      <th></th>\n",
       "      <th>id</th>\n",
       "      <th>query</th>\n",
       "      <th>answer_ids</th>\n",
       "    </tr>\n",
       "  </thead>\n",
       "  <tbody>\n",
       "    <tr>\n",
       "      <th>0</th>\n",
       "      <td>0</td>\n",
       "      <td>Could you identify any skin diseases associate...</td>\n",
       "      <td>[95886]</td>\n",
       "    </tr>\n",
       "    <tr>\n",
       "      <th>1</th>\n",
       "      <td>1</td>\n",
       "      <td>What drugs target the CYP3A4 enzyme and are us...</td>\n",
       "      <td>[15450]</td>\n",
       "    </tr>\n",
       "    <tr>\n",
       "      <th>2</th>\n",
       "      <td>2</td>\n",
       "      <td>What is the name of the condition characterize...</td>\n",
       "      <td>[98851, 98853]</td>\n",
       "    </tr>\n",
       "    <tr>\n",
       "      <th>3</th>\n",
       "      <td>3</td>\n",
       "      <td>What drugs are used to treat epithelioid sarco...</td>\n",
       "      <td>[15698]</td>\n",
       "    </tr>\n",
       "    <tr>\n",
       "      <th>4</th>\n",
       "      <td>4</td>\n",
       "      <td>Can you supply a compilation of genes and prot...</td>\n",
       "      <td>[7161, 22045]</td>\n",
       "    </tr>\n",
       "    <tr>\n",
       "      <th>...</th>\n",
       "      <td>...</td>\n",
       "      <td>...</td>\n",
       "      <td>...</td>\n",
       "    </tr>\n",
       "    <tr>\n",
       "      <th>11199</th>\n",
       "      <td>11199</td>\n",
       "      <td>Which gene or protein is not expressed in fema...</td>\n",
       "      <td>[2414]</td>\n",
       "    </tr>\n",
       "    <tr>\n",
       "      <th>11200</th>\n",
       "      <td>11200</td>\n",
       "      <td>Could you identify a biological pathway in whi...</td>\n",
       "      <td>[128199]</td>\n",
       "    </tr>\n",
       "    <tr>\n",
       "      <th>11201</th>\n",
       "      <td>11201</td>\n",
       "      <td>Is there an interaction between genes or prote...</td>\n",
       "      <td>[127611, 62903]</td>\n",
       "    </tr>\n",
       "    <tr>\n",
       "      <th>11202</th>\n",
       "      <td>11202</td>\n",
       "      <td>Which pharmacological agents that stimulate os...</td>\n",
       "      <td>[20180]</td>\n",
       "    </tr>\n",
       "    <tr>\n",
       "      <th>11203</th>\n",
       "      <td>11203</td>\n",
       "      <td>Identify common genetic targets that serve as ...</td>\n",
       "      <td>[8094]</td>\n",
       "    </tr>\n",
       "  </tbody>\n",
       "</table>\n",
       "<p>11204 rows × 3 columns</p>\n",
       "</div>"
      ]
     },
     "execution_count": 3,
     "metadata": {},
     "output_type": "execute_result"
    }
   ],
   "execution_count": 3
  },
  {
   "metadata": {},
   "cell_type": "markdown",
   "source": "## Vector Retriever",
   "id": "c1b87d80e573cd6d"
  },
  {
   "metadata": {
    "ExecuteTime": {
     "end_time": "2024-10-20T14:44:09.924461Z",
     "start_time": "2024-10-20T14:44:09.662862Z"
    }
   },
   "cell_type": "code",
   "source": [
    "import neo4j\n",
    "from neo4j_graphrag.embeddings.openai import OpenAIEmbeddings\n",
    "\n",
    "driver = neo4j.GraphDatabase.driver(NEO4J_URI, auth=(NEO4J_USERNAME, NEO4J_PASSWORD))\n",
    "\n",
    "#create text embedder\n",
    "embedder = OpenAIEmbeddings()"
   ],
   "id": "4d6fb4497185d8a1",
   "outputs": [],
   "execution_count": 4
  },
  {
   "metadata": {
    "ExecuteTime": {
     "end_time": "2024-10-20T14:44:12.637347Z",
     "start_time": "2024-10-20T14:44:09.949177Z"
    }
   },
   "cell_type": "code",
   "source": [
    "from neo4j_graphrag.retrievers import VectorRetriever\n",
    "\n",
    "vector_retriever = VectorRetriever(\n",
    "    driver,\n",
    "    index_name=\"text_embeddings\",\n",
    "    embedder=embedder,\n",
    "    return_properties=[\"details\", \"name\", \"nodeId\"],\n",
    ")"
   ],
   "id": "1e65485d87e2a5bd",
   "outputs": [],
   "execution_count": 5
  },
  {
   "metadata": {
    "ExecuteTime": {
     "end_time": "2024-10-20T14:44:12.683262Z",
     "start_time": "2024-10-20T14:44:12.639465Z"
    }
   },
   "cell_type": "code",
   "source": [
    "from neo4j_graphrag.llm import OpenAILLM as LLM\n",
    "from neo4j_graphrag.generation import RagTemplate\n",
    "from neo4j_graphrag.generation.graphrag import GraphRAG\n",
    "\n",
    "llm=LLM(\n",
    "    model_name=\"gpt-4o\",\n",
    "    model_params={\n",
    "        \"response_format\": {\"type\": \"json_object\"}, # use json_object formatting for best results\n",
    "        \"temperature\": 0, # turning temperature down for more deterministic results\n",
    "        \"seed\": 42\n",
    "    }\n",
    ")\n",
    "\n",
    "rag_template = RagTemplate(template='''\n",
    "Answer the Question using the following Context. Only respond with information mentioned in the Context. Do not inject any speculative information not mentioned. \n",
    "\n",
    "Return result as JSON using the following format:\n",
    "{{\"nodeIds\": [list of nodeIds containing the correct answers in order of probability highest to smallest], \"explanation\": \"written explanation as to why the node id answers were provided\"}}\n",
    "\n",
    "# Question:\n",
    "{query_text}\n",
    " \n",
    "# Context:\n",
    "{context}\n",
    "\n",
    "# Answer:\n",
    "''', expected_inputs=['query_text', 'context'])\n",
    "\n",
    "v_rag  = GraphRAG(llm=llm, retriever=vector_retriever, prompt_template=rag_template)"
   ],
   "id": "64f3c2d6367140a7",
   "outputs": [],
   "execution_count": 6
  },
  {
   "metadata": {
    "ExecuteTime": {
     "end_time": "2024-10-20T14:44:20.076953Z",
     "start_time": "2024-10-20T14:44:13.111258Z"
    }
   },
   "cell_type": "code",
   "source": [
    "q=qa_dataset.data['query'][0]\n",
    "print(q)\n",
    "\n",
    "v_res = v_rag.search(q, return_context=True, retriever_config={\"top_k\": 10})"
   ],
   "id": "e93164070799354f",
   "outputs": [
    {
     "name": "stdout",
     "output_type": "stream",
     "text": [
      "Could you identify any skin diseases associated with epithelial skin neoplasms? I've observed a tiny, yellowish lesion on sun-exposed areas of my face and neck, and I suspect it might be connected.\n"
     ]
    }
   ],
   "execution_count": 7
  },
  {
   "metadata": {
    "ExecuteTime": {
     "end_time": "2024-10-20T14:44:22.619922Z",
     "start_time": "2024-10-20T14:44:22.617771Z"
    }
   },
   "cell_type": "code",
   "source": [
    "import json\n",
    "\n",
    "print(json.dumps(eval(v_res.answer), indent=1))"
   ],
   "id": "24b15b2394f106d1",
   "outputs": [
    {
     "name": "stdout",
     "output_type": "stream",
     "text": [
      "{\n",
      " \"nodeIds\": [\n",
      "  96054,\n",
      "  96057,\n",
      "  98637,\n",
      "  39254\n",
      " ],\n",
      " \"explanation\": \"The tiny, yellowish lesion observed on sun-exposed areas of the face and neck could be associated with basal cell carcinoma, a type of epithelial skin neoplasm. The context provides information on various types of basal cell carcinoma, which often develop on sun-exposed parts of the body, especially the head and neck. These lesions can appear as pearly white, skin-colored, or pink bumps that are translucent, and tiny blood vessels are often visible. The nodeIds 96054, 96057, 98637, and 39254 all describe different variants of basal cell carcinoma, which are relevant to the symptoms described.\"\n",
      "}\n"
     ]
    }
   ],
   "execution_count": 8
  },
  {
   "metadata": {},
   "cell_type": "markdown",
   "source": "## Dynamic Cypher Retriever",
   "id": "da4493911aff0f68"
  },
  {
   "metadata": {},
   "cell_type": "markdown",
   "source": "### MATCH Statement Generator",
   "id": "93660ad5b857689d"
  },
  {
   "metadata": {
    "ExecuteTime": {
     "end_time": "2024-10-20T14:44:42.202349Z",
     "start_time": "2024-10-20T14:44:42.200469Z"
    }
   },
   "cell_type": "code",
   "source": [
    "# Uncomment to Re-get Schema\n",
    "#from neo4j_graphrag.schema import get_schema, get_structured_schema\n",
    "\n",
    "#print(get_schema(driver))"
   ],
   "id": "b76661ec16291541",
   "outputs": [],
   "execution_count": 9
  },
  {
   "metadata": {
    "ExecuteTime": {
     "end_time": "2024-10-20T14:44:43.186486Z",
     "start_time": "2024-10-20T14:44:43.183792Z"
    }
   },
   "cell_type": "code",
   "source": [
    "schema = \"\"\"(:Disease)-[:ASSOCIATED_WITH]->(:GeneOrProtein)\n",
    "(:Disease)-[:PARENT_CHILD]->(:Disease)\n",
    "(:Disease)-[:PHENOTYPE_ABSENT]->(:EffectOrPhenotype)\n",
    "(:Disease)-[:PHENOTYPE_PRESENT]->(:EffectOrPhenotype)\n",
    "(:Disease)-[:CONTRAINDICATION]->(:Drug)\n",
    "(:Disease)-[:INDICATION]->(:Drug)\n",
    "(:Disease)-[:OFF_LABEL_USE]->(:Drug)\n",
    "(:Disease)-[:LINKED_TO]->(:Exposure)\n",
    "(:GeneOrProtein)-[:ASSOCIATED_WITH]->(:Disease)\n",
    "(:GeneOrProtein)-[:ASSOCIATED_WITH]->(:EffectOrPhenotype)\n",
    "(:GeneOrProtein)-[:PPI]->(:GeneOrProtein)\n",
    "(:GeneOrProtein)-[:EXPRESSION_PRESENT]->(:Anatomy)\n",
    "(:GeneOrProtein)-[:INTERACTS_WITH]->(:MolecularFunction)\n",
    "(:GeneOrProtein)-[:INTERACTS_WITH]->(:Pathway)\n",
    "(:GeneOrProtein)-[:INTERACTS_WITH]->(:BiologicalProcess)\n",
    "(:GeneOrProtein)-[:INTERACTS_WITH]->(:CellularComponent)\n",
    "(:GeneOrProtein)-[:INTERACTS_WITH]->(:Exposure)\n",
    "(:GeneOrProtein)-[:TARGET]->(:Drug)\n",
    "(:GeneOrProtein)-[:EXPRESSION_ABSENT]->(:Anatomy)\n",
    "(:GeneOrProtein)-[:TRANSPORTER]->(:Drug)\n",
    "(:GeneOrProtein)-[:ENZYME]->(:Drug)\n",
    "(:GeneOrProtein)-[:CARRIER]->(:Drug)\n",
    "(:MolecularFunction)-[:PARENT_CHILD]->(:MolecularFunction)\n",
    "(:MolecularFunction)-[:INTERACTS_WITH]->(:GeneOrProtein)\n",
    "(:MolecularFunction)-[:INTERACTS_WITH]->(:Exposure)\n",
    "(:Drug)-[:CARRIER]->(:GeneOrProtein)\n",
    "(:Drug)-[:ENZYME]->(:GeneOrProtein)\n",
    "(:Drug)-[:TARGET]->(:GeneOrProtein)\n",
    "(:Drug)-[:TRANSPORTER]->(:GeneOrProtein)\n",
    "(:Drug)-[:CONTRAINDICATION]->(:Disease)\n",
    "(:Drug)-[:INDICATION]->(:Disease)\n",
    "(:Drug)-[:SYNERGISTIC_INTERACTION]->(:Drug)\n",
    "(:Drug)-[:SIDE_EFFECT]->(:EffectOrPhenotype)\n",
    "(:Drug)-[:OFF_LABEL_USE]->(:Disease)\n",
    "(:Pathway)-[:PARENT_CHILD]->(:Pathway)\n",
    "(:Pathway)-[:INTERACTS_WITH]->(:GeneOrProtein)\n",
    "(:Anatomy)-[:PARENT_CHILD]->(:Anatomy)\n",
    "(:Anatomy)-[:EXPRESSION_PRESENT]->(:GeneOrProtein)\n",
    "(:Anatomy)-[:EXPRESSION_ABSENT]->(:GeneOrProtein)\n",
    "(:EffectOrPhenotype)-[:PARENT_CHILD]->(:EffectOrPhenotype)\n",
    "(:EffectOrPhenotype)-[:PHENOTYPE_PRESENT]->(:Disease)\n",
    "(:EffectOrPhenotype)-[:PHENOTYPE_ABSENT]->(:Disease)\n",
    "(:EffectOrPhenotype)-[:ASSOCIATED_WITH]->(:GeneOrProtein)\n",
    "(:EffectOrPhenotype)-[:SIDE_EFFECT]->(:Drug)\n",
    "(:BiologicalProcess)-[:PARENT_CHILD]->(:BiologicalProcess)\n",
    "(:BiologicalProcess)-[:INTERACTS_WITH]->(:GeneOrProtein)\n",
    "(:BiologicalProcess)-[:INTERACTS_WITH]->(:Exposure)\n",
    "(:CellularComponent)-[:PARENT_CHILD]->(:CellularComponent)\n",
    "(:CellularComponent)-[:INTERACTS_WITH]->(:GeneOrProtein)\n",
    "(:CellularComponent)-[:INTERACTS_WITH]->(:Exposure)\n",
    "(:Exposure)-[:PARENT_CHILD]->(:Exposure)\n",
    "(:Exposure)-[:INTERACTS_WITH]->(:GeneOrProtein)\n",
    "(:Exposure)-[:INTERACTS_WITH]->(:BiologicalProcess)\n",
    "(:Exposure)-[:INTERACTS_WITH]->(:MolecularFunction)\n",
    "(:Exposure)-[:INTERACTS_WITH]->(:CellularComponent)\n",
    "(:Exposure)-[:LINKED_TO]->(:Disease)\"\"\""
   ],
   "id": "863e1b6a5ad8622",
   "outputs": [],
   "execution_count": 10
  },
  {
   "metadata": {
    "ExecuteTime": {
     "end_time": "2024-10-20T14:44:51.672838Z",
     "start_time": "2024-10-20T14:44:51.668432Z"
    }
   },
   "cell_type": "code",
   "source": [
    "access_patterns = [\n",
    "    {\n",
    "        \"pattern\": \"MATCH (n1:EffectOrPhenotype)-[r1:PHENOTYPE_ABSENT]->(n2:Disease)<-[r2:CONTRAINDICATION]-(n3:Drug)\",\n",
    "        \"questionType\": \"Find diseases with zero indication drug and are associated with <effect/phenotype>\"\n",
    "    },\n",
    "    {\n",
    "        \"pattern\": \"MATCH (n1:Drug)-[r1:CONTRAINDICATION]->(n2:Disease)<-[r2:ASSOCIATED_WITH]-(n3:GeneOrProtein)\",\n",
    "        \"questionType\": \"Identify diseases associated with <gene/protein> and are contraindicated with <drug>\"\n",
    "    },\n",
    "    {\n",
    "        \"pattern\": \"MATCH (n1:Anatomy)-[r1:EXPRESSION_PRESENT]->(n2:GeneOrProtein)<-[r2:EXPRESSION_ABSENT]-(n3:Anatomy)\",\n",
    "        \"questionType\": \"What gene or protein is expressed in <anatomy1> while is absent in <anatomy2>?\"\n",
    "    },\n",
    "    {\n",
    "        \"pattern\": \"MATCH (n1:Anatomy)-[r1:EXPRESSION_ABSENT]->(n2:GeneOrProtein)<-[r2:EXPRESSION_ABSENT]-(n3:Anatomy)\",\n",
    "        \"questionType\": \"What gene/protein is absent in both <anatomy1> and <anatomy2>?\"\n",
    "    },\n",
    "    {\n",
    "        \"pattern\": \"MATCH (n1:Drug)-[r1:CARRIER]->(n2:GeneOrProtein)<-[r2:CARRIER]-(n3:Drug)\",\n",
    "        \"questionType\": \"Which target genes are shared carriers between <drug1> and <drug2>?\"\n",
    "    },\n",
    "    {\n",
    "        \"pattern\": \"MATCH (n1:Anatomy)-[r1:EXPRESSION_PRESENT]->(n2:GeneOrProtein)-[r2:TARGET]->(n3:Drug)\",\n",
    "        \"questionType\": \"What is the drug that targets the genes or proteins which are expressed in <anatomy>?\"\n",
    "    },\n",
    "    {\n",
    "        \"pattern\": \"MATCH (n1:Drug)-[r1:SIDE_EFFECT]->(n2:EffectOrPhenotype)-[r2:SIDE_EFFECT]->(n3:Drug)\",\n",
    "        \"questionType\": \"What drug has common side effects as <drug>?\"\n",
    "    },\n",
    "    {\n",
    "        \"pattern\": \"MATCH (n1:Drug)-[r1:CARRIER]->(n2:GeneOrProtein)-[r2:CARRIER]->(n3:Drug)\",\n",
    "        \"questionType\": \"What is the drug that has common gene/protein carrier with <drug>?\"\n",
    "    },\n",
    "    {\n",
    "        \"pattern\": \"MATCH (n1:Anatomy)-[r1:EXPRESSION_PRESENT]->(n2:GeneOrProtein)-[r2:ENZYME]->(n3:Drug)\",\n",
    "        \"questionType\": \"What is the drug that some genes or proteins act as an enzyme upon, where the genes or proteins are expressed in <anatomy>?\"\n",
    "    },\n",
    "    {\n",
    "        \"pattern\": \"MATCH p=(n1:CellularComponent)-[r1:INTERACTS_WITH]->(n2:GeneOrProtein)-[r2:CARRIER]->(n3:Drug)\",\n",
    "        \"questionType\": \"What is the drug carried by genes or proteins that interact with <cellular_component>?\"\n",
    "    },\n",
    "    {\n",
    "        \"pattern\": \"MATCH (n1:MolecularFunction)-[r1:INTERACTS_WITH]->(n2:GeneOrProtein)-[r2:TARGET]->(n3:Drug)\",\n",
    "        \"questionType\": \"What drug targets the genes or proteins that interact with <molecular_function>?\"\n",
    "    },\n",
    "    {\n",
    "        \"pattern\": \"MATCH (n1:EffectOrPhenotype)-[r1:SIDE_EFFECT]->(n2:Drug)-[r2:SYNERGISTIC_INTERACTION]->(n3:Drug)\",\n",
    "        \"questionType\": \"What drug has a synergistic interaction with the drug that has <effect/phenotype> as a side effect?\"\n",
    "    },\n",
    "    {\n",
    "        \"pattern\": \"MATCH p=(n1:Disease)-[r1:INDICATION]->(n2:Drug)-[r2:CONTRAINDICATION]->(n3:Disease)\",\n",
    "        \"questionType\": \"What disease is a contraindication for the drugs indicated for <disease>?\"\n",
    "    },\n",
    "    {\n",
    "        \"pattern\": \"MATCH (n1:Disease)-[r1:PARENT_CHILD]->(n2:Disease)-[r2:PHENOTYPE_PRESENT]->(n3:EffectOrPhenotype)\",\n",
    "        \"questionType\": \"What effect or phenotype is present in the sub type of <disease>?\"\n",
    "    },\n",
    "    {\n",
    "        \"pattern\": \"MATCH (n1:GeneOrProtein)-[r1:TRANSPORTER]->(n2:Drug)-[r2:SIDE_EFFECT]->(n3:EffectOrPhenotype)\",\n",
    "        \"questionType\": \"What effect or phenotype is a [side effect] of the drug transported by <gene/protein>?\"\n",
    "    },\n",
    "    {\n",
    "        \"pattern\": \"MATCH (n1:Drug)-[r1:TRANSPORTER]->(n2:GeneOrProtein)-[r2:INTERACTS_WITH]->(n3:Exposure)\",\n",
    "        \"questionType\": \"What exposure may affect <drug>s efficacy by acting on its transporter genes?\"\n",
    "    },\n",
    "    {\n",
    "        \"pattern\": \"MATCH (n1:Pathway)-[r1:INTERACTS_WITH]->(n2:GeneOrProtein)-[r2:PPI]->(n3:GeneOrProtein)\",\n",
    "        \"questionType\": \"What gene/protein interacts with the gene/protein that related to <pathway>?\"\n",
    "    },\n",
    "    {\n",
    "        \"pattern\": \"MATCH (n1:Drug)-[r1:SYNERGISTIC_INTERACTION]->(n2:Drug)-[r2:TRANSPORTER]->(n3:GeneOrProtein)\",\n",
    "        \"questionType\": \"What gene or protein transports the drugs that have a synergistic interaction with <drug>?\"\n",
    "    },\n",
    "    {\n",
    "        \"pattern\": \"MATCH (n1:BiologicalProcess)-[r1:INTERACTS_WITH]->(n2:GeneOrProtein)-[r2:INTERACTS_WITH]->(n3:BiologicalProcess)\",\n",
    "        \"questionType\": \"What biological process has the common interactino pattern with gene or proteins as <biological_process>?\"\n",
    "    },\n",
    "    {\n",
    "        \"pattern\": \"MATCH (n1:EffectOrPhenotype)-[r1:ASSOCIATED_WITH]->(n2:GeneOrProtein)-[r2:INTERACTS_WITH]->(n3:BiologicalProcess)\",\n",
    "        \"questionType\": \"What biological process interacts with the gene/protein associated with <effect/phenotype>?\"\n",
    "    },\n",
    "    {\n",
    "        \"pattern\": \"MATCH p=(n1:Drug)-[r1:TRANSPORTER]->(n2:GeneOrProtein)-[r2:EXPRESSION_PRESENT]->(n3:Anatomy)\",\n",
    "        \"questionType\": \"What anatomy expressesed by the gene/protein that affect the transporter of <drug>?\"\n",
    "    },\n",
    "    {\n",
    "        \"pattern\": \"MATCH (n1:Drug)-[r1:TARGET]->(n2:GeneOrProtein)-[r2:INTERACTS_WITH]->(n3:CellularComponent)\",\n",
    "        \"questionType\": \"What cellular component interacts with genes or proteins targeted by <drug>?\"\n",
    "    },\n",
    "    {\n",
    "        \"pattern\": \"MATCH (n1:BiologicalProcess)-[r1:INTERACTS_WITH]->(n2:GeneOrProtein)-[r2:EXPRESSION_ABSENT]->(n3:Anatomy)\",\n",
    "        \"questionType\": \"What anatomy does not express the genes or proteins that interacts with <biological_process>?\"\n",
    "    },\n",
    "    {\n",
    "        \"pattern\": \"MATCH (n1:EffectOrPhenotype)-[r1:ASSOCIATED_WITH]->(n2:GeneOrProtein)-[r2:EXPRESSION_ABSENT]->(n3:Anatomy)\",\n",
    "        \"questionType\": \"What anatomy does not express the genes or proteins associated with <effect/phenotype>?\"\n",
    "    },\n",
    "    {\n",
    "        \"pattern\": \"MATCH (n1:Drug)-[r1:INDICATION]->(n2:Disease)-[r2:INDICATION]->(n3:Drug), (n1:Drug)-[r3:SYNERGISTIC_INTERACTION]->(n3:Drug)\",\n",
    "        \"questionType\": \"Find drugs that has a synergistic interaction with <drug> and both are indicated for the same disease.\"\n",
    "    },\n",
    "    {\n",
    "        \"pattern\": \"MATCH (n1:Pathway)-[r1:INTERACTS_WITH]->(n2:GeneOrProtein)-[r2:INTERACTS_WITH]->(n3:Pathway), (n1:Pathway)-[r3:PARENT_CHILD]->(n3:Pathway)\",\n",
    "        \"questionType\": \"Find pathway that is related with <pathway> and both can [interacts with] the same gene/protein.\"\n",
    "    },\n",
    "    {\n",
    "        \"pattern\": \"MATCH (n1:GeneOrProtein)-[r1:ASSOCIATED_WITH]->(n2:Disease)-[r2:ASSOCIATED_WITH]->(n3:GeneOrProtein), (n1:GeneOrProtein)-[r3:PPI]->(n3:GeneOrProtein)\",\n",
    "        \"questionType\": \"Find gene/protein that can interect with <gene/protein> and both are associated with the same disease.\"\n",
    "    },\n",
    "    {\n",
    "        \"pattern\": \"MATCH (n1:GeneOrProtein)-[r1:ASSOCIATED_WITH]->(n2:EffectOrPhenotype)-[r2:ASSOCIATED_WITH]->(n3:GeneOrProtein), (n1:GeneOrProtein)-[r3:PPI]->(n3:GeneOrProtein)\",\n",
    "        \"questionType\": \"Find gene/protein that can interect with <gene/protein> and both are associated with the same effect/phenotype.\"\n",
    "    }\n",
    "]"
   ],
   "id": "4ba9909ccbccca2e",
   "outputs": [],
   "execution_count": 12
  },
  {
   "metadata": {
    "ExecuteTime": {
     "end_time": "2024-10-20T18:53:54.476412Z",
     "start_time": "2024-10-20T18:53:54.471643Z"
    }
   },
   "cell_type": "code",
   "source": [
    "from langchain_core.prompts import PromptTemplate\n",
    "\n",
    "#TODO: Allow for Creation of New Patterns too\n",
    "MATCH_TEMPLATE = PromptTemplate.from_template(\"\"\"\n",
    "Task: From AccessPatterns, choose a questionType that best matches the Below Question. \n",
    "Return:\n",
    "- the questionType\n",
    "- associated pattern\n",
    "- nodeSearchTerms: For each node in `pattern`, determine if the node requires a specific search phrase/filter based on the question.  Return a separate nodeSearchTerms mapping in the stringified JSON form of '{{\"d1\":\"<search_prompt>\",\"d2\":\"<search_prompt>\"...}}'  For each node that requires a search phrase/filter. Not all nodes will require one based on the question. Avoid generic filters like \"condition\", \"disease\", or \"pathway\".\n",
    "- goodMatchFound\n",
    "- feedback\n",
    "\n",
    "\n",
    "If no match seems appropriate, provide feedback explaining why. \n",
    "Focus on matching intent and key concepts from the Question.\n",
    "\n",
    "\n",
    "# Question\n",
    "{question}\n",
    "\n",
    "# AccessPatterns\n",
    "{accessPatterns}\n",
    "\n",
    "# Chosen MATCH Statement:\n",
    "\"\"\")"
   ],
   "id": "e99e9bac89179c41",
   "outputs": [],
   "execution_count": 278
  },
  {
   "metadata": {
    "ExecuteTime": {
     "end_time": "2024-10-20T18:53:54.757513Z",
     "start_time": "2024-10-20T18:53:54.717450Z"
    }
   },
   "cell_type": "code",
   "source": [
    "from langchain_openai import ChatOpenAI\n",
    "\n",
    "\n",
    "cypher_llm = ChatOpenAI(\n",
    "    model_name=\"gpt-4o-mini\",\n",
    "    temperature=0, # turning temperature down for more deterministic results\n",
    "    seed=42)"
   ],
   "id": "60fe0c7f394703dd",
   "outputs": [],
   "execution_count": 279
  },
  {
   "metadata": {
    "ExecuteTime": {
     "end_time": "2024-10-20T18:53:54.984091Z",
     "start_time": "2024-10-20T18:53:54.977423Z"
    }
   },
   "cell_type": "code",
   "source": [
    "from typing import Dict\n",
    "from pydantic import BaseModel, Field\n",
    "\n",
    "class AccessPattern(BaseModel):\n",
    "    \"\"\"Access Pattern (Cypher Match Statement)\"\"\"\n",
    "    pattern: str = Field(description=\"The Match statement\")\n",
    "    nodeSearchTerms: str = Field(description=\"Search terms to use for each node, decomposed from the question\")\n",
    "    questionType: str = Field(description=\"the type of question\")\n",
    "    goodMatchFound: bool = Field(description=\"Does the MATCH Statement fit the question well?\")\n",
    "    matchFeedback: str = Field(description=\"feedback explaining why.\")\n",
    "\n",
    "match_llm = cypher_llm.with_structured_output(AccessPattern)"
   ],
   "id": "481c23bab5415609",
   "outputs": [],
   "execution_count": 280
  },
  {
   "metadata": {
    "ExecuteTime": {
     "end_time": "2024-10-20T18:53:55.328427Z",
     "start_time": "2024-10-20T18:53:55.326269Z"
    }
   },
   "cell_type": "code",
   "source": [
    "def gen_match_pattern(question:str):\n",
    "    prompt = MATCH_TEMPLATE.format(question=question, accessPatterns=json.dumps(access_patterns, indent=4), schema=schema)\n",
    "    #print(prompt)\n",
    "    match_pattern = match_llm.invoke(prompt)\n",
    "    return match_pattern"
   ],
   "id": "666cf19a2d1e68c3",
   "outputs": [],
   "execution_count": 281
  },
  {
   "metadata": {
    "ExecuteTime": {
     "end_time": "2024-10-20T18:54:15.590422Z",
     "start_time": "2024-10-20T18:53:55.593964Z"
    }
   },
   "cell_type": "code",
   "source": [
    "# test\n",
    "access_pattern_list = list()\n",
    "for q in qa_dataset.data[\"query\"][:10]:\n",
    "    print('==================')\n",
    "    print(q)\n",
    "    print('----')\n",
    "    ap = gen_match_pattern(q)\n",
    "    access_pattern_list.append(ap)\n",
    "    print(ap)"
   ],
   "id": "b2ecb362d20c90a4",
   "outputs": [
    {
     "name": "stdout",
     "output_type": "stream",
     "text": [
      "==================\n",
      "Could you identify any skin diseases associated with epithelial skin neoplasms? I've observed a tiny, yellowish lesion on sun-exposed areas of my face and neck, and I suspect it might be connected.\n",
      "----\n",
      "pattern='MATCH (n1:Disease)-[r1:PARENT_CHILD]->(n2:Disease)-[r2:PHENOTYPE_PRESENT]->(n3:EffectOrPhenotype)' nodeSearchTerms='{\"d1\":\"skin diseases\",\"d2\":\"epithelial skin neoplasms\"}' questionType='What effect or phenotype is present in the sub type of <disease>?' goodMatchFound=True matchFeedback='The question is focused on identifying skin diseases associated with epithelial skin neoplasms, which aligns well with the chosen pattern that explores the relationship between diseases and their associated phenotypes.'\n",
      "==================\n",
      "What drugs target the CYP3A4 enzyme and are used to treat strongyloidiasis?\n",
      "----\n",
      "pattern='MATCH (n1:Drug)-[r1:TARGET]->(n2:GeneOrProtein)-[r2:ENZYME]->(n3:Drug)' nodeSearchTerms='{\"n1\":\"CYP3A4\",\"n2\":\"strongyloidiasis\"}' questionType='What drugs target the CYP3A4 enzyme and are used to treat strongyloidiasis?' goodMatchFound=True matchFeedback='The chosen pattern directly addresses the question by focusing on drugs that target the CYP3A4 enzyme, which is relevant to the treatment of strongyloidiasis.'\n",
      "==================\n",
      "What is the name of the condition characterized by a complete interruption of the inferior vena cava, falling under congenital vena cava anomalies?\n",
      "----\n",
      "pattern='MATCH (n1:Disease)-[r1:PARENT_CHILD]->(n2:Disease)-[r2:PHENOTYPE_PRESENT]->(n3:EffectOrPhenotype)' nodeSearchTerms='{\"n1\":\"congenital vena cava anomalies\",\"n2\":\"inferior vena cava interruption\",\"n3\":\"condition\"}' questionType='What effect or phenotype is present in the sub type of <disease>?' goodMatchFound=False matchFeedback='The question is specifically asking for the name of a condition related to a specific anatomical anomaly, which does not align with the provided access patterns that focus on diseases and their associated effects or phenotypes.'\n",
      "==================\n",
      "What drugs are used to treat epithelioid sarcoma and also affect the EZH2 gene product?\n",
      "----\n",
      "pattern='MATCH (n1:Drug)-[r1:CONTRAINDICATION]->(n2:Disease)<-[r2:ASSOCIATED_WITH]-(n3:GeneOrProtein)' nodeSearchTerms='{\"n1\":\"drug for epithelioid sarcoma\",\"n2\":\"epithelioid sarcoma\",\"n3\":\"EZH2\"}' questionType='Identify diseases associated with <gene/protein> and are contraindicated with <drug>' goodMatchFound=True matchFeedback=\"The chosen pattern effectively identifies drugs that are contraindicated for diseases associated with the EZH2 gene product, which aligns with the question's focus on drugs for treating epithelioid sarcoma.\"\n",
      "==================\n",
      "Can you supply a compilation of genes and proteins associated with endothelin B receptor interaction, involved in G alpha (q) signaling, and contributing to hypertension and ovulation-related biological functions?\n",
      "----\n",
      "pattern='MATCH (n1:GeneOrProtein)-[r1:ASSOCIATED_WITH]->(n2:EffectOrPhenotype)-[r2:ASSOCIATED_WITH]->(n3:GeneOrProtein), (n1:GeneOrProtein)-[r3:PPI]->(n3:GeneOrProtein)' nodeSearchTerms='{\"n1\":\"endothelin B receptor interaction\",\"n2\":\"G alpha (q) signaling\",\"n3\":\"hypertension, ovulation\"}' questionType='Find gene/protein that can interect with <gene/protein> and both are associated with the same effect/phenotype.' goodMatchFound=True matchFeedback='The chosen pattern effectively captures the relationships between genes/proteins and their associations with biological functions, specifically focusing on the endothelin B receptor interaction and its involvement in G alpha (q) signaling, hypertension, and ovulation.'\n",
      "==================\n",
      "What is the name of the disease that presents with a congenital blockage of the mitral valve and is categorized as a specific subtype or variation of congenital mitral malformation?\n",
      "----\n",
      "pattern='MATCH (n1:Disease)-[r1:PARENT_CHILD]->(n2:Disease)-[r2:PHENOTYPE_PRESENT]->(n3:EffectOrPhenotype)' nodeSearchTerms='{\"n1\":\"congenital blockage of the mitral valve\",\"n2\":\"congenital mitral malformation\",\"n3\":\"disease\"}' questionType='What effect or phenotype is present in the sub type of <disease>?' goodMatchFound=True matchFeedback='The question is asking for a specific disease related to a congenital condition, which aligns well with the pattern that identifies subtypes of diseases and their associated phenotypes.'\n",
      "==================\n",
      "What is the medical diagnosis for a disorder associated with the FOSB gene, characterized by extreme aggressive episodes and destructive behavior due to poor impulse control, usually beginning after age 6 or during teenage years, with exaggerated verbal and physical reactions to environmental triggers?\n",
      "----\n",
      "pattern='MATCH (n1:GeneOrProtein)-[r1:ASSOCIATED_WITH]->(n2:Disease)-[r2:ASSOCIATED_WITH]->(n3:GeneOrProtein), (n1:GeneOrProtein)-[r3:PPI]->(n3:GeneOrProtein)' nodeSearchTerms='{\"n1\":\"FOSB\",\"n2\":\"disorder characterized by extreme aggressive episodes and destructive behavior due to poor impulse control\"}' questionType='Find gene/protein that can interect with <gene/protein> and both are associated with the same disease.' goodMatchFound=True matchFeedback='The question is focused on a disorder associated with the FOSB gene, which fits well with the pattern that identifies diseases associated with a specific gene. The node search terms are tailored to capture the specific gene and the characteristics of the disorder.'\n",
      "==================\n",
      "What condition is linked to KCNJ2 mutations and features episodic paralysis and hypokalemia, often triggered by hyperthyroidism?\n",
      "----\n",
      "pattern='MATCH (n1:GeneOrProtein)-[r1:ASSOCIATED_WITH]->(n2:Disease)' nodeSearchTerms='{\"n1\":\"KCNJ2 mutations\",\"n2\":\"episodic paralysis and hypokalemia\"}' questionType='Find diseases associated with <gene/protein>' goodMatchFound=True matchFeedback='The question is asking for a condition (disease) linked to KCNJ2 mutations, which fits well with the pattern that associates a gene/protein with a disease.'\n",
      "==================\n",
      "Please find genes and proteins interacting with the peroxisomal membrane and also involved in inhibiting mitochondrial outer membrane permeabilization, relevant to apoptotic signaling.\n",
      "----\n",
      "pattern='MATCH (n1:GeneOrProtein)-[r1:INTERACTS_WITH]->(n2:CellularComponent)-[r2:INTERACTS_WITH]->(n3:GeneOrProtein)' nodeSearchTerms='{\"n1\":\"peroxisomal membrane\",\"n2\":\"mitochondrial outer membrane\",\"n3\":\"apoptotic signaling\"}' questionType='Find genes and proteins interacting with <cellular_component> and involved in <biological_process>' goodMatchFound=True matchFeedback='The chosen pattern effectively captures the relationships between genes/proteins and cellular components, as well as their involvement in biological processes like apoptotic signaling.'\n",
      "==================\n",
      "Which gene or protein is engaged in DCC-mediated attractive signaling, can bind to actin filaments, and belongs to the actin-binding LIM protein family?\n",
      "----\n",
      "pattern='MATCH (n1:GeneOrProtein)-[r1:ASSOCIATED_WITH]->(n2:EffectOrPhenotype)-[r2:ASSOCIATED_WITH]->(n3:GeneOrProtein), (n1:GeneOrProtein)-[r3:PPI]->(n3:GeneOrProtein)' nodeSearchTerms='{\"n1\":\"DCC-mediated attractive signaling\",\"n2\":\"actin filaments\",\"n3\":\"actin-binding LIM protein family\"}' questionType='Find gene/protein that can interect with <gene/protein> and both are associated with the same effect/phenotype.' goodMatchFound=True matchFeedback='The question is focused on identifying a gene or protein involved in specific signaling and binding activities, which aligns well with the chosen pattern that connects genes/proteins with effects/phenotypes.'\n"
     ]
    }
   ],
   "execution_count": 282
  },
  {
   "metadata": {},
   "cell_type": "markdown",
   "source": "### Cypher Query Maker",
   "id": "f35471bcde5682ed"
  },
  {
   "metadata": {
    "ExecuteTime": {
     "end_time": "2024-10-20T18:54:15.596803Z",
     "start_time": "2024-10-20T18:54:15.591546Z"
    }
   },
   "cell_type": "code",
   "source": [
    "from typing import Tuple, Optional\n",
    "from pydantic import BaseModel\n",
    "import re\n",
    "\n",
    "p=\"(n1:EffectOrPhenotype)-[r1:PHENOTYPE_ABSENT]->(n2:Disease)<-[r2:!INDICATION]-(n3:Drug)\"\n",
    "\n",
    "class Head(BaseModel):\n",
    "    node: str = None\n",
    "    rel: Tuple[str, str, str, str] = None\n",
    "\n",
    "    def from_string(s:str):\n",
    "\n",
    "        if \":\" not in s:\n",
    "            return Head()\n",
    "        else:\n",
    "            node = s[:s.index(\":\")]\n",
    "            rel_pattern = re.findall('\\)(.*)\\[(.*):(.*)](.*)', s)\n",
    "            if len(rel_pattern) > 0:\n",
    "                return Head(node=node, rel=rel_pattern[0])\n",
    "            else:\n",
    "                return Head(node=node)\n",
    "\n",
    "    def make_where_part(self, ind:int) -> str:\n",
    "        return f'(elementId({self.node}) IN nodeIdsLists[{ind}])'\n",
    "    \n",
    "    def make_pre_filter_part(self, ind:iter) -> str:\n",
    "        return f'vector.similarity.cosine({self.node}.textEmbedding, $queryVectors[{ind}].queryVector) AS {self.node}Score'\n",
    "\n",
    "    def make_fact_part(self) -> str:\n",
    "        if self.node is None:\n",
    "            return ''\n",
    "        else:\n",
    "            fact_part = f'{self.node}.name +  \"{{\" + \"nodeId:\" + {self.node}.nodeId + \"}}\"'\n",
    "            if self.rel is not None:\n",
    "                fact_part = fact_part + f'+ \" {self.rel[0]} \" + type({self.rel[1]}) + \" {self.rel[3]} \"'\n",
    "\n",
    "        return fact_part\n",
    "\n",
    "    def make_details_part(self) -> str:\n",
    "        return f'collect(DISTINCT {self.node}.name +  \"{{\" + \"nodeId:\" + {self.node}.nodeId + \", details:\" +  {self.node}.details + \"}}\") AS {self.node}TextDetails'\n"
   ],
   "id": "d566c823d41c7899",
   "outputs": [],
   "execution_count": 283
  },
  {
   "metadata": {
    "ExecuteTime": {
     "end_time": "2024-10-20T18:54:15.605320Z",
     "start_time": "2024-10-20T18:54:15.597467Z"
    }
   },
   "cell_type": "code",
   "source": [
    "from typing import List\n",
    "\n",
    "POST_FILTER_QUERY = '''\n",
    "UNWIND $queryVectors AS q\n",
    "CALL(q) {\n",
    "  CALL db.index.vector.queryNodes(\"text_embeddings\", 10000, q.queryVector) YIELD node AS n, score\n",
    "  WHERE apoc.label.exists(n, q.label)\n",
    "  WITH n ORDER BY score DESC LIMIT 3000\n",
    "  RETURN collect(elementId(n)) AS nodeIds\n",
    "}\n",
    "WITH collect(nodeIds) AS nodeIdsLists'''\n",
    "\n",
    "def find_label(node:str, pattern: str) -> str:\n",
    "    labels = re.findall(f'\\({node}:(.*?)\\)', pattern)\n",
    "    if len(labels) > 0:\n",
    "        return labels[0]\n",
    "    else:\n",
    "        return '__Entity__'\n",
    "\n",
    "class GraphPattern(BaseModel):\n",
    "    heads: List[Head] = []\n",
    "    nodeSearchPrompts: List[Dict[str, str]] = []\n",
    "    pattern:str\n",
    "\n",
    "    def from_access_pattern(ap: AccessPattern):\n",
    "        node_search_terms: Dict = eval(ap.nodeSearchTerms)\n",
    "        node_search_prompts = [{'searchPrompt':v, 'label':find_label(k, ap.pattern), 'node':k} for k,v in node_search_terms.items()]\n",
    "        return GraphPattern.from_string(s=ap.pattern, node_search_prompts=node_search_prompts)\n",
    "\n",
    "\n",
    "    def from_string(s:str, node_search_prompts: List[Dict[str, str]] = []):\n",
    "        heads = []\n",
    "        for split in s.split(\"(\"):\n",
    "            if len(split) > 0:\n",
    "                h = Head.from_string(split)\n",
    "                if h.node is not None:\n",
    "                    heads.append(Head.from_string(split))\n",
    "        return GraphPattern(heads=heads, pattern=s, nodeSearchPrompts=node_search_prompts)\n",
    "\n",
    "    def make_where(self) -> str:\n",
    "        if len(self.nodeSearchPrompts) < 1:\n",
    "            return ''\n",
    "        res_list = []\n",
    "        filter_nodes = [d['node'] for d in self.nodeSearchPrompts]\n",
    "        nodes_used=[]\n",
    "        iter = 0\n",
    "        for head in self.heads:\n",
    "            if (head.node not in nodes_used) & (head.node in filter_nodes):\n",
    "                res_list.append(head.make_where_part(iter))\n",
    "                nodes_used.append(head.node)\n",
    "                iter+=1\n",
    "        return \"WHERE \" + \" AND \".join(res_list)\n",
    "    \n",
    "    def make_pre_filter(self):\n",
    "        if len(self.nodeSearchPrompts) < 1:\n",
    "            return ''\n",
    "        res_list = ['WITH *']\n",
    "        filter_nodes = [d['node'] for d in self.nodeSearchPrompts]\n",
    "        nodes_used=[]\n",
    "        iter = 0\n",
    "        for head in self.heads:\n",
    "            if (head.node not in nodes_used) & (head.node in filter_nodes):\n",
    "                res_list.append(head.make_pre_filter_part(iter))\n",
    "                nodes_used.append(head.node)\n",
    "                iter+=1\n",
    "                \n",
    "        pre_filter_body = ',\\n'.join(res_list)\n",
    "        return pre_filter_body + '\\n' + self.make_pre_filter_with()\n",
    "    \n",
    "    def make_pre_filter_with(self):\n",
    "        filter_nodes = [d['node'] for d in self.nodeSearchPrompts]\n",
    "        score_calc = '*'.join([f'{n}Score' for n in filter_nodes])\n",
    "        return f'WITH *, {score_calc} AS score ORDER BY score DESC LIMIT 60'\n",
    "\n",
    "    def make_facts(self) -> str:\n",
    "        fact_list = []\n",
    "        for head in self.heads:\n",
    "            fact_part = head.make_fact_part()\n",
    "            if len(fact_part) > 1:\n",
    "                fact_list.append(fact_part)\n",
    "        fact_ls = \" + \".join(fact_list)\n",
    "        \n",
    "        return f\"collect({fact_ls}) AS facts\"\n",
    "\n",
    "    def make_details(self) -> str:\n",
    "        res_list = []\n",
    "        nodes_used=[]\n",
    "        for head in self.heads:\n",
    "            if head.node not in nodes_used:\n",
    "                res_list.append(head.make_details_part())\n",
    "                nodes_used.append(head.node)\n",
    "        return \",\\n \".join(res_list)\n",
    "\n",
    "    def make_query(self) -> str:\n",
    "        if len(self.nodeSearchPrompts) < 1:\n",
    "            return f'''\n",
    "{self.pattern}\n",
    "RETURN {self.make_facts()} AS facts,\n",
    "{self.make_details()}\n",
    "'''\n",
    "        return f'''\n",
    "{POST_FILTER_QUERY}\n",
    "{self.pattern}\n",
    "{self.make_where()}\n",
    "{self.make_pre_filter()}\n",
    "RETURN {self.make_facts()},\n",
    "{self.make_details()}\n",
    "'''\n",
    "\n",
    "        "
   ],
   "id": "b86909f3ab37120d",
   "outputs": [],
   "execution_count": 284
  },
  {
   "metadata": {
    "ExecuteTime": {
     "end_time": "2024-10-20T18:54:15.609031Z",
     "start_time": "2024-10-20T18:54:15.606655Z"
    }
   },
   "cell_type": "code",
   "source": "access_pattern_list[3]",
   "id": "1016a54206465a3a",
   "outputs": [
    {
     "data": {
      "text/plain": [
       "AccessPattern(pattern='MATCH (n1:Drug)-[r1:CONTRAINDICATION]->(n2:Disease)<-[r2:ASSOCIATED_WITH]-(n3:GeneOrProtein)', nodeSearchTerms='{\"n1\":\"drug for epithelioid sarcoma\",\"n2\":\"epithelioid sarcoma\",\"n3\":\"EZH2\"}', questionType='Identify diseases associated with <gene/protein> and are contraindicated with <drug>', goodMatchFound=True, matchFeedback=\"The chosen pattern effectively identifies drugs that are contraindicated for diseases associated with the EZH2 gene product, which aligns with the question's focus on drugs for treating epithelioid sarcoma.\")"
      ]
     },
     "execution_count": 285,
     "metadata": {},
     "output_type": "execute_result"
    }
   ],
   "execution_count": 285
  },
  {
   "metadata": {
    "ExecuteTime": {
     "end_time": "2024-10-20T18:54:15.611057Z",
     "start_time": "2024-10-20T18:54:15.609676Z"
    }
   },
   "cell_type": "code",
   "source": [
    "access_pattern_ex = access_pattern_list[3]\n",
    "node_search_terms_ex = eval(access_pattern_ex.nodeSearchTerms)"
   ],
   "id": "beb20f9b3a9a3187",
   "outputs": [],
   "execution_count": 286
  },
  {
   "metadata": {
    "ExecuteTime": {
     "end_time": "2024-10-20T18:54:15.613519Z",
     "start_time": "2024-10-20T18:54:15.611659Z"
    }
   },
   "cell_type": "code",
   "source": [
    "# test\n",
    "\n",
    "gp = GraphPattern.from_access_pattern(access_pattern_ex)\n",
    "print(gp.make_query())"
   ],
   "id": "c99cc9d56846ac7",
   "outputs": [
    {
     "name": "stdout",
     "output_type": "stream",
     "text": [
      "\n",
      "\n",
      "UNWIND $queryVectors AS q\n",
      "CALL(q) {\n",
      "  CALL db.index.vector.queryNodes(\"text_embeddings\", 10000, q.queryVector) YIELD node AS n, score\n",
      "  WHERE apoc.label.exists(n, q.label)\n",
      "  WITH n ORDER BY score DESC LIMIT 3000\n",
      "  RETURN collect(elementId(n)) AS nodeIds\n",
      "}\n",
      "WITH collect(nodeIds) AS nodeIdsLists\n",
      "MATCH (n1:Drug)-[r1:CONTRAINDICATION]->(n2:Disease)<-[r2:ASSOCIATED_WITH]-(n3:GeneOrProtein)\n",
      "WHERE (elementId(n1) IN nodeIdsLists[0]) AND (elementId(n2) IN nodeIdsLists[1]) AND (elementId(n3) IN nodeIdsLists[2])\n",
      "WITH *,\n",
      "vector.similarity.cosine(n1.textEmbedding, $queryVectors[0].queryVector) AS n1Score,\n",
      "vector.similarity.cosine(n2.textEmbedding, $queryVectors[1].queryVector) AS n2Score,\n",
      "vector.similarity.cosine(n3.textEmbedding, $queryVectors[2].queryVector) AS n3Score\n",
      "WITH *, n1Score*n2Score*n3Score AS score ORDER BY score DESC LIMIT 60\n",
      "RETURN collect(n1.name +  \"{\" + \"nodeId:\" + n1.nodeId + \"}\"+ \" - \" + type(r1) + \" -> \" + n2.name +  \"{\" + \"nodeId:\" + n2.nodeId + \"}\"+ \" <- \" + type(r2) + \" - \" + n3.name +  \"{\" + \"nodeId:\" + n3.nodeId + \"}\") AS facts,\n",
      "collect(DISTINCT n1.name +  \"{\" + \"nodeId:\" + n1.nodeId + \", details:\" +  n1.details + \"}\") AS n1TextDetails,\n",
      " collect(DISTINCT n2.name +  \"{\" + \"nodeId:\" + n2.nodeId + \", details:\" +  n2.details + \"}\") AS n2TextDetails,\n",
      " collect(DISTINCT n3.name +  \"{\" + \"nodeId:\" + n3.nodeId + \", details:\" +  n3.details + \"}\") AS n3TextDetails\n",
      "\n"
     ]
    }
   ],
   "execution_count": 287
  },
  {
   "metadata": {
    "ExecuteTime": {
     "end_time": "2024-10-20T18:54:15.616625Z",
     "start_time": "2024-10-20T18:54:15.614342Z"
    }
   },
   "cell_type": "code",
   "source": "gp.nodeSearchPrompts",
   "id": "6058e3ae283f1678",
   "outputs": [
    {
     "data": {
      "text/plain": [
       "[{'searchPrompt': 'drug for epithelioid sarcoma',\n",
       "  'label': 'Drug',\n",
       "  'node': 'n1'},\n",
       " {'searchPrompt': 'epithelioid sarcoma', 'label': 'Disease', 'node': 'n2'},\n",
       " {'searchPrompt': 'EZH2', 'label': 'GeneOrProtein', 'node': 'n3'}]"
      ]
     },
     "execution_count": 288,
     "metadata": {},
     "output_type": "execute_result"
    }
   ],
   "execution_count": 288
  },
  {
   "metadata": {
    "ExecuteTime": {
     "end_time": "2024-10-20T18:54:15.619050Z",
     "start_time": "2024-10-20T18:54:15.617197Z"
    }
   },
   "cell_type": "code",
   "source": [
    "gp = GraphPattern.from_string(gp.pattern)\n",
    "print(gp.make_query())\n",
    "print(gp.nodeSearchPrompts)"
   ],
   "id": "f7065d38fc21df6c",
   "outputs": [
    {
     "name": "stdout",
     "output_type": "stream",
     "text": [
      "\n",
      "MATCH (n1:Drug)-[r1:CONTRAINDICATION]->(n2:Disease)<-[r2:ASSOCIATED_WITH]-(n3:GeneOrProtein)\n",
      "RETURN collect(n1.name +  \"{\" + \"nodeId:\" + n1.nodeId + \"}\"+ \" - \" + type(r1) + \" -> \" + n2.name +  \"{\" + \"nodeId:\" + n2.nodeId + \"}\"+ \" <- \" + type(r2) + \" - \" + n3.name +  \"{\" + \"nodeId:\" + n3.nodeId + \"}\") AS facts AS facts,\n",
      "collect(DISTINCT n1.name +  \"{\" + \"nodeId:\" + n1.nodeId + \", details:\" +  n1.details + \"}\") AS n1TextDetails,\n",
      " collect(DISTINCT n2.name +  \"{\" + \"nodeId:\" + n2.nodeId + \", details:\" +  n2.details + \"}\") AS n2TextDetails,\n",
      " collect(DISTINCT n3.name +  \"{\" + \"nodeId:\" + n3.nodeId + \", details:\" +  n3.details + \"}\") AS n3TextDetails\n",
      "\n",
      "[]\n"
     ]
    }
   ],
   "execution_count": 289
  },
  {
   "metadata": {},
   "cell_type": "markdown",
   "source": "### Data Retriever",
   "id": "2ab7d6420055c382"
  },
  {
   "metadata": {
    "ExecuteTime": {
     "end_time": "2024-10-20T18:54:20.712891Z",
     "start_time": "2024-10-20T18:54:15.619525Z"
    }
   },
   "cell_type": "code",
   "source": [
    "from langchain_openai import OpenAIEmbeddings\n",
    "from langchain_community.graphs import Neo4jGraph\n",
    "\n",
    "embedding_model = OpenAIEmbeddings(model=\"text-embedding-ada-002\")\n",
    "graph = Neo4jGraph()\n",
    "\n",
    "def retrieve(gp:GraphPattern):\n",
    "    query_vectors = [{'queryVector':embedding_model.embed_query(sp['searchPrompt']), 'label':sp['label'] } for sp in gp.nodeSearchPrompts]\n",
    "    query_results = graph.query(gp.make_query(), params={\"queryVectors\": query_vectors})\n",
    "    return query_results"
   ],
   "id": "e197cc5c80e2399",
   "outputs": [],
   "execution_count": 290
  },
  {
   "metadata": {
    "ExecuteTime": {
     "end_time": "2024-10-20T18:54:25.327599Z",
     "start_time": "2024-10-20T18:54:20.716475Z"
    }
   },
   "cell_type": "code",
   "source": [
    "gp = GraphPattern.from_access_pattern(access_pattern_ex)\n",
    "retrieve(gp)"
   ],
   "id": "44578b97e7585103",
   "outputs": [
    {
     "data": {
      "text/plain": [
       "[{'facts': ['Erlotinib{nodeId:14187} - CONTRAINDICATION -> liver cancer{nodeId:36634} <- ASSOCIATED_WITH - EZH2{nodeId:2768}',\n",
       "   'Erlotinib{nodeId:14187} - CONTRAINDICATION -> hepatocellular carcinoma{nodeId:29646} <- ASSOCIATED_WITH - EZH2{nodeId:2768}',\n",
       "   'Diethylstilbestrol{nodeId:14058} - CONTRAINDICATION -> prostate carcinoma{nodeId:35963} <- ASSOCIATED_WITH - EZH2{nodeId:2768}',\n",
       "   'Diethylstilbestrol{nodeId:14058} - CONTRAINDICATION -> endometrial carcinoma (disease){nodeId:35738} <- ASSOCIATED_WITH - EZH2{nodeId:2768}',\n",
       "   'Diethylstilbestrol{nodeId:14058} - CONTRAINDICATION -> liver cancer{nodeId:36634} <- ASSOCIATED_WITH - EZH2{nodeId:2768}',\n",
       "   'Diethylstilbestrol{nodeId:14058} - CONTRAINDICATION -> hepatocellular carcinoma{nodeId:29646} <- ASSOCIATED_WITH - EZH2{nodeId:2768}',\n",
       "   'Diethylstilbestrol{nodeId:14058} - CONTRAINDICATION -> endometrial cancer{nodeId:30827} <- ASSOCIATED_WITH - EZH2{nodeId:2768}',\n",
       "   'Erlotinib{nodeId:14187} - CONTRAINDICATION -> liver cancer{nodeId:36634} <- ASSOCIATED_WITH - ZIC2{nodeId:9875}',\n",
       "   'Ethinylestradiol{nodeId:14270} - CONTRAINDICATION -> prostate carcinoma{nodeId:35963} <- ASSOCIATED_WITH - EZH2{nodeId:2768}',\n",
       "   'Erlotinib{nodeId:14187} - CONTRAINDICATION -> liver cancer{nodeId:36634} <- ASSOCIATED_WITH - EPHX1{nodeId:4369}',\n",
       "   'Diethylstilbestrol{nodeId:14058} - CONTRAINDICATION -> hereditary breast ovarian cancer syndrome{nodeId:32617} <- ASSOCIATED_WITH - EZH2{nodeId:2768}',\n",
       "   'Teriparatide{nodeId:19663} - CONTRAINDICATION -> bone osteosarcoma{nodeId:31481} <- ASSOCIATED_WITH - EZH2{nodeId:2768}',\n",
       "   'Chlorotrianisene{nodeId:14814} - CONTRAINDICATION -> endometrial carcinoma (disease){nodeId:35738} <- ASSOCIATED_WITH - EZH2{nodeId:2768}',\n",
       "   'Diethylstilbestrol{nodeId:14058} - CONTRAINDICATION -> ovarian endometrioid adenocarcinoma{nodeId:37967} <- ASSOCIATED_WITH - ZEB1{nodeId:449}',\n",
       "   'Erlotinib{nodeId:14187} - CONTRAINDICATION -> liver cancer{nodeId:36634} <- ASSOCIATED_WITH - ZDHHC2{nodeId:21996}',\n",
       "   'Diethylstilbestrol{nodeId:14058} - CONTRAINDICATION -> prostate carcinoma{nodeId:35963} <- ASSOCIATED_WITH - EZR{nodeId:3974}',\n",
       "   'Diethylstilbestrol{nodeId:14058} - CONTRAINDICATION -> ovarian carcinosarcoma{nodeId:83816} <- ASSOCIATED_WITH - ZEB1{nodeId:449}',\n",
       "   'Ethinylestradiol{nodeId:14270} - CONTRAINDICATION -> endometrial carcinoma (disease){nodeId:35738} <- ASSOCIATED_WITH - EZH2{nodeId:2768}',\n",
       "   'Quinestrol{nodeId:16376} - CONTRAINDICATION -> endometrial carcinoma (disease){nodeId:35738} <- ASSOCIATED_WITH - EZH2{nodeId:2768}',\n",
       "   'Ethinylestradiol{nodeId:14270} - CONTRAINDICATION -> liver cancer{nodeId:36634} <- ASSOCIATED_WITH - EZH2{nodeId:2768}',\n",
       "   'Estradiol cypionate{nodeId:14481} - CONTRAINDICATION -> prostate carcinoma{nodeId:35963} <- ASSOCIATED_WITH - EZH2{nodeId:2768}',\n",
       "   'Erlotinib{nodeId:14187} - CONTRAINDICATION -> liver cancer{nodeId:36634} <- ASSOCIATED_WITH - ZIC5{nodeId:33994}',\n",
       "   'Estrone{nodeId:14211} - CONTRAINDICATION -> endometrial carcinoma (disease){nodeId:35738} <- ASSOCIATED_WITH - EZH2{nodeId:2768}',\n",
       "   'Testosterone{nodeId:14208} - CONTRAINDICATION -> prostate carcinoma{nodeId:35963} <- ASSOCIATED_WITH - EZH2{nodeId:2768}',\n",
       "   'Estradiol valerate{nodeId:14483} - CONTRAINDICATION -> prostate carcinoma{nodeId:35963} <- ASSOCIATED_WITH - EZH2{nodeId:2768}',\n",
       "   'Estrone{nodeId:14211} - CONTRAINDICATION -> liver cancer{nodeId:36634} <- ASSOCIATED_WITH - EZH2{nodeId:2768}',\n",
       "   'Diethylstilbestrol{nodeId:14058} - CONTRAINDICATION -> borderline epithelial tumor of ovary{nodeId:39615} <- ASSOCIATED_WITH - ZEB1{nodeId:449}',\n",
       "   'Estradiol{nodeId:14235} - CONTRAINDICATION -> prostate carcinoma{nodeId:35963} <- ASSOCIATED_WITH - EZH2{nodeId:2768}',\n",
       "   'Erlotinib{nodeId:14187} - CONTRAINDICATION -> hepatocellular carcinoma{nodeId:29646} <- ASSOCIATED_WITH - ZIC2{nodeId:9875}',\n",
       "   'Erlotinib{nodeId:14187} - CONTRAINDICATION -> liver cancer{nodeId:36634} <- ASSOCIATED_WITH - EGR1{nodeId:15}',\n",
       "   'Diethylstilbestrol{nodeId:14058} - CONTRAINDICATION -> prostate carcinoma{nodeId:35963} <- ASSOCIATED_WITH - ZIC2{nodeId:9875}',\n",
       "   'Erlotinib{nodeId:14187} - CONTRAINDICATION -> liver cancer{nodeId:36634} <- ASSOCIATED_WITH - ZNF23{nodeId:7159}',\n",
       "   'Erlotinib{nodeId:14187} - CONTRAINDICATION -> hepatocellular carcinoma{nodeId:29646} <- ASSOCIATED_WITH - EPHX1{nodeId:4369}',\n",
       "   'Diethylstilbestrol{nodeId:14058} - CONTRAINDICATION -> prostate carcinoma{nodeId:35963} <- ASSOCIATED_WITH - EPHX1{nodeId:4369}',\n",
       "   'Methyltestosterone{nodeId:14387} - CONTRAINDICATION -> prostate carcinoma{nodeId:35963} <- ASSOCIATED_WITH - EZH2{nodeId:2768}',\n",
       "   'Diethylstilbestrol{nodeId:14058} - CONTRAINDICATION -> ovarian clear cell adenocarcinoma{nodeId:37423} <- ASSOCIATED_WITH - ZEB1{nodeId:449}',\n",
       "   'Erlotinib{nodeId:14187} - CONTRAINDICATION -> liver cancer{nodeId:36634} <- ASSOCIATED_WITH - EHD3{nodeId:10619}',\n",
       "   'Estradiol cypionate{nodeId:14481} - CONTRAINDICATION -> endometrial carcinoma (disease){nodeId:35738} <- ASSOCIATED_WITH - EZH2{nodeId:2768}',\n",
       "   'Erlotinib{nodeId:14187} - CONTRAINDICATION -> liver cancer{nodeId:36634} <- ASSOCIATED_WITH - EFNB2{nodeId:961}',\n",
       "   'Diethylstilbestrol{nodeId:14058} - CONTRAINDICATION -> ovarian endometrioid adenocarcinoma{nodeId:37967} <- ASSOCIATED_WITH - DPH1{nodeId:5580}',\n",
       "   'Diethylstilbestrol{nodeId:14058} - CONTRAINDICATION -> yolk sac tumor{nodeId:36527} <- ASSOCIATED_WITH - ZEB1{nodeId:449}',\n",
       "   'Sirolimus{nodeId:14975} - CONTRAINDICATION -> lymphosarcoma{nodeId:83796} <- ASSOCIATED_WITH - EPHX1{nodeId:4369}',\n",
       "   'Clomifene{nodeId:14686} - CONTRAINDICATION -> endometrial carcinoma (disease){nodeId:35738} <- ASSOCIATED_WITH - EZH2{nodeId:2768}',\n",
       "   'Testosterone{nodeId:14208} - CONTRAINDICATION -> endometrial carcinoma (disease){nodeId:35738} <- ASSOCIATED_WITH - EZH2{nodeId:2768}',\n",
       "   'Estradiol valerate{nodeId:14483} - CONTRAINDICATION -> endometrial carcinoma (disease){nodeId:35738} <- ASSOCIATED_WITH - EZH2{nodeId:2768}',\n",
       "   'Methoxsalen{nodeId:15303} - CONTRAINDICATION -> carcinoma{nodeId:36240} <- ASSOCIATED_WITH - EZR{nodeId:3974}',\n",
       "   'Erlotinib{nodeId:14187} - CONTRAINDICATION -> liver cancer{nodeId:36634} <- ASSOCIATED_WITH - YTHDF2{nodeId:11168}',\n",
       "   'Erlotinib{nodeId:14187} - CONTRAINDICATION -> hepatocellular carcinoma{nodeId:29646} <- ASSOCIATED_WITH - ZDHHC2{nodeId:21996}',\n",
       "   'Testosterone{nodeId:14208} - CONTRAINDICATION -> liver cancer{nodeId:36634} <- ASSOCIATED_WITH - EZH2{nodeId:2768}',\n",
       "   'Erlotinib{nodeId:14187} - CONTRAINDICATION -> liver cancer{nodeId:36634} <- ASSOCIATED_WITH - CHN2{nodeId:7419}',\n",
       "   'Everolimus{nodeId:15176} - CONTRAINDICATION -> lymphosarcoma{nodeId:83796} <- ASSOCIATED_WITH - EPHX1{nodeId:4369}',\n",
       "   'Estradiol{nodeId:14235} - CONTRAINDICATION -> endometrial carcinoma (disease){nodeId:35738} <- ASSOCIATED_WITH - EZH2{nodeId:2768}',\n",
       "   'Diethylstilbestrol{nodeId:14058} - CONTRAINDICATION -> ovarian carcinosarcoma{nodeId:83816} <- ASSOCIATED_WITH - DPH1{nodeId:5580}',\n",
       "   'Erlotinib{nodeId:14187} - CONTRAINDICATION -> liver cancer{nodeId:36634} <- ASSOCIATED_WITH - ZIC4{nodeId:8901}',\n",
       "   'Erlotinib{nodeId:14187} - CONTRAINDICATION -> liver cancer{nodeId:36634} <- ASSOCIATED_WITH - PZP{nodeId:9249}',\n",
       "   'Chlorotrianisene{nodeId:14814} - CONTRAINDICATION -> endometrial cancer{nodeId:30827} <- ASSOCIATED_WITH - EZH2{nodeId:2768}',\n",
       "   'Estradiol{nodeId:14235} - CONTRAINDICATION -> liver cancer{nodeId:36634} <- ASSOCIATED_WITH - EZH2{nodeId:2768}',\n",
       "   'Diethylstilbestrol{nodeId:14058} - CONTRAINDICATION -> immature ovarian teratoma{nodeId:37047} <- ASSOCIATED_WITH - ZEB1{nodeId:449}',\n",
       "   'Diethylstilbestrol{nodeId:14058} - CONTRAINDICATION -> endometrial carcinoma (disease){nodeId:35738} <- ASSOCIATED_WITH - ZEB1{nodeId:449}',\n",
       "   'Ethinylestradiol{nodeId:14270} - CONTRAINDICATION -> hepatocellular carcinoma{nodeId:29646} <- ASSOCIATED_WITH - EZH2{nodeId:2768}'],\n",
       "  'n1TextDetails': [\"Erlotinib{nodeId:14187, details:{'description': 'Erlotinib is an inhibitor of the epidermal growth factor receptor (EGFR) tyrosine kinase that is used in the treatment of non-small cell lung cancer, pancreatic cancer and several other types of cancer. It is typically marketed under the trade name Tarceva. Erlotinib binds to the epidermal growth factor receptor (EGFR) tyrosine kinase in a reversible fashion at the adenosine triphosphate (ATP) binding site of the receptor. Recent studies demonstrate that erlotinib is also a potent inhibitor of JAK2V617F, which is a mutant form of tyrosine kinase JAK2 found in most patients with polycythemia vera (PV) and a substantial proportion of patients with idiopathic myelofibrosis or essential thrombocythemia. This finding introduces the potential use of erlotinib in the treatment of JAK2V617F-positive PV and other myeloproliferative disorders.', 'half_life': 'Median half-life of 36.2 hours.', 'indication': 'Erlotinib is indicated for:', 'mechanism_of_action': 'The mechanism of clinical antitumor action of erlotinib is not fully characterized. Erlotinib inhibits the intracellular phosphorylation of tyrosine kinase associated with the epidermal growth factor receptor (EGFR). Specificity of inhibition with regard to other tyrosine kinase receptors has not been fully characterized. EGFR is expressed on the cell surface of normal cells and cancer cells.', 'protein_binding': '93% protein bound to albumin and alpha-1 acid glycoprotein (AAG)', 'state': 'Erlotinib is a solid.', 'atc_1': 'Erlotinib is anatomically related to antineoplastic and immunomodulating agents.', 'atc_2': 'Erlotinib is in the therapeutic group of antineoplastic agents.', 'atc_3': 'Erlotinib is pharmacologically related to other antineoplastic agents.', 'atc_4': 'The chemical and functional group of  is protein kinase inhibitors.', 'category': 'Erlotinib is part of Antineoplastic Agents ; Antineoplastic and Immunomodulating Agents ; BCRP/ABCG2 Inhibitors ; Cytochrome P-450 CYP1A2 Substrates ; Cytochrome P-450 CYP1A2 Substrates with a Narrow Therapeutic Index ; Cytochrome P-450 CYP2C8 Inhibitors ; Cytochrome P-450 CYP2C8 Inhibitors (strong) ; Cytochrome P-450 CYP2C8 Substrates ; Cytochrome P-450 CYP2C8 Substrates with a Narrow Therapeutic Index ; Cytochrome P-450 CYP2D6 Substrates ; Cytochrome P-450 CYP2D6 Substrates with a Narrow Therapeutic Index ; Cytochrome P-450 CYP3A Inhibitors ; Cytochrome P-450 CYP3A Substrates ; Cytochrome P-450 CYP3A4 Inhibitors ; Cytochrome P-450 CYP3A4 Inhibitors (strength unknown) ; Cytochrome P-450 CYP3A4 Substrates ; Cytochrome P-450 CYP3A4 Substrates with a Narrow Therapeutic Index ; Cytochrome P-450 CYP3A5 Substrates ; Cytochrome P-450 CYP3A5 Substrates with a Narrow Therapeutic Index ; Cytochrome P-450 Enzyme Inhibitors ; Cytochrome P-450 Substrates ; Enzyme Inhibitors ; Heterocyclic Compounds, Fused-Ring ; Highest Risk QTc-Prolonging Agents ; Kinase Inhibitor ; Narrow Therapeutic Index Drugs ; P-glycoprotein inhibitors ; P-glycoprotein substrates ; P-glycoprotein substrates with a Narrow Therapeutic Index ; Protein Kinase Inhibitors ; QTc Prolonging Agents ; Quinazolines ; Tyrosine Kinase Inhibitors ; UGT1A1 Inhibitors.', 'group': 'Erlotinib is approved and investigational.', 'pathway': 'Erlotinib uses Erlotinib Action Pathway.', 'molecular_weight': 'The molecular weight is 393.44.', 'tpsa': 'Erlotinib has a topological polar surface area of 74.73.', 'clogp': 'The log p value of  is 4.19.'}}\",\n",
       "   'Diethylstilbestrol{nodeId:14058, details:{\\'description\\': \\'A synthetic nonsteroidal estrogen used in the treatment of menopausal and postmenopausal disorders. It was also used formerly as a growth promoter in animals. According to the Fourth Annual Report on Carcinogens (NTP 85-002, 1985), diethylstilbestrol has been listed as a known carcinogen. (Merck, 11th ed)\\', \\'indication\\': \\'Used in the treatment of prostate cancer. Previously used in the prevention of miscarriage or premature delivery in pregnant women prone to miscarriage or premature delivery.\\', \\'mechanism_of_action\\': \\'Estrogens diffuse into their target cells and interact with a protein receptor, the estrogen receptor. Target cells include the female reproductive tract, the mammary gland, the hypothalamus, and the pituitary. The effect of Estrogen binding their receptors causes downstream increases the hepatic synthesis of sex hormone binding globulin (SHBG), thyroid-binding globulin (TBG), and other serum proteins and suppress follicle-stimulating hormone (FSH) from the anterior pituitary. The combination of an estrogen with a progestin suppresses the hypothalamic-pituitary system, decreasing the secretion of gonadotropin-releasing hormone (GnRH).\\', \\'pharmacodynamics\\': \"Diethylstilbestrol is a synthetic estrogen that was developed to supplement a woman\\'s natural estrogen production. In 1971, the Food and Drug Administration (FDA) issued a Drug Bulletin advising physicians to stop prescribing DES to pregnant women because it was linked to a rare vaginal cancer in female offspring.\", \\'state\\': \\'Diethylstilbestrol is a solid.\\', \\'atc_1\\': \\'Diethylstilbestrol is anatomically related to antineoplastic and immunomodulating agents and genito urinary system and sex hormones and genito urinary system and sex hormones.\\', \\'atc_2\\': \\'Diethylstilbestrol is in the therapeutic group of endocrine therapy and sex hormones and modulators of the genital system and sex hormones and modulators of the genital system.\\', \\'atc_3\\': \\'Diethylstilbestrol is pharmacologically related to hormones and related agents and estrogens and estrogens.\\', \\'atc_4\\': \\'The chemical and functional group of  is estrogens and estrogens, combinations with other drugs and synthetic estrogens, plain.\\', \\'category\\': \\'Diethylstilbestrol is part of Adrenal Cortex Hormones ; Antineoplastic Agents, Hormonal ; Antineoplastic and Immunomodulating Agents ; BCRP/ABCG2 Inhibitors ; Benzene Derivatives ; Benzylidene Compounds ; BSEP/ABCB11 Substrates ; Carcinogens ; COMT Substrates ; Contraceptive Agents, Female ; Contraceptive Agents, Male ; Contraceptives, Postcoital ; Cytochrome P-450 CYP2C8 Inhibitors ; Cytochrome P-450 CYP2C8 Inhibitors (strength unknown) ; Cytochrome P-450 CYP2C8 Substrates ; Cytochrome P-450 CYP2C9 Inhibitors ; Cytochrome P-450 CYP2C9 Inhibitors (strength unknown) ; Cytochrome P-450 CYP2E1 Inhibitors ; Cytochrome P-450 CYP2E1 Inhibitors (strong) ; Cytochrome P-450 CYP3A Inhibitors ; Cytochrome P-450 CYP3A Substrates ; Cytochrome P-450 CYP3A4 Inhibitors ; Cytochrome P-450 CYP3A4 Inhibitors (strength unknown) ; Cytochrome P-450 CYP3A4 Substrates ; Cytochrome P-450 Enzyme Inhibitors ; Cytochrome P-450 Substrates ; Endocrine Therapy ; Estrogen Contraceptives ; Estrogens ; Estrogens, Non-Steroidal ; Genito Urinary System and Sex Hormones ; Hormonal Contraceptives for Systemic Use ; Hormones ; Hormones and Related Agents ; Hormones, Hormone Substitutes, and Hormone Antagonists ; Noxae ; OATP1B1/SLCO1B1 Inhibitors ; P-glycoprotein substrates ; Sex Hormones and Modulators of the Genital System ; Stilbenes ; Synthetic Estrogens, Plain ; Thyroxine-binding globulin inducers ; Toxic Actions.\\', \\'group\\': \\'Diethylstilbestrol is approved and investigational.\\', \\'molecular_weight\\': \\'The molecular weight is 268.36.\\', \\'tpsa\\': \\'Diethylstilbestrol has a topological polar surface area of 40.46.\\', \\'clogp\\': \\'The log p value of  is 4.96.\\'}}',\n",
       "   \"Ethinylestradiol{nodeId:14270, details:{'description': 'Ethinylestradiol was first synthesized in 1938 by Hans Herloff Inhoffen and Walter Hohlweg at Schering. It was developed in an effort to create an estrogen with greater oral bioavailability. These properties were achieved by the substitution of an ethinyl group at carbon 17 of. Ethinylestradiol soon replaced in contraceptive pills.', 'half_life': 'A 30µg oral dose has a half life of 8.4±4.8h and a 1.2mg topical dose has a half life of 27.7±34.2h.', 'indication': 'Ethinylestradiol is combined with other drugs for use as a contraceptive, premenstrual dysphoric disorder, moderate acne, moderate to severe vasomotor symptoms of menopause, prevention of postmenopausal osteoporosis.', 'mechanism_of_action': 'Ethinylestradiol is a synthetic estrogenic compound. Use of estrogens have a number of effects on the body including reduced bone density. Combined oral contraceptives suppress ovulation by suppressing gonadotrophic hormone, thickening cervical mucus to prevent the travel of sperm, and preventing changes in the endometrium required for implantation of a fertilized egg. Ethinylestradiol decreases luteinizing hormone, decreasing vascularity in the endometrium. It also increases sex hormone binding globulin.', 'protein_binding': 'Enthinylestradiol is 98.3-98.5% bound to albumin in serum but also exhibits binding to sex hormone binding globulin.', 'pharmacodynamics': 'Ethinylestradiol is a synthetic estrogen that decreases luteinizing hormone to decrease endometrial vascularization, and decreases gonadotrophic hormone to prevent ovulation. It has a long duration of action as it is taken once daily, and a wide therapeutic index as overdoses are generally not associated with serious adverse effects. Patients should be counselled regarding the risks of thrombotic events.', 'state': 'Ethinylestradiol is a solid.', 'atc_1': 'Ethinylestradiol is anatomically related to genito urinary system and sex hormones and antineoplastic and immunomodulating agents and genito urinary system and sex hormones and genito urinary system and sex hormones.', 'atc_2': 'Ethinylestradiol is in the therapeutic group of sex hormones and modulators of the genital system and endocrine therapy and sex hormones and modulators of the genital system and sex hormones and modulators of the genital system.', 'atc_3': 'Ethinylestradiol is pharmacologically related to hormonal contraceptives for systemic use and hormones and related agents and hormonal contraceptives for systemic use and estrogens.', 'atc_4': 'The chemical and functional group of  is progestogens and estrogens, fixed combinations and estrogens and progestogens and estrogens, sequential preparations and natural and semisynthetic estrogens, plain.', 'category': 'Ethinylestradiol is part of Adrenal Cortex Hormones ; Antineoplastic and Immunomodulating Agents ; BSEP/ABCB11 inducers ; BSEP/ABCB11 Inhibitors ; COMT Substrates ; Contraceptive Agents, Female ; Contraceptives, Oral ; Contraceptives, Postcoital ; Cytochrome P-450 CYP1A2 Substrates ; Cytochrome P-450 CYP2C19 Inhibitors ; Cytochrome P-450 CYP2C19 inhibitors (strength unknown) ; Cytochrome P-450 CYP2C8 Inhibitors ; Cytochrome P-450 CYP2C8 Inhibitors (strength unknown) ; Cytochrome P-450 CYP2C8 Substrates ; Cytochrome P-450 CYP2C9 Substrates ; Cytochrome P-450 CYP3A Substrates ; Cytochrome P-450 CYP3A4 Substrates ; Cytochrome P-450 CYP3A5 Substrates ; Cytochrome P-450 Enzyme Inhibitors ; Cytochrome P-450 Substrates ; Endocrine Therapy ; Estradiol Congeners ; Estrogen Contraceptives ; Estrogenic Steroids, Alkylated ; Estrogens ; Fused-Ring Compounds ; Genito Urinary System and Sex Hormones ; Gonadal Hormones ; Gonadal Steroid Hormones ; Hormonal Contraceptives for Systemic Use ; Hormones ; Hormones and Related Agents ; Hormones, Hormone Substitutes, and Hormone Antagonists ; Hyperglycemia-Associated Agents ; Natural and Semisynthetic Estrogens, Plain ; Norpregnanes ; Norpregnatrienes ; Norsteroids ; P-glycoprotein substrates ; Progestogens and Estrogens, Sequential Preparations ; Sex Hormones and Modulators of the Genital System ; Steroids ; Thyroxine-binding globulin inducers ; UGT1A1 Inducers ; UGT1A1 Substrates ; UGT1A4 substrates ; UGT1A9 Substrates ; UGT2B7 substrates.', 'group': 'Ethinylestradiol is approved.', 'molecular_weight': 'The molecular weight is 296.41.', 'tpsa': 'Ethinylestradiol has a topological polar surface area of 40.46.', 'clogp': 'The log p value of  is 3.68.'}}\",\n",
       "   \"Teriparatide{nodeId:19663, details:{'description': 'Teriparatide (recombinant human parathyroid hormone) is a potent anabolic agent used in the treatment of osteoporosis. It is manufactured and marketed by Eli Lilly and Company.', 'indication': 'For the treatment of osteoporosis in men and postmenopausal women who are at high risk for having a fracture. Also used to increase bone mass in men with primary or hypogonadal osteoporosis who are at high risk for fracture.', 'mechanism_of_action': 'Teriparatide is the portion of human parathyroid hormone (PTH), amino acid sequence 1 through 34 of the complete molecule which contains amino acid sequence 1 to 84. Endogenous PTH is the primary regulator of calcium and phosphate metabolism in bone and kidney. Daily injections of teriparatide stimulates new bone formation leading to increased bone mineral density.', 'pharmacodynamics': 'Clinical trials indicate that teriparatide increases predominantly trabecular bone in the lumbar spine and femoral neck; it has less significant effects at cortical sites. The combination of teriparatide with antiresorptive agents is not more effective than teriparatide monotherapy. The most common adverse effects associated with teriparatide include injection-site pain, nausea, headaches, leg cramps, and dizziness. After a maximum of two years of teriparatide therapy, the drug should be discontinued and antiresorptive therapy begun to maintain bone mineral density.', 'state': 'Teriparatide is a liquid.', 'atc_1': 'Teriparatide is anatomically related to systemic hormonal preparations, excl. sex hormones and insulins.', 'atc_2': 'Teriparatide is in the therapeutic group of calcium homeostasis.', 'atc_3': 'Teriparatide is pharmacologically related to parathyroid hormones and analogues.', 'atc_4': 'The chemical and functional group of  is parathyroid hormones and analogues.', 'category': 'Teriparatide is part of Amino Acids, Peptides, and Proteins ; Bone Anabolic Agents ; Bone Density Conservation Agents ; Calcium Homeostasis ; Calcium-Regulating Hormones and Agents ; Hormones ; Hormones, Hormone Substitutes, and Hormone Antagonists ; Parathyroid Agents ; Parathyroid Hormones and Analogues ; Peptide Hormones ; Peptides ; Systemic Hormonal Preparations, Excl. Sex Hormones and Insulins ; Thyroid Products.', 'group': 'Teriparatide is approved and investigational.', 'molecular_weight': 'The molecular weight is 4117.77.', 'tpsa': 'Teriparatide has a topological polar surface area of 1752.65.'}}\",\n",
       "   \"Chlorotrianisene{nodeId:14814, details:{'description': 'A powerful synthetic, non-steroidal estrogen. ', 'indication': 'Used to treat symptoms of menopause, deficiencies in ovary function (including underdevelopment of female sexual characteristics and some types of infertility), and in rare cases, prostate cancer. Chlorotrianisene may also be used to prevent breast engorgement following childbirth.', 'mechanism_of_action': 'Chlorotrianisene binds to the estrogen receptor on various estrogen receptor bearing cells. Target cells include cells in the female reproductive tract, the mammary gland, the hypothalamus, and the pituitary. Estrogens increase the hepatic synthesis of sex hormone binding globulin (SHBG), thyroid-binding globulin (TBG), and other serum proteins and suppress follicle-stimulating hormone (FSH) from the anterior pituitary.', 'protein_binding': '50-80%', 'pharmacodynamics': 'Chlorotrianisene is a nonsteroidal synthetic estrogen. After menopause, when the body no longer produces estrogen, chlorotrianisene is used as a simple replacement of estrogen. The estrogen-stimulated endometrium may bleed within 48-72 hours after discontinuance of estrogen therapy. Paradoxically, prolonged estrogen therapy may cause shrinkage of the endometrium and an increase in size of the myometrium. Estrogens have a weak anabolic effect and may cause sodium retention with associated fluid retention and edema. Estrogens may also decrease elevated blood cholesterol and phospholipid concentrations. Estrogens affect bone by increasing calcium deposition and accelerating epiphyseal closure, following initial growth stimulation. During the preovulatory or nonovulatory phase of the menstrual cycle, estrogen is the principal determinant in the onset of menstruation. A decline of estrogenic activity at the end of the menstrual cycle also may induce menstruation; however, the cessation of progesterone secretion is the most important factor during the mature ovulatory phase of the menstrual cycle. The benefit derived from estrogen therapy in the prevention of postpartum breast engorgement must be carefully weighed against the potential&nbsp;increased risk of puerperal thromboembolism&nbsp;associated with the use of large doses of estrogens.', 'state': 'Chlorotrianisene is a solid.', 'atc_1': 'Chlorotrianisene is anatomically related to genito urinary system and sex hormones.', 'atc_2': 'Chlorotrianisene is in the therapeutic group of sex hormones and modulators of the genital system.', 'atc_3': 'Chlorotrianisene is pharmacologically related to estrogens.', 'atc_4': 'The chemical and functional group of  is natural and semisynthetic estrogens, plain.', 'category': 'Chlorotrianisene is part of Antineoplastic Agents ; Antineoplastic Agents, Hormonal ; Benzene Derivatives ; Benzylidene Compounds ; Estrogens ; Estrogens, Non-Steroidal ; Genito Urinary System and Sex Hormones ; Hormones ; Hormones, Hormone Substitutes, and Hormone Antagonists ; Natural and Semisynthetic Estrogens, Plain ; Sex Hormones and Modulators of the Genital System ; Stilbenes.', 'group': 'Chlorotrianisene is investigational and withdrawn.', 'molecular_weight': 'The molecular weight is 380.87.', 'tpsa': 'Chlorotrianisene has a topological polar surface area of 27.69.', 'clogp': 'The log p value of  is 5.83.'}}\",\n",
       "   \"Quinestrol{nodeId:16376, details:{'description': 'The 3-cyclopentyl ether of ethinyl estradiol.', 'indication': 'Used in hormone replacement therapy, treating symptoms of menopause such as hot flashes. Also used to treat breast and prostate cancer.', 'mechanism_of_action': 'Estrogens diffuse into their target cells and interact with a protein receptor (the estrogen receptor). Estrogen interacts with a target cell receptor. When the estrogen receptor has bound its ligand it can enter the nucleus of the target cell, and regulate gene transcription which leads to formation of messenger RNA. The mRNA interacts with ribosomes to produce specific proteins that express the effect of estradiol upon the target cell. Estrogens increase the hepatic synthesis of sex hormone binding globulin (SHBG), thyroid-binding globulin (TBG), and other serum proteins and suppress follicle-stimulating hormone (FSH) from the anterior pituitary. Target cells include the female reproductive tract, the mammary gland, the hypothalamus, and the pituitary. Estrogens increase the hepatic synthesis of sex hormone binding globulin (SHBG), thyroid-binding globulin (TBG), and other serum proteins and suppress follicle-stimulating hormone (FSH) from the anterior pituitary. The combination of an estrogen with a progestin suppresses the hypothalamic-pituitary system, decreasing the secretion of gonadotropin-releasing hormone (GnRH).', 'pharmacodynamics': 'Quinestrol is the 3-cyclopentyl ether of ethinyl estradiol (the active metabolite). After gastrointestinal absorption, it is stored in adipose tissue where it is slowly released and metabolized principally to the parent compound, ethinyl estradiol. Ethinyl estradiol is a synthetic derivative of the natural estrogen estradiol.', 'state': 'Quinestrol is a solid.', 'category': 'Quinestrol is part of Estradiol Congeners ; Estrogenic Steroids, Alkylated ; Estrogens ; Ethinyl Estradiol ; Fused-Ring Compounds ; Gonadal Hormones ; Gonadal Steroid Hormones ; Hormones ; Hormones, Hormone Substitutes, and Hormone Antagonists ; Norpregnanes ; Norpregnatrienes ; Norsteroids ; Steroids ; Thyroxine-binding globulin inducers.', 'group': 'Quinestrol is approved.', 'molecular_weight': 'The molecular weight is 364.53.', 'tpsa': 'Quinestrol has a topological polar surface area of 29.46.', 'clogp': 'The log p value of  is 5.74.'}}\",\n",
       "   'Estradiol cypionate{nodeId:14481, details:{\\'description\\': \\'Estradiol Cypionate is a pro-drug ester of , a naturally occurring hormone that circulates endogenously within the human body. Estradiol is the most potent form of all mammalian estrogenic steroids and acts as the major female sex hormone. As a pro-drug of estradiol, estradiol cypionate therefore has the same downstream effects within the body through binding to the Estrogen Receptor (ER) including ERα and ERβ subtypes, which are located in various tissues and organs such as the breasts, uterus, ovaries, skin, prostate, bone, fat, and brain.\\', \\'indication\\': \\'Depo-Estradiol intramuscular depot injection is indicated for the treatment of moderate to severe vasomotor symptoms and hypoestrogenism due to hypogonadism.\\', \\'mechanism_of_action\\': \\'Estradiol enters target cells freely (e.g., female organs, breasts, hypothalamus, pituitary) and interacts with a target cell receptor. When the estrogen receptor has bound its ligand it can enter the nucleus of the target cell, and regulate gene transcription which leads to formation of messenger RNA. The mRNA interacts with ribosomes to produce specific proteins that express the effect of estradiol upon the target cell. Estrogens increase the hepatic synthesis of sex hormone binding globulin (SHBG), thyroid-binding globulin (TBG), and other serum proteins and suppress follicle-stimulating hormone (FSH) from the anterior pituitary.\\', \\'protein_binding\\': \\'Estrogens circulate in the blood largely bound to sex hormone binding globulin (SHBG) and albumin.\\', \\'pharmacodynamics\\': \"Estrogen mediates its effects across the body through potent agonism of the Estrogen Receptor (ER), which is located in various tissues including in the breasts, uterus, ovaries, skin, prostate, bone, fat, and brain. Estradiol binds to both subtypes of the Estrogen Receptor: Estrogen Receptor Alpha (ERα) and Estrogen Receptor Beta (ERβ). Estradiol also acts as a potent agonist of G Protein-coupled Estrogen Receptor (GPER), which has recently been recognized as a major mediator of estradiol\\'s rapid cellular effects. \", \\'category\\': \\'Estradiol cypionate is part of Adrenal Cortex Hormones ; BCRP/ABCG2 Inhibitors ; Contraceptive Agents, Female ; Cytochrome P-450 CYP1A2 Inhibitors ; Cytochrome P-450 CYP1A2 Inhibitors (strength unknown) ; Cytochrome P-450 CYP1A2 Substrates ; Cytochrome P-450 CYP2C19 Substrates ; Cytochrome P-450 CYP2C8 Substrates ; Cytochrome P-450 CYP2C9 Substrates ; Cytochrome P-450 CYP3A Inducers ; Cytochrome P-450 CYP3A Substrates ; Cytochrome P-450 CYP3A4 Inducers ; Cytochrome P-450 CYP3A4 Inducers (strength unknown) ; Cytochrome P-450 CYP3A4 Substrates ; Cytochrome P-450 CYP3A5 Substrates ; Cytochrome P-450 CYP3A7 Substrates ; Cytochrome P-450 Enzyme Inducers ; Cytochrome P-450 Enzyme Inhibitors ; Cytochrome P-450 Substrates ; Drugs that are Mainly Renally Excreted ; Estradiol Congeners ; Estranes ; Estrenes ; Estrogen Contraceptives ; Estrogens ; Fused-Ring Compounds ; Gonadal Hormones ; Gonadal Steroid Hormones ; Hormonal Contraceptives for Systemic Use ; Hormones ; Hormones, Hormone Substitutes, and Hormone Antagonists ; OATP1B1/SLCO1B1 Inhibitors ; OCT1 inhibitors ; OCT2 Inhibitors ; P-glycoprotein substrates ; Reproductive Control Agents ; Steroids ; Thyroxine-binding globulin inducers ; UGT1A1 Substrates.\\', \\'group\\': \\'Estradiol cypionate is approved and investigational and vet_approved.\\', \\'molecular_weight\\': \\'The molecular weight is 396.57.\\', \\'tpsa\\': \\'Estradiol cypionate has a topological polar surface area of 46.53.\\', \\'clogp\\': \\'The log p value of  is 7.35.\\'}}',\n",
       "   \"Estrone{nodeId:14211, details:{'description': 'Estrone, one of the major mammalian estrogens, is an aromatized C18 steroid with a 3-hydroxyl group and a 17-ketone. It is produced in vivo from androstenedione or from testosterone via estradiol. It is produced primarily in the ovaries, placenta, and in peripheral tissues (especially adipose tissue) through conversion of adrostenedione. Estrone may be further metabolized to 16-alpha-hydroxyestrone, which may be reduced to estriol by estradiol dehydrogenase.', 'half_life': 'The half-life is 19 hours', 'indication': 'For management of perimenopausal and postmenopausal symptoms.', 'mechanism_of_action': 'Estrogens enter the cells of responsive tissues (e.g. female organs, breasts, hypothalamus, pituitary) where they interact with estrogen receptors. Hormone-bound estrogen receptors dimerize, translocate to the nucleus of cells and bind to estrogen response elements (ERE) of genes. Binding to ERE alters the transcription rate of affected genes. Estrogens increase the hepatic synthesis of sex hormone binding globulin (SHBG), thyroid-binding globulin (TBG), and other serum proteins and suppress follicle-stimulating hormone (FSH) release from the anterior pituitary.', 'protein_binding': '> 95%', 'pharmacodynamics': 'Estrone, a synthetically prepared or naturally occurring steroidal estrogen obtained from pregnant equine urine, is the primary circulating estrogen after menopause. Estrone is naturally derived from the peripheral conversion of androstenedione by an aromatase enzyme found in adipose tissues and is converted to estradiol in peripheral tissues. The estrogenic potency of estrone is one third that of estradiol. Estropipate is piperazine-stabilized estrone sulfate. Estrone, and estropipate are used to treat abnormalities related to gonadotropin hormone dysfunction, vasomotor symptoms, atrophic vaginitis, and vulvar atrophy associated with menopause, and for the prevention of osteoporosis due to estrogen deficiency.', 'state': 'Estrone is a solid.', 'atc_1': 'Estrone is anatomically related to genito urinary system and sex hormones and genito urinary system and sex hormones.', 'atc_2': 'Estrone is in the therapeutic group of sex hormones and modulators of the genital system and sex hormones and modulators of the genital system.', 'atc_3': 'Estrone is pharmacologically related to estrogens and estrogens.', 'atc_4': 'The chemical and functional group of  is estrogens, combinations with other drugs and natural and semisynthetic estrogens, plain.', 'category': 'Estrone is part of 17-Ketosteroids ; Adrenal Cortex Hormones ; BCRP/ABCG2 Inhibitors ; Cytochrome P-450 CYP1A2 Substrates ; Cytochrome P-450 CYP2B6 Substrates ; Cytochrome P-450 CYP2C9 Substrates ; Cytochrome P-450 CYP2E1 Substrates ; Cytochrome P-450 CYP3A Substrates ; Cytochrome P-450 CYP3A4 Substrates ; Cytochrome P-450 CYP3A5 Substrates ; Cytochrome P-450 Substrates ; Estradiol Congeners ; Estranes ; Estrenes ; Estrogens ; Fused-Ring Compounds ; Genito Urinary System and Sex Hormones ; Gonadal Hormones ; Gonadal Steroid Hormones ; Hormones ; Hormones, Hormone Substitutes, and Hormone Antagonists ; Ketosteroids ; Natural and Semisynthetic Estrogens, Plain ; OAT3/SLC22A8 Substrates ; OATP1B1/SLCO1B1 Inhibitors ; P-glycoprotein inducers ; P-glycoprotein substrates ; Sex Hormones and Modulators of the Genital System ; Steroids ; Thyroxine-binding globulin inducers.', 'group': 'Estrone is approved.', 'pathway': 'Estrone uses Sulfite Oxidase Deficiency ; Estrone Metabolism ; Androgen and Estrogen Metabolism ; Aromatase Deficiency ; Sulfate/Sulfite Metabolism ; 17-beta Hydroxysteroid Dehydrogenase III Deficiency ; Androstenedione Metabolism.', 'molecular_weight': 'The molecular weight is 270.37.', 'tpsa': 'Estrone has a topological polar surface area of 37.3.', 'clogp': 'The log p value of  is 3.38.'}}\",\n",
       "   \"Testosterone{nodeId:14208, details:{'description': 'Testosterone is a steroid sex hormone indicated to treat primary hypogonadism and hypogonadotropic hypogonadism. Testosterone antagonizes the androgen receptor to induce gene expression that causes the growth and development of masculine sex organs and secondary sexual characteristics.', 'half_life': 'The half life of testosterone is highly variable, ranging from 10-100 minutes.', 'indication': 'Testosterone is indicated to treat primary hypogonadism and hypogonadotropic hypogonadism.', 'mechanism_of_action': 'The androgen receptor exists in the cytoplasm bound to the heat shock proteins HSP90, HSP70, and other chaperones. After binding to an androgen, the androgen receptor dissociates from HSP90 and undergoes a conformational change to slow the rate of dissociation from the androgen receptor. The androgen-receptor complex is transported into the nucleus where it binds to DNA and recruits other transcriptional regulators to form a pre-initiation complex and eventually induce expression of specific genes.', 'protein_binding': 'Testosterone is 40% bound to sex hormone binding globulin, 2% unbound, and the remainder is bound to albumin and other proteins.', 'pharmacodynamics': 'Testosterone antagonizes the androgen receptor to induce gene expression that causes the growth and development of masculine sex organs and secondary sexual characteristics. The duration of action of testosterone is variable from patient to patient with a half life of 10-100 minutes. The therapeutic index is wide considering the normal testosterone levels in an adult man range from 300-1000ng/dL. Counsel patients regarding the risk of secondary exposure of testosterone topical products to children.', 'state': 'Testosterone is a solid.', 'atc_1': 'Testosterone is anatomically related to genito urinary system and sex hormones and genito urinary system and sex hormones.', 'atc_2': 'Testosterone is in the therapeutic group of sex hormones and modulators of the genital system and sex hormones and modulators of the genital system.', 'atc_3': 'Testosterone is pharmacologically related to androgens and androgens and female sex hormones in combination.', 'atc_4': 'The chemical and functional group of  is 3-oxoandrosten (4) derivatives and androgens and estrogens.', 'category': 'Testosterone is part of 3-Oxoandrosten (4) Derivatives ; Androgens ; Androgens and Estrogens ; Androstanes ; Androstenes ; Androstenols ; BCRP/ABCG2 Substrates ; Cytochrome P-450 CYP2B6 Substrates ; Cytochrome P-450 CYP2C19 Substrates ; Cytochrome P-450 CYP2C8 Substrates ; Cytochrome P-450 CYP2C9 Substrates ; Cytochrome P-450 CYP3A Inducers ; Cytochrome P-450 CYP3A Substrates ; Cytochrome P-450 CYP3A4 Inducers ; Cytochrome P-450 CYP3A4 Inducers (strength unknown) ; Cytochrome P-450 CYP3A4 Substrates ; Cytochrome P-450 CYP3A5 Substrates ; Cytochrome P-450 CYP3A7 Substrates ; Cytochrome P-450 Enzyme Inducers ; Cytochrome P-450 Substrates ; Drugs that are Mainly Renally Excreted ; Fused-Ring Compounds ; Genito Urinary System and Sex Hormones ; Gonadal Hormones ; Gonadal Steroid Hormones ; Hormones ; Hormones, Hormone Substitutes, and Hormone Antagonists ; OAT3/SLC22A8 Inducers ; OATP1B3 substrates ; P-glycoprotein inhibitors ; Sex Hormones and Modulators of the Genital System ; Steroids ; Testosterone and derivatives ; Testosterone Congeners ; Thyroxine-binding globulin inhibitors.', 'group': 'Testosterone is approved and investigational.', 'pathway': 'Testosterone uses 17-beta Hydroxysteroid Dehydrogenase III Deficiency ; Androstenedione Metabolism ; Androgen and Estrogen Metabolism ; Aromatase Deficiency.', 'molecular_weight': 'The molecular weight is 288.43.', 'tpsa': 'Testosterone has a topological polar surface area of 37.3.', 'clogp': 'The log p value of  is 3.41.'}}\",\n",
       "   'Estradiol valerate{nodeId:14483, details:{\\'description\\': \\'Estradiol Valerate (also known as E2V) is a pro-drug ester of , a naturally occurring hormone that circulates endogenously within the human body. Estradiol is the most potent form of all mammalian estrogenic steroids and acts as the major female sex hormone. As a pro-drug of estradiol, estradiol acetate therefore has the same downstream effects within the body through binding to the Estrogen Receptor (ER) including ERα and ERβ subtypes, which are located in various tissues including in the breasts, uterus, ovaries, skin, prostate, bone, fat, and brain.\\', \\'indication\\': \\'Estradiol valerate is commercially available as an intramuscular injection as the product Delestrogen and is indicated for the treatment of moderate to severe vasomotor symptoms and vulvovaginal atrophy due to menopause, for the treatment of hypoestrogenism due to hypogonadism, castration or primary ovarian failure, and for the treatment of advanced androgen-dependent carcinoma of the prostate (for palliation only). \\', \\'mechanism_of_action\\': \\'Estradiol enters target cells freely (e.g., female organs, breasts, hypothalamus, pituitary) and interacts with a target cell receptor. When the estrogen receptor has bound its ligand it can enter the nucleus of the target cell, and regulate gene transcription which leads to formation of messenger RNA. The mRNA interacts with ribosomes to produce specific proteins that express the effect of estradiol upon the target cell. Estrogens increase the hepatic synthesis of sex hormone binding globulin (SHBG), thyroid-binding globulin (TBG), and other serum proteins and suppress follicle-stimulating hormone (FSH) from the anterior pituitary.\\', \\'pharmacodynamics\\': \"Estrogen mediates its effects across the body through potent agonism of the Estrogen Receptor (ER), which is located in various tissues including in the breasts, uterus, ovaries, skin, prostate, bone, fat, and brain. Estradiol binds to both subtypes of the Estrogen Receptor: Estrogen Receptor Alpha (ERα) and Estrogen Receptor Beta (ERβ). Estradiol also acts as a potent agonist of G Protein-coupled Estrogen Receptor (GPER), which has recently been recognized as a major mediator of estradiol\\'s rapid cellular effects. \", \\'category\\': \\'Estradiol valerate is part of Adrenal Cortex Hormones ; BCRP/ABCG2 Inhibitors ; Contraceptive Agents, Female ; Cytochrome P-450 CYP1A2 Inhibitors ; Cytochrome P-450 CYP1A2 Inhibitors (strength unknown) ; Cytochrome P-450 CYP1A2 Substrates ; Cytochrome P-450 CYP2C19 Substrates ; Cytochrome P-450 CYP2C8 Substrates ; Cytochrome P-450 CYP2C9 Substrates ; Cytochrome P-450 CYP3A Inducers ; Cytochrome P-450 CYP3A Substrates ; Cytochrome P-450 CYP3A4 Inducers ; Cytochrome P-450 CYP3A4 Inducers (strength unknown) ; Cytochrome P-450 CYP3A4 Substrates ; Cytochrome P-450 CYP3A5 Substrates ; Cytochrome P-450 CYP3A7 Substrates ; Cytochrome P-450 Enzyme Inducers ; Cytochrome P-450 Enzyme Inhibitors ; Cytochrome P-450 Substrates ; Drugs that are Mainly Renally Excreted ; Estradiol Congeners ; Estradiol, agonists ; Estranes ; Estrenes ; Estrogen Contraceptives ; Estrogens ; Fused-Ring Compounds ; Gonadal Hormones ; Gonadal Steroid Hormones ; Hormonal Contraceptives for Systemic Use ; Hormones ; Hormones, Hormone Substitutes, and Hormone Antagonists ; OATP1B1/SLCO1B1 Inhibitors ; OCT1 inhibitors ; OCT2 Inhibitors ; P-glycoprotein substrates ; Steroids ; Thyroxine-binding globulin inducers ; UGT1A1 Substrates.\\', \\'group\\': \\'Estradiol valerate is approved and investigational and vet_approved.\\', \\'molecular_weight\\': \\'The molecular weight is 356.51.\\', \\'tpsa\\': \\'Estradiol valerate has a topological polar surface area of 46.53.\\', \\'clogp\\': \\'The log p value of  is 6.32.\\'}}',\n",
       "   \"Estradiol{nodeId:14235, details:{'description': 'Estradiol is a naturally occurring hormone circulating endogenously in females. It is commercially available in several hormone therapy products for managing conditions associated with reduced estrogen, such as vulvovaginal atrophy and hot flashes. Some available forms of estradiol include oral tablets, injections, vaginal rings, transdermal patches, sprays, gels, and creams. ', 'half_life': 'The terminal half-lives for various estrogen products post oral or intravenous administration has been reported to range from 1-12 hours. One pharmacokinetic study of oral estradiol valerate administration in postmenopausal women revealed a terminal elimination half-life of 16.9 ± 6.0 h. A pharmacokinetic study of intravenous estradiol administration in postmenopausal women showed an elimination half-life of 27.45 ± 5.65 minutes. The half-life of estradiol appears to vary by route of administration.', 'indication': 'Estradiol is indicated in various preparations for the treatment of moderate to severe vasomotor symptoms and vulvar and vaginal atrophy due to menopause, for the treatment of hypoestrogenism due to hypogonadism, castration, or primary ovarian failure, and for the prevention of postmenopausal osteoporosis. It is also used for the treatment of breast cancer (only for palliation therapy) in certain men or women with metastatic disease, and for the treatment of androgen-dependent prostate cancer (only for palliation therapy). It is also used in combination with other hormones as a component of oral contraceptive pills for preventing pregnancy (most commonly as , a synthetic form of estradiol).', 'mechanism_of_action': 'Estrogen is found in the the breast, uterine, ovarian, skin, prostate, bone, fat, and brain tissues. The main source of estrogen in adult women during the reproductive period of life is the ovarian follicle, which secretes 70 to 500 mcg of estradiol each day. After menopause, however, the majority of endogenous estrogen is produced by transformation of androstenedione (which is secreted by the adrenal cortex) to estrone in the peripheral tissues. Both estrone and its sulphate conjugated form, estrone sulphate, represent the most abundant estrogens found in postmenopausal women. ', 'protein_binding': 'More than 95% of estrogens are found to circulate in the blood bound to sex hormone binding globulin (SHBG) and albumin.', 'pharmacodynamics': 'Estradiol acts on the on the estrogen receptors to relieve vasomotor systems (such as hot flashes) and urogenital symptoms (such as vaginal dryness and dyspareunia).', 'state': 'Estradiol is a solid.', 'atc_1': 'Estradiol is anatomically related to genito urinary system and sex hormones and genito urinary system and sex hormones and genito urinary system and sex hormones and genito urinary system and sex hormones and genito urinary system and sex hormones and genito urinary system and sex hormones and genito urinary system and sex hormones and genito urinary system and sex hormones.', 'atc_2': 'Estradiol is in the therapeutic group of sex hormones and modulators of the genital system and sex hormones and modulators of the genital system and sex hormones and modulators of the genital system and sex hormones and modulators of the genital system and sex hormones and modulators of the genital system and sex hormones and modulators of the genital system and sex hormones and modulators of the genital system and other gynecologicals.', 'atc_3': 'Estradiol is pharmacologically related to progestogens and estrogens in combination and estrogens and progestogens and estrogens in combination and androgens and female sex hormones in combination and hormonal contraceptives for systemic use and hormonal contraceptives for systemic use and antiandrogens and contraceptives for topical use.', 'atc_4': 'The chemical and functional group of  is progestogens and estrogens, fixed combinations and natural and semisynthetic estrogens, plain and progestogens and estrogens, sequential preparations and androgens and estrogens and progestogens and estrogens, fixed combinations and progestogens and estrogens, sequential preparations and antiandrogens and estrogens and intravaginal contraceptives.', 'category': 'Estradiol is part of Adrenal Cortex Hormones ; Androgens and Estrogens ; Antiandrogens and Estrogens ; BCRP/ABCG2 Inhibitors ; COMT Substrates ; Contraceptive Agents, Female ; Contraceptives, Oral ; Cytochrome P-450 CYP1A2 Inhibitors ; Cytochrome P-450 CYP1A2 Inhibitors (strength unknown) ; Cytochrome P-450 CYP1A2 Substrates ; Cytochrome P-450 CYP2C19 Substrates ; Cytochrome P-450 CYP2C8 Substrates ; Cytochrome P-450 CYP2C9 Substrates ; Cytochrome P-450 CYP3A Substrates ; Cytochrome P-450 CYP3A4 Substrates ; Cytochrome P-450 CYP3A5 Substrates ; Cytochrome P-450 CYP3A7 Substrates ; Cytochrome P-450 Enzyme Inhibitors ; Cytochrome P-450 Substrates ; Drugs that are Mainly Renally Excreted ; Estradiol Congeners ; Estradiol, agonists ; Estranes ; Estrenes ; Estrogen Contraceptives ; Estrogens ; Estrogens, agonists ; Fused-Ring Compounds ; Genito Urinary System and Sex Hormones ; Gonadal Hormones ; Gonadal Steroid Hormones ; Hormonal Contraceptives for Systemic Use ; Hormones ; Hormones, Hormone Substitutes, and Hormone Antagonists ; Intravaginal Contraceptives ; Natural and Semisynthetic Estrogens, Plain ; OAT3/SLC22A8 Substrates ; OATP1B1/SLCO1B1 Inhibitors ; OCT2 Inhibitors ; P-glycoprotein substrates ; Progestogens and Estrogens, Sequential Preparations ; Sex Hormones and Modulators of the Genital System ; Steroids ; Thyroxine-binding globulin inducers ; UGT1A1 Substrates.', 'group': 'Estradiol is approved and investigational and vet_approved.', 'pathway': 'Estradiol uses Estrone Metabolism ; 17-beta Hydroxysteroid Dehydrogenase III Deficiency ; Androgen and Estrogen Metabolism ; Aromatase Deficiency.', 'molecular_weight': 'The molecular weight is 272.39.', 'tpsa': 'Estradiol has a topological polar surface area of 40.46.', 'clogp': 'The log p value of  is 3.78.'}}\",\n",
       "   'Methyltestosterone{nodeId:14387, details:{\\'description\\': \\'A synthetic anabolic steroid used for treating men with testosterone deficiency or similar androgen replacement therapies. Also, has antineoplastic properties and so has been used secondarily in women with advanced breast cancer. Methyltestosterone is a schedule III drug in the US.\\', \\'half_life\\': \\'The half-life is 6-8 hours\\', \\'indication\\': \\'Methyltestosterone is an anabolic steroid hormone used to treat men with a testosterone deficiency. It is also used in women to treat breast cancer, breast pain, swelling due to pregnancy, and with the addition of estrogen it can treat symptoms of menopause.\\', \\'mechanism_of_action\\': \\'The effects of testosterone in humans and other vertebrates occur by way of two main mechanisms: by activation of the androgen receptor (directly or as DHT), and by conversion to estradiol and activation of certain estrogen receptors. Free testosterone (T) is transported into the cytoplasm of target tissue cells, where it can bind to the androgen receptor, or can be reduced to 5&alpha;-dihydrotestosterone (DHT) by the cytoplasmic enzyme 5&alpha;-reductase. DHT binds to the same androgen receptor even more strongly than T, so that its androgenic potency is about 2.5 times that of T. The T-receptor or DHT-receptor complex undergoes a structural change that allows it to move into the cell nucleus and bind directly to specific nucleotide sequences of the chromosomal DNA. The areas of binding are called hormone response elements (HREs), and influence transcriptional activity of certain genes, producing the androgen effects.\\', \\'protein_binding\\': \\'40% of testosterone in plasma is bound to sex hormone-binding globulin and 2% remains unbound and the rest is bound to albumin and other proteins.\\', \\'pharmacodynamics\\': \"Testosterone is a steroid hormone from the androgen group. Testosterone is primarily secreted from the testes of males. In females, it is produced in the ovaries, adrenal glands and by conversion of adrostenedione in the periphery. It is the principal male sex hormone and an anabolic steroid. In both males and females, it plays key roles in health and well-being. Examples include enhanced libido, energy, immune function, and protection against osteoporosis. On average, the adult male body produces about twenty times the amount of testosterone than an adult female\\'s body does.\", \\'state\\': \\'Methyltestosterone is a solid.\\', \\'atc_1\\': \\'Methyltestosterone is anatomically related to genito urinary system and sex hormones and genito urinary system and sex hormones and genito urinary system and sex hormones.\\', \\'atc_2\\': \\'Methyltestosterone is in the therapeutic group of sex hormones and modulators of the genital system and sex hormones and modulators of the genital system and sex hormones and modulators of the genital system.\\', \\'atc_3\\': \\'Methyltestosterone is pharmacologically related to androgens and androgens and female sex hormones in combination and androgens and female sex hormones in combination.\\', \\'atc_4\\': \\'The chemical and functional group of  is 3-oxoandrosten (4) derivatives and androgens and estrogens and androgens and female sex hormones in combination with other drugs.\\', \\'category\\': \\'Methyltestosterone is part of 3-Oxoandrosten (4) Derivatives ; Anabolic Agents ; Androgens ; Androgens and Estrogens ; Androstanes ; Androstenes ; Androstenols ; Antineoplastic Agents ; Antineoplastic Agents, Hormonal ; Cytochrome P-450 CYP2B6 Substrates ; Cytochrome P-450 CYP3A Substrates ; Cytochrome P-450 CYP3A4 Substrates ; Cytochrome P-450 Substrates ; Drugs that are Mainly Renally Excreted ; Fused-Ring Compounds ; Genito Urinary System and Sex Hormones ; Gonadal Hormones ; Gonadal Steroid Hormones ; Hormones ; Hormones, Hormone Substitutes, and Hormone Antagonists ; OAT3/SLC22A8 Inducers ; Sex Hormones and Modulators of the Genital System ; Steroids ; Testosterone Congeners ; Thyroxine-binding globulin inhibitors.\\', \\'group\\': \\'Methyltestosterone is approved.\\', \\'molecular_weight\\': \\'The molecular weight is 302.46.\\', \\'tpsa\\': \\'Methyltestosterone has a topological polar surface area of 37.3.\\', \\'clogp\\': \\'The log p value of  is 3.93.\\'}}',\n",
       "   \"Sirolimus{nodeId:14975, details:{'description': 'A macrolide compound obtained from Streptomyces hygroscopicus that acts by selectively blocking the transcriptional activation of cytokines thereby inhibiting cytokine production. It is bioactive only when bound to immunophilins. Sirolimus is a potent immunosuppressant and possesses both antifungal and antineoplastic properties.', 'half_life': 'The half-life is 57-63 hours', 'indication': 'For the prophylaxis of organ rejection in patients receiving renal transplants.', 'mechanism_of_action': 'Sirolimus inhibits T lymphocyte activation and proliferation that occurs in response to antigenic and cytokine (Interleukin IL-2, IL-4, and IL-15) stimulation by a mechanism that is distinct from that of other immunosuppressants. Sirolimus also inhibits antibody production. In cells, sirolimus binds to the immunophilin, FK Binding Protein-12 (FKBP-12), to generate an immunosuppressive complex. The sirolimus:FKBP-12 complex has no effect on calcineurin activity. This complex binds to and inhibits the activation of the mammalian Target Of Rapamycin (mTOR), a key regulatory kinase. This inhibition suppresses cytokine-driven T-cell proliferation, inhibiting the progression from the G1 to the S phase of the cell cycle.', 'protein_binding': '92%', 'pharmacodynamics': 'Sirolimus, a macrocyclic lactone produced by <i>Streptomyces hygroscopicus</i>, is an immunosuppressive agent indicated for the prophylaxis of organ rejection in patients receiving renal transplants. It is recommended that sirolimus be used in a regimen with cyclosporine and corticosteroids.', 'state': 'Sirolimus is a solid.', 'atc_1': 'Sirolimus is anatomically related to sensory organs and antineoplastic and immunomodulating agents.', 'atc_2': 'Sirolimus is in the therapeutic group of ophthalmologicals and immunosuppressants.', 'atc_3': 'Sirolimus is pharmacologically related to other ophthalmologicals and immunosuppressants.', 'atc_4': 'The chemical and functional group of  is other ophthalmologicals and selective immunosuppressants.', 'category': 'Sirolimus is part of Agents causing angioedema ; Anti-Bacterial Agents ; Anti-Infective Agents ; Antibiotics, Antineoplastic ; Antifungal Agents ; Antineoplastic and Immunomodulating Agents ; Cytochrome P-450 CYP3A Substrates ; Cytochrome P-450 CYP3A4 Substrates ; Cytochrome P-450 CYP3A4 Substrates with a Narrow Therapeutic Index ; Cytochrome P-450 CYP3A5 Substrates ; Cytochrome P-450 CYP3A5 Substrates with a Narrow Therapeutic Index ; Cytochrome P-450 CYP3A7 Substrates ; Cytochrome P-450 CYP3A7 Substrates with a Narrow Therapeutic Index ; Cytochrome P-450 Substrates ; Decreased Immunologic Activity ; Hyperglycemia-Associated Agents ; Immunologic Factors ; Immunosuppressive Agents ; Kinase Inhibitor ; Lactones ; Macrolides ; mTOR Inhibitor Immunosuppressant ; mTOR Inhibitors ; Myelosuppressive Agents ; Narrow Therapeutic Index Drugs ; OATP1B1/SLCO1B1 Inhibitors ; Ophthalmologicals ; P-glycoprotein inducers ; P-glycoprotein inhibitors ; P-glycoprotein substrates ; P-glycoprotein substrates with a Narrow Therapeutic Index ; Polyketides ; Protein Kinase Inhibitors ; Selective Immunosuppressants ; Sensory Organs ; Sirolimus and Prodrugs.', 'group': 'Sirolimus is approved and investigational.', 'molecular_weight': 'The molecular weight is 914.19.', 'tpsa': 'Sirolimus has a topological polar surface area of 195.43.', 'clogp': 'The log p value of  is 7.04.'}}\",\n",
       "   \"Clomifene{nodeId:14686, details:{'description': 'A triphenyl ethylene stilbene derivative which is an estrogen agonist or antagonist depending on the target tissue.', 'half_life': 'The half-life is 5-7 days', 'indication': 'Used mainly in female infertility due to anovulation (e.g. due to polycystic ovary syndrome) to induce ovulation. ', 'mechanism_of_action': 'Clomifene has both estrogenic and anti-estrogenic properties, but its precise mechanism of action has not been determined. Clomifene appears to stumulate the release of gonadotropins, follicle-stimulating hormone (FSH), and leuteinizing hormone (LH), which leads to the development and maturation of ovarian follicle, ovulation, and subsequent development and function of the coprus luteum, thus resulting in pregnancy. Gonadotropin release may result from direct stimulation of the hypothalamic-pituitary axis or from a decreased inhibitory influence of estrogens on the hypothalamic-pituitary axis by competing with the endogenous estrogens of the uterus, pituitary, or hypothalamus. Clomifene has no apparent progestational, androgenic, or antrandrogenic effects and does not appear to interfere with pituitary-adrenal or pituitary-thyroid function.', 'pharmacodynamics': 'Clomifene (previously clomiphene) is an orally administered, non steroidal, ovulatory stimulant that acts as a selective estrogen receptor modulator (SERM). Clomifene can lead to multiple ovulation, and hence increase the risk of conceiving twins. In comparison to purified FSH, the rate of ovarian hyperstimulation syndrome is low. There may be an increased risk of ovarian cancer and weight gain. Clomifene is capable of interacting with estrogen-receptor-containing tissues, including the hypothalamus, pituitary, ovary, endometrium, vagina, and cervix. It may compete with estrogen for estrogen-receptor-binding sites and may delay replenishment of intracellular estrogen receptors. Clomifene initiates a series of endocrine events culminating in a preovulatory gonadotropin surge and subsequent follicular rupture. The first endocrine event, in response to a course of clomifene therapy, is an increase in the release of pituitary gonadotropins. This initiates steroidogenesis and folliculogenesis resulting in growth of the ovarian follicle and an increase in the circulating level of estradiol. Following ovulation, plasma progesterone and estradiol rise and fall as they would in a normal ovulatory cycle.', 'state': 'Clomifene is a solid.', 'atc_1': 'Clomifene is anatomically related to genito urinary system and sex hormones.', 'atc_2': 'Clomifene is in the therapeutic group of sex hormones and modulators of the genital system.', 'atc_3': 'Clomifene is pharmacologically related to gonadotropins and other ovulation stimulants.', 'atc_4': 'The chemical and functional group of  is ovulation stimulants, synthetic.', 'category': 'Clomifene is part of Benzene Derivatives ; Benzylidene Compounds ; Clomiphene ; Estrogen Agonist-antagonists ; Estrogen Agonist/Antagonist ; Estrogen Antagonists ; Estrogen Receptor Modulators ; Fertility Agents ; Fertility Agents, Female ; Genito Urinary System and Sex Hormones ; Hormone Antagonists ; Hormones, Hormone Substitutes, and Hormone Antagonists ; Ovulation Stimulants, Synthetic ; P-glycoprotein substrates ; Reproductive Control Agents ; Selective Estrogen Receptor Modulators ; Sex Hormones and Modulators of the Genital System ; Stilbenes.', 'group': 'Clomifene is approved and investigational.', 'molecular_weight': 'The molecular weight is 405.97.', 'tpsa': 'Clomifene has a topological polar surface area of 12.47.', 'clogp': 'The log p value of  is 7.15.'}}\",\n",
       "   \"Methoxsalen{nodeId:15303, details:{'description': 'A naturally occurring furocoumarin compound found in several species of plants, including Psoralea corylifolia. It is a photoactive substance that forms DNA adducts in the presence of ultraviolet A irradiation.', 'half_life': 'The half-life is approximately 2 hours', 'indication': 'For the treatment of psoriasis and vitiligo', 'mechanism_of_action': 'After activation it binds preferentially to the guanine and cytosine moieties of DNA, leading to cross-linking of DNA, thus inhibiting DNA synthesis and function.', 'pharmacodynamics': 'Methoxsalen selectively inhibits the synthesis of deoxyribonucleic acid (DNA). The guanine and cytosine content correlates with the degree of Methoxsalen-induced cross-linking. At high concentrations of the drug, cellular RNA and protein synthesis are also suppressed.', 'state': 'Methoxsalen is a solid.', 'atc_1': 'Methoxsalen is anatomically related to dermatologicals and dermatologicals.', 'atc_2': 'Methoxsalen is in the therapeutic group of antipsoriatics and antipsoriatics.', 'atc_3': 'Methoxsalen is pharmacologically related to antipsoriatics for systemic use and antipsoriatics for topical use.', 'atc_4': 'The chemical and functional group of  is psoralens for systemic use and psoralens for topical use.', 'category': 'Methoxsalen is part of Antipsoriatics ; Antipsoriatics for Systemic Use ; Antipsoriatics for Topical Use ; Benzopyrans ; Coloring Agents ; Compounds used in a research, industrial, or household setting ; Cross-Linking Reagents ; Cytochrome P-450 CYP1A2 Inhibitors ; Cytochrome P-450 CYP1A2 Inhibitors (strength unknown) ; Cytochrome P-450 CYP2A6 Inhibitors ; Cytochrome P-450 CYP2A6 Inhibitors (strength unknown) ; Cytochrome P-450 Enzyme Inhibitors ; Dermatologicals ; Drugs that are Mainly Renally Excreted ; Furocoumarins ; Heterocyclic Compounds, Fused-Ring ; Indicators and Reagents ; Laboratory Chemicals ; Photoabsorption ; Photoactivated Radical Generator ; Photosensitizing Activity ; Photosensitizing Agents ; Photosensitizing agents used for phototherapy ; Psoralens for Systemic Use ; Psoralens for Topical Use ; Pyrans ; Radiation-Sensitizing Agents.', 'group': 'Methoxsalen is approved.', 'molecular_weight': 'The molecular weight is 216.19.', 'tpsa': 'Methoxsalen has a topological polar surface area of 48.67.', 'clogp': 'The log p value of  is 2.31.'}}\",\n",
       "   'Everolimus{nodeId:15176, details:{\\'description\\': \"Everolimus is a derivative of Rapamycin (sirolimus), and works similarly to Rapamycin as an mTOR (mammalian target of rapamycin) inhibitor. It is currently used as an immunosuppressant to prevent rejection of organ transplants. In a similar fashion to other mTOR inhibitors Everolimus\\' effect is solely on the mTORC1 protein and not on the mTORC2 protein.\", \\'half_life\\': \\'The half-life is ~30 hours.\\', \\'indication\\': \\'Everolimus is indicated for the treatment of postmenopausal women with advanced hormone receptor-positive, HER2-negative breast cancer (advanced HR+ BC) in combination with exemestane, after failure of treatment with letrozole or anastrozole.\\', \\'mechanism_of_action\\': \\'Everolimus is a mTOR inhibitor that binds with high affinity to the FK506 binding protein-12 (FKBP-12), thereby forming a drug complex that inhibits the activation of mTOR. This inhibition reduces the activity of effectors downstream, which leads to a blockage in the progression of cells from G1 into S phase, and subsequently inducing cell growth arrest and apoptosis. Everolimus also inhibits the expression of hypoxia-inducible factor, leading to a decrease in the expression of vascular endothelial growth factor. The result of everolimus inhibition of mTOR is a reduction in cell proliferation, angiogenesis, and glucose uptake.\\', \\'protein_binding\\': \\'~ 74% in both healthy patients and those with moderate hepatic impairment. \\', \\'state\\': \\'Everolimus is a solid.\\', \\'atc_1\\': \\'Everolimus is anatomically related to antineoplastic and immunomodulating agents and antineoplastic and immunomodulating agents.\\', \\'atc_2\\': \\'Everolimus is in the therapeutic group of antineoplastic agents and immunosuppressants.\\', \\'atc_3\\': \\'Everolimus is pharmacologically related to other antineoplastic agents and immunosuppressants.\\', \\'atc_4\\': \\'The chemical and functional group of  is protein kinase inhibitors and selective immunosuppressants.\\', \\'category\\': \\'Everolimus is part of Anti-Bacterial Agents ; Antineoplastic Agents ; Antineoplastic and Immunomodulating Agents ; Cytochrome P-450 CYP2D6 Inhibitors ; Cytochrome P-450 CYP2D6 Inhibitors (strength unknown) ; Cytochrome P-450 CYP3A Inhibitors ; Cytochrome P-450 CYP3A Substrates ; Cytochrome P-450 CYP3A4 Inhibitors ; Cytochrome P-450 CYP3A4 Substrates ; Cytochrome P-450 CYP3A4 Substrates with a Narrow Therapeutic Index ; Cytochrome P-450 Enzyme Inhibitors ; Cytochrome P-450 Substrates ; Decreased Immunologic Activity ; Hyperglycemia-Associated Agents ; Immunologic Factors ; Immunosuppressive Agents ; Kinase Inhibitor ; Lactones ; Macrolides ; mTOR Inhibitor Immunosuppressant ; mTOR Inhibitors ; Myelosuppressive Agents ; Narrow Therapeutic Index Drugs ; OATP1B1/SLCO1B1 Inhibitors ; OATP1B3 inhibitors ; P-glycoprotein inhibitors ; P-glycoprotein substrates ; P-glycoprotein substrates with a Narrow Therapeutic Index ; Polyketides ; Protein Kinase Inhibitors ; Selective Immunosuppressants.\\', \\'group\\': \\'Everolimus is approved.\\', \\'molecular_weight\\': \\'The molecular weight is 958.24.\\', \\'tpsa\\': \\'Everolimus has a topological polar surface area of 204.66.\\', \\'clogp\\': \\'The log p value of  is 7.1.\\'}}'],\n",
       "  'n2TextDetails': ['liver cancer{nodeId:36634, details:{\\'mondo_id\\': 2691, \\'mondo_name\\': \\'liver cancer\\', \\'mondo_definition\\': \\'An epithelial or non-epithelial malignant neoplasm that arises from the liver. Representative examples include hepatocellular carcinoma, intrahepatic cholangiocarcinoma, lymphoma, and sarcoma.\\', \\'mayo_symptoms\\': \"Signs and symptoms caused by cancer will vary depending on what part of the body is affected. Some general signs and symptoms associated with, but not specific to, cancer, include: Fatigue, Lump or area of thickening that can be felt under the skin, Weight changes, including unintended loss or gain, Skin changes, such as yellowing, darkening or redness of the skin, sores that won\\'t heal, or changes to existing moles, Changes in bowel or bladder habits, Persistent cough or trouble breathing, Difficulty swallowing, Hoarseness, Persistent indigestion or discomfort after eating, Persistent, unexplained muscle or joint pain, Persistent, unexplained fevers or night sweats, Unexplained bleeding or bruising\", \\'mayo_causes\\': \"Cancer is caused by changes to the DNA within cells. The DNA inside a cell is packaged into a large number of individual genes, each of which contains a set of instructions telling the cell what functions to perform, as well as how to grow and divide. Errors in the instructions can cause the cell to stop its normal function and may allow a cell to become cancerous. What do gene mutations do?, A gene mutation can instruct a healthy cell to: Allow rapid growth. A gene mutation can tell a cell to grow and divide more rapidly. This creates many new cells that all have that same mutation. Fail to stop uncontrolled cell growth. Normal cells know when to stop growing so that you have just the right number of each type of cell. Cancer cells lose the controls that tell them when to stop growing. A mutation in a tumor suppressor gene allows cancer cells to continue growing and accumulating. Make mistakes when repairing DNA errors. DNA repair genes look for errors in a cell\\'s DNA and make corrections. A mutation in a DNA repair gene may mean that other errors aren\\'t corrected, leading cells to become cancerous. These mutations are the most common ones found in cancer. But many other gene mutations can contribute to causing cancer. What causes gene mutations?, Gene mutations can occur for several reasons, for instance: Gene mutations you\\'re born with. You may be born with a genetic mutation that you inherited from your parents. This type of mutation accounts for a small percentage of cancers. Gene mutations that occur after birth. Most gene mutations occur after you\\'re born and aren\\'t inherited. A number of forces can cause gene mutations, such as smoking, radiation, viruses, cancer-causing chemicals, obesity, hormones, chronic inflammation and a lack of exercise. Gene mutations occur frequently during normal cell growth. However, cells contain a mechanism that recognizes when a mistake occurs and repairs the mistake. Occasionally, a mistake is missed. This could cause a cell to become cancerous. How do gene mutations interact with each other?, The gene mutations you\\'re born with and those that you acquire throughout your life work together to cause cancer. For instance, if you\\'ve inherited a genetic mutation that predisposes you to cancer, that doesn\\'t mean you\\'re certain to get cancer. Instead, you may need one or more other gene mutations to cause cancer. Your inherited gene mutation could make you more likely than other people to develop cancer when exposed to a certain cancer-causing substance. It\\'s not clear just how many mutations must accumulate for cancer to form. It\\'s likely that this varies among cancer types.\", \\'mayo_risk_factors\\': \"While doctors have an idea of what may increase your risk of cancer, the majority of cancers occur in people who don\\'t have any known risk factors. Factors known to increase your risk of cancer include: Your age, Cancer can take decades to develop. That\\'s why most people diagnosed with cancer are 65 or older. While it\\'s more common in older adults, cancer isn\\'t exclusively an adult disease — cancer can be diagnosed at any age. Your habits, Certain lifestyle choices are known to increase your risk of cancer. Smoking, drinking more than one alcoholic drink a day or two drinks a day, excessive exposure to the sun or frequent blistering sunburns, being obese, and having unsafe sex can contribute to cancer. You can change these habits to lower your risk of cancer — though some habits are easier to change than others. Your family history, Only a small portion of cancers are due to an inherited condition. If cancer is common in your family, it\\'s possible that mutations are being passed from one generation to the next. You might be a candidate for genetic testing to see whether you have inherited mutations that might increase your risk of certain cancers. Keep in mind that having an inherited genetic mutation doesn\\'t necessarily mean you\\'ll get cancer. Your health conditions, Some chronic health conditions, such as ulcerative colitis, can markedly increase your risk of developing certain cancers. Talk to your doctor about your risk. Your environment, The environment around you may contain harmful chemicals that can increase your risk of cancer. Even if you don\\'t smoke, you might inhale secondhand smoke if you go where people are smoking or if you live with someone who smokes. Chemicals in your home or workplace, such as asbestos and benzene, also are associated with an increased risk of cancer.\", \\'mayo_complications\\': \"Cancer and its treatment can cause several complications, including: Pain. Pain can be caused by cancer or by cancer treatment, though not all cancer is painful. Medications and other approaches can effectively treat cancer-related pain. Fatigue. Fatigue in people with cancer has many causes, but it can often be managed. Fatigue associated with chemotherapy or radiation therapy treatments is common, but it\\'s usually temporary. Difficulty breathing. Cancer or cancer treatment may cause a feeling of being short of breath. Treatments may bring relief. Nausea. Certain cancers and cancer treatments can cause nausea. Your doctor can sometimes predict if your treatment is likely to cause nausea. Medications and other treatments may help you prevent or decrease nausea. Diarrhea or constipation. Cancer and cancer treatment can affect your bowels and cause diarrhea or constipation. Weight loss. Cancer and cancer treatment may cause weight loss. Cancer steals food from normal cells and deprives them of nutrients. This is often not affected by how many calories or what kind of food is eaten; it\\'s difficult to treat. In most cases, using artificial nutrition through tubes into the stomach or vein does not help change the weight loss. Chemical changes in your body. Cancer can upset the normal chemical balance in your body and increase your risk of serious complications. Signs and symptoms of chemical imbalances might include excessive thirst, frequent urination, constipation and confusion. Brain and nervous system problems. Cancer can press on nearby nerves and cause pain and loss of function of one part of your body. Cancer that involves the brain can cause headaches and stroke-like signs and symptoms, such as weakness on one side of your body. Unusual immune system reactions to cancer. In some cases the body\\'s immune system may react to the presence of cancer by attacking healthy cells. Called paraneoplastic syndrome, these very rare reactions can lead to a variety of signs and symptoms, such as difficulty walking and seizures. Cancer that spreads. As cancer advances, it may spread to other parts of the body. Where cancer spreads depends on the type of cancer. Cancer that returns. Cancer survivors have a risk of cancer recurrence. Some cancers are more likely to recur than others. Ask your doctor about what you can do to reduce your risk of cancer recurrence. Your doctor may devise a follow-up care plan for you after treatment. This plan may include periodic scans and exams in the months and years after your treatment, to look for cancer recurrence.\", \\'mayo_prevention\\': \"There\\'s no certain way to prevent cancer. But doctors have identified several ways of reducing your cancer risk, such as: Stop smoking. If you smoke, quit. If you don\\'t smoke, don\\'t start. Smoking is linked to several types of cancer — not just lung cancer. Stopping now will reduce your risk of cancer in the future. Avoid excessive sun exposure. Harmful ultraviolet rays from the sun can increase your risk of skin cancer. Limit your sun exposure by staying in the shade, wearing protective clothing or applying sunscreen. Eat a healthy diet. Choose a diet rich in fruits and vegetables. Select whole grains and lean proteins. Exercise most days of the week. Regular exercise is linked to a lower risk of cancer. Aim for at least 30 minutes of exercise most days of the week. If you haven\\'t been exercising regularly, start out slowly and work your way up to 30 minutes or longer. Maintain a healthy weight. Being overweight or obese may increase your risk of cancer. Work to achieve and maintain a healthy weight through a combination of a healthy diet and regular exercise. Drink alcohol in moderation, if you choose to drink. If you choose to drink alcohol, limit yourself to one drink a day if you\\'re a woman of any age or a man older than age 65, or two drinks a day if you\\'re a man 65 years old or younger. Schedule cancer screening exams. Talk to your doctor about what types of cancer screening exams are best for you based on your risk factors. Ask your doctor about immunizations. Certain viruses increase your risk of cancer. Immunizations may help prevent those viruses, including hepatitis B, which increases the risk of liver cancer, and human papillomavirus, which increases the risk of cervical cancer and other cancers. Ask your doctor whether immunization against these viruses is appropriate for you.\", \\'mayo_see_doc\\': \"When to see a doctor, Make an appointment with your doctor if you have any persistent signs or symptoms that concern you. If you don\\'t have any signs or symptoms, but are worried about your risk of cancer, discuss your concerns with your doctor. Ask about which cancer screening tests and procedures are appropriate for you.\"}}',\n",
       "   \"hepatocellular carcinoma{nodeId:29646, details:{'mondo_id': 7256, 'mondo_name': 'hepatocellular carcinoma', 'group_id_bert': '7256_18902_16216_3243', 'group_name_bert': 'hepatocellular carcinoma', 'mondo_definition': 'A malignant tumor that arises from hepatocytes. Hepatocellular carcinoma is relatively rare in the United States but very common in all African countries south of the Sahara and in Southeast Asia. Most cases are seen in patients over the age of 50 years, but this tumor can also occur in younger individuals and even in children. Hepatocellular carcinoma is more common in males than females and is associated with hepatitis B, hepatitis C, chronic alcohol abuse and cirrhosis. Serum elevation of alpha-fetoprotein occurs in a large percentage of patients with hepatocellular carcinoma. Grossly, hepatocellular carcinoma may present as a single mass, as multiple nodules, or as diffuse liver involvement. Microscopically, there is a wide range of differentiation from tumor to tumor (well differentiated to poorly differentiated tumors). Hepatocellular carcinomas quickly metastasize to regional lymph nodes and lung. The overall median survival of untreated liver cell carcinoma is about 4 months. The most effective treatment of hepatocellular carcinoma is complete resection of the tumor. Lately, an increasing number of tumors have been treated with liver transplantation.', 'orphanet_definition': 'Hepatocellular carcinoma is a primary hepatic cancer derived from well-differentiated hepatocytes. It is more frequent in adults than in childhood. Symptoms are hepatic mass, abdominal pain and, in advanced stages, jaundice, cachexia and liver failure.', 'orphanet_prevalence': '1-5/10000'}}\",\n",
       "   \"prostate carcinoma{nodeId:35963, details:{'mondo_id': 5159, 'mondo_name': 'prostate carcinoma', 'mondo_definition': 'A carcinoma that arises from epithelial cells of the prostate gland.'}}\",\n",
       "   \"endometrial carcinoma (disease){nodeId:35738, details:{'mondo_id': 2447, 'mondo_name': 'endometrial carcinoma (disease)', 'mondo_definition': 'A malignant tumor arising from the epithelium that lines the cavity of the uterine body. The vast majority of endometrial carcinomas are adenocarcinomas; squamous cell and adenosquamous carcinomas represent a minority of the cases. Endometrioid adenocarcinoma is the most frequently seen variant of endometrial adenocarcinoma. Uterine bleeding is an initial clinical sign. The prognosis depends on the stage of the tumor, the depth of myometrial wall invasion, and the degree of differentiation.'}}\",\n",
       "   'endometrial cancer{nodeId:30827, details:{\\'mondo_id\\': 11962, \\'mondo_name\\': \\'endometrial cancer\\', \\'mondo_definition\\': \\'Primary or metastatic malignant neoplasm involving the endometrium (mucous membrane that lines the endometrial cavity).\\', \\'mayo_symptoms\\': \"Signs and symptoms caused by cancer will vary depending on what part of the body is affected. Some general signs and symptoms associated with, but not specific to, cancer, include: Fatigue, Lump or area of thickening that can be felt under the skin, Weight changes, including unintended loss or gain, Skin changes, such as yellowing, darkening or redness of the skin, sores that won\\'t heal, or changes to existing moles, Changes in bowel or bladder habits, Persistent cough or trouble breathing, Difficulty swallowing, Hoarseness, Persistent indigestion or discomfort after eating, Persistent, unexplained muscle or joint pain, Persistent, unexplained fevers or night sweats, Unexplained bleeding or bruising\", \\'mayo_causes\\': \"Cancer is caused by changes to the DNA within cells. The DNA inside a cell is packaged into a large number of individual genes, each of which contains a set of instructions telling the cell what functions to perform, as well as how to grow and divide. Errors in the instructions can cause the cell to stop its normal function and may allow a cell to become cancerous. What do gene mutations do?, A gene mutation can instruct a healthy cell to: Allow rapid growth. A gene mutation can tell a cell to grow and divide more rapidly. This creates many new cells that all have that same mutation. Fail to stop uncontrolled cell growth. Normal cells know when to stop growing so that you have just the right number of each type of cell. Cancer cells lose the controls that tell them when to stop growing. A mutation in a tumor suppressor gene allows cancer cells to continue growing and accumulating. Make mistakes when repairing DNA errors. DNA repair genes look for errors in a cell\\'s DNA and make corrections. A mutation in a DNA repair gene may mean that other errors aren\\'t corrected, leading cells to become cancerous. These mutations are the most common ones found in cancer. But many other gene mutations can contribute to causing cancer. What causes gene mutations?, Gene mutations can occur for several reasons, for instance: Gene mutations you\\'re born with. You may be born with a genetic mutation that you inherited from your parents. This type of mutation accounts for a small percentage of cancers. Gene mutations that occur after birth. Most gene mutations occur after you\\'re born and aren\\'t inherited. A number of forces can cause gene mutations, such as smoking, radiation, viruses, cancer-causing chemicals, obesity, hormones, chronic inflammation and a lack of exercise. Gene mutations occur frequently during normal cell growth. However, cells contain a mechanism that recognizes when a mistake occurs and repairs the mistake. Occasionally, a mistake is missed. This could cause a cell to become cancerous. How do gene mutations interact with each other?, The gene mutations you\\'re born with and those that you acquire throughout your life work together to cause cancer. For instance, if you\\'ve inherited a genetic mutation that predisposes you to cancer, that doesn\\'t mean you\\'re certain to get cancer. Instead, you may need one or more other gene mutations to cause cancer. Your inherited gene mutation could make you more likely than other people to develop cancer when exposed to a certain cancer-causing substance. It\\'s not clear just how many mutations must accumulate for cancer to form. It\\'s likely that this varies among cancer types.\", \\'mayo_risk_factors\\': \"While doctors have an idea of what may increase your risk of cancer, the majority of cancers occur in people who don\\'t have any known risk factors. Factors known to increase your risk of cancer include: Your age, Cancer can take decades to develop. That\\'s why most people diagnosed with cancer are 65 or older. While it\\'s more common in older adults, cancer isn\\'t exclusively an adult disease — cancer can be diagnosed at any age. Your habits, Certain lifestyle choices are known to increase your risk of cancer. Smoking, drinking more than one alcoholic drink a day or two drinks a day, excessive exposure to the sun or frequent blistering sunburns, being obese, and having unsafe sex can contribute to cancer. You can change these habits to lower your risk of cancer — though some habits are easier to change than others. Your family history, Only a small portion of cancers are due to an inherited condition. If cancer is common in your family, it\\'s possible that mutations are being passed from one generation to the next. You might be a candidate for genetic testing to see whether you have inherited mutations that might increase your risk of certain cancers. Keep in mind that having an inherited genetic mutation doesn\\'t necessarily mean you\\'ll get cancer. Your health conditions, Some chronic health conditions, such as ulcerative colitis, can markedly increase your risk of developing certain cancers. Talk to your doctor about your risk. Your environment, The environment around you may contain harmful chemicals that can increase your risk of cancer. Even if you don\\'t smoke, you might inhale secondhand smoke if you go where people are smoking or if you live with someone who smokes. Chemicals in your home or workplace, such as asbestos and benzene, also are associated with an increased risk of cancer.\", \\'mayo_complications\\': \"Cancer and its treatment can cause several complications, including: Pain. Pain can be caused by cancer or by cancer treatment, though not all cancer is painful. Medications and other approaches can effectively treat cancer-related pain. Fatigue. Fatigue in people with cancer has many causes, but it can often be managed. Fatigue associated with chemotherapy or radiation therapy treatments is common, but it\\'s usually temporary. Difficulty breathing. Cancer or cancer treatment may cause a feeling of being short of breath. Treatments may bring relief. Nausea. Certain cancers and cancer treatments can cause nausea. Your doctor can sometimes predict if your treatment is likely to cause nausea. Medications and other treatments may help you prevent or decrease nausea. Diarrhea or constipation. Cancer and cancer treatment can affect your bowels and cause diarrhea or constipation. Weight loss. Cancer and cancer treatment may cause weight loss. Cancer steals food from normal cells and deprives them of nutrients. This is often not affected by how many calories or what kind of food is eaten; it\\'s difficult to treat. In most cases, using artificial nutrition through tubes into the stomach or vein does not help change the weight loss. Chemical changes in your body. Cancer can upset the normal chemical balance in your body and increase your risk of serious complications. Signs and symptoms of chemical imbalances might include excessive thirst, frequent urination, constipation and confusion. Brain and nervous system problems. Cancer can press on nearby nerves and cause pain and loss of function of one part of your body. Cancer that involves the brain can cause headaches and stroke-like signs and symptoms, such as weakness on one side of your body. Unusual immune system reactions to cancer. In some cases the body\\'s immune system may react to the presence of cancer by attacking healthy cells. Called paraneoplastic syndrome, these very rare reactions can lead to a variety of signs and symptoms, such as difficulty walking and seizures. Cancer that spreads. As cancer advances, it may spread to other parts of the body. Where cancer spreads depends on the type of cancer. Cancer that returns. Cancer survivors have a risk of cancer recurrence. Some cancers are more likely to recur than others. Ask your doctor about what you can do to reduce your risk of cancer recurrence. Your doctor may devise a follow-up care plan for you after treatment. This plan may include periodic scans and exams in the months and years after your treatment, to look for cancer recurrence.\", \\'mayo_prevention\\': \"There\\'s no certain way to prevent cancer. But doctors have identified several ways of reducing your cancer risk, such as: Stop smoking. If you smoke, quit. If you don\\'t smoke, don\\'t start. Smoking is linked to several types of cancer — not just lung cancer. Stopping now will reduce your risk of cancer in the future. Avoid excessive sun exposure. Harmful ultraviolet rays from the sun can increase your risk of skin cancer. Limit your sun exposure by staying in the shade, wearing protective clothing or applying sunscreen. Eat a healthy diet. Choose a diet rich in fruits and vegetables. Select whole grains and lean proteins. Exercise most days of the week. Regular exercise is linked to a lower risk of cancer. Aim for at least 30 minutes of exercise most days of the week. If you haven\\'t been exercising regularly, start out slowly and work your way up to 30 minutes or longer. Maintain a healthy weight. Being overweight or obese may increase your risk of cancer. Work to achieve and maintain a healthy weight through a combination of a healthy diet and regular exercise. Drink alcohol in moderation, if you choose to drink. If you choose to drink alcohol, limit yourself to one drink a day if you\\'re a woman of any age or a man older than age 65, or two drinks a day if you\\'re a man 65 years old or younger. Schedule cancer screening exams. Talk to your doctor about what types of cancer screening exams are best for you based on your risk factors. Ask your doctor about immunizations. Certain viruses increase your risk of cancer. Immunizations may help prevent those viruses, including hepatitis B, which increases the risk of liver cancer, and human papillomavirus, which increases the risk of cervical cancer and other cancers. Ask your doctor whether immunization against these viruses is appropriate for you.\", \\'mayo_see_doc\\': \"When to see a doctor, Make an appointment with your doctor if you have any persistent signs or symptoms that concern you. If you don\\'t have any signs or symptoms, but are worried about your risk of cancer, discuss your concerns with your doctor. Ask about which cancer screening tests and procedures are appropriate for you.\"}}',\n",
       "   'hereditary breast ovarian cancer syndrome{nodeId:32617, details:{\\'mondo_id\\': 3582, \\'mondo_name\\': \\'hereditary breast ovarian cancer syndrome\\', \\'mondo_definition\\': \\'An autosomal dominant inherited syndrome caused by mutations in the BRCA1 or BRCA2 genes. Patients are at high risk of developing breast cancer, particularly before the age of fifty, high risk of developing a second primary breast cancer, and high risk of developing both breast and ovarian cancer.\\', \\'orphanet_definition\\': \\'Breast cancer (BC) is the most common cancer in women, accounting for 25% of all new cases of cancer. Most BC cases are sporadic, while 5-10% are estimated to be due to an inherited predisposition.\\', \\'orphanet_prevalence\\': \\'1-5/10000\\', \\'orphanet_epidemiology\\': \\'Prevalence of germline BRCA mutations has been estimated to be about 1:1600 women in the general population. The lifetime risk of developing hereditary BC (HBC) and/or OC can reach 80%.\\', \\'orphanet_clinical_description\\': \\'HBC is not associated with specific phenotypic features.\\', \\'orphanet_management_and_treatment\\': \\'The management strategies include surveillance, surgical options and chemoprevention, and accurate treatment of BC and OC in mutation carriers, but the treatment guidelines are still under debate. Studies of cohorts of BRCA1 and BRCA2 mutation carriers are underway in an effort to develop targeted cancer prevention strategies.\\', \\'mayo_symptoms\\': \"Signs and symptoms caused by cancer will vary depending on what part of the body is affected. Some general signs and symptoms associated with, but not specific to, cancer, include: Fatigue, Lump or area of thickening that can be felt under the skin, Weight changes, including unintended loss or gain, Skin changes, such as yellowing, darkening or redness of the skin, sores that won\\'t heal, or changes to existing moles, Changes in bowel or bladder habits, Persistent cough or trouble breathing, Difficulty swallowing, Hoarseness, Persistent indigestion or discomfort after eating, Persistent, unexplained muscle or joint pain, Persistent, unexplained fevers or night sweats, Unexplained bleeding or bruising\", \\'mayo_causes\\': \"Cancer is caused by changes to the DNA within cells. The DNA inside a cell is packaged into a large number of individual genes, each of which contains a set of instructions telling the cell what functions to perform, as well as how to grow and divide. Errors in the instructions can cause the cell to stop its normal function and may allow a cell to become cancerous. What do gene mutations do?, A gene mutation can instruct a healthy cell to: Allow rapid growth. A gene mutation can tell a cell to grow and divide more rapidly. This creates many new cells that all have that same mutation. Fail to stop uncontrolled cell growth. Normal cells know when to stop growing so that you have just the right number of each type of cell. Cancer cells lose the controls that tell them when to stop growing. A mutation in a tumor suppressor gene allows cancer cells to continue growing and accumulating. Make mistakes when repairing DNA errors. DNA repair genes look for errors in a cell\\'s DNA and make corrections. A mutation in a DNA repair gene may mean that other errors aren\\'t corrected, leading cells to become cancerous. These mutations are the most common ones found in cancer. But many other gene mutations can contribute to causing cancer. What causes gene mutations?, Gene mutations can occur for several reasons, for instance: Gene mutations you\\'re born with. You may be born with a genetic mutation that you inherited from your parents. This type of mutation accounts for a small percentage of cancers. Gene mutations that occur after birth. Most gene mutations occur after you\\'re born and aren\\'t inherited. A number of forces can cause gene mutations, such as smoking, radiation, viruses, cancer-causing chemicals, obesity, hormones, chronic inflammation and a lack of exercise. Gene mutations occur frequently during normal cell growth. However, cells contain a mechanism that recognizes when a mistake occurs and repairs the mistake. Occasionally, a mistake is missed. This could cause a cell to become cancerous. How do gene mutations interact with each other?, The gene mutations you\\'re born with and those that you acquire throughout your life work together to cause cancer. For instance, if you\\'ve inherited a genetic mutation that predisposes you to cancer, that doesn\\'t mean you\\'re certain to get cancer. Instead, you may need one or more other gene mutations to cause cancer. Your inherited gene mutation could make you more likely than other people to develop cancer when exposed to a certain cancer-causing substance. It\\'s not clear just how many mutations must accumulate for cancer to form. It\\'s likely that this varies among cancer types.\", \\'mayo_risk_factors\\': \"While doctors have an idea of what may increase your risk of cancer, the majority of cancers occur in people who don\\'t have any known risk factors. Factors known to increase your risk of cancer include: Your age, Cancer can take decades to develop. That\\'s why most people diagnosed with cancer are 65 or older. While it\\'s more common in older adults, cancer isn\\'t exclusively an adult disease — cancer can be diagnosed at any age. Your habits, Certain lifestyle choices are known to increase your risk of cancer. Smoking, drinking more than one alcoholic drink a day or two drinks a day, excessive exposure to the sun or frequent blistering sunburns, being obese, and having unsafe sex can contribute to cancer. You can change these habits to lower your risk of cancer — though some habits are easier to change than others. Your family history, Only a small portion of cancers are due to an inherited condition. If cancer is common in your family, it\\'s possible that mutations are being passed from one generation to the next. You might be a candidate for genetic testing to see whether you have inherited mutations that might increase your risk of certain cancers. Keep in mind that having an inherited genetic mutation doesn\\'t necessarily mean you\\'ll get cancer. Your health conditions, Some chronic health conditions, such as ulcerative colitis, can markedly increase your risk of developing certain cancers. Talk to your doctor about your risk. Your environment, The environment around you may contain harmful chemicals that can increase your risk of cancer. Even if you don\\'t smoke, you might inhale secondhand smoke if you go where people are smoking or if you live with someone who smokes. Chemicals in your home or workplace, such as asbestos and benzene, also are associated with an increased risk of cancer.\", \\'mayo_complications\\': \"Cancer and its treatment can cause several complications, including: Pain. Pain can be caused by cancer or by cancer treatment, though not all cancer is painful. Medications and other approaches can effectively treat cancer-related pain. Fatigue. Fatigue in people with cancer has many causes, but it can often be managed. Fatigue associated with chemotherapy or radiation therapy treatments is common, but it\\'s usually temporary. Difficulty breathing. Cancer or cancer treatment may cause a feeling of being short of breath. Treatments may bring relief. Nausea. Certain cancers and cancer treatments can cause nausea. Your doctor can sometimes predict if your treatment is likely to cause nausea. Medications and other treatments may help you prevent or decrease nausea. Diarrhea or constipation. Cancer and cancer treatment can affect your bowels and cause diarrhea or constipation. Weight loss. Cancer and cancer treatment may cause weight loss. Cancer steals food from normal cells and deprives them of nutrients. This is often not affected by how many calories or what kind of food is eaten; it\\'s difficult to treat. In most cases, using artificial nutrition through tubes into the stomach or vein does not help change the weight loss. Chemical changes in your body. Cancer can upset the normal chemical balance in your body and increase your risk of serious complications. Signs and symptoms of chemical imbalances might include excessive thirst, frequent urination, constipation and confusion. Brain and nervous system problems. Cancer can press on nearby nerves and cause pain and loss of function of one part of your body. Cancer that involves the brain can cause headaches and stroke-like signs and symptoms, such as weakness on one side of your body. Unusual immune system reactions to cancer. In some cases the body\\'s immune system may react to the presence of cancer by attacking healthy cells. Called paraneoplastic syndrome, these very rare reactions can lead to a variety of signs and symptoms, such as difficulty walking and seizures. Cancer that spreads. As cancer advances, it may spread to other parts of the body. Where cancer spreads depends on the type of cancer. Cancer that returns. Cancer survivors have a risk of cancer recurrence. Some cancers are more likely to recur than others. Ask your doctor about what you can do to reduce your risk of cancer recurrence. Your doctor may devise a follow-up care plan for you after treatment. This plan may include periodic scans and exams in the months and years after your treatment, to look for cancer recurrence.\", \\'mayo_prevention\\': \"There\\'s no certain way to prevent cancer. But doctors have identified several ways of reducing your cancer risk, such as: Stop smoking. If you smoke, quit. If you don\\'t smoke, don\\'t start. Smoking is linked to several types of cancer — not just lung cancer. Stopping now will reduce your risk of cancer in the future. Avoid excessive sun exposure. Harmful ultraviolet rays from the sun can increase your risk of skin cancer. Limit your sun exposure by staying in the shade, wearing protective clothing or applying sunscreen. Eat a healthy diet. Choose a diet rich in fruits and vegetables. Select whole grains and lean proteins. Exercise most days of the week. Regular exercise is linked to a lower risk of cancer. Aim for at least 30 minutes of exercise most days of the week. If you haven\\'t been exercising regularly, start out slowly and work your way up to 30 minutes or longer. Maintain a healthy weight. Being overweight or obese may increase your risk of cancer. Work to achieve and maintain a healthy weight through a combination of a healthy diet and regular exercise. Drink alcohol in moderation, if you choose to drink. If you choose to drink alcohol, limit yourself to one drink a day if you\\'re a woman of any age or a man older than age 65, or two drinks a day if you\\'re a man 65 years old or younger. Schedule cancer screening exams. Talk to your doctor about what types of cancer screening exams are best for you based on your risk factors. Ask your doctor about immunizations. Certain viruses increase your risk of cancer. Immunizations may help prevent those viruses, including hepatitis B, which increases the risk of liver cancer, and human papillomavirus, which increases the risk of cervical cancer and other cancers. Ask your doctor whether immunization against these viruses is appropriate for you.\", \\'mayo_see_doc\\': \"When to see a doctor, Make an appointment with your doctor if you have any persistent signs or symptoms that concern you. If you don\\'t have any signs or symptoms, but are worried about your risk of cancer, discuss your concerns with your doctor. Ask about which cancer screening tests and procedures are appropriate for you.\"}}',\n",
       "   'bone osteosarcoma{nodeId:31481, details:{\\'mondo_id\\': 2629, \\'mondo_name\\': \\'bone osteosarcoma\\', \\'mondo_definition\\': \\'A usually aggressive malignant bone-forming mesenchymal neoplasm arising from the bone. It may arise de novo or from a pre-existing lesion of the bone. Pain and a palpable mass are the most frequent clinical sign and symptom. It may spread to other anatomic sites, particularly the lungs.\\', \\'orphanet_definition\\': \\'Osteosarcoma is a primary malignant tumour of the skeleton characterised by the direct formation of immature bone or osteoid tissue by the tumour cells.\\', \\'orphanet_prevalence\\': \\'1-9/100000\\', \\'orphanet_epidemiology\\': \\'Classic osteosarcoma is a rare (0.2% of all malignant tumours) highly malignant tumour, with an estimated incidence of 3 cases/million population/year.\\', \\'orphanet_clinical_description\\': \\'Osteosarcoma arises predominantly in the long bones and rarely in the soft tissues. The age at presentation ranges from 10 to 25 years of age.\\', \\'orphanet_management_and_treatment\\': \\'In the past, all patients with osteosarcoma were treated by amputation but the cure rate was under 10% and almost all patients died within a year from diagnosis. At present, the percentage of patients cured varies between 60% and 70% for localised osteosarcoma at onset (80% of cases) treated in specialised bone tumour centres with pre- and postoperative chemotherapy associated with surgery. Surgery is conservative (limb salvage) in more than 90% of patients.\\', \\'mayo_symptoms\\': \\'Signs and symptoms of sarcoma include: A lump that can be felt through the skin that may or may not be painful, Bone pain, A broken bone that happens unexpectedly, such as with a minor injury or no injury at all, Abdominal pain, Weight loss\\', \\'mayo_causes\\': \"It\\'s not clear what causes most sarcomas. In general, cancer forms when changes happen in the DNA within cells. The DNA inside a cell is packaged into a large number of individual genes, each of which contains a set of instructions telling the cell what functions to perform, as well as how to grow and divide. Mutations might tell cells to grow and divide uncontrollably and to continue living when normal cells would die. If this happens, the accumulating abnormal cells can form a tumor. Cells can break away and spread to other parts of the body.\", \\'mayo_risk_factors\\': \"Factors that can increase the risk of sarcoma include: Inherited syndromes. Some syndromes that increase the risk of cancer can be passed from parents to children. Examples of syndromes that increase the risk of sarcoma include familial retinoblastoma and neurofibromatosis type 1. Radiation therapy for cancer. Radiation treatment for cancer increases the risk of developing a sarcoma later. Chronic swelling . Lymphedema is swelling caused by a backup of lymph fluid that occurs when the lymphatic system is blocked or damaged. It increases the risk of a type of sarcoma called angiosarcoma. Exposure to chemicals. Certain chemicals, such as some industrial chemicals and herbicides, can increase the risk of sarcoma that affects the liver. Exposure to viruses. The virus called human herpesvirus 8 can increase the risk of a type of sarcoma called Kaposi\\'s sarcoma in people with weakened immune systems.\"}}',\n",
       "   \"ovarian endometrioid adenocarcinoma{nodeId:37967, details:{'mondo_id': 6335, 'mondo_name': 'ovarian endometrioid adenocarcinoma', 'mondo_definition': 'An endometrioid adenocarcinoma arising from the ovary. It comprises 10% to 25% of all primary ovarian carcinomas. Grossly, endometrioid carcinoma may present as a cystic or solid mass. Microscopically, the tumor greatly resembles the appearance of the ordinary type of endometrial adenocarcinoma. As a group, endometrioid carcinoma has a prognosis twice as good as that of serous or mucinous carcinoma.', 'orphanet_definition': 'A rare malignant epithelial tumor of ovary characterized by confluent or cribriform proliferations of round, oval, or tubular glands, typically lined by stratified non-mucin-containing epithelium with well-defined luminal margins. Squamous differentiation, secretory changes, oxyphilic variants, sex cord-stromal type patterns, or sertoliform endometrioid carcinomas may occur. Patients most commonly present in the sixth decade of life, either with a pelvic mass with or without pain, or without any symptoms. The tumor may be bilateral and is frequently associated with endometriosis and/or endometrial carcinoma.'}}\",\n",
       "   'ovarian carcinosarcoma{nodeId:83816, details:{\\'mondo_id\\': 3792, \\'mondo_name\\': \\'ovarian carcinosarcoma\\', \\'mondo_definition\\': \\'A highly aggressive malignant neoplasm arising from the ovary. Morphologically, it is a high grade tumor, composed of carcinomatous and sarcomatous elements.\\', \\'orphanet_definition\\': \\'Malignant mixed Müllerian tumor of the ovary is a rare and very aggressive neoplasm presenting most commonly in postmenopausal women and is composed of adenocarcinomatous and sarcomatous elements and, depending on the types of these elements, can be classified as homologous or heterologous. It often has a poor prognosis.\\', \\'mayo_symptoms\\': \\'Signs and symptoms of sarcoma include: A lump that can be felt through the skin that may or may not be painful, Bone pain, A broken bone that happens unexpectedly, such as with a minor injury or no injury at all, Abdominal pain, Weight loss\\', \\'mayo_causes\\': \"It\\'s not clear what causes most sarcomas. In general, cancer forms when changes happen in the DNA within cells. The DNA inside a cell is packaged into a large number of individual genes, each of which contains a set of instructions telling the cell what functions to perform, as well as how to grow and divide. Mutations might tell cells to grow and divide uncontrollably and to continue living when normal cells would die. If this happens, the accumulating abnormal cells can form a tumor. Cells can break away and spread to other parts of the body.\", \\'mayo_risk_factors\\': \"Factors that can increase the risk of sarcoma include: Inherited syndromes. Some syndromes that increase the risk of cancer can be passed from parents to children. Examples of syndromes that increase the risk of sarcoma include familial retinoblastoma and neurofibromatosis type 1. Radiation therapy for cancer. Radiation treatment for cancer increases the risk of developing a sarcoma later. Chronic swelling . Lymphedema is swelling caused by a backup of lymph fluid that occurs when the lymphatic system is blocked or damaged. It increases the risk of a type of sarcoma called angiosarcoma. Exposure to chemicals. Certain chemicals, such as some industrial chemicals and herbicides, can increase the risk of sarcoma that affects the liver. Exposure to viruses. The virus called human herpesvirus 8 can increase the risk of a type of sarcoma called Kaposi\\'s sarcoma in people with weakened immune systems.\"}}',\n",
       "   \"borderline epithelial tumor of ovary{nodeId:39615, details:{'mondo_id': 16093, 'mondo_name': 'borderline epithelial tumor of ovary', 'mondo_definition': 'A low grade epithelial tumor arising from the ovary. It is characterized by an atypical proliferation of epithelial cells. There is no evidence of stromal invasion.', 'orphanet_definition': 'Borderline epithelial tumor of the ovary is an uncommon epithelial ovarian neoplasm, distinguished from ovarian carcinomas by the absence of destructive stromal invasion, generally characterized by indolent behavior and excellent prognosis. Most patients are asymptomatic at the time of diagnosis, and the symptoms, if present, are often nonspecific and vague, such as pelvic pain, abdominal mass or, rarely, gastrointestinal problems including early satiety or bloating. Six histological subtypes are currently recognized, based on the epithelial cell type.'}}\",\n",
       "   \"ovarian clear cell adenocarcinoma{nodeId:37423, details:{'mondo_id': 6045, 'mondo_name': 'ovarian clear cell adenocarcinoma', 'mondo_definition': 'A malignant glandular epithelial neoplasm characterized by the presence of clear and hobnail cells. It is highly associated with ovarian endometriosis, pelvic endometriosis and paraendocrine hypercalcemia.', 'orphanet_definition': 'Clear cell adenocarcinoma of ovary is a rare, malignant, epithelilal ovarian neoplasm, composed of clear, eosinophilic and hobnail cells displaying variable degrees of tubulocystic, papillary and solid histological patterns, macroscopically appearing as a typically unilateral mass in the ovary which ranges from solid to cystic. Patients are often diagnosed in early stages and usually present with pelvic pain and pressure, an abdominal mass and/or gastrointestinal problems, such as early satiety or bloating. Association with Lynch syndrome has been reported.'}}\",\n",
       "   \"yolk sac tumor{nodeId:36527, details:{'mondo_id': 5744, 'mondo_name': 'yolk sac tumor', 'mondo_definition': 'A non-seminomatous malignant germ cell tumor composed of primitive germ cells. It is the most common malignant germ cell tumor in the pediatric population. It occurs in the infant testis, ovary, sacrococcygeal region, vagina, uterus, prostate, abdomen, liver, retroperitoneum, thorax, and pineal/third ventricle. The tumor mimics the yolk sac of the embryo and produces alpha-fetoprotein (AFP). Treatment includes: surgical resection, radiation, and chemotherapy. This tumor is very responsive to chemotherapy regimens that include cisplatinum.', 'orphanet_definition': 'A rare germ cell tumor characterized by multiple patterns reflecting endodermal extraembryonal differentiation (secondary yolk sac and allantois) or endodermal somatic tissues (intestine, liver, and mesenchyme). The tumors most commonly occur in the second or third decade of life. They are typically located in the gonads, occasionally also in other regions. Patients present with a pelvic mass and/or abdominal pain (females) or an often painless, unilateral testicular mass (males). Elevated serum alpha fetoprotein is a common laboratory finding.'}}\",\n",
       "   'lymphosarcoma{nodeId:83796, details:{\\'mondo_id\\': 4638, \\'mondo_name\\': \\'lymphosarcoma\\', \\'mondo_definition\\': \\'An antiquated term that refers to a non-Hodgkin lymphoma composed of small and medium sized lymphocytes.\\', \\'umls_description\\': \\'A multifocal, multisystem form of Langerhans-cell histiocytosis. There is involvement of multiple organ systems including the bones, skin, liver, spleen, and lymph nodes. Patients are usually infants presenting with fever, hepatosplenomegaly, lymphadenopathy, bone and skin lesions, and pancytopenia.\\', \\'mayo_symptoms\\': \\'Signs and symptoms of sarcoma include: A lump that can be felt through the skin that may or may not be painful, Bone pain, A broken bone that happens unexpectedly, such as with a minor injury or no injury at all, Abdominal pain, Weight loss\\', \\'mayo_causes\\': \"It\\'s not clear what causes most sarcomas. In general, cancer forms when changes happen in the DNA within cells. The DNA inside a cell is packaged into a large number of individual genes, each of which contains a set of instructions telling the cell what functions to perform, as well as how to grow and divide. Mutations might tell cells to grow and divide uncontrollably and to continue living when normal cells would die. If this happens, the accumulating abnormal cells can form a tumor. Cells can break away and spread to other parts of the body.\", \\'mayo_risk_factors\\': \"Factors that can increase the risk of sarcoma include: Inherited syndromes. Some syndromes that increase the risk of cancer can be passed from parents to children. Examples of syndromes that increase the risk of sarcoma include familial retinoblastoma and neurofibromatosis type 1. Radiation therapy for cancer. Radiation treatment for cancer increases the risk of developing a sarcoma later. Chronic swelling . Lymphedema is swelling caused by a backup of lymph fluid that occurs when the lymphatic system is blocked or damaged. It increases the risk of a type of sarcoma called angiosarcoma. Exposure to chemicals. Certain chemicals, such as some industrial chemicals and herbicides, can increase the risk of sarcoma that affects the liver. Exposure to viruses. The virus called human herpesvirus 8 can increase the risk of a type of sarcoma called Kaposi\\'s sarcoma in people with weakened immune systems.\"}}',\n",
       "   'carcinoma{nodeId:36240, details:{\\'mondo_id\\': 4993, \\'mondo_name\\': \\'carcinoma\\', \\'mondo_definition\\': \\'A malignant tumor arising from epithelial cells. Carcinomas that arise from glandular epithelium are called adenocarcinomas, those that arise from squamous epithelium are called squamous cell carcinomas, and those that arise from transitional epithelium are called transitional cell carcinomas. Morphologically, the malignant epithelial cells may display abnormal mitotic figures, anaplasia, and necrosis. Carcinomas are graded by the degree of cellular differentiation as well, moderately, or poorly differentiated. Carcinomas invade the surrounding tissues and tend to metastasize to other anatomic sites. Lung carcinoma, skin carcinoma, breast carcinoma, colon carcinoma, and prostate carcinoma are the most frequently seen carcinomas.\\', \\'mayo_symptoms\\': \\'Signs and symptoms of carcinoma of unknown primary depend on what part of the body is involved. In general, they might include: A lump that can be felt through the skin, Pain, Changes in bowel habits, such as new and persistent constipation or diarrhea, Frequent urination, Cough, Fever, Night sweats, Losing weight without trying\\', \\'mayo_causes\\': \"In general, cancer forms when cells develop changes in their DNA. The DNA contains instructions that tell cells what to do. Certain mutations can cause a cell to multiply uncontrollably and to continue living when normal cells would die. When this happens, the abnormal cells accumulate and form a tumor. The tumor cells can break away and spread to other parts of the body. In carcinoma of unknown primary, the cancer cells that spread to other parts of the body are found. But the original tumor isn\\'t found. This can happen if: The original cancer is too small to be detected by imaging tests, The original cancer was killed by the body\\'s immune system, The original cancer was removed in an operation for another condition\", \\'mayo_risk_factors\\': \"The risk of carcinoma of unknown primary might be related to: Older age. This type of cancer is most likely to occur in people older than 60. Family history of cancer. There\\'s some evidence that carcinoma of unknown primary might be associated with a family history of cancer that affects the lungs, kidneys or colon.\"}}',\n",
       "   \"immature ovarian teratoma{nodeId:37047, details:{'mondo_id': 18369, 'mondo_name': 'immature ovarian teratoma', 'mondo_definition': 'A malignant germ cell tumor arising from the ovary. It usually affects females in their first two decades of life. It contains variable amounts of immature embryonal tissues. Based on the amount of immature neuroepithelial component, immature teratomas are graded from 1 to 3. The stage and grade of the tumor and the grade of the metastatic tumor are the important factors that predict prognosis. The use of cisplatin-based combination chemotherapy has significantly improved the survival rates of the patients.', 'orphanet_definition': 'A rare ovarian germ cell tumor characterized by a unilateral large adnexal mass containing variable amounts of immature embryonal-type tissues (mostly in the form of neuroectodermal tubules and rosettes, sometimes with a component of cellular mitotically active glia), admixed with ectodermal and endodermal elements with varying degrees of maturation. Patients typically present in their first three decades of life with signs and symptoms related to mass effect. The tumor is often associated with the occurrence of innumerable miliary nodules of mature glia in the peritoneum (gliomatosis peritonei) and abdominal lymph nodes.'}}\"],\n",
       "  'n3TextDetails': [\"EZH2{nodeId:2768, details:{'query': 'EZH2', '_id': '2146', '_score': 17.3527, 'alias': ['ENX-1', 'ENX1', 'EZH2b', 'KMT6', 'KMT6A', 'WVS', 'WVS2'], 'genomic_pos': {'chr': '7', 'end': 148884321, 'ensemblgene': 'ENSG00000106462', 'start': 148807257, 'strand': -1}, 'name': 'enhancer of zeste 2 polycomb repressive complex 2 subunit', 'summary': 'This gene encodes a member of the Polycomb-group (PcG) family. PcG family members form multimeric protein complexes, which are involved in maintaining the transcriptional repressive state of genes over successive cell generations. This protein associates with the embryonic ectoderm development protein, the VAV1 oncoprotein, and the X-linked nuclear protein. This protein may play a role in the hematopoietic and central nervous systems. Multiple alternatively splcied transcript variants encoding distinct isoforms have been identified for this gene. [provided by RefSeq, Feb 2011].'}}\",\n",
       "   \"ZIC2{nodeId:9875, details:{'query': 'ZIC2', '_id': '7546', '_score': 17.955, 'alias': 'HPE5', 'genomic_pos': {'chr': '13', 'end': 99986765, 'ensemblgene': 'ENSG00000043355', 'start': 99981784, 'strand': 1}, 'name': 'Zic family member 2', 'summary': 'This gene encodes a member of the ZIC family of C2H2-type zinc finger proteins. This protein functions as a transcriptional repressor and may regulate tissue specific expression of dopamine receptor D1. Expansion of an alanine repeat in the C-terminus of the encoded protein and other mutations in this gene cause holoprosencephaly type 5. Holoprosencephaly is the most common structural anomaly of the human brain. A polyhistidine tract polymorphism in this gene may be associated with increased risk of neural tube defects. This gene is closely linked to a gene encoding zinc finger protein of the cerebellum 5, a related family member on chromosome 13. [provided by RefSeq, Jul 2016].'}}\",\n",
       "   \"EPHX1{nodeId:4369, details:{'query': 'EPHX1', '_id': '2052', '_score': 17.449507, 'alias': ['EPHX', 'EPOX', 'HYL1', 'MEH'], 'genomic_pos': {'chr': '1', 'end': 225845563, 'ensemblgene': 'ENSG00000143819', 'start': 225810124, 'strand': 1}, 'name': 'epoxide hydrolase 1', 'summary': 'Epoxide hydrolase is a critical biotransformation enzyme that converts epoxides from the degradation of aromatic compounds to trans-dihydrodiols which can be conjugated and excreted from the body. Epoxide hydrolase functions in both the activation and detoxification of epoxides. Mutations in this gene cause preeclampsia, epoxide hydrolase deficiency or increased epoxide hydrolase activity. Alternatively spliced transcript variants encoding the same protein have been found for this gene.[provided by RefSeq, Dec 2008].'}}\",\n",
       "   \"ZEB1{nodeId:449, details:{'query': 'ZEB1', '_id': '6935', '_score': 17.76221, 'alias': ['AREB6', 'BZP', 'DELTAEF1', 'FECD6', 'NIL2A', 'PPCD3', 'TCF8', 'ZFHEP', 'ZFHX1A'], 'genomic_pos': {'chr': '10', 'end': 31529814, 'ensemblgene': 'ENSG00000148516', 'start': 31318495, 'strand': 1}, 'name': 'zinc finger E-box binding homeobox 1', 'summary': 'This gene encodes a zinc finger transcription factor. The encoded protein likely plays a role in transcriptional repression of interleukin 2. Mutations in this gene have been associated with posterior polymorphous corneal dystrophy-3 and late-onset Fuchs endothelial corneal dystrophy. Alternatively spliced transcript variants encoding different isoforms have been described.[provided by RefSeq, Mar 2010].'}}\",\n",
       "   \"ZDHHC2{nodeId:21996, details:{'query': 'ZDHHC2', '_id': '51201', '_score': 17.326057, 'alias': ['DHHC2', 'ZNF372'], 'genomic_pos': {'chr': '8', 'end': 17224799, 'ensemblgene': 'ENSG00000104219', 'start': 17156482, 'strand': 1}, 'name': 'zinc finger DHHC-type palmitoyltransferase 2', 'summary': 'Enables protein homodimerization activity and protein-cysteine S-palmitoyltransferase activity. Involved in several processes, including peptidyl-L-cysteine S-palmitoylation; regulation of protein catabolic process; and regulation of protein localization to plasma membrane. Located in Golgi apparatus and endoplasmic reticulum membrane. [provided by Alliance of Genome Resources, Apr 2022]'}}\",\n",
       "   \"EZR{nodeId:3974, details:{'query': 'EZR', '_id': '7430', '_score': 17.881289, 'alias': ['CVIL', 'CVL', 'HEL-S-105', 'VIL2'], 'genomic_pos': {'chr': '6', 'end': 158819368, 'ensemblgene': 'ENSG00000092820', 'start': 158765741, 'strand': -1}, 'name': 'ezrin', 'summary': 'The cytoplasmic peripheral membrane protein encoded by this gene functions as a protein-tyrosine kinase substrate in microvilli. As a member of the ERM protein family, this protein serves as an intermediate between the plasma membrane and the actin cytoskeleton. This protein plays a key role in cell surface structure adhesion, migration and organization, and it has been implicated in various human cancers. A pseudogene located on chromosome 3 has been identified for this gene. Alternatively spliced variants have also been described for this gene. [provided by RefSeq, Jul 2008].'}}\",\n",
       "   \"ZIC5{nodeId:33994, details:{'query': 'ZIC5', '_id': '85416', '_score': 17.531992, 'genomic_pos': {'chr': '13', 'end': 99971767, 'ensemblgene': 'ENSG00000139800', 'start': 99962964, 'strand': -1}, 'name': 'Zic family member 5', 'summary': 'This gene encodes a member of the ZIC family of C2H2-type zinc finger proteins. The encoded protein may act as a transcriptional repressor. Studies in mouse and Xenopus support a role for this gene in neural crest development. Elevated expression of this gene has been observed in various human cancers and may contribute to cancer progression. This gene is closely linked to a related family member on chromosome 13. [provided by RefSeq, Mar 2017].'}}\",\n",
       "   \"EGR1{nodeId:15, details:{'query': 'EGR1', '_id': '1958', '_score': 17.419584, 'alias': ['AT225', 'G0S30', 'KROX-24', 'NGFI-A', 'TIS8', 'ZIF-268', 'ZNF225'], 'genomic_pos': {'chr': '5', 'end': 138469303, 'ensemblgene': 'ENSG00000120738', 'start': 138465479, 'strand': 1}, 'name': 'early growth response 1', 'summary': 'The protein encoded by this gene belongs to the EGR family of C2H2-type zinc-finger proteins. It is a nuclear protein and functions as a transcriptional regulator. The products of target genes it activates are required for differentitation and mitogenesis. Studies suggest this is a cancer suppressor gene. [provided by RefSeq, Dec 2014].'}}\",\n",
       "   \"ZNF23{nodeId:7159, details:{'query': 'ZNF23', '_id': '7571', '_score': 18.774065, 'alias': ['KOX16', 'ZNF359', 'ZNF612', 'Zfp612'], 'genomic_pos': {'chr': '16', 'end': 71463095, 'ensemblgene': 'ENSG00000167377', 'start': 71447597, 'strand': -1}, 'name': 'zinc finger protein 23', 'summary': 'Enables sequence-specific double-stranded DNA binding activity. Predicted to be involved in regulation of transcription by RNA polymerase II. Predicted to be active in nucleus. [provided by Alliance of Genome Resources, Apr 2022]'}}\",\n",
       "   \"EHD3{nodeId:10619, details:{'query': 'EHD3', '_id': '30845', '_score': 17.428135, 'alias': 'PAST3', 'genomic_pos': {'chr': '2', 'end': 31269451, 'ensemblgene': 'ENSG00000013016', 'start': 31234152, 'strand': 1}, 'name': 'EH domain containing 3', 'summary': 'Predicted to enable nucleic acid binding activity. Involved in several processes, including Golgi to lysosome transport; endosomal transport; and protein homooligomerization. Acts upstream of or within protein localization to plasma membrane and regulation of cardiac muscle cell membrane potential. Located in ciliary pocket membrane and recycling endosome membrane. [provided by Alliance of Genome Resources, Apr 2022]'}}\",\n",
       "   \"EFNB2{nodeId:961, details:{'query': 'EFNB2', '_id': '1948', '_score': 17.79077, 'alias': ['EPLG5', 'HTKL', 'Htk-L', 'LERK5', 'ephrin-B2'], 'genomic_pos': {'chr': '13', 'end': 106535662, 'ensemblgene': 'ENSG00000125266', 'start': 106489745, 'strand': -1}, 'name': 'ephrin B2', 'summary': 'This gene encodes a member of the ephrin (EPH) family. The ephrins and EPH-related receptors comprise the largest subfamily of receptor protein-tyrosine kinases and have been implicated in mediating developmental events, especially in the nervous system and in erythropoiesis. Based on their structures and sequence relationships, ephrins are divided into the ephrin-A (EFNA) class, which are anchored to the membrane by a glycosylphosphatidylinositol linkage, and the ephrin-B (EFNB) class, which are transmembrane proteins. This gene encodes an EFNB class ephrin which binds to the EPHB4 and EPHA3 receptors. [provided by RefSeq, Jul 2008].'}}\",\n",
       "   \"DPH1{nodeId:5580, details:{'query': 'DPH1', '_id': '1801', '_score': 17.217262, 'alias': ['DEDSSH', 'DPH2L', 'DPH2L1', 'OVCA1'], 'genomic_pos': {'chr': '17', 'end': 2043898, 'ensemblgene': 'ENSG00000108963', 'start': 2030137, 'strand': 1}, 'name': 'diphthamide biosynthesis 1', 'summary': 'The protein encoded by this gene is an enzyme involved in the biosynthesis of diphthamide, a modified histidine found only in elongation factor-2 (EEF2). Diphthamide residues in EEF2 are targeted for ADP-ribosylation by diphtheria toxin and Pseudomonas exotoxin A. Defects in this gene have been associated with both ovarian cancer and autosomal recessive intellectual disability with short stature, craniofacial, and ectodermal anomalies. [provided by RefSeq, Oct 2016].'}}\",\n",
       "   \"YTHDF2{nodeId:11168, details:{'query': 'YTHDF2', '_id': '51441', '_score': 17.352848, 'alias': ['CAHL', 'DF2', 'HGRG8', 'NY-REN-2'], 'genomic_pos': {'chr': '1', 'end': 28769775, 'ensemblgene': 'ENSG00000198492', 'start': 28736621, 'strand': 1}, 'name': 'YTH N6-methyladenosine RNA binding protein F2', 'summary': 'This gene encodes a member of the YTH (YT521-B homology) superfamily containing YTH domain. The YTH domain is typical for the eukaryotes and is particularly abundant in plants. The YTH domain is usually located in the middle of the protein sequence and may function in binding to RNA. In addition to a YTH domain, this protein has a proline rich region which may be involved in signal transduction. An Alu-rich domain has been identified in one of the introns of this gene, which is thought to be associated with human longevity. In addition, reciprocal translocations between this gene and the Runx1 (AML1) gene on chromosome 21 has been observed in patients with acute myeloid leukemia. This gene was initially mapped to chromosome 14, which was later turned out to be a pseudogene. Alternatively spliced transcript variants encoding different isoforms have been identified in this gene. [provided by RefSeq, Oct 2012].'}}\",\n",
       "   \"CHN2{nodeId:7419, details:{'query': 'CHN2', '_id': '1124', '_score': 17.38568, 'alias': ['ARHGAP3', 'BCH', 'CHN2-3', 'RHOGAP3'], 'genomic_pos': {'chr': '7', 'end': 29514328, 'ensemblgene': 'ENSG00000106069', 'start': 29146547, 'strand': 1}, 'name': 'chimerin 2', 'summary': 'This gene encodes a guanosine triphosphate (GTP)-metabolizing protein that contains a phorbol-ester/diacylglycerol (DAG)-type zinc finger, a Rho-GAP domain, and an SH2 domain. The encoded protein translocates from the cytosol to the Golgi apparatus membrane upon binding by diacylglycerol (DAG). Activity of this protein is important in cell proliferation and migration, and expression changes in this gene have been detected in cancers. A mutation in this gene has also been associated with schizophrenia in men. Alternative transcript splicing and the use of alternative promoters results in multiple transcript variants. [provided by RefSeq, May 2014].'}}\",\n",
       "   \"ZIC4{nodeId:8901, details:{'query': 'ZIC4', '_id': '84107', '_score': 17.560717, 'genomic_pos': {'chr': '3', 'end': 147406809, 'ensemblgene': 'ENSG00000174963', 'start': 147386046, 'strand': -1}, 'name': 'Zic family member 4', 'summary': 'This gene encodes a member of the ZIC family of C2H2-type zinc finger proteins. Members of this family are important during development, and have been associated with X-linked visceral heterotaxy and holoprosencephaly type 5. This gene is closely linked to the gene encoding zinc finger protein of the cerebellum 1, a related family member on chromosome 3. Heterozygous deletion of these linked genes is involved in Dandy-Walker malformation, which is a congenital cerebellar malformation. Multiple transcript variants have been identified for this gene. [provided by RefSeq, Dec 2009].'}}\",\n",
       "   'PZP{nodeId:9249, details:{\\'query\\': \\'PZP\\', \\'_id\\': \\'5858\\', \\'_score\\': 21.10849, \\'alias\\': \\'CPAMD6\\', \\'genomic_pos\\': {\\'chr\\': \\'12\\', \\'end\\': 9208395, \\'ensemblgene\\': \\'ENSG00000126838\\', \\'start\\': 9148840, \\'strand\\': -1}, \\'name\\': \\'PZP alpha-2-macroglobulin like\\', \\'summary\\': \"The protein encoded by this gene is highly expressed in late-pregnancy serum and is similar in structure to alpha-2-macroglobulin. The encoded protein, which acts as a homotetramer, inhibits the activity of all four classes of proteinases. This protein contains cleavage sites for several proteinases. Upon binding of a proteinase, the conformation of this protein changes to trap the proteinase, limiting its activity. This protein appears to be elevated in the sera of presymptomatic Alzheimer\\'s disease patients. [provided by RefSeq, Dec 2016].\"}}']}]"
      ]
     },
     "execution_count": 291,
     "metadata": {},
     "output_type": "execute_result"
    }
   ],
   "execution_count": 291
  },
  {
   "metadata": {
    "ExecuteTime": {
     "end_time": "2024-10-20T18:54:25.389967Z",
     "start_time": "2024-10-20T18:54:25.329075Z"
    }
   },
   "cell_type": "code",
   "source": [
    "PROMPT = PromptTemplate.from_template('''\n",
    "Yu are a medical professional using your expertise to Answer the Question with the following Facts and Details knowledge.\n",
    "If the Facts are empty response with no Node Ids and explain there isn't any info to answer the question.\n",
    "\n",
    "Return result as JSON using the following format:\n",
    "{{\"nodeIds\": [list of integer nodeIds containing the correct answers in order of probability highest to smallest], \"explanation\": \"written explanation as to why the node id answers were provided\"}}\n",
    "\n",
    "# Question:\n",
    "{question}\n",
    " \n",
    "# Facts:\n",
    "{facts}\n",
    "\n",
    "# Details\n",
    "{details}\n",
    "\n",
    "# Answer:\n",
    "''')\n",
    "\n",
    "class NodeResponse(BaseModel):\n",
    "    \"\"\"Response Format to Use\"\"\"\n",
    "    nodeIds: List[str] = Field(description=\"list of integer nodeIds containing the correct answers in order of probability highest to smallest\")\n",
    "    explanation: str = Field(description=\"written explanation as to why the node id answers were provided\")\n",
    "\n",
    "response_llm = ChatOpenAI(\n",
    "    model_name=\"gpt-4o\",\n",
    "    temperature=0, # turning temperature down for more deterministic results\n",
    "    seed=42\n",
    ").with_structured_output(NodeResponse)\n",
    "\n",
    "\n",
    "def answer(question: str):\n",
    "    \n",
    "    #print(f\"Starting CHain to Answer Question:\\n{question}\")\n",
    "    \n",
    "    #print('\\n\\nFinding Access Pattern')\n",
    "    match_pattern = gen_match_pattern(question)\n",
    "    #print(match_pattern)\n",
    "    \n",
    "    #print(\"\\n\\nCreating Cypher Query Graph Pattern\")\n",
    "    gp = GraphPattern.from_access_pattern(match_pattern)\n",
    "    #print(f\"CypherQuery:\\n{gp.make_query()}\")\n",
    "    #print(f\"SearchPrompts:\\n{gp.nodeSearchPrompts}\")\n",
    "\n",
    "    #print(\"\\n\\nRetrieving Data\")\n",
    "    context = retrieve(gp)\n",
    "    #print(f\"context Len (should be 1): {len(context)}\")\n",
    "    #print(context)\n",
    "    \n",
    "    print(\"\\n\\nGenerating Response\")\n",
    "    if len(context) > 0:\n",
    "        prompt = PROMPT.format(question=question, facts=context[0]['facts'], details={k:v for k,v in context[0].items() if k != 'facts'})\n",
    "    else:\n",
    "        prompt = PROMPT.format(question=question, facts='', details='')\n",
    "    return response_llm.invoke(prompt), context"
   ],
   "id": "dbc8b845bf2b3ce7",
   "outputs": [],
   "execution_count": 292
  },
  {
   "metadata": {
    "ExecuteTime": {
     "end_time": "2024-10-20T18:58:11.049407Z",
     "start_time": "2024-10-20T18:54:25.390614Z"
    }
   },
   "cell_type": "code",
   "source": [
    "res_list = []\n",
    "for ind, row in qa_dataset.data[0:12].iterrows():\n",
    "    #try:\n",
    "    res, context  = answer(row['query'])\n",
    "    res_list.append((res, context, row['answer_ids']))\n",
    "    print(f\"Response: {res.nodeIds}\")\n",
    "    print(f\"Correct Answer: {row['answer_ids']}\")\n",
    "    #except Exception as e:\n",
    "    #    print(str(e))"
   ],
   "id": "c5e01bb82371f6cd",
   "outputs": [
    {
     "name": "stdout",
     "output_type": "stream",
     "text": [
      "\n",
      "\n",
      "Generating Response\n",
      "Response: ['83756', '33707', '96165', '96054', '37476']\n",
      "Correct Answer: [95886]\n",
      "\n",
      "\n",
      "Generating Response\n",
      "Response: []\n",
      "Correct Answer: [15450]\n",
      "\n",
      "\n",
      "Generating Response\n",
      "Response: ['32763']\n",
      "Correct Answer: [98851, 98853]\n",
      "\n",
      "\n",
      "Generating Response\n",
      "Response: []\n",
      "Correct Answer: [15698]\n",
      "\n",
      "\n",
      "Generating Response\n",
      "Response: []\n",
      "Correct Answer: [7161, 22045]\n",
      "\n",
      "\n",
      "Generating Response\n",
      "Response: []\n",
      "Correct Answer: [38368]\n",
      "\n",
      "\n",
      "Generating Response\n",
      "Response: ['35652', '35641', '4909']\n",
      "Correct Answer: [84191]\n",
      "\n",
      "\n",
      "Generating Response\n",
      "Response: ['27771', '28554']\n",
      "Correct Answer: [27771]\n",
      "\n",
      "\n",
      "Generating Response\n",
      "Response: ['34444']\n",
      "Correct Answer: [60432]\n",
      "\n",
      "\n",
      "Generating Response\n",
      "Response: []\n",
      "Correct Answer: [3188, 3342, 4815]\n",
      "\n",
      "\n",
      "Generating Response\n"
     ]
    },
    {
     "ename": "BadRequestError",
     "evalue": "Error code: 400 - {'error': {'message': \"This model's maximum context length is 128000 tokens. However, your messages resulted in 149146 tokens (149073 in the messages, 73 in the functions). Please reduce the length of the messages or functions.\", 'type': 'invalid_request_error', 'param': 'messages', 'code': 'context_length_exceeded'}}",
     "output_type": "error",
     "traceback": [
      "\u001B[0;31m---------------------------------------------------------------------------\u001B[0m",
      "\u001B[0;31mBadRequestError\u001B[0m                           Traceback (most recent call last)",
      "Cell \u001B[0;32mIn[293], line 4\u001B[0m\n\u001B[1;32m      1\u001B[0m res_list \u001B[38;5;241m=\u001B[39m []\n\u001B[1;32m      2\u001B[0m \u001B[38;5;28;01mfor\u001B[39;00m ind, row \u001B[38;5;129;01min\u001B[39;00m qa_dataset\u001B[38;5;241m.\u001B[39mdata[\u001B[38;5;241m0\u001B[39m:\u001B[38;5;241m12\u001B[39m]\u001B[38;5;241m.\u001B[39miterrows():\n\u001B[1;32m      3\u001B[0m     \u001B[38;5;66;03m#try:\u001B[39;00m\n\u001B[0;32m----> 4\u001B[0m     res, context  \u001B[38;5;241m=\u001B[39m answer(row[\u001B[38;5;124m'\u001B[39m\u001B[38;5;124mquery\u001B[39m\u001B[38;5;124m'\u001B[39m])\n\u001B[1;32m      5\u001B[0m     res_list\u001B[38;5;241m.\u001B[39mappend((res, context, row[\u001B[38;5;124m'\u001B[39m\u001B[38;5;124manswer_ids\u001B[39m\u001B[38;5;124m'\u001B[39m]))\n\u001B[1;32m      6\u001B[0m     \u001B[38;5;28mprint\u001B[39m(\u001B[38;5;124mf\u001B[39m\u001B[38;5;124m\"\u001B[39m\u001B[38;5;124mResponse: \u001B[39m\u001B[38;5;132;01m{\u001B[39;00mres\u001B[38;5;241m.\u001B[39mnodeIds\u001B[38;5;132;01m}\u001B[39;00m\u001B[38;5;124m\"\u001B[39m)\n",
      "Cell \u001B[0;32mIn[292], line 55\u001B[0m, in \u001B[0;36manswer\u001B[0;34m(question)\u001B[0m\n\u001B[1;32m     53\u001B[0m \u001B[38;5;28;01melse\u001B[39;00m:\n\u001B[1;32m     54\u001B[0m     prompt \u001B[38;5;241m=\u001B[39m PROMPT\u001B[38;5;241m.\u001B[39mformat(question\u001B[38;5;241m=\u001B[39mquestion, facts\u001B[38;5;241m=\u001B[39m\u001B[38;5;124m'\u001B[39m\u001B[38;5;124m'\u001B[39m, details\u001B[38;5;241m=\u001B[39m\u001B[38;5;124m'\u001B[39m\u001B[38;5;124m'\u001B[39m)\n\u001B[0;32m---> 55\u001B[0m \u001B[38;5;28;01mreturn\u001B[39;00m response_llm\u001B[38;5;241m.\u001B[39minvoke(prompt), context\n",
      "File \u001B[0;32m~/opt/anaconda3/envs/neo4j-gnn-llm-example/lib/python3.11/site-packages/langchain_core/runnables/base.py:2877\u001B[0m, in \u001B[0;36mRunnableSequence.invoke\u001B[0;34m(self, input, config, **kwargs)\u001B[0m\n\u001B[1;32m   2875\u001B[0m context\u001B[38;5;241m.\u001B[39mrun(_set_config_context, config)\n\u001B[1;32m   2876\u001B[0m \u001B[38;5;28;01mif\u001B[39;00m i \u001B[38;5;241m==\u001B[39m \u001B[38;5;241m0\u001B[39m:\n\u001B[0;32m-> 2877\u001B[0m     \u001B[38;5;28minput\u001B[39m \u001B[38;5;241m=\u001B[39m context\u001B[38;5;241m.\u001B[39mrun(step\u001B[38;5;241m.\u001B[39minvoke, \u001B[38;5;28minput\u001B[39m, config, \u001B[38;5;241m*\u001B[39m\u001B[38;5;241m*\u001B[39mkwargs)\n\u001B[1;32m   2878\u001B[0m \u001B[38;5;28;01melse\u001B[39;00m:\n\u001B[1;32m   2879\u001B[0m     \u001B[38;5;28minput\u001B[39m \u001B[38;5;241m=\u001B[39m context\u001B[38;5;241m.\u001B[39mrun(step\u001B[38;5;241m.\u001B[39minvoke, \u001B[38;5;28minput\u001B[39m, config)\n",
      "File \u001B[0;32m~/opt/anaconda3/envs/neo4j-gnn-llm-example/lib/python3.11/site-packages/langchain_core/runnables/base.py:5093\u001B[0m, in \u001B[0;36mRunnableBindingBase.invoke\u001B[0;34m(self, input, config, **kwargs)\u001B[0m\n\u001B[1;32m   5087\u001B[0m \u001B[38;5;28;01mdef\u001B[39;00m \u001B[38;5;21minvoke\u001B[39m(\n\u001B[1;32m   5088\u001B[0m     \u001B[38;5;28mself\u001B[39m,\n\u001B[1;32m   5089\u001B[0m     \u001B[38;5;28minput\u001B[39m: Input,\n\u001B[1;32m   5090\u001B[0m     config: Optional[RunnableConfig] \u001B[38;5;241m=\u001B[39m \u001B[38;5;28;01mNone\u001B[39;00m,\n\u001B[1;32m   5091\u001B[0m     \u001B[38;5;241m*\u001B[39m\u001B[38;5;241m*\u001B[39mkwargs: Optional[Any],\n\u001B[1;32m   5092\u001B[0m ) \u001B[38;5;241m-\u001B[39m\u001B[38;5;241m>\u001B[39m Output:\n\u001B[0;32m-> 5093\u001B[0m     \u001B[38;5;28;01mreturn\u001B[39;00m \u001B[38;5;28mself\u001B[39m\u001B[38;5;241m.\u001B[39mbound\u001B[38;5;241m.\u001B[39minvoke(\n\u001B[1;32m   5094\u001B[0m         \u001B[38;5;28minput\u001B[39m,\n\u001B[1;32m   5095\u001B[0m         \u001B[38;5;28mself\u001B[39m\u001B[38;5;241m.\u001B[39m_merge_configs(config),\n\u001B[1;32m   5096\u001B[0m         \u001B[38;5;241m*\u001B[39m\u001B[38;5;241m*\u001B[39m{\u001B[38;5;241m*\u001B[39m\u001B[38;5;241m*\u001B[39m\u001B[38;5;28mself\u001B[39m\u001B[38;5;241m.\u001B[39mkwargs, \u001B[38;5;241m*\u001B[39m\u001B[38;5;241m*\u001B[39mkwargs},\n\u001B[1;32m   5097\u001B[0m     )\n",
      "File \u001B[0;32m~/opt/anaconda3/envs/neo4j-gnn-llm-example/lib/python3.11/site-packages/langchain_core/language_models/chat_models.py:277\u001B[0m, in \u001B[0;36mBaseChatModel.invoke\u001B[0;34m(self, input, config, stop, **kwargs)\u001B[0m\n\u001B[1;32m    266\u001B[0m \u001B[38;5;28;01mdef\u001B[39;00m \u001B[38;5;21minvoke\u001B[39m(\n\u001B[1;32m    267\u001B[0m     \u001B[38;5;28mself\u001B[39m,\n\u001B[1;32m    268\u001B[0m     \u001B[38;5;28minput\u001B[39m: LanguageModelInput,\n\u001B[0;32m   (...)\u001B[0m\n\u001B[1;32m    272\u001B[0m     \u001B[38;5;241m*\u001B[39m\u001B[38;5;241m*\u001B[39mkwargs: Any,\n\u001B[1;32m    273\u001B[0m ) \u001B[38;5;241m-\u001B[39m\u001B[38;5;241m>\u001B[39m BaseMessage:\n\u001B[1;32m    274\u001B[0m     config \u001B[38;5;241m=\u001B[39m ensure_config(config)\n\u001B[1;32m    275\u001B[0m     \u001B[38;5;28;01mreturn\u001B[39;00m cast(\n\u001B[1;32m    276\u001B[0m         ChatGeneration,\n\u001B[0;32m--> 277\u001B[0m         \u001B[38;5;28mself\u001B[39m\u001B[38;5;241m.\u001B[39mgenerate_prompt(\n\u001B[1;32m    278\u001B[0m             [\u001B[38;5;28mself\u001B[39m\u001B[38;5;241m.\u001B[39m_convert_input(\u001B[38;5;28minput\u001B[39m)],\n\u001B[1;32m    279\u001B[0m             stop\u001B[38;5;241m=\u001B[39mstop,\n\u001B[1;32m    280\u001B[0m             callbacks\u001B[38;5;241m=\u001B[39mconfig\u001B[38;5;241m.\u001B[39mget(\u001B[38;5;124m\"\u001B[39m\u001B[38;5;124mcallbacks\u001B[39m\u001B[38;5;124m\"\u001B[39m),\n\u001B[1;32m    281\u001B[0m             tags\u001B[38;5;241m=\u001B[39mconfig\u001B[38;5;241m.\u001B[39mget(\u001B[38;5;124m\"\u001B[39m\u001B[38;5;124mtags\u001B[39m\u001B[38;5;124m\"\u001B[39m),\n\u001B[1;32m    282\u001B[0m             metadata\u001B[38;5;241m=\u001B[39mconfig\u001B[38;5;241m.\u001B[39mget(\u001B[38;5;124m\"\u001B[39m\u001B[38;5;124mmetadata\u001B[39m\u001B[38;5;124m\"\u001B[39m),\n\u001B[1;32m    283\u001B[0m             run_name\u001B[38;5;241m=\u001B[39mconfig\u001B[38;5;241m.\u001B[39mget(\u001B[38;5;124m\"\u001B[39m\u001B[38;5;124mrun_name\u001B[39m\u001B[38;5;124m\"\u001B[39m),\n\u001B[1;32m    284\u001B[0m             run_id\u001B[38;5;241m=\u001B[39mconfig\u001B[38;5;241m.\u001B[39mpop(\u001B[38;5;124m\"\u001B[39m\u001B[38;5;124mrun_id\u001B[39m\u001B[38;5;124m\"\u001B[39m, \u001B[38;5;28;01mNone\u001B[39;00m),\n\u001B[1;32m    285\u001B[0m             \u001B[38;5;241m*\u001B[39m\u001B[38;5;241m*\u001B[39mkwargs,\n\u001B[1;32m    286\u001B[0m         )\u001B[38;5;241m.\u001B[39mgenerations[\u001B[38;5;241m0\u001B[39m][\u001B[38;5;241m0\u001B[39m],\n\u001B[1;32m    287\u001B[0m     )\u001B[38;5;241m.\u001B[39mmessage\n",
      "File \u001B[0;32m~/opt/anaconda3/envs/neo4j-gnn-llm-example/lib/python3.11/site-packages/langchain_core/language_models/chat_models.py:777\u001B[0m, in \u001B[0;36mBaseChatModel.generate_prompt\u001B[0;34m(self, prompts, stop, callbacks, **kwargs)\u001B[0m\n\u001B[1;32m    769\u001B[0m \u001B[38;5;28;01mdef\u001B[39;00m \u001B[38;5;21mgenerate_prompt\u001B[39m(\n\u001B[1;32m    770\u001B[0m     \u001B[38;5;28mself\u001B[39m,\n\u001B[1;32m    771\u001B[0m     prompts: List[PromptValue],\n\u001B[0;32m   (...)\u001B[0m\n\u001B[1;32m    774\u001B[0m     \u001B[38;5;241m*\u001B[39m\u001B[38;5;241m*\u001B[39mkwargs: Any,\n\u001B[1;32m    775\u001B[0m ) \u001B[38;5;241m-\u001B[39m\u001B[38;5;241m>\u001B[39m LLMResult:\n\u001B[1;32m    776\u001B[0m     prompt_messages \u001B[38;5;241m=\u001B[39m [p\u001B[38;5;241m.\u001B[39mto_messages() \u001B[38;5;28;01mfor\u001B[39;00m p \u001B[38;5;129;01min\u001B[39;00m prompts]\n\u001B[0;32m--> 777\u001B[0m     \u001B[38;5;28;01mreturn\u001B[39;00m \u001B[38;5;28mself\u001B[39m\u001B[38;5;241m.\u001B[39mgenerate(prompt_messages, stop\u001B[38;5;241m=\u001B[39mstop, callbacks\u001B[38;5;241m=\u001B[39mcallbacks, \u001B[38;5;241m*\u001B[39m\u001B[38;5;241m*\u001B[39mkwargs)\n",
      "File \u001B[0;32m~/opt/anaconda3/envs/neo4j-gnn-llm-example/lib/python3.11/site-packages/langchain_core/language_models/chat_models.py:634\u001B[0m, in \u001B[0;36mBaseChatModel.generate\u001B[0;34m(self, messages, stop, callbacks, tags, metadata, run_name, run_id, **kwargs)\u001B[0m\n\u001B[1;32m    632\u001B[0m         \u001B[38;5;28;01mif\u001B[39;00m run_managers:\n\u001B[1;32m    633\u001B[0m             run_managers[i]\u001B[38;5;241m.\u001B[39mon_llm_error(e, response\u001B[38;5;241m=\u001B[39mLLMResult(generations\u001B[38;5;241m=\u001B[39m[]))\n\u001B[0;32m--> 634\u001B[0m         \u001B[38;5;28;01mraise\u001B[39;00m e\n\u001B[1;32m    635\u001B[0m flattened_outputs \u001B[38;5;241m=\u001B[39m [\n\u001B[1;32m    636\u001B[0m     LLMResult(generations\u001B[38;5;241m=\u001B[39m[res\u001B[38;5;241m.\u001B[39mgenerations], llm_output\u001B[38;5;241m=\u001B[39mres\u001B[38;5;241m.\u001B[39mllm_output)  \u001B[38;5;66;03m# type: ignore[list-item]\u001B[39;00m\n\u001B[1;32m    637\u001B[0m     \u001B[38;5;28;01mfor\u001B[39;00m res \u001B[38;5;129;01min\u001B[39;00m results\n\u001B[1;32m    638\u001B[0m ]\n\u001B[1;32m    639\u001B[0m llm_output \u001B[38;5;241m=\u001B[39m \u001B[38;5;28mself\u001B[39m\u001B[38;5;241m.\u001B[39m_combine_llm_outputs([res\u001B[38;5;241m.\u001B[39mllm_output \u001B[38;5;28;01mfor\u001B[39;00m res \u001B[38;5;129;01min\u001B[39;00m results])\n",
      "File \u001B[0;32m~/opt/anaconda3/envs/neo4j-gnn-llm-example/lib/python3.11/site-packages/langchain_core/language_models/chat_models.py:624\u001B[0m, in \u001B[0;36mBaseChatModel.generate\u001B[0;34m(self, messages, stop, callbacks, tags, metadata, run_name, run_id, **kwargs)\u001B[0m\n\u001B[1;32m    621\u001B[0m \u001B[38;5;28;01mfor\u001B[39;00m i, m \u001B[38;5;129;01min\u001B[39;00m \u001B[38;5;28menumerate\u001B[39m(messages):\n\u001B[1;32m    622\u001B[0m     \u001B[38;5;28;01mtry\u001B[39;00m:\n\u001B[1;32m    623\u001B[0m         results\u001B[38;5;241m.\u001B[39mappend(\n\u001B[0;32m--> 624\u001B[0m             \u001B[38;5;28mself\u001B[39m\u001B[38;5;241m.\u001B[39m_generate_with_cache(\n\u001B[1;32m    625\u001B[0m                 m,\n\u001B[1;32m    626\u001B[0m                 stop\u001B[38;5;241m=\u001B[39mstop,\n\u001B[1;32m    627\u001B[0m                 run_manager\u001B[38;5;241m=\u001B[39mrun_managers[i] \u001B[38;5;28;01mif\u001B[39;00m run_managers \u001B[38;5;28;01melse\u001B[39;00m \u001B[38;5;28;01mNone\u001B[39;00m,\n\u001B[1;32m    628\u001B[0m                 \u001B[38;5;241m*\u001B[39m\u001B[38;5;241m*\u001B[39mkwargs,\n\u001B[1;32m    629\u001B[0m             )\n\u001B[1;32m    630\u001B[0m         )\n\u001B[1;32m    631\u001B[0m     \u001B[38;5;28;01mexcept\u001B[39;00m \u001B[38;5;167;01mBaseException\u001B[39;00m \u001B[38;5;28;01mas\u001B[39;00m e:\n\u001B[1;32m    632\u001B[0m         \u001B[38;5;28;01mif\u001B[39;00m run_managers:\n",
      "File \u001B[0;32m~/opt/anaconda3/envs/neo4j-gnn-llm-example/lib/python3.11/site-packages/langchain_core/language_models/chat_models.py:846\u001B[0m, in \u001B[0;36mBaseChatModel._generate_with_cache\u001B[0;34m(self, messages, stop, run_manager, **kwargs)\u001B[0m\n\u001B[1;32m    844\u001B[0m \u001B[38;5;28;01melse\u001B[39;00m:\n\u001B[1;32m    845\u001B[0m     \u001B[38;5;28;01mif\u001B[39;00m inspect\u001B[38;5;241m.\u001B[39msignature(\u001B[38;5;28mself\u001B[39m\u001B[38;5;241m.\u001B[39m_generate)\u001B[38;5;241m.\u001B[39mparameters\u001B[38;5;241m.\u001B[39mget(\u001B[38;5;124m\"\u001B[39m\u001B[38;5;124mrun_manager\u001B[39m\u001B[38;5;124m\"\u001B[39m):\n\u001B[0;32m--> 846\u001B[0m         result \u001B[38;5;241m=\u001B[39m \u001B[38;5;28mself\u001B[39m\u001B[38;5;241m.\u001B[39m_generate(\n\u001B[1;32m    847\u001B[0m             messages, stop\u001B[38;5;241m=\u001B[39mstop, run_manager\u001B[38;5;241m=\u001B[39mrun_manager, \u001B[38;5;241m*\u001B[39m\u001B[38;5;241m*\u001B[39mkwargs\n\u001B[1;32m    848\u001B[0m         )\n\u001B[1;32m    849\u001B[0m     \u001B[38;5;28;01melse\u001B[39;00m:\n\u001B[1;32m    850\u001B[0m         result \u001B[38;5;241m=\u001B[39m \u001B[38;5;28mself\u001B[39m\u001B[38;5;241m.\u001B[39m_generate(messages, stop\u001B[38;5;241m=\u001B[39mstop, \u001B[38;5;241m*\u001B[39m\u001B[38;5;241m*\u001B[39mkwargs)\n",
      "File \u001B[0;32m~/opt/anaconda3/envs/neo4j-gnn-llm-example/lib/python3.11/site-packages/langchain_openai/chat_models/base.py:658\u001B[0m, in \u001B[0;36mBaseChatOpenAI._generate\u001B[0;34m(self, messages, stop, run_manager, **kwargs)\u001B[0m\n\u001B[1;32m    656\u001B[0m     generation_info \u001B[38;5;241m=\u001B[39m {\u001B[38;5;124m\"\u001B[39m\u001B[38;5;124mheaders\u001B[39m\u001B[38;5;124m\"\u001B[39m: \u001B[38;5;28mdict\u001B[39m(raw_response\u001B[38;5;241m.\u001B[39mheaders)}\n\u001B[1;32m    657\u001B[0m \u001B[38;5;28;01melse\u001B[39;00m:\n\u001B[0;32m--> 658\u001B[0m     response \u001B[38;5;241m=\u001B[39m \u001B[38;5;28mself\u001B[39m\u001B[38;5;241m.\u001B[39mclient\u001B[38;5;241m.\u001B[39mcreate(\u001B[38;5;241m*\u001B[39m\u001B[38;5;241m*\u001B[39mpayload)\n\u001B[1;32m    659\u001B[0m \u001B[38;5;28;01mreturn\u001B[39;00m \u001B[38;5;28mself\u001B[39m\u001B[38;5;241m.\u001B[39m_create_chat_result(response, generation_info)\n",
      "File \u001B[0;32m~/opt/anaconda3/envs/neo4j-gnn-llm-example/lib/python3.11/site-packages/openai/_utils/_utils.py:274\u001B[0m, in \u001B[0;36mrequired_args.<locals>.inner.<locals>.wrapper\u001B[0;34m(*args, **kwargs)\u001B[0m\n\u001B[1;32m    272\u001B[0m             msg \u001B[38;5;241m=\u001B[39m \u001B[38;5;124mf\u001B[39m\u001B[38;5;124m\"\u001B[39m\u001B[38;5;124mMissing required argument: \u001B[39m\u001B[38;5;132;01m{\u001B[39;00mquote(missing[\u001B[38;5;241m0\u001B[39m])\u001B[38;5;132;01m}\u001B[39;00m\u001B[38;5;124m\"\u001B[39m\n\u001B[1;32m    273\u001B[0m     \u001B[38;5;28;01mraise\u001B[39;00m \u001B[38;5;167;01mTypeError\u001B[39;00m(msg)\n\u001B[0;32m--> 274\u001B[0m \u001B[38;5;28;01mreturn\u001B[39;00m func(\u001B[38;5;241m*\u001B[39margs, \u001B[38;5;241m*\u001B[39m\u001B[38;5;241m*\u001B[39mkwargs)\n",
      "File \u001B[0;32m~/opt/anaconda3/envs/neo4j-gnn-llm-example/lib/python3.11/site-packages/openai/resources/chat/completions.py:668\u001B[0m, in \u001B[0;36mCompletions.create\u001B[0;34m(self, messages, model, frequency_penalty, function_call, functions, logit_bias, logprobs, max_tokens, n, parallel_tool_calls, presence_penalty, response_format, seed, service_tier, stop, stream, stream_options, temperature, tool_choice, tools, top_logprobs, top_p, user, extra_headers, extra_query, extra_body, timeout)\u001B[0m\n\u001B[1;32m    633\u001B[0m \u001B[38;5;129m@required_args\u001B[39m([\u001B[38;5;124m\"\u001B[39m\u001B[38;5;124mmessages\u001B[39m\u001B[38;5;124m\"\u001B[39m, \u001B[38;5;124m\"\u001B[39m\u001B[38;5;124mmodel\u001B[39m\u001B[38;5;124m\"\u001B[39m], [\u001B[38;5;124m\"\u001B[39m\u001B[38;5;124mmessages\u001B[39m\u001B[38;5;124m\"\u001B[39m, \u001B[38;5;124m\"\u001B[39m\u001B[38;5;124mmodel\u001B[39m\u001B[38;5;124m\"\u001B[39m, \u001B[38;5;124m\"\u001B[39m\u001B[38;5;124mstream\u001B[39m\u001B[38;5;124m\"\u001B[39m])\n\u001B[1;32m    634\u001B[0m \u001B[38;5;28;01mdef\u001B[39;00m \u001B[38;5;21mcreate\u001B[39m(\n\u001B[1;32m    635\u001B[0m     \u001B[38;5;28mself\u001B[39m,\n\u001B[0;32m   (...)\u001B[0m\n\u001B[1;32m    665\u001B[0m     timeout: \u001B[38;5;28mfloat\u001B[39m \u001B[38;5;241m|\u001B[39m httpx\u001B[38;5;241m.\u001B[39mTimeout \u001B[38;5;241m|\u001B[39m \u001B[38;5;28;01mNone\u001B[39;00m \u001B[38;5;241m|\u001B[39m NotGiven \u001B[38;5;241m=\u001B[39m NOT_GIVEN,\n\u001B[1;32m    666\u001B[0m ) \u001B[38;5;241m-\u001B[39m\u001B[38;5;241m>\u001B[39m ChatCompletion \u001B[38;5;241m|\u001B[39m Stream[ChatCompletionChunk]:\n\u001B[1;32m    667\u001B[0m     validate_response_format(response_format)\n\u001B[0;32m--> 668\u001B[0m     \u001B[38;5;28;01mreturn\u001B[39;00m \u001B[38;5;28mself\u001B[39m\u001B[38;5;241m.\u001B[39m_post(\n\u001B[1;32m    669\u001B[0m         \u001B[38;5;124m\"\u001B[39m\u001B[38;5;124m/chat/completions\u001B[39m\u001B[38;5;124m\"\u001B[39m,\n\u001B[1;32m    670\u001B[0m         body\u001B[38;5;241m=\u001B[39mmaybe_transform(\n\u001B[1;32m    671\u001B[0m             {\n\u001B[1;32m    672\u001B[0m                 \u001B[38;5;124m\"\u001B[39m\u001B[38;5;124mmessages\u001B[39m\u001B[38;5;124m\"\u001B[39m: messages,\n\u001B[1;32m    673\u001B[0m                 \u001B[38;5;124m\"\u001B[39m\u001B[38;5;124mmodel\u001B[39m\u001B[38;5;124m\"\u001B[39m: model,\n\u001B[1;32m    674\u001B[0m                 \u001B[38;5;124m\"\u001B[39m\u001B[38;5;124mfrequency_penalty\u001B[39m\u001B[38;5;124m\"\u001B[39m: frequency_penalty,\n\u001B[1;32m    675\u001B[0m                 \u001B[38;5;124m\"\u001B[39m\u001B[38;5;124mfunction_call\u001B[39m\u001B[38;5;124m\"\u001B[39m: function_call,\n\u001B[1;32m    676\u001B[0m                 \u001B[38;5;124m\"\u001B[39m\u001B[38;5;124mfunctions\u001B[39m\u001B[38;5;124m\"\u001B[39m: functions,\n\u001B[1;32m    677\u001B[0m                 \u001B[38;5;124m\"\u001B[39m\u001B[38;5;124mlogit_bias\u001B[39m\u001B[38;5;124m\"\u001B[39m: logit_bias,\n\u001B[1;32m    678\u001B[0m                 \u001B[38;5;124m\"\u001B[39m\u001B[38;5;124mlogprobs\u001B[39m\u001B[38;5;124m\"\u001B[39m: logprobs,\n\u001B[1;32m    679\u001B[0m                 \u001B[38;5;124m\"\u001B[39m\u001B[38;5;124mmax_tokens\u001B[39m\u001B[38;5;124m\"\u001B[39m: max_tokens,\n\u001B[1;32m    680\u001B[0m                 \u001B[38;5;124m\"\u001B[39m\u001B[38;5;124mn\u001B[39m\u001B[38;5;124m\"\u001B[39m: n,\n\u001B[1;32m    681\u001B[0m                 \u001B[38;5;124m\"\u001B[39m\u001B[38;5;124mparallel_tool_calls\u001B[39m\u001B[38;5;124m\"\u001B[39m: parallel_tool_calls,\n\u001B[1;32m    682\u001B[0m                 \u001B[38;5;124m\"\u001B[39m\u001B[38;5;124mpresence_penalty\u001B[39m\u001B[38;5;124m\"\u001B[39m: presence_penalty,\n\u001B[1;32m    683\u001B[0m                 \u001B[38;5;124m\"\u001B[39m\u001B[38;5;124mresponse_format\u001B[39m\u001B[38;5;124m\"\u001B[39m: response_format,\n\u001B[1;32m    684\u001B[0m                 \u001B[38;5;124m\"\u001B[39m\u001B[38;5;124mseed\u001B[39m\u001B[38;5;124m\"\u001B[39m: seed,\n\u001B[1;32m    685\u001B[0m                 \u001B[38;5;124m\"\u001B[39m\u001B[38;5;124mservice_tier\u001B[39m\u001B[38;5;124m\"\u001B[39m: service_tier,\n\u001B[1;32m    686\u001B[0m                 \u001B[38;5;124m\"\u001B[39m\u001B[38;5;124mstop\u001B[39m\u001B[38;5;124m\"\u001B[39m: stop,\n\u001B[1;32m    687\u001B[0m                 \u001B[38;5;124m\"\u001B[39m\u001B[38;5;124mstream\u001B[39m\u001B[38;5;124m\"\u001B[39m: stream,\n\u001B[1;32m    688\u001B[0m                 \u001B[38;5;124m\"\u001B[39m\u001B[38;5;124mstream_options\u001B[39m\u001B[38;5;124m\"\u001B[39m: stream_options,\n\u001B[1;32m    689\u001B[0m                 \u001B[38;5;124m\"\u001B[39m\u001B[38;5;124mtemperature\u001B[39m\u001B[38;5;124m\"\u001B[39m: temperature,\n\u001B[1;32m    690\u001B[0m                 \u001B[38;5;124m\"\u001B[39m\u001B[38;5;124mtool_choice\u001B[39m\u001B[38;5;124m\"\u001B[39m: tool_choice,\n\u001B[1;32m    691\u001B[0m                 \u001B[38;5;124m\"\u001B[39m\u001B[38;5;124mtools\u001B[39m\u001B[38;5;124m\"\u001B[39m: tools,\n\u001B[1;32m    692\u001B[0m                 \u001B[38;5;124m\"\u001B[39m\u001B[38;5;124mtop_logprobs\u001B[39m\u001B[38;5;124m\"\u001B[39m: top_logprobs,\n\u001B[1;32m    693\u001B[0m                 \u001B[38;5;124m\"\u001B[39m\u001B[38;5;124mtop_p\u001B[39m\u001B[38;5;124m\"\u001B[39m: top_p,\n\u001B[1;32m    694\u001B[0m                 \u001B[38;5;124m\"\u001B[39m\u001B[38;5;124muser\u001B[39m\u001B[38;5;124m\"\u001B[39m: user,\n\u001B[1;32m    695\u001B[0m             },\n\u001B[1;32m    696\u001B[0m             completion_create_params\u001B[38;5;241m.\u001B[39mCompletionCreateParams,\n\u001B[1;32m    697\u001B[0m         ),\n\u001B[1;32m    698\u001B[0m         options\u001B[38;5;241m=\u001B[39mmake_request_options(\n\u001B[1;32m    699\u001B[0m             extra_headers\u001B[38;5;241m=\u001B[39mextra_headers, extra_query\u001B[38;5;241m=\u001B[39mextra_query, extra_body\u001B[38;5;241m=\u001B[39mextra_body, timeout\u001B[38;5;241m=\u001B[39mtimeout\n\u001B[1;32m    700\u001B[0m         ),\n\u001B[1;32m    701\u001B[0m         cast_to\u001B[38;5;241m=\u001B[39mChatCompletion,\n\u001B[1;32m    702\u001B[0m         stream\u001B[38;5;241m=\u001B[39mstream \u001B[38;5;129;01mor\u001B[39;00m \u001B[38;5;28;01mFalse\u001B[39;00m,\n\u001B[1;32m    703\u001B[0m         stream_cls\u001B[38;5;241m=\u001B[39mStream[ChatCompletionChunk],\n\u001B[1;32m    704\u001B[0m     )\n",
      "File \u001B[0;32m~/opt/anaconda3/envs/neo4j-gnn-llm-example/lib/python3.11/site-packages/openai/_base_client.py:1260\u001B[0m, in \u001B[0;36mSyncAPIClient.post\u001B[0;34m(self, path, cast_to, body, options, files, stream, stream_cls)\u001B[0m\n\u001B[1;32m   1246\u001B[0m \u001B[38;5;28;01mdef\u001B[39;00m \u001B[38;5;21mpost\u001B[39m(\n\u001B[1;32m   1247\u001B[0m     \u001B[38;5;28mself\u001B[39m,\n\u001B[1;32m   1248\u001B[0m     path: \u001B[38;5;28mstr\u001B[39m,\n\u001B[0;32m   (...)\u001B[0m\n\u001B[1;32m   1255\u001B[0m     stream_cls: \u001B[38;5;28mtype\u001B[39m[_StreamT] \u001B[38;5;241m|\u001B[39m \u001B[38;5;28;01mNone\u001B[39;00m \u001B[38;5;241m=\u001B[39m \u001B[38;5;28;01mNone\u001B[39;00m,\n\u001B[1;32m   1256\u001B[0m ) \u001B[38;5;241m-\u001B[39m\u001B[38;5;241m>\u001B[39m ResponseT \u001B[38;5;241m|\u001B[39m _StreamT:\n\u001B[1;32m   1257\u001B[0m     opts \u001B[38;5;241m=\u001B[39m FinalRequestOptions\u001B[38;5;241m.\u001B[39mconstruct(\n\u001B[1;32m   1258\u001B[0m         method\u001B[38;5;241m=\u001B[39m\u001B[38;5;124m\"\u001B[39m\u001B[38;5;124mpost\u001B[39m\u001B[38;5;124m\"\u001B[39m, url\u001B[38;5;241m=\u001B[39mpath, json_data\u001B[38;5;241m=\u001B[39mbody, files\u001B[38;5;241m=\u001B[39mto_httpx_files(files), \u001B[38;5;241m*\u001B[39m\u001B[38;5;241m*\u001B[39moptions\n\u001B[1;32m   1259\u001B[0m     )\n\u001B[0;32m-> 1260\u001B[0m     \u001B[38;5;28;01mreturn\u001B[39;00m cast(ResponseT, \u001B[38;5;28mself\u001B[39m\u001B[38;5;241m.\u001B[39mrequest(cast_to, opts, stream\u001B[38;5;241m=\u001B[39mstream, stream_cls\u001B[38;5;241m=\u001B[39mstream_cls))\n",
      "File \u001B[0;32m~/opt/anaconda3/envs/neo4j-gnn-llm-example/lib/python3.11/site-packages/openai/_base_client.py:937\u001B[0m, in \u001B[0;36mSyncAPIClient.request\u001B[0;34m(self, cast_to, options, remaining_retries, stream, stream_cls)\u001B[0m\n\u001B[1;32m    928\u001B[0m \u001B[38;5;28;01mdef\u001B[39;00m \u001B[38;5;21mrequest\u001B[39m(\n\u001B[1;32m    929\u001B[0m     \u001B[38;5;28mself\u001B[39m,\n\u001B[1;32m    930\u001B[0m     cast_to: Type[ResponseT],\n\u001B[0;32m   (...)\u001B[0m\n\u001B[1;32m    935\u001B[0m     stream_cls: \u001B[38;5;28mtype\u001B[39m[_StreamT] \u001B[38;5;241m|\u001B[39m \u001B[38;5;28;01mNone\u001B[39;00m \u001B[38;5;241m=\u001B[39m \u001B[38;5;28;01mNone\u001B[39;00m,\n\u001B[1;32m    936\u001B[0m ) \u001B[38;5;241m-\u001B[39m\u001B[38;5;241m>\u001B[39m ResponseT \u001B[38;5;241m|\u001B[39m _StreamT:\n\u001B[0;32m--> 937\u001B[0m     \u001B[38;5;28;01mreturn\u001B[39;00m \u001B[38;5;28mself\u001B[39m\u001B[38;5;241m.\u001B[39m_request(\n\u001B[1;32m    938\u001B[0m         cast_to\u001B[38;5;241m=\u001B[39mcast_to,\n\u001B[1;32m    939\u001B[0m         options\u001B[38;5;241m=\u001B[39moptions,\n\u001B[1;32m    940\u001B[0m         stream\u001B[38;5;241m=\u001B[39mstream,\n\u001B[1;32m    941\u001B[0m         stream_cls\u001B[38;5;241m=\u001B[39mstream_cls,\n\u001B[1;32m    942\u001B[0m         remaining_retries\u001B[38;5;241m=\u001B[39mremaining_retries,\n\u001B[1;32m    943\u001B[0m     )\n",
      "File \u001B[0;32m~/opt/anaconda3/envs/neo4j-gnn-llm-example/lib/python3.11/site-packages/openai/_base_client.py:1041\u001B[0m, in \u001B[0;36mSyncAPIClient._request\u001B[0;34m(self, cast_to, options, remaining_retries, stream, stream_cls)\u001B[0m\n\u001B[1;32m   1038\u001B[0m         err\u001B[38;5;241m.\u001B[39mresponse\u001B[38;5;241m.\u001B[39mread()\n\u001B[1;32m   1040\u001B[0m     log\u001B[38;5;241m.\u001B[39mdebug(\u001B[38;5;124m\"\u001B[39m\u001B[38;5;124mRe-raising status error\u001B[39m\u001B[38;5;124m\"\u001B[39m)\n\u001B[0;32m-> 1041\u001B[0m     \u001B[38;5;28;01mraise\u001B[39;00m \u001B[38;5;28mself\u001B[39m\u001B[38;5;241m.\u001B[39m_make_status_error_from_response(err\u001B[38;5;241m.\u001B[39mresponse) \u001B[38;5;28;01mfrom\u001B[39;00m \u001B[38;5;28;01mNone\u001B[39;00m\n\u001B[1;32m   1043\u001B[0m \u001B[38;5;28;01mreturn\u001B[39;00m \u001B[38;5;28mself\u001B[39m\u001B[38;5;241m.\u001B[39m_process_response(\n\u001B[1;32m   1044\u001B[0m     cast_to\u001B[38;5;241m=\u001B[39mcast_to,\n\u001B[1;32m   1045\u001B[0m     options\u001B[38;5;241m=\u001B[39moptions,\n\u001B[0;32m   (...)\u001B[0m\n\u001B[1;32m   1049\u001B[0m     retries_taken\u001B[38;5;241m=\u001B[39moptions\u001B[38;5;241m.\u001B[39mget_max_retries(\u001B[38;5;28mself\u001B[39m\u001B[38;5;241m.\u001B[39mmax_retries) \u001B[38;5;241m-\u001B[39m retries,\n\u001B[1;32m   1050\u001B[0m )\n",
      "\u001B[0;31mBadRequestError\u001B[0m: Error code: 400 - {'error': {'message': \"This model's maximum context length is 128000 tokens. However, your messages resulted in 149146 tokens (149073 in the messages, 73 in the functions). Please reduce the length of the messages or functions.\", 'type': 'invalid_request_error', 'param': 'messages', 'code': 'context_length_exceeded'}}"
     ]
    }
   ],
   "execution_count": 293
  },
  {
   "metadata": {
    "ExecuteTime": {
     "end_time": "2024-10-20T18:13:53.758877Z",
     "start_time": "2024-10-20T18:09:27.306614Z"
    }
   },
   "cell_type": "code",
   "source": [
    "\n",
    "res_list = []\n",
    "for q in qa_dataset.data[\"query\"][:10]:\n",
    "    try:\n",
    "        res, context  = answer(q)\n",
    "        res_list.append((res, context))\n",
    "    except Exception as e:\n",
    "        print(str(e))"
   ],
   "id": "d2da1964a6b6394b",
   "outputs": [
    {
     "name": "stdout",
     "output_type": "stream",
     "text": [
      "\n",
      "\n",
      "Generating Response\n",
      "\n",
      "\n",
      "Generating Response\n",
      "\n",
      "\n",
      "Generating Response\n",
      "\n",
      "\n",
      "Generating Response\n",
      "\n",
      "\n",
      "Generating Response\n",
      "\n",
      "\n",
      "Generating Response\n",
      "\n",
      "\n",
      "Generating Response\n",
      "\n",
      "\n",
      "Generating Response\n",
      "\n",
      "\n",
      "Generating Response\n",
      "\n",
      "\n",
      "Generating Response\n"
     ]
    }
   ],
   "execution_count": 168
  },
  {
   "metadata": {
    "ExecuteTime": {
     "end_time": "2024-10-20T19:04:24.937816Z",
     "start_time": "2024-10-20T19:04:24.930503Z"
    }
   },
   "cell_type": "code",
   "source": [
    "for res in res_list:\n",
    "    print(res[1][0]['facts'])"
   ],
   "id": "56bb75cb88267150",
   "outputs": [
    {
     "name": "stdout",
     "output_type": "stream",
     "text": [
      "['epithelial skin neoplasm{nodeId:36622} - PARENT_CHILD -> skin carcinoma{nodeId:33707} - PHENOTYPE_PRESENT -> Neoplasm of the skin{nodeId:22574}', 'epithelial skin neoplasm{nodeId:36622} - PARENT_CHILD -> skin carcinoma{nodeId:33707} - PHENOTYPE_PRESENT -> Basalioma of the outer ear{nodeId:92824}', 'benign epithelial skin neoplasm{nodeId:36081} - PARENT_CHILD -> acanthoma (disease){nodeId:36497} - PHENOTYPE_PRESENT -> Neoplasm of the skin{nodeId:22574}', 'skin neoplasm{nodeId:36382} - PARENT_CHILD -> actinic keratosis (disease){nodeId:83756} - PHENOTYPE_PRESENT -> Neoplasm of the skin{nodeId:22574}', 'epidermal disease{nodeId:38028} - PARENT_CHILD -> Darier disease{nodeId:31039} - PHENOTYPE_PRESENT -> Skin vesicle{nodeId:26202}', 'inherited skin tumor{nodeId:38033} - PARENT_CHILD -> Brooke-Spiegler syndrome{nodeId:28649} - PHENOTYPE_PRESENT -> Skin nodule{nodeId:22774}', 'inherited skin tumor{nodeId:38033} - PARENT_CHILD -> generalized basaloid follicular hamartoma syndrome{nodeId:28898} - PHENOTYPE_PRESENT -> Papule{nodeId:24350}', 'epidermal disease{nodeId:38028} - PARENT_CHILD -> ichthyosis (disease){nodeId:33648} - PHENOTYPE_PRESENT -> Localized epidermolytic hyperkeratosis{nodeId:94367}', 'melanocytic skin neoplasm{nodeId:37660} - PARENT_CHILD -> melanoma{nodeId:33653} - PHENOTYPE_PRESENT -> Superficial spreading melanoma{nodeId:94443}', 'acantholytic acanthoma{nodeId:96066} - PARENT_CHILD -> acanthoma (disease){nodeId:36497} - PHENOTYPE_PRESENT -> Neoplasm of the skin{nodeId:22574}', 'malformation syndrome with skin/mucosae involvement{nodeId:38175} - PARENT_CHILD -> dystrophic epidermolysis bullosa{nodeId:27640} - PHENOTYPE_PRESENT -> Localized skin lesion{nodeId:22553}', 'inherited skin tumor{nodeId:38033} - PARENT_CHILD -> Brooke-Spiegler syndrome{nodeId:28649} - PHENOTYPE_PRESENT -> Skin-colored papule{nodeId:90099}', 'basosquamous carcinoma{nodeId:96165} - PARENT_CHILD -> skin carcinoma{nodeId:33707} - PHENOTYPE_PRESENT -> Neoplasm of the skin{nodeId:22574}', 'carcinoma{nodeId:36240} - PARENT_CHILD -> skin carcinoma{nodeId:33707} - PHENOTYPE_PRESENT -> Neoplasm of the skin{nodeId:22574}', 'epidermal disease{nodeId:38028} - PARENT_CHILD -> epidermolysis bullosa simplex{nodeId:27434} - PHENOTYPE_PRESENT -> Skin plaque{nodeId:25876}', 'cutaneous Paget disease{nodeId:37476} - PARENT_CHILD -> skin carcinoma{nodeId:33707} - PHENOTYPE_PRESENT -> Neoplasm of the skin{nodeId:22574}', 'basosquamous carcinoma{nodeId:96165} - PARENT_CHILD -> skin carcinoma{nodeId:33707} - PHENOTYPE_PRESENT -> Basalioma of the outer ear{nodeId:92824}', 'carcinoma{nodeId:36240} - PARENT_CHILD -> skin carcinoma{nodeId:33707} - PHENOTYPE_PRESENT -> Basalioma of the outer ear{nodeId:92824}', 'pilar sheath acanthoma{nodeId:97544} - PARENT_CHILD -> acanthoma (disease){nodeId:36497} - PHENOTYPE_PRESENT -> Neoplasm of the skin{nodeId:22574}', 'cutaneous Paget disease{nodeId:37476} - PARENT_CHILD -> skin carcinoma{nodeId:33707} - PHENOTYPE_PRESENT -> Basalioma of the outer ear{nodeId:92824}', 'keratosis{nodeId:35463} - PARENT_CHILD -> hereditary papulotranslucent acrokeratoderma{nodeId:28460} - PHENOTYPE_PRESENT -> Skin plaque{nodeId:25876}', 'keratosis{nodeId:35463} - PARENT_CHILD -> acrokeratosis verruciformis{nodeId:27270} - PHENOTYPE_PRESENT -> Skin plaque{nodeId:25876}', 'inherited skin tumor{nodeId:38033} - PARENT_CHILD -> subcutaneous panniculitis-like T-cell lymphoma{nodeId:29698} - PHENOTYPE_PRESENT -> Erythematous plaque{nodeId:90072}', 'epidermal disease{nodeId:38028} - PARENT_CHILD -> severe dermatitis-multiple allergies-metabolic wasting syndrome{nodeId:28424} - PHENOTYPE_PRESENT -> Recurrent skin infections{nodeId:23985}', 'epidermolytic acanthoma{nodeId:96065} - PARENT_CHILD -> acanthoma (disease){nodeId:36497} - PHENOTYPE_PRESENT -> Neoplasm of the skin{nodeId:22574}', 'telangiectasia macularis eruptiva perstans{nodeId:94888} - PARENT_CHILD -> maculopapular cutaneous mastocytosis{nodeId:32209} - PHENOTYPE_PRESENT -> Skin plaque{nodeId:25876}', 'skin fibroepithelial basal cell carcinoma{nodeId:96054} - PARENT_CHILD -> skin carcinoma{nodeId:33707} - PHENOTYPE_PRESENT -> Neoplasm of the skin{nodeId:22574}', 'epidermal disease{nodeId:38028} - PARENT_CHILD -> severe dermatitis-multiple allergies-metabolic wasting syndrome{nodeId:28424} - PHENOTYPE_PRESENT -> Orthokeratosis{nodeId:92858}', 'epidermal disease{nodeId:38028} - PARENT_CHILD -> circumscribed palmoplantar hypokeratosis{nodeId:33083} - PHENOTYPE_PRESENT -> Skin plaque{nodeId:25876}', 'skin carcinoma{nodeId:33707} - PARENT_CHILD -> cutaneous neuroendocrine carcinoma{nodeId:27810} - PHENOTYPE_PRESENT -> Skin nodule{nodeId:22774}', 'epidermal disease{nodeId:38028} - PARENT_CHILD -> epidermolysis bullosa simplex{nodeId:27434} - PHENOTYPE_PRESENT -> Skin vesicle{nodeId:26202}', 'malformation syndrome with skin/mucosae involvement{nodeId:38175} - PARENT_CHILD -> dystrophic epidermolysis bullosa{nodeId:27640} - PHENOTYPE_PRESENT -> Skin plaque{nodeId:25876}', 'neurocutaneous syndrome{nodeId:36354} - PARENT_CHILD -> tuberous sclerosis{nodeId:30967} - PHENOTYPE_PRESENT -> Skin plaque{nodeId:25876}', 'skin fibroepithelial basal cell carcinoma{nodeId:96054} - PARENT_CHILD -> skin carcinoma{nodeId:33707} - PHENOTYPE_PRESENT -> Basalioma of the outer ear{nodeId:92824}', 'inherited skin tumor{nodeId:38033} - PARENT_CHILD -> familial keratoacanthoma{nodeId:33441} - PHENOTYPE_PRESENT -> Papule{nodeId:24350}', 'pseudovascular skin squamous cell carcinoma{nodeId:96799} - PARENT_CHILD -> skin carcinoma{nodeId:33707} - PHENOTYPE_PRESENT -> Neoplasm of the skin{nodeId:22574}', 'epidermal disease{nodeId:38028} - PARENT_CHILD -> severe dermatitis-multiple allergies-metabolic wasting syndrome{nodeId:28424} - PHENOTYPE_PRESENT -> Acantholysis{nodeId:93546}', 'malformation syndrome with skin/mucosae involvement{nodeId:38175} - PARENT_CHILD -> epidermolysis bullosa simplex{nodeId:27434} - PHENOTYPE_PRESENT -> Skin plaque{nodeId:25876}', 'epidermal disease{nodeId:38028} - PARENT_CHILD -> keratolytic winter erythema{nodeId:30620} - PHENOTYPE_PRESENT -> Pustule{nodeId:26970}', 'melanocytic skin neoplasm{nodeId:37660} - PARENT_CHILD -> melanoma{nodeId:33653} - PHENOTYPE_PRESENT -> Neoplasm of the skin{nodeId:22574}', 'adamantinoid basal cell epithelioma{nodeId:96053} - PARENT_CHILD -> skin carcinoma{nodeId:33707} - PHENOTYPE_PRESENT -> Neoplasm of the skin{nodeId:22574}', 'inherited skin tumor{nodeId:38033} - PARENT_CHILD -> subcutaneous panniculitis-like T-cell lymphoma{nodeId:29698} - PHENOTYPE_PRESENT -> Erythematous papule{nodeId:90399}', 'epidermodysplasia verruciformis, X-linked{nodeId:31201} - PARENT_CHILD -> epidermodysplasia verruciformis{nodeId:27932} - PHENOTYPE_PRESENT -> Skin plaque{nodeId:25876}', 'melanocytic skin neoplasm{nodeId:37660} - PARENT_CHILD -> melanoma{nodeId:33653} - PHENOTYPE_PRESENT -> Lentigo maligna melanoma{nodeId:94350}', 'pseudovascular skin squamous cell carcinoma{nodeId:96799} - PARENT_CHILD -> skin carcinoma{nodeId:33707} - PHENOTYPE_PRESENT -> Basalioma of the outer ear{nodeId:92824}', 'inherited skin tumor{nodeId:38033} - PARENT_CHILD -> Brooke-Spiegler syndrome{nodeId:28649} - PHENOTYPE_PRESENT -> Skin ulcer{nodeId:22571}', 'integumentary system benign neoplasm{nodeId:36551} - PARENT_CHILD -> adiposis dolorosa{nodeId:29641} - PHENOTYPE_PRESENT -> Recurrent skin infections{nodeId:23985}', 'hereditary neoplastic syndrome{nodeId:36355} - PARENT_CHILD -> dyskeratosis congenita{nodeId:33552} - PHENOTYPE_PRESENT -> Skin vesicle{nodeId:26202}', 'inherited skin tumor{nodeId:38033} - PARENT_CHILD -> generalized basaloid follicular hamartoma syndrome{nodeId:28898} - PHENOTYPE_PRESENT -> Comedo{nodeId:25827}', 'inherited skin tumor{nodeId:38033} - PARENT_CHILD -> familial keratoacanthoma{nodeId:33441} - PHENOTYPE_PRESENT -> Skin ulcer{nodeId:22571}', 'skin disease{nodeId:36644} - PARENT_CHILD -> Jessner lymphocytic infiltration of the skin{nodeId:32420} - PHENOTYPE_PRESENT -> Skin plaque{nodeId:25876}', 'malformation syndrome with skin/mucosae involvement{nodeId:38175} - PARENT_CHILD -> junctional epidermolysis bullosa{nodeId:27638} - PHENOTYPE_PRESENT -> Localized skin lesion{nodeId:22553}', 'cutaneous neuroendocrine carcinoma{nodeId:27810} - PARENT_CHILD -> skin carcinoma{nodeId:33707} - PHENOTYPE_PRESENT -> Neoplasm of the skin{nodeId:22574}', 'adamantinoid basal cell epithelioma{nodeId:96053} - PARENT_CHILD -> skin carcinoma{nodeId:33707} - PHENOTYPE_PRESENT -> Basalioma of the outer ear{nodeId:92824}', 'epithelioid cell melanoma{nodeId:37939} - PARENT_CHILD -> melanoma{nodeId:33653} - PHENOTYPE_PRESENT -> Superficial spreading melanoma{nodeId:94443}', 'pre-malignant neoplasm{nodeId:37705} - PARENT_CHILD -> actinic keratosis (disease){nodeId:83756} - PHENOTYPE_PRESENT -> Neoplasm of the skin{nodeId:22574}', 'inherited skin tumor{nodeId:38033} - PARENT_CHILD -> subcutaneous panniculitis-like T-cell lymphoma{nodeId:29698} - PHENOTYPE_PRESENT -> Skin ulcer{nodeId:22571}', 'epidermal disease{nodeId:38028} - PARENT_CHILD -> Darier disease{nodeId:31039} - PHENOTYPE_PRESENT -> Macule{nodeId:22579}', \"angiosarcoma (disease){nodeId:33713} - PARENT_CHILD -> Kaposi's sarcoma (disease){nodeId:32589} - PHENOTYPE_PRESENT -> Skin plaque{nodeId:25876}\", 'inherited skin tumor{nodeId:38033} - PARENT_CHILD -> segmental outgrowth-lipomatosis-arteriovenous malformation-epidermal nevus syndrome{nodeId:32832} - PHENOTYPE_PRESENT -> Papule{nodeId:24350}']\n",
      "[]\n",
      "['congenital anomaly of the great veins{nodeId:39411} - PARENT_CHILD -> congenital pulmonary venous return anomaly{nodeId:30720} - PHENOTYPE_PRESENT -> Pallor{nodeId:22566}', 'congenital anomaly of the great veins{nodeId:39411} - PARENT_CHILD -> congenital pulmonary venous return anomaly{nodeId:30720} - PHENOTYPE_PRESENT -> Poor suck{nodeId:85038}', 'congenital anomaly of the great veins{nodeId:39411} - PARENT_CHILD -> congenital pulmonary venous return anomaly{nodeId:30720} - PHENOTYPE_PRESENT -> Respiratory failure requiring assisted ventilation{nodeId:24096}', 'congenital anomaly of the great veins{nodeId:39411} - PARENT_CHILD -> congenital pulmonary venous return anomaly{nodeId:30720} - PHENOTYPE_PRESENT -> Low-output congestive heart failure{nodeId:88019}', 'congenital anomaly of the great veins{nodeId:39411} - PARENT_CHILD -> congenital pulmonary venous return anomaly{nodeId:30720} - PHENOTYPE_PRESENT -> Cardiac total anomalous pulmonary venous connection{nodeId:88907}', 'congenital anomaly of the great veins{nodeId:39411} - PARENT_CHILD -> congenital pulmonary venous return anomaly{nodeId:30720} - PHENOTYPE_PRESENT -> Abnormality of the skeletal system{nodeId:25245}', 'congenital anomaly of the great veins{nodeId:39411} - PARENT_CHILD -> congenital pulmonary venous return anomaly{nodeId:30720} - PHENOTYPE_PRESENT -> Single ventricle{nodeId:25431}', 'congenital anomaly of the great veins{nodeId:39411} - PARENT_CHILD -> congenital pulmonary venous return anomaly{nodeId:30720} - PHENOTYPE_PRESENT -> Exertional dyspnea{nodeId:85282}', 'congenital anomaly of the great veins{nodeId:39411} - PARENT_CHILD -> congenital pulmonary venous return anomaly{nodeId:30720} - PHENOTYPE_PRESENT -> Autosomal dominant inheritance{nodeId:22759}', 'congenital anomaly of the great veins{nodeId:39411} - PARENT_CHILD -> congenital pulmonary venous return anomaly{nodeId:30720} - PHENOTYPE_PRESENT -> Fatigue{nodeId:25620}', 'congenital anomaly of the great veins{nodeId:39411} - PARENT_CHILD -> congenital pulmonary venous return anomaly{nodeId:30720} - PHENOTYPE_PRESENT -> Paroxysmal dyspnea{nodeId:89534}', 'congenital anomaly of the great veins{nodeId:39411} - PARENT_CHILD -> congenital pulmonary venous return anomaly{nodeId:30720} - PHENOTYPE_PRESENT -> Tricuspid regurgitation{nodeId:86137}', 'congenital anomaly of the great veins{nodeId:39411} - PARENT_CHILD -> congenital pulmonary venous return anomaly{nodeId:30720} - PHENOTYPE_PRESENT -> Respiratory distress{nodeId:23864}', 'congenital anomaly of the great veins{nodeId:39411} - PARENT_CHILD -> congenital pulmonary venous return anomaly{nodeId:30720} - PHENOTYPE_PRESENT -> Right ventricular failure{nodeId:84945}', 'congenital anomaly of the great arteries{nodeId:39138} - PARENT_CHILD -> congenital pulmonary veins atresia or stenosis{nodeId:32270} - PHENOTYPE_PRESENT -> Abnormality of cardiovascular system morphology{nodeId:22817}', 'congenital pulmonary venous return anomaly{nodeId:30720} - PARENT_CHILD -> scimitar syndrome{nodeId:32763} - PHENOTYPE_PRESENT -> Congestive heart failure{nodeId:22859}', 'congenital pulmonary venous return anomaly{nodeId:30720} - PARENT_CHILD -> scimitar syndrome{nodeId:32763} - PHENOTYPE_PRESENT -> Abnormal vena cava morphology{nodeId:25885}', 'congenital anomaly of the great arteries{nodeId:39138} - PARENT_CHILD -> scimitar syndrome{nodeId:32763} - PHENOTYPE_PRESENT -> Congestive heart failure{nodeId:22859}', 'congenital pulmonary venous return anomaly{nodeId:30720} - PARENT_CHILD -> scimitar syndrome{nodeId:32763} - PHENOTYPE_PRESENT -> Abnormality of cardiovascular system morphology{nodeId:22817}', 'congenital anomaly of the great arteries{nodeId:39138} - PARENT_CHILD -> scimitar syndrome{nodeId:32763} - PHENOTYPE_PRESENT -> Abnormal vena cava morphology{nodeId:25885}', 'congenital pulmonary venous return anomaly{nodeId:30720} - PARENT_CHILD -> scimitar syndrome{nodeId:32763} - PHENOTYPE_PRESENT -> Single ventricle{nodeId:25431}', 'congenital anomaly of the great arteries{nodeId:39138} - PARENT_CHILD -> scimitar syndrome{nodeId:32763} - PHENOTYPE_PRESENT -> Abnormality of cardiovascular system morphology{nodeId:22817}', 'congenital pulmonary venous return anomaly{nodeId:30720} - PARENT_CHILD -> scimitar syndrome{nodeId:32763} - PHENOTYPE_PRESENT -> Respiratory distress{nodeId:23864}', 'congenital anomaly of the great arteries{nodeId:39138} - PARENT_CHILD -> scimitar syndrome{nodeId:32763} - PHENOTYPE_PRESENT -> Single ventricle{nodeId:25431}', 'congenital heart disease{nodeId:35453} - PARENT_CHILD -> congenital pulmonary venous return anomaly{nodeId:30720} - PHENOTYPE_PRESENT -> Pallor{nodeId:22566}', 'congenital heart disease{nodeId:35453} - PARENT_CHILD -> congenital pulmonary venous return anomaly{nodeId:30720} - PHENOTYPE_PRESENT -> Poor suck{nodeId:85038}', 'congenital heart disease{nodeId:35453} - PARENT_CHILD -> congenital pulmonary venous return anomaly{nodeId:30720} - PHENOTYPE_PRESENT -> Respiratory failure requiring assisted ventilation{nodeId:24096}', 'congenital heart disease{nodeId:35453} - PARENT_CHILD -> congenital pulmonary venous return anomaly{nodeId:30720} - PHENOTYPE_PRESENT -> Low-output congestive heart failure{nodeId:88019}', 'congenital anomaly of the great arteries{nodeId:39138} - PARENT_CHILD -> scimitar syndrome{nodeId:32763} - PHENOTYPE_PRESENT -> Respiratory distress{nodeId:23864}', 'congenital heart disease{nodeId:35453} - PARENT_CHILD -> congenital pulmonary venous return anomaly{nodeId:30720} - PHENOTYPE_PRESENT -> Cardiac total anomalous pulmonary venous connection{nodeId:88907}', 'congenital heart disease{nodeId:35453} - PARENT_CHILD -> congenital pulmonary venous return anomaly{nodeId:30720} - PHENOTYPE_PRESENT -> Abnormality of the skeletal system{nodeId:25245}', 'congenital anomaly of ventricular septum{nodeId:38142} - PARENT_CHILD -> interventricular septum aneurysm{nodeId:31957} - PHENOTYPE_PRESENT -> Autosomal dominant inheritance{nodeId:22759}', 'congenital heart disease{nodeId:35453} - PARENT_CHILD -> congenital pulmonary venous return anomaly{nodeId:30720} - PHENOTYPE_PRESENT -> Single ventricle{nodeId:25431}', 'congenital heart disease{nodeId:35453} - PARENT_CHILD -> congenital pulmonary venous return anomaly{nodeId:30720} - PHENOTYPE_PRESENT -> Exertional dyspnea{nodeId:85282}', 'congenital heart disease{nodeId:35453} - PARENT_CHILD -> congenital pulmonary venous return anomaly{nodeId:30720} - PHENOTYPE_PRESENT -> Autosomal dominant inheritance{nodeId:22759}', 'scimitar syndrome{nodeId:32763} - PARENT_CHILD -> congenital pulmonary venous return anomaly{nodeId:30720} - PHENOTYPE_PRESENT -> Pallor{nodeId:22566}', 'congenital heart disease{nodeId:35453} - PARENT_CHILD -> congenital pulmonary venous return anomaly{nodeId:30720} - PHENOTYPE_PRESENT -> Fatigue{nodeId:25620}', 'congenital heart disease{nodeId:35453} - PARENT_CHILD -> congenital pulmonary venous return anomaly{nodeId:30720} - PHENOTYPE_PRESENT -> Paroxysmal dyspnea{nodeId:89534}', 'congenital heart disease{nodeId:35453} - PARENT_CHILD -> congenital pulmonary venous return anomaly{nodeId:30720} - PHENOTYPE_PRESENT -> Tricuspid regurgitation{nodeId:86137}', 'scimitar syndrome{nodeId:32763} - PARENT_CHILD -> congenital pulmonary venous return anomaly{nodeId:30720} - PHENOTYPE_PRESENT -> Poor suck{nodeId:85038}', 'scimitar syndrome{nodeId:32763} - PARENT_CHILD -> congenital pulmonary venous return anomaly{nodeId:30720} - PHENOTYPE_PRESENT -> Respiratory failure requiring assisted ventilation{nodeId:24096}', 'scimitar syndrome{nodeId:32763} - PARENT_CHILD -> congenital pulmonary venous return anomaly{nodeId:30720} - PHENOTYPE_PRESENT -> Low-output congestive heart failure{nodeId:88019}', 'congenital heart disease{nodeId:35453} - PARENT_CHILD -> congenital pulmonary venous return anomaly{nodeId:30720} - PHENOTYPE_PRESENT -> Respiratory distress{nodeId:23864}', 'congenital heart disease{nodeId:35453} - PARENT_CHILD -> congenital pulmonary venous return anomaly{nodeId:30720} - PHENOTYPE_PRESENT -> Right ventricular failure{nodeId:84945}', 'scimitar syndrome{nodeId:32763} - PARENT_CHILD -> congenital pulmonary venous return anomaly{nodeId:30720} - PHENOTYPE_PRESENT -> Cardiac total anomalous pulmonary venous connection{nodeId:88907}', 'scimitar syndrome{nodeId:32763} - PARENT_CHILD -> congenital pulmonary venous return anomaly{nodeId:30720} - PHENOTYPE_PRESENT -> Abnormality of the skeletal system{nodeId:25245}', 'scimitar syndrome{nodeId:32763} - PARENT_CHILD -> congenital pulmonary venous return anomaly{nodeId:30720} - PHENOTYPE_PRESENT -> Single ventricle{nodeId:25431}', 'scimitar syndrome{nodeId:32763} - PARENT_CHILD -> congenital pulmonary venous return anomaly{nodeId:30720} - PHENOTYPE_PRESENT -> Exertional dyspnea{nodeId:85282}', 'scimitar syndrome{nodeId:32763} - PARENT_CHILD -> congenital pulmonary venous return anomaly{nodeId:30720} - PHENOTYPE_PRESENT -> Autosomal dominant inheritance{nodeId:22759}', 'scimitar syndrome{nodeId:32763} - PARENT_CHILD -> congenital pulmonary venous return anomaly{nodeId:30720} - PHENOTYPE_PRESENT -> Fatigue{nodeId:25620}', 'scimitar syndrome{nodeId:32763} - PARENT_CHILD -> congenital pulmonary venous return anomaly{nodeId:30720} - PHENOTYPE_PRESENT -> Paroxysmal dyspnea{nodeId:89534}', 'pulmonary veno-occlusive disease and/or pulmonary capillary haemangiomatosis{nodeId:38758} - PARENT_CHILD -> pulmonary venoocclusive disease{nodeId:27684} - PHENOTYPE_PRESENT -> Young adult onset{nodeId:88748}', 'complete atrioventricular canal{nodeId:39590} - PARENT_CHILD -> atrioventricular septal defect{nodeId:28501} - PHENOTYPE_PRESENT -> Congestive heart failure{nodeId:22859}', 'scimitar syndrome{nodeId:32763} - PARENT_CHILD -> congenital pulmonary venous return anomaly{nodeId:30720} - PHENOTYPE_PRESENT -> Tricuspid regurgitation{nodeId:86137}', 'scimitar syndrome{nodeId:32763} - PARENT_CHILD -> congenital pulmonary venous return anomaly{nodeId:30720} - PHENOTYPE_PRESENT -> Respiratory distress{nodeId:23864}', 'atrioventricular valve anomaly{nodeId:39284} - PARENT_CHILD -> atrioventricular septal defect{nodeId:28501} - PHENOTYPE_PRESENT -> Congestive heart failure{nodeId:22859}', 'scimitar syndrome{nodeId:32763} - PARENT_CHILD -> congenital pulmonary venous return anomaly{nodeId:30720} - PHENOTYPE_PRESENT -> Right ventricular failure{nodeId:84945}', 'partial atrioventricular canal{nodeId:32911} - PARENT_CHILD -> atrioventricular septal defect{nodeId:28501} - PHENOTYPE_PRESENT -> Congestive heart failure{nodeId:22859}', 'pulmonary veno-occlusive disease and/or pulmonary capillary haemangiomatosis{nodeId:38758} - PARENT_CHILD -> pulmonary venoocclusive disease{nodeId:27684} - PHENOTYPE_PRESENT -> Middle age onset{nodeId:85562}', 'pulmonary veno-occlusive disease and/or pulmonary capillary haemangiomatosis{nodeId:38758} - PARENT_CHILD -> pulmonary venoocclusive disease{nodeId:27684} - PHENOTYPE_PRESENT -> Dyspnea{nodeId:23011}']\n",
      "['Erlotinib{nodeId:14187} - CONTRAINDICATION -> liver cancer{nodeId:36634} <- ASSOCIATED_WITH - EZH2{nodeId:2768}', 'Erlotinib{nodeId:14187} - CONTRAINDICATION -> hepatocellular carcinoma{nodeId:29646} <- ASSOCIATED_WITH - EZH2{nodeId:2768}', 'Diethylstilbestrol{nodeId:14058} - CONTRAINDICATION -> prostate carcinoma{nodeId:35963} <- ASSOCIATED_WITH - EZH2{nodeId:2768}', 'Diethylstilbestrol{nodeId:14058} - CONTRAINDICATION -> endometrial carcinoma (disease){nodeId:35738} <- ASSOCIATED_WITH - EZH2{nodeId:2768}', 'Diethylstilbestrol{nodeId:14058} - CONTRAINDICATION -> liver cancer{nodeId:36634} <- ASSOCIATED_WITH - EZH2{nodeId:2768}', 'Diethylstilbestrol{nodeId:14058} - CONTRAINDICATION -> hepatocellular carcinoma{nodeId:29646} <- ASSOCIATED_WITH - EZH2{nodeId:2768}', 'Ethinylestradiol{nodeId:14270} - CONTRAINDICATION -> prostate carcinoma{nodeId:35963} <- ASSOCIATED_WITH - EZH2{nodeId:2768}', 'Erlotinib{nodeId:14187} - CONTRAINDICATION -> liver cancer{nodeId:36634} <- ASSOCIATED_WITH - ZIC2{nodeId:9875}', 'Diethylstilbestrol{nodeId:14058} - CONTRAINDICATION -> endometrial cancer{nodeId:30827} <- ASSOCIATED_WITH - EZH2{nodeId:2768}', 'Estradiol cypionate{nodeId:14481} - CONTRAINDICATION -> prostate carcinoma{nodeId:35963} <- ASSOCIATED_WITH - EZH2{nodeId:2768}', 'Ethinylestradiol{nodeId:14270} - CONTRAINDICATION -> endometrial carcinoma (disease){nodeId:35738} <- ASSOCIATED_WITH - EZH2{nodeId:2768}', 'Ethinylestradiol{nodeId:14270} - CONTRAINDICATION -> liver cancer{nodeId:36634} <- ASSOCIATED_WITH - EZH2{nodeId:2768}', 'Erlotinib{nodeId:14187} - CONTRAINDICATION -> liver cancer{nodeId:36634} <- ASSOCIATED_WITH - EPHX1{nodeId:4369}', 'Diethylstilbestrol{nodeId:14058} - CONTRAINDICATION -> hereditary breast ovarian cancer syndrome{nodeId:32617} <- ASSOCIATED_WITH - EZH2{nodeId:2768}', 'Estradiol valerate{nodeId:14483} - CONTRAINDICATION -> prostate carcinoma{nodeId:35963} <- ASSOCIATED_WITH - EZH2{nodeId:2768}', 'Diethylstilbestrol{nodeId:14058} - CONTRAINDICATION -> ovarian endometrioid adenocarcinoma{nodeId:37967} <- ASSOCIATED_WITH - ZEB1{nodeId:449}', 'Estradiol{nodeId:14235} - CONTRAINDICATION -> prostate carcinoma{nodeId:35963} <- ASSOCIATED_WITH - EZH2{nodeId:2768}', 'Erlotinib{nodeId:14187} - CONTRAINDICATION -> liver cancer{nodeId:36634} <- ASSOCIATED_WITH - ZIC5{nodeId:33994}', 'Testosterone{nodeId:14208} - CONTRAINDICATION -> prostate carcinoma{nodeId:35963} <- ASSOCIATED_WITH - EZH2{nodeId:2768}', 'Estrone{nodeId:14211} - CONTRAINDICATION -> endometrial carcinoma (disease){nodeId:35738} <- ASSOCIATED_WITH - EZH2{nodeId:2768}', 'Diethylstilbestrol{nodeId:14058} - CONTRAINDICATION -> ovarian carcinosarcoma{nodeId:83816} <- ASSOCIATED_WITH - ZEB1{nodeId:449}', 'Erlotinib{nodeId:14187} - CONTRAINDICATION -> hepatocellular carcinoma{nodeId:29646} <- ASSOCIATED_WITH - ZIC2{nodeId:9875}', 'Estrone{nodeId:14211} - CONTRAINDICATION -> liver cancer{nodeId:36634} <- ASSOCIATED_WITH - EZH2{nodeId:2768}', 'Quinestrol{nodeId:16376} - CONTRAINDICATION -> endometrial carcinoma (disease){nodeId:35738} <- ASSOCIATED_WITH - EZH2{nodeId:2768}', 'Estradiol cypionate{nodeId:14481} - CONTRAINDICATION -> endometrial carcinoma (disease){nodeId:35738} <- ASSOCIATED_WITH - EZH2{nodeId:2768}', 'Chlorotrianisene{nodeId:14814} - CONTRAINDICATION -> endometrial carcinoma (disease){nodeId:35738} <- ASSOCIATED_WITH - EZH2{nodeId:2768}', 'Erlotinib{nodeId:14187} - CONTRAINDICATION -> liver cancer{nodeId:36634} <- ASSOCIATED_WITH - ZNF23{nodeId:7159}', 'Diethylstilbestrol{nodeId:14058} - CONTRAINDICATION -> prostate carcinoma{nodeId:35963} <- ASSOCIATED_WITH - ZIC2{nodeId:9875}', 'Methyltestosterone{nodeId:14387} - CONTRAINDICATION -> prostate carcinoma{nodeId:35963} <- ASSOCIATED_WITH - EZH2{nodeId:2768}', 'Diethylstilbestrol{nodeId:14058} - CONTRAINDICATION -> prostate carcinoma{nodeId:35963} <- ASSOCIATED_WITH - EZR{nodeId:3974}', 'Erlotinib{nodeId:14187} - CONTRAINDICATION -> liver cancer{nodeId:36634} <- ASSOCIATED_WITH - ZDHHC2{nodeId:21996}', 'Diethylstilbestrol{nodeId:14058} - CONTRAINDICATION -> borderline epithelial tumor of ovary{nodeId:39615} <- ASSOCIATED_WITH - ZEB1{nodeId:449}', 'Erlotinib{nodeId:14187} - CONTRAINDICATION -> liver cancer{nodeId:36634} <- ASSOCIATED_WITH - EGR1{nodeId:15}', 'Estradiol valerate{nodeId:14483} - CONTRAINDICATION -> endometrial carcinoma (disease){nodeId:35738} <- ASSOCIATED_WITH - EZH2{nodeId:2768}', 'Erlotinib{nodeId:14187} - CONTRAINDICATION -> liver cancer{nodeId:36634} <- ASSOCIATED_WITH - ZIC4{nodeId:8901}', 'Estradiol{nodeId:14235} - CONTRAINDICATION -> endometrial carcinoma (disease){nodeId:35738} <- ASSOCIATED_WITH - EZH2{nodeId:2768}', 'Testosterone{nodeId:14208} - CONTRAINDICATION -> endometrial carcinoma (disease){nodeId:35738} <- ASSOCIATED_WITH - EZH2{nodeId:2768}', 'Ethinylestradiol{nodeId:14270} - CONTRAINDICATION -> hepatocellular carcinoma{nodeId:29646} <- ASSOCIATED_WITH - EZH2{nodeId:2768}', 'Estradiol{nodeId:14235} - CONTRAINDICATION -> liver cancer{nodeId:36634} <- ASSOCIATED_WITH - EZH2{nodeId:2768}', 'Testosterone{nodeId:14208} - CONTRAINDICATION -> liver cancer{nodeId:36634} <- ASSOCIATED_WITH - EZH2{nodeId:2768}', 'Erlotinib{nodeId:14187} - CONTRAINDICATION -> hepatocellular carcinoma{nodeId:29646} <- ASSOCIATED_WITH - EPHX1{nodeId:4369}', 'Diethylstilbestrol{nodeId:14058} - CONTRAINDICATION -> ovarian clear cell adenocarcinoma{nodeId:37423} <- ASSOCIATED_WITH - ZEB1{nodeId:449}', 'Diethylstilbestrol{nodeId:14058} - CONTRAINDICATION -> yolk sac tumor{nodeId:36527} <- ASSOCIATED_WITH - ZEB1{nodeId:449}', 'Diethylstilbestrol{nodeId:14058} - CONTRAINDICATION -> prostate carcinoma{nodeId:35963} <- ASSOCIATED_WITH - EPHX1{nodeId:4369}', 'Diethylstilbestrol{nodeId:14058} - CONTRAINDICATION -> prostate carcinoma{nodeId:35963} <- ASSOCIATED_WITH - ZFHX3{nodeId:4584}', 'Erlotinib{nodeId:14187} - CONTRAINDICATION -> hepatocellular carcinoma{nodeId:29646} <- ASSOCIATED_WITH - ZIC5{nodeId:33994}', 'Methyltestosterone{nodeId:14387} - CONTRAINDICATION -> endometrial carcinoma (disease){nodeId:35738} <- ASSOCIATED_WITH - EZH2{nodeId:2768}', 'Ethinylestradiol{nodeId:14270} - CONTRAINDICATION -> endometrial cancer{nodeId:30827} <- ASSOCIATED_WITH - EZH2{nodeId:2768}', 'Diethylstilbestrol{nodeId:14058} - CONTRAINDICATION -> liver cancer{nodeId:36634} <- ASSOCIATED_WITH - ZIC2{nodeId:9875}', 'Erlotinib{nodeId:14187} - CONTRAINDICATION -> liver cancer{nodeId:36634} <- ASSOCIATED_WITH - EFNB2{nodeId:961}', 'Erlotinib{nodeId:14187} - CONTRAINDICATION -> liver cancer{nodeId:36634} <- ASSOCIATED_WITH - YTHDF2{nodeId:11168}', 'Methyltestosterone{nodeId:14387} - CONTRAINDICATION -> liver cancer{nodeId:36634} <- ASSOCIATED_WITH - EZH2{nodeId:2768}', 'Erlotinib{nodeId:14187} - CONTRAINDICATION -> liver cancer{nodeId:36634} <- ASSOCIATED_WITH - PZP{nodeId:9249}', 'Diethylstilbestrol{nodeId:14058} - CONTRAINDICATION -> ovarian endometrioid adenocarcinoma{nodeId:37967} <- ASSOCIATED_WITH - DPH1{nodeId:5580}', 'Erlotinib{nodeId:14187} - CONTRAINDICATION -> liver cancer{nodeId:36634} <- ASSOCIATED_WITH - EHD3{nodeId:10619}', 'Clomifene{nodeId:14686} - CONTRAINDICATION -> endometrial carcinoma (disease){nodeId:35738} <- ASSOCIATED_WITH - EZH2{nodeId:2768}', 'Methoxsalen{nodeId:15303} - CONTRAINDICATION -> carcinoma{nodeId:36240} <- ASSOCIATED_WITH - EZR{nodeId:3974}', 'Diethylstilbestrol{nodeId:14058} - CONTRAINDICATION -> immature ovarian teratoma{nodeId:37047} <- ASSOCIATED_WITH - ZEB1{nodeId:449}', 'Estrone{nodeId:14211} - CONTRAINDICATION -> hepatocellular carcinoma{nodeId:29646} <- ASSOCIATED_WITH - EZH2{nodeId:2768}', 'Diethylstilbestrol{nodeId:14058} - CONTRAINDICATION -> endometrial carcinoma (disease){nodeId:35738} <- ASSOCIATED_WITH - ZEB1{nodeId:449}']\n",
      "[]\n",
      "['congenital tricuspid stenosis{nodeId:27663} - PARENT_CHILD -> congenital tricuspid malformation{nodeId:33663} - PHENOTYPE_PRESENT -> Hypoplastic tricuspid valve{nodeId:94317}', 'tricuspid valve agenesis{nodeId:98725} - PARENT_CHILD -> congenital tricuspid malformation{nodeId:33663} - PHENOTYPE_PRESENT -> Hypoplastic tricuspid valve{nodeId:94317}', 'Ebstein anomaly (disease){nodeId:28145} - PARENT_CHILD -> congenital tricuspid malformation{nodeId:33663} - PHENOTYPE_PRESENT -> Hypoplastic tricuspid valve{nodeId:94317}', 'congenital valvular dysplasia{nodeId:38848} - PARENT_CHILD -> congenital tricuspid malformation{nodeId:33663} - PHENOTYPE_PRESENT -> Hypoplastic tricuspid valve{nodeId:94317}', 'tricuspid atresia (disease){nodeId:32760} - PARENT_CHILD -> congenital tricuspid malformation{nodeId:33663} - PHENOTYPE_PRESENT -> Hypoplastic tricuspid valve{nodeId:94317}', 'atrioventricular valve anomaly{nodeId:39284} - PARENT_CHILD -> congenital tricuspid malformation{nodeId:33663} - PHENOTYPE_PRESENT -> Hypoplastic tricuspid valve{nodeId:94317}', 'congenital tricuspid malformation{nodeId:33663} - PARENT_CHILD -> Ebstein anomaly (disease){nodeId:28145} - PHENOTYPE_PRESENT -> Cerebral ischemia{nodeId:23028}', 'congenital tricuspid malformation{nodeId:33663} - PARENT_CHILD -> Ebstein anomaly (disease){nodeId:28145} - PHENOTYPE_PRESENT -> Atrial septal defect{nodeId:22845}', 'anomaly of the tricuspid subvalvular apparatus{nodeId:39588} - PARENT_CHILD -> congenital tricuspid malformation{nodeId:33663} - PHENOTYPE_PRESENT -> Hypoplastic tricuspid valve{nodeId:94317}', 'accessory tricuspid valve tissue{nodeId:98727} - PARENT_CHILD -> congenital tricuspid malformation{nodeId:33663} - PHENOTYPE_PRESENT -> Hypoplastic tricuspid valve{nodeId:94317}', 'congenital heart disease{nodeId:35453} - PARENT_CHILD -> congenital heart defects, multiple types{nodeId:27908} - PHENOTYPE_PRESENT -> Subvalvular aortic stenosis{nodeId:22848}', 'congenital tricuspid malformation{nodeId:33663} - PARENT_CHILD -> congenital tricuspid stenosis{nodeId:27663} - PHENOTYPE_PRESENT -> Pulmonary arterial hypertension{nodeId:26609}', 'congenital tricuspid malformation{nodeId:33663} - PARENT_CHILD -> Ebstein anomaly (disease){nodeId:28145} - PHENOTYPE_PRESENT -> Arterial thrombosis{nodeId:85859}', 'straddling or overriding tricuspid valve{nodeId:98726} - PARENT_CHILD -> congenital tricuspid malformation{nodeId:33663} - PHENOTYPE_PRESENT -> Hypoplastic tricuspid valve{nodeId:94317}', 'congenital tricuspid malformation{nodeId:33663} - PARENT_CHILD -> congenital tricuspid stenosis{nodeId:27663} - PHENOTYPE_PRESENT -> Tricuspid regurgitation{nodeId:86137}', 'valvar pulmonary stenosis{nodeId:84083} - PARENT_CHILD -> congenital pulmonary valve stenosis{nodeId:32271} - PHENOTYPE_PRESENT -> Atrial septal defect{nodeId:22845}', 'congenital tricuspid malformation{nodeId:33663} - PARENT_CHILD -> Ebstein anomaly (disease){nodeId:28145} - PHENOTYPE_PRESENT -> Fatigue{nodeId:25620}', 'congenital tricuspid malformation{nodeId:33663} - PARENT_CHILD -> tricuspid atresia (disease){nodeId:32760} - PHENOTYPE_PRESENT -> Atrial septal defect{nodeId:22845}', 'tricuspid valve disease{nodeId:36883} - PARENT_CHILD -> congenital tricuspid malformation{nodeId:33663} - PHENOTYPE_PRESENT -> Hypoplastic tricuspid valve{nodeId:94317}', 'atrioventricular septal defect{nodeId:28501} - PARENT_CHILD -> congenital heart defects, multiple types{nodeId:27908} - PHENOTYPE_PRESENT -> Subvalvular aortic stenosis{nodeId:22848}', 'aortic valve atresia (disease){nodeId:94591} - PARENT_CHILD -> congenital aortic valve stenosis{nodeId:32802} - PHENOTYPE_PRESENT -> Abnormal T-wave{nodeId:25277}', 'tricuspid valve prolapse (disease){nodeId:97571} - PARENT_CHILD -> congenital tricuspid malformation{nodeId:33663} - PHENOTYPE_PRESENT -> Hypoplastic tricuspid valve{nodeId:94317}', 'congenital heart disease{nodeId:35453} - PARENT_CHILD -> congenital heart defects, multiple types{nodeId:27908} - PHENOTYPE_PRESENT -> Anxiety{nodeId:22447}', 'congenital heart disease{nodeId:35453} - PARENT_CHILD -> tricuspid atresia (disease){nodeId:32760} - PHENOTYPE_PRESENT -> Atrial septal defect{nodeId:22845}', 'congenital heart malformation{nodeId:37792} - PARENT_CHILD -> congenital heart defects, multiple types{nodeId:27908} - PHENOTYPE_PRESENT -> Subvalvular aortic stenosis{nodeId:22848}', 'transposition of the great arteries{nodeId:38925} - PARENT_CHILD -> congenitally corrected transposition of the great arteries{nodeId:33170} - PHENOTYPE_PRESENT -> Supraventricular tachycardia{nodeId:23835}', 'congenital heart disease{nodeId:35453} - PARENT_CHILD -> congenital heart defects, multiple types{nodeId:27908} - PHENOTYPE_PRESENT -> Atrial septal defect{nodeId:22845}', 'congenital heart disease{nodeId:35453} - PARENT_CHILD -> congenital heart defects, multiple types{nodeId:27908} - PHENOTYPE_PRESENT -> Abnormal left ventricular outflow tract morphology{nodeId:22844}', 'supravalvular pulmonary stenosis{nodeId:98391} - PARENT_CHILD -> congenital pulmonary valve stenosis{nodeId:32271} - PHENOTYPE_PRESENT -> Atrial septal defect{nodeId:22845}', 'aortic valve stenosis{nodeId:39414} - PARENT_CHILD -> congenital aortic valve stenosis{nodeId:32802} - PHENOTYPE_PRESENT -> Abnormal T-wave{nodeId:25277}', 'aortic valve atresia (disease){nodeId:94591} - PARENT_CHILD -> congenital aortic valve stenosis{nodeId:32802} - PHENOTYPE_PRESENT -> Thoracic aortic aneurysm{nodeId:23176}', 'congenital heart disease{nodeId:35453} - PARENT_CHILD -> tetralogy of fallot{nodeId:27857} - PHENOTYPE_PRESENT -> Broad forehead{nodeId:84589}', 'congenital heart disease{nodeId:35453} - PARENT_CHILD -> tetralogy of fallot{nodeId:27857} - PHENOTYPE_PRESENT -> Underdeveloped supraorbital ridges{nodeId:88030}', 'congenital aortic valve stenosis{nodeId:32802} - PARENT_CHILD -> aortic valve atresia (disease){nodeId:94591} - PHENOTYPE_PRESENT -> Abnormal aortic valve morphology{nodeId:23930}', 'congenital heart disease{nodeId:35453} - PARENT_CHILD -> tetralogy of fallot{nodeId:27857} - PHENOTYPE_PRESENT -> Dolichocephaly{nodeId:26085}', 'congenital heart disease{nodeId:35453} - PARENT_CHILD -> congenital heart defects, multiple types{nodeId:27908} - PHENOTYPE_PRESENT -> Hypoplastic left heart{nodeId:85843}', 'congenital heart disease{nodeId:35453} - PARENT_CHILD -> tetralogy of fallot{nodeId:27857} - PHENOTYPE_PRESENT -> Intrauterine growth retardation{nodeId:24608}', 'atrioventricular septal defect{nodeId:28501} - PARENT_CHILD -> congenital heart defects, multiple types{nodeId:27908} - PHENOTYPE_PRESENT -> Anxiety{nodeId:22447}', 'transposition of the great arteries{nodeId:38925} - PARENT_CHILD -> congenitally corrected transposition of the great arteries{nodeId:33170} - PHENOTYPE_PRESENT -> Atrial septal defect{nodeId:22845}', 'subpulmonary stenosis{nodeId:98390} - PARENT_CHILD -> congenital pulmonary valve stenosis{nodeId:32271} - PHENOTYPE_PRESENT -> Atrial septal defect{nodeId:22845}', 'transposition of the great arteries{nodeId:38925} - PARENT_CHILD -> congenitally corrected transposition of the great arteries{nodeId:33170} - PHENOTYPE_PRESENT -> Abnormal left ventricular outflow tract morphology{nodeId:22844}', 'congenital heart disease{nodeId:35453} - PARENT_CHILD -> congenital heart defects, multiple types{nodeId:27908} - PHENOTYPE_PRESENT -> Tetralogy of Fallot{nodeId:25455}', 'congenital heart disease{nodeId:35453} - PARENT_CHILD -> tetralogy of fallot{nodeId:27857} - PHENOTYPE_PRESENT -> Tetralogy of Fallot{nodeId:25455}', 'transposition of the great arteries{nodeId:38925} - PARENT_CHILD -> congenitally corrected transposition of the great arteries{nodeId:33170} - PHENOTYPE_PRESENT -> Sick sinus syndrome{nodeId:88900}', 'transposition of the great arteries{nodeId:38925} - PARENT_CHILD -> congenitally corrected transposition of the great arteries{nodeId:33170} - PHENOTYPE_PRESENT -> Single ventricle{nodeId:25431}', 'transposition of the great arteries{nodeId:38925} - PARENT_CHILD -> congenitally corrected transposition of the great arteries{nodeId:33170} - PHENOTYPE_PRESENT -> Supraventricular tachycardia with an accessory connection mediated pathway{nodeId:25464}', 'transposition of the great arteries{nodeId:38925} - PARENT_CHILD -> congenitally corrected transposition of the great arteries{nodeId:33170} - PHENOTYPE_PRESENT -> Cardiac conduction abnormality{nodeId:23921}', 'aortic valve stenosis{nodeId:39414} - PARENT_CHILD -> congenital aortic valve stenosis{nodeId:32802} - PHENOTYPE_PRESENT -> Thoracic aortic aneurysm{nodeId:23176}', 'transposition of the great arteries{nodeId:38925} - PARENT_CHILD -> congenitally corrected transposition of the great arteries{nodeId:33170} - PHENOTYPE_PRESENT -> Premature atrial contractions{nodeId:86770}', 'atrioventricular septal defect{nodeId:28501} - PARENT_CHILD -> congenital heart defects, multiple types{nodeId:27908} - PHENOTYPE_PRESENT -> Atrial septal defect{nodeId:22845}', 'congenital heart malformation{nodeId:37792} - PARENT_CHILD -> congenital heart defects, multiple types{nodeId:27908} - PHENOTYPE_PRESENT -> Anxiety{nodeId:22447}', 'atrioventricular septal defect{nodeId:28501} - PARENT_CHILD -> congenital heart defects, multiple types{nodeId:27908} - PHENOTYPE_PRESENT -> Abnormal left ventricular outflow tract morphology{nodeId:22844}', 'transposition of the great arteries{nodeId:38925} - PARENT_CHILD -> congenitally corrected transposition of the great arteries{nodeId:33170} - PHENOTYPE_PRESENT -> Food intolerance{nodeId:22965}', 'pulmonic stenosis (disease){nodeId:29518} - PARENT_CHILD -> congenital pulmonary valve stenosis{nodeId:32271} - PHENOTYPE_PRESENT -> Atrial septal defect{nodeId:22845}', 'familial mitral valve prolapse{nodeId:38947} - PARENT_CHILD -> MVP1{nodeId:31911} - PHENOTYPE_PRESENT -> High, narrow palate{nodeId:85230}', 'aortic valve dysplasia{nodeId:97913} - PARENT_CHILD -> congenital aortic valve stenosis{nodeId:32802} - PHENOTYPE_PRESENT -> Abnormal T-wave{nodeId:25277}', 'transposition of the great arteries{nodeId:38925} - PARENT_CHILD -> congenitally corrected transposition of the great arteries{nodeId:33170} - PHENOTYPE_PRESENT -> Perimembranous ventricular septal defect{nodeId:94223}', 'congenital heart malformation{nodeId:37792} - PARENT_CHILD -> congenital heart defects, multiple types{nodeId:27908} - PHENOTYPE_PRESENT -> Atrial septal defect{nodeId:22845}', 'transposition of the great arteries{nodeId:38925} - PARENT_CHILD -> congenitally corrected transposition of the great arteries{nodeId:33170} - PHENOTYPE_PRESENT -> Global systolic dysfunction{nodeId:86142}', 'congenital heart malformation{nodeId:37792} - PARENT_CHILD -> congenital heart defects, multiple types{nodeId:27908} - PHENOTYPE_PRESENT -> Abnormal left ventricular outflow tract morphology{nodeId:22844}']\n",
      "['FOS{nodeId:22} - ASSOCIATED_WITH -> fibrous dysplasia{nodeId:38425}', 'FOSB{nodeId:4909} - ASSOCIATED_WITH -> epilepsy{nodeId:35641}', 'FOSB{nodeId:4909} - ASSOCIATED_WITH -> movement disorder{nodeId:35652}', 'FBXO11{nodeId:5458} - ASSOCIATED_WITH -> intellectual developmental disorder with dysmorphic facies and behavioral abnormalities{nodeId:31805}', 'FOS{nodeId:22} - ASSOCIATED_WITH -> hereditary breast ovarian cancer syndrome{nodeId:32617}', 'FBXO7{nodeId:5716} - ASSOCIATED_WITH -> parkinsonian-pyramidal syndrome{nodeId:30093}', 'FOS{nodeId:22} - ASSOCIATED_WITH -> Berardinelli-Seip congenital lipodystrophy{nodeId:33327}', 'FOS{nodeId:22} - ASSOCIATED_WITH -> amyotrophic lateral sclerosis{nodeId:27248}', 'FOS{nodeId:22} - ASSOCIATED_WITH -> epilepsy{nodeId:35641}', 'FOS{nodeId:22} - ASSOCIATED_WITH -> lipodystrophy{nodeId:31864}', 'FOS{nodeId:22} - ASSOCIATED_WITH -> phobic disorder{nodeId:36105}', 'FOS{nodeId:22} - ASSOCIATED_WITH -> anxiety disorder{nodeId:27933}', 'FOS{nodeId:22} - ASSOCIATED_WITH -> lipodystrophy (disease){nodeId:33711}', 'FOS{nodeId:22} - ASSOCIATED_WITH -> visual epilepsy{nodeId:39815}', 'TFAP2A{nodeId:2164} - ASSOCIATED_WITH -> branchiooculofacial syndrome{nodeId:28514}', 'PHF6{nodeId:34570} - ASSOCIATED_WITH -> Borjeson-Forssman-Lehmann syndrome{nodeId:32096}', 'FBP1{nodeId:6933} - ASSOCIATED_WITH -> parkinsonian-pyramidal syndrome{nodeId:30093}', 'BPTF{nodeId:2946} - ASSOCIATED_WITH -> neurodevelopmental disorder with dysmorphic facies and distal limb anomalies{nodeId:29119}', 'FBXO40{nodeId:13316} - ASSOCIATED_WITH -> autism spectrum disorder{nodeId:37717}', 'FBXO8{nodeId:13425} - ASSOCIATED_WITH -> hereditary breast ovarian cancer syndrome{nodeId:32617}', 'FOXL2{nodeId:2933} - ASSOCIATED_WITH -> premature ovarian failure{nodeId:28340}', 'FBP1{nodeId:6933} - ASSOCIATED_WITH -> fructose-1,6-bisphosphatase deficiency{nodeId:30542}', 'SIX1{nodeId:3000} - ASSOCIATED_WITH -> branchiooculofacial syndrome{nodeId:28514}', 'PFKFB3{nodeId:4859} - ASSOCIATED_WITH -> obesity disorder{nodeId:33593}', 'FBXO40{nodeId:13316} - ASSOCIATED_WITH -> autism susceptibility 1{nodeId:31912}', 'FBXO7{nodeId:5716} - ASSOCIATED_WITH -> parkinsonian disorder{nodeId:37706}', 'FARSB{nodeId:12379} - ASSOCIATED_WITH -> fetal brain disruption sequence{nodeId:33403}', 'FBXO7{nodeId:5716} - ASSOCIATED_WITH -> dystonia{nodeId:27743}', 'FTO{nodeId:1228} - ASSOCIATED_WITH -> obesity disorder{nodeId:33593}', 'FBP1{nodeId:6933} - ASSOCIATED_WITH -> early-onset parkinsonism-intellectual disability syndrome{nodeId:28974}', 'FOXO3{nodeId:1479} - ASSOCIATED_WITH -> obesity disorder{nodeId:33593}', 'FBXO40{nodeId:13316} - ASSOCIATED_WITH -> autism (disease){nodeId:84310}', 'GABPA{nodeId:982} - ASSOCIATED_WITH -> fetal alcohol spectrum disorder{nodeId:35628}', 'FKBP10{nodeId:13464} - ASSOCIATED_WITH -> Bruck syndrome{nodeId:27239}', 'FOXF1{nodeId:12474} - ASSOCIATED_WITH -> Bloom syndrome{nodeId:28619}', 'FMR1{nodeId:154} - ASSOCIATED_WITH -> fragile X-associated tremor/ataxia syndrome{nodeId:30858}', 'GABPA{nodeId:982} - ASSOCIATED_WITH -> fetal alcohol syndrome{nodeId:33152}', 'FUT8{nodeId:2030} - ASSOCIATED_WITH -> congenital disorder of glycosylation with defective fucosylation{nodeId:30239}', 'FBN1{nodeId:1557} - ASSOCIATED_WITH -> marfanoid hypermobility syndrome{nodeId:27431}', 'PFKFB4{nodeId:10178} - ASSOCIATED_WITH -> hereditary breast ovarian cancer syndrome{nodeId:32617}', 'FBXO45{nodeId:33834} - ASSOCIATED_WITH -> schizophrenia{nodeId:28313}', 'FKBP10{nodeId:13464} - ASSOCIATED_WITH -> arthrogryposis-like syndrome{nodeId:33222}', 'FGD1{nodeId:5730} - ASSOCIATED_WITH -> faciodigitogenital syndrome{nodeId:38107}', 'FBP1{nodeId:6933} - ASSOCIATED_WITH -> X-linked parkinsonism-spasticity syndrome{nodeId:31408}', 'FASN{nodeId:4845} - ASSOCIATED_WITH -> obesity disorder{nodeId:33593}', 'PEX5{nodeId:3296} - ASSOCIATED_WITH -> peroxisome biogenesis disorder{nodeId:27450}', 'FUCA1{nodeId:2199} - ASSOCIATED_WITH -> fucosidosis{nodeId:27474}', 'FGB{nodeId:405} - ASSOCIATED_WITH -> parkinsonian-pyramidal syndrome{nodeId:30093}', 'PEX5{nodeId:3296} - ASSOCIATED_WITH -> Zellweger syndrome{nodeId:32874}', 'PEX10{nodeId:9343} - ASSOCIATED_WITH -> peroxisome biogenesis disorder{nodeId:27450}', 'PEX10{nodeId:9343} - ASSOCIATED_WITH -> Zellweger syndrome{nodeId:32874}', 'FBN1{nodeId:1557} - ASSOCIATED_WITH -> MASS syndrome{nodeId:30652}', 'TBK1{nodeId:7286} - ASSOCIATED_WITH -> frontotemporal dementia and/or amyotrophic lateral sclerosis{nodeId:28708}', 'PEX14{nodeId:643} - ASSOCIATED_WITH -> peroxisome biogenesis disorder{nodeId:27450}', 'FKBP6{nodeId:2513} - ASSOCIATED_WITH -> Williams syndrome{nodeId:30529}', 'FTO{nodeId:1228} - ASSOCIATED_WITH -> lethal polymalformative syndrome, Boissel type{nodeId:30991}', 'FBP1{nodeId:6933} - ASSOCIATED_WITH -> schizophrenia{nodeId:28313}', 'FBXL4{nodeId:6764} - ASSOCIATED_WITH -> mitochondrial DNA depletion syndrome{nodeId:27691}', 'POF1B{nodeId:8488} - ASSOCIATED_WITH -> premature ovarian failure{nodeId:28340}', 'PEX14{nodeId:643} - ASSOCIATED_WITH -> Zellweger syndrome{nodeId:32874}']\n",
      "['KCNJ2{nodeId:8919} - ASSOCIATED_WITH -> hyperkalemic periodic paralysis{nodeId:28042}', 'KCNJ2{nodeId:8919} - ASSOCIATED_WITH -> hypokalemic periodic paralysis{nodeId:27428}', 'KCNJ2{nodeId:8919} - ASSOCIATED_WITH -> periodic paralysis (disease){nodeId:33647}', 'KCNJ2{nodeId:8919} - ASSOCIATED_WITH -> periodic paralysis with transient compartment-like syndrome{nodeId:94964}', 'KCNE3{nodeId:9233} - ASSOCIATED_WITH -> hyperkalemic periodic paralysis{nodeId:28042}', 'KCNJ2{nodeId:8919} - ASSOCIATED_WITH -> thyrotoxic periodic paralysis{nodeId:27771}', 'KCNJ18{nodeId:35100} - ASSOCIATED_WITH -> hypokalemic periodic paralysis{nodeId:27428}', 'KCNJ2{nodeId:8919} - ASSOCIATED_WITH -> periodic paralysis with later-onset distal motor neuropathy{nodeId:94963}', 'KCNJ18{nodeId:35100} - ASSOCIATED_WITH -> thyrotoxic periodic paralysis{nodeId:27771}', 'KCNE3{nodeId:9233} - ASSOCIATED_WITH -> hypokalemic periodic paralysis{nodeId:27428}', 'KCNE3{nodeId:9233} - ASSOCIATED_WITH -> periodic paralysis (disease){nodeId:33647}', 'KCNJ2{nodeId:8919} - ASSOCIATED_WITH -> familial periodic paralysis{nodeId:38419}', 'CLCN1{nodeId:9652} - ASSOCIATED_WITH -> hyperkalemic periodic paralysis{nodeId:28042}', 'SCN4A{nodeId:11038} - ASSOCIATED_WITH -> hyperkalemic periodic paralysis{nodeId:28042}', 'KCNJ18{nodeId:35100} - ASSOCIATED_WITH -> familial periodic paralysis{nodeId:38419}', 'SCN4A{nodeId:11038} - ASSOCIATED_WITH -> hypokalemic periodic paralysis{nodeId:27428}', 'CLCN1{nodeId:9652} - ASSOCIATED_WITH -> periodic paralysis (disease){nodeId:33647}', 'SCN4A{nodeId:11038} - ASSOCIATED_WITH -> periodic paralysis (disease){nodeId:33647}', 'KCNJ11{nodeId:7568} - ASSOCIATED_WITH -> partial motor epilepsy{nodeId:83928}', 'KCNJ18{nodeId:35100} - ASSOCIATED_WITH -> thyrotoxic periodic paralysis, susceptibility to{nodeId:28554}', 'KCNJ11{nodeId:7568} - ASSOCIATED_WITH -> partial epilepsy{nodeId:36743}', 'KCNE3{nodeId:9233} - ASSOCIATED_WITH -> familial periodic paralysis{nodeId:38419}', 'KCNJ10{nodeId:10593} - ASSOCIATED_WITH -> EAST syndrome{nodeId:30292}', 'KCNJ11{nodeId:7568} - ASSOCIATED_WITH -> epilepsy{nodeId:35641}', 'KCNT1{nodeId:22116} - ASSOCIATED_WITH -> partial motor epilepsy{nodeId:83928}', 'KCNC1{nodeId:11096} - ASSOCIATED_WITH -> progressive myoclonic epilepsy{nodeId:27651}', 'KCNA1{nodeId:874} - ASSOCIATED_WITH -> episodic kinesigenic dyskinesia{nodeId:29458}', 'KCNT2{nodeId:34203} - ASSOCIATED_WITH -> epilepsy{nodeId:35641}', 'KCNT1{nodeId:22116} - ASSOCIATED_WITH -> partial epilepsy{nodeId:36743}', 'KCNMA1{nodeId:5345} - ASSOCIATED_WITH -> generalized epilepsy-paroxysmal dyskinesia syndrome{nodeId:28945}', 'KCNJ4{nodeId:5581} - ASSOCIATED_WITH -> hemiparkinsonism-hemiatrophy syndrome{nodeId:32759}', 'KCNT1{nodeId:22116} - ASSOCIATED_WITH -> benign childhood occipital epilepsy, Panayiotopoulos type{nodeId:95119}', 'KCNJ2{nodeId:8919} - ASSOCIATED_WITH -> Andersen-Tawil syndrome{nodeId:30353}', 'ATP1A2{nodeId:7618} - ASSOCIATED_WITH -> hypokalemic periodic paralysis{nodeId:27428}', 'KCND2{nodeId:4364} - ASSOCIATED_WITH -> epilepsy{nodeId:35641}', 'KCNJ11{nodeId:7568} - ASSOCIATED_WITH -> visual epilepsy{nodeId:39815}', 'ATP1A2{nodeId:7618} - ASSOCIATED_WITH -> periodic paralysis (disease){nodeId:33647}', 'KCNQ3{nodeId:13872} - ASSOCIATED_WITH -> progressive myoclonic epilepsy{nodeId:27651}', 'KCTD7{nodeId:9901} - ASSOCIATED_WITH -> progressive myoclonic epilepsy{nodeId:27651}', 'KCNQ2{nodeId:3294} - ASSOCIATED_WITH -> partial motor epilepsy{nodeId:83928}', 'KCNA1{nodeId:874} - ASSOCIATED_WITH -> hereditary episodic ataxia{nodeId:38156}', 'KCNA2{nodeId:4831} - ASSOCIATED_WITH -> partial motor epilepsy{nodeId:83928}', 'KCNQ2{nodeId:3294} - ASSOCIATED_WITH -> partial epilepsy{nodeId:36743}', 'KCNAB2{nodeId:6259} - ASSOCIATED_WITH -> epilepsy{nodeId:35641}', 'KCNJ4{nodeId:5581} - ASSOCIATED_WITH -> parkinsonian-pyramidal syndrome{nodeId:30093}', 'KCNT1{nodeId:22116} - ASSOCIATED_WITH -> malignant migrating partial seizures of infancy{nodeId:39046}', 'KCNQ2{nodeId:3294} - ASSOCIATED_WITH -> epilepsy{nodeId:35641}', 'KCNA2{nodeId:4831} - ASSOCIATED_WITH -> partial epilepsy{nodeId:36743}', 'KCNA2{nodeId:4831} - ASSOCIATED_WITH -> epilepsy{nodeId:35641}', 'KCNC4{nodeId:1613} - ASSOCIATED_WITH -> complex partial epilepsy{nodeId:94756}', 'KCNT1{nodeId:22116} - ASSOCIATED_WITH -> benign occipital epilepsy{nodeId:32153}', 'KCNH1{nodeId:6193} - ASSOCIATED_WITH -> epilepsy{nodeId:35641}', 'KCNJ4{nodeId:5581} - ASSOCIATED_WITH -> X-linked parkinsonism-spasticity syndrome{nodeId:31408}', 'KCNJ5{nodeId:9466} - ASSOCIATED_WITH -> Andersen-Tawil syndrome{nodeId:30353}', 'KCNA1{nodeId:874} - ASSOCIATED_WITH -> episodic ataxia{nodeId:27813}', 'KCNJ6{nodeId:1996} - ASSOCIATED_WITH -> unipolar depression{nodeId:83840}', 'KCNH5{nodeId:34679} - ASSOCIATED_WITH -> epilepsy{nodeId:35641}', 'KCNT2{nodeId:34203} - ASSOCIATED_WITH -> developmental and epileptic encephalopathy{nodeId:28005}', 'KCNN4{nodeId:1192} - ASSOCIATED_WITH -> dehydrated hereditary stomatocytosis with or without pseudohyperkalemia and/or perinatal edema{nodeId:29701}', 'KCNK9{nodeId:35091} - ASSOCIATED_WITH -> absence epilepsy{nodeId:33115}']\n",
      "['TOMM20{nodeId:2219} - INTERACTS_WITH -> mitochondrial outer membrane{nodeId:126093} - INTERACTS_WITH -> BCL2L10{nodeId:9633}', 'TOMM20{nodeId:2219} - INTERACTS_WITH -> mitochondrial outer membrane{nodeId:126093} - INTERACTS_WITH -> BAX{nodeId:1139}', 'TOMM20{nodeId:2219} - INTERACTS_WITH -> mitochondrial outer membrane{nodeId:126093} - INTERACTS_WITH -> MOAP1{nodeId:9865}', 'TOMM22{nodeId:6932} - INTERACTS_WITH -> mitochondrial outer membrane{nodeId:126093} - INTERACTS_WITH -> BCL2L10{nodeId:9633}', 'TOMM40{nodeId:2665} - INTERACTS_WITH -> mitochondrial outer membrane{nodeId:126093} - INTERACTS_WITH -> BCL2L10{nodeId:9633}', 'TOMM20{nodeId:2219} - INTERACTS_WITH -> mitochondrial outer membrane{nodeId:126093} - INTERACTS_WITH -> BCL2{nodeId:2429}', 'TOMM22{nodeId:6932} - INTERACTS_WITH -> mitochondrial outer membrane{nodeId:126093} - INTERACTS_WITH -> BAX{nodeId:1139}', 'TOMM40{nodeId:2665} - INTERACTS_WITH -> mitochondrial outer membrane{nodeId:126093} - INTERACTS_WITH -> BAX{nodeId:1139}', 'TOMM20{nodeId:2219} - INTERACTS_WITH -> mitochondrial outer membrane{nodeId:126093} - INTERACTS_WITH -> BAD{nodeId:4060}', 'TOMM20{nodeId:2219} - INTERACTS_WITH -> mitochondrial outer membrane{nodeId:126093} - INTERACTS_WITH -> BCL2L11{nodeId:4295}', 'ATP5MC3{nodeId:11970} - INTERACTS_WITH -> mitochondrial outer membrane{nodeId:126093} - INTERACTS_WITH -> BCL2L10{nodeId:9633}', 'TOMM7{nodeId:6148} - INTERACTS_WITH -> mitochondrial outer membrane{nodeId:126093} - INTERACTS_WITH -> BCL2L10{nodeId:9633}', 'TOMM20{nodeId:2219} - INTERACTS_WITH -> mitochondrial outer membrane{nodeId:126093} - INTERACTS_WITH -> BCL2L1{nodeId:4323}', 'C11orf65{nodeId:57122} - INTERACTS_WITH -> mitochondrial outer membrane{nodeId:126093} - INTERACTS_WITH -> BCL2L10{nodeId:9633}', 'GPAM{nodeId:34528} - INTERACTS_WITH -> mitochondrial outer membrane{nodeId:126093} - INTERACTS_WITH -> BCL2L10{nodeId:9633}', 'TOMM34{nodeId:2048} - INTERACTS_WITH -> mitochondrial outer membrane{nodeId:126093} - INTERACTS_WITH -> BCL2L10{nodeId:9633}', 'ATP5MC2{nodeId:9452} - INTERACTS_WITH -> mitochondrial outer membrane{nodeId:126093} - INTERACTS_WITH -> BCL2L10{nodeId:9633}', 'TOMM22{nodeId:6932} - INTERACTS_WITH -> mitochondrial outer membrane{nodeId:126093} - INTERACTS_WITH -> MOAP1{nodeId:9865}', 'TOMM40{nodeId:2665} - INTERACTS_WITH -> mitochondrial outer membrane{nodeId:126093} - INTERACTS_WITH -> MOAP1{nodeId:9865}', 'ATP5MC3{nodeId:11970} - INTERACTS_WITH -> mitochondrial outer membrane{nodeId:126093} - INTERACTS_WITH -> BAX{nodeId:1139}', 'CPT1A{nodeId:2481} - INTERACTS_WITH -> mitochondrial outer membrane{nodeId:126093} - INTERACTS_WITH -> BCL2L10{nodeId:9633}', 'VPS13A{nodeId:10225} - INTERACTS_WITH -> mitochondrial outer membrane{nodeId:126093} - INTERACTS_WITH -> BCL2L10{nodeId:9633}', 'TOMM7{nodeId:6148} - INTERACTS_WITH -> mitochondrial outer membrane{nodeId:126093} - INTERACTS_WITH -> BAX{nodeId:1139}', 'TOMM5{nodeId:60505} - INTERACTS_WITH -> mitochondrial outer membrane{nodeId:126093} - INTERACTS_WITH -> BCL2L10{nodeId:9633}', 'TOMM22{nodeId:6932} - INTERACTS_WITH -> mitochondrial outer membrane{nodeId:126093} - INTERACTS_WITH -> BCL2{nodeId:2429}', 'TOMM40{nodeId:2665} - INTERACTS_WITH -> mitochondrial outer membrane{nodeId:126093} - INTERACTS_WITH -> BCL2{nodeId:2429}', 'C11orf65{nodeId:57122} - INTERACTS_WITH -> mitochondrial outer membrane{nodeId:126093} - INTERACTS_WITH -> BAX{nodeId:1139}', 'GPAM{nodeId:34528} - INTERACTS_WITH -> mitochondrial outer membrane{nodeId:126093} - INTERACTS_WITH -> BAX{nodeId:1139}', 'TOMM20{nodeId:2219} - INTERACTS_WITH -> mitochondrial outer membrane{nodeId:126093} - INTERACTS_WITH -> CASP8{nodeId:116}', 'TOMM70{nodeId:3488} - INTERACTS_WITH -> mitochondrial outer membrane{nodeId:126093} - INTERACTS_WITH -> BCL2L10{nodeId:9633}', 'TOMM34{nodeId:2048} - INTERACTS_WITH -> mitochondrial outer membrane{nodeId:126093} - INTERACTS_WITH -> BAX{nodeId:1139}', 'ATP5MC2{nodeId:9452} - INTERACTS_WITH -> mitochondrial outer membrane{nodeId:126093} - INTERACTS_WITH -> BAX{nodeId:1139}', 'TOMM6{nodeId:57663} - INTERACTS_WITH -> mitochondrial outer membrane{nodeId:126093} - INTERACTS_WITH -> BCL2L10{nodeId:9633}', 'CPT1A{nodeId:2481} - INTERACTS_WITH -> mitochondrial outer membrane{nodeId:126093} - INTERACTS_WITH -> BAX{nodeId:1139}', 'ATAD1{nodeId:34444} - INTERACTS_WITH -> mitochondrial outer membrane{nodeId:126093} - INTERACTS_WITH -> BCL2L10{nodeId:9633}', 'VPS13A{nodeId:10225} - INTERACTS_WITH -> mitochondrial outer membrane{nodeId:126093} - INTERACTS_WITH -> BAX{nodeId:1139}', 'TOMM5{nodeId:60505} - INTERACTS_WITH -> mitochondrial outer membrane{nodeId:126093} - INTERACTS_WITH -> BAX{nodeId:1139}', 'TOMM22{nodeId:6932} - INTERACTS_WITH -> mitochondrial outer membrane{nodeId:126093} - INTERACTS_WITH -> BAD{nodeId:4060}', 'TOMM40{nodeId:2665} - INTERACTS_WITH -> mitochondrial outer membrane{nodeId:126093} - INTERACTS_WITH -> BAD{nodeId:4060}', 'TOMM20{nodeId:2219} - INTERACTS_WITH -> mitochondrial outer membrane{nodeId:126093} - INTERACTS_WITH -> BOK{nodeId:6030}', 'LETMD1{nodeId:4635} - INTERACTS_WITH -> mitochondrial outer membrane{nodeId:126093} - INTERACTS_WITH -> BCL2L10{nodeId:9633}', 'TOMM70{nodeId:3488} - INTERACTS_WITH -> mitochondrial outer membrane{nodeId:126093} - INTERACTS_WITH -> BAX{nodeId:1139}', 'TOMM22{nodeId:6932} - INTERACTS_WITH -> mitochondrial outer membrane{nodeId:126093} - INTERACTS_WITH -> BCL2L11{nodeId:4295}', 'TOMM40{nodeId:2665} - INTERACTS_WITH -> mitochondrial outer membrane{nodeId:126093} - INTERACTS_WITH -> BCL2L11{nodeId:4295}', 'TOMM20{nodeId:2219} - INTERACTS_WITH -> mitochondrial outer membrane{nodeId:126093} - INTERACTS_WITH -> PMAIP1{nodeId:1929}', 'TOMM6{nodeId:57663} - INTERACTS_WITH -> mitochondrial outer membrane{nodeId:126093} - INTERACTS_WITH -> BAX{nodeId:1139}', 'ATAD1{nodeId:34444} - INTERACTS_WITH -> mitochondrial outer membrane{nodeId:126093} - INTERACTS_WITH -> BAX{nodeId:1139}', 'PLD6{nodeId:57179} - INTERACTS_WITH -> mitochondrial outer membrane{nodeId:126093} - INTERACTS_WITH -> BCL2L10{nodeId:9633}', 'LETMD1{nodeId:4635} - INTERACTS_WITH -> mitochondrial outer membrane{nodeId:126093} - INTERACTS_WITH -> BAX{nodeId:1139}', 'ATP5MC3{nodeId:11970} - INTERACTS_WITH -> mitochondrial outer membrane{nodeId:126093} - INTERACTS_WITH -> MOAP1{nodeId:9865}', 'GPAT2{nodeId:59887} - INTERACTS_WITH -> mitochondrial outer membrane{nodeId:126093} - INTERACTS_WITH -> BCL2L10{nodeId:9633}', 'OPA1{nodeId:7862} - INTERACTS_WITH -> mitochondrial outer membrane{nodeId:126093} - INTERACTS_WITH -> BCL2L10{nodeId:9633}', 'TOMM7{nodeId:6148} - INTERACTS_WITH -> mitochondrial outer membrane{nodeId:126093} - INTERACTS_WITH -> MOAP1{nodeId:9865}', 'TOMM20{nodeId:2219} - INTERACTS_WITH -> mitochondrial outer membrane{nodeId:126093} - INTERACTS_WITH -> BNIP3L{nodeId:7262}', 'C11orf65{nodeId:57122} - INTERACTS_WITH -> mitochondrial outer membrane{nodeId:126093} - INTERACTS_WITH -> MOAP1{nodeId:9865}', 'GPAM{nodeId:34528} - INTERACTS_WITH -> mitochondrial outer membrane{nodeId:126093} - INTERACTS_WITH -> MOAP1{nodeId:9865}', 'ATP5MC3{nodeId:11970} - INTERACTS_WITH -> mitochondrial outer membrane{nodeId:126093} - INTERACTS_WITH -> BCL2{nodeId:2429}', 'MTX2{nodeId:7559} - INTERACTS_WITH -> mitochondrial outer membrane{nodeId:126093} - INTERACTS_WITH -> BCL2L10{nodeId:9633}', 'TOMM22{nodeId:6932} - INTERACTS_WITH -> mitochondrial outer membrane{nodeId:126093} - INTERACTS_WITH -> BCL2L1{nodeId:4323}', 'TOMM40{nodeId:2665} - INTERACTS_WITH -> mitochondrial outer membrane{nodeId:126093} - INTERACTS_WITH -> BCL2L1{nodeId:4323}']\n",
      "[]\n"
     ]
    }
   ],
   "execution_count": 295
  },
  {
   "metadata": {},
   "cell_type": "markdown",
   "source": [
    "### (Optional) Gen Match Patterns from Paper Relationql Patterns\n",
    "This step is just to format the access_patterns for match stamtent generation.  Only need to run once, not for online graphRAG pipeline\n"
   ],
   "id": "d15d852e716f37e9"
  },
  {
   "metadata": {},
   "cell_type": "code",
   "source": [
    "access_logics = {\n",
    "    \"(effect/phenotype → [phenotype absent] → disease ← [!indication] ← drug)\": \"Find diseases with zero indication drug and are associated with <effect/phenotype>\",\n",
    "    \"(drug → [contraindication] → disease ← [associated with] ← gene/protein)\": \"Identify diseases associated with <gene/protein> and are contraindicated with <drug>\",\n",
    "    \"(anatomy → [expression present] → gene/protein ← [expression absent] ← anatomy)\": \"What gene or protein is expressed in <anatomy1> while is absent in <anatomy2>?\",\n",
    "    \"(anatomy → [expression absent] → gene/protein ← [expression absent] ← anatomy)\": \"What gene/protein is absent in both <anatomy1> and <anatomy2>?\",\n",
    "    \"(drug → [carrier] → gene/protein ← [carrier] ← drug)\": \"Which target genes are shared carriers between <drug1> and <drug2>?\",\n",
    "    \"(anatomy → [expression present] → gene/protein → [target] → drug)\": \"What is the drug that targets the genes or proteins which are expressed in <anatomy>?\",\n",
    "    \"(drug → [side effect] → effect/phenotype → [side effect] → drug)\": \"What drug has common side effects as <drug>?\",\n",
    "    \"(drug → [carrier] → gene/protein → [carrier] → drug)\": \"What is the drug that has common gene/protein carrier with <drug>?\",\n",
    "    \"(anatomy → [expression present] → gene/protein → enzyme → drug)\": \"What is the drug that some genes or proteins act as an enzyme upon, where the genes or proteins are expressed in <anatomy>?\",\n",
    "    \"(cellular_component → [interacts with] → gene/protein → [carrier] → drug)\": \"What is the drug carried by genes or proteins that interact with <cellular_component>?\",\n",
    "    \"(molecular_function → [interacts with] → gene/protein → [target] → drug)\": \"What drug targets the genes or proteins that interact with <molecular_function>?\",\n",
    "    \"(effect/phenotype → [side effect] → drug → [synergistic interaction] → drug)\": \"What drug has a synergistic interaction with the drug that has <effect/phenotype> as a side effect?\",\n",
    "    \"(disease → [indication] → drug → [contraindication] → disease)\": \"What disease is a contraindication for the drugs indicated for <disease>?\",\n",
    "    \"(disease → [parent-child] → disease → [phenotype present] → effect/phenotype)\": \"What effect or phenotype is present in the sub type of <disease>?\",\n",
    "    \"(gene/protein → [transporter] → drug → [side effect] → effect/phenotype)\": \"What effect or phenotype is a [side effect] of the drug transported by <gene/protein>?\",\n",
    "    \"(drug → [transporter] → gene/protein → [interacts with] → exposure)\": \"What exposure may affect <drug>s efficacy by acting on its transporter genes?\",\n",
    "    \"(pathway → [interacts with] → gene/protein → [ppi] → gene/protein)\": \"What gene/protein interacts with the gene/protein that related to <pathway>?\",\n",
    "    \"(drug → [synergistic interaction] → drug → [transporter] → gene/protein)\": \"What gene or protein transports the drugs that have a synergistic interaction with <drug>?\",\n",
    "    \"(biological_process → [interacts with] → gene/protein → [interacts with] → biological_process)\": \"What biological process has the common interactino pattern with gene or proteins as <biological_process>?\",\n",
    "    \"(effect/phenotype → [associated with] → gene/protein → [interacts with] → biological_process)\": \"What biological process interacts with the gene/protein associated with <effect/phenotype>?\",\n",
    "    \"(drug → [transporter] → gene/protein → [expression present] → anatomy)\": \"What anatomy expressesed by the gene/protein that affect the transporter of <drug>?\",\n",
    "    \"(drug → [target] → gene/protein → [interacts with] → cellular_component)\": \"What cellular component interacts with genes or proteins targeted by <drug>?\",\n",
    "    \"(biological_process → [interacts with] → gene/protein → [expression absent] → anatomy)\": \"What anatomy does not express the genes or proteins that interacts with <biological_process>?\",\n",
    "    \"(effect/phenotype → [associated with] → gene/protein → [expression absent] → anatomy)\": \"What anatomy does not express the genes or proteins associated with <effect/phenotype>?\",\n",
    "    \"(drug → [indication] → disease → [indication] → drug) & (drug → [synergistic interaction] → drug)\": \"Find drugs that has a synergistic interaction with <drug> and both are indicated for the same disease.\",\n",
    "    \"(pathway → [interacts with] → gene/protein → [interacts with] → pathway) & (pathway → [parent-child] → pathway)\": \"Find pathway that is related with <pathway> and both can [interacts with] the same gene/protein.\",\n",
    "    \"(gene/protein → [associated with] → disease → [associated with] → gene/protein) & (gene/protein → [ppi] → gene/protein)\": \"Find gene/protein that can interect with <gene/protein> and both are associated with the same disease.\",\n",
    "    \"(gene/protein → [associated with] → effect/phenotype → [associated with] → gene/protein) & (gene/protein → [ppi] → gene/protein)\": \"Find gene/protein that can interect with <gene/protein> and both are associated with the same effect/phenotype.\"\n",
    "}"
   ],
   "id": "3c236d6aee682139",
   "outputs": [],
   "execution_count": null
  },
  {
   "metadata": {},
   "cell_type": "code",
   "source": [
    "examples = \"\"\"\n",
    "## Example 1\n",
    "### AccessLogic\n",
    "(disease → [parent-child] → disease → [phenotype present] → effect/phenotype)\n",
    "#### MATCH Statement\n",
    "MATCH p=(n1:Disease)-[r1:PARENT_CHILD]->(n2:Disease)-[r2:PHENOTYPE_PRESENT]->(n3:EffectOrPhenotype)\n",
    "\n",
    "## Example 2\n",
    "### AccessLogic\n",
    "(effect/phenotype → [phenotype absent] → disease ← [!indication] ← drug)\n",
    "#### MATCH Statement\n",
    "MATCH p=(n1:EffectOrPhenotype)-[r1:PHENOTYPE_ABSENT]->(n2:Disease)<-[r2:!INDICATION]-(n3:Drug)\n",
    "\n",
    "## Example 3\n",
    "### AccessLogic\n",
    "(pathway → [interacts with] → gene/protein → [interacts with] → pathway) & (pathway → [parent-child] → pathway)\n",
    "#### MATCH Statement\n",
    "MATCH (n1:Pathway)-[r1:INTERACTS_WITH]->(n2:GeneOrProtein)-[r2:INTERACTS_WITH]->(n3:Pathway), (n1:Pathway)-[r3:PARENT_CHILD]->(n3:Pathway)\n",
    "\n",
    "## Example 4\n",
    "### AccessLogic\n",
    "(gene/protein → [associated with] → effect/phenotype → [associated with] → gene/protein) & (gene/protein → [ppi] → gene/protein)\n",
    "#### MATCH Statement\n",
    "MATCH (n1:GeneOrProtein)-[r1:ASSOCIATED_WITH]->(n2:EffectOrPhenotype)-[r2:ASSOCIATED_WITH]->(n3:GeneOrProtein), (n1:GeneOrProtein)-[r3:PPI]->(n3:GeneOrProtein)\n",
    "\"\"\""
   ],
   "id": "9cb828f6acf4cd1a",
   "outputs": [],
   "execution_count": null
  },
  {
   "metadata": {},
   "cell_type": "code",
   "source": [
    "CYPHER_TEMPLATE = \"\"\"\n",
    "Task: Translate the below AccessLogic into a MATCH Statement in Cypher, Neo4j's Graph Query language, based on the supplied GraphSchema. \n",
    "Follow the format used in the Examples. \n",
    "\n",
    "\n",
    "# AccessLogic\n",
    "{accessLogic}\n",
    "\n",
    "# GraphSchema:\n",
    "{schema}\n",
    "\n",
    "# Examples:\n",
    "{examples}\n",
    "\n",
    "\n",
    "- Do not use any labels or relationships not included in the GraphSchema.\n",
    "- The symbol ! should be respected and maintained in translation as long as it is valid syntax\n",
    "- When an \"&\" is used in AccessLogic, it usually means no new nodes are being introduced after the \"&\" symbol. Instead reuse node variables assuming no cyclical relationships.  See examples.\n",
    "- Do not include triple backticks ``` or any additional text except the generated Cypher MATCH Statement in your response.\n",
    "\n",
    "# MATCH Statement:\n",
    "\"\"\""
   ],
   "id": "c2ab236df9e00559",
   "outputs": [],
   "execution_count": null
  },
  {
   "metadata": {},
   "cell_type": "code",
   "source": [
    "from langchain_core.prompts import PromptTemplate\n",
    "from langchain_openai import OpenAIEmbeddings, ChatOpenAI\n",
    "\n",
    "\n",
    "cypher_llm = ChatOpenAI(\n",
    "    model_name=\"gpt-4o-mini\",\n",
    "    temperature=0, # turning temperature down for more deterministic results\n",
    "    seed=42\n",
    ")\n",
    "\n",
    "\n",
    "\n",
    "def gen_match_pattern(access_logic:str):\n",
    "    prompt = CYPHER_TEMPLATE.format(accessLogic = access_logic, schema=schema, examples=examples)\n",
    "    match_pattern = cypher_llm.invoke(prompt)\n",
    "    gp = GraphPattern.from_string(match_pattern.content)\n",
    "    return match_pattern.content #gp.make_query()"
   ],
   "id": "46323f102522e9b5",
   "outputs": [],
   "execution_count": null
  },
  {
   "metadata": {},
   "cell_type": "code",
   "source": [
    "access_patterns = []\n",
    "for k, v in access_logics.items():\n",
    "    print('\\n=========================')\n",
    "    print(k)\n",
    "    print('-------------------')\n",
    "    access_patterns.append({\"pattern\": gen_match_pattern(k), \"description\": v})"
   ],
   "id": "ae7260bf9298a606",
   "outputs": [],
   "execution_count": null
  },
  {
   "metadata": {},
   "cell_type": "code",
   "source": "print(json.dumps(access_patterns, indent=4))",
   "id": "c57d18546efbe212",
   "outputs": [],
   "execution_count": null
  }
 ],
 "metadata": {
  "kernelspec": {
   "display_name": "Python 3 (ipykernel)",
   "language": "python",
   "name": "python3"
  },
  "language_info": {
   "codemirror_mode": {
    "name": "ipython",
    "version": 3
   },
   "file_extension": ".py",
   "mimetype": "text/x-python",
   "name": "python",
   "nbconvert_exporter": "python",
   "pygments_lexer": "ipython3",
   "version": "3.11.6"
  },
  "colab": {
   "provenance": []
  }
 },
 "nbformat": 4,
 "nbformat_minor": 5
}
