{
 "cells": [
  {
   "cell_type": "code",
   "id": "initial_id",
   "metadata": {
    "collapsed": true,
    "jupyter": {
     "outputs_hidden": true
    },
    "colab": {
     "base_uri": "https://localhost:8080/"
    },
    "id": "initial_id",
    "outputId": "8d0cf051-7022-4169-fb5f-f98dd7d44f4b",
    "ExecuteTime": {
     "end_time": "2024-10-19T20:33:02.344136Z",
     "start_time": "2024-10-19T20:33:01.257531Z"
    }
   },
   "source": [
    "%%capture\n",
    "%pip install torch torch_geometric stark-qa neo4j python-dotenv pcst_fast datasets pandas transformers langchain langchain-openai langchain-community"
   ],
   "outputs": [],
   "execution_count": 49
  },
  {
   "metadata": {},
   "cell_type": "markdown",
   "source": [
    "## Setup"
   ],
   "id": "f27f805265507608"
  },
  {
   "metadata": {},
   "cell_type": "markdown",
   "source": [
    "load env variables"
   ],
   "id": "b9888993aa1c4114"
  },
  {
   "metadata": {
    "id": "d5f15c92d7faa635",
    "ExecuteTime": {
     "end_time": "2024-10-19T16:17:28.751078Z",
     "start_time": "2024-10-19T16:17:28.741305Z"
    }
   },
   "cell_type": "code",
   "source": [
    "from dotenv import load_dotenv\n",
    "import os\n",
    "\n",
    "load_dotenv('.env', override=True)\n",
    "NEO4J_URI = os.getenv('NEO4J_URI')\n",
    "NEO4J_USERNAME = os.getenv('NEO4J_USERNAME')\n",
    "NEO4J_PASSWORD = os.getenv('NEO4J_PASSWORD')\n",
    "\n",
    "OPENAI_API_KEY = os.getenv('OPENAI_API_KEY')"
   ],
   "id": "d5f15c92d7faa635",
   "outputs": [],
   "execution_count": 1
  },
  {
   "metadata": {},
   "cell_type": "markdown",
   "source": "Get stark-qa dataset",
   "id": "89557cc51eaa9b6f"
  },
  {
   "metadata": {
    "ExecuteTime": {
     "end_time": "2024-10-19T16:19:23.355940Z",
     "start_time": "2024-10-19T16:19:19.081556Z"
    }
   },
   "cell_type": "code",
   "source": [
    "from stark_qa import load_qa, load_skb\n",
    "\n",
    "dataset_name = 'prime'\n",
    "\n",
    "# Load the retrieval dataset\n",
    "qa_dataset = load_qa(dataset_name)"
   ],
   "id": "c2245ddc0486acec",
   "outputs": [
    {
     "name": "stdout",
     "output_type": "stream",
     "text": [
      "Use file from /Users/zachblumenfeld/.cache/huggingface/hub/datasets--snap-stanford--stark/snapshots/e3387ba9c873528521e125c3da687092d9872104/qa/prime/stark_qa/stark_qa_human_generated_eval_uncleaned.csv.\n"
     ]
    }
   ],
   "execution_count": 4
  },
  {
   "metadata": {
    "ExecuteTime": {
     "end_time": "2024-10-19T16:19:29.874981Z",
     "start_time": "2024-10-19T16:19:29.866544Z"
    }
   },
   "cell_type": "code",
   "source": "qa_dataset.data",
   "id": "72bb63449ed8c90",
   "outputs": [
    {
     "data": {
      "text/plain": [
       "          id                                              query  \\\n",
       "0          0  Could you identify any skin diseases associate...   \n",
       "1          1  What drugs target the CYP3A4 enzyme and are us...   \n",
       "2          2  What is the name of the condition characterize...   \n",
       "3          3  What drugs are used to treat epithelioid sarco...   \n",
       "4          4  Can you supply a compilation of genes and prot...   \n",
       "...      ...                                                ...   \n",
       "11199  11199  Which gene or protein is not expressed in fema...   \n",
       "11200  11200  Could you identify a biological pathway in whi...   \n",
       "11201  11201  Is there an interaction between genes or prote...   \n",
       "11202  11202  Which pharmacological agents that stimulate os...   \n",
       "11203  11203  Identify common genetic targets that serve as ...   \n",
       "\n",
       "            answer_ids  \n",
       "0              [95886]  \n",
       "1              [15450]  \n",
       "2       [98851, 98853]  \n",
       "3              [15698]  \n",
       "4        [7161, 22045]  \n",
       "...                ...  \n",
       "11199           [2414]  \n",
       "11200         [128199]  \n",
       "11201  [127611, 62903]  \n",
       "11202          [20180]  \n",
       "11203           [8094]  \n",
       "\n",
       "[11204 rows x 3 columns]"
      ],
      "text/html": [
       "<div>\n",
       "<style scoped>\n",
       "    .dataframe tbody tr th:only-of-type {\n",
       "        vertical-align: middle;\n",
       "    }\n",
       "\n",
       "    .dataframe tbody tr th {\n",
       "        vertical-align: top;\n",
       "    }\n",
       "\n",
       "    .dataframe thead th {\n",
       "        text-align: right;\n",
       "    }\n",
       "</style>\n",
       "<table border=\"1\" class=\"dataframe\">\n",
       "  <thead>\n",
       "    <tr style=\"text-align: right;\">\n",
       "      <th></th>\n",
       "      <th>id</th>\n",
       "      <th>query</th>\n",
       "      <th>answer_ids</th>\n",
       "    </tr>\n",
       "  </thead>\n",
       "  <tbody>\n",
       "    <tr>\n",
       "      <th>0</th>\n",
       "      <td>0</td>\n",
       "      <td>Could you identify any skin diseases associate...</td>\n",
       "      <td>[95886]</td>\n",
       "    </tr>\n",
       "    <tr>\n",
       "      <th>1</th>\n",
       "      <td>1</td>\n",
       "      <td>What drugs target the CYP3A4 enzyme and are us...</td>\n",
       "      <td>[15450]</td>\n",
       "    </tr>\n",
       "    <tr>\n",
       "      <th>2</th>\n",
       "      <td>2</td>\n",
       "      <td>What is the name of the condition characterize...</td>\n",
       "      <td>[98851, 98853]</td>\n",
       "    </tr>\n",
       "    <tr>\n",
       "      <th>3</th>\n",
       "      <td>3</td>\n",
       "      <td>What drugs are used to treat epithelioid sarco...</td>\n",
       "      <td>[15698]</td>\n",
       "    </tr>\n",
       "    <tr>\n",
       "      <th>4</th>\n",
       "      <td>4</td>\n",
       "      <td>Can you supply a compilation of genes and prot...</td>\n",
       "      <td>[7161, 22045]</td>\n",
       "    </tr>\n",
       "    <tr>\n",
       "      <th>...</th>\n",
       "      <td>...</td>\n",
       "      <td>...</td>\n",
       "      <td>...</td>\n",
       "    </tr>\n",
       "    <tr>\n",
       "      <th>11199</th>\n",
       "      <td>11199</td>\n",
       "      <td>Which gene or protein is not expressed in fema...</td>\n",
       "      <td>[2414]</td>\n",
       "    </tr>\n",
       "    <tr>\n",
       "      <th>11200</th>\n",
       "      <td>11200</td>\n",
       "      <td>Could you identify a biological pathway in whi...</td>\n",
       "      <td>[128199]</td>\n",
       "    </tr>\n",
       "    <tr>\n",
       "      <th>11201</th>\n",
       "      <td>11201</td>\n",
       "      <td>Is there an interaction between genes or prote...</td>\n",
       "      <td>[127611, 62903]</td>\n",
       "    </tr>\n",
       "    <tr>\n",
       "      <th>11202</th>\n",
       "      <td>11202</td>\n",
       "      <td>Which pharmacological agents that stimulate os...</td>\n",
       "      <td>[20180]</td>\n",
       "    </tr>\n",
       "    <tr>\n",
       "      <th>11203</th>\n",
       "      <td>11203</td>\n",
       "      <td>Identify common genetic targets that serve as ...</td>\n",
       "      <td>[8094]</td>\n",
       "    </tr>\n",
       "  </tbody>\n",
       "</table>\n",
       "<p>11204 rows × 3 columns</p>\n",
       "</div>"
      ]
     },
     "execution_count": 5,
     "metadata": {},
     "output_type": "execute_result"
    }
   ],
   "execution_count": 5
  },
  {
   "metadata": {},
   "cell_type": "markdown",
   "source": "## Vector Retriever",
   "id": "c1b87d80e573cd6d"
  },
  {
   "metadata": {
    "ExecuteTime": {
     "end_time": "2024-10-19T16:17:31.208942Z",
     "start_time": "2024-10-19T16:17:30.108220Z"
    }
   },
   "cell_type": "code",
   "source": [
    "import neo4j\n",
    "from neo4j_graphrag.embeddings.openai import OpenAIEmbeddings\n",
    "\n",
    "driver = neo4j.GraphDatabase.driver(NEO4J_URI, auth=(NEO4J_USERNAME, NEO4J_PASSWORD))\n",
    "\n",
    "#create text embedder\n",
    "embedder = OpenAIEmbeddings()"
   ],
   "id": "4d6fb4497185d8a1",
   "outputs": [],
   "execution_count": 2
  },
  {
   "metadata": {
    "ExecuteTime": {
     "end_time": "2024-10-19T16:39:57.008148Z",
     "start_time": "2024-10-19T16:39:56.672686Z"
    }
   },
   "cell_type": "code",
   "source": [
    "from neo4j_graphrag.retrievers import VectorRetriever\n",
    "\n",
    "vector_retriever = VectorRetriever(\n",
    "    driver,\n",
    "    index_name=\"text_embeddings\",\n",
    "    embedder=embedder,\n",
    "    return_properties=[\"details\", \"name\", \"nodeId\"],\n",
    ")"
   ],
   "id": "1e65485d87e2a5bd",
   "outputs": [],
   "execution_count": 13
  },
  {
   "metadata": {
    "ExecuteTime": {
     "end_time": "2024-10-19T16:46:17.942867Z",
     "start_time": "2024-10-19T16:46:17.899544Z"
    }
   },
   "cell_type": "code",
   "source": [
    "from neo4j_graphrag.llm import OpenAILLM as LLM\n",
    "from neo4j_graphrag.generation import RagTemplate\n",
    "from neo4j_graphrag.generation.graphrag import GraphRAG\n",
    "\n",
    "llm=LLM(\n",
    "    model_name=\"gpt-4o\",\n",
    "    model_params={\n",
    "        \"response_format\": {\"type\": \"json_object\"}, # use json_object formatting for best results\n",
    "        \"temperature\": 0, # turning temperature down for more deterministic results\n",
    "        \"seed\": 42\n",
    "    }\n",
    ")\n",
    "\n",
    "rag_template = RagTemplate(template='''\n",
    "Answer the Question using the following Context. Only respond with information mentioned in the Context. Do not inject any speculative information not mentioned. \n",
    "\n",
    "Return result as JSON using the following format:\n",
    "{{\"nodeIds\": [list of nodeIds containing the correct answers in order of probability highest to smallest], \"explanation\": \"written explanation as to why the node id answers were provided\"}}\n",
    "\n",
    "# Question:\n",
    "{query_text}\n",
    " \n",
    "# Context:\n",
    "{context}\n",
    "\n",
    "# Answer:\n",
    "''', expected_inputs=['query_text', 'context'])\n",
    "\n",
    "v_rag  = GraphRAG(llm=llm, retriever=vector_retriever, prompt_template=rag_template)"
   ],
   "id": "64f3c2d6367140a7",
   "outputs": [],
   "execution_count": 34
  },
  {
   "metadata": {
    "ExecuteTime": {
     "end_time": "2024-10-19T16:46:22.142756Z",
     "start_time": "2024-10-19T16:46:18.441212Z"
    }
   },
   "cell_type": "code",
   "source": [
    "q=qa_dataset.data['query'][0]\n",
    "print(q)\n",
    "\n",
    "v_res = v_rag.search(q, return_context=True, retriever_config={\"top_k\": 10})"
   ],
   "id": "e93164070799354f",
   "outputs": [
    {
     "name": "stdout",
     "output_type": "stream",
     "text": [
      "Could you identify any skin diseases associated with epithelial skin neoplasms? I've observed a tiny, yellowish lesion on sun-exposed areas of my face and neck, and I suspect it might be connected.\n"
     ]
    }
   ],
   "execution_count": 35
  },
  {
   "metadata": {
    "ExecuteTime": {
     "end_time": "2024-10-19T16:46:22.147459Z",
     "start_time": "2024-10-19T16:46:22.144834Z"
    }
   },
   "cell_type": "code",
   "source": [
    "import json\n",
    "\n",
    "print(json.dumps(eval(v_res.answer), indent=1))"
   ],
   "id": "24b15b2394f106d1",
   "outputs": [
    {
     "name": "stdout",
     "output_type": "stream",
     "text": [
      "{\n",
      " \"nodeIds\": [\n",
      "  96054,\n",
      "  96057,\n",
      "  98637,\n",
      "  39254\n",
      " ],\n",
      " \"explanation\": \"The tiny, yellowish lesion observed on sun-exposed areas of the face and neck could be associated with basal cell carcinoma, a type of epithelial skin neoplasm. The context provides information on various types of basal cell carcinoma, which often develop on sun-exposed parts of the body, especially the head and neck. These lesions can appear as pearly white, skin-colored, or pink bumps that are translucent, and tiny blood vessels are often visible. The nodeIds 96054 (skin fibroepithelial basal cell carcinoma), 96057 (follicular basal cell carcinoma), 98637 (follicular atrophoderma-basal cell carcinoma), and 39254 (skin adenoid basal cell carcinoma) are all related to basal cell carcinoma, which matches the description of the lesion observed.\"\n",
      "}\n"
     ]
    }
   ],
   "execution_count": 36
  },
  {
   "metadata": {},
   "cell_type": "markdown",
   "source": "## Text2Cypher Retriever",
   "id": "da4493911aff0f68"
  },
  {
   "metadata": {
    "ExecuteTime": {
     "end_time": "2024-10-19T20:40:17.981636Z",
     "start_time": "2024-10-19T20:40:13.158436Z"
    }
   },
   "cell_type": "code",
   "source": [
    "from neo4j_graphrag.experimental.components.types import Neo4jGraph\n",
    "from typing import Dict\n",
    "from langchain_openai import OpenAIEmbeddings, ChatOpenAI\n",
    "from langchain_community.graphs import Neo4jGraph\n",
    "\n",
    "embedding_model = OpenAIEmbeddings(model=\"text-embedding-ada-002\")\n",
    "graph = Neo4jGraph()\n",
    "\n",
    "\n",
    "QUERY_TEMPLATE = '''\n",
    "UNWIND $queryVectors AS q\n",
    "CALL(q) {\n",
    "  CALL db.index.vector.queryNodes(\"text_embeddings\", 1000, q.queryVector) YIELD node AS n\n",
    "  WHERE apoc.label.exists(n, q.label)\n",
    "  WITH n LIMIT 500\n",
    "  RETURN collect(elementId(n)) AS nodeIds\n",
    "}\n",
    "WITH collect(nodeIds) AS nodeIdsLists\n",
    "MATCH p=(d1:Disease)-[r1:PARENT_CHILD]->(d2:Disease)-[r2:PHENOTYPE_PRESENT]->(ep:EffectOrPhenotype)\n",
    "WHERE (elementId(d1) IN nodeIdsLists[0]) AND (elementId(d2) IN nodeIdsLists[1]) AND (elementId(ep) IN nodeIdsLists[2])\n",
    "RETURN collect(d1.name +  \"{\" + \"nodeId:\" + d1.nodeId + \"}\" +\n",
    "  \" - \" + type(r1) + \" -> \" + \n",
    "  d2.name +  \"{\" + \"nodeId:\" + d2.nodeId + \"}\" +\n",
    "  \" - \" + type(r2) + \" -> \" + \n",
    "  ep.name +  \"{\" + \"nodeId:\" + d2.nodeId + \"}\")\n",
    "  AS facts,\n",
    "  collect(DISTINCT d1.name +  \"{\" + \"nodeId:\" + d1.nodeId + \", details:\" +  d1.details + \"}\") AS disease01TextDetails,\n",
    "  collect(DISTINCT d2.name +  \"{\" + \"nodeId:\" + d2.nodeId + \", details:\" +  d2.details + \"}\") AS disease02TextDetails,\n",
    "  collect(DISTINCT d2.name +  \"{\" + \"nodeId:\" + d2.nodeId + \", details:\" +  d2.details + \"}\") AS effectOrPhenotypeTextDetails\n",
    "'''\n",
    "\n",
    "def retrieve(search_prompts: Dict[str, str]):\n",
    "    query_vectors = [{'queryVector':embedding_model.embed_query(sp['searchPrompt']), 'label':sp['label'] } for sp in search_prompts]\n",
    "    query_results = graph.query(QUERY_TEMPLATE, params={\"queryVectors\": query_vectors})\n",
    "    return query_results\n",
    "\n",
    "sps = [\n",
    "    {\n",
    "        'searchPrompt': \"epithelial skin neoplasms\",\n",
    "        'label': \"Disease\"\n",
    "    },\n",
    "    {\n",
    "        'searchPrompt': \"skin diseases\",\n",
    "        'label': \"Disease\"\n",
    "    },\n",
    "    {\n",
    "        'searchPrompt': \"tiny, yellowish lesion\",\n",
    "        'label': \"EffectOrPhenotype\"\n",
    "    }\n",
    "]\n",
    "\n",
    "res = retrieve(sps)"
   ],
   "id": "fbdf3dc1c0dffcfe",
   "outputs": [],
   "execution_count": 51
  },
  {
   "metadata": {
    "ExecuteTime": {
     "end_time": "2024-10-19T20:40:32.847091Z",
     "start_time": "2024-10-19T20:40:32.842870Z"
    }
   },
   "cell_type": "code",
   "source": "res[0]['facts']",
   "id": "98f1691f7f0ae7b6",
   "outputs": [
    {
     "data": {
      "text/plain": [
       "['epidermal disease{nodeId:38028} - PARENT_CHILD -> ichthyosis (disease){nodeId:33648} - PHENOTYPE_PRESENT -> Localized epidermolytic hyperkeratosis{nodeId:33648}',\n",
       " 'epidermal disease{nodeId:38028} - PARENT_CHILD -> Darier disease{nodeId:31039} - PHENOTYPE_PRESENT -> Hypermelanotic macule{nodeId:31039}',\n",
       " 'epidermal disease{nodeId:38028} - PARENT_CHILD -> Darier disease{nodeId:31039} - PHENOTYPE_PRESENT -> Abnormality of skin pigmentation{nodeId:31039}',\n",
       " 'epidermal disease{nodeId:38028} - PARENT_CHILD -> Darier disease{nodeId:31039} - PHENOTYPE_PRESENT -> Macule{nodeId:31039}',\n",
       " 'epidermal disease{nodeId:38028} - PARENT_CHILD -> Darier disease{nodeId:31039} - PHENOTYPE_PRESENT -> Skin vesicle{nodeId:31039}',\n",
       " 'epidermal disease{nodeId:38028} - PARENT_CHILD -> Darier disease{nodeId:31039} - PHENOTYPE_PRESENT -> Anal mucosal leukoplakia{nodeId:31039}',\n",
       " 'vulvar seborrheic keratosis{nodeId:38032} - PARENT_CHILD -> seborrheic keratosis{nodeId:31850} - PHENOTYPE_PRESENT -> Seborrheic keratosis{nodeId:31850}',\n",
       " 'linear and whorled nevoid hypermelanosis{nodeId:31321} - PARENT_CHILD -> hyperpigmentation of the skin{nodeId:33636} - PHENOTYPE_PRESENT -> Abnormality of skin pigmentation{nodeId:33636}',\n",
       " 'linear and whorled nevoid hypermelanosis{nodeId:31321} - PARENT_CHILD -> hyperpigmentation of the skin{nodeId:33636} - PHENOTYPE_PRESENT -> Irregular hyperpigmentation{nodeId:33636}',\n",
       " 'linear and whorled nevoid hypermelanosis{nodeId:31321} - PARENT_CHILD -> hyperpigmentation of the skin{nodeId:33636} - PHENOTYPE_PRESENT -> Hyperpigmentation in sun-exposed areas{nodeId:33636}',\n",
       " 'linear and whorled nevoid hypermelanosis{nodeId:31321} - PARENT_CHILD -> hyperpigmentation of the skin{nodeId:33636} - PHENOTYPE_PRESENT -> Hypertrichotic hyperpigmented patch{nodeId:33636}',\n",
       " 'epidermal disease{nodeId:38028} - PARENT_CHILD -> porokeratosis (disease){nodeId:32367} - PHENOTYPE_PRESENT -> Abnormality of skin pigmentation{nodeId:32367}',\n",
       " 'epidermal disease{nodeId:38028} - PARENT_CHILD -> hyperkeratosis lenticularis perstans (disease){nodeId:28179} - PHENOTYPE_PRESENT -> Aplasia/Hypoplasia of the skin{nodeId:28179}',\n",
       " 'epidermal disease{nodeId:38028} - PARENT_CHILD -> hyperkeratosis lenticularis perstans (disease){nodeId:28179} - PHENOTYPE_PRESENT -> Papule{nodeId:28179}',\n",
       " 'epidermal disease{nodeId:38028} - PARENT_CHILD -> keratolytic winter erythema{nodeId:30620} - PHENOTYPE_PRESENT -> Pustule{nodeId:30620}',\n",
       " 'skin cancer{nodeId:36197} - PARENT_CHILD -> melanoma{nodeId:33653} - PHENOTYPE_PRESENT -> Lentigo maligna melanoma{nodeId:33653}',\n",
       " 'skin cancer{nodeId:36197} - PARENT_CHILD -> melanoma{nodeId:33653} - PHENOTYPE_PRESENT -> Superficial spreading melanoma{nodeId:33653}',\n",
       " 'skin cancer{nodeId:36197} - PARENT_CHILD -> melanoma{nodeId:33653} - PHENOTYPE_PRESENT -> Nodular melanoma{nodeId:33653}',\n",
       " 'melanocytic neoplasm{nodeId:37010} - PARENT_CHILD -> melanoma{nodeId:33653} - PHENOTYPE_PRESENT -> Lentigo maligna melanoma{nodeId:33653}',\n",
       " 'melanocytic neoplasm{nodeId:37010} - PARENT_CHILD -> melanoma{nodeId:33653} - PHENOTYPE_PRESENT -> Superficial spreading melanoma{nodeId:33653}',\n",
       " 'melanocytic neoplasm{nodeId:37010} - PARENT_CHILD -> melanoma{nodeId:33653} - PHENOTYPE_PRESENT -> Nodular melanoma{nodeId:33653}',\n",
       " 'melanocytic skin neoplasm{nodeId:37660} - PARENT_CHILD -> melanoma{nodeId:33653} - PHENOTYPE_PRESENT -> Lentigo maligna melanoma{nodeId:33653}',\n",
       " 'melanocytic skin neoplasm{nodeId:37660} - PARENT_CHILD -> melanoma{nodeId:33653} - PHENOTYPE_PRESENT -> Superficial spreading melanoma{nodeId:33653}',\n",
       " 'melanocytic skin neoplasm{nodeId:37660} - PARENT_CHILD -> melanoma{nodeId:33653} - PHENOTYPE_PRESENT -> Nodular melanoma{nodeId:33653}',\n",
       " 'epithelioid cell melanoma{nodeId:37939} - PARENT_CHILD -> melanoma{nodeId:33653} - PHENOTYPE_PRESENT -> Lentigo maligna melanoma{nodeId:33653}',\n",
       " 'epithelioid cell melanoma{nodeId:37939} - PARENT_CHILD -> melanoma{nodeId:33653} - PHENOTYPE_PRESENT -> Superficial spreading melanoma{nodeId:33653}',\n",
       " 'epithelioid cell melanoma{nodeId:37939} - PARENT_CHILD -> melanoma{nodeId:33653} - PHENOTYPE_PRESENT -> Nodular melanoma{nodeId:33653}',\n",
       " 'mixed epithelioid and spindle cell melanoma{nodeId:95068} - PARENT_CHILD -> melanoma{nodeId:33653} - PHENOTYPE_PRESENT -> Lentigo maligna melanoma{nodeId:33653}',\n",
       " 'mixed epithelioid and spindle cell melanoma{nodeId:95068} - PARENT_CHILD -> melanoma{nodeId:33653} - PHENOTYPE_PRESENT -> Superficial spreading melanoma{nodeId:33653}',\n",
       " 'mixed epithelioid and spindle cell melanoma{nodeId:95068} - PARENT_CHILD -> melanoma{nodeId:33653} - PHENOTYPE_PRESENT -> Nodular melanoma{nodeId:33653}',\n",
       " 'malignant melanoma of the mucosa{nodeId:98021} - PARENT_CHILD -> melanoma{nodeId:33653} - PHENOTYPE_PRESENT -> Lentigo maligna melanoma{nodeId:33653}',\n",
       " 'malignant melanoma of the mucosa{nodeId:98021} - PARENT_CHILD -> melanoma{nodeId:33653} - PHENOTYPE_PRESENT -> Superficial spreading melanoma{nodeId:33653}',\n",
       " 'malignant melanoma of the mucosa{nodeId:98021} - PARENT_CHILD -> melanoma{nodeId:33653} - PHENOTYPE_PRESENT -> Nodular melanoma{nodeId:33653}',\n",
       " 'porokeratosis disseminated superficial actinic{nodeId:28427} - PARENT_CHILD -> porokeratosis of Mibelli{nodeId:32975} - PHENOTYPE_PRESENT -> Aplasia/Hypoplasia of the skin{nodeId:32975}']"
      ]
     },
     "execution_count": 53,
     "metadata": {},
     "output_type": "execute_result"
    }
   ],
   "execution_count": 53
  },
  {
   "metadata": {
    "ExecuteTime": {
     "end_time": "2024-10-19T20:42:44.877909Z",
     "start_time": "2024-10-19T20:42:44.873075Z"
    }
   },
   "cell_type": "code",
   "source": "{k:v for k,v in res[0].items() if k != 'facts'}",
   "id": "97fb966354c5a394",
   "outputs": [
    {
     "data": {
      "text/plain": [
       "{'disease01TextDetails': [\"epidermal disease{nodeId:38028, details:{'mondo_id': 19268, 'mondo_name': 'epidermal disease', 'mondo_definition': 'A skin disease that involves the epidermis.'}}\",\n",
       "  'vulvar seborrheic keratosis{nodeId:38032, details:{\\'mondo_id\\': 6622, \\'mondo_name\\': \\'vulvar seborrheic keratosis\\', \\'mondo_definition\\': \\'A benign squamous neoplasm that arises from the vulva. It is characterized by the proliferation of the basal cells in the squamous epithelium, acanthosis, hyperkeratosis, and cysts formation.\\', \\'mayo_symptoms\\': \\'A seborrheic keratosis usually looks like a waxy or wartlike growth. It typically appears on the face, chest, shoulders or back. You may develop a single growth, though multiple growths are more common. A seborrheic keratosis: Ranges in color from light tan to brown or black, Is round or oval shaped, Has a characteristic \\\\\\\\pasted on\\\\\\\\\" look, Is flat or slightly raised with a scaly surface, Ranges in size from very small to more than 1 inch across, May itch\"\\', \\'mayo_causes\\': \"Doctors don\\'t know exactly what causes seborrheic keratoses. The growths tend to run in some families, so genes may play a role.\", \\'mayo_risk_factors\\': \"You\\'re generally more likely to develop seborrheic keratoses if you\\'re over age 50. You\\'re also more likely to have them if you have a family history of the condition.\", \\'mayo_see_doc\\': \"When to see a doctor, See your doctor if: Many growths develop over a short time. The growths get irritated or bleed when your clothing rubs against them. You may want the growths removed. You notice suspicious changes in your skin, such as sores or growths that grow rapidly, bleed and don\\'t heal. These could be signs of skin cancer.\"}}',\n",
       "  \"linear and whorled nevoid hypermelanosis{nodeId:31321, details:{'mondo_id': 13688, 'mondo_name': 'linear and whorled nevoid hypermelanosis', 'mondo_definition': 'Linear and whorled nevoid hypermelanosis (LWNH) is a rare skin condition characterized by swirling streaks of hyperpigmented (darkened) skin. The pigmentation follows the lines of Blashko and is mainly located on the trunk and limbs. It is present at birth or appears in the first few weeks of life. It typically progresses for one to two years and then stabilizes. Hyperpigmentation is usually the only symptom but there are isolated reports of other symptoms, involving mostly the central nervous system, musculoskeletal system, and heart. While most cases of LWNH are sporadic, apparent genetic transmission rarely has been described. A few people with LWNH have been diagnosed with chromosomal mosaicism.', 'umls_description': 'A benign lesion that is sometimes congenital and consists of an overgrowth of the epidermis and the presence of melanin-containing cells. It is found mostly in males and typically develops during childhood or adolescence, becoming darker and more hairy after puberty.', 'orphanet_definition': 'A rare hyperpigmentation of the skin disease characterized by the congenital to infantile-onset of bilateral, diffuse (occasionally localized), reticulate (swirls and streaks), macular hyperpigmentation following the lines of Blaschko, typically involving the trunk, limbs, head and neck (but sparing palms, soles and mucosa), without preceding inflammation, blistering or atrophy. Occasionally, extracutaneous abnormalities, including autism, seizures, cardiac defects, skeletal abnormalities and developmental delay, may be associated. Histologically, basal and/or suprabasal melanosis, without pigment incontinence, is observed.'}}\",\n",
       "  'skin cancer{nodeId:36197, details:{\\'mondo_id\\': 2898, \\'mondo_name\\': \\'skin cancer\\', \\'mondo_definition\\': \\'A malignant neoplasm involving the zone of skin\\', \\'mayo_symptoms\\': \"Signs and symptoms caused by cancer will vary depending on what part of the body is affected. Some general signs and symptoms associated with, but not specific to, cancer, include: Fatigue, Lump or area of thickening that can be felt under the skin, Weight changes, including unintended loss or gain, Skin changes, such as yellowing, darkening or redness of the skin, sores that won\\'t heal, or changes to existing moles, Changes in bowel or bladder habits, Persistent cough or trouble breathing, Difficulty swallowing, Hoarseness, Persistent indigestion or discomfort after eating, Persistent, unexplained muscle or joint pain, Persistent, unexplained fevers or night sweats, Unexplained bleeding or bruising\", \\'mayo_causes\\': \"Cancer is caused by changes to the DNA within cells. The DNA inside a cell is packaged into a large number of individual genes, each of which contains a set of instructions telling the cell what functions to perform, as well as how to grow and divide. Errors in the instructions can cause the cell to stop its normal function and may allow a cell to become cancerous. What do gene mutations do?, A gene mutation can instruct a healthy cell to: Allow rapid growth. A gene mutation can tell a cell to grow and divide more rapidly. This creates many new cells that all have that same mutation. Fail to stop uncontrolled cell growth. Normal cells know when to stop growing so that you have just the right number of each type of cell. Cancer cells lose the controls that tell them when to stop growing. A mutation in a tumor suppressor gene allows cancer cells to continue growing and accumulating. Make mistakes when repairing DNA errors. DNA repair genes look for errors in a cell\\'s DNA and make corrections. A mutation in a DNA repair gene may mean that other errors aren\\'t corrected, leading cells to become cancerous. These mutations are the most common ones found in cancer. But many other gene mutations can contribute to causing cancer. What causes gene mutations?, Gene mutations can occur for several reasons, for instance: Gene mutations you\\'re born with. You may be born with a genetic mutation that you inherited from your parents. This type of mutation accounts for a small percentage of cancers. Gene mutations that occur after birth. Most gene mutations occur after you\\'re born and aren\\'t inherited. A number of forces can cause gene mutations, such as smoking, radiation, viruses, cancer-causing chemicals, obesity, hormones, chronic inflammation and a lack of exercise. Gene mutations occur frequently during normal cell growth. However, cells contain a mechanism that recognizes when a mistake occurs and repairs the mistake. Occasionally, a mistake is missed. This could cause a cell to become cancerous. How do gene mutations interact with each other?, The gene mutations you\\'re born with and those that you acquire throughout your life work together to cause cancer. For instance, if you\\'ve inherited a genetic mutation that predisposes you to cancer, that doesn\\'t mean you\\'re certain to get cancer. Instead, you may need one or more other gene mutations to cause cancer. Your inherited gene mutation could make you more likely than other people to develop cancer when exposed to a certain cancer-causing substance. It\\'s not clear just how many mutations must accumulate for cancer to form. It\\'s likely that this varies among cancer types.\", \\'mayo_risk_factors\\': \"While doctors have an idea of what may increase your risk of cancer, the majority of cancers occur in people who don\\'t have any known risk factors. Factors known to increase your risk of cancer include: Your age, Cancer can take decades to develop. That\\'s why most people diagnosed with cancer are 65 or older. While it\\'s more common in older adults, cancer isn\\'t exclusively an adult disease — cancer can be diagnosed at any age. Your habits, Certain lifestyle choices are known to increase your risk of cancer. Smoking, drinking more than one alcoholic drink a day or two drinks a day, excessive exposure to the sun or frequent blistering sunburns, being obese, and having unsafe sex can contribute to cancer. You can change these habits to lower your risk of cancer — though some habits are easier to change than others. Your family history, Only a small portion of cancers are due to an inherited condition. If cancer is common in your family, it\\'s possible that mutations are being passed from one generation to the next. You might be a candidate for genetic testing to see whether you have inherited mutations that might increase your risk of certain cancers. Keep in mind that having an inherited genetic mutation doesn\\'t necessarily mean you\\'ll get cancer. Your health conditions, Some chronic health conditions, such as ulcerative colitis, can markedly increase your risk of developing certain cancers. Talk to your doctor about your risk. Your environment, The environment around you may contain harmful chemicals that can increase your risk of cancer. Even if you don\\'t smoke, you might inhale secondhand smoke if you go where people are smoking or if you live with someone who smokes. Chemicals in your home or workplace, such as asbestos and benzene, also are associated with an increased risk of cancer.\", \\'mayo_complications\\': \"Cancer and its treatment can cause several complications, including: Pain. Pain can be caused by cancer or by cancer treatment, though not all cancer is painful. Medications and other approaches can effectively treat cancer-related pain. Fatigue. Fatigue in people with cancer has many causes, but it can often be managed. Fatigue associated with chemotherapy or radiation therapy treatments is common, but it\\'s usually temporary. Difficulty breathing. Cancer or cancer treatment may cause a feeling of being short of breath. Treatments may bring relief. Nausea. Certain cancers and cancer treatments can cause nausea. Your doctor can sometimes predict if your treatment is likely to cause nausea. Medications and other treatments may help you prevent or decrease nausea. Diarrhea or constipation. Cancer and cancer treatment can affect your bowels and cause diarrhea or constipation. Weight loss. Cancer and cancer treatment may cause weight loss. Cancer steals food from normal cells and deprives them of nutrients. This is often not affected by how many calories or what kind of food is eaten; it\\'s difficult to treat. In most cases, using artificial nutrition through tubes into the stomach or vein does not help change the weight loss. Chemical changes in your body. Cancer can upset the normal chemical balance in your body and increase your risk of serious complications. Signs and symptoms of chemical imbalances might include excessive thirst, frequent urination, constipation and confusion. Brain and nervous system problems. Cancer can press on nearby nerves and cause pain and loss of function of one part of your body. Cancer that involves the brain can cause headaches and stroke-like signs and symptoms, such as weakness on one side of your body. Unusual immune system reactions to cancer. In some cases the body\\'s immune system may react to the presence of cancer by attacking healthy cells. Called paraneoplastic syndrome, these very rare reactions can lead to a variety of signs and symptoms, such as difficulty walking and seizures. Cancer that spreads. As cancer advances, it may spread to other parts of the body. Where cancer spreads depends on the type of cancer. Cancer that returns. Cancer survivors have a risk of cancer recurrence. Some cancers are more likely to recur than others. Ask your doctor about what you can do to reduce your risk of cancer recurrence. Your doctor may devise a follow-up care plan for you after treatment. This plan may include periodic scans and exams in the months and years after your treatment, to look for cancer recurrence.\", \\'mayo_prevention\\': \"There\\'s no certain way to prevent cancer. But doctors have identified several ways of reducing your cancer risk, such as: Stop smoking. If you smoke, quit. If you don\\'t smoke, don\\'t start. Smoking is linked to several types of cancer — not just lung cancer. Stopping now will reduce your risk of cancer in the future. Avoid excessive sun exposure. Harmful ultraviolet rays from the sun can increase your risk of skin cancer. Limit your sun exposure by staying in the shade, wearing protective clothing or applying sunscreen. Eat a healthy diet. Choose a diet rich in fruits and vegetables. Select whole grains and lean proteins. Exercise most days of the week. Regular exercise is linked to a lower risk of cancer. Aim for at least 30 minutes of exercise most days of the week. If you haven\\'t been exercising regularly, start out slowly and work your way up to 30 minutes or longer. Maintain a healthy weight. Being overweight or obese may increase your risk of cancer. Work to achieve and maintain a healthy weight through a combination of a healthy diet and regular exercise. Drink alcohol in moderation, if you choose to drink. If you choose to drink alcohol, limit yourself to one drink a day if you\\'re a woman of any age or a man older than age 65, or two drinks a day if you\\'re a man 65 years old or younger. Schedule cancer screening exams. Talk to your doctor about what types of cancer screening exams are best for you based on your risk factors. Ask your doctor about immunizations. Certain viruses increase your risk of cancer. Immunizations may help prevent those viruses, including hepatitis B, which increases the risk of liver cancer, and human papillomavirus, which increases the risk of cervical cancer and other cancers. Ask your doctor whether immunization against these viruses is appropriate for you.\", \\'mayo_see_doc\\': \"When to see a doctor, Make an appointment with your doctor if you have any persistent signs or symptoms that concern you. If you don\\'t have any signs or symptoms, but are worried about your risk of cancer, discuss your concerns with your doctor. Ask about which cancer screening tests and procedures are appropriate for you.\"}}',\n",
       "  \"melanocytic neoplasm{nodeId:37010, details:{'mondo_id': 21143, 'mondo_name': 'melanocytic neoplasm'}}\",\n",
       "  \"melanocytic skin neoplasm{nodeId:37660, details:{'mondo_id': 21583, 'mondo_name': 'melanocytic skin neoplasm', 'mondo_definition': 'A melanocytic neoplasm that involves the zone of skin.'}}\",\n",
       "  'epithelioid cell melanoma{nodeId:37939, details:{\\'mondo_id\\': 2973, \\'mondo_name\\': \\'epithelioid cell melanoma\\', \\'mondo_definition\\': \\'A melanoma characterized by the presence of malignant large epithelioid melanocytes.\\', \\'mayo_symptoms\\': \"Melanomas can develop anywhere on your body. They most often develop in areas that have had exposure to the sun, such as your back, legs, arms and face. Melanomas can also occur in areas that don\\'t receive much sun exposure, such as the soles of your feet, palms of your hands and fingernail beds. These hidden melanomas are more common in people with darker skin. The first melanoma signs and symptoms often are: A change in an existing mole, The development of a new pigmented or unusual-looking growth on your skin, Melanoma doesn\\'t always begin as a mole. It can also occur on otherwise normal-appearing skin. Normal moles, Normal moles are generally a uniform color — such as tan, brown or black — with a distinct border separating the mole from your surrounding skin. They\\'re oval or round and usually smaller than 1/4 inch in diameter — the size of a pencil eraser. Most moles begin appearing in childhood and new moles may form until about age 40. By the time they are adults, most people have between 10 and 40 moles. Moles may change in appearance over time and some may even disappear with age. Unusual moles that may indicate melanoma, To help you identify characteristics of unusual moles that may indicate melanomas or other skin cancers, think of the letters ABCDE: A is for asymmetrical shape. Look for moles with irregular shapes, such as two very different-looking halves. B is for irregular border. Look for moles with irregular, notched or scalloped borders — characteristics of melanomas. C is for changes in color. Look for growths that have many colors or an uneven distribution of color. D is for diameter. Look for new growth in a mole larger than 1/4 inch . E is for evolving. Look for changes over time, such as a mole that grows in size or that changes color or shape. Moles may also evolve to develop new signs and symptoms, such as new itchiness or bleeding. Cancerous moles vary greatly in appearance. Some may show all of the changes listed above, while others may have only one or two unusual characteristics. Hidden melanomas, Melanomas can also develop in areas of your body that have little or no exposure to the sun, such as the spaces between your toes and on your palms, soles, scalp or genitals. These are sometimes referred to as hidden melanomas because they occur in places most people wouldn\\'t think to check. When melanoma occurs in people with darker skin, it\\'s more likely to occur in a hidden area. Hidden melanomas include: Melanoma under a nail. Acral-lentiginous melanoma is a rare form of melanoma that can occur under a fingernail or toenail. It can also be found on the palms of the hands or the soles of the feet. It\\'s more common in people of Asian descent, black people and in others with dark skin pigment. Melanoma in the mouth, digestive tract, urinary tract or vagina. Mucosal melanoma develops in the mucous membrane that lines the nose, mouth, esophagus, anus, urinary tract and vagina. Mucosal melanomas are especially difficult to detect because they can easily be mistaken for other far more common conditions. Melanoma in the eye. Eye melanoma, also called ocular melanoma, most often occurs in the uvea — the layer beneath the white of the eye . An eye melanoma may cause vision changes and may be diagnosed during an eye exam.\", \\'mayo_causes\\': \"Melanoma occurs when something goes wrong in the melanin-producing cells that give color to your skin. Normally, skin cells develop in a controlled and orderly way — healthy new cells push older cells toward your skin\\'s surface, where they die and eventually fall off. But when some cells develop DNA damage, new cells may begin to grow out of control and can eventually form a mass of cancerous cells. Just what damages DNA in skin cells and how this leads to melanoma isn\\'t clear. It\\'s likely that a combination of factors, including environmental and genetic factors, causes melanoma. Still, doctors believe exposure to ultraviolet radiation from the sun and from tanning lamps and beds is the leading cause of melanoma. UV light doesn\\'t cause all melanomas, especially those that occur in places on your body that don\\'t receive exposure to sunlight. This indicates that other factors may contribute to your risk of melanoma.\", \\'mayo_risk_factors\\': \"Factors that may increase your risk of melanoma include: Fair skin. Having less pigment in your skin means you have less protection from damaging UV radiation. If you have blond or red hair, light-colored eyes, and freckle or sunburn easily, you\\'re more likely to develop melanoma than is someone with a darker complexion. But melanoma can develop in people with darker complexions, including Hispanic people and black people. A history of sunburn. One or more severe, blistering sunburns can increase your risk of melanoma. Excessive ultraviolet light exposure. Exposure to UV radiation, which comes from the sun and from tanning lights and beds, can increase the risk of skin cancer, including melanoma. Living closer to the equator or at a higher elevation. People living closer to the earth\\'s equator, where the sun\\'s rays are more direct, experience higher amounts of UV radiation than do those living farther north or south. In addition, if you live at a high elevation, you\\'re exposed to more UV radiation. Having many moles or unusual moles. Having more than 50 ordinary moles on your body indicates an increased risk of melanoma. Also, having an unusual type of mole increases the risk of melanoma. Known medically as dysplastic nevi, these tend to be larger than normal moles and have irregular borders and a mixture of colors. A family history of melanoma. If a close relative — such as a parent, child or sibling — has had melanoma, you have a greater chance of developing a melanoma, too. Weakened immune system. People with weakened immune systems have an increased risk of melanoma and other skin cancers. Your immune system may be impaired if you take medicine to suppress the immune system, such as after an organ transplant, or if you have a disease that impairs the immune system, such as AIDS.\", \\'mayo_complications\\': \"You can reduce your risk of melanoma and other types of skin cancer if you: Avoid the sun during the middle of the day. For many people in North America, the sun\\'s rays are strongest between about 10 a.m. and 4 p.m. Schedule outdoor activities for other times of the day, even in winter or when the sky is cloudy. You absorb UV radiation year-round, and clouds offer little protection from damaging rays. Avoiding the sun at its strongest helps you avoid the sunburns and suntans that cause skin damage and increase your risk of developing skin cancer. Sun exposure accumulated over time also may cause skin cancer., Wear sunscreen year-round. Use a broad-spectrum sunscreen with an SPF of at least 30, even on cloudy days. Apply sunscreen generously, and reapply every two hours — or more often if you\\'re swimming or perspiring., Wear protective clothing. Cover your skin with dark, tightly woven clothing that covers your arms and legs, and a broad-brimmed hat, which provides more protection than does a baseball cap or visor. Some companies also sell protective clothing. A dermatologist can recommend an appropriate brand. Don\\'t forget sunglasses. Look for those that block both types of UV radiation — UVA and UVB rays., Avoid tanning lamps and beds. Tanning lamps and beds emit UV rays and can increase your risk of skin cancer., Become familiar with your skin so that you\\'ll notice changes. Examine your skin often for new skin growths or changes in existing moles, freckles, bumps and birthmarks. With the help of mirrors, check your face, neck, ears and scalp. Examine your chest and trunk and the tops and undersides of your arms and hands. Examine both the front and back of your legs and your feet, including the soles and the spaces between your toes. Also check your genital area and between your buttocks.\", \\'mayo_see_doc\\': \\'When to see a doctor, Make an appointment with your doctor if you notice any skin changes that seem unusual.\\'}}',\n",
       "  'mixed epithelioid and spindle cell melanoma{nodeId:95068, details:{\\'mondo_id\\': 6749, \\'mondo_name\\': \\'mixed epithelioid and spindle cell melanoma\\', \\'mondo_definition\\': \\'A melanoma characterized by the presence of malignant large epithelioid melanocytes and malignant spindle-shaped melanocytes.\\', \\'mayo_symptoms\\': \"Melanomas can develop anywhere on your body. They most often develop in areas that have had exposure to the sun, such as your back, legs, arms and face. Melanomas can also occur in areas that don\\'t receive much sun exposure, such as the soles of your feet, palms of your hands and fingernail beds. These hidden melanomas are more common in people with darker skin. The first melanoma signs and symptoms often are: A change in an existing mole, The development of a new pigmented or unusual-looking growth on your skin, Melanoma doesn\\'t always begin as a mole. It can also occur on otherwise normal-appearing skin. Normal moles, Normal moles are generally a uniform color — such as tan, brown or black — with a distinct border separating the mole from your surrounding skin. They\\'re oval or round and usually smaller than 1/4 inch in diameter — the size of a pencil eraser. Most moles begin appearing in childhood and new moles may form until about age 40. By the time they are adults, most people have between 10 and 40 moles. Moles may change in appearance over time and some may even disappear with age. Unusual moles that may indicate melanoma, To help you identify characteristics of unusual moles that may indicate melanomas or other skin cancers, think of the letters ABCDE: A is for asymmetrical shape. Look for moles with irregular shapes, such as two very different-looking halves. B is for irregular border. Look for moles with irregular, notched or scalloped borders — characteristics of melanomas. C is for changes in color. Look for growths that have many colors or an uneven distribution of color. D is for diameter. Look for new growth in a mole larger than 1/4 inch . E is for evolving. Look for changes over time, such as a mole that grows in size or that changes color or shape. Moles may also evolve to develop new signs and symptoms, such as new itchiness or bleeding. Cancerous moles vary greatly in appearance. Some may show all of the changes listed above, while others may have only one or two unusual characteristics. Hidden melanomas, Melanomas can also develop in areas of your body that have little or no exposure to the sun, such as the spaces between your toes and on your palms, soles, scalp or genitals. These are sometimes referred to as hidden melanomas because they occur in places most people wouldn\\'t think to check. When melanoma occurs in people with darker skin, it\\'s more likely to occur in a hidden area. Hidden melanomas include: Melanoma under a nail. Acral-lentiginous melanoma is a rare form of melanoma that can occur under a fingernail or toenail. It can also be found on the palms of the hands or the soles of the feet. It\\'s more common in people of Asian descent, black people and in others with dark skin pigment. Melanoma in the mouth, digestive tract, urinary tract or vagina. Mucosal melanoma develops in the mucous membrane that lines the nose, mouth, esophagus, anus, urinary tract and vagina. Mucosal melanomas are especially difficult to detect because they can easily be mistaken for other far more common conditions. Melanoma in the eye. Eye melanoma, also called ocular melanoma, most often occurs in the uvea — the layer beneath the white of the eye . An eye melanoma may cause vision changes and may be diagnosed during an eye exam.\", \\'mayo_causes\\': \"Melanoma occurs when something goes wrong in the melanin-producing cells that give color to your skin. Normally, skin cells develop in a controlled and orderly way — healthy new cells push older cells toward your skin\\'s surface, where they die and eventually fall off. But when some cells develop DNA damage, new cells may begin to grow out of control and can eventually form a mass of cancerous cells. Just what damages DNA in skin cells and how this leads to melanoma isn\\'t clear. It\\'s likely that a combination of factors, including environmental and genetic factors, causes melanoma. Still, doctors believe exposure to ultraviolet radiation from the sun and from tanning lamps and beds is the leading cause of melanoma. UV light doesn\\'t cause all melanomas, especially those that occur in places on your body that don\\'t receive exposure to sunlight. This indicates that other factors may contribute to your risk of melanoma.\", \\'mayo_risk_factors\\': \"Factors that may increase your risk of melanoma include: Fair skin. Having less pigment in your skin means you have less protection from damaging UV radiation. If you have blond or red hair, light-colored eyes, and freckle or sunburn easily, you\\'re more likely to develop melanoma than is someone with a darker complexion. But melanoma can develop in people with darker complexions, including Hispanic people and black people. A history of sunburn. One or more severe, blistering sunburns can increase your risk of melanoma. Excessive ultraviolet light exposure. Exposure to UV radiation, which comes from the sun and from tanning lights and beds, can increase the risk of skin cancer, including melanoma. Living closer to the equator or at a higher elevation. People living closer to the earth\\'s equator, where the sun\\'s rays are more direct, experience higher amounts of UV radiation than do those living farther north or south. In addition, if you live at a high elevation, you\\'re exposed to more UV radiation. Having many moles or unusual moles. Having more than 50 ordinary moles on your body indicates an increased risk of melanoma. Also, having an unusual type of mole increases the risk of melanoma. Known medically as dysplastic nevi, these tend to be larger than normal moles and have irregular borders and a mixture of colors. A family history of melanoma. If a close relative — such as a parent, child or sibling — has had melanoma, you have a greater chance of developing a melanoma, too. Weakened immune system. People with weakened immune systems have an increased risk of melanoma and other skin cancers. Your immune system may be impaired if you take medicine to suppress the immune system, such as after an organ transplant, or if you have a disease that impairs the immune system, such as AIDS.\", \\'mayo_complications\\': \"You can reduce your risk of melanoma and other types of skin cancer if you: Avoid the sun during the middle of the day. For many people in North America, the sun\\'s rays are strongest between about 10 a.m. and 4 p.m. Schedule outdoor activities for other times of the day, even in winter or when the sky is cloudy. You absorb UV radiation year-round, and clouds offer little protection from damaging rays. Avoiding the sun at its strongest helps you avoid the sunburns and suntans that cause skin damage and increase your risk of developing skin cancer. Sun exposure accumulated over time also may cause skin cancer., Wear sunscreen year-round. Use a broad-spectrum sunscreen with an SPF of at least 30, even on cloudy days. Apply sunscreen generously, and reapply every two hours — or more often if you\\'re swimming or perspiring., Wear protective clothing. Cover your skin with dark, tightly woven clothing that covers your arms and legs, and a broad-brimmed hat, which provides more protection than does a baseball cap or visor. Some companies also sell protective clothing. A dermatologist can recommend an appropriate brand. Don\\'t forget sunglasses. Look for those that block both types of UV radiation — UVA and UVB rays., Avoid tanning lamps and beds. Tanning lamps and beds emit UV rays and can increase your risk of skin cancer., Become familiar with your skin so that you\\'ll notice changes. Examine your skin often for new skin growths or changes in existing moles, freckles, bumps and birthmarks. With the help of mirrors, check your face, neck, ears and scalp. Examine your chest and trunk and the tops and undersides of your arms and hands. Examine both the front and back of your legs and your feet, including the soles and the spaces between your toes. Also check your genital area and between your buttocks.\", \\'mayo_see_doc\\': \\'When to see a doctor, Make an appointment with your doctor if you notice any skin changes that seem unusual.\\'}}',\n",
       "  'malignant melanoma of the mucosa{nodeId:98021, details:{\\'mondo_id\\': 15694, \\'mondo_name\\': \\'malignant melanoma of the mucosa\\', \\'mondo_definition\\': \\'A melanoma (disease) that involves the mucosa.\\', \\'orphanet_definition\\': \\'A rare, aggressive, neoplastic disease characterized by the presence of a melanocyte tumor that develops in any mucosal membrane. Clinical manifestations vary depending on the site of occurrence.\\', \\'mayo_symptoms\\': \"Melanomas can develop anywhere on your body. They most often develop in areas that have had exposure to the sun, such as your back, legs, arms and face. Melanomas can also occur in areas that don\\'t receive much sun exposure, such as the soles of your feet, palms of your hands and fingernail beds. These hidden melanomas are more common in people with darker skin. The first melanoma signs and symptoms often are: A change in an existing mole, The development of a new pigmented or unusual-looking growth on your skin, Melanoma doesn\\'t always begin as a mole. It can also occur on otherwise normal-appearing skin. Normal moles, Normal moles are generally a uniform color — such as tan, brown or black — with a distinct border separating the mole from your surrounding skin. They\\'re oval or round and usually smaller than 1/4 inch in diameter — the size of a pencil eraser. Most moles begin appearing in childhood and new moles may form until about age 40. By the time they are adults, most people have between 10 and 40 moles. Moles may change in appearance over time and some may even disappear with age. Unusual moles that may indicate melanoma, To help you identify characteristics of unusual moles that may indicate melanomas or other skin cancers, think of the letters ABCDE: A is for asymmetrical shape. Look for moles with irregular shapes, such as two very different-looking halves. B is for irregular border. Look for moles with irregular, notched or scalloped borders — characteristics of melanomas. C is for changes in color. Look for growths that have many colors or an uneven distribution of color. D is for diameter. Look for new growth in a mole larger than 1/4 inch . E is for evolving. Look for changes over time, such as a mole that grows in size or that changes color or shape. Moles may also evolve to develop new signs and symptoms, such as new itchiness or bleeding. Cancerous moles vary greatly in appearance. Some may show all of the changes listed above, while others may have only one or two unusual characteristics. Hidden melanomas, Melanomas can also develop in areas of your body that have little or no exposure to the sun, such as the spaces between your toes and on your palms, soles, scalp or genitals. These are sometimes referred to as hidden melanomas because they occur in places most people wouldn\\'t think to check. When melanoma occurs in people with darker skin, it\\'s more likely to occur in a hidden area. Hidden melanomas include: Melanoma under a nail. Acral-lentiginous melanoma is a rare form of melanoma that can occur under a fingernail or toenail. It can also be found on the palms of the hands or the soles of the feet. It\\'s more common in people of Asian descent, black people and in others with dark skin pigment. Melanoma in the mouth, digestive tract, urinary tract or vagina. Mucosal melanoma develops in the mucous membrane that lines the nose, mouth, esophagus, anus, urinary tract and vagina. Mucosal melanomas are especially difficult to detect because they can easily be mistaken for other far more common conditions. Melanoma in the eye. Eye melanoma, also called ocular melanoma, most often occurs in the uvea — the layer beneath the white of the eye . An eye melanoma may cause vision changes and may be diagnosed during an eye exam.\", \\'mayo_causes\\': \"Melanoma occurs when something goes wrong in the melanin-producing cells that give color to your skin. Normally, skin cells develop in a controlled and orderly way — healthy new cells push older cells toward your skin\\'s surface, where they die and eventually fall off. But when some cells develop DNA damage, new cells may begin to grow out of control and can eventually form a mass of cancerous cells. Just what damages DNA in skin cells and how this leads to melanoma isn\\'t clear. It\\'s likely that a combination of factors, including environmental and genetic factors, causes melanoma. Still, doctors believe exposure to ultraviolet radiation from the sun and from tanning lamps and beds is the leading cause of melanoma. UV light doesn\\'t cause all melanomas, especially those that occur in places on your body that don\\'t receive exposure to sunlight. This indicates that other factors may contribute to your risk of melanoma.\", \\'mayo_risk_factors\\': \"Factors that may increase your risk of melanoma include: Fair skin. Having less pigment in your skin means you have less protection from damaging UV radiation. If you have blond or red hair, light-colored eyes, and freckle or sunburn easily, you\\'re more likely to develop melanoma than is someone with a darker complexion. But melanoma can develop in people with darker complexions, including Hispanic people and black people. A history of sunburn. One or more severe, blistering sunburns can increase your risk of melanoma. Excessive ultraviolet light exposure. Exposure to UV radiation, which comes from the sun and from tanning lights and beds, can increase the risk of skin cancer, including melanoma. Living closer to the equator or at a higher elevation. People living closer to the earth\\'s equator, where the sun\\'s rays are more direct, experience higher amounts of UV radiation than do those living farther north or south. In addition, if you live at a high elevation, you\\'re exposed to more UV radiation. Having many moles or unusual moles. Having more than 50 ordinary moles on your body indicates an increased risk of melanoma. Also, having an unusual type of mole increases the risk of melanoma. Known medically as dysplastic nevi, these tend to be larger than normal moles and have irregular borders and a mixture of colors. A family history of melanoma. If a close relative — such as a parent, child or sibling — has had melanoma, you have a greater chance of developing a melanoma, too. Weakened immune system. People with weakened immune systems have an increased risk of melanoma and other skin cancers. Your immune system may be impaired if you take medicine to suppress the immune system, such as after an organ transplant, or if you have a disease that impairs the immune system, such as AIDS.\", \\'mayo_complications\\': \"You can reduce your risk of melanoma and other types of skin cancer if you: Avoid the sun during the middle of the day. For many people in North America, the sun\\'s rays are strongest between about 10 a.m. and 4 p.m. Schedule outdoor activities for other times of the day, even in winter or when the sky is cloudy. You absorb UV radiation year-round, and clouds offer little protection from damaging rays. Avoiding the sun at its strongest helps you avoid the sunburns and suntans that cause skin damage and increase your risk of developing skin cancer. Sun exposure accumulated over time also may cause skin cancer., Wear sunscreen year-round. Use a broad-spectrum sunscreen with an SPF of at least 30, even on cloudy days. Apply sunscreen generously, and reapply every two hours — or more often if you\\'re swimming or perspiring., Wear protective clothing. Cover your skin with dark, tightly woven clothing that covers your arms and legs, and a broad-brimmed hat, which provides more protection than does a baseball cap or visor. Some companies also sell protective clothing. A dermatologist can recommend an appropriate brand. Don\\'t forget sunglasses. Look for those that block both types of UV radiation — UVA and UVB rays., Avoid tanning lamps and beds. Tanning lamps and beds emit UV rays and can increase your risk of skin cancer., Become familiar with your skin so that you\\'ll notice changes. Examine your skin often for new skin growths or changes in existing moles, freckles, bumps and birthmarks. With the help of mirrors, check your face, neck, ears and scalp. Examine your chest and trunk and the tops and undersides of your arms and hands. Examine both the front and back of your legs and your feet, including the soles and the spaces between your toes. Also check your genital area and between your buttocks.\", \\'mayo_see_doc\\': \\'When to see a doctor, Make an appointment with your doctor if you notice any skin changes that seem unusual.\\'}}',\n",
       "  \"porokeratosis disseminated superficial actinic{nodeId:28427, details:{'mondo_id': 12874, 'mondo_name': 'porokeratosis 6, disseminated superficial actinic type', 'group_id_bert': '12874_13868_8293_14479_11900_12857', 'group_name_bert': 'porokeratosis disseminated superficial actinic'}}\"],\n",
       " 'disease02TextDetails': [\"ichthyosis (disease){nodeId:33648, details:{'mondo_id': 19269, 'mondo_name': 'ichthyosis (disease)', 'mondo_definition': 'Disorders of cornification that are characterized by visible scaling and/or hyperkeratosis of most or all of the skin. Inherited ichthyoses, defined as the generalized form of Mendelian disorders of cornification, affect most or all of the skin. This etiologically and phenotypically heterogenous group of conditions is caused by mutations in various different genes important for keratinocyte differentiation and epidermal barrier function. Acquired forms of ichthyosis can be observed with certain autoimmune, inflammatory, metabolic, endocrine, or infectious diseases or with malignancies.', 'umls_description': 'Most common form of ichthyosis characterized by prominent scaling especially on the exterior surfaces of the extremities. It is inherited as an autosomal dominant trait.'}}\",\n",
       "  \"Darier disease{nodeId:31039, details:{'mondo_id': 7417, 'mondo_name': 'Darier disease', 'mondo_definition': 'Darier disease (DD) is a keratinization disorder characterized by the development of keratotic papules in seborrheic areas and specific nail anomalies.', 'umls_description': 'slowly progressive autosomal dominant disorder of keratinization with papules on the seborrheic areas of the body that coalesce to form plaques which may become crusted and secondarily infected; lesions may darken and fuse over time to form papillomatous and warty malodorous growths.', 'orphanet_definition': 'Darier disease (DD) is a keratinization disorder characterized by the development of keratotic papules in seborrheic areas and specific nail anomalies.', 'orphanet_prevalence': '1-9/100000', 'orphanet_epidemiology': 'The prevalence is estimated at around 1/50000.', 'orphanet_clinical_description': 'Onset of the disease usually occurs around puberty. Patients present with greasy and colored (yellow-brown or brown) keratotic papules, which may be isolated or grouped forming plaques. The skin lesions often become infected and malodorous, and are responsible for major discomfort. They may be exacerbated by exposure to sunlight or artificial UVB radiation, heat, sweating, friction, and infections. The sites of predilection are the seborrheic areas of the trunk and face: upper chest, back, sides of the neck, forehead, ears, and scalp. The flexures are also frequently involved (the groins, axillae, and anogenital region). Hands and feet may also show discrete papules on the dorsal surfaces. Careful examination of the palms and soles frequently reveals small pits or punctuated keratoses that are highly suggestive, if not specific, of DD. They show the specific combination of red and white longitudinal stripes and present subungual hyperkeratosis. The hard palate, oral mucosa, esophagus, vulva and rectum may be the site of whitish small papules, often densely grouped (leukoplakia). Nail abnormalities are almost constant and highly suggestive. The nails are fragile and have a V-shaped defect. Patients have an increased susceptibility to herpes simplex and pyogenic infections. Severity of the disease is highly variable, even within the same family.', 'orphanet_management_and_treatment': 'Management is symptomatic. Patients should avoid sun and heat. Emollients containing urea or lactic acid are of benefit for more limited lesions. Topical application of tretinoin or isotretinoin is effective against hyperkeratosis, but the risk of irritation limits their use. Topical steroids may reduce irritation, but they are not effective when used alone. Retinoids such as tazarotene are better tolerated. In case of severe disease, acitretin (an oral retinoid) is the most effective treatment, but possible side-effects must be monitored. Depression and neuropsychological manifestations have been reported and specific psychological support may be necessary.'}}\",\n",
       "  'seborrheic keratosis{nodeId:31850, details:{\\'mondo_id\\': 8420, \\'mondo_name\\': \\'seborrheic keratosis\\', \\'mondo_definition\\': \\'A common benign skin neoplasm usually affecting older individuals. The lesions usually are multiple and arise in the face, chest, and shoulders. They appear as black or brown, slightly elevated skin lesions.\\', \\'umls_description\\': \\'Diseases involving the dermis or epidermis.\\', \\'mayo_symptoms\\': \\'A seborrheic keratosis usually looks like a waxy or wartlike growth. It typically appears on the face, chest, shoulders or back. You may develop a single growth, though multiple growths are more common. A seborrheic keratosis: Ranges in color from light tan to brown or black, Is round or oval shaped, Has a characteristic \\\\\\\\pasted on\\\\\\\\\" look, Is flat or slightly raised with a scaly surface, Ranges in size from very small to more than 1 inch across, May itch\"\\', \\'mayo_causes\\': \"Doctors don\\'t know exactly what causes seborrheic keratoses. The growths tend to run in some families, so genes may play a role.\", \\'mayo_risk_factors\\': \"You\\'re generally more likely to develop seborrheic keratoses if you\\'re over age 50. You\\'re also more likely to have them if you have a family history of the condition.\", \\'mayo_see_doc\\': \"When to see a doctor, See your doctor if: Many growths develop over a short time. The growths get irritated or bleed when your clothing rubs against them. You may want the growths removed. You notice suspicious changes in your skin, such as sores or growths that grow rapidly, bleed and don\\'t heal. These could be signs of skin cancer.\"}}',\n",
       "  \"hyperpigmentation of the skin{nodeId:33636, details:{'mondo_id': 19289, 'mondo_name': 'hyperpigmentation of the skin', 'umls_description': 'Excessive pigmentation of the skin, usually as a result of increased epidermal or dermal melanin pigmentation, hypermelanosis. Hyperpigmentation can be localized or generalized. The condition may arise from exposure to light, chemicals or other substances, or from a primary metabolic imbalance.'}}\",\n",
       "  \"porokeratosis (disease){nodeId:32367, details:{'mondo_id': 6602, 'mondo_name': 'porokeratosis (disease)', 'mondo_definition': 'A clonal proliferation of abnormal keratinocytes characterized by the development of localized or multiple atrophic skin patches surrounded by an annular keratotic ring called cornoid lamella.', 'umls_description': 'A heritable disorder of faulty keratinization characterized by the proliferation of abnormal clones of keratinocytes and lesions showing varying atrophic patches surrounded by an elevated, keratotic border. These keratotic lesions can progress to overt cutaneous neoplasm. Several clinical variants are recognized, including porokeratosis of Mibelli, linear porokeratosis, disseminated superficial actinic porokeratosis, palmoplantar porokeratosis, and punctate porokeratosis.'}}\",\n",
       "  \"hyperkeratosis lenticularis perstans (disease){nodeId:28179, details:{'mondo_id': 7756, 'mondo_name': 'hyperkeratosis lenticularis perstans (disease)', 'umls_description': 'Hyperkeratosis lenticularis perstans , also known as Flegel disease, is a keratinization abnormality characterized by small, asymptomatic erythematous papules that leave characteristic punctate bleeding when they become detached. The lesions generally occur symmetrically along the top of the foot and on the legs, appearing more rarely on the arms, forearms, palms, and soles, and even on the oral mucosa. ', 'orphanet_definition': 'A rare skin disease characterized by usually asymptomatic, hyperkeratotic, reddish-brown papules primarily located on the lower extremities. Histological examination shows lamellar hyperkeratosis with abrupt peripheral basket-weave orthokeratosis, irregular acanthosis, and underlying lichenoid lymphocytic infiltrate. The condition may be sporadic or familial.'}}\",\n",
       "  \"keratolytic winter erythema{nodeId:30620, details:{'mondo_id': 7854, 'mondo_name': 'keratolytic winter erythema', 'mondo_definition': 'Keratolytic winter erythema is a rare epidermal disease, characterized by recurrent centrifugal palmoplantar peeling and erythema presenting seasonal variation (cold weather). Skin lesions may spread to the dorsum of hands and feet and to the interdigital spaces. Lower legs, knees and thighs may also be involved. Episodes may be preceded by itch and hyperhidrosis. Skin biopsy reveals an epidermal spongiosis with clefting in the stratum corneum, followed by regrowth. Keratolytic winter erythema follows an autosomal dominant mode of transmission.', 'orphanet_definition': 'Keratolytic winter erythema is a rare epidermal disease, characterized by recurrent centrifugal palmoplantar peeling and erythema presenting seasonal variation (cold weather). Skin lesions may spread to the dorsum of hands and feet and to the interdigital spaces. Lower legs, knees and thighs may also be involved. Episodes may be preceded by itch and hyperhidrosis. Skin biopsy reveals an epidermal spongiosis with clefting in the stratum corneum, followed by regrowth. Keratolytic winter erythema follows an autosomal dominant mode of transmission.'}}\",\n",
       "  'melanoma{nodeId:33653, details:{\\'mondo_id\\': 5105, \\'mondo_name\\': \\'melanoma (disease)\\', \\'group_id_bert\\': \\'5105_5012\\', \\'group_name_bert\\': \\'melanoma\\', \\'mondo_definition\\': \\'A malignant, usually aggressive tumor composed of atypical, neoplastic melanocytes. Most often, melanomas arise in the skin (cutaneous melanomas) and include the following histologic subtypes: superficial spreading melanoma, nodular melanoma, acral lentiginous melanoma, and lentigo maligna melanoma. Cutaneous melanomas may arise from acquired or congenital melanocytic or dysplastic nevi. Melanomas may also arise in other anatomic sites including the gastrointestinal system, eye, urinary tract, and reproductive system. Melanomas frequently metastasize to lymph nodes, liver, lungs, and brain.\\', \\'mayo_symptoms\\': \"Melanomas can develop anywhere on your body. They most often develop in areas that have had exposure to the sun, such as your back, legs, arms and face. Melanomas can also occur in areas that don\\'t receive much sun exposure, such as the soles of your feet, palms of your hands and fingernail beds. These hidden melanomas are more common in people with darker skin. The first melanoma signs and symptoms often are: A change in an existing mole, The development of a new pigmented or unusual-looking growth on your skin, Melanoma doesn\\'t always begin as a mole. It can also occur on otherwise normal-appearing skin. Normal moles, Normal moles are generally a uniform color — such as tan, brown or black — with a distinct border separating the mole from your surrounding skin. They\\'re oval or round and usually smaller than 1/4 inch in diameter — the size of a pencil eraser. Most moles begin appearing in childhood and new moles may form until about age 40. By the time they are adults, most people have between 10 and 40 moles. Moles may change in appearance over time and some may even disappear with age. Unusual moles that may indicate melanoma, To help you identify characteristics of unusual moles that may indicate melanomas or other skin cancers, think of the letters ABCDE: A is for asymmetrical shape. Look for moles with irregular shapes, such as two very different-looking halves. B is for irregular border. Look for moles with irregular, notched or scalloped borders — characteristics of melanomas. C is for changes in color. Look for growths that have many colors or an uneven distribution of color. D is for diameter. Look for new growth in a mole larger than 1/4 inch . E is for evolving. Look for changes over time, such as a mole that grows in size or that changes color or shape. Moles may also evolve to develop new signs and symptoms, such as new itchiness or bleeding. Cancerous moles vary greatly in appearance. Some may show all of the changes listed above, while others may have only one or two unusual characteristics. Hidden melanomas, Melanomas can also develop in areas of your body that have little or no exposure to the sun, such as the spaces between your toes and on your palms, soles, scalp or genitals. These are sometimes referred to as hidden melanomas because they occur in places most people wouldn\\'t think to check. When melanoma occurs in people with darker skin, it\\'s more likely to occur in a hidden area. Hidden melanomas include: Melanoma under a nail. Acral-lentiginous melanoma is a rare form of melanoma that can occur under a fingernail or toenail. It can also be found on the palms of the hands or the soles of the feet. It\\'s more common in people of Asian descent, black people and in others with dark skin pigment. Melanoma in the mouth, digestive tract, urinary tract or vagina. Mucosal melanoma develops in the mucous membrane that lines the nose, mouth, esophagus, anus, urinary tract and vagina. Mucosal melanomas are especially difficult to detect because they can easily be mistaken for other far more common conditions. Melanoma in the eye. Eye melanoma, also called ocular melanoma, most often occurs in the uvea — the layer beneath the white of the eye . An eye melanoma may cause vision changes and may be diagnosed during an eye exam.\", \\'mayo_causes\\': \"Melanoma occurs when something goes wrong in the melanin-producing cells that give color to your skin. Normally, skin cells develop in a controlled and orderly way — healthy new cells push older cells toward your skin\\'s surface, where they die and eventually fall off. But when some cells develop DNA damage, new cells may begin to grow out of control and can eventually form a mass of cancerous cells. Just what damages DNA in skin cells and how this leads to melanoma isn\\'t clear. It\\'s likely that a combination of factors, including environmental and genetic factors, causes melanoma. Still, doctors believe exposure to ultraviolet radiation from the sun and from tanning lamps and beds is the leading cause of melanoma. UV light doesn\\'t cause all melanomas, especially those that occur in places on your body that don\\'t receive exposure to sunlight. This indicates that other factors may contribute to your risk of melanoma.\", \\'mayo_risk_factors\\': \"Factors that may increase your risk of melanoma include: Fair skin. Having less pigment in your skin means you have less protection from damaging UV radiation. If you have blond or red hair, light-colored eyes, and freckle or sunburn easily, you\\'re more likely to develop melanoma than is someone with a darker complexion. But melanoma can develop in people with darker complexions, including Hispanic people and black people. A history of sunburn. One or more severe, blistering sunburns can increase your risk of melanoma. Excessive ultraviolet light exposure. Exposure to UV radiation, which comes from the sun and from tanning lights and beds, can increase the risk of skin cancer, including melanoma. Living closer to the equator or at a higher elevation. People living closer to the earth\\'s equator, where the sun\\'s rays are more direct, experience higher amounts of UV radiation than do those living farther north or south. In addition, if you live at a high elevation, you\\'re exposed to more UV radiation. Having many moles or unusual moles. Having more than 50 ordinary moles on your body indicates an increased risk of melanoma. Also, having an unusual type of mole increases the risk of melanoma. Known medically as dysplastic nevi, these tend to be larger than normal moles and have irregular borders and a mixture of colors. A family history of melanoma. If a close relative — such as a parent, child or sibling — has had melanoma, you have a greater chance of developing a melanoma, too. Weakened immune system. People with weakened immune systems have an increased risk of melanoma and other skin cancers. Your immune system may be impaired if you take medicine to suppress the immune system, such as after an organ transplant, or if you have a disease that impairs the immune system, such as AIDS.\", \\'mayo_complications\\': \"You can reduce your risk of melanoma and other types of skin cancer if you: Avoid the sun during the middle of the day. For many people in North America, the sun\\'s rays are strongest between about 10 a.m. and 4 p.m. Schedule outdoor activities for other times of the day, even in winter or when the sky is cloudy. You absorb UV radiation year-round, and clouds offer little protection from damaging rays. Avoiding the sun at its strongest helps you avoid the sunburns and suntans that cause skin damage and increase your risk of developing skin cancer. Sun exposure accumulated over time also may cause skin cancer., Wear sunscreen year-round. Use a broad-spectrum sunscreen with an SPF of at least 30, even on cloudy days. Apply sunscreen generously, and reapply every two hours — or more often if you\\'re swimming or perspiring., Wear protective clothing. Cover your skin with dark, tightly woven clothing that covers your arms and legs, and a broad-brimmed hat, which provides more protection than does a baseball cap or visor. Some companies also sell protective clothing. A dermatologist can recommend an appropriate brand. Don\\'t forget sunglasses. Look for those that block both types of UV radiation — UVA and UVB rays., Avoid tanning lamps and beds. Tanning lamps and beds emit UV rays and can increase your risk of skin cancer., Become familiar with your skin so that you\\'ll notice changes. Examine your skin often for new skin growths or changes in existing moles, freckles, bumps and birthmarks. With the help of mirrors, check your face, neck, ears and scalp. Examine your chest and trunk and the tops and undersides of your arms and hands. Examine both the front and back of your legs and your feet, including the soles and the spaces between your toes. Also check your genital area and between your buttocks.\", \\'mayo_see_doc\\': \\'When to see a doctor, Make an appointment with your doctor if you notice any skin changes that seem unusual.\\'}}',\n",
       "  \"porokeratosis of Mibelli{nodeId:32975, details:{'mondo_id': 19141, 'mondo_name': 'porokeratosis of Mibelli', 'mondo_definition': 'Porokeratosis of Mibelli (PM) is a form of porokeratosis that is characterized by the presence of brown single or multiple annular plaques of varying size, that are sometimes confluent, with a distinctive sharply-defined keratotic border.', 'umls_description': 'A heritable disorder of faulty keratinization characterized by the proliferation of abnormal clones of keratinocytes and lesions showing varying atrophic patches surrounded by an elevated, keratotic border. These keratotic lesions can progress to overt cutaneous neoplasm. Several clinical variants are recognized, including porokeratosis of Mibelli, linear porokeratosis, disseminated superficial actinic porokeratosis, palmoplantar porokeratosis, and punctate porokeratosis.', 'orphanet_definition': 'A rare skin disease that is characterized by the presence of brownish single or multiple annular plaques of varying size, that are sometimes confluent, with a distinctive sharply-defined keratotic border.', 'orphanet_epidemiology': 'Porokeratosis of Mibelli (PM) prevalence is unknown. It is more prevalent in males than females with a ratio of 2-3:1.', 'orphanet_clinical_description': 'Disease onset usually occurs in children, adolescents or young adults (sometimes immunosuppressed). It presents with brownish dry hyperkeratotic plaques of varying size that may coalesce. The lesions have a sharply-defined keratotic border and are usually asymptomatic, but rarely pruritic. They most commonly occur on the limbs (hands and feet) but other areas such as the trunk, palms and soles and genitalia can also be affected. Facial and mucosal lesions are rare. In around 7% of cases, PM lesions undergo malignant transformation, mostly toward squamous cell carcinoma, or less commonly, basal cell carcinoma.', 'orphanet_management_and_treatment': 'PM lesions can be treated with surgical excision. Alternative, albeit less efficient, options include topical 5-fluorouracil (5-FU), imiquimod, cryotherapy, dermabrasion, carbon dioxide laser ablation and photodynamic therapy. However the lesions often recur after treatment. Regular follow-up is recommended to monitor the development of any possible malignancies, and sun exposure should be limited in order to decrease their risk.'}}\"],\n",
       " 'effectOrPhenotypeTextDetails': [\"ichthyosis (disease){nodeId:33648, details:{'mondo_id': 19269, 'mondo_name': 'ichthyosis (disease)', 'mondo_definition': 'Disorders of cornification that are characterized by visible scaling and/or hyperkeratosis of most or all of the skin. Inherited ichthyoses, defined as the generalized form of Mendelian disorders of cornification, affect most or all of the skin. This etiologically and phenotypically heterogenous group of conditions is caused by mutations in various different genes important for keratinocyte differentiation and epidermal barrier function. Acquired forms of ichthyosis can be observed with certain autoimmune, inflammatory, metabolic, endocrine, or infectious diseases or with malignancies.', 'umls_description': 'Most common form of ichthyosis characterized by prominent scaling especially on the exterior surfaces of the extremities. It is inherited as an autosomal dominant trait.'}}\",\n",
       "  \"Darier disease{nodeId:31039, details:{'mondo_id': 7417, 'mondo_name': 'Darier disease', 'mondo_definition': 'Darier disease (DD) is a keratinization disorder characterized by the development of keratotic papules in seborrheic areas and specific nail anomalies.', 'umls_description': 'slowly progressive autosomal dominant disorder of keratinization with papules on the seborrheic areas of the body that coalesce to form plaques which may become crusted and secondarily infected; lesions may darken and fuse over time to form papillomatous and warty malodorous growths.', 'orphanet_definition': 'Darier disease (DD) is a keratinization disorder characterized by the development of keratotic papules in seborrheic areas and specific nail anomalies.', 'orphanet_prevalence': '1-9/100000', 'orphanet_epidemiology': 'The prevalence is estimated at around 1/50000.', 'orphanet_clinical_description': 'Onset of the disease usually occurs around puberty. Patients present with greasy and colored (yellow-brown or brown) keratotic papules, which may be isolated or grouped forming plaques. The skin lesions often become infected and malodorous, and are responsible for major discomfort. They may be exacerbated by exposure to sunlight or artificial UVB radiation, heat, sweating, friction, and infections. The sites of predilection are the seborrheic areas of the trunk and face: upper chest, back, sides of the neck, forehead, ears, and scalp. The flexures are also frequently involved (the groins, axillae, and anogenital region). Hands and feet may also show discrete papules on the dorsal surfaces. Careful examination of the palms and soles frequently reveals small pits or punctuated keratoses that are highly suggestive, if not specific, of DD. They show the specific combination of red and white longitudinal stripes and present subungual hyperkeratosis. The hard palate, oral mucosa, esophagus, vulva and rectum may be the site of whitish small papules, often densely grouped (leukoplakia). Nail abnormalities are almost constant and highly suggestive. The nails are fragile and have a V-shaped defect. Patients have an increased susceptibility to herpes simplex and pyogenic infections. Severity of the disease is highly variable, even within the same family.', 'orphanet_management_and_treatment': 'Management is symptomatic. Patients should avoid sun and heat. Emollients containing urea or lactic acid are of benefit for more limited lesions. Topical application of tretinoin or isotretinoin is effective against hyperkeratosis, but the risk of irritation limits their use. Topical steroids may reduce irritation, but they are not effective when used alone. Retinoids such as tazarotene are better tolerated. In case of severe disease, acitretin (an oral retinoid) is the most effective treatment, but possible side-effects must be monitored. Depression and neuropsychological manifestations have been reported and specific psychological support may be necessary.'}}\",\n",
       "  'seborrheic keratosis{nodeId:31850, details:{\\'mondo_id\\': 8420, \\'mondo_name\\': \\'seborrheic keratosis\\', \\'mondo_definition\\': \\'A common benign skin neoplasm usually affecting older individuals. The lesions usually are multiple and arise in the face, chest, and shoulders. They appear as black or brown, slightly elevated skin lesions.\\', \\'umls_description\\': \\'Diseases involving the dermis or epidermis.\\', \\'mayo_symptoms\\': \\'A seborrheic keratosis usually looks like a waxy or wartlike growth. It typically appears on the face, chest, shoulders or back. You may develop a single growth, though multiple growths are more common. A seborrheic keratosis: Ranges in color from light tan to brown or black, Is round or oval shaped, Has a characteristic \\\\\\\\pasted on\\\\\\\\\" look, Is flat or slightly raised with a scaly surface, Ranges in size from very small to more than 1 inch across, May itch\"\\', \\'mayo_causes\\': \"Doctors don\\'t know exactly what causes seborrheic keratoses. The growths tend to run in some families, so genes may play a role.\", \\'mayo_risk_factors\\': \"You\\'re generally more likely to develop seborrheic keratoses if you\\'re over age 50. You\\'re also more likely to have them if you have a family history of the condition.\", \\'mayo_see_doc\\': \"When to see a doctor, See your doctor if: Many growths develop over a short time. The growths get irritated or bleed when your clothing rubs against them. You may want the growths removed. You notice suspicious changes in your skin, such as sores or growths that grow rapidly, bleed and don\\'t heal. These could be signs of skin cancer.\"}}',\n",
       "  \"hyperpigmentation of the skin{nodeId:33636, details:{'mondo_id': 19289, 'mondo_name': 'hyperpigmentation of the skin', 'umls_description': 'Excessive pigmentation of the skin, usually as a result of increased epidermal or dermal melanin pigmentation, hypermelanosis. Hyperpigmentation can be localized or generalized. The condition may arise from exposure to light, chemicals or other substances, or from a primary metabolic imbalance.'}}\",\n",
       "  \"porokeratosis (disease){nodeId:32367, details:{'mondo_id': 6602, 'mondo_name': 'porokeratosis (disease)', 'mondo_definition': 'A clonal proliferation of abnormal keratinocytes characterized by the development of localized or multiple atrophic skin patches surrounded by an annular keratotic ring called cornoid lamella.', 'umls_description': 'A heritable disorder of faulty keratinization characterized by the proliferation of abnormal clones of keratinocytes and lesions showing varying atrophic patches surrounded by an elevated, keratotic border. These keratotic lesions can progress to overt cutaneous neoplasm. Several clinical variants are recognized, including porokeratosis of Mibelli, linear porokeratosis, disseminated superficial actinic porokeratosis, palmoplantar porokeratosis, and punctate porokeratosis.'}}\",\n",
       "  \"hyperkeratosis lenticularis perstans (disease){nodeId:28179, details:{'mondo_id': 7756, 'mondo_name': 'hyperkeratosis lenticularis perstans (disease)', 'umls_description': 'Hyperkeratosis lenticularis perstans , also known as Flegel disease, is a keratinization abnormality characterized by small, asymptomatic erythematous papules that leave characteristic punctate bleeding when they become detached. The lesions generally occur symmetrically along the top of the foot and on the legs, appearing more rarely on the arms, forearms, palms, and soles, and even on the oral mucosa. ', 'orphanet_definition': 'A rare skin disease characterized by usually asymptomatic, hyperkeratotic, reddish-brown papules primarily located on the lower extremities. Histological examination shows lamellar hyperkeratosis with abrupt peripheral basket-weave orthokeratosis, irregular acanthosis, and underlying lichenoid lymphocytic infiltrate. The condition may be sporadic or familial.'}}\",\n",
       "  \"keratolytic winter erythema{nodeId:30620, details:{'mondo_id': 7854, 'mondo_name': 'keratolytic winter erythema', 'mondo_definition': 'Keratolytic winter erythema is a rare epidermal disease, characterized by recurrent centrifugal palmoplantar peeling and erythema presenting seasonal variation (cold weather). Skin lesions may spread to the dorsum of hands and feet and to the interdigital spaces. Lower legs, knees and thighs may also be involved. Episodes may be preceded by itch and hyperhidrosis. Skin biopsy reveals an epidermal spongiosis with clefting in the stratum corneum, followed by regrowth. Keratolytic winter erythema follows an autosomal dominant mode of transmission.', 'orphanet_definition': 'Keratolytic winter erythema is a rare epidermal disease, characterized by recurrent centrifugal palmoplantar peeling and erythema presenting seasonal variation (cold weather). Skin lesions may spread to the dorsum of hands and feet and to the interdigital spaces. Lower legs, knees and thighs may also be involved. Episodes may be preceded by itch and hyperhidrosis. Skin biopsy reveals an epidermal spongiosis with clefting in the stratum corneum, followed by regrowth. Keratolytic winter erythema follows an autosomal dominant mode of transmission.'}}\",\n",
       "  'melanoma{nodeId:33653, details:{\\'mondo_id\\': 5105, \\'mondo_name\\': \\'melanoma (disease)\\', \\'group_id_bert\\': \\'5105_5012\\', \\'group_name_bert\\': \\'melanoma\\', \\'mondo_definition\\': \\'A malignant, usually aggressive tumor composed of atypical, neoplastic melanocytes. Most often, melanomas arise in the skin (cutaneous melanomas) and include the following histologic subtypes: superficial spreading melanoma, nodular melanoma, acral lentiginous melanoma, and lentigo maligna melanoma. Cutaneous melanomas may arise from acquired or congenital melanocytic or dysplastic nevi. Melanomas may also arise in other anatomic sites including the gastrointestinal system, eye, urinary tract, and reproductive system. Melanomas frequently metastasize to lymph nodes, liver, lungs, and brain.\\', \\'mayo_symptoms\\': \"Melanomas can develop anywhere on your body. They most often develop in areas that have had exposure to the sun, such as your back, legs, arms and face. Melanomas can also occur in areas that don\\'t receive much sun exposure, such as the soles of your feet, palms of your hands and fingernail beds. These hidden melanomas are more common in people with darker skin. The first melanoma signs and symptoms often are: A change in an existing mole, The development of a new pigmented or unusual-looking growth on your skin, Melanoma doesn\\'t always begin as a mole. It can also occur on otherwise normal-appearing skin. Normal moles, Normal moles are generally a uniform color — such as tan, brown or black — with a distinct border separating the mole from your surrounding skin. They\\'re oval or round and usually smaller than 1/4 inch in diameter — the size of a pencil eraser. Most moles begin appearing in childhood and new moles may form until about age 40. By the time they are adults, most people have between 10 and 40 moles. Moles may change in appearance over time and some may even disappear with age. Unusual moles that may indicate melanoma, To help you identify characteristics of unusual moles that may indicate melanomas or other skin cancers, think of the letters ABCDE: A is for asymmetrical shape. Look for moles with irregular shapes, such as two very different-looking halves. B is for irregular border. Look for moles with irregular, notched or scalloped borders — characteristics of melanomas. C is for changes in color. Look for growths that have many colors or an uneven distribution of color. D is for diameter. Look for new growth in a mole larger than 1/4 inch . E is for evolving. Look for changes over time, such as a mole that grows in size or that changes color or shape. Moles may also evolve to develop new signs and symptoms, such as new itchiness or bleeding. Cancerous moles vary greatly in appearance. Some may show all of the changes listed above, while others may have only one or two unusual characteristics. Hidden melanomas, Melanomas can also develop in areas of your body that have little or no exposure to the sun, such as the spaces between your toes and on your palms, soles, scalp or genitals. These are sometimes referred to as hidden melanomas because they occur in places most people wouldn\\'t think to check. When melanoma occurs in people with darker skin, it\\'s more likely to occur in a hidden area. Hidden melanomas include: Melanoma under a nail. Acral-lentiginous melanoma is a rare form of melanoma that can occur under a fingernail or toenail. It can also be found on the palms of the hands or the soles of the feet. It\\'s more common in people of Asian descent, black people and in others with dark skin pigment. Melanoma in the mouth, digestive tract, urinary tract or vagina. Mucosal melanoma develops in the mucous membrane that lines the nose, mouth, esophagus, anus, urinary tract and vagina. Mucosal melanomas are especially difficult to detect because they can easily be mistaken for other far more common conditions. Melanoma in the eye. Eye melanoma, also called ocular melanoma, most often occurs in the uvea — the layer beneath the white of the eye . An eye melanoma may cause vision changes and may be diagnosed during an eye exam.\", \\'mayo_causes\\': \"Melanoma occurs when something goes wrong in the melanin-producing cells that give color to your skin. Normally, skin cells develop in a controlled and orderly way — healthy new cells push older cells toward your skin\\'s surface, where they die and eventually fall off. But when some cells develop DNA damage, new cells may begin to grow out of control and can eventually form a mass of cancerous cells. Just what damages DNA in skin cells and how this leads to melanoma isn\\'t clear. It\\'s likely that a combination of factors, including environmental and genetic factors, causes melanoma. Still, doctors believe exposure to ultraviolet radiation from the sun and from tanning lamps and beds is the leading cause of melanoma. UV light doesn\\'t cause all melanomas, especially those that occur in places on your body that don\\'t receive exposure to sunlight. This indicates that other factors may contribute to your risk of melanoma.\", \\'mayo_risk_factors\\': \"Factors that may increase your risk of melanoma include: Fair skin. Having less pigment in your skin means you have less protection from damaging UV radiation. If you have blond or red hair, light-colored eyes, and freckle or sunburn easily, you\\'re more likely to develop melanoma than is someone with a darker complexion. But melanoma can develop in people with darker complexions, including Hispanic people and black people. A history of sunburn. One or more severe, blistering sunburns can increase your risk of melanoma. Excessive ultraviolet light exposure. Exposure to UV radiation, which comes from the sun and from tanning lights and beds, can increase the risk of skin cancer, including melanoma. Living closer to the equator or at a higher elevation. People living closer to the earth\\'s equator, where the sun\\'s rays are more direct, experience higher amounts of UV radiation than do those living farther north or south. In addition, if you live at a high elevation, you\\'re exposed to more UV radiation. Having many moles or unusual moles. Having more than 50 ordinary moles on your body indicates an increased risk of melanoma. Also, having an unusual type of mole increases the risk of melanoma. Known medically as dysplastic nevi, these tend to be larger than normal moles and have irregular borders and a mixture of colors. A family history of melanoma. If a close relative — such as a parent, child or sibling — has had melanoma, you have a greater chance of developing a melanoma, too. Weakened immune system. People with weakened immune systems have an increased risk of melanoma and other skin cancers. Your immune system may be impaired if you take medicine to suppress the immune system, such as after an organ transplant, or if you have a disease that impairs the immune system, such as AIDS.\", \\'mayo_complications\\': \"You can reduce your risk of melanoma and other types of skin cancer if you: Avoid the sun during the middle of the day. For many people in North America, the sun\\'s rays are strongest between about 10 a.m. and 4 p.m. Schedule outdoor activities for other times of the day, even in winter or when the sky is cloudy. You absorb UV radiation year-round, and clouds offer little protection from damaging rays. Avoiding the sun at its strongest helps you avoid the sunburns and suntans that cause skin damage and increase your risk of developing skin cancer. Sun exposure accumulated over time also may cause skin cancer., Wear sunscreen year-round. Use a broad-spectrum sunscreen with an SPF of at least 30, even on cloudy days. Apply sunscreen generously, and reapply every two hours — or more often if you\\'re swimming or perspiring., Wear protective clothing. Cover your skin with dark, tightly woven clothing that covers your arms and legs, and a broad-brimmed hat, which provides more protection than does a baseball cap or visor. Some companies also sell protective clothing. A dermatologist can recommend an appropriate brand. Don\\'t forget sunglasses. Look for those that block both types of UV radiation — UVA and UVB rays., Avoid tanning lamps and beds. Tanning lamps and beds emit UV rays and can increase your risk of skin cancer., Become familiar with your skin so that you\\'ll notice changes. Examine your skin often for new skin growths or changes in existing moles, freckles, bumps and birthmarks. With the help of mirrors, check your face, neck, ears and scalp. Examine your chest and trunk and the tops and undersides of your arms and hands. Examine both the front and back of your legs and your feet, including the soles and the spaces between your toes. Also check your genital area and between your buttocks.\", \\'mayo_see_doc\\': \\'When to see a doctor, Make an appointment with your doctor if you notice any skin changes that seem unusual.\\'}}',\n",
       "  \"porokeratosis of Mibelli{nodeId:32975, details:{'mondo_id': 19141, 'mondo_name': 'porokeratosis of Mibelli', 'mondo_definition': 'Porokeratosis of Mibelli (PM) is a form of porokeratosis that is characterized by the presence of brown single or multiple annular plaques of varying size, that are sometimes confluent, with a distinctive sharply-defined keratotic border.', 'umls_description': 'A heritable disorder of faulty keratinization characterized by the proliferation of abnormal clones of keratinocytes and lesions showing varying atrophic patches surrounded by an elevated, keratotic border. These keratotic lesions can progress to overt cutaneous neoplasm. Several clinical variants are recognized, including porokeratosis of Mibelli, linear porokeratosis, disseminated superficial actinic porokeratosis, palmoplantar porokeratosis, and punctate porokeratosis.', 'orphanet_definition': 'A rare skin disease that is characterized by the presence of brownish single or multiple annular plaques of varying size, that are sometimes confluent, with a distinctive sharply-defined keratotic border.', 'orphanet_epidemiology': 'Porokeratosis of Mibelli (PM) prevalence is unknown. It is more prevalent in males than females with a ratio of 2-3:1.', 'orphanet_clinical_description': 'Disease onset usually occurs in children, adolescents or young adults (sometimes immunosuppressed). It presents with brownish dry hyperkeratotic plaques of varying size that may coalesce. The lesions have a sharply-defined keratotic border and are usually asymptomatic, but rarely pruritic. They most commonly occur on the limbs (hands and feet) but other areas such as the trunk, palms and soles and genitalia can also be affected. Facial and mucosal lesions are rare. In around 7% of cases, PM lesions undergo malignant transformation, mostly toward squamous cell carcinoma, or less commonly, basal cell carcinoma.', 'orphanet_management_and_treatment': 'PM lesions can be treated with surgical excision. Alternative, albeit less efficient, options include topical 5-fluorouracil (5-FU), imiquimod, cryotherapy, dermabrasion, carbon dioxide laser ablation and photodynamic therapy. However the lesions often recur after treatment. Regular follow-up is recommended to monitor the development of any possible malignancies, and sun exposure should be limited in order to decrease their risk.'}}\"]}"
      ]
     },
     "execution_count": 55,
     "metadata": {},
     "output_type": "execute_result"
    }
   ],
   "execution_count": 55
  },
  {
   "metadata": {
    "ExecuteTime": {
     "end_time": "2024-10-19T20:48:03.456936Z",
     "start_time": "2024-10-19T20:48:03.402812Z"
    }
   },
   "cell_type": "code",
   "source": [
    "from langchain_core.prompts import PromptTemplate\n",
    "from langchain_openai import OpenAIEmbeddings, ChatOpenAI\n",
    "\n",
    "PROMPT = PromptTemplate.from_template('''\n",
    "Answer the Question using the following Facts and Details. Only respond with information mentioned in the Facts and Details. Do not inject any speculative information not mentioned. \n",
    "\n",
    "Return result as JSON using the following format:\n",
    "{{\"nodeIds\": [list of nodeIds containing the correct answers in order of probability highest to smallest], \"explanation\": \"written explanation as to why the node id answers were provided\"}}\n",
    "\n",
    "# Question:\n",
    "{question}\n",
    " \n",
    "# Facts:\n",
    "{facts}\n",
    "\n",
    "# Details\n",
    "{details}\n",
    "\n",
    "# Answer:\n",
    "''')\n",
    "\n",
    "llm = ChatOpenAI(\n",
    "    model_name=\"gpt-4o\",\n",
    "    response_format={\"type\": \"json_object\"}, # use json_object formatting for best results\n",
    "    temperature=0, # turning temperature down for more deterministic results\n",
    "    seed=42\n",
    ")\n",
    "\n",
    "\n",
    "\n",
    "def answer(question: str, search_prompts: Dict[str, str]):\n",
    "    context = retrieve(search_prompts)[0]\n",
    "    prompt = PROMPT.format(question=question, facts=context['facts'], details={k:v for k,v in context.items() if k != 'facts'})\n",
    "    return llm.invoke(prompt)\n",
    "    "
   ],
   "id": "5406d4960e4532bf",
   "outputs": [],
   "execution_count": 58
  },
  {
   "metadata": {
    "ExecuteTime": {
     "end_time": "2024-10-19T20:48:49.955702Z",
     "start_time": "2024-10-19T20:48:44.837914Z"
    }
   },
   "cell_type": "code",
   "source": [
    "q=\"Could you identify any skin diseases associated with epithelial skin neoplasms? I've observed a tiny, yellowish lesion on sun-exposed areas of my face and neck, and I suspect it might be connected.\"\n",
    "answer(q, sps).content"
   ],
   "id": "10b7c097479491a5",
   "outputs": [
    {
     "data": {
      "text/plain": [
       "'{\"nodeIds\": [31039, 31850, 32367], \"explanation\": \"The observed tiny, yellowish lesion on sun-exposed areas of the face and neck could be associated with several skin conditions related to epithelial skin neoplasms. Based on the provided facts, Darier disease (nodeId:31039) is characterized by greasy and colored (yellow-brown or brown) keratotic papules, which may be exacerbated by exposure to sunlight. Seborrheic keratosis (nodeId:31850) is a common benign skin neoplasm that appears as black or brown, slightly elevated skin lesions, often on the face. Porokeratosis (nodeId:32367) involves the development of localized or multiple atrophic skin patches surrounded by an annular keratotic ring, which can progress to cutaneous neoplasm. These conditions are relevant to the description of the lesion and its location on sun-exposed areas.\"}'"
      ]
     },
     "execution_count": 60,
     "metadata": {},
     "output_type": "execute_result"
    }
   ],
   "execution_count": 60
  },
  {
   "metadata": {},
   "cell_type": "code",
   "outputs": [],
   "execution_count": null,
   "source": [
    "\"\"\"\n",
    "WITH genai.vector.encode($d1, \"OpenAI\", {token:$token}) AS d1Emb,\n",
    "genai.vector.encode($d2, \"OpenAI\", {token:$token}) AS d2Emb,\n",
    "genai.vector.encode($ep, \"OpenAI\", {token:$token}) AS epEmb\n",
    "CALL(d1Emb) {\n",
    "  CALL db.index.vector.queryNodes(\"text_embeddings\", 1000, d1Emb) YIELD node AS d1\n",
    "  WHERE d1:Disease\n",
    "  WITH d1 LIMIT 500\n",
    "  RETURN collect(elementId(d1)) AS d1s\n",
    "}\n",
    "CALL(d2Emb) {\n",
    "  CALL db.index.vector.queryNodes(\"text_embeddings\", 1000, d2Emb) YIELD node AS d2\n",
    "  WHERE d2:Disease\n",
    "  WITH d2 LIMIT 500\n",
    "  RETURN collect(elementId(d2)) AS d2s\n",
    "}\n",
    "CALL(epEmb) {\n",
    "  CALL db.index.vector.queryNodes(\"text_embeddings\", 1000, epEmb) YIELD node AS ep\n",
    "  WHERE ep:EffectOrPhenotype\n",
    "  WITH ep LIMIT 500\n",
    "  RETURN collect(elementId(ep)) AS eps\n",
    "}\n",
    "\n",
    "MATCH p=(d1:Disease)-[r1:PARENT_CHILD]->(d2:Disease)-[r2:PHENOTYPE_PRESENT]->(ep:EffectOrPhenotype)\n",
    "WHERE (elementId(d1) IN d1s) AND (elementId(d2) IN d2s) AND (elementId(ep) IN eps)\n",
    "RETURN d1.name +  \"(\" + \"id:\" + d1.nodeId + \")\"  +\n",
    "  \" - \" + type(r1) + \" -> \" + \n",
    "  d2.name + \"(\" + \"id:\" + d2.nodeId + \")\"  +\n",
    "  \" - \" + type(r2) + \" -> \" + \n",
    "  ep.name + \"(\" + \"id:\" + ep.nodeId + \")\"  \n",
    "  AS fact\n",
    "\n",
    "\n",
    "\"\"\""
   ],
   "id": "b1dab7be697f3130"
  },
  {
   "metadata": {
    "ExecuteTime": {
     "end_time": "2024-10-19T18:58:28.650253Z",
     "start_time": "2024-10-19T18:58:28.641761Z"
    }
   },
   "cell_type": "code",
   "source": [
    "query_template = \"\"\"\n",
    "//get node candidates\n",
    "CALL($d1Emb) {\n",
    "  CALL db.index.vector.queryNodes(\"text_embeddings\", 1000, $d1Emb) YIELD node AS d1\n",
    "  WHERE d1:Disease\n",
    "  RETURN collect(elementId(d1)) AS d1s LIMIT 100\n",
    "}\n",
    "CALL($d2Emb) {\n",
    "  CALL db.index.vector.queryNodes(\"text_embeddings\", 1000, $d2Emb) YIELD node AS d2\n",
    "  WHERE d2:Disease\n",
    "  RETURN collect(elementId(d2)) AS d2s LIMIT 100\n",
    "}\n",
    "CALL($epEmb) {\n",
    "  CALL db.index.vector.queryNodes(\"text_embeddings\", 1000, $epEmb) YIELD node AS ep\n",
    "  WHERE ep:EffectOrPhenotype\n",
    "  RETURN collect(elementId(ep)) AS eps LIMIT 100\n",
    "}\n",
    "\n",
    "//graph pattern\n",
    "MATCH p=(d1:Disease)-[PARENT_CHILD]-(d2:Disease)-[:PHENOTYPE_PRESENT]->(ep:EffectOrPhenotype)\n",
    "\n",
    "//filter\n",
    "WHERE (elementId(d1) IN d1s) AND (elementId(d2) IN d2s) AND (elementId(ep) IN eps)\n",
    "\n",
    "//return\n",
    "RETURN p\n",
    "\"\"\"\n",
    "\n",
    "pattern_query_template = Template(\"\"\"\n",
    "CALL($embParam) {{\n",
    "  CALL db.index.vector.queryNodes('text_embeddings', 1000, $embParam) YIELD node AS n\n",
    "  WHERE n:$label\n",
    "  RETURN collect(elementId(n)) AS $vars LIMIT 100\n",
    "}}\n",
    "\"\"\")\n",
    "\n",
    "search_node_query_template.substitute(embParam=\"$disemb\", label=\"Disease\", var=\"d1s\")"
   ],
   "id": "10a4eed2cd15c1af",
   "outputs": [
    {
     "data": {
      "text/plain": [
       "\"\\nCALL($disemb) {{\\n  CALL db.index.vector.queryNodes('text_embeddings', 1000, $disemb) YIELD node AS n\\n  WHERE n:Disease\\n  RETURN collect(elementId(n)) AS d1s\\\\ss LIMIT 100\\n}}\\n\""
      ]
     },
     "execution_count": 42,
     "metadata": {},
     "output_type": "execute_result"
    }
   ],
   "execution_count": 42
  },
  {
   "metadata": {},
   "cell_type": "code",
   "outputs": [],
   "execution_count": null,
   "source": [
    "from abc import ABC, abstractmethod\n",
    "from typing import Type, Dict\n",
    "from langchain_core.tools import BaseTool\n",
    "from langchain.pydantic_v1 import BaseModel, Field\n",
    "from langchain.tools import BaseTool\n",
    "\n",
    "from langchain.callbacks.manager import (\n",
    "    AsyncCallbackManagerForToolRun,\n",
    "    CallbackManagerForToolRun,\n",
    ")\n",
    "\n",
    "\n",
    "class NodeSearchClauses(BaseModel, ABC):\n",
    "    nodeDict: Dict[str,str]\n",
    "\n",
    "    @abstractmethod\n",
    "    def generate(self):\n",
    "        pass\n",
    "\n",
    "\n",
    "class NodeVectorSearchClauses(BaseModel, ABC):\n",
    "    nodeDict: Dict[str,str]\n",
    "\n",
    "    @abstractmethod\n",
    "    def generate(self):\n",
    "        pass\n",
    "\n",
    "\n",
    "\n",
    "class FindInput(BaseModel):\n",
    "    nodeLabels: Dict[str,str] = Field(description=\"pairs of node labels to search for\")\n",
    "\n",
    "# come up with query template\n",
    "class FindDiseases0(BaseTool):\n",
    "    name = \"FindDiseases0\"\n",
    "    description = \"Find diseases with zero indication drug and are associated with <effect/phenotype>\",\n",
    "    args_schema: Type[BaseModel] = MemoryInput\n",
    "    \n",
    "    base_query = '''(n:EffectOrPhenotype)->[:PHENOTYPE_ABSENT]->(m:Disease)<-[:!INDICATION]<-(o:Drug)'''\n",
    "\n",
    "    def _run(\n",
    "            self,\n",
    "            movie: str,\n",
    "            rating: int,\n",
    "            run_manager: Optional[CallbackManagerForToolRun] = None,\n",
    "    ) -> str:\n",
    "        \"\"\"Use the tool.\"\"\"\n",
    "        return store_movie_rating(movie, rating)\n",
    "\n",
    "    async def _arun(\n",
    "            self,\n",
    "            movie: str,\n",
    "            rating: int,\n",
    "            run_manager: Optional[AsyncCallbackManagerForToolRun] = None,\n",
    "    ) -> str:\n",
    "        \"\"\"Use the tool asynchronously.\"\"\"\n",
    "        return store_movie_rating(movie, rating)"
   ],
   "id": "1d6d000b3e70b7c7"
  },
  {
   "metadata": {},
   "cell_type": "code",
   "outputs": [],
   "execution_count": null,
   "source": [
    "'''\n",
    "{\n",
    "(effect/phenotype → [phenotype absent] → disease ← [!indication] ← drug):\n",
    "\"Find diseases with zero indication drug and are associated with <effect/phenotype>\",\n",
    "(drug → [contraindication] → disease ← [associated with] ← gene/protein):\n",
    "\"Identify diseases associated with <gene/protein> and are contraindicated with <drug>\",\n",
    "(anatomy → [expression present] → gene/protein ← [expression absent] ← anatomy):\n",
    "\"What gene or protein is expressed in <anatomy1> while is absent in <anatomy2>?\",\n",
    "(anatomy → [expression absent] → gene/protein ← [expression absent] ← anatomy):\n",
    "\"What gene/protein is absent in both <anatomy1> and <anatomy2>?\",\n",
    "(drug → [carrier] → gene/protein ← [carrier] ← drug):\n",
    "\"Which target genes are shared carriers between <drug1> and <drug2>?\",\n",
    "(anatomy → [expression present] → gene/protein → [target] → drug):\n",
    "\"What is the drug that targets the genes or proteins which are expressed in <anatomy>?\",\n",
    "(drug → [side effect] → effect/phenotype → [side effect] → drug):\n",
    "\"What drug has common side effects as <drug>?\",\n",
    "(drug → [carrier] → gene/protein → [carrier] → drug):\n",
    "\"What is the drug that has common gene/protein carrier with <drug>?\",\n",
    "(anatomy → [expression present] → gene/protein → enzyme → drug):\n",
    "\"What is the drug that some genes or proteins act as an enzyme upon,\n",
    "where the genes or proteins are expressed in <anatomy>?\",\n",
    "(cellular_component → [interacts with] → gene/protein → [carrier] → drug):\n",
    "\"What is the drug carried by genes or proteins that interact with <cellular_component>?\",\n",
    "(molecular_function → [interacts with] → gene/protein → [target] → drug):\n",
    "\"What drug targets the genes or proteins that interact with <molecular_function>?\",\n",
    "(effect/phenotype → [side effect] → drug → [synergistic interaction] → drug):\n",
    "\"What drug has a synergistic interaction with the drug that has <effect/phenotype> as a side effect?\",\n",
    "(disease → [indication] → drug → [contraindication] → disease):\n",
    "\"What disease is a contraindication for the drugs indicated for <disease>?\",\n",
    "(disease → [parent-child] → disease → [phenotype present] → effect/phenotype):\n",
    "\"What effect or phenotype is present in the sub type of <disease>?\",\n",
    "(gene/protein → [transporter] → drug → [side effect] → effect/phenotype):\n",
    "\"What effect or phenotype is a [side effect] of the drug transported by <gene/protein>?\",\n",
    "(drug → [transporter] → gene/protein → [interacts with] → exposure):\n",
    "\"What exposure may affect <drug>s efficacy by acting on its transporter genes?\",\n",
    "(pathway → [interacts with] → gene/protein → [ppi] → gene/protein):\n",
    "\"What gene/protein interacts with the gene/protein that related to <pathway>?\",\n",
    "19\n",
    "(drug → [synergistic interaction] → drug → [transporter] → gene/protein):\n",
    "\"What gene or protein transports the drugs that have a synergistic interaction with <drug>?\",\n",
    "(biological_process → [interacts with] → gene/protein → [interacts with] → biological_process):\n",
    "\"What biological process has the common interactino pattern with gene or proteins as <biological_process>?\",\n",
    "(effect/phenotype → [associated with] → gene/protein → [interacts with] → biological_process):\n",
    "\"What biological process interacts with the gene/protein associated with <effect/phenotype>?\",\n",
    "(drug → [transporter] → gene/protein → [expression present] → anatomy):\n",
    "\"What anatomy expressesed by the gene/protein that affect the transporter of <drug>?\",\n",
    "(drug → [target] → gene/protein → [interacts with] → cellular_component):\n",
    "\"What cellular component interacts with genes or proteins targeted by <drug>?\",\n",
    "(biological_process → [interacts with] → gene/protein → [expression absent] → anatomy):\n",
    "\"What anatomy does not express the genes or proteins that interacts with <biological_process>?\",\n",
    "(effect/phenotype → [associated with] → gene/protein → [expression absent] → anatomy):\n",
    "\"What anatomy does not express the genes or proteins associated with <effect/phenotype>?\",\n",
    "(drug → [indication] → disease → [indication] → drug)\n",
    "& (drug → [synergistic interaction] → drug):\n",
    "\"Find drugs that has a synergistic interaction with <drug> and both are indicated for the same disease.\",\n",
    "(pathway → [interacts with] → gene/protein → [interacts with] → pathway)\n",
    "& (pathway → [parent-child] → pathway):\n",
    "\"Find pathway that is related with <pathway> and both can [interacts with] the same gene/protein.\",\n",
    "(gene/protein → [associated with] → disease → [associated with] → gene/protein)\n",
    "& (gene/protein → [ppi] → gene/protein):\n",
    "\"Find gene/protein that can interect with <gene/protein> and both are associated with the same disease.\",\n",
    "(gene/protein → [associated with] → effect/phenotype → [associated with] → gene/protein)\n",
    "& (gene/protein → [ppi] → gene/protein):\n",
    "\"Find gene/protein that can interect with <gene/protein> and both are associated with the same effect/phenotype.\"\n",
    "}\n",
    "'''"
   ],
   "id": "ea58e6f2bf67a4dd"
  },
  {
   "metadata": {},
   "cell_type": "code",
   "outputs": [],
   "execution_count": null,
   "source": "",
   "id": "392a42114bfeb740"
  },
  {
   "metadata": {},
   "cell_type": "code",
   "outputs": [],
   "execution_count": null,
   "source": "",
   "id": "dab8f08c6277bc3e"
  },
  {
   "metadata": {},
   "cell_type": "markdown",
   "source": "## Multi-Part Question Retrievers",
   "id": "37bfcc0e80be0205"
  },
  {
   "metadata": {},
   "cell_type": "markdown",
   "source": "",
   "id": "838dc75c09ed13f2"
  },
  {
   "metadata": {},
   "cell_type": "markdown",
   "source": "",
   "id": "d9bd440bcd8ff7fd"
  },
  {
   "metadata": {},
   "cell_type": "markdown",
   "source": [
    "helper functions, utilities, and such"
   ],
   "id": "fac0100877d56dba"
  },
  {
   "metadata": {
    "id": "c3c3a85bd43694e8",
    "ExecuteTime": {
     "end_time": "2024-09-01T03:12:35.393032Z",
     "start_time": "2024-09-01T03:12:32.486996Z"
    }
   },
   "cell_type": "code",
   "source": [
    "from torch_geometric.data.data import Data\n",
    "from neo4j import Driver\n",
    "import pandas as pd\n",
    "from typing import List\n",
    "import torch\n",
    "import numpy as np\n",
    "from langchain_openai import OpenAIEmbeddings\n",
    "from tqdm import tqdm\n",
    "\n",
    "embedding_model = OpenAIEmbeddings(model=\"text-embedding-ada-002\")\n",
    "embedding_dimension = 1536\n",
    "\n",
    "def chunks(xs, n=500):\n",
    "    n = max(1, n)\n",
    "    return [xs[i:i + n] for i in range(0, len(xs), n)]\n",
    "\n",
    "\n",
    "def embed(doc_list, chunk_size=500):\n",
    "    embeddings = []\n",
    "    for docs in chunks(doc_list):\n",
    "        embeddings.extend(embedding_model.embed_documents(docs))\n",
    "    return embeddings\n",
    "def get_nodes_by_vector_search(prompt:str, driver:Driver) -> List:\n",
    "  res = driver.execute_query(\"\"\"\n",
    "    WITH genai.vector.encode(\n",
    "      $searchPrompt,\n",
    "      \"OpenAI\",\n",
    "      {token:$token}) AS queryVector\n",
    "    CALL db.index.vector.queryNodes($index, $k, queryVector) YIELD node\n",
    "    RETURN node.nodeId AS nodeId\n",
    "    \"\"\",\n",
    "    parameters_={\n",
    "        \"searchPrompt\":prompt,\n",
    "        \"token\":OPENAI_API_KEY,\n",
    "        \"index\":\"text_embeddings\",\n",
    "        \"k\":4})\n",
    "  return [rec.data()['nodeId'] for rec in res.records]\n",
    "\n",
    "def get_subgraph_rels(node_ids:List, driver:Driver):\n",
    "  res = driver.execute_query(\"\"\"\n",
    "    UNWIND $nodeIds AS nodeId\n",
    "    MATCH(node:_Entity_ {nodeId:nodeId})\n",
    "    // create filtered cartesian product\n",
    "    WITH collect(node) AS sources, collect(node) AS targets\n",
    "    UNWIND sources as source\n",
    "    UNWIND targets as target\n",
    "    WITH source, target\n",
    "    WHERE source > target //how is this calculated? on element id?...it works\n",
    "\n",
    "    // find connecting paths\n",
    "    MATCH (source)-[rl]->{0,2}(target)\n",
    "\n",
    "    //get rels\n",
    "    UNWIND rl AS r\n",
    "    WITH DISTINCT r\n",
    "    MATCH (m)-[r]->(n)\n",
    "    RETURN\n",
    "    m.nodeId AS src,\n",
    "    n.nodeId AS tgt,\n",
    "    n.name + ' - ' + type(r) +  ' -> ' + m.name AS text\n",
    "    \"\"\",\n",
    "    parameters_={\"nodeIds\":node_ids})\n",
    "  return pd.DataFrame([rec.data() for rec in res.records])\n",
    "\n",
    "def get_all_node_ids(initial_node_ids, rel_df):\n",
    "  node_ids = set(initial_node_ids)\n",
    "  if rel_df.shape[0] > 0:\n",
    "    node_ids.update(rel_df.src)\n",
    "    node_ids.update(rel_df.tgt)\n",
    "  return list(node_ids)\n",
    "\n",
    "def get_node_df(initial_node_ids, rel_df, driver:Driver):\n",
    "  node_ids = get_all_node_ids(initial_node_ids, rel_df)\n",
    "  res = driver.execute_query(\"\"\"\n",
    "    UNWIND $nodeIds AS nodeId\n",
    "    MATCH(n:_Entity_ {nodeId:nodeId})\n",
    "    RETURN n.nodeId AS nodeId, n.name AS name, n.textEmbedding AS textEmbedding, n.details AS details\n",
    "    \"\"\",\n",
    "    parameters_={\"nodeIds\":node_ids})\n",
    "  return pd.DataFrame([rec.data() for rec in res.records])\n",
    "\n",
    "def create_data_obj(node_df, rel_df, prompt):\n",
    "  # sub-graph re-index for edge_index\n",
    "  node_df = node_df.reset_index()\n",
    "  n_df = node_df.reset_index()[['index', 'nodeId']]\n",
    "  rel_df = (rel_df\n",
    "    .merge(n_df, left_on='src', right_on='nodeId')\n",
    "    .rename(columns={'index': 'src_index'})\n",
    "    .drop(columns='nodeId')\n",
    "    .merge(n_df, left_on='tgt', right_on='nodeId')\n",
    "    .rename(columns={'index': 'tgt_index'})\n",
    "    .drop(columns='nodeId')\n",
    "  )\n",
    "\n",
    "  # node attributes\n",
    "  x = torch.tensor(np.stack(node_df.textEmbedding), dtype=torch.float)\n",
    "\n",
    "  # edge attributes\n",
    "  edge_attr = torch.tensor(np.stack(rel_df.textEmbedding), dtype=torch.float)\n",
    "\n",
    "  # edge index\n",
    "  edge_index = torch.tensor(np.array(rel_df[['src_index', 'tgt_index']]).T)\n",
    "\n",
    "  # answer - leaving blank for now\n",
    "  answer=''\n",
    "\n",
    "  # desc - leaving blank for now\n",
    "  desc=''\n",
    "\n",
    "  return Data(x, edge_index, edge_attr, question=prompt, answer=answer, desc=desc)\n",
    "\n",
    "\n",
    "def retrieve(prompt:str, driver:Driver) -> Data:\n",
    "    init_node_ids = get_nodes_by_vector_search(prompt, driver)\n",
    "    rel_df = get_subgraph_rels(init_node_ids, driver)\n",
    "    node_df = get_node_df(init_node_ids, rel_df, driver)\n",
    "    #doing this outside of the graph for now\n",
    "    print('generating edge embeddings')\n",
    "    rel_df['textEmbedding'] = embed(rel_df['text'])\n",
    "    return create_data_obj(node_df, rel_df, prompt)"
   ],
   "id": "c3c3a85bd43694e8",
   "outputs": [],
   "execution_count": 2
  },
  {
   "metadata": {},
   "cell_type": "markdown",
   "source": [
    "## Test Example\n",
    "\n",
    "TODO: Adding answer and \"desc\" attributes. Desc is used as additional context...I think it is the \"textualized graph\" from the paper. "
   ],
   "id": "1438b62f63cf3fa5"
  },
  {
   "metadata": {
    "colab": {
     "base_uri": "https://localhost:8080/"
    },
    "id": "6a86fd6b8ba29edf",
    "outputId": "a89f5eff-71d9-493c-de15-8e4a9bd0a26d",
    "ExecuteTime": {
     "end_time": "2024-09-01T03:12:40.443464Z",
     "start_time": "2024-09-01T03:12:35.393652Z"
    }
   },
   "cell_type": "code",
   "source": [
    "from neo4j import GraphDatabase\n",
    "\n",
    "with GraphDatabase.driver(NEO4J_URI, auth=(NEO4J_USERNAME, NEO4J_PASSWORD)) as driver:\n",
    "    res = retrieve(\"Which gene or protein is engaged in DCC-mediated attractive signaling, can bind to actin filaments, and belongs to the actin-binding LIM protein family?\", driver)\n",
    "res"
   ],
   "id": "6a86fd6b8ba29edf",
   "outputs": [
    {
     "name": "stdout",
     "output_type": "stream",
     "text": [
      "generating edge embeddings\n"
     ]
    },
    {
     "data": {
      "text/plain": "Data(x=[148, 1536], edge_index=[2, 472], edge_attr=[472, 1536], question='Which gene or protein is engaged in DCC-mediated attractive signaling, can bind to actin filaments, and belongs to the actin-binding LIM protein family?', answer='', desc='')"
     },
     "execution_count": 3,
     "metadata": {},
     "output_type": "execute_result"
    }
   ],
   "execution_count": 3
  },
  {
   "cell_type": "code",
   "source": [
    "res.x"
   ],
   "metadata": {
    "colab": {
     "base_uri": "https://localhost:8080/",
     "height": 423
    },
    "id": "qeJn_AebRmJ4",
    "outputId": "1179fc6d-7802-4f9e-dec3-4399826c4af6",
    "ExecuteTime": {
     "end_time": "2024-09-01T03:12:40.471271Z",
     "start_time": "2024-09-01T03:12:40.445237Z"
    }
   },
   "id": "qeJn_AebRmJ4",
   "outputs": [
    {
     "data": {
      "text/plain": "tensor([[-0.0225,  0.0008,  0.0099,  ..., -0.0139,  0.0011, -0.0444],\n        [-0.0140,  0.0068, -0.0137,  ..., -0.0098, -0.0041, -0.0517],\n        [-0.0159, -0.0007, -0.0074,  ..., -0.0104, -0.0044, -0.0491],\n        ...,\n        [-0.0517, -0.0009, -0.0132,  ..., -0.0161, -0.0225, -0.0461],\n        [-0.0104, -0.0070, -0.0021,  ..., -0.0232, -0.0206, -0.0446],\n        [-0.0072,  0.0103, -0.0005,  ..., -0.0144, -0.0177, -0.0433]])"
     },
     "execution_count": 4,
     "metadata": {},
     "output_type": "execute_result"
    }
   ],
   "execution_count": 4
  },
  {
   "metadata": {
    "ExecuteTime": {
     "end_time": "2024-09-01T03:12:40.476392Z",
     "start_time": "2024-09-01T03:12:40.472069Z"
    }
   },
   "cell_type": "code",
   "source": [
    "res.edge_index"
   ],
   "id": "bf413cebab47627b",
   "outputs": [
    {
     "data": {
      "text/plain": "tensor([[ 22, 129,  22,  35,  22,  64,  22, 109,  22, 117,  22, 126,  22, 130,\n          22,  74,  22,  84,  22,  94,  22, 114,  22, 138,  22, 141,  22,  76,\n          22, 105,  22,  91,  22, 103,  22,  97,  22,  46,  56, 129,  56,  75,\n          56,  35,  56,  64,  56, 109,  56, 117,  56, 126,  56, 130,  56, 131,\n          56,  74,  56,  97,  56,  84,  56,  85,  56,  87,  56,  88,  56,  90,\n          56,  92,  56,  94,  56, 111,  56, 114,  56, 138,  56, 141,  56,  76,\n          56, 105,  56,  15,  56,  24,  56,  46,  56,  91,  56, 103,  56,  20,\n          56, 123,  56,  36,  56,  38,  56,  42,  56,  47,  56,  54,  56,  68,\n          56,  81,  56, 113,  56, 128,  56, 143,  56, 146,  56,   5,  56,   6,\n          56,  21,  56,  26,  56,  31,  56,  45,  56,  58,  56,  60,  56,  66,\n          56,  67,  56, 102,  56,  70,  56, 100,  56, 106,  56, 121,  56, 137,\n          56, 139,  56,   4,  56,   9,  56,  10,  56,  11,  56,  12,  56,  13,\n          56,  16,  56,  23,  56,  25,  56,  77,  56,  78,  56,  83,  56, 108,\n          56,   0,  56,  18,  56,  32,  56, 104,  59,  48,  59,  63,  59,  37,\n          59,  59,  27,  59,  59,  59,  59,  59,  59,  59,  59,  59,  59,  59,\n          59,  59,  59,  59,  59,  59,  59,  59,  59,  59,  59,  59,  59,  59,\n          59,  59,  59,  59,  59,  59,  59,  59,  59,  59,  59,  59,  59,  59,\n          59,  59,  59,  59,  59,  59,  59,  59,  59,  59,  59,  59,  59,  59,\n          59,  59,  59,  59,  59,  59,  59,  59,  59,  59,  59,  59,  59,  59,\n          59,  59,  59,  59,  59,  59,  41,  59,  57,  59, 119,  59,  43,  59,\n         145,  59,  55,  59, 136,  59, 115, 129,  59,  28,  59,  33,  59,  34,\n          35,  36,  38,  42,  59,  44,  47,  59,  51,  59,  53,  54,  64,  68,\n          81, 109, 113,  59, 116, 117,  59, 118,  59, 122, 126,  59, 127, 128,\n         130, 131,  59, 142, 143,  59, 144, 146,  59, 147,   5,   6,  21,  59,\n          29,  59,  30,  26,  31,  45,  59,  49,  59,  50,  58,  60,  66,  67,\n          74,  97,  59,  99, 102,  59, 124,  59, 134,  59,  17,  59,  19,  70,\n          84,  85,  59,  86,  87,  88,  59,  89,  90,  92,  94,  59,  95,  59,\n          96,  59,  98,  59, 101, 100, 106, 111, 114,  59, 120, 121,  59, 133,\n          59, 135, 137, 138, 139, 141,  59,   1,  59,   2,   4,   9,  10,  11,\n          12,  13,  59,  14,  16,  23,  25,  59,  39,  59,  40,  59,  65,  59,\n          69,  59,  72,  77,  76,  59,  79,  78,  59,  80,  59,  82,  83, 105,\n         108,  59, 110,  15,  24,  59, 112,  59, 140,  59,   7,  59, 132,   0,\n          46,  59,  52,  59,  71,  59,  73,  18,  59,  61,  59, 125,  59,   3,\n          32,  91,  59,  93,  59,  62,  59,   8, 103, 104],\n        [129, 107,  35, 107,  64, 107, 109, 107, 117, 107, 126, 107, 130, 107,\n          74, 107,  84, 107,  94, 107, 114, 107, 138, 107, 141, 107,  76, 107,\n         105, 107,  91, 107, 103, 107,  97, 107,  46, 107, 129,  22,  75,  22,\n          35,  22,  64,  22, 109,  22, 117,  22, 126,  22, 130,  22, 131,  22,\n          74,  22,  97,  22,  84,  22,  85,  22,  87,  22,  88,  22,  90,  22,\n          92,  22,  94,  22, 111,  22, 114,  22, 138,  22, 141,  22,  76,  22,\n         105,  22,  15,  22,  24,  22,  46,  22,  91,  22, 103,  22,  20, 107,\n         123, 107,  36, 107,  38, 107,  42, 107,  47, 107,  54, 107,  68, 107,\n          81, 107, 113, 107, 128, 107, 143, 107, 146, 107,   5, 107,   6, 107,\n          21, 107,  26, 107,  31, 107,  45, 107,  58, 107,  60, 107,  66, 107,\n          67, 107, 102, 107,  70, 107, 100, 107, 106, 107, 121, 107, 137, 107,\n         139, 107,   4, 107,   9, 107,  10, 107,  11, 107,  12, 107,  13, 107,\n          16, 107,  23, 107,  25, 107,  77, 107,  78, 107,  83, 107, 108, 107,\n           0, 107,  18, 107,  32, 107, 104, 107,  48,  22,  63,  22,  37,  22,\n         129,  27,  22,  35,  64, 109, 117, 126, 130, 131,  74,  97,  84,  85,\n          87,  88,  90,  92,  94, 111, 114, 138, 141,  76, 105,  15,  24,  46,\n          91, 103,  36,  38,  42,  47,  54,  68,  81, 113, 128, 143, 146,   5,\n           6,  21,  26,  31,  45,  58,  60,  66,  67, 102,  70, 100, 106, 121,\n         137, 139,   4,   9,  10,  11,  12,  13,  16,  23,  25,  77,  78,  83,\n         108,   0,  18,  32, 104,  41,  56,  57,  56, 119,  56,  43,  56, 145,\n          56,  55,  56, 136,  56, 115,  56,  56,  28,  56,  33,  56,  34,  56,\n          56,  56,  56,  56,  44,  56,  56,  51,  56,  53,  56,  56,  56,  56,\n          56,  56,  56, 116,  56,  56, 118,  56, 122,  56,  56, 127,  56,  56,\n          56,  56, 142,  56,  56, 144,  56,  56, 147,  56,  56,  56,  56,  29,\n          56,  30,  56,  56,  56,  56,  49,  56,  50,  56,  56,  56,  56,  56,\n          56,  56,  99,  56,  56, 124,  56, 134,  56,  17,  56,  19,  56,  56,\n          56,  56,  86,  56,  56,  56,  89,  56,  56,  56,  56,  95,  56,  96,\n          56,  98,  56, 101,  56,  56,  56,  56,  56, 120,  56,  56, 133,  56,\n         135,  56,  56,  56,  56,  56,   1,  56,   2,  56,  56,  56,  56,  56,\n          56,  56,  14,  56,  56,  56,  56,  39,  56,  40,  56,  65,  56,  69,\n          56,  72,  56,  56,  56,  79,  56,  56,  80,  56,  82,  56,  56,  56,\n          56, 110,  56,  56,  56, 112,  56, 140,  56,   7,  56, 132,  56,  56,\n          56,  52,  56,  71,  56,  73,  56,  56,  61,  56, 125,  56,   3,  56,\n          56,  56,  93,  56,  62,  56,   8,  56,  56,  56]])"
     },
     "execution_count": 5,
     "metadata": {},
     "output_type": "execute_result"
    }
   ],
   "execution_count": 5
  },
  {
   "metadata": {},
   "cell_type": "markdown",
   "source": [
    "## Load the Prime Dataset"
   ],
   "id": "c2c72772ebdcd5ba"
  },
  {
   "metadata": {
    "ExecuteTime": {
     "end_time": "2024-09-01T03:12:42.507717Z",
     "start_time": "2024-09-01T03:12:40.477334Z"
    }
   },
   "cell_type": "code",
   "source": [
    "from stark_qa import load_qa, load_skb\n",
    "\n",
    "dataset_name = 'prime'\n",
    "\n",
    "# Load the retrieval dataset\n",
    "qa_dataset = load_qa(dataset_name)"
   ],
   "id": "2bbf9b25bfaef6c9",
   "outputs": [
    {
     "name": "stdout",
     "output_type": "stream",
     "text": [
      "Use file from /Users/sbr/.cache/huggingface/hub/datasets--snap-stanford--stark/snapshots/7b0352c7dcefbf254478c203bcfdf284a08866ac/qa/prime/stark_qa/stark_qa_human_generated_eval.csv.\n"
     ]
    }
   ],
   "execution_count": 6
  },
  {
   "metadata": {
    "ExecuteTime": {
     "end_time": "2024-09-01T03:12:42.515101Z",
     "start_time": "2024-09-01T03:12:42.508642Z"
    }
   },
   "cell_type": "code",
   "source": [
    "qa_dataset.data"
   ],
   "id": "10fa0ea64b3c3321",
   "outputs": [
    {
     "data": {
      "text/plain": "          id                                              query  \\\n0          0  Could you identify any skin diseases associate...   \n1          1  What drugs target the CYP3A4 enzyme and are us...   \n2          2  What is the name of the condition characterize...   \n3          3  What drugs are used to treat epithelioid sarco...   \n4          4  Can you supply a compilation of genes and prot...   \n...      ...                                                ...   \n11199  11199  Which gene or protein is not expressed in fema...   \n11200  11200  Could you identify a biological pathway in whi...   \n11201  11201  Is there an interaction between genes or prote...   \n11202  11202  Which pharmacological agents that stimulate os...   \n11203  11203  Identify common genetic targets that serve as ...   \n\n            answer_ids  \n0              [95886]  \n1              [15450]  \n2       [98851, 98853]  \n3              [15698]  \n4        [7161, 22045]  \n...                ...  \n11199           [2414]  \n11200         [128199]  \n11201  [127611, 62903]  \n11202          [20180]  \n11203           [8094]  \n\n[11204 rows x 3 columns]",
      "text/html": "<div>\n<style scoped>\n    .dataframe tbody tr th:only-of-type {\n        vertical-align: middle;\n    }\n\n    .dataframe tbody tr th {\n        vertical-align: top;\n    }\n\n    .dataframe thead th {\n        text-align: right;\n    }\n</style>\n<table border=\"1\" class=\"dataframe\">\n  <thead>\n    <tr style=\"text-align: right;\">\n      <th></th>\n      <th>id</th>\n      <th>query</th>\n      <th>answer_ids</th>\n    </tr>\n  </thead>\n  <tbody>\n    <tr>\n      <th>0</th>\n      <td>0</td>\n      <td>Could you identify any skin diseases associate...</td>\n      <td>[95886]</td>\n    </tr>\n    <tr>\n      <th>1</th>\n      <td>1</td>\n      <td>What drugs target the CYP3A4 enzyme and are us...</td>\n      <td>[15450]</td>\n    </tr>\n    <tr>\n      <th>2</th>\n      <td>2</td>\n      <td>What is the name of the condition characterize...</td>\n      <td>[98851, 98853]</td>\n    </tr>\n    <tr>\n      <th>3</th>\n      <td>3</td>\n      <td>What drugs are used to treat epithelioid sarco...</td>\n      <td>[15698]</td>\n    </tr>\n    <tr>\n      <th>4</th>\n      <td>4</td>\n      <td>Can you supply a compilation of genes and prot...</td>\n      <td>[7161, 22045]</td>\n    </tr>\n    <tr>\n      <th>...</th>\n      <td>...</td>\n      <td>...</td>\n      <td>...</td>\n    </tr>\n    <tr>\n      <th>11199</th>\n      <td>11199</td>\n      <td>Which gene or protein is not expressed in fema...</td>\n      <td>[2414]</td>\n    </tr>\n    <tr>\n      <th>11200</th>\n      <td>11200</td>\n      <td>Could you identify a biological pathway in whi...</td>\n      <td>[128199]</td>\n    </tr>\n    <tr>\n      <th>11201</th>\n      <td>11201</td>\n      <td>Is there an interaction between genes or prote...</td>\n      <td>[127611, 62903]</td>\n    </tr>\n    <tr>\n      <th>11202</th>\n      <td>11202</td>\n      <td>Which pharmacological agents that stimulate os...</td>\n      <td>[20180]</td>\n    </tr>\n    <tr>\n      <th>11203</th>\n      <td>11203</td>\n      <td>Identify common genetic targets that serve as ...</td>\n      <td>[8094]</td>\n    </tr>\n  </tbody>\n</table>\n<p>11204 rows × 3 columns</p>\n</div>"
     },
     "execution_count": 7,
     "metadata": {},
     "output_type": "execute_result"
    }
   ],
   "execution_count": 7
  },
  {
   "cell_type": "code",
   "source": [
    "data_list = []\n",
    "with GraphDatabase.driver(NEO4J_URI, auth=(NEO4J_USERNAME, NEO4J_PASSWORD)) as driver:\n",
    "    for prompt in tqdm(qa_dataset.data['query'][:10]):\n",
    "        data_list.append(retrieve(prompt, driver))  "
   ],
   "metadata": {
    "colab": {
     "base_uri": "https://localhost:8080/"
    },
    "id": "flE-ptGNU1vn",
    "outputId": "46ec97d1-badd-44e1-b1bb-9a5b7f5756c7",
    "ExecuteTime": {
     "end_time": "2024-09-01T03:13:18.729918Z",
     "start_time": "2024-09-01T03:12:42.516002Z"
    }
   },
   "id": "flE-ptGNU1vn",
   "outputs": [
    {
     "name": "stderr",
     "output_type": "stream",
     "text": [
      "  0%|          | 0/10 [00:00<?, ?it/s]"
     ]
    },
    {
     "name": "stdout",
     "output_type": "stream",
     "text": [
      "generating edge embeddings\n"
     ]
    },
    {
     "name": "stderr",
     "output_type": "stream",
     "text": [
      " 10%|█         | 1/10 [00:01<00:15,  1.76s/it]"
     ]
    },
    {
     "name": "stdout",
     "output_type": "stream",
     "text": [
      "generating edge embeddings\n"
     ]
    },
    {
     "name": "stderr",
     "output_type": "stream",
     "text": [
      " 20%|██        | 2/10 [00:22<01:44, 13.10s/it]"
     ]
    },
    {
     "name": "stdout",
     "output_type": "stream",
     "text": [
      "generating edge embeddings\n"
     ]
    },
    {
     "name": "stderr",
     "output_type": "stream",
     "text": [
      " 30%|███       | 3/10 [00:24<00:55,  7.86s/it]"
     ]
    },
    {
     "name": "stdout",
     "output_type": "stream",
     "text": [
      "generating edge embeddings\n"
     ]
    },
    {
     "name": "stderr",
     "output_type": "stream",
     "text": [
      " 40%|████      | 4/10 [00:37<00:59,  9.87s/it]"
     ]
    },
    {
     "name": "stdout",
     "output_type": "stream",
     "text": [
      "generating edge embeddings\n"
     ]
    },
    {
     "name": "stderr",
     "output_type": "stream",
     "text": [
      " 50%|█████     | 5/10 [00:38<00:33,  6.71s/it]"
     ]
    },
    {
     "name": "stdout",
     "output_type": "stream",
     "text": [
      "generating edge embeddings\n"
     ]
    },
    {
     "name": "stderr",
     "output_type": "stream",
     "text": [
      " 60%|██████    | 6/10 [00:39<00:18,  4.69s/it]"
     ]
    },
    {
     "name": "stdout",
     "output_type": "stream",
     "text": [
      "generating edge embeddings\n"
     ]
    },
    {
     "name": "stderr",
     "output_type": "stream",
     "text": [
      " 70%|███████   | 7/10 [00:40<00:11,  3.67s/it]"
     ]
    },
    {
     "name": "stdout",
     "output_type": "stream",
     "text": [
      "generating edge embeddings\n"
     ]
    },
    {
     "name": "stderr",
     "output_type": "stream",
     "text": [
      " 80%|████████  | 8/10 [00:42<00:05,  2.98s/it]"
     ]
    },
    {
     "name": "stdout",
     "output_type": "stream",
     "text": [
      "generating edge embeddings\n"
     ]
    },
    {
     "name": "stderr",
     "output_type": "stream",
     "text": [
      " 90%|█████████ | 9/10 [00:43<00:02,  2.37s/it]"
     ]
    },
    {
     "name": "stdout",
     "output_type": "stream",
     "text": [
      "generating edge embeddings\n"
     ]
    },
    {
     "name": "stderr",
     "output_type": "stream",
     "text": [
      "100%|██████████| 10/10 [00:46<00:00,  4.63s/it]\n"
     ]
    }
   ],
   "execution_count": 8
  },
  {
   "cell_type": "code",
   "source": [
    "for d in data_list:\n",
    "    print(d)"
   ],
   "metadata": {
    "id": "7Zsc3oDGXR-c",
    "ExecuteTime": {
     "end_time": "2024-09-01T03:13:18.735990Z",
     "start_time": "2024-09-01T03:13:18.731779Z"
    }
   },
   "id": "7Zsc3oDGXR-c",
   "outputs": [
    {
     "name": "stdout",
     "output_type": "stream",
     "text": [
      "Data(x=[5, 1536], edge_index=[2, 3], edge_attr=[3, 1536], question='Could you identify any skin diseases associated with epithelial skin neoplasms? I've observed a tiny, yellowish lesion on sun-exposed areas of my face and neck, and I suspect it might be connected.', answer='', desc='')\n",
      "Data(x=[747, 1536], edge_index=[2, 2931], edge_attr=[2931, 1536], question='What drugs target the CYP3A4 enzyme and are used to treat strongyloidiasis?', answer='', desc='')\n",
      "Data(x=[4, 1536], edge_index=[2, 5], edge_attr=[5, 1536], question='What is the name of the condition characterized by a complete interruption of the inferior vena cava, falling under congenital vena cava anomalies?', answer='', desc='')\n",
      "Data(x=[1197, 1536], edge_index=[2, 2405], edge_attr=[2405, 1536], question='What drugs are used to treat epithelioid sarcoma and also affect the EZH2 gene product?', answer='', desc='')\n",
      "Data(x=[8, 1536], edge_index=[2, 13], edge_attr=[13, 1536], question='Can you supply a compilation of genes and proteins associated with endothelin B receptor interaction, involved in G alpha (q) signaling, and contributing to hypertension and ovulation-related biological functions?', answer='', desc='')\n",
      "Data(x=[4, 1536], edge_index=[2, 5], edge_attr=[5, 1536], question='What is the name of the disease that presents with a congenital blockage of the mitral valve and is categorized as a specific subtype or variation of congenital mitral malformation?', answer='', desc='')\n",
      "Data(x=[14, 1536], edge_index=[2, 27], edge_attr=[27, 1536], question='What is the medical diagnosis for a disorder associated with the FOSB gene, characterized by extreme aggressive episodes and destructive behavior due to poor impulse control, usually beginning after age 6 or during teenage years, with exaggerated verbal and physical reactions to environmental triggers?', answer='', desc='')\n",
      "Data(x=[47, 1536], edge_index=[2, 100], edge_attr=[100, 1536], question='What condition is linked to KCNJ2 mutations and features episodic paralysis and hypokalemia, often triggered by hyperthyroidism?', answer='', desc='')\n",
      "Data(x=[6, 1536], edge_index=[2, 7], edge_attr=[7, 1536], question='Please find genes and proteins interacting with the peroxisomal membrane and also involved in inhibiting mitochondrial outer membrane permeabilization, relevant to apoptotic signaling.', answer='', desc='')\n",
      "Data(x=[148, 1536], edge_index=[2, 472], edge_attr=[472, 1536], question='Which gene or protein is engaged in DCC-mediated attractive signaling, can bind to actin filaments, and belongs to the actin-binding LIM protein family?', answer='', desc='')\n"
     ]
    }
   ],
   "execution_count": 9
  },
  {
   "cell_type": "code",
   "execution_count": null,
   "outputs": [],
   "source": [],
   "metadata": {
    "collapsed": false
   },
   "id": "1888df1ec4b682ad"
  }
 ],
 "metadata": {
  "kernelspec": {
   "display_name": "Python 3 (ipykernel)",
   "language": "python",
   "name": "python3"
  },
  "language_info": {
   "codemirror_mode": {
    "name": "ipython",
    "version": 3
   },
   "file_extension": ".py",
   "mimetype": "text/x-python",
   "name": "python",
   "nbconvert_exporter": "python",
   "pygments_lexer": "ipython3",
   "version": "3.11.6"
  },
  "colab": {
   "provenance": []
  }
 },
 "nbformat": 4,
 "nbformat_minor": 5
}
