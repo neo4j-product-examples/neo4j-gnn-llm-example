{
 "cells": [
  {
   "cell_type": "code",
   "id": "initial_id",
   "metadata": {
    "collapsed": true,
    "jupyter": {
     "outputs_hidden": true
    },
    "colab": {
     "base_uri": "https://localhost:8080/"
    },
    "id": "initial_id",
    "outputId": "8d0cf051-7022-4169-fb5f-f98dd7d44f4b"
   },
   "source": [
    "%%capture\n",
    "%pip install torch torch_geometric stark-qa neo4j python-dotenv pcst_fast datasets pandas transformers langchain langchain-openai langchain-community"
   ],
   "outputs": [],
   "execution_count": null
  },
  {
   "metadata": {},
   "cell_type": "markdown",
   "source": [
    "## Setup"
   ],
   "id": "f27f805265507608"
  },
  {
   "metadata": {},
   "cell_type": "markdown",
   "source": [
    "load env variables"
   ],
   "id": "b9888993aa1c4114"
  },
  {
   "metadata": {
    "id": "d5f15c92d7faa635",
    "ExecuteTime": {
     "end_time": "2024-10-20T14:44:00.472567Z",
     "start_time": "2024-10-20T14:44:00.463302Z"
    }
   },
   "cell_type": "code",
   "source": [
    "from dotenv import load_dotenv\n",
    "import os\n",
    "\n",
    "load_dotenv('.env', override=True)\n",
    "NEO4J_URI = os.getenv('NEO4J_URI')\n",
    "NEO4J_USERNAME = os.getenv('NEO4J_USERNAME')\n",
    "NEO4J_PASSWORD = os.getenv('NEO4J_PASSWORD')\n",
    "\n",
    "OPENAI_API_KEY = os.getenv('OPENAI_API_KEY')"
   ],
   "id": "d5f15c92d7faa635",
   "outputs": [],
   "execution_count": 1
  },
  {
   "metadata": {},
   "cell_type": "markdown",
   "source": "Get stark-qa dataset",
   "id": "89557cc51eaa9b6f"
  },
  {
   "metadata": {
    "ExecuteTime": {
     "end_time": "2024-10-20T14:44:09.653247Z",
     "start_time": "2024-10-20T14:44:03.190790Z"
    }
   },
   "cell_type": "code",
   "source": [
    "from stark_qa import load_qa, load_skb\n",
    "\n",
    "dataset_name = 'prime'\n",
    "\n",
    "# Load the retrieval dataset\n",
    "qa_dataset = load_qa(dataset_name)"
   ],
   "id": "c2245ddc0486acec",
   "outputs": [
    {
     "name": "stdout",
     "output_type": "stream",
     "text": [
      "Use file from /Users/zachblumenfeld/.cache/huggingface/hub/datasets--snap-stanford--stark/snapshots/e3387ba9c873528521e125c3da687092d9872104/qa/prime/stark_qa/stark_qa_human_generated_eval_uncleaned.csv.\n"
     ]
    }
   ],
   "execution_count": 2
  },
  {
   "metadata": {
    "ExecuteTime": {
     "end_time": "2024-10-20T14:44:09.662177Z",
     "start_time": "2024-10-20T14:44:09.654644Z"
    }
   },
   "cell_type": "code",
   "source": "qa_dataset.data",
   "id": "72bb63449ed8c90",
   "outputs": [
    {
     "data": {
      "text/plain": [
       "          id                                              query  \\\n",
       "0          0  Could you identify any skin diseases associate...   \n",
       "1          1  What drugs target the CYP3A4 enzyme and are us...   \n",
       "2          2  What is the name of the condition characterize...   \n",
       "3          3  What drugs are used to treat epithelioid sarco...   \n",
       "4          4  Can you supply a compilation of genes and prot...   \n",
       "...      ...                                                ...   \n",
       "11199  11199  Which gene or protein is not expressed in fema...   \n",
       "11200  11200  Could you identify a biological pathway in whi...   \n",
       "11201  11201  Is there an interaction between genes or prote...   \n",
       "11202  11202  Which pharmacological agents that stimulate os...   \n",
       "11203  11203  Identify common genetic targets that serve as ...   \n",
       "\n",
       "            answer_ids  \n",
       "0              [95886]  \n",
       "1              [15450]  \n",
       "2       [98851, 98853]  \n",
       "3              [15698]  \n",
       "4        [7161, 22045]  \n",
       "...                ...  \n",
       "11199           [2414]  \n",
       "11200         [128199]  \n",
       "11201  [127611, 62903]  \n",
       "11202          [20180]  \n",
       "11203           [8094]  \n",
       "\n",
       "[11204 rows x 3 columns]"
      ],
      "text/html": [
       "<div>\n",
       "<style scoped>\n",
       "    .dataframe tbody tr th:only-of-type {\n",
       "        vertical-align: middle;\n",
       "    }\n",
       "\n",
       "    .dataframe tbody tr th {\n",
       "        vertical-align: top;\n",
       "    }\n",
       "\n",
       "    .dataframe thead th {\n",
       "        text-align: right;\n",
       "    }\n",
       "</style>\n",
       "<table border=\"1\" class=\"dataframe\">\n",
       "  <thead>\n",
       "    <tr style=\"text-align: right;\">\n",
       "      <th></th>\n",
       "      <th>id</th>\n",
       "      <th>query</th>\n",
       "      <th>answer_ids</th>\n",
       "    </tr>\n",
       "  </thead>\n",
       "  <tbody>\n",
       "    <tr>\n",
       "      <th>0</th>\n",
       "      <td>0</td>\n",
       "      <td>Could you identify any skin diseases associate...</td>\n",
       "      <td>[95886]</td>\n",
       "    </tr>\n",
       "    <tr>\n",
       "      <th>1</th>\n",
       "      <td>1</td>\n",
       "      <td>What drugs target the CYP3A4 enzyme and are us...</td>\n",
       "      <td>[15450]</td>\n",
       "    </tr>\n",
       "    <tr>\n",
       "      <th>2</th>\n",
       "      <td>2</td>\n",
       "      <td>What is the name of the condition characterize...</td>\n",
       "      <td>[98851, 98853]</td>\n",
       "    </tr>\n",
       "    <tr>\n",
       "      <th>3</th>\n",
       "      <td>3</td>\n",
       "      <td>What drugs are used to treat epithelioid sarco...</td>\n",
       "      <td>[15698]</td>\n",
       "    </tr>\n",
       "    <tr>\n",
       "      <th>4</th>\n",
       "      <td>4</td>\n",
       "      <td>Can you supply a compilation of genes and prot...</td>\n",
       "      <td>[7161, 22045]</td>\n",
       "    </tr>\n",
       "    <tr>\n",
       "      <th>...</th>\n",
       "      <td>...</td>\n",
       "      <td>...</td>\n",
       "      <td>...</td>\n",
       "    </tr>\n",
       "    <tr>\n",
       "      <th>11199</th>\n",
       "      <td>11199</td>\n",
       "      <td>Which gene or protein is not expressed in fema...</td>\n",
       "      <td>[2414]</td>\n",
       "    </tr>\n",
       "    <tr>\n",
       "      <th>11200</th>\n",
       "      <td>11200</td>\n",
       "      <td>Could you identify a biological pathway in whi...</td>\n",
       "      <td>[128199]</td>\n",
       "    </tr>\n",
       "    <tr>\n",
       "      <th>11201</th>\n",
       "      <td>11201</td>\n",
       "      <td>Is there an interaction between genes or prote...</td>\n",
       "      <td>[127611, 62903]</td>\n",
       "    </tr>\n",
       "    <tr>\n",
       "      <th>11202</th>\n",
       "      <td>11202</td>\n",
       "      <td>Which pharmacological agents that stimulate os...</td>\n",
       "      <td>[20180]</td>\n",
       "    </tr>\n",
       "    <tr>\n",
       "      <th>11203</th>\n",
       "      <td>11203</td>\n",
       "      <td>Identify common genetic targets that serve as ...</td>\n",
       "      <td>[8094]</td>\n",
       "    </tr>\n",
       "  </tbody>\n",
       "</table>\n",
       "<p>11204 rows × 3 columns</p>\n",
       "</div>"
      ]
     },
     "execution_count": 3,
     "metadata": {},
     "output_type": "execute_result"
    }
   ],
   "execution_count": 3
  },
  {
   "metadata": {},
   "cell_type": "markdown",
   "source": "## Vector Retriever",
   "id": "c1b87d80e573cd6d"
  },
  {
   "metadata": {
    "ExecuteTime": {
     "end_time": "2024-10-20T14:44:09.924461Z",
     "start_time": "2024-10-20T14:44:09.662862Z"
    }
   },
   "cell_type": "code",
   "source": [
    "import neo4j\n",
    "from neo4j_graphrag.embeddings.openai import OpenAIEmbeddings\n",
    "\n",
    "driver = neo4j.GraphDatabase.driver(NEO4J_URI, auth=(NEO4J_USERNAME, NEO4J_PASSWORD))\n",
    "\n",
    "#create text embedder\n",
    "embedder = OpenAIEmbeddings()"
   ],
   "id": "4d6fb4497185d8a1",
   "outputs": [],
   "execution_count": 4
  },
  {
   "metadata": {
    "ExecuteTime": {
     "end_time": "2024-10-20T14:44:12.637347Z",
     "start_time": "2024-10-20T14:44:09.949177Z"
    }
   },
   "cell_type": "code",
   "source": [
    "from neo4j_graphrag.retrievers import VectorRetriever\n",
    "\n",
    "vector_retriever = VectorRetriever(\n",
    "    driver,\n",
    "    index_name=\"text_embeddings\",\n",
    "    embedder=embedder,\n",
    "    return_properties=[\"details\", \"name\", \"nodeId\"],\n",
    ")"
   ],
   "id": "1e65485d87e2a5bd",
   "outputs": [],
   "execution_count": 5
  },
  {
   "metadata": {
    "ExecuteTime": {
     "end_time": "2024-10-20T14:44:12.683262Z",
     "start_time": "2024-10-20T14:44:12.639465Z"
    }
   },
   "cell_type": "code",
   "source": [
    "from neo4j_graphrag.llm import OpenAILLM as LLM\n",
    "from neo4j_graphrag.generation import RagTemplate\n",
    "from neo4j_graphrag.generation.graphrag import GraphRAG\n",
    "\n",
    "llm=LLM(\n",
    "    model_name=\"gpt-4o\",\n",
    "    model_params={\n",
    "        \"response_format\": {\"type\": \"json_object\"}, # use json_object formatting for best results\n",
    "        \"temperature\": 0, # turning temperature down for more deterministic results\n",
    "        \"seed\": 42\n",
    "    }\n",
    ")\n",
    "\n",
    "rag_template = RagTemplate(template='''\n",
    "Answer the Question using the following Context. Only respond with information mentioned in the Context. Do not inject any speculative information not mentioned. \n",
    "\n",
    "Return result as JSON using the following format:\n",
    "{{\"nodeIds\": [list of nodeIds containing the correct answers in order of probability highest to smallest], \"explanation\": \"written explanation as to why the node id answers were provided\"}}\n",
    "\n",
    "# Question:\n",
    "{query_text}\n",
    " \n",
    "# Context:\n",
    "{context}\n",
    "\n",
    "# Answer:\n",
    "''', expected_inputs=['query_text', 'context'])\n",
    "\n",
    "v_rag  = GraphRAG(llm=llm, retriever=vector_retriever, prompt_template=rag_template)"
   ],
   "id": "64f3c2d6367140a7",
   "outputs": [],
   "execution_count": 6
  },
  {
   "metadata": {
    "ExecuteTime": {
     "end_time": "2024-10-20T14:44:20.076953Z",
     "start_time": "2024-10-20T14:44:13.111258Z"
    }
   },
   "cell_type": "code",
   "source": [
    "q=qa_dataset.data['query'][0]\n",
    "print(q)\n",
    "\n",
    "v_res = v_rag.search(q, return_context=True, retriever_config={\"top_k\": 10})"
   ],
   "id": "e93164070799354f",
   "outputs": [
    {
     "name": "stdout",
     "output_type": "stream",
     "text": [
      "Could you identify any skin diseases associated with epithelial skin neoplasms? I've observed a tiny, yellowish lesion on sun-exposed areas of my face and neck, and I suspect it might be connected.\n"
     ]
    }
   ],
   "execution_count": 7
  },
  {
   "metadata": {
    "ExecuteTime": {
     "end_time": "2024-10-20T14:44:22.619922Z",
     "start_time": "2024-10-20T14:44:22.617771Z"
    }
   },
   "cell_type": "code",
   "source": [
    "import json\n",
    "\n",
    "print(json.dumps(eval(v_res.answer), indent=1))"
   ],
   "id": "24b15b2394f106d1",
   "outputs": [
    {
     "name": "stdout",
     "output_type": "stream",
     "text": [
      "{\n",
      " \"nodeIds\": [\n",
      "  96054,\n",
      "  96057,\n",
      "  98637,\n",
      "  39254\n",
      " ],\n",
      " \"explanation\": \"The tiny, yellowish lesion observed on sun-exposed areas of the face and neck could be associated with basal cell carcinoma, a type of epithelial skin neoplasm. The context provides information on various types of basal cell carcinoma, which often develop on sun-exposed parts of the body, especially the head and neck. These lesions can appear as pearly white, skin-colored, or pink bumps that are translucent, and tiny blood vessels are often visible. The nodeIds 96054, 96057, 98637, and 39254 all describe different variants of basal cell carcinoma, which are relevant to the symptoms described.\"\n",
      "}\n"
     ]
    }
   ],
   "execution_count": 8
  },
  {
   "metadata": {},
   "cell_type": "markdown",
   "source": "## Dynamic Cypher Retriever",
   "id": "da4493911aff0f68"
  },
  {
   "metadata": {},
   "cell_type": "markdown",
   "source": "### MATCH Statement Generator",
   "id": "93660ad5b857689d"
  },
  {
   "metadata": {
    "ExecuteTime": {
     "end_time": "2024-10-20T14:44:42.202349Z",
     "start_time": "2024-10-20T14:44:42.200469Z"
    }
   },
   "cell_type": "code",
   "source": [
    "# Uncomment to Re-get Schema\n",
    "#from neo4j_graphrag.schema import get_schema, get_structured_schema\n",
    "\n",
    "#print(get_schema(driver))"
   ],
   "id": "b76661ec16291541",
   "outputs": [],
   "execution_count": 9
  },
  {
   "metadata": {
    "ExecuteTime": {
     "end_time": "2024-10-20T14:44:43.186486Z",
     "start_time": "2024-10-20T14:44:43.183792Z"
    }
   },
   "cell_type": "code",
   "source": [
    "schema = \"\"\"(:Disease)-[:ASSOCIATED_WITH]->(:GeneOrProtein)\n",
    "(:Disease)-[:PARENT_CHILD]->(:Disease)\n",
    "(:Disease)-[:PHENOTYPE_ABSENT]->(:EffectOrPhenotype)\n",
    "(:Disease)-[:PHENOTYPE_PRESENT]->(:EffectOrPhenotype)\n",
    "(:Disease)-[:CONTRAINDICATION]->(:Drug)\n",
    "(:Disease)-[:INDICATION]->(:Drug)\n",
    "(:Disease)-[:OFF_LABEL_USE]->(:Drug)\n",
    "(:Disease)-[:LINKED_TO]->(:Exposure)\n",
    "(:GeneOrProtein)-[:ASSOCIATED_WITH]->(:Disease)\n",
    "(:GeneOrProtein)-[:ASSOCIATED_WITH]->(:EffectOrPhenotype)\n",
    "(:GeneOrProtein)-[:PPI]->(:GeneOrProtein)\n",
    "(:GeneOrProtein)-[:EXPRESSION_PRESENT]->(:Anatomy)\n",
    "(:GeneOrProtein)-[:INTERACTS_WITH]->(:MolecularFunction)\n",
    "(:GeneOrProtein)-[:INTERACTS_WITH]->(:Pathway)\n",
    "(:GeneOrProtein)-[:INTERACTS_WITH]->(:BiologicalProcess)\n",
    "(:GeneOrProtein)-[:INTERACTS_WITH]->(:CellularComponent)\n",
    "(:GeneOrProtein)-[:INTERACTS_WITH]->(:Exposure)\n",
    "(:GeneOrProtein)-[:TARGET]->(:Drug)\n",
    "(:GeneOrProtein)-[:EXPRESSION_ABSENT]->(:Anatomy)\n",
    "(:GeneOrProtein)-[:TRANSPORTER]->(:Drug)\n",
    "(:GeneOrProtein)-[:ENZYME]->(:Drug)\n",
    "(:GeneOrProtein)-[:CARRIER]->(:Drug)\n",
    "(:MolecularFunction)-[:PARENT_CHILD]->(:MolecularFunction)\n",
    "(:MolecularFunction)-[:INTERACTS_WITH]->(:GeneOrProtein)\n",
    "(:MolecularFunction)-[:INTERACTS_WITH]->(:Exposure)\n",
    "(:Drug)-[:CARRIER]->(:GeneOrProtein)\n",
    "(:Drug)-[:ENZYME]->(:GeneOrProtein)\n",
    "(:Drug)-[:TARGET]->(:GeneOrProtein)\n",
    "(:Drug)-[:TRANSPORTER]->(:GeneOrProtein)\n",
    "(:Drug)-[:CONTRAINDICATION]->(:Disease)\n",
    "(:Drug)-[:INDICATION]->(:Disease)\n",
    "(:Drug)-[:SYNERGISTIC_INTERACTION]->(:Drug)\n",
    "(:Drug)-[:SIDE_EFFECT]->(:EffectOrPhenotype)\n",
    "(:Drug)-[:OFF_LABEL_USE]->(:Disease)\n",
    "(:Pathway)-[:PARENT_CHILD]->(:Pathway)\n",
    "(:Pathway)-[:INTERACTS_WITH]->(:GeneOrProtein)\n",
    "(:Anatomy)-[:PARENT_CHILD]->(:Anatomy)\n",
    "(:Anatomy)-[:EXPRESSION_PRESENT]->(:GeneOrProtein)\n",
    "(:Anatomy)-[:EXPRESSION_ABSENT]->(:GeneOrProtein)\n",
    "(:EffectOrPhenotype)-[:PARENT_CHILD]->(:EffectOrPhenotype)\n",
    "(:EffectOrPhenotype)-[:PHENOTYPE_PRESENT]->(:Disease)\n",
    "(:EffectOrPhenotype)-[:PHENOTYPE_ABSENT]->(:Disease)\n",
    "(:EffectOrPhenotype)-[:ASSOCIATED_WITH]->(:GeneOrProtein)\n",
    "(:EffectOrPhenotype)-[:SIDE_EFFECT]->(:Drug)\n",
    "(:BiologicalProcess)-[:PARENT_CHILD]->(:BiologicalProcess)\n",
    "(:BiologicalProcess)-[:INTERACTS_WITH]->(:GeneOrProtein)\n",
    "(:BiologicalProcess)-[:INTERACTS_WITH]->(:Exposure)\n",
    "(:CellularComponent)-[:PARENT_CHILD]->(:CellularComponent)\n",
    "(:CellularComponent)-[:INTERACTS_WITH]->(:GeneOrProtein)\n",
    "(:CellularComponent)-[:INTERACTS_WITH]->(:Exposure)\n",
    "(:Exposure)-[:PARENT_CHILD]->(:Exposure)\n",
    "(:Exposure)-[:INTERACTS_WITH]->(:GeneOrProtein)\n",
    "(:Exposure)-[:INTERACTS_WITH]->(:BiologicalProcess)\n",
    "(:Exposure)-[:INTERACTS_WITH]->(:MolecularFunction)\n",
    "(:Exposure)-[:INTERACTS_WITH]->(:CellularComponent)\n",
    "(:Exposure)-[:LINKED_TO]->(:Disease)\"\"\""
   ],
   "id": "863e1b6a5ad8622",
   "outputs": [],
   "execution_count": 10
  },
  {
   "metadata": {
    "ExecuteTime": {
     "end_time": "2024-10-20T14:44:51.672838Z",
     "start_time": "2024-10-20T14:44:51.668432Z"
    }
   },
   "cell_type": "code",
   "source": [
    "access_patterns = [\n",
    "    {\n",
    "        \"pattern\": \"MATCH (n1:EffectOrPhenotype)-[r1:PHENOTYPE_ABSENT]->(n2:Disease)<-[r2:CONTRAINDICATION]-(n3:Drug)\",\n",
    "        \"questionType\": \"Find diseases with zero indication drug and are associated with <effect/phenotype>\"\n",
    "    },\n",
    "    {\n",
    "        \"pattern\": \"MATCH (n1:Drug)-[r1:CONTRAINDICATION]->(n2:Disease)<-[r2:ASSOCIATED_WITH]-(n3:GeneOrProtein)\",\n",
    "        \"questionType\": \"Identify diseases associated with <gene/protein> and are contraindicated with <drug>\"\n",
    "    },\n",
    "    {\n",
    "        \"pattern\": \"MATCH (n1:Anatomy)-[r1:EXPRESSION_PRESENT]->(n2:GeneOrProtein)<-[r2:EXPRESSION_ABSENT]-(n3:Anatomy)\",\n",
    "        \"questionType\": \"What gene or protein is expressed in <anatomy1> while is absent in <anatomy2>?\"\n",
    "    },\n",
    "    {\n",
    "        \"pattern\": \"MATCH (n1:Anatomy)-[r1:EXPRESSION_ABSENT]->(n2:GeneOrProtein)<-[r2:EXPRESSION_ABSENT]-(n3:Anatomy)\",\n",
    "        \"questionType\": \"What gene/protein is absent in both <anatomy1> and <anatomy2>?\"\n",
    "    },\n",
    "    {\n",
    "        \"pattern\": \"MATCH (n1:Drug)-[r1:CARRIER]->(n2:GeneOrProtein)<-[r2:CARRIER]-(n3:Drug)\",\n",
    "        \"questionType\": \"Which target genes are shared carriers between <drug1> and <drug2>?\"\n",
    "    },\n",
    "    {\n",
    "        \"pattern\": \"MATCH (n1:Anatomy)-[r1:EXPRESSION_PRESENT]->(n2:GeneOrProtein)-[r2:TARGET]->(n3:Drug)\",\n",
    "        \"questionType\": \"What is the drug that targets the genes or proteins which are expressed in <anatomy>?\"\n",
    "    },\n",
    "    {\n",
    "        \"pattern\": \"MATCH (n1:Drug)-[r1:SIDE_EFFECT]->(n2:EffectOrPhenotype)-[r2:SIDE_EFFECT]->(n3:Drug)\",\n",
    "        \"questionType\": \"What drug has common side effects as <drug>?\"\n",
    "    },\n",
    "    {\n",
    "        \"pattern\": \"MATCH (n1:Drug)-[r1:CARRIER]->(n2:GeneOrProtein)-[r2:CARRIER]->(n3:Drug)\",\n",
    "        \"questionType\": \"What is the drug that has common gene/protein carrier with <drug>?\"\n",
    "    },\n",
    "    {\n",
    "        \"pattern\": \"MATCH (n1:Anatomy)-[r1:EXPRESSION_PRESENT]->(n2:GeneOrProtein)-[r2:ENZYME]->(n3:Drug)\",\n",
    "        \"questionType\": \"What is the drug that some genes or proteins act as an enzyme upon, where the genes or proteins are expressed in <anatomy>?\"\n",
    "    },\n",
    "    {\n",
    "        \"pattern\": \"MATCH p=(n1:CellularComponent)-[r1:INTERACTS_WITH]->(n2:GeneOrProtein)-[r2:CARRIER]->(n3:Drug)\",\n",
    "        \"questionType\": \"What is the drug carried by genes or proteins that interact with <cellular_component>?\"\n",
    "    },\n",
    "    {\n",
    "        \"pattern\": \"MATCH (n1:MolecularFunction)-[r1:INTERACTS_WITH]->(n2:GeneOrProtein)-[r2:TARGET]->(n3:Drug)\",\n",
    "        \"questionType\": \"What drug targets the genes or proteins that interact with <molecular_function>?\"\n",
    "    },\n",
    "    {\n",
    "        \"pattern\": \"MATCH (n1:EffectOrPhenotype)-[r1:SIDE_EFFECT]->(n2:Drug)-[r2:SYNERGISTIC_INTERACTION]->(n3:Drug)\",\n",
    "        \"questionType\": \"What drug has a synergistic interaction with the drug that has <effect/phenotype> as a side effect?\"\n",
    "    },\n",
    "    {\n",
    "        \"pattern\": \"MATCH p=(n1:Disease)-[r1:INDICATION]->(n2:Drug)-[r2:CONTRAINDICATION]->(n3:Disease)\",\n",
    "        \"questionType\": \"What disease is a contraindication for the drugs indicated for <disease>?\"\n",
    "    },\n",
    "    {\n",
    "        \"pattern\": \"MATCH (n1:Disease)-[r1:PARENT_CHILD]->(n2:Disease)-[r2:PHENOTYPE_PRESENT]->(n3:EffectOrPhenotype)\",\n",
    "        \"questionType\": \"What effect or phenotype is present in the sub type of <disease>?\"\n",
    "    },\n",
    "    {\n",
    "        \"pattern\": \"MATCH (n1:GeneOrProtein)-[r1:TRANSPORTER]->(n2:Drug)-[r2:SIDE_EFFECT]->(n3:EffectOrPhenotype)\",\n",
    "        \"questionType\": \"What effect or phenotype is a [side effect] of the drug transported by <gene/protein>?\"\n",
    "    },\n",
    "    {\n",
    "        \"pattern\": \"MATCH (n1:Drug)-[r1:TRANSPORTER]->(n2:GeneOrProtein)-[r2:INTERACTS_WITH]->(n3:Exposure)\",\n",
    "        \"questionType\": \"What exposure may affect <drug>s efficacy by acting on its transporter genes?\"\n",
    "    },\n",
    "    {\n",
    "        \"pattern\": \"MATCH (n1:Pathway)-[r1:INTERACTS_WITH]->(n2:GeneOrProtein)-[r2:PPI]->(n3:GeneOrProtein)\",\n",
    "        \"questionType\": \"What gene/protein interacts with the gene/protein that related to <pathway>?\"\n",
    "    },\n",
    "    {\n",
    "        \"pattern\": \"MATCH (n1:Drug)-[r1:SYNERGISTIC_INTERACTION]->(n2:Drug)-[r2:TRANSPORTER]->(n3:GeneOrProtein)\",\n",
    "        \"questionType\": \"What gene or protein transports the drugs that have a synergistic interaction with <drug>?\"\n",
    "    },\n",
    "    {\n",
    "        \"pattern\": \"MATCH (n1:BiologicalProcess)-[r1:INTERACTS_WITH]->(n2:GeneOrProtein)-[r2:INTERACTS_WITH]->(n3:BiologicalProcess)\",\n",
    "        \"questionType\": \"What biological process has the common interactino pattern with gene or proteins as <biological_process>?\"\n",
    "    },\n",
    "    {\n",
    "        \"pattern\": \"MATCH (n1:EffectOrPhenotype)-[r1:ASSOCIATED_WITH]->(n2:GeneOrProtein)-[r2:INTERACTS_WITH]->(n3:BiologicalProcess)\",\n",
    "        \"questionType\": \"What biological process interacts with the gene/protein associated with <effect/phenotype>?\"\n",
    "    },\n",
    "    {\n",
    "        \"pattern\": \"MATCH p=(n1:Drug)-[r1:TRANSPORTER]->(n2:GeneOrProtein)-[r2:EXPRESSION_PRESENT]->(n3:Anatomy)\",\n",
    "        \"questionType\": \"What anatomy expressesed by the gene/protein that affect the transporter of <drug>?\"\n",
    "    },\n",
    "    {\n",
    "        \"pattern\": \"MATCH (n1:Drug)-[r1:TARGET]->(n2:GeneOrProtein)-[r2:INTERACTS_WITH]->(n3:CellularComponent)\",\n",
    "        \"questionType\": \"What cellular component interacts with genes or proteins targeted by <drug>?\"\n",
    "    },\n",
    "    {\n",
    "        \"pattern\": \"MATCH (n1:BiologicalProcess)-[r1:INTERACTS_WITH]->(n2:GeneOrProtein)-[r2:EXPRESSION_ABSENT]->(n3:Anatomy)\",\n",
    "        \"questionType\": \"What anatomy does not express the genes or proteins that interacts with <biological_process>?\"\n",
    "    },\n",
    "    {\n",
    "        \"pattern\": \"MATCH (n1:EffectOrPhenotype)-[r1:ASSOCIATED_WITH]->(n2:GeneOrProtein)-[r2:EXPRESSION_ABSENT]->(n3:Anatomy)\",\n",
    "        \"questionType\": \"What anatomy does not express the genes or proteins associated with <effect/phenotype>?\"\n",
    "    },\n",
    "    {\n",
    "        \"pattern\": \"MATCH (n1:Drug)-[r1:INDICATION]->(n2:Disease)-[r2:INDICATION]->(n3:Drug), (n1:Drug)-[r3:SYNERGISTIC_INTERACTION]->(n3:Drug)\",\n",
    "        \"questionType\": \"Find drugs that has a synergistic interaction with <drug> and both are indicated for the same disease.\"\n",
    "    },\n",
    "    {\n",
    "        \"pattern\": \"MATCH (n1:Pathway)-[r1:INTERACTS_WITH]->(n2:GeneOrProtein)-[r2:INTERACTS_WITH]->(n3:Pathway), (n1:Pathway)-[r3:PARENT_CHILD]->(n3:Pathway)\",\n",
    "        \"questionType\": \"Find pathway that is related with <pathway> and both can [interacts with] the same gene/protein.\"\n",
    "    },\n",
    "    {\n",
    "        \"pattern\": \"MATCH (n1:GeneOrProtein)-[r1:ASSOCIATED_WITH]->(n2:Disease)-[r2:ASSOCIATED_WITH]->(n3:GeneOrProtein), (n1:GeneOrProtein)-[r3:PPI]->(n3:GeneOrProtein)\",\n",
    "        \"questionType\": \"Find gene/protein that can interect with <gene/protein> and both are associated with the same disease.\"\n",
    "    },\n",
    "    {\n",
    "        \"pattern\": \"MATCH (n1:GeneOrProtein)-[r1:ASSOCIATED_WITH]->(n2:EffectOrPhenotype)-[r2:ASSOCIATED_WITH]->(n3:GeneOrProtein), (n1:GeneOrProtein)-[r3:PPI]->(n3:GeneOrProtein)\",\n",
    "        \"questionType\": \"Find gene/protein that can interect with <gene/protein> and both are associated with the same effect/phenotype.\"\n",
    "    }\n",
    "]"
   ],
   "id": "4ba9909ccbccca2e",
   "outputs": [],
   "execution_count": 12
  },
  {
   "metadata": {
    "ExecuteTime": {
     "end_time": "2024-10-20T14:52:15.761901Z",
     "start_time": "2024-10-20T14:52:15.756847Z"
    }
   },
   "cell_type": "code",
   "source": [
    "from langchain_core.prompts import PromptTemplate\n",
    "\n",
    "#TODO: Allow for Creation of New Patterns too\n",
    "MATCH_TEMPLATE = PromptTemplate.from_template(\"\"\"\n",
    "Task: From AccessPatterns, choose a questionType that best matches the Below Question. \n",
    "Return:\n",
    "- the questionType\n",
    "- associated pattern\n",
    "- nodeSearchTerms: For each node in `pattern`, determine if the node requires a specific search phrase/filter based on the question.  Return a separate nodeSearchTerms mapping in the JSON form of {{\"d1\":\"<search_prompt>\",\"d2\":\"<search_prompt>\"...}}  For each node that requires a search phrase/filter. Not all nodes will require one based on the question. Avoid generic filters like \"condition\", \"disease\", or \"pathway\".\n",
    "- goodMatchFound\n",
    "- feedback\n",
    "\n",
    "\n",
    "If no match seems appropriate, provide feedback explaining why. \n",
    "Focus on matching intent and key concepts from the Question.\n",
    "\n",
    "\n",
    "# Question\n",
    "{question}\n",
    "\n",
    "# AccessPatterns\n",
    "{accessPatterns}\n",
    "\n",
    "# Chosen MATCH Statement:\n",
    "\"\"\")"
   ],
   "id": "e99e9bac89179c41",
   "outputs": [],
   "execution_count": 36
  },
  {
   "metadata": {
    "ExecuteTime": {
     "end_time": "2024-10-20T14:52:23.699612Z",
     "start_time": "2024-10-20T14:52:23.653301Z"
    }
   },
   "cell_type": "code",
   "source": [
    "from langchain_openai import ChatOpenAI\n",
    "\n",
    "\n",
    "cypher_llm = ChatOpenAI(\n",
    "    model_name=\"gpt-4o-mini\",\n",
    "    temperature=0, # turning temperature down for more deterministic results\n",
    "    seed=42)"
   ],
   "id": "60fe0c7f394703dd",
   "outputs": [],
   "execution_count": 37
  },
  {
   "metadata": {
    "ExecuteTime": {
     "end_time": "2024-10-20T14:52:24.387214Z",
     "start_time": "2024-10-20T14:52:24.381156Z"
    }
   },
   "cell_type": "code",
   "source": [
    "from typing import Dict\n",
    "from pydantic import BaseModel, Field\n",
    "\n",
    "class AccessPattern(BaseModel):\n",
    "    \"\"\"Access Pattern (Cypher Match Statement)\"\"\"\n",
    "    pattern: str = Field(description=\"The Match statement\")\n",
    "    nodeSearchTerms: str = Field(description=\"Search terms to use for each node, decomposed from the question\")\n",
    "    questionType: str = Field(description=\"the type of question\")\n",
    "    goodMatchFound: bool = Field(description=\"Does the MATCH Statement fit the question well?\")\n",
    "    matchFeedback: str = Field(description=\"feedback explaining why.\")\n",
    "\n",
    "match_llm = cypher_llm.with_structured_output(AccessPattern)"
   ],
   "id": "481c23bab5415609",
   "outputs": [],
   "execution_count": 38
  },
  {
   "metadata": {
    "ExecuteTime": {
     "end_time": "2024-10-20T14:52:25.469279Z",
     "start_time": "2024-10-20T14:52:25.466833Z"
    }
   },
   "cell_type": "code",
   "source": [
    "def gen_match_pattern(question:str):\n",
    "    prompt = MATCH_TEMPLATE.format(question=question, accessPatterns=json.dumps(access_patterns, indent=4), schema=schema)\n",
    "    #print(prompt)\n",
    "    match_pattern = match_llm.invoke(prompt)\n",
    "    return match_pattern"
   ],
   "id": "666cf19a2d1e68c3",
   "outputs": [],
   "execution_count": 39
  },
  {
   "metadata": {
    "ExecuteTime": {
     "end_time": "2024-10-20T14:52:50.770910Z",
     "start_time": "2024-10-20T14:52:25.870214Z"
    }
   },
   "cell_type": "code",
   "source": [
    "# test\n",
    "access_pattern_list = list()\n",
    "for q in qa_dataset.data[\"query\"][:10]:\n",
    "    print('==================')\n",
    "    print(q)\n",
    "    print('----')\n",
    "    ap = gen_match_pattern(q)\n",
    "    access_pattern_list.append(ap)\n",
    "    print(ap)"
   ],
   "id": "b2ecb362d20c90a4",
   "outputs": [
    {
     "name": "stdout",
     "output_type": "stream",
     "text": [
      "==================\n",
      "Could you identify any skin diseases associated with epithelial skin neoplasms? I've observed a tiny, yellowish lesion on sun-exposed areas of my face and neck, and I suspect it might be connected.\n",
      "----\n",
      "pattern='MATCH (n1:Disease)-[r1:PARENT_CHILD]->(n2:Disease)-[r2:PHENOTYPE_PRESENT]->(n3:EffectOrPhenotype)' nodeSearchTerms='{\"n1\":\"skin diseases\",\"n2\":\"epithelial skin neoplasms\",\"n3\":\"lesion\"}' questionType='What effect or phenotype is present in the sub type of <disease>?' goodMatchFound=True matchFeedback='The question is about identifying skin diseases associated with epithelial skin neoplasms, which aligns with the pattern that looks for diseases and their associated phenotypes.'\n",
      "==================\n",
      "What drugs target the CYP3A4 enzyme and are used to treat strongyloidiasis?\n",
      "----\n",
      "pattern='MATCH (n1:Drug)-[r1:TARGET]->(n2:GeneOrProtein)-[r2:ENZYME]->(n3:Drug)' nodeSearchTerms='{\"n1\":\"CYP3A4\",\"n2\":\"strongyloidiasis\"}' questionType='What drugs target the CYP3A4 enzyme and are used to treat strongyloidiasis?' goodMatchFound=True matchFeedback='The chosen pattern directly addresses the question by focusing on drugs that target the CYP3A4 enzyme, which is relevant to the treatment of strongyloidiasis.'\n",
      "==================\n",
      "What is the name of the condition characterized by a complete interruption of the inferior vena cava, falling under congenital vena cava anomalies?\n",
      "----\n",
      "pattern='MATCH (n1:Disease)-[r1:PARENT_CHILD]->(n2:Disease)-[r2:PHENOTYPE_PRESENT]->(n3:EffectOrPhenotype)' nodeSearchTerms='{\"n1\":\"congenital vena cava anomalies\",\"n2\":\"inferior vena cava interruption\",\"n3\":\"condition\"}' questionType='What effect or phenotype is present in the sub type of <disease>?' goodMatchFound=True matchFeedback='The question is asking for a specific condition related to congenital vena cava anomalies, which aligns with the pattern that explores diseases and their associated phenotypes.'\n",
      "==================\n",
      "What drugs are used to treat epithelioid sarcoma and also affect the EZH2 gene product?\n",
      "----\n",
      "pattern='MATCH (n1:Drug)-[r1:CONTRAINDICATION]->(n2:Disease)<-[r2:ASSOCIATED_WITH]-(n3:GeneOrProtein)' nodeSearchTerms='{\"n2\":\"epithelioid sarcoma\",\"n3\":\"EZH2\"}' questionType='Identify diseases associated with <gene/protein> and are contraindicated with <drug>' goodMatchFound=True matchFeedback=\"The chosen pattern effectively identifies drugs that are contraindicated for diseases associated with the EZH2 gene product, which aligns with the question's focus on drugs for epithelioid sarcoma.\"\n",
      "==================\n",
      "Can you supply a compilation of genes and proteins associated with endothelin B receptor interaction, involved in G alpha (q) signaling, and contributing to hypertension and ovulation-related biological functions?\n",
      "----\n",
      "pattern='MATCH (n1:GeneOrProtein)-[r1:ASSOCIATED_WITH]->(n2:EffectOrPhenotype)-[r2:ASSOCIATED_WITH]->(n3:GeneOrProtein), (n1:GeneOrProtein)-[r3:PPI]->(n3:GeneOrProtein)' nodeSearchTerms='{\"n1\":\"endothelin B receptor\",\"n2\":\"G alpha (q) signaling\",\"n3\":\"hypertension, ovulation\"}' questionType='Find gene/protein that can interect with <gene/protein> and both are associated with the same effect/phenotype.' goodMatchFound=True matchFeedback='The chosen pattern effectively captures the relationships between genes/proteins and their associations with biological functions, specifically focusing on the endothelin B receptor and its involvement in G alpha (q) signaling, hypertension, and ovulation.'\n",
      "==================\n",
      "What is the name of the disease that presents with a congenital blockage of the mitral valve and is categorized as a specific subtype or variation of congenital mitral malformation?\n",
      "----\n",
      "pattern='MATCH (n1:Disease)-[r1:PARENT_CHILD]->(n2:Disease)-[r2:PHENOTYPE_PRESENT]->(n3:EffectOrPhenotype)' nodeSearchTerms='{\"n1\":\"congenital blockage of the mitral valve\",\"n2\":\"congenital mitral malformation\",\"n3\":\"specific subtype or variation\"}' questionType='What effect or phenotype is present in the sub type of <disease>?' goodMatchFound=True matchFeedback='The question is asking for a specific disease related to a congenital condition, which aligns well with the pattern that identifies diseases and their subtypes.'\n",
      "==================\n",
      "What is the medical diagnosis for a disorder associated with the FOSB gene, characterized by extreme aggressive episodes and destructive behavior due to poor impulse control, usually beginning after age 6 or during teenage years, with exaggerated verbal and physical reactions to environmental triggers?\n",
      "----\n",
      "pattern='MATCH (n1:GeneOrProtein)-[r1:ASSOCIATED_WITH]->(n2:Disease)-[r2:ASSOCIATED_WITH]->(n3:GeneOrProtein), (n1:GeneOrProtein)-[r3:PPI]->(n3:GeneOrProtein)' nodeSearchTerms='{\"n1\":\"FOSB\",\"n2\":\"disorder characterized by extreme aggressive episodes and destructive behavior due to poor impulse control\"}' questionType='Find gene/protein that can interect with <gene/protein> and both are associated with the same disease.' goodMatchFound=True matchFeedback='The question is focused on identifying a medical diagnosis related to the FOSB gene and its associated disorder, which aligns well with the chosen pattern that connects genes to diseases.'\n",
      "==================\n",
      "What condition is linked to KCNJ2 mutations and features episodic paralysis and hypokalemia, often triggered by hyperthyroidism?\n",
      "----\n",
      "pattern='MATCH (n1:GeneOrProtein)-[r1:ASSOCIATED_WITH]->(n2:Disease)-[r2:ASSOCIATED_WITH]->(n3:GeneOrProtein)' nodeSearchTerms='{\"n1\":\"KCNJ2\",\"n2\":\"episodic paralysis and hypokalemia\"}' questionType='Find gene/protein that can interect with <gene/protein> and both are associated with the same disease.' goodMatchFound=True matchFeedback='The question is focused on identifying a condition (disease) linked to KCNJ2 mutations, which fits well with the pattern that associates genes/proteins with diseases.'\n",
      "==================\n",
      "Please find genes and proteins interacting with the peroxisomal membrane and also involved in inhibiting mitochondrial outer membrane permeabilization, relevant to apoptotic signaling.\n",
      "----\n",
      "pattern='MATCH (n1:GeneOrProtein)-[r1:INTERACTS_WITH]->(n2:CellularComponent)-[r2:INTERACTS_WITH]->(n3:GeneOrProtein)' nodeSearchTerms='{\"n1\":\"peroxisomal membrane\",\"n2\":\"mitochondrial outer membrane\",\"n3\":\"apoptotic signaling\"}' questionType='Find genes and proteins interacting with the peroxisomal membrane and involved in inhibiting mitochondrial outer membrane permeabilization, relevant to apoptotic signaling.' goodMatchFound=True matchFeedback=\"The chosen pattern effectively captures the relationships between genes/proteins and their interactions with cellular components, specifically focusing on the peroxisomal membrane and mitochondrial outer membrane, which aligns with the question's intent.\"\n",
      "==================\n",
      "Which gene or protein is engaged in DCC-mediated attractive signaling, can bind to actin filaments, and belongs to the actin-binding LIM protein family?\n",
      "----\n",
      "pattern='MATCH (n1:GeneOrProtein)-[r1:ASSOCIATED_WITH]->(n2:EffectOrPhenotype)-[r2:ASSOCIATED_WITH]->(n3:GeneOrProtein), (n1:GeneOrProtein)-[r3:PPI]->(n3:GeneOrProtein)' nodeSearchTerms='{\"n1\":\"DCC-mediated attractive signaling\",\"n2\":\"actin filaments\",\"n3\":\"actin-binding LIM protein family\"}' questionType='Find gene/protein that can interect with <gene/protein> and both are associated with the same effect/phenotype.' goodMatchFound=True matchFeedback='The question is focused on identifying a gene or protein involved in specific signaling and binding activities, which aligns well with the chosen pattern that looks for associations between genes/proteins and effects/phenotypes.'\n"
     ]
    }
   ],
   "execution_count": 40
  },
  {
   "metadata": {},
   "cell_type": "markdown",
   "source": "### Cypher Query Maker",
   "id": "f35471bcde5682ed"
  },
  {
   "metadata": {
    "ExecuteTime": {
     "end_time": "2024-10-20T14:48:45.328071Z",
     "start_time": "2024-10-20T14:48:45.323149Z"
    }
   },
   "cell_type": "code",
   "source": [
    "from typing import Tuple, Optional\n",
    "from pydantic import BaseModel\n",
    "import re\n",
    "\n",
    "p=\"(n1:EffectOrPhenotype)-[r1:PHENOTYPE_ABSENT]->(n2:Disease)<-[r2:!INDICATION]-(n3:Drug)\"\n",
    "\n",
    "class Head(BaseModel):\n",
    "    node: str = None\n",
    "    rel: Tuple[str, str, str, str] = None\n",
    "\n",
    "    def from_string(s:str):\n",
    "\n",
    "        if \":\" not in s:\n",
    "            return Head()\n",
    "        else:\n",
    "            node = s[:s.index(\":\")]\n",
    "            rel_pattern = re.findall('\\)(.*)\\[(.*):(.*)](.*)', s)\n",
    "            if len(rel_pattern) > 0:\n",
    "                return Head(node=node, rel=rel_pattern[0])\n",
    "            else:\n",
    "                return Head(node=node)\n",
    "\n",
    "    def make_where_part(self, ind:int) -> str:\n",
    "        return f'(elementId({self.node}) IN nodeIdsLists[{ind}])'\n",
    "\n",
    "\n",
    "    def make_fact_part(self) -> str:\n",
    "        if self.node is None:\n",
    "            return ''\n",
    "        else:\n",
    "            fact_part = f'{self.node}.name +  \"{{\" + \"nodeId:\" + {self.node}.nodeId + \"}}\"'\n",
    "            if self.rel is not None:\n",
    "                fact_part = fact_part + f'+ \" {self.rel[0]} \" + type({self.rel[1]}) + \" {self.rel[3]} \"'\n",
    "\n",
    "        return fact_part\n",
    "\n",
    "    def make_details_part(self) -> str:\n",
    "        return f'collect(DISTINCT {self.node}.name +  \"{{\" + \"nodeId:\" + {self.node}.nodeId + \", details:\" +  {self.node}.details + \"}}\") AS {self.node}TextDetails'\n"
   ],
   "id": "d566c823d41c7899",
   "outputs": [],
   "execution_count": 28
  },
  {
   "metadata": {
    "ExecuteTime": {
     "end_time": "2024-10-20T16:45:16.428898Z",
     "start_time": "2024-10-20T16:45:16.417426Z"
    }
   },
   "cell_type": "code",
   "source": [
    "from typing import List\n",
    "\n",
    "QUERY_START = '''\n",
    "UNWIND $queryVectors AS q\n",
    "CALL(q) {\n",
    "  CALL db.index.vector.queryNodes(\"text_embeddings\", 5000, q.queryVector) YIELD node AS n\n",
    "  WHERE apoc.label.exists(n, q.label)\n",
    "  WITH n LIMIT 100\n",
    "  RETURN collect(elementId(n)) AS nodeIds\n",
    "}\n",
    "WITH collect(nodeIds) AS nodeIdsLists'''\n",
    "\n",
    "def find_label(node:str, pattern: str) -> str:\n",
    "    labels = re.findall(f'\\({node}:(.*?)\\)', pattern)\n",
    "    if len(labels) > 0:\n",
    "        return labels[0]\n",
    "    else:\n",
    "        return '__Entity__'\n",
    "\n",
    "class GraphPattern(BaseModel):\n",
    "    heads: List[Head] = []\n",
    "    nodeSearchPrompts: List[Dict[str, str]] = []\n",
    "    pattern:str\n",
    "\n",
    "    def from_access_pattern(ap: AccessPattern):\n",
    "        node_search_terms: Dict = eval(ap.nodeSearchTerms)\n",
    "        node_search_prompts = [{'searchPrompt':v, 'label':find_label(k, ap.pattern), 'node':k} for k,v in node_search_terms.items()]\n",
    "        return GraphPattern.from_string(s=ap.pattern, node_search_prompts=node_search_prompts)\n",
    "\n",
    "\n",
    "    def from_string(s:str, node_search_prompts: List[Dict[str, str]] = []):\n",
    "        heads = []\n",
    "        for split in s.split(\"(\"):\n",
    "            if len(split) > 0:\n",
    "                h = Head.from_string(split)\n",
    "                if h.node is not None:\n",
    "                    heads.append(Head.from_string(split))\n",
    "        return GraphPattern(heads=heads, pattern=s, nodeSearchPrompts=node_search_prompts)\n",
    "\n",
    "    def make_where(self) -> str:\n",
    "        if len(self.nodeSearchPrompts) < 1:\n",
    "            return ''\n",
    "        res_list = []\n",
    "        filter_nodes = [d['node'] for d in self.nodeSearchPrompts]\n",
    "        nodes_used=[]\n",
    "        iter = 0\n",
    "        for head in self.heads:\n",
    "            if (head.node not in nodes_used) & (head.node in filter_nodes):\n",
    "                res_list.append(head.make_where_part(iter))\n",
    "                nodes_used.append(head.node)\n",
    "                iter+=1\n",
    "        return \"WHERE \" + \" AND \".join(res_list)\n",
    "\n",
    "    def make_facts(self) -> str:\n",
    "        fact_list = []\n",
    "        for head in self.heads:\n",
    "            fact_part = head.make_fact_part()\n",
    "            if len(fact_part) > 1:\n",
    "                fact_list.append(fact_part)\n",
    "        fact_ls = \" + \".join(fact_list)\n",
    "        \n",
    "        return f\"collect({fact_ls}) AS facts\"\n",
    "\n",
    "    def make_details(self) -> str:\n",
    "        res_list = []\n",
    "        nodes_used=[]\n",
    "        for head in self.heads:\n",
    "            if head.node not in nodes_used:\n",
    "                res_list.append(head.make_details_part())\n",
    "                nodes_used.append(head.node)\n",
    "        return \",\\n \".join(res_list)\n",
    "\n",
    "    def make_query(self) -> str:\n",
    "        if len(self.nodeSearchPrompts) < 1:\n",
    "            return f'''\n",
    "{self.pattern}\n",
    "RETURN {self.make_facts()} AS facts,\n",
    "{self.make_details()}\n",
    "'''\n",
    "        return f'''\n",
    "{QUERY_START}\n",
    "{self.pattern}\n",
    "{self.make_where()}\n",
    "RETURN {self.make_facts()},\n",
    "{self.make_details()}\n",
    "'''\n",
    "\n",
    "        "
   ],
   "id": "b86909f3ab37120d",
   "outputs": [],
   "execution_count": 140
  },
  {
   "metadata": {
    "ExecuteTime": {
     "end_time": "2024-10-20T16:45:17.404257Z",
     "start_time": "2024-10-20T16:45:17.401345Z"
    }
   },
   "cell_type": "code",
   "source": "access_pattern_list[3]",
   "id": "1016a54206465a3a",
   "outputs": [
    {
     "data": {
      "text/plain": [
       "AccessPattern(pattern='MATCH (n1:Drug)-[r1:CONTRAINDICATION]->(n2:Disease)<-[r2:ASSOCIATED_WITH]-(n3:GeneOrProtein)', nodeSearchTerms='{\"n2\":\"epithelioid sarcoma\",\"n3\":\"EZH2\"}', questionType='Identify diseases associated with <gene/protein> and are contraindicated with <drug>', goodMatchFound=True, matchFeedback=\"The chosen pattern effectively identifies drugs that are contraindicated for diseases associated with the EZH2 gene product, which aligns with the question's focus on drugs for epithelioid sarcoma.\")"
      ]
     },
     "execution_count": 141,
     "metadata": {},
     "output_type": "execute_result"
    }
   ],
   "execution_count": 141
  },
  {
   "metadata": {
    "ExecuteTime": {
     "end_time": "2024-10-20T16:45:18.409750Z",
     "start_time": "2024-10-20T16:45:18.407651Z"
    }
   },
   "cell_type": "code",
   "source": [
    "access_pattern_ex = access_pattern_list[3]\n",
    "node_search_terms_ex = eval(access_pattern_ex.nodeSearchTerms)"
   ],
   "id": "beb20f9b3a9a3187",
   "outputs": [],
   "execution_count": 142
  },
  {
   "metadata": {
    "ExecuteTime": {
     "end_time": "2024-10-20T16:45:19.551110Z",
     "start_time": "2024-10-20T16:45:19.547256Z"
    }
   },
   "cell_type": "code",
   "source": [
    "# test\n",
    "\n",
    "gp = GraphPattern.from_access_pattern(access_pattern_ex)\n",
    "print(gp.make_query())"
   ],
   "id": "c99cc9d56846ac7",
   "outputs": [
    {
     "name": "stdout",
     "output_type": "stream",
     "text": [
      "\n",
      "\n",
      "UNWIND $queryVectors AS q\n",
      "CALL(q) {\n",
      "  CALL db.index.vector.queryNodes(\"text_embeddings\", 5000, q.queryVector) YIELD node AS n\n",
      "  WHERE apoc.label.exists(n, q.label)\n",
      "  WITH n LIMIT 100\n",
      "  RETURN collect(elementId(n)) AS nodeIds\n",
      "}\n",
      "WITH collect(nodeIds) AS nodeIdsLists\n",
      "MATCH (n1:Drug)-[r1:CONTRAINDICATION]->(n2:Disease)<-[r2:ASSOCIATED_WITH]-(n3:GeneOrProtein)\n",
      "WHERE (elementId(n2) IN nodeIdsLists[0]) AND (elementId(n3) IN nodeIdsLists[1])\n",
      "RETURN collect(n1.name +  \"{\" + \"nodeId:\" + n1.nodeId + \"}\"+ \" - \" + type(r1) + \" -> \" + n2.name +  \"{\" + \"nodeId:\" + n2.nodeId + \"}\"+ \" <- \" + type(r2) + \" - \" + n3.name +  \"{\" + \"nodeId:\" + n3.nodeId + \"}\") AS facts,\n",
      "collect(DISTINCT n1.name +  \"{\" + \"nodeId:\" + n1.nodeId + \", details:\" +  n1.details + \"}\") AS n1TextDetails,\n",
      " collect(DISTINCT n2.name +  \"{\" + \"nodeId:\" + n2.nodeId + \", details:\" +  n2.details + \"}\") AS n2TextDetails,\n",
      " collect(DISTINCT n3.name +  \"{\" + \"nodeId:\" + n3.nodeId + \", details:\" +  n3.details + \"}\") AS n3TextDetails\n",
      "\n"
     ]
    }
   ],
   "execution_count": 143
  },
  {
   "metadata": {
    "ExecuteTime": {
     "end_time": "2024-10-20T16:45:19.881070Z",
     "start_time": "2024-10-20T16:45:19.878787Z"
    }
   },
   "cell_type": "code",
   "source": "gp.nodeSearchPrompts",
   "id": "6058e3ae283f1678",
   "outputs": [
    {
     "data": {
      "text/plain": [
       "[{'searchPrompt': 'epithelioid sarcoma', 'label': 'Disease', 'node': 'n2'},\n",
       " {'searchPrompt': 'EZH2', 'label': 'GeneOrProtein', 'node': 'n3'}]"
      ]
     },
     "execution_count": 144,
     "metadata": {},
     "output_type": "execute_result"
    }
   ],
   "execution_count": 144
  },
  {
   "metadata": {
    "ExecuteTime": {
     "end_time": "2024-10-20T16:45:21.088449Z",
     "start_time": "2024-10-20T16:45:21.085691Z"
    }
   },
   "cell_type": "code",
   "source": [
    "gp = GraphPattern.from_string(p.pattern)\n",
    "print(gp.make_query())\n",
    "print(gp.nodeSearchPrompts)"
   ],
   "id": "f7065d38fc21df6c",
   "outputs": [
    {
     "name": "stdout",
     "output_type": "stream",
     "text": [
      "\n",
      "MATCH (n1:Drug)-[r1:CONTRAINDICATION]->(n2:Disease)<-[r2:ASSOCIATED_WITH]-(n3:GeneOrProtein)\n",
      "RETURN collect(n1.name +  \"{\" + \"nodeId:\" + n1.nodeId + \"}\"+ \" - \" + type(r1) + \" -> \" + n2.name +  \"{\" + \"nodeId:\" + n2.nodeId + \"}\"+ \" <- \" + type(r2) + \" - \" + n3.name +  \"{\" + \"nodeId:\" + n3.nodeId + \"}\") AS facts AS facts,\n",
      "collect(DISTINCT n1.name +  \"{\" + \"nodeId:\" + n1.nodeId + \", details:\" +  n1.details + \"}\") AS n1TextDetails,\n",
      " collect(DISTINCT n2.name +  \"{\" + \"nodeId:\" + n2.nodeId + \", details:\" +  n2.details + \"}\") AS n2TextDetails,\n",
      " collect(DISTINCT n3.name +  \"{\" + \"nodeId:\" + n3.nodeId + \", details:\" +  n3.details + \"}\") AS n3TextDetails\n",
      "\n",
      "[]\n"
     ]
    }
   ],
   "execution_count": 145
  },
  {
   "metadata": {},
   "cell_type": "markdown",
   "source": "### Data Retriever",
   "id": "2ab7d6420055c382"
  },
  {
   "metadata": {
    "ExecuteTime": {
     "end_time": "2024-10-20T16:45:27.253902Z",
     "start_time": "2024-10-20T16:45:23.514706Z"
    }
   },
   "cell_type": "code",
   "source": [
    "from langchain_openai import OpenAIEmbeddings\n",
    "from langchain_community.graphs import Neo4jGraph\n",
    "\n",
    "embedding_model = OpenAIEmbeddings(model=\"text-embedding-ada-002\")\n",
    "graph = Neo4jGraph()\n",
    "\n",
    "def retrieve(gp:GraphPattern):\n",
    "    query_vectors = [{'queryVector':embedding_model.embed_query(sp['searchPrompt']), 'label':sp['label'] } for sp in gp.nodeSearchPrompts]\n",
    "    query_results = graph.query(gp.make_query(), params={\"queryVectors\": query_vectors})\n",
    "    return query_results"
   ],
   "id": "e197cc5c80e2399",
   "outputs": [],
   "execution_count": 146
  },
  {
   "metadata": {
    "ExecuteTime": {
     "end_time": "2024-10-20T16:45:29.544419Z",
     "start_time": "2024-10-20T16:45:27.254739Z"
    }
   },
   "cell_type": "code",
   "source": [
    "gp = GraphPattern.from_access_pattern(access_pattern_ex)\n",
    "retrieve(gp)"
   ],
   "id": "44578b97e7585103",
   "outputs": [
    {
     "data": {
      "text/plain": [
       "[{'facts': [], 'n1TextDetails': [], 'n2TextDetails': [], 'n3TextDetails': []}]"
      ]
     },
     "execution_count": 147,
     "metadata": {},
     "output_type": "execute_result"
    }
   ],
   "execution_count": 147
  },
  {
   "metadata": {
    "ExecuteTime": {
     "end_time": "2024-10-20T16:53:01.105239Z",
     "start_time": "2024-10-20T16:53:01.060160Z"
    }
   },
   "cell_type": "code",
   "source": [
    "PROMPT = PromptTemplate.from_template('''\n",
    "Yu are a medical professional using your expertise to Answer the Question with the following Facts and Details knowledge.\n",
    "\n",
    "Return result as JSON using the following format:\n",
    "{{\"nodeIds\": [list of integer nodeIds containing the correct answers in order of probability highest to smallest], \"explanation\": \"written explanation as to why the node id answers were provided\"}}\n",
    "\n",
    "# Question:\n",
    "{question}\n",
    " \n",
    "# Facts:\n",
    "{facts}\n",
    "\n",
    "# Details\n",
    "{details}\n",
    "\n",
    "# Answer:\n",
    "''')\n",
    "\n",
    "response_llm = ChatOpenAI(\n",
    "    model_name=\"gpt-4o\",\n",
    "    response_format={\"type\": \"json_object\"}, # use json_object formatting for best results\n",
    "    temperature=0, # turning temperature down for more deterministic results\n",
    "    seed=42\n",
    ")\n",
    "\n",
    "\n",
    "def answer(question: str):\n",
    "    \n",
    "    #print(f\"Starting CHain to Answer Question:\\n{question}\")\n",
    "    \n",
    "    #print('\\n\\nFinding Access Pattern')\n",
    "    match_pattern = gen_match_pattern(question)\n",
    "    #print(match_pattern)\n",
    "    \n",
    "    #print(\"\\n\\nCreating Cypher Query Graph Pattern\")\n",
    "    gp = GraphPattern.from_access_pattern(match_pattern)\n",
    "    #print(f\"CypherQuery:\\n{gp.make_query()}\")\n",
    "    #print(f\"SearchPrompts:\\n{gp.nodeSearchPrompts}\")\n",
    "\n",
    "    #print(\"\\n\\nRetrieving Data\")\n",
    "    context = retrieve(gp)\n",
    "    #print(f\"context Len (should be 1): {len(context)}\")\n",
    "    #print(context)\n",
    "    \n",
    "    print(\"\\n\\nGenerating Response\")\n",
    "    if len(context) > 0:\n",
    "        prompt = PROMPT.format(question=question, facts=context[0]['facts'], details={k:v for k,v in context[0].items() if k != 'facts'})\n",
    "    else:\n",
    "        prompt = PROMPT.format(question=question, facts='', details='')\n",
    "    return llm.invoke(prompt), context"
   ],
   "id": "dbc8b845bf2b3ce7",
   "outputs": [],
   "execution_count": 154
  },
  {
   "metadata": {
    "ExecuteTime": {
     "end_time": "2024-10-20T16:54:21.245643Z",
     "start_time": "2024-10-20T16:53:02.383911Z"
    }
   },
   "cell_type": "code",
   "source": [
    "\n",
    "res_list = []\n",
    "for q in qa_dataset.data[\"query\"][:10]:\n",
    "    try:\n",
    "        res, context  = answer(q)\n",
    "        res_list.append((res, context))\n",
    "    except Exception as e:\n",
    "        print(str(e))"
   ],
   "id": "d2da1964a6b6394b",
   "outputs": [
    {
     "name": "stdout",
     "output_type": "stream",
     "text": [
      "\n",
      "\n",
      "Generating Response\n",
      "\n",
      "\n",
      "Generating Response\n",
      "\n",
      "\n",
      "Generating Response\n",
      "\n",
      "\n",
      "Generating Response\n",
      "\n",
      "\n",
      "Generating Response\n",
      "\n",
      "\n",
      "Generating Response\n",
      "\n",
      "\n",
      "Generating Response\n",
      "\n",
      "\n",
      "Generating Response\n",
      "\n",
      "\n",
      "Generating Response\n",
      "\n",
      "\n",
      "Generating Response\n"
     ]
    }
   ],
   "execution_count": 155
  },
  {
   "metadata": {
    "ExecuteTime": {
     "end_time": "2024-10-20T16:54:25.642691Z",
     "start_time": "2024-10-20T16:54:25.640439Z"
    }
   },
   "cell_type": "code",
   "source": [
    "for res in res_list:\n",
    "    print(res[0].content)"
   ],
   "id": "420b25f61db5bf58",
   "outputs": [
    {
     "name": "stdout",
     "output_type": "stream",
     "text": [
      "{\"nodeIds\": [1, 2, 3], \"explanation\": \"The description of a tiny, yellowish lesion on sun-exposed areas of the face and neck is suggestive of a condition known as actinic keratosis, which is a type of epithelial skin neoplasm. Actinic keratosis is a precancerous skin condition caused by long-term exposure to ultraviolet (UV) light, typically from the sun. It is characterized by rough, scaly patches on the skin that can appear yellowish or reddish. This condition is considered a precursor to squamous cell carcinoma, a type of skin cancer. Other epithelial skin neoplasms include basal cell carcinoma and seborrheic keratosis, but the description provided aligns most closely with actinic keratosis. Therefore, the most probable skin disease associated with the described lesion is actinic keratosis, followed by other potential neoplasms like basal cell carcinoma and seborrheic keratosis.\"}\n",
      "{\"nodeIds\": [], \"explanation\": \"Strongyloidiasis is a parasitic infection caused by the nematode Strongyloides stercoralis. The primary treatment for strongyloidiasis is ivermectin, which does not target the CYP3A4 enzyme. Albendazole is another drug that can be used to treat strongyloidiasis, but it also does not specifically target CYP3A4. There are no known drugs that specifically target the CYP3A4 enzyme and are used to treat strongyloidiasis. Therefore, there are no nodeIds to provide as there are no drugs fitting the criteria of targeting CYP3A4 and treating strongyloidiasis.\"}\n",
      "{\"nodeIds\": [], \"explanation\": \"The provided facts and details do not contain information about congenital vena cava anomalies or the specific condition characterized by a complete interruption of the inferior vena cava. The details focus on transposition of the great arteries and related cardiac conditions, which are not directly related to vena cava anomalies. Therefore, no nodeIds from the provided data can be associated with the condition in question.\"}\n",
      "{\"nodeIds\": [1], \"explanation\": \"Tazemetostat is a drug used to treat epithelioid sarcoma and it specifically targets the EZH2 gene product. EZH2 is a histone methyltransferase, and tazemetostat acts as an EZH2 inhibitor, making it effective in treating cancers like epithelioid sarcoma that involve mutations or overexpression of EZH2.\"}\n",
      "{\n",
      "    \"nodeIds\": [101, 102, 103, 104, 105],\n",
      "    \"explanation\": \"The endothelin B receptor (ET_B) is a G protein-coupled receptor that interacts with various genes and proteins involved in G alpha (q) signaling pathways. This signaling is crucial for vascular tone regulation, contributing to hypertension, and is also involved in reproductive processes such as ovulation. Key genes and proteins associated with ET_B receptor interaction include: 1) EDN1 (Endothelin 1), which is a ligand for the ET_B receptor and plays a significant role in vasoconstriction and blood pressure regulation. 2) GNAQ, which encodes the G alpha (q) subunit involved in signal transduction from the ET_B receptor. 3) PLCB1 (Phospholipase C Beta 1), which is activated by G alpha (q) and is involved in the generation of inositol trisphosphate and diacylglycerol, leading to calcium release and protein kinase C activation. 4) NOS3 (Endothelial Nitric Oxide Synthase), which is influenced by ET_B receptor signaling and is important for vasodilation. 5) PTGS2 (Prostaglandin-Endoperoxide Synthase 2), which is involved in the ovulation process and is regulated by ET_B receptor signaling. These components collectively contribute to the physiological processes of hypertension and ovulation.\"\n",
      "}\n",
      "{\"nodeIds\": [], \"explanation\": \"The question asks for the name of a disease that presents with a congenital blockage of the mitral valve and is categorized as a specific subtype or variation of congenital mitral malformation. However, the provided facts and details do not mention any specific disease related to congenital mitral valve malformation. The details provided focus on other congenital heart defects such as Ebstein anomaly, atrioventricular septal defect, and general congenital heart malformations, but none specifically mention a congenital blockage of the mitral valve. Therefore, there is insufficient information to provide a specific nodeId or disease name that matches the description in the question.\"}\n",
      "{\"nodeIds\": [35641], \"explanation\": \"The disorder described in the question is characterized by extreme aggressive episodes, destructive behavior due to poor impulse control, and exaggerated verbal and physical reactions to environmental triggers, beginning after age 6 or during teenage years. The FOSB gene is mentioned in the context of epilepsy (nodeId:35641) in the provided facts. Epilepsy is a neurological disorder that can sometimes be associated with behavioral changes, including aggression and impulse control issues, especially if seizures affect certain areas of the brain. While epilepsy is primarily known for causing seizures, the behavioral symptoms described could be related to the neurological impact of the disorder. Therefore, epilepsy is the most probable diagnosis associated with the FOSB gene in this context.\"}\n",
      "{\"nodeIds\": [27771, 28554, 27428], \"explanation\": \"The condition linked to KCNJ2 mutations that features episodic paralysis and hypokalemia, often triggered by hyperthyroidism, is 'thyrotoxic periodic paralysis' (nodeId: 27771). This condition is characterized by recurrent episodes of paralysis and hypokalemia during a thyrotoxic state, which aligns with the question's description. Additionally, 'thyrotoxic periodic paralysis, susceptibility to' (nodeId: 28554) is also associated with KCNJ2 mutations and involves a similar clinical presentation. 'Hypokalemic periodic paralysis' (nodeId: 27428) is another related condition associated with KCNJ2 mutations, but it is not specifically linked to hyperthyroidism, making it a less likely answer compared to the first two.\"}\n",
      "{\n",
      "  \"nodeIds\": [1920, 643, 7326, 2481, 11369],\n",
      "  \"explanation\": \"The question asks for genes and proteins that interact with the peroxisomal membrane and are involved in inhibiting mitochondrial outer membrane permeabilization, relevant to apoptotic signaling. The relevant genes and proteins are those that are associated with the peroxisomal membrane and have interactions with mitochondrial membranes or are involved in apoptotic signaling pathways. \\n\\n1. PEX11B (nodeId: 1920) is a peroxisomal biogenesis factor that interacts with the peroxisomal membrane and is involved in peroxisome proliferation. It is relevant because it interacts with mitochondrial components and is involved in apoptotic signaling.\\n\\n2. PEX14 (nodeId: 643) is another peroxisomal biogenesis factor that interacts with the peroxisomal membrane and is involved in the import of proteins into peroxisomes. It is relevant due to its interaction with apoptotic signaling pathways.\\n\\n3. PXMP2 (nodeId: 7326) is a peroxisomal membrane protein that is part of a protein-containing complex, indicating its role in membrane interactions, including those with mitochondrial membranes.\\n\\n4. CPT1A (nodeId: 2481) is involved in the mitochondrial oxidation of long-chain fatty acids and interacts with the mitochondrial outer membrane, which is relevant to the inhibition of mitochondrial outer membrane permeabilization.\\n\\n5. POR (nodeId: 11369) is involved in metabolic processes and interacts with the mitochondrial membrane, playing a role in apoptotic signaling pathways.\\n\\nThese selections are based on their roles in peroxisomal and mitochondrial membrane interactions and their involvement in apoptotic signaling pathways.\"\n",
      "}\n",
      "{\"nodeIds\": [1], \"explanation\": \"The gene or protein that is engaged in DCC-mediated attractive signaling, can bind to actin filaments, and belongs to the actin-binding LIM protein family is ABLIM1 (actin-binding LIM protein 1). ABLIM1 is known for its role in actin filament binding and is part of the LIM protein family, which is characterized by the presence of LIM domains that are involved in protein-protein interactions. This makes it a likely candidate for involvement in DCC-mediated signaling pathways.\"}\n"
     ]
    }
   ],
   "execution_count": 156
  },
  {
   "metadata": {
    "ExecuteTime": {
     "end_time": "2024-10-20T16:49:46.166923Z",
     "start_time": "2024-10-20T16:49:46.162636Z"
    }
   },
   "cell_type": "code",
   "source": [
    "for res in res_list:\n",
    "    print(res[1][0]['facts'])"
   ],
   "id": "56bb75cb88267150",
   "outputs": [
    {
     "name": "stdout",
     "output_type": "stream",
     "text": [
      "[]\n",
      "[]\n",
      "['transposition of the great arteries{nodeId:38925} - PARENT_CHILD -> congenitally corrected transposition of the great arteries{nodeId:33170} - PHENOTYPE_PRESENT -> Cardiac conduction abnormality{nodeId:23921}']\n",
      "[]\n",
      "[]\n",
      "['congenital tricuspid malformation{nodeId:33663} - PARENT_CHILD -> Ebstein anomaly (disease){nodeId:28145} - PHENOTYPE_PRESENT -> Fatigue{nodeId:25620}', 'congenital heart disease{nodeId:35453} - PARENT_CHILD -> congenital heart defects, multiple types{nodeId:27908} - PHENOTYPE_PRESENT -> Anxiety{nodeId:22447}', 'atrioventricular septal defect{nodeId:28501} - PARENT_CHILD -> congenital heart defects, multiple types{nodeId:27908} - PHENOTYPE_PRESENT -> Anxiety{nodeId:22447}', 'congenital heart malformation{nodeId:37792} - PARENT_CHILD -> congenital heart defects, multiple types{nodeId:27908} - PHENOTYPE_PRESENT -> Anxiety{nodeId:22447}']\n",
      "['PFKFB3{nodeId:4859} - ASSOCIATED_WITH -> bipolar disorder{nodeId:38242} - ASSOCIATED_WITH -> AKT1{nodeId:1057}PFKFB3{nodeId:4859} - PPI -> AKT1{nodeId:1057}', 'FBP1{nodeId:6933} - ASSOCIATED_WITH -> schizophrenia{nodeId:28313} - ASSOCIATED_WITH -> CSNK1E{nodeId:518}FBP1{nodeId:6933} - PPI -> CSNK1E{nodeId:518}', 'FBP1{nodeId:6933} - ASSOCIATED_WITH -> schizophrenia{nodeId:28313} - ASSOCIATED_WITH -> TLR2{nodeId:1770}FBP1{nodeId:6933} - PPI -> TLR2{nodeId:1770}', 'FBP1{nodeId:6933} - ASSOCIATED_WITH -> schizophrenia{nodeId:28313} - ASSOCIATED_WITH -> APC{nodeId:2037}FBP1{nodeId:6933} - PPI -> APC{nodeId:2037}', 'FBP1{nodeId:6933} - ASSOCIATED_WITH -> schizophrenia{nodeId:28313} - ASSOCIATED_WITH -> DCC{nodeId:4200}FBP1{nodeId:6933} - PPI -> DCC{nodeId:4200}', 'FBP1{nodeId:6933} - ASSOCIATED_WITH -> schizophrenia{nodeId:28313} - ASSOCIATED_WITH -> CCDC68{nodeId:9328}FBP1{nodeId:6933} - PPI -> CCDC68{nodeId:9328}', 'FBXO45{nodeId:33834} - ASSOCIATED_WITH -> schizophrenia{nodeId:28313} - ASSOCIATED_WITH -> PAWR{nodeId:2551}FBXO45{nodeId:33834} - PPI -> PAWR{nodeId:2551}', 'PFKFB3{nodeId:4859} - ASSOCIATED_WITH -> neurotic disorder{nodeId:37703} - ASSOCIATED_WITH -> AKT1{nodeId:1057}PFKFB3{nodeId:4859} - PPI -> AKT1{nodeId:1057}', 'FOS{nodeId:22} - ASSOCIATED_WITH -> epilepsy{nodeId:35641} - ASSOCIATED_WITH -> NOS2{nodeId:373}FOS{nodeId:22} - PPI -> NOS2{nodeId:373}', 'FOS{nodeId:22} - ASSOCIATED_WITH -> epilepsy{nodeId:35641} - ASSOCIATED_WITH -> REST{nodeId:1098}FOS{nodeId:22} - PPI -> REST{nodeId:1098}', 'FOS{nodeId:22} - ASSOCIATED_WITH -> epilepsy{nodeId:35641} - ASSOCIATED_WITH -> CLU{nodeId:1127}FOS{nodeId:22} - PPI -> CLU{nodeId:1127}', 'FOS{nodeId:22} - ASSOCIATED_WITH -> epilepsy{nodeId:35641} - ASSOCIATED_WITH -> APEX1{nodeId:1726}FOS{nodeId:22} - PPI -> APEX1{nodeId:1726}', 'FOS{nodeId:22} - ASSOCIATED_WITH -> epilepsy{nodeId:35641} - ASSOCIATED_WITH -> GAMT{nodeId:1738}FOS{nodeId:22} - PPI -> GAMT{nodeId:1738}', 'FOS{nodeId:22} - ASSOCIATED_WITH -> epilepsy{nodeId:35641} - ASSOCIATED_WITH -> ABCC2{nodeId:3181}FOS{nodeId:22} - PPI -> ABCC2{nodeId:3181}', 'FOS{nodeId:22} - ASSOCIATED_WITH -> epilepsy{nodeId:35641} - ASSOCIATED_WITH -> PTGS2{nodeId:4425}FOS{nodeId:22} - PPI -> PTGS2{nodeId:4425}', 'FOS{nodeId:22} - ASSOCIATED_WITH -> epilepsy{nodeId:35641} - ASSOCIATED_WITH -> FOSB{nodeId:4909}FOS{nodeId:22} - PPI -> FOSB{nodeId:4909}', 'FOS{nodeId:22} - ASSOCIATED_WITH -> epilepsy{nodeId:35641} - ASSOCIATED_WITH -> TXNRD1{nodeId:7089}FOS{nodeId:22} - PPI -> TXNRD1{nodeId:7089}', 'FOS{nodeId:22} - ASSOCIATED_WITH -> epilepsy{nodeId:35641} - ASSOCIATED_WITH -> WDR45{nodeId:9807}FOS{nodeId:22} - PPI -> WDR45{nodeId:9807}', 'FOS{nodeId:22} - ASSOCIATED_WITH -> epilepsy{nodeId:35641} - ASSOCIATED_WITH -> SLC4A10{nodeId:22049}FOS{nodeId:22} - PPI -> SLC4A10{nodeId:22049}', 'FOSB{nodeId:4909} - ASSOCIATED_WITH -> epilepsy{nodeId:35641} - ASSOCIATED_WITH -> FOS{nodeId:22}FOSB{nodeId:4909} - PPI -> FOS{nodeId:22}', 'FBXO40{nodeId:13316} - ASSOCIATED_WITH -> autism spectrum disorder{nodeId:37717} - ASSOCIATED_WITH -> MYO1D{nodeId:1349}FBXO40{nodeId:13316} - PPI -> MYO1D{nodeId:1349}', 'FBP1{nodeId:6933} - ASSOCIATED_WITH -> early-onset parkinsonism-intellectual disability syndrome{nodeId:28974} - ASSOCIATED_WITH -> PRKN{nodeId:1340}FBP1{nodeId:6933} - PPI -> PRKN{nodeId:1340}', 'FKBP4{nodeId:4599} - ASSOCIATED_WITH -> unipolar depression{nodeId:83840} - ASSOCIATED_WITH -> EGFR{nodeId:125}FKBP4{nodeId:4599} - PPI -> EGFR{nodeId:125}', 'FKBP4{nodeId:4599} - ASSOCIATED_WITH -> unipolar depression{nodeId:83840} - ASSOCIATED_WITH -> AR{nodeId:363}FKBP4{nodeId:4599} - PPI -> AR{nodeId:363}', 'FKBP4{nodeId:4599} - ASSOCIATED_WITH -> unipolar depression{nodeId:83840} - ASSOCIATED_WITH -> ESR1{nodeId:375}FKBP4{nodeId:4599} - PPI -> ESR1{nodeId:375}', 'FKBP4{nodeId:4599} - ASSOCIATED_WITH -> unipolar depression{nodeId:83840} - ASSOCIATED_WITH -> NR3C1{nodeId:509}FKBP4{nodeId:4599} - PPI -> NR3C1{nodeId:509}', 'FKBP4{nodeId:4599} - ASSOCIATED_WITH -> unipolar depression{nodeId:83840} - ASSOCIATED_WITH -> MTOR{nodeId:1558}FKBP4{nodeId:4599} - PPI -> MTOR{nodeId:1558}', 'FKBP4{nodeId:4599} - ASSOCIATED_WITH -> unipolar depression{nodeId:83840} - ASSOCIATED_WITH -> HSP90AA1{nodeId:2043}FKBP4{nodeId:4599} - PPI -> HSP90AA1{nodeId:2043}', 'FKBP4{nodeId:4599} - ASSOCIATED_WITH -> unipolar depression{nodeId:83840} - ASSOCIATED_WITH -> NR3C2{nodeId:5248}FKBP4{nodeId:4599} - PPI -> NR3C2{nodeId:5248}', 'PFKFB3{nodeId:4859} - ASSOCIATED_WITH -> unipolar depression{nodeId:83840} - ASSOCIATED_WITH -> AKT1{nodeId:1057}PFKFB3{nodeId:4859} - PPI -> AKT1{nodeId:1057}']\n",
      "['KCNJ2{nodeId:8919} - ASSOCIATED_WITH -> hyperkalemic periodic paralysis{nodeId:28042} - ASSOCIATED_WITH -> KCNJ2{nodeId:8919}', 'KCNJ2{nodeId:8919} - ASSOCIATED_WITH -> hyperkalemic periodic paralysis{nodeId:28042} - ASSOCIATED_WITH -> KCNE3{nodeId:9233}', 'KCNJ2{nodeId:8919} - ASSOCIATED_WITH -> hyperkalemic periodic paralysis{nodeId:28042} - ASSOCIATED_WITH -> CLCN1{nodeId:9652}', 'KCNJ2{nodeId:8919} - ASSOCIATED_WITH -> hyperkalemic periodic paralysis{nodeId:28042} - ASSOCIATED_WITH -> SCN4A{nodeId:11038}', 'KCNE3{nodeId:9233} - ASSOCIATED_WITH -> hyperkalemic periodic paralysis{nodeId:28042} - ASSOCIATED_WITH -> KCNJ2{nodeId:8919}', 'KCNE3{nodeId:9233} - ASSOCIATED_WITH -> hyperkalemic periodic paralysis{nodeId:28042} - ASSOCIATED_WITH -> KCNE3{nodeId:9233}', 'KCNE3{nodeId:9233} - ASSOCIATED_WITH -> hyperkalemic periodic paralysis{nodeId:28042} - ASSOCIATED_WITH -> CLCN1{nodeId:9652}', 'KCNE3{nodeId:9233} - ASSOCIATED_WITH -> hyperkalemic periodic paralysis{nodeId:28042} - ASSOCIATED_WITH -> SCN4A{nodeId:11038}', 'KCNJ2{nodeId:8919} - ASSOCIATED_WITH -> hypokalemic periodic paralysis{nodeId:27428} - ASSOCIATED_WITH -> CACNA1S{nodeId:7024}', 'KCNJ2{nodeId:8919} - ASSOCIATED_WITH -> hypokalemic periodic paralysis{nodeId:27428} - ASSOCIATED_WITH -> ATP1A2{nodeId:7618}', 'KCNJ2{nodeId:8919} - ASSOCIATED_WITH -> hypokalemic periodic paralysis{nodeId:27428} - ASSOCIATED_WITH -> KCNJ2{nodeId:8919}', 'KCNJ2{nodeId:8919} - ASSOCIATED_WITH -> hypokalemic periodic paralysis{nodeId:27428} - ASSOCIATED_WITH -> KCNE3{nodeId:9233}', 'KCNJ2{nodeId:8919} - ASSOCIATED_WITH -> hypokalemic periodic paralysis{nodeId:27428} - ASSOCIATED_WITH -> SCN4A{nodeId:11038}', 'KCNJ2{nodeId:8919} - ASSOCIATED_WITH -> hypokalemic periodic paralysis{nodeId:27428} - ASSOCIATED_WITH -> KCNJ18{nodeId:35100}', 'KCNE3{nodeId:9233} - ASSOCIATED_WITH -> hypokalemic periodic paralysis{nodeId:27428} - ASSOCIATED_WITH -> CACNA1S{nodeId:7024}', 'KCNE3{nodeId:9233} - ASSOCIATED_WITH -> hypokalemic periodic paralysis{nodeId:27428} - ASSOCIATED_WITH -> ATP1A2{nodeId:7618}', 'KCNE3{nodeId:9233} - ASSOCIATED_WITH -> hypokalemic periodic paralysis{nodeId:27428} - ASSOCIATED_WITH -> KCNJ2{nodeId:8919}', 'KCNE3{nodeId:9233} - ASSOCIATED_WITH -> hypokalemic periodic paralysis{nodeId:27428} - ASSOCIATED_WITH -> KCNE3{nodeId:9233}', 'KCNE3{nodeId:9233} - ASSOCIATED_WITH -> hypokalemic periodic paralysis{nodeId:27428} - ASSOCIATED_WITH -> SCN4A{nodeId:11038}', 'KCNE3{nodeId:9233} - ASSOCIATED_WITH -> hypokalemic periodic paralysis{nodeId:27428} - ASSOCIATED_WITH -> KCNJ18{nodeId:35100}', 'KCNJ18{nodeId:35100} - ASSOCIATED_WITH -> hypokalemic periodic paralysis{nodeId:27428} - ASSOCIATED_WITH -> CACNA1S{nodeId:7024}', 'KCNJ18{nodeId:35100} - ASSOCIATED_WITH -> hypokalemic periodic paralysis{nodeId:27428} - ASSOCIATED_WITH -> ATP1A2{nodeId:7618}', 'KCNJ18{nodeId:35100} - ASSOCIATED_WITH -> hypokalemic periodic paralysis{nodeId:27428} - ASSOCIATED_WITH -> KCNJ2{nodeId:8919}', 'KCNJ18{nodeId:35100} - ASSOCIATED_WITH -> hypokalemic periodic paralysis{nodeId:27428} - ASSOCIATED_WITH -> KCNE3{nodeId:9233}', 'KCNJ18{nodeId:35100} - ASSOCIATED_WITH -> hypokalemic periodic paralysis{nodeId:27428} - ASSOCIATED_WITH -> SCN4A{nodeId:11038}', 'KCNJ18{nodeId:35100} - ASSOCIATED_WITH -> hypokalemic periodic paralysis{nodeId:27428} - ASSOCIATED_WITH -> KCNJ18{nodeId:35100}', 'KCNJ2{nodeId:8919} - ASSOCIATED_WITH -> periodic paralysis (disease){nodeId:33647} - ASSOCIATED_WITH -> CACNA1S{nodeId:7024}', 'KCNJ2{nodeId:8919} - ASSOCIATED_WITH -> periodic paralysis (disease){nodeId:33647} - ASSOCIATED_WITH -> ATP1A2{nodeId:7618}', 'KCNJ2{nodeId:8919} - ASSOCIATED_WITH -> periodic paralysis (disease){nodeId:33647} - ASSOCIATED_WITH -> KCNJ2{nodeId:8919}', 'KCNJ2{nodeId:8919} - ASSOCIATED_WITH -> periodic paralysis (disease){nodeId:33647} - ASSOCIATED_WITH -> KCNE3{nodeId:9233}', 'KCNJ2{nodeId:8919} - ASSOCIATED_WITH -> periodic paralysis (disease){nodeId:33647} - ASSOCIATED_WITH -> CLCN1{nodeId:9652}', 'KCNJ2{nodeId:8919} - ASSOCIATED_WITH -> periodic paralysis (disease){nodeId:33647} - ASSOCIATED_WITH -> SCN4A{nodeId:11038}', 'KCNE3{nodeId:9233} - ASSOCIATED_WITH -> periodic paralysis (disease){nodeId:33647} - ASSOCIATED_WITH -> CACNA1S{nodeId:7024}', 'KCNE3{nodeId:9233} - ASSOCIATED_WITH -> periodic paralysis (disease){nodeId:33647} - ASSOCIATED_WITH -> ATP1A2{nodeId:7618}', 'KCNE3{nodeId:9233} - ASSOCIATED_WITH -> periodic paralysis (disease){nodeId:33647} - ASSOCIATED_WITH -> KCNJ2{nodeId:8919}', 'KCNE3{nodeId:9233} - ASSOCIATED_WITH -> periodic paralysis (disease){nodeId:33647} - ASSOCIATED_WITH -> KCNE3{nodeId:9233}', 'KCNE3{nodeId:9233} - ASSOCIATED_WITH -> periodic paralysis (disease){nodeId:33647} - ASSOCIATED_WITH -> CLCN1{nodeId:9652}', 'KCNE3{nodeId:9233} - ASSOCIATED_WITH -> periodic paralysis (disease){nodeId:33647} - ASSOCIATED_WITH -> SCN4A{nodeId:11038}', 'KCNJ2{nodeId:8919} - ASSOCIATED_WITH -> periodic paralysis with transient compartment-like syndrome{nodeId:94964} - ASSOCIATED_WITH -> KCNJ2{nodeId:8919}', 'KCNJ2{nodeId:8919} - ASSOCIATED_WITH -> thyrotoxic periodic paralysis{nodeId:27771} - ASSOCIATED_WITH -> GABRA3{nodeId:928}', 'KCNJ2{nodeId:8919} - ASSOCIATED_WITH -> thyrotoxic periodic paralysis{nodeId:27771} - ASSOCIATED_WITH -> CACNA1S{nodeId:7024}', 'KCNJ2{nodeId:8919} - ASSOCIATED_WITH -> thyrotoxic periodic paralysis{nodeId:27771} - ASSOCIATED_WITH -> KCNJ2{nodeId:8919}', 'KCNJ2{nodeId:8919} - ASSOCIATED_WITH -> thyrotoxic periodic paralysis{nodeId:27771} - ASSOCIATED_WITH -> KCNJ18{nodeId:35100}', 'KCNJ18{nodeId:35100} - ASSOCIATED_WITH -> thyrotoxic periodic paralysis{nodeId:27771} - ASSOCIATED_WITH -> GABRA3{nodeId:928}', 'KCNJ18{nodeId:35100} - ASSOCIATED_WITH -> thyrotoxic periodic paralysis{nodeId:27771} - ASSOCIATED_WITH -> CACNA1S{nodeId:7024}', 'KCNJ18{nodeId:35100} - ASSOCIATED_WITH -> thyrotoxic periodic paralysis{nodeId:27771} - ASSOCIATED_WITH -> KCNJ2{nodeId:8919}', 'KCNJ18{nodeId:35100} - ASSOCIATED_WITH -> thyrotoxic periodic paralysis{nodeId:27771} - ASSOCIATED_WITH -> KCNJ18{nodeId:35100}', 'KCNJ2{nodeId:8919} - ASSOCIATED_WITH -> periodic paralysis with later-onset distal motor neuropathy{nodeId:94963} - ASSOCIATED_WITH -> KCNJ2{nodeId:8919}', 'KCNJ2{nodeId:8919} - ASSOCIATED_WITH -> familial periodic paralysis{nodeId:38419} - ASSOCIATED_WITH -> CACNA1S{nodeId:7024}', 'KCNJ2{nodeId:8919} - ASSOCIATED_WITH -> familial periodic paralysis{nodeId:38419} - ASSOCIATED_WITH -> ATP1A2{nodeId:7618}', 'KCNJ2{nodeId:8919} - ASSOCIATED_WITH -> familial periodic paralysis{nodeId:38419} - ASSOCIATED_WITH -> KCNJ2{nodeId:8919}', 'KCNJ2{nodeId:8919} - ASSOCIATED_WITH -> familial periodic paralysis{nodeId:38419} - ASSOCIATED_WITH -> KCNE3{nodeId:9233}', 'KCNJ2{nodeId:8919} - ASSOCIATED_WITH -> familial periodic paralysis{nodeId:38419} - ASSOCIATED_WITH -> SCN4A{nodeId:11038}', 'KCNJ2{nodeId:8919} - ASSOCIATED_WITH -> familial periodic paralysis{nodeId:38419} - ASSOCIATED_WITH -> KCNJ18{nodeId:35100}', 'KCNE3{nodeId:9233} - ASSOCIATED_WITH -> familial periodic paralysis{nodeId:38419} - ASSOCIATED_WITH -> CACNA1S{nodeId:7024}', 'KCNE3{nodeId:9233} - ASSOCIATED_WITH -> familial periodic paralysis{nodeId:38419} - ASSOCIATED_WITH -> ATP1A2{nodeId:7618}', 'KCNE3{nodeId:9233} - ASSOCIATED_WITH -> familial periodic paralysis{nodeId:38419} - ASSOCIATED_WITH -> KCNJ2{nodeId:8919}', 'KCNE3{nodeId:9233} - ASSOCIATED_WITH -> familial periodic paralysis{nodeId:38419} - ASSOCIATED_WITH -> KCNE3{nodeId:9233}', 'KCNE3{nodeId:9233} - ASSOCIATED_WITH -> familial periodic paralysis{nodeId:38419} - ASSOCIATED_WITH -> SCN4A{nodeId:11038}', 'KCNE3{nodeId:9233} - ASSOCIATED_WITH -> familial periodic paralysis{nodeId:38419} - ASSOCIATED_WITH -> KCNJ18{nodeId:35100}', 'KCNJ18{nodeId:35100} - ASSOCIATED_WITH -> familial periodic paralysis{nodeId:38419} - ASSOCIATED_WITH -> CACNA1S{nodeId:7024}', 'KCNJ18{nodeId:35100} - ASSOCIATED_WITH -> familial periodic paralysis{nodeId:38419} - ASSOCIATED_WITH -> ATP1A2{nodeId:7618}', 'KCNJ18{nodeId:35100} - ASSOCIATED_WITH -> familial periodic paralysis{nodeId:38419} - ASSOCIATED_WITH -> KCNJ2{nodeId:8919}', 'KCNJ18{nodeId:35100} - ASSOCIATED_WITH -> familial periodic paralysis{nodeId:38419} - ASSOCIATED_WITH -> KCNE3{nodeId:9233}', 'KCNJ18{nodeId:35100} - ASSOCIATED_WITH -> familial periodic paralysis{nodeId:38419} - ASSOCIATED_WITH -> SCN4A{nodeId:11038}', 'KCNJ18{nodeId:35100} - ASSOCIATED_WITH -> familial periodic paralysis{nodeId:38419} - ASSOCIATED_WITH -> KCNJ18{nodeId:35100}', 'KCNMA1{nodeId:5345} - ASSOCIATED_WITH -> generalized epilepsy-paroxysmal dyskinesia syndrome{nodeId:28945} - ASSOCIATED_WITH -> CASR{nodeId:574}', 'KCNMA1{nodeId:5345} - ASSOCIATED_WITH -> generalized epilepsy-paroxysmal dyskinesia syndrome{nodeId:28945} - ASSOCIATED_WITH -> CACNB4{nodeId:1049}', 'KCNMA1{nodeId:5345} - ASSOCIATED_WITH -> generalized epilepsy-paroxysmal dyskinesia syndrome{nodeId:28945} - ASSOCIATED_WITH -> KCNMA1{nodeId:5345}', 'KCNMA1{nodeId:5345} - ASSOCIATED_WITH -> generalized epilepsy-paroxysmal dyskinesia syndrome{nodeId:28945} - ASSOCIATED_WITH -> GABRD{nodeId:6963}', 'KCNMA1{nodeId:5345} - ASSOCIATED_WITH -> generalized epilepsy-paroxysmal dyskinesia syndrome{nodeId:28945} - ASSOCIATED_WITH -> SLC2A1{nodeId:8385}', 'KCNMA1{nodeId:5345} - ASSOCIATED_WITH -> generalized epilepsy-paroxysmal dyskinesia syndrome{nodeId:28945} - ASSOCIATED_WITH -> CLCN2{nodeId:9126}', 'KCNMA1{nodeId:5345} - ASSOCIATED_WITH -> generalized epilepsy-paroxysmal dyskinesia syndrome{nodeId:28945} - ASSOCIATED_WITH -> SLC12A5{nodeId:12040}', 'KCNJ18{nodeId:35100} - ASSOCIATED_WITH -> thyrotoxic periodic paralysis, susceptibility to{nodeId:28554} - ASSOCIATED_WITH -> CACNA1S{nodeId:7024}', 'KCNJ18{nodeId:35100} - ASSOCIATED_WITH -> thyrotoxic periodic paralysis, susceptibility to{nodeId:28554} - ASSOCIATED_WITH -> SCN4A{nodeId:11038}', 'KCNJ18{nodeId:35100} - ASSOCIATED_WITH -> thyrotoxic periodic paralysis, susceptibility to{nodeId:28554} - ASSOCIATED_WITH -> KCNJ18{nodeId:35100}', 'KCNC1{nodeId:11096} - ASSOCIATED_WITH -> progressive myoclonic epilepsy{nodeId:27651} - ASSOCIATED_WITH -> CASR{nodeId:574}', 'KCNC1{nodeId:11096} - ASSOCIATED_WITH -> progressive myoclonic epilepsy{nodeId:27651} - ASSOCIATED_WITH -> CACNB4{nodeId:1049}', 'KCNC1{nodeId:11096} - ASSOCIATED_WITH -> progressive myoclonic epilepsy{nodeId:27651} - ASSOCIATED_WITH -> CILK1{nodeId:1175}', 'KCNC1{nodeId:11096} - ASSOCIATED_WITH -> progressive myoclonic epilepsy{nodeId:27651} - ASSOCIATED_WITH -> GOSR2{nodeId:1185}', 'KCNC1{nodeId:11096} - ASSOCIATED_WITH -> progressive myoclonic epilepsy{nodeId:27651} - ASSOCIATED_WITH -> TSC1{nodeId:2005}', 'KCNC1{nodeId:11096} - ASSOCIATED_WITH -> progressive myoclonic epilepsy{nodeId:27651} - ASSOCIATED_WITH -> ATN1{nodeId:2308}', 'KCNC1{nodeId:11096} - ASSOCIATED_WITH -> progressive myoclonic epilepsy{nodeId:27651} - ASSOCIATED_WITH -> SERPINI1{nodeId:2370}', 'KCNC1{nodeId:11096} - ASSOCIATED_WITH -> progressive myoclonic epilepsy{nodeId:27651} - ASSOCIATED_WITH -> JRK{nodeId:3118}', 'KCNC1{nodeId:11096} - ASSOCIATED_WITH -> progressive myoclonic epilepsy{nodeId:27651} - ASSOCIATED_WITH -> CERS1{nodeId:3263}', 'KCNC1{nodeId:11096} - ASSOCIATED_WITH -> progressive myoclonic epilepsy{nodeId:27651} - ASSOCIATED_WITH -> NEU1{nodeId:3775}', 'KCNC1{nodeId:11096} - ASSOCIATED_WITH -> progressive myoclonic epilepsy{nodeId:27651} - ASSOCIATED_WITH -> EPM2A{nodeId:4058}', 'KCNC1{nodeId:11096} - ASSOCIATED_WITH -> progressive myoclonic epilepsy{nodeId:27651} - ASSOCIATED_WITH -> EFHC1{nodeId:4677}', 'KCNC1{nodeId:11096} - ASSOCIATED_WITH -> progressive myoclonic epilepsy{nodeId:27651} - ASSOCIATED_WITH -> CSTB{nodeId:5141}', 'KCNC1{nodeId:11096} - ASSOCIATED_WITH -> progressive myoclonic epilepsy{nodeId:27651} - ASSOCIATED_WITH -> CHD2{nodeId:6110}', 'KCNC1{nodeId:11096} - ASSOCIATED_WITH -> progressive myoclonic epilepsy{nodeId:27651} - ASSOCIATED_WITH -> SCARB2{nodeId:6723}', 'KCNC1{nodeId:11096} - ASSOCIATED_WITH -> progressive myoclonic epilepsy{nodeId:27651} - ASSOCIATED_WITH -> GABRA1{nodeId:6808}', 'KCNC1{nodeId:11096} - ASSOCIATED_WITH -> progressive myoclonic epilepsy{nodeId:27651} - ASSOCIATED_WITH -> PRNP{nodeId:6940}', 'KCNC1{nodeId:11096} - ASSOCIATED_WITH -> progressive myoclonic epilepsy{nodeId:27651} - ASSOCIATED_WITH -> GABRD{nodeId:6963}', 'KCNC1{nodeId:11096} - ASSOCIATED_WITH -> progressive myoclonic epilepsy{nodeId:27651} - ASSOCIATED_WITH -> AFG3L2{nodeId:7291}', 'KCNC1{nodeId:11096} - ASSOCIATED_WITH -> progressive myoclonic epilepsy{nodeId:27651} - ASSOCIATED_WITH -> LMNB2{nodeId:8055}', 'KCNC1{nodeId:11096} - ASSOCIATED_WITH -> progressive myoclonic epilepsy{nodeId:27651} - ASSOCIATED_WITH -> SLC2A1{nodeId:8385}', 'KCNC1{nodeId:11096} - ASSOCIATED_WITH -> progressive myoclonic epilepsy{nodeId:27651} - ASSOCIATED_WITH -> CLCN2{nodeId:9126}', 'KCNC1{nodeId:11096} - ASSOCIATED_WITH -> progressive myoclonic epilepsy{nodeId:27651} - ASSOCIATED_WITH -> CLN6{nodeId:9154}', 'KCNC1{nodeId:11096} - ASSOCIATED_WITH -> progressive myoclonic epilepsy{nodeId:27651} - ASSOCIATED_WITH -> KCTD7{nodeId:9901}', 'KCNC1{nodeId:11096} - ASSOCIATED_WITH -> progressive myoclonic epilepsy{nodeId:27651} - ASSOCIATED_WITH -> KCNC1{nodeId:11096}', 'KCNC1{nodeId:11096} - ASSOCIATED_WITH -> progressive myoclonic epilepsy{nodeId:27651} - ASSOCIATED_WITH -> SLC12A5{nodeId:12040}', 'KCNC1{nodeId:11096} - ASSOCIATED_WITH -> progressive myoclonic epilepsy{nodeId:27651} - ASSOCIATED_WITH -> PRDM8{nodeId:12361}', 'KCNC1{nodeId:11096} - ASSOCIATED_WITH -> progressive myoclonic epilepsy{nodeId:27651} - ASSOCIATED_WITH -> SACS{nodeId:12927}', 'KCNC1{nodeId:11096} - ASSOCIATED_WITH -> progressive myoclonic epilepsy{nodeId:27651} - ASSOCIATED_WITH -> TBC1D24{nodeId:13188}', 'KCNC1{nodeId:11096} - ASSOCIATED_WITH -> progressive myoclonic epilepsy{nodeId:27651} - ASSOCIATED_WITH -> KCNQ3{nodeId:13872}', 'KCNC1{nodeId:11096} - ASSOCIATED_WITH -> progressive myoclonic epilepsy{nodeId:27651} - ASSOCIATED_WITH -> NHLRC1{nodeId:35118}', 'KCNC1{nodeId:11096} - ASSOCIATED_WITH -> progressive myoclonic epilepsy{nodeId:27651} - ASSOCIATED_WITH -> PRICKLE1{nodeId:35119}', 'KCNQ3{nodeId:13872} - ASSOCIATED_WITH -> progressive myoclonic epilepsy{nodeId:27651} - ASSOCIATED_WITH -> CASR{nodeId:574}', 'KCNQ3{nodeId:13872} - ASSOCIATED_WITH -> progressive myoclonic epilepsy{nodeId:27651} - ASSOCIATED_WITH -> CACNB4{nodeId:1049}', 'KCNQ3{nodeId:13872} - ASSOCIATED_WITH -> progressive myoclonic epilepsy{nodeId:27651} - ASSOCIATED_WITH -> CILK1{nodeId:1175}', 'KCNQ3{nodeId:13872} - ASSOCIATED_WITH -> progressive myoclonic epilepsy{nodeId:27651} - ASSOCIATED_WITH -> GOSR2{nodeId:1185}', 'KCNQ3{nodeId:13872} - ASSOCIATED_WITH -> progressive myoclonic epilepsy{nodeId:27651} - ASSOCIATED_WITH -> TSC1{nodeId:2005}', 'KCNQ3{nodeId:13872} - ASSOCIATED_WITH -> progressive myoclonic epilepsy{nodeId:27651} - ASSOCIATED_WITH -> ATN1{nodeId:2308}', 'KCNQ3{nodeId:13872} - ASSOCIATED_WITH -> progressive myoclonic epilepsy{nodeId:27651} - ASSOCIATED_WITH -> SERPINI1{nodeId:2370}', 'KCNQ3{nodeId:13872} - ASSOCIATED_WITH -> progressive myoclonic epilepsy{nodeId:27651} - ASSOCIATED_WITH -> JRK{nodeId:3118}', 'KCNQ3{nodeId:13872} - ASSOCIATED_WITH -> progressive myoclonic epilepsy{nodeId:27651} - ASSOCIATED_WITH -> CERS1{nodeId:3263}', 'KCNQ3{nodeId:13872} - ASSOCIATED_WITH -> progressive myoclonic epilepsy{nodeId:27651} - ASSOCIATED_WITH -> NEU1{nodeId:3775}', 'KCNQ3{nodeId:13872} - ASSOCIATED_WITH -> progressive myoclonic epilepsy{nodeId:27651} - ASSOCIATED_WITH -> EPM2A{nodeId:4058}', 'KCNQ3{nodeId:13872} - ASSOCIATED_WITH -> progressive myoclonic epilepsy{nodeId:27651} - ASSOCIATED_WITH -> EFHC1{nodeId:4677}', 'KCNQ3{nodeId:13872} - ASSOCIATED_WITH -> progressive myoclonic epilepsy{nodeId:27651} - ASSOCIATED_WITH -> CSTB{nodeId:5141}', 'KCNQ3{nodeId:13872} - ASSOCIATED_WITH -> progressive myoclonic epilepsy{nodeId:27651} - ASSOCIATED_WITH -> CHD2{nodeId:6110}', 'KCNQ3{nodeId:13872} - ASSOCIATED_WITH -> progressive myoclonic epilepsy{nodeId:27651} - ASSOCIATED_WITH -> SCARB2{nodeId:6723}', 'KCNQ3{nodeId:13872} - ASSOCIATED_WITH -> progressive myoclonic epilepsy{nodeId:27651} - ASSOCIATED_WITH -> GABRA1{nodeId:6808}', 'KCNQ3{nodeId:13872} - ASSOCIATED_WITH -> progressive myoclonic epilepsy{nodeId:27651} - ASSOCIATED_WITH -> PRNP{nodeId:6940}', 'KCNQ3{nodeId:13872} - ASSOCIATED_WITH -> progressive myoclonic epilepsy{nodeId:27651} - ASSOCIATED_WITH -> GABRD{nodeId:6963}', 'KCNQ3{nodeId:13872} - ASSOCIATED_WITH -> progressive myoclonic epilepsy{nodeId:27651} - ASSOCIATED_WITH -> AFG3L2{nodeId:7291}', 'KCNQ3{nodeId:13872} - ASSOCIATED_WITH -> progressive myoclonic epilepsy{nodeId:27651} - ASSOCIATED_WITH -> LMNB2{nodeId:8055}', 'KCNQ3{nodeId:13872} - ASSOCIATED_WITH -> progressive myoclonic epilepsy{nodeId:27651} - ASSOCIATED_WITH -> SLC2A1{nodeId:8385}', 'KCNQ3{nodeId:13872} - ASSOCIATED_WITH -> progressive myoclonic epilepsy{nodeId:27651} - ASSOCIATED_WITH -> CLCN2{nodeId:9126}', 'KCNQ3{nodeId:13872} - ASSOCIATED_WITH -> progressive myoclonic epilepsy{nodeId:27651} - ASSOCIATED_WITH -> CLN6{nodeId:9154}', 'KCNQ3{nodeId:13872} - ASSOCIATED_WITH -> progressive myoclonic epilepsy{nodeId:27651} - ASSOCIATED_WITH -> KCTD7{nodeId:9901}', 'KCNQ3{nodeId:13872} - ASSOCIATED_WITH -> progressive myoclonic epilepsy{nodeId:27651} - ASSOCIATED_WITH -> KCNC1{nodeId:11096}', 'KCNQ3{nodeId:13872} - ASSOCIATED_WITH -> progressive myoclonic epilepsy{nodeId:27651} - ASSOCIATED_WITH -> SLC12A5{nodeId:12040}', 'KCNQ3{nodeId:13872} - ASSOCIATED_WITH -> progressive myoclonic epilepsy{nodeId:27651} - ASSOCIATED_WITH -> PRDM8{nodeId:12361}', 'KCNQ3{nodeId:13872} - ASSOCIATED_WITH -> progressive myoclonic epilepsy{nodeId:27651} - ASSOCIATED_WITH -> SACS{nodeId:12927}', 'KCNQ3{nodeId:13872} - ASSOCIATED_WITH -> progressive myoclonic epilepsy{nodeId:27651} - ASSOCIATED_WITH -> TBC1D24{nodeId:13188}', 'KCNQ3{nodeId:13872} - ASSOCIATED_WITH -> progressive myoclonic epilepsy{nodeId:27651} - ASSOCIATED_WITH -> KCNQ3{nodeId:13872}', 'KCNQ3{nodeId:13872} - ASSOCIATED_WITH -> progressive myoclonic epilepsy{nodeId:27651} - ASSOCIATED_WITH -> NHLRC1{nodeId:35118}', 'KCNQ3{nodeId:13872} - ASSOCIATED_WITH -> progressive myoclonic epilepsy{nodeId:27651} - ASSOCIATED_WITH -> PRICKLE1{nodeId:35119}']\n",
      "['TOMM34{nodeId:2048} - INTERACTS_WITH -> mitochondrial outer membrane{nodeId:126093} - INTERACTS_WITH -> CASP8{nodeId:116}', 'TOMM20{nodeId:2219} - INTERACTS_WITH -> mitochondrial outer membrane{nodeId:126093} - INTERACTS_WITH -> CASP8{nodeId:116}', 'CPT1A{nodeId:2481} - INTERACTS_WITH -> mitochondrial outer membrane{nodeId:126093} - INTERACTS_WITH -> CASP8{nodeId:116}', 'TOMM40{nodeId:2665} - INTERACTS_WITH -> mitochondrial outer membrane{nodeId:126093} - INTERACTS_WITH -> CASP8{nodeId:116}', 'TOMM22{nodeId:6932} - INTERACTS_WITH -> mitochondrial outer membrane{nodeId:126093} - INTERACTS_WITH -> CASP8{nodeId:116}', 'ATP5MC3{nodeId:11970} - INTERACTS_WITH -> mitochondrial outer membrane{nodeId:126093} - INTERACTS_WITH -> CASP8{nodeId:116}', 'GPAM{nodeId:34528} - INTERACTS_WITH -> mitochondrial outer membrane{nodeId:126093} - INTERACTS_WITH -> CASP8{nodeId:116}', 'C11orf65{nodeId:57122} - INTERACTS_WITH -> mitochondrial outer membrane{nodeId:126093} - INTERACTS_WITH -> CASP8{nodeId:116}', 'TOMM5{nodeId:60505} - INTERACTS_WITH -> mitochondrial outer membrane{nodeId:126093} - INTERACTS_WITH -> CASP8{nodeId:116}', 'TOMM34{nodeId:2048} - INTERACTS_WITH -> mitochondrial outer membrane{nodeId:126093} - INTERACTS_WITH -> BCL2L2{nodeId:536}', 'TOMM20{nodeId:2219} - INTERACTS_WITH -> mitochondrial outer membrane{nodeId:126093} - INTERACTS_WITH -> BCL2L2{nodeId:536}', 'CPT1A{nodeId:2481} - INTERACTS_WITH -> mitochondrial outer membrane{nodeId:126093} - INTERACTS_WITH -> BCL2L2{nodeId:536}', 'TOMM40{nodeId:2665} - INTERACTS_WITH -> mitochondrial outer membrane{nodeId:126093} - INTERACTS_WITH -> BCL2L2{nodeId:536}', 'TOMM22{nodeId:6932} - INTERACTS_WITH -> mitochondrial outer membrane{nodeId:126093} - INTERACTS_WITH -> BCL2L2{nodeId:536}', 'ATP5MC3{nodeId:11970} - INTERACTS_WITH -> mitochondrial outer membrane{nodeId:126093} - INTERACTS_WITH -> BCL2L2{nodeId:536}', 'GPAM{nodeId:34528} - INTERACTS_WITH -> mitochondrial outer membrane{nodeId:126093} - INTERACTS_WITH -> BCL2L2{nodeId:536}', 'C11orf65{nodeId:57122} - INTERACTS_WITH -> mitochondrial outer membrane{nodeId:126093} - INTERACTS_WITH -> BCL2L2{nodeId:536}', 'TOMM5{nodeId:60505} - INTERACTS_WITH -> mitochondrial outer membrane{nodeId:126093} - INTERACTS_WITH -> BCL2L2{nodeId:536}', 'TOMM34{nodeId:2048} - INTERACTS_WITH -> mitochondrial outer membrane{nodeId:126093} - INTERACTS_WITH -> BAX{nodeId:1139}', 'TOMM20{nodeId:2219} - INTERACTS_WITH -> mitochondrial outer membrane{nodeId:126093} - INTERACTS_WITH -> BAX{nodeId:1139}', 'CPT1A{nodeId:2481} - INTERACTS_WITH -> mitochondrial outer membrane{nodeId:126093} - INTERACTS_WITH -> BAX{nodeId:1139}', 'TOMM40{nodeId:2665} - INTERACTS_WITH -> mitochondrial outer membrane{nodeId:126093} - INTERACTS_WITH -> BAX{nodeId:1139}', 'TOMM22{nodeId:6932} - INTERACTS_WITH -> mitochondrial outer membrane{nodeId:126093} - INTERACTS_WITH -> BAX{nodeId:1139}', 'ATP5MC3{nodeId:11970} - INTERACTS_WITH -> mitochondrial outer membrane{nodeId:126093} - INTERACTS_WITH -> BAX{nodeId:1139}', 'GPAM{nodeId:34528} - INTERACTS_WITH -> mitochondrial outer membrane{nodeId:126093} - INTERACTS_WITH -> BAX{nodeId:1139}', 'C11orf65{nodeId:57122} - INTERACTS_WITH -> mitochondrial outer membrane{nodeId:126093} - INTERACTS_WITH -> BAX{nodeId:1139}', 'TOMM5{nodeId:60505} - INTERACTS_WITH -> mitochondrial outer membrane{nodeId:126093} - INTERACTS_WITH -> BAX{nodeId:1139}', 'TOMM34{nodeId:2048} - INTERACTS_WITH -> mitochondrial outer membrane{nodeId:126093} - INTERACTS_WITH -> BNIP3{nodeId:1310}', 'TOMM20{nodeId:2219} - INTERACTS_WITH -> mitochondrial outer membrane{nodeId:126093} - INTERACTS_WITH -> BNIP3{nodeId:1310}', 'CPT1A{nodeId:2481} - INTERACTS_WITH -> mitochondrial outer membrane{nodeId:126093} - INTERACTS_WITH -> BNIP3{nodeId:1310}', 'TOMM40{nodeId:2665} - INTERACTS_WITH -> mitochondrial outer membrane{nodeId:126093} - INTERACTS_WITH -> BNIP3{nodeId:1310}', 'TOMM22{nodeId:6932} - INTERACTS_WITH -> mitochondrial outer membrane{nodeId:126093} - INTERACTS_WITH -> BNIP3{nodeId:1310}', 'ATP5MC3{nodeId:11970} - INTERACTS_WITH -> mitochondrial outer membrane{nodeId:126093} - INTERACTS_WITH -> BNIP3{nodeId:1310}', 'GPAM{nodeId:34528} - INTERACTS_WITH -> mitochondrial outer membrane{nodeId:126093} - INTERACTS_WITH -> BNIP3{nodeId:1310}', 'C11orf65{nodeId:57122} - INTERACTS_WITH -> mitochondrial outer membrane{nodeId:126093} - INTERACTS_WITH -> BNIP3{nodeId:1310}', 'TOMM5{nodeId:60505} - INTERACTS_WITH -> mitochondrial outer membrane{nodeId:126093} - INTERACTS_WITH -> BNIP3{nodeId:1310}', 'TOMM34{nodeId:2048} - INTERACTS_WITH -> mitochondrial outer membrane{nodeId:126093} - INTERACTS_WITH -> PMAIP1{nodeId:1929}', 'TOMM20{nodeId:2219} - INTERACTS_WITH -> mitochondrial outer membrane{nodeId:126093} - INTERACTS_WITH -> PMAIP1{nodeId:1929}', 'CPT1A{nodeId:2481} - INTERACTS_WITH -> mitochondrial outer membrane{nodeId:126093} - INTERACTS_WITH -> PMAIP1{nodeId:1929}', 'TOMM40{nodeId:2665} - INTERACTS_WITH -> mitochondrial outer membrane{nodeId:126093} - INTERACTS_WITH -> PMAIP1{nodeId:1929}', 'TOMM22{nodeId:6932} - INTERACTS_WITH -> mitochondrial outer membrane{nodeId:126093} - INTERACTS_WITH -> PMAIP1{nodeId:1929}', 'ATP5MC3{nodeId:11970} - INTERACTS_WITH -> mitochondrial outer membrane{nodeId:126093} - INTERACTS_WITH -> PMAIP1{nodeId:1929}', 'GPAM{nodeId:34528} - INTERACTS_WITH -> mitochondrial outer membrane{nodeId:126093} - INTERACTS_WITH -> PMAIP1{nodeId:1929}', 'C11orf65{nodeId:57122} - INTERACTS_WITH -> mitochondrial outer membrane{nodeId:126093} - INTERACTS_WITH -> PMAIP1{nodeId:1929}', 'TOMM5{nodeId:60505} - INTERACTS_WITH -> mitochondrial outer membrane{nodeId:126093} - INTERACTS_WITH -> PMAIP1{nodeId:1929}', 'TOMM34{nodeId:2048} - INTERACTS_WITH -> mitochondrial outer membrane{nodeId:126093} - INTERACTS_WITH -> BCL2{nodeId:2429}', 'TOMM20{nodeId:2219} - INTERACTS_WITH -> mitochondrial outer membrane{nodeId:126093} - INTERACTS_WITH -> BCL2{nodeId:2429}', 'CPT1A{nodeId:2481} - INTERACTS_WITH -> mitochondrial outer membrane{nodeId:126093} - INTERACTS_WITH -> BCL2{nodeId:2429}', 'TOMM40{nodeId:2665} - INTERACTS_WITH -> mitochondrial outer membrane{nodeId:126093} - INTERACTS_WITH -> BCL2{nodeId:2429}', 'TOMM22{nodeId:6932} - INTERACTS_WITH -> mitochondrial outer membrane{nodeId:126093} - INTERACTS_WITH -> BCL2{nodeId:2429}', 'ATP5MC3{nodeId:11970} - INTERACTS_WITH -> mitochondrial outer membrane{nodeId:126093} - INTERACTS_WITH -> BCL2{nodeId:2429}', 'GPAM{nodeId:34528} - INTERACTS_WITH -> mitochondrial outer membrane{nodeId:126093} - INTERACTS_WITH -> BCL2{nodeId:2429}', 'C11orf65{nodeId:57122} - INTERACTS_WITH -> mitochondrial outer membrane{nodeId:126093} - INTERACTS_WITH -> BCL2{nodeId:2429}', 'TOMM5{nodeId:60505} - INTERACTS_WITH -> mitochondrial outer membrane{nodeId:126093} - INTERACTS_WITH -> BCL2{nodeId:2429}', 'TOMM34{nodeId:2048} - INTERACTS_WITH -> mitochondrial outer membrane{nodeId:126093} - INTERACTS_WITH -> BAD{nodeId:4060}', 'TOMM20{nodeId:2219} - INTERACTS_WITH -> mitochondrial outer membrane{nodeId:126093} - INTERACTS_WITH -> BAD{nodeId:4060}', 'CPT1A{nodeId:2481} - INTERACTS_WITH -> mitochondrial outer membrane{nodeId:126093} - INTERACTS_WITH -> BAD{nodeId:4060}', 'TOMM40{nodeId:2665} - INTERACTS_WITH -> mitochondrial outer membrane{nodeId:126093} - INTERACTS_WITH -> BAD{nodeId:4060}', 'TOMM22{nodeId:6932} - INTERACTS_WITH -> mitochondrial outer membrane{nodeId:126093} - INTERACTS_WITH -> BAD{nodeId:4060}', 'ATP5MC3{nodeId:11970} - INTERACTS_WITH -> mitochondrial outer membrane{nodeId:126093} - INTERACTS_WITH -> BAD{nodeId:4060}', 'GPAM{nodeId:34528} - INTERACTS_WITH -> mitochondrial outer membrane{nodeId:126093} - INTERACTS_WITH -> BAD{nodeId:4060}', 'C11orf65{nodeId:57122} - INTERACTS_WITH -> mitochondrial outer membrane{nodeId:126093} - INTERACTS_WITH -> BAD{nodeId:4060}', 'TOMM5{nodeId:60505} - INTERACTS_WITH -> mitochondrial outer membrane{nodeId:126093} - INTERACTS_WITH -> BAD{nodeId:4060}', 'TOMM34{nodeId:2048} - INTERACTS_WITH -> mitochondrial outer membrane{nodeId:126093} - INTERACTS_WITH -> BCL2L11{nodeId:4295}', 'TOMM20{nodeId:2219} - INTERACTS_WITH -> mitochondrial outer membrane{nodeId:126093} - INTERACTS_WITH -> BCL2L11{nodeId:4295}', 'CPT1A{nodeId:2481} - INTERACTS_WITH -> mitochondrial outer membrane{nodeId:126093} - INTERACTS_WITH -> BCL2L11{nodeId:4295}', 'TOMM40{nodeId:2665} - INTERACTS_WITH -> mitochondrial outer membrane{nodeId:126093} - INTERACTS_WITH -> BCL2L11{nodeId:4295}', 'TOMM22{nodeId:6932} - INTERACTS_WITH -> mitochondrial outer membrane{nodeId:126093} - INTERACTS_WITH -> BCL2L11{nodeId:4295}', 'ATP5MC3{nodeId:11970} - INTERACTS_WITH -> mitochondrial outer membrane{nodeId:126093} - INTERACTS_WITH -> BCL2L11{nodeId:4295}', 'GPAM{nodeId:34528} - INTERACTS_WITH -> mitochondrial outer membrane{nodeId:126093} - INTERACTS_WITH -> BCL2L11{nodeId:4295}', 'C11orf65{nodeId:57122} - INTERACTS_WITH -> mitochondrial outer membrane{nodeId:126093} - INTERACTS_WITH -> BCL2L11{nodeId:4295}', 'TOMM5{nodeId:60505} - INTERACTS_WITH -> mitochondrial outer membrane{nodeId:126093} - INTERACTS_WITH -> BCL2L11{nodeId:4295}', 'TOMM34{nodeId:2048} - INTERACTS_WITH -> mitochondrial outer membrane{nodeId:126093} - INTERACTS_WITH -> BCL2L1{nodeId:4323}', 'TOMM20{nodeId:2219} - INTERACTS_WITH -> mitochondrial outer membrane{nodeId:126093} - INTERACTS_WITH -> BCL2L1{nodeId:4323}', 'CPT1A{nodeId:2481} - INTERACTS_WITH -> mitochondrial outer membrane{nodeId:126093} - INTERACTS_WITH -> BCL2L1{nodeId:4323}', 'TOMM40{nodeId:2665} - INTERACTS_WITH -> mitochondrial outer membrane{nodeId:126093} - INTERACTS_WITH -> BCL2L1{nodeId:4323}', 'TOMM22{nodeId:6932} - INTERACTS_WITH -> mitochondrial outer membrane{nodeId:126093} - INTERACTS_WITH -> BCL2L1{nodeId:4323}', 'ATP5MC3{nodeId:11970} - INTERACTS_WITH -> mitochondrial outer membrane{nodeId:126093} - INTERACTS_WITH -> BCL2L1{nodeId:4323}', 'GPAM{nodeId:34528} - INTERACTS_WITH -> mitochondrial outer membrane{nodeId:126093} - INTERACTS_WITH -> BCL2L1{nodeId:4323}', 'C11orf65{nodeId:57122} - INTERACTS_WITH -> mitochondrial outer membrane{nodeId:126093} - INTERACTS_WITH -> BCL2L1{nodeId:4323}', 'TOMM5{nodeId:60505} - INTERACTS_WITH -> mitochondrial outer membrane{nodeId:126093} - INTERACTS_WITH -> BCL2L1{nodeId:4323}', 'TOMM34{nodeId:2048} - INTERACTS_WITH -> mitochondrial outer membrane{nodeId:126093} - INTERACTS_WITH -> BOK{nodeId:6030}', 'TOMM20{nodeId:2219} - INTERACTS_WITH -> mitochondrial outer membrane{nodeId:126093} - INTERACTS_WITH -> BOK{nodeId:6030}', 'CPT1A{nodeId:2481} - INTERACTS_WITH -> mitochondrial outer membrane{nodeId:126093} - INTERACTS_WITH -> BOK{nodeId:6030}', 'TOMM40{nodeId:2665} - INTERACTS_WITH -> mitochondrial outer membrane{nodeId:126093} - INTERACTS_WITH -> BOK{nodeId:6030}', 'TOMM22{nodeId:6932} - INTERACTS_WITH -> mitochondrial outer membrane{nodeId:126093} - INTERACTS_WITH -> BOK{nodeId:6030}', 'ATP5MC3{nodeId:11970} - INTERACTS_WITH -> mitochondrial outer membrane{nodeId:126093} - INTERACTS_WITH -> BOK{nodeId:6030}', 'GPAM{nodeId:34528} - INTERACTS_WITH -> mitochondrial outer membrane{nodeId:126093} - INTERACTS_WITH -> BOK{nodeId:6030}', 'C11orf65{nodeId:57122} - INTERACTS_WITH -> mitochondrial outer membrane{nodeId:126093} - INTERACTS_WITH -> BOK{nodeId:6030}', 'TOMM5{nodeId:60505} - INTERACTS_WITH -> mitochondrial outer membrane{nodeId:126093} - INTERACTS_WITH -> BOK{nodeId:6030}', 'TOMM34{nodeId:2048} - INTERACTS_WITH -> mitochondrial outer membrane{nodeId:126093} - INTERACTS_WITH -> BNIP3L{nodeId:7262}', 'TOMM20{nodeId:2219} - INTERACTS_WITH -> mitochondrial outer membrane{nodeId:126093} - INTERACTS_WITH -> BNIP3L{nodeId:7262}', 'CPT1A{nodeId:2481} - INTERACTS_WITH -> mitochondrial outer membrane{nodeId:126093} - INTERACTS_WITH -> BNIP3L{nodeId:7262}', 'TOMM40{nodeId:2665} - INTERACTS_WITH -> mitochondrial outer membrane{nodeId:126093} - INTERACTS_WITH -> BNIP3L{nodeId:7262}', 'TOMM22{nodeId:6932} - INTERACTS_WITH -> mitochondrial outer membrane{nodeId:126093} - INTERACTS_WITH -> BNIP3L{nodeId:7262}', 'ATP5MC3{nodeId:11970} - INTERACTS_WITH -> mitochondrial outer membrane{nodeId:126093} - INTERACTS_WITH -> BNIP3L{nodeId:7262}', 'GPAM{nodeId:34528} - INTERACTS_WITH -> mitochondrial outer membrane{nodeId:126093} - INTERACTS_WITH -> BNIP3L{nodeId:7262}', 'C11orf65{nodeId:57122} - INTERACTS_WITH -> mitochondrial outer membrane{nodeId:126093} - INTERACTS_WITH -> BNIP3L{nodeId:7262}', 'TOMM5{nodeId:60505} - INTERACTS_WITH -> mitochondrial outer membrane{nodeId:126093} - INTERACTS_WITH -> BNIP3L{nodeId:7262}', 'TOMM34{nodeId:2048} - INTERACTS_WITH -> mitochondrial outer membrane{nodeId:126093} - INTERACTS_WITH -> BCL2L10{nodeId:9633}', 'TOMM20{nodeId:2219} - INTERACTS_WITH -> mitochondrial outer membrane{nodeId:126093} - INTERACTS_WITH -> BCL2L10{nodeId:9633}', 'CPT1A{nodeId:2481} - INTERACTS_WITH -> mitochondrial outer membrane{nodeId:126093} - INTERACTS_WITH -> BCL2L10{nodeId:9633}', 'TOMM40{nodeId:2665} - INTERACTS_WITH -> mitochondrial outer membrane{nodeId:126093} - INTERACTS_WITH -> BCL2L10{nodeId:9633}', 'TOMM22{nodeId:6932} - INTERACTS_WITH -> mitochondrial outer membrane{nodeId:126093} - INTERACTS_WITH -> BCL2L10{nodeId:9633}', 'ATP5MC3{nodeId:11970} - INTERACTS_WITH -> mitochondrial outer membrane{nodeId:126093} - INTERACTS_WITH -> BCL2L10{nodeId:9633}', 'GPAM{nodeId:34528} - INTERACTS_WITH -> mitochondrial outer membrane{nodeId:126093} - INTERACTS_WITH -> BCL2L10{nodeId:9633}', 'C11orf65{nodeId:57122} - INTERACTS_WITH -> mitochondrial outer membrane{nodeId:126093} - INTERACTS_WITH -> BCL2L10{nodeId:9633}', 'TOMM5{nodeId:60505} - INTERACTS_WITH -> mitochondrial outer membrane{nodeId:126093} - INTERACTS_WITH -> BCL2L10{nodeId:9633}', 'TOMM34{nodeId:2048} - INTERACTS_WITH -> mitochondrial outer membrane{nodeId:126093} - INTERACTS_WITH -> MOAP1{nodeId:9865}', 'TOMM20{nodeId:2219} - INTERACTS_WITH -> mitochondrial outer membrane{nodeId:126093} - INTERACTS_WITH -> MOAP1{nodeId:9865}', 'CPT1A{nodeId:2481} - INTERACTS_WITH -> mitochondrial outer membrane{nodeId:126093} - INTERACTS_WITH -> MOAP1{nodeId:9865}', 'TOMM40{nodeId:2665} - INTERACTS_WITH -> mitochondrial outer membrane{nodeId:126093} - INTERACTS_WITH -> MOAP1{nodeId:9865}', 'TOMM22{nodeId:6932} - INTERACTS_WITH -> mitochondrial outer membrane{nodeId:126093} - INTERACTS_WITH -> MOAP1{nodeId:9865}', 'ATP5MC3{nodeId:11970} - INTERACTS_WITH -> mitochondrial outer membrane{nodeId:126093} - INTERACTS_WITH -> MOAP1{nodeId:9865}', 'GPAM{nodeId:34528} - INTERACTS_WITH -> mitochondrial outer membrane{nodeId:126093} - INTERACTS_WITH -> MOAP1{nodeId:9865}', 'C11orf65{nodeId:57122} - INTERACTS_WITH -> mitochondrial outer membrane{nodeId:126093} - INTERACTS_WITH -> MOAP1{nodeId:9865}', 'TOMM5{nodeId:60505} - INTERACTS_WITH -> mitochondrial outer membrane{nodeId:126093} - INTERACTS_WITH -> MOAP1{nodeId:9865}', 'TOMM20{nodeId:2219} - INTERACTS_WITH -> integral component of mitochondrial outer membrane{nodeId:126097} - INTERACTS_WITH -> BNIP3{nodeId:1310}', 'CPT1A{nodeId:2481} - INTERACTS_WITH -> integral component of mitochondrial outer membrane{nodeId:126097} - INTERACTS_WITH -> BNIP3{nodeId:1310}', 'TOMM40{nodeId:2665} - INTERACTS_WITH -> integral component of mitochondrial outer membrane{nodeId:126097} - INTERACTS_WITH -> BNIP3{nodeId:1310}', 'TOMM20L{nodeId:12446} - INTERACTS_WITH -> integral component of mitochondrial outer membrane{nodeId:126097} - INTERACTS_WITH -> BNIP3{nodeId:1310}', 'TOMM20{nodeId:2219} - INTERACTS_WITH -> mitochondria-associated endoplasmic reticulum membrane{nodeId:126447} - INTERACTS_WITH -> BCL2L10{nodeId:9633}', 'TOMM40{nodeId:2665} - INTERACTS_WITH -> mitochondria-associated endoplasmic reticulum membrane{nodeId:126447} - INTERACTS_WITH -> BCL2L10{nodeId:9633}', 'MBOAT7{nodeId:7464} - INTERACTS_WITH -> mitochondria-associated endoplasmic reticulum membrane{nodeId:126447} - INTERACTS_WITH -> BCL2L10{nodeId:9633}', 'TMEM41B{nodeId:57508} - INTERACTS_WITH -> mitochondria-associated endoplasmic reticulum membrane{nodeId:126447} - INTERACTS_WITH -> BCL2L10{nodeId:9633}', 'IMMT{nodeId:1916} - INTERACTS_WITH -> mitochondrial inner membrane{nodeId:126092} - INTERACTS_WITH -> AIFM1{nodeId:679}', 'TOMM40{nodeId:2665} - INTERACTS_WITH -> mitochondrial inner membrane{nodeId:126092} - INTERACTS_WITH -> AIFM1{nodeId:679}', 'TIMM44{nodeId:4009} - INTERACTS_WITH -> mitochondrial inner membrane{nodeId:126092} - INTERACTS_WITH -> AIFM1{nodeId:679}', 'ATP5MF{nodeId:6126} - INTERACTS_WITH -> mitochondrial inner membrane{nodeId:126092} - INTERACTS_WITH -> AIFM1{nodeId:679}', 'STOML2{nodeId:6281} - INTERACTS_WITH -> mitochondrial inner membrane{nodeId:126092} - INTERACTS_WITH -> AIFM1{nodeId:679}', 'MPV17{nodeId:7084} - INTERACTS_WITH -> mitochondrial inner membrane{nodeId:126092} - INTERACTS_WITH -> AIFM1{nodeId:679}', 'TIMM8A{nodeId:7814} - INTERACTS_WITH -> mitochondrial inner membrane{nodeId:126092} - INTERACTS_WITH -> AIFM1{nodeId:679}', 'TIMM50{nodeId:8191} - INTERACTS_WITH -> mitochondrial inner membrane{nodeId:126092} - INTERACTS_WITH -> AIFM1{nodeId:679}', 'TIMM22{nodeId:8574} - INTERACTS_WITH -> mitochondrial inner membrane{nodeId:126092} - INTERACTS_WITH -> AIFM1{nodeId:679}', 'TAMM41{nodeId:11309} - INTERACTS_WITH -> mitochondrial inner membrane{nodeId:126092} - INTERACTS_WITH -> AIFM1{nodeId:679}', 'TIMM9{nodeId:11671} - INTERACTS_WITH -> mitochondrial inner membrane{nodeId:126092} - INTERACTS_WITH -> AIFM1{nodeId:679}', 'SMIM20{nodeId:57447} - INTERACTS_WITH -> mitochondrial inner membrane{nodeId:126092} - INTERACTS_WITH -> AIFM1{nodeId:679}', 'MPV17L2{nodeId:60368} - INTERACTS_WITH -> mitochondrial inner membrane{nodeId:126092} - INTERACTS_WITH -> AIFM1{nodeId:679}', 'IMMT{nodeId:1916} - INTERACTS_WITH -> mitochondrial inner membrane{nodeId:126092} - INTERACTS_WITH -> STAT3{nodeId:729}', 'TOMM40{nodeId:2665} - INTERACTS_WITH -> mitochondrial inner membrane{nodeId:126092} - INTERACTS_WITH -> STAT3{nodeId:729}', 'TIMM44{nodeId:4009} - INTERACTS_WITH -> mitochondrial inner membrane{nodeId:126092} - INTERACTS_WITH -> STAT3{nodeId:729}', 'ATP5MF{nodeId:6126} - INTERACTS_WITH -> mitochondrial inner membrane{nodeId:126092} - INTERACTS_WITH -> STAT3{nodeId:729}', 'STOML2{nodeId:6281} - INTERACTS_WITH -> mitochondrial inner membrane{nodeId:126092} - INTERACTS_WITH -> STAT3{nodeId:729}', 'MPV17{nodeId:7084} - INTERACTS_WITH -> mitochondrial inner membrane{nodeId:126092} - INTERACTS_WITH -> STAT3{nodeId:729}', 'TIMM8A{nodeId:7814} - INTERACTS_WITH -> mitochondrial inner membrane{nodeId:126092} - INTERACTS_WITH -> STAT3{nodeId:729}', 'TIMM50{nodeId:8191} - INTERACTS_WITH -> mitochondrial inner membrane{nodeId:126092} - INTERACTS_WITH -> STAT3{nodeId:729}', 'TIMM22{nodeId:8574} - INTERACTS_WITH -> mitochondrial inner membrane{nodeId:126092} - INTERACTS_WITH -> STAT3{nodeId:729}', 'TAMM41{nodeId:11309} - INTERACTS_WITH -> mitochondrial inner membrane{nodeId:126092} - INTERACTS_WITH -> STAT3{nodeId:729}', 'TIMM9{nodeId:11671} - INTERACTS_WITH -> mitochondrial inner membrane{nodeId:126092} - INTERACTS_WITH -> STAT3{nodeId:729}', 'SMIM20{nodeId:57447} - INTERACTS_WITH -> mitochondrial inner membrane{nodeId:126092} - INTERACTS_WITH -> STAT3{nodeId:729}', 'MPV17L2{nodeId:60368} - INTERACTS_WITH -> mitochondrial inner membrane{nodeId:126092} - INTERACTS_WITH -> STAT3{nodeId:729}', 'IMMT{nodeId:1916} - INTERACTS_WITH -> mitochondrial inner membrane{nodeId:126092} - INTERACTS_WITH -> BCL2L1{nodeId:4323}', 'TOMM40{nodeId:2665} - INTERACTS_WITH -> mitochondrial inner membrane{nodeId:126092} - INTERACTS_WITH -> BCL2L1{nodeId:4323}', 'TIMM44{nodeId:4009} - INTERACTS_WITH -> mitochondrial inner membrane{nodeId:126092} - INTERACTS_WITH -> BCL2L1{nodeId:4323}', 'ATP5MF{nodeId:6126} - INTERACTS_WITH -> mitochondrial inner membrane{nodeId:126092} - INTERACTS_WITH -> BCL2L1{nodeId:4323}', 'STOML2{nodeId:6281} - INTERACTS_WITH -> mitochondrial inner membrane{nodeId:126092} - INTERACTS_WITH -> BCL2L1{nodeId:4323}', 'MPV17{nodeId:7084} - INTERACTS_WITH -> mitochondrial inner membrane{nodeId:126092} - INTERACTS_WITH -> BCL2L1{nodeId:4323}', 'TIMM8A{nodeId:7814} - INTERACTS_WITH -> mitochondrial inner membrane{nodeId:126092} - INTERACTS_WITH -> BCL2L1{nodeId:4323}', 'TIMM50{nodeId:8191} - INTERACTS_WITH -> mitochondrial inner membrane{nodeId:126092} - INTERACTS_WITH -> BCL2L1{nodeId:4323}', 'TIMM22{nodeId:8574} - INTERACTS_WITH -> mitochondrial inner membrane{nodeId:126092} - INTERACTS_WITH -> BCL2L1{nodeId:4323}', 'TAMM41{nodeId:11309} - INTERACTS_WITH -> mitochondrial inner membrane{nodeId:126092} - INTERACTS_WITH -> BCL2L1{nodeId:4323}', 'TIMM9{nodeId:11671} - INTERACTS_WITH -> mitochondrial inner membrane{nodeId:126092} - INTERACTS_WITH -> BCL2L1{nodeId:4323}', 'SMIM20{nodeId:57447} - INTERACTS_WITH -> mitochondrial inner membrane{nodeId:126092} - INTERACTS_WITH -> BCL2L1{nodeId:4323}', 'MPV17L2{nodeId:60368} - INTERACTS_WITH -> mitochondrial inner membrane{nodeId:126092} - INTERACTS_WITH -> BCL2L1{nodeId:4323}', 'IMMT{nodeId:1916} - INTERACTS_WITH -> mitochondrial inner membrane{nodeId:126092} - INTERACTS_WITH -> BOK{nodeId:6030}', 'TOMM40{nodeId:2665} - INTERACTS_WITH -> mitochondrial inner membrane{nodeId:126092} - INTERACTS_WITH -> BOK{nodeId:6030}', 'TIMM44{nodeId:4009} - INTERACTS_WITH -> mitochondrial inner membrane{nodeId:126092} - INTERACTS_WITH -> BOK{nodeId:6030}', 'ATP5MF{nodeId:6126} - INTERACTS_WITH -> mitochondrial inner membrane{nodeId:126092} - INTERACTS_WITH -> BOK{nodeId:6030}', 'STOML2{nodeId:6281} - INTERACTS_WITH -> mitochondrial inner membrane{nodeId:126092} - INTERACTS_WITH -> BOK{nodeId:6030}', 'MPV17{nodeId:7084} - INTERACTS_WITH -> mitochondrial inner membrane{nodeId:126092} - INTERACTS_WITH -> BOK{nodeId:6030}', 'TIMM8A{nodeId:7814} - INTERACTS_WITH -> mitochondrial inner membrane{nodeId:126092} - INTERACTS_WITH -> BOK{nodeId:6030}', 'TIMM50{nodeId:8191} - INTERACTS_WITH -> mitochondrial inner membrane{nodeId:126092} - INTERACTS_WITH -> BOK{nodeId:6030}', 'TIMM22{nodeId:8574} - INTERACTS_WITH -> mitochondrial inner membrane{nodeId:126092} - INTERACTS_WITH -> BOK{nodeId:6030}', 'TAMM41{nodeId:11309} - INTERACTS_WITH -> mitochondrial inner membrane{nodeId:126092} - INTERACTS_WITH -> BOK{nodeId:6030}', 'TIMM9{nodeId:11671} - INTERACTS_WITH -> mitochondrial inner membrane{nodeId:126092} - INTERACTS_WITH -> BOK{nodeId:6030}', 'SMIM20{nodeId:57447} - INTERACTS_WITH -> mitochondrial inner membrane{nodeId:126092} - INTERACTS_WITH -> BOK{nodeId:6030}', 'MPV17L2{nodeId:60368} - INTERACTS_WITH -> mitochondrial inner membrane{nodeId:126092} - INTERACTS_WITH -> BOK{nodeId:6030}', 'IMMT{nodeId:1916} - INTERACTS_WITH -> mitochondrial inner membrane{nodeId:126092} - INTERACTS_WITH -> DELE1{nodeId:9481}', 'TOMM40{nodeId:2665} - INTERACTS_WITH -> mitochondrial inner membrane{nodeId:126092} - INTERACTS_WITH -> DELE1{nodeId:9481}', 'TIMM44{nodeId:4009} - INTERACTS_WITH -> mitochondrial inner membrane{nodeId:126092} - INTERACTS_WITH -> DELE1{nodeId:9481}', 'ATP5MF{nodeId:6126} - INTERACTS_WITH -> mitochondrial inner membrane{nodeId:126092} - INTERACTS_WITH -> DELE1{nodeId:9481}', 'STOML2{nodeId:6281} - INTERACTS_WITH -> mitochondrial inner membrane{nodeId:126092} - INTERACTS_WITH -> DELE1{nodeId:9481}', 'MPV17{nodeId:7084} - INTERACTS_WITH -> mitochondrial inner membrane{nodeId:126092} - INTERACTS_WITH -> DELE1{nodeId:9481}', 'TIMM8A{nodeId:7814} - INTERACTS_WITH -> mitochondrial inner membrane{nodeId:126092} - INTERACTS_WITH -> DELE1{nodeId:9481}', 'TIMM50{nodeId:8191} - INTERACTS_WITH -> mitochondrial inner membrane{nodeId:126092} - INTERACTS_WITH -> DELE1{nodeId:9481}', 'TIMM22{nodeId:8574} - INTERACTS_WITH -> mitochondrial inner membrane{nodeId:126092} - INTERACTS_WITH -> DELE1{nodeId:9481}', 'TAMM41{nodeId:11309} - INTERACTS_WITH -> mitochondrial inner membrane{nodeId:126092} - INTERACTS_WITH -> DELE1{nodeId:9481}', 'TIMM9{nodeId:11671} - INTERACTS_WITH -> mitochondrial inner membrane{nodeId:126092} - INTERACTS_WITH -> DELE1{nodeId:9481}', 'SMIM20{nodeId:57447} - INTERACTS_WITH -> mitochondrial inner membrane{nodeId:126092} - INTERACTS_WITH -> DELE1{nodeId:9481}', 'MPV17L2{nodeId:60368} - INTERACTS_WITH -> mitochondrial inner membrane{nodeId:126092} - INTERACTS_WITH -> DELE1{nodeId:9481}', 'IMMT{nodeId:1916} - INTERACTS_WITH -> mitochondrial inner membrane{nodeId:126092} - INTERACTS_WITH -> AIFM3{nodeId:58080}', 'TOMM40{nodeId:2665} - INTERACTS_WITH -> mitochondrial inner membrane{nodeId:126092} - INTERACTS_WITH -> AIFM3{nodeId:58080}', 'TIMM44{nodeId:4009} - INTERACTS_WITH -> mitochondrial inner membrane{nodeId:126092} - INTERACTS_WITH -> AIFM3{nodeId:58080}', 'ATP5MF{nodeId:6126} - INTERACTS_WITH -> mitochondrial inner membrane{nodeId:126092} - INTERACTS_WITH -> AIFM3{nodeId:58080}', 'STOML2{nodeId:6281} - INTERACTS_WITH -> mitochondrial inner membrane{nodeId:126092} - INTERACTS_WITH -> AIFM3{nodeId:58080}', 'MPV17{nodeId:7084} - INTERACTS_WITH -> mitochondrial inner membrane{nodeId:126092} - INTERACTS_WITH -> AIFM3{nodeId:58080}', 'TIMM8A{nodeId:7814} - INTERACTS_WITH -> mitochondrial inner membrane{nodeId:126092} - INTERACTS_WITH -> AIFM3{nodeId:58080}', 'TIMM50{nodeId:8191} - INTERACTS_WITH -> mitochondrial inner membrane{nodeId:126092} - INTERACTS_WITH -> AIFM3{nodeId:58080}', 'TIMM22{nodeId:8574} - INTERACTS_WITH -> mitochondrial inner membrane{nodeId:126092} - INTERACTS_WITH -> AIFM3{nodeId:58080}', 'TAMM41{nodeId:11309} - INTERACTS_WITH -> mitochondrial inner membrane{nodeId:126092} - INTERACTS_WITH -> AIFM3{nodeId:58080}', 'TIMM9{nodeId:11671} - INTERACTS_WITH -> mitochondrial inner membrane{nodeId:126092} - INTERACTS_WITH -> AIFM3{nodeId:58080}', 'SMIM20{nodeId:57447} - INTERACTS_WITH -> mitochondrial inner membrane{nodeId:126092} - INTERACTS_WITH -> AIFM3{nodeId:58080}', 'MPV17L2{nodeId:60368} - INTERACTS_WITH -> mitochondrial inner membrane{nodeId:126092} - INTERACTS_WITH -> AIFM3{nodeId:58080}', 'OXA1L{nodeId:486} - INTERACTS_WITH -> mitochondrial membrane{nodeId:55888} - INTERACTS_WITH -> BNIP3{nodeId:1310}', 'TMEM14A{nodeId:5094} - INTERACTS_WITH -> mitochondrial membrane{nodeId:55888} - INTERACTS_WITH -> BNIP3{nodeId:1310}', 'ABHD6{nodeId:8199} - INTERACTS_WITH -> mitochondrial membrane{nodeId:55888} - INTERACTS_WITH -> BNIP3{nodeId:1310}', 'GPAM{nodeId:34528} - INTERACTS_WITH -> mitochondrial membrane{nodeId:55888} - INTERACTS_WITH -> BNIP3{nodeId:1310}', 'TMEM135{nodeId:34800} - INTERACTS_WITH -> mitochondrial membrane{nodeId:55888} - INTERACTS_WITH -> BNIP3{nodeId:1310}', 'OXA1L{nodeId:486} - INTERACTS_WITH -> mitochondrial membrane{nodeId:55888} - INTERACTS_WITH -> BOK{nodeId:6030}', 'TMEM14A{nodeId:5094} - INTERACTS_WITH -> mitochondrial membrane{nodeId:55888} - INTERACTS_WITH -> BOK{nodeId:6030}', 'ABHD6{nodeId:8199} - INTERACTS_WITH -> mitochondrial membrane{nodeId:55888} - INTERACTS_WITH -> BOK{nodeId:6030}', 'GPAM{nodeId:34528} - INTERACTS_WITH -> mitochondrial membrane{nodeId:55888} - INTERACTS_WITH -> BOK{nodeId:6030}', 'TMEM135{nodeId:34800} - INTERACTS_WITH -> mitochondrial membrane{nodeId:55888} - INTERACTS_WITH -> BOK{nodeId:6030}', 'IMMT{nodeId:1916} - INTERACTS_WITH -> mitochondrial intermembrane space{nodeId:127215} - INTERACTS_WITH -> AIFM1{nodeId:679}', 'STOML2{nodeId:6281} - INTERACTS_WITH -> mitochondrial intermembrane space{nodeId:127215} - INTERACTS_WITH -> AIFM1{nodeId:679}', 'TIMM8A{nodeId:7814} - INTERACTS_WITH -> mitochondrial intermembrane space{nodeId:127215} - INTERACTS_WITH -> AIFM1{nodeId:679}', 'TIMM9{nodeId:11671} - INTERACTS_WITH -> mitochondrial intermembrane space{nodeId:127215} - INTERACTS_WITH -> AIFM1{nodeId:679}', 'IMMT{nodeId:1916} - INTERACTS_WITH -> mitochondrial intermembrane space{nodeId:127215} - INTERACTS_WITH -> TRIAP1{nodeId:8734}', 'STOML2{nodeId:6281} - INTERACTS_WITH -> mitochondrial intermembrane space{nodeId:127215} - INTERACTS_WITH -> TRIAP1{nodeId:8734}', 'TIMM8A{nodeId:7814} - INTERACTS_WITH -> mitochondrial intermembrane space{nodeId:127215} - INTERACTS_WITH -> TRIAP1{nodeId:8734}', 'TIMM9{nodeId:11671} - INTERACTS_WITH -> mitochondrial intermembrane space{nodeId:127215} - INTERACTS_WITH -> TRIAP1{nodeId:8734}', 'IMMT{nodeId:1916} - INTERACTS_WITH -> mitochondrial intermembrane space{nodeId:127215} - INTERACTS_WITH -> CIAPIN1{nodeId:10078}', 'STOML2{nodeId:6281} - INTERACTS_WITH -> mitochondrial intermembrane space{nodeId:127215} - INTERACTS_WITH -> CIAPIN1{nodeId:10078}', 'TIMM8A{nodeId:7814} - INTERACTS_WITH -> mitochondrial intermembrane space{nodeId:127215} - INTERACTS_WITH -> CIAPIN1{nodeId:10078}', 'TIMM9{nodeId:11671} - INTERACTS_WITH -> mitochondrial intermembrane space{nodeId:127215} - INTERACTS_WITH -> CIAPIN1{nodeId:10078}', 'OXA1L{nodeId:486} - INTERACTS_WITH -> mitochondrion{nodeId:125013} - INTERACTS_WITH -> CASP8{nodeId:116}', 'IMMT{nodeId:1916} - INTERACTS_WITH -> mitochondrion{nodeId:125013} - INTERACTS_WITH -> CASP8{nodeId:116}', 'PEX11B{nodeId:1920} - INTERACTS_WITH -> mitochondrion{nodeId:125013} - INTERACTS_WITH -> CASP8{nodeId:116}', 'TOMM34{nodeId:2048} - INTERACTS_WITH -> mitochondrion{nodeId:125013} - INTERACTS_WITH -> CASP8{nodeId:116}', 'TOMM20{nodeId:2219} - INTERACTS_WITH -> mitochondrion{nodeId:125013} - INTERACTS_WITH -> CASP8{nodeId:116}', 'CPT1A{nodeId:2481} - INTERACTS_WITH -> mitochondrion{nodeId:125013} - INTERACTS_WITH -> CASP8{nodeId:116}', 'TOMM40{nodeId:2665} - INTERACTS_WITH -> mitochondrion{nodeId:125013} - INTERACTS_WITH -> CASP8{nodeId:116}', 'TIMM44{nodeId:4009} - INTERACTS_WITH -> mitochondrion{nodeId:125013} - INTERACTS_WITH -> CASP8{nodeId:116}', 'ATP5MF{nodeId:6126} - INTERACTS_WITH -> mitochondrion{nodeId:125013} - INTERACTS_WITH -> CASP8{nodeId:116}', 'TMEM11{nodeId:6242} - INTERACTS_WITH -> mitochondrion{nodeId:125013} - INTERACTS_WITH -> CASP8{nodeId:116}', 'TOMM22{nodeId:6932} - INTERACTS_WITH -> mitochondrion{nodeId:125013} - INTERACTS_WITH -> CASP8{nodeId:116}', 'MPV17{nodeId:7084} - INTERACTS_WITH -> mitochondrion{nodeId:125013} - INTERACTS_WITH -> CASP8{nodeId:116}', 'PXMP2{nodeId:7326} - INTERACTS_WITH -> mitochondrion{nodeId:125013} - INTERACTS_WITH -> CASP8{nodeId:116}', 'TIMM8A{nodeId:7814} - INTERACTS_WITH -> mitochondrion{nodeId:125013} - INTERACTS_WITH -> CASP8{nodeId:116}', 'TIMM50{nodeId:8191} - INTERACTS_WITH -> mitochondrion{nodeId:125013} - INTERACTS_WITH -> CASP8{nodeId:116}', 'ABHD6{nodeId:8199} - INTERACTS_WITH -> mitochondrion{nodeId:125013} - INTERACTS_WITH -> CASP8{nodeId:116}', 'TAMM41{nodeId:11309} - INTERACTS_WITH -> mitochondrion{nodeId:125013} - INTERACTS_WITH -> CASP8{nodeId:116}', 'POR{nodeId:11369} - INTERACTS_WITH -> mitochondrion{nodeId:125013} - INTERACTS_WITH -> CASP8{nodeId:116}', 'TIMM9{nodeId:11671} - INTERACTS_WITH -> mitochondrion{nodeId:125013} - INTERACTS_WITH -> CASP8{nodeId:116}', 'OXSM{nodeId:12702} - INTERACTS_WITH -> mitochondrion{nodeId:125013} - INTERACTS_WITH -> CASP8{nodeId:116}', 'OPA3{nodeId:13304} - INTERACTS_WITH -> mitochondrion{nodeId:125013} - INTERACTS_WITH -> CASP8{nodeId:116}', 'PERP{nodeId:35311} - INTERACTS_WITH -> mitochondrion{nodeId:125013} - INTERACTS_WITH -> CASP8{nodeId:116}', 'LIPT2{nodeId:35401} - INTERACTS_WITH -> mitochondrion{nodeId:125013} - INTERACTS_WITH -> CASP8{nodeId:116}', 'TMEM102{nodeId:57288} - INTERACTS_WITH -> mitochondrion{nodeId:125013} - INTERACTS_WITH -> CASP8{nodeId:116}', 'IMMP1L{nodeId:58602} - INTERACTS_WITH -> mitochondrion{nodeId:125013} - INTERACTS_WITH -> CASP8{nodeId:116}', 'MPV17L2{nodeId:60368} - INTERACTS_WITH -> mitochondrion{nodeId:125013} - INTERACTS_WITH -> CASP8{nodeId:116}', 'MPV17L{nodeId:60432} - INTERACTS_WITH -> mitochondrion{nodeId:125013} - INTERACTS_WITH -> CASP8{nodeId:116}', 'TOMM5{nodeId:60505} - INTERACTS_WITH -> mitochondrion{nodeId:125013} - INTERACTS_WITH -> CASP8{nodeId:116}', 'OXA1L{nodeId:486} - INTERACTS_WITH -> mitochondrion{nodeId:125013} - INTERACTS_WITH -> MAPK14{nodeId:197}', 'IMMT{nodeId:1916} - INTERACTS_WITH -> mitochondrion{nodeId:125013} - INTERACTS_WITH -> MAPK14{nodeId:197}', 'PEX11B{nodeId:1920} - INTERACTS_WITH -> mitochondrion{nodeId:125013} - INTERACTS_WITH -> MAPK14{nodeId:197}', 'TOMM34{nodeId:2048} - INTERACTS_WITH -> mitochondrion{nodeId:125013} - INTERACTS_WITH -> MAPK14{nodeId:197}', 'TOMM20{nodeId:2219} - INTERACTS_WITH -> mitochondrion{nodeId:125013} - INTERACTS_WITH -> MAPK14{nodeId:197}', 'CPT1A{nodeId:2481} - INTERACTS_WITH -> mitochondrion{nodeId:125013} - INTERACTS_WITH -> MAPK14{nodeId:197}', 'TOMM40{nodeId:2665} - INTERACTS_WITH -> mitochondrion{nodeId:125013} - INTERACTS_WITH -> MAPK14{nodeId:197}', 'TIMM44{nodeId:4009} - INTERACTS_WITH -> mitochondrion{nodeId:125013} - INTERACTS_WITH -> MAPK14{nodeId:197}', 'ATP5MF{nodeId:6126} - INTERACTS_WITH -> mitochondrion{nodeId:125013} - INTERACTS_WITH -> MAPK14{nodeId:197}', 'TMEM11{nodeId:6242} - INTERACTS_WITH -> mitochondrion{nodeId:125013} - INTERACTS_WITH -> MAPK14{nodeId:197}', 'TOMM22{nodeId:6932} - INTERACTS_WITH -> mitochondrion{nodeId:125013} - INTERACTS_WITH -> MAPK14{nodeId:197}', 'MPV17{nodeId:7084} - INTERACTS_WITH -> mitochondrion{nodeId:125013} - INTERACTS_WITH -> MAPK14{nodeId:197}', 'PXMP2{nodeId:7326} - INTERACTS_WITH -> mitochondrion{nodeId:125013} - INTERACTS_WITH -> MAPK14{nodeId:197}', 'TIMM8A{nodeId:7814} - INTERACTS_WITH -> mitochondrion{nodeId:125013} - INTERACTS_WITH -> MAPK14{nodeId:197}', 'TIMM50{nodeId:8191} - INTERACTS_WITH -> mitochondrion{nodeId:125013} - INTERACTS_WITH -> MAPK14{nodeId:197}', 'ABHD6{nodeId:8199} - INTERACTS_WITH -> mitochondrion{nodeId:125013} - INTERACTS_WITH -> MAPK14{nodeId:197}', 'TAMM41{nodeId:11309} - INTERACTS_WITH -> mitochondrion{nodeId:125013} - INTERACTS_WITH -> MAPK14{nodeId:197}', 'POR{nodeId:11369} - INTERACTS_WITH -> mitochondrion{nodeId:125013} - INTERACTS_WITH -> MAPK14{nodeId:197}', 'TIMM9{nodeId:11671} - INTERACTS_WITH -> mitochondrion{nodeId:125013} - INTERACTS_WITH -> MAPK14{nodeId:197}', 'OXSM{nodeId:12702} - INTERACTS_WITH -> mitochondrion{nodeId:125013} - INTERACTS_WITH -> MAPK14{nodeId:197}', 'OPA3{nodeId:13304} - INTERACTS_WITH -> mitochondrion{nodeId:125013} - INTERACTS_WITH -> MAPK14{nodeId:197}', 'PERP{nodeId:35311} - INTERACTS_WITH -> mitochondrion{nodeId:125013} - INTERACTS_WITH -> MAPK14{nodeId:197}', 'LIPT2{nodeId:35401} - INTERACTS_WITH -> mitochondrion{nodeId:125013} - INTERACTS_WITH -> MAPK14{nodeId:197}', 'TMEM102{nodeId:57288} - INTERACTS_WITH -> mitochondrion{nodeId:125013} - INTERACTS_WITH -> MAPK14{nodeId:197}', 'IMMP1L{nodeId:58602} - INTERACTS_WITH -> mitochondrion{nodeId:125013} - INTERACTS_WITH -> MAPK14{nodeId:197}', 'MPV17L2{nodeId:60368} - INTERACTS_WITH -> mitochondrion{nodeId:125013} - INTERACTS_WITH -> MAPK14{nodeId:197}', 'MPV17L{nodeId:60432} - INTERACTS_WITH -> mitochondrion{nodeId:125013} - INTERACTS_WITH -> MAPK14{nodeId:197}', 'TOMM5{nodeId:60505} - INTERACTS_WITH -> mitochondrion{nodeId:125013} - INTERACTS_WITH -> MAPK14{nodeId:197}', 'OXA1L{nodeId:486} - INTERACTS_WITH -> mitochondrion{nodeId:125013} - INTERACTS_WITH -> APEX2{nodeId:342}', 'IMMT{nodeId:1916} - INTERACTS_WITH -> mitochondrion{nodeId:125013} - INTERACTS_WITH -> APEX2{nodeId:342}', 'PEX11B{nodeId:1920} - INTERACTS_WITH -> mitochondrion{nodeId:125013} - INTERACTS_WITH -> APEX2{nodeId:342}', 'TOMM34{nodeId:2048} - INTERACTS_WITH -> mitochondrion{nodeId:125013} - INTERACTS_WITH -> APEX2{nodeId:342}', 'TOMM20{nodeId:2219} - INTERACTS_WITH -> mitochondrion{nodeId:125013} - INTERACTS_WITH -> APEX2{nodeId:342}', 'CPT1A{nodeId:2481} - INTERACTS_WITH -> mitochondrion{nodeId:125013} - INTERACTS_WITH -> APEX2{nodeId:342}', 'TOMM40{nodeId:2665} - INTERACTS_WITH -> mitochondrion{nodeId:125013} - INTERACTS_WITH -> APEX2{nodeId:342}', 'TIMM44{nodeId:4009} - INTERACTS_WITH -> mitochondrion{nodeId:125013} - INTERACTS_WITH -> APEX2{nodeId:342}', 'ATP5MF{nodeId:6126} - INTERACTS_WITH -> mitochondrion{nodeId:125013} - INTERACTS_WITH -> APEX2{nodeId:342}', 'TMEM11{nodeId:6242} - INTERACTS_WITH -> mitochondrion{nodeId:125013} - INTERACTS_WITH -> APEX2{nodeId:342}', 'TOMM22{nodeId:6932} - INTERACTS_WITH -> mitochondrion{nodeId:125013} - INTERACTS_WITH -> APEX2{nodeId:342}', 'MPV17{nodeId:7084} - INTERACTS_WITH -> mitochondrion{nodeId:125013} - INTERACTS_WITH -> APEX2{nodeId:342}', 'PXMP2{nodeId:7326} - INTERACTS_WITH -> mitochondrion{nodeId:125013} - INTERACTS_WITH -> APEX2{nodeId:342}', 'TIMM8A{nodeId:7814} - INTERACTS_WITH -> mitochondrion{nodeId:125013} - INTERACTS_WITH -> APEX2{nodeId:342}', 'TIMM50{nodeId:8191} - INTERACTS_WITH -> mitochondrion{nodeId:125013} - INTERACTS_WITH -> APEX2{nodeId:342}', 'ABHD6{nodeId:8199} - INTERACTS_WITH -> mitochondrion{nodeId:125013} - INTERACTS_WITH -> APEX2{nodeId:342}', 'TAMM41{nodeId:11309} - INTERACTS_WITH -> mitochondrion{nodeId:125013} - INTERACTS_WITH -> APEX2{nodeId:342}', 'POR{nodeId:11369} - INTERACTS_WITH -> mitochondrion{nodeId:125013} - INTERACTS_WITH -> APEX2{nodeId:342}', 'TIMM9{nodeId:11671} - INTERACTS_WITH -> mitochondrion{nodeId:125013} - INTERACTS_WITH -> APEX2{nodeId:342}', 'OXSM{nodeId:12702} - INTERACTS_WITH -> mitochondrion{nodeId:125013} - INTERACTS_WITH -> APEX2{nodeId:342}', 'OPA3{nodeId:13304} - INTERACTS_WITH -> mitochondrion{nodeId:125013} - INTERACTS_WITH -> APEX2{nodeId:342}', 'PERP{nodeId:35311} - INTERACTS_WITH -> mitochondrion{nodeId:125013} - INTERACTS_WITH -> APEX2{nodeId:342}', 'LIPT2{nodeId:35401} - INTERACTS_WITH -> mitochondrion{nodeId:125013} - INTERACTS_WITH -> APEX2{nodeId:342}', 'TMEM102{nodeId:57288} - INTERACTS_WITH -> mitochondrion{nodeId:125013} - INTERACTS_WITH -> APEX2{nodeId:342}', 'IMMP1L{nodeId:58602} - INTERACTS_WITH -> mitochondrion{nodeId:125013} - INTERACTS_WITH -> APEX2{nodeId:342}', 'MPV17L2{nodeId:60368} - INTERACTS_WITH -> mitochondrion{nodeId:125013} - INTERACTS_WITH -> APEX2{nodeId:342}', 'MPV17L{nodeId:60432} - INTERACTS_WITH -> mitochondrion{nodeId:125013} - INTERACTS_WITH -> APEX2{nodeId:342}', 'TOMM5{nodeId:60505} - INTERACTS_WITH -> mitochondrion{nodeId:125013} - INTERACTS_WITH -> APEX2{nodeId:342}', 'OXA1L{nodeId:486} - INTERACTS_WITH -> mitochondrion{nodeId:125013} - INTERACTS_WITH -> AIFM1{nodeId:679}', 'IMMT{nodeId:1916} - INTERACTS_WITH -> mitochondrion{nodeId:125013} - INTERACTS_WITH -> AIFM1{nodeId:679}', 'PEX11B{nodeId:1920} - INTERACTS_WITH -> mitochondrion{nodeId:125013} - INTERACTS_WITH -> AIFM1{nodeId:679}', 'TOMM34{nodeId:2048} - INTERACTS_WITH -> mitochondrion{nodeId:125013} - INTERACTS_WITH -> AIFM1{nodeId:679}', 'TOMM20{nodeId:2219} - INTERACTS_WITH -> mitochondrion{nodeId:125013} - INTERACTS_WITH -> AIFM1{nodeId:679}', 'CPT1A{nodeId:2481} - INTERACTS_WITH -> mitochondrion{nodeId:125013} - INTERACTS_WITH -> AIFM1{nodeId:679}', 'TOMM40{nodeId:2665} - INTERACTS_WITH -> mitochondrion{nodeId:125013} - INTERACTS_WITH -> AIFM1{nodeId:679}', 'TIMM44{nodeId:4009} - INTERACTS_WITH -> mitochondrion{nodeId:125013} - INTERACTS_WITH -> AIFM1{nodeId:679}', 'ATP5MF{nodeId:6126} - INTERACTS_WITH -> mitochondrion{nodeId:125013} - INTERACTS_WITH -> AIFM1{nodeId:679}', 'TMEM11{nodeId:6242} - INTERACTS_WITH -> mitochondrion{nodeId:125013} - INTERACTS_WITH -> AIFM1{nodeId:679}', 'TOMM22{nodeId:6932} - INTERACTS_WITH -> mitochondrion{nodeId:125013} - INTERACTS_WITH -> AIFM1{nodeId:679}', 'MPV17{nodeId:7084} - INTERACTS_WITH -> mitochondrion{nodeId:125013} - INTERACTS_WITH -> AIFM1{nodeId:679}', 'PXMP2{nodeId:7326} - INTERACTS_WITH -> mitochondrion{nodeId:125013} - INTERACTS_WITH -> AIFM1{nodeId:679}', 'TIMM8A{nodeId:7814} - INTERACTS_WITH -> mitochondrion{nodeId:125013} - INTERACTS_WITH -> AIFM1{nodeId:679}', 'TIMM50{nodeId:8191} - INTERACTS_WITH -> mitochondrion{nodeId:125013} - INTERACTS_WITH -> AIFM1{nodeId:679}', 'ABHD6{nodeId:8199} - INTERACTS_WITH -> mitochondrion{nodeId:125013} - INTERACTS_WITH -> AIFM1{nodeId:679}', 'TAMM41{nodeId:11309} - INTERACTS_WITH -> mitochondrion{nodeId:125013} - INTERACTS_WITH -> AIFM1{nodeId:679}', 'POR{nodeId:11369} - INTERACTS_WITH -> mitochondrion{nodeId:125013} - INTERACTS_WITH -> AIFM1{nodeId:679}', 'TIMM9{nodeId:11671} - INTERACTS_WITH -> mitochondrion{nodeId:125013} - INTERACTS_WITH -> AIFM1{nodeId:679}', 'OXSM{nodeId:12702} - INTERACTS_WITH -> mitochondrion{nodeId:125013} - INTERACTS_WITH -> AIFM1{nodeId:679}', 'OPA3{nodeId:13304} - INTERACTS_WITH -> mitochondrion{nodeId:125013} - INTERACTS_WITH -> AIFM1{nodeId:679}', 'PERP{nodeId:35311} - INTERACTS_WITH -> mitochondrion{nodeId:125013} - INTERACTS_WITH -> AIFM1{nodeId:679}', 'LIPT2{nodeId:35401} - INTERACTS_WITH -> mitochondrion{nodeId:125013} - INTERACTS_WITH -> AIFM1{nodeId:679}', 'TMEM102{nodeId:57288} - INTERACTS_WITH -> mitochondrion{nodeId:125013} - INTERACTS_WITH -> AIFM1{nodeId:679}', 'IMMP1L{nodeId:58602} - INTERACTS_WITH -> mitochondrion{nodeId:125013} - INTERACTS_WITH -> AIFM1{nodeId:679}', 'MPV17L2{nodeId:60368} - INTERACTS_WITH -> mitochondrion{nodeId:125013} - INTERACTS_WITH -> AIFM1{nodeId:679}', 'MPV17L{nodeId:60432} - INTERACTS_WITH -> mitochondrion{nodeId:125013} - INTERACTS_WITH -> AIFM1{nodeId:679}', 'TOMM5{nodeId:60505} - INTERACTS_WITH -> mitochondrion{nodeId:125013} - INTERACTS_WITH -> AIFM1{nodeId:679}', 'OXA1L{nodeId:486} - INTERACTS_WITH -> mitochondrion{nodeId:125013} - INTERACTS_WITH -> BAX{nodeId:1139}', 'IMMT{nodeId:1916} - INTERACTS_WITH -> mitochondrion{nodeId:125013} - INTERACTS_WITH -> BAX{nodeId:1139}', 'PEX11B{nodeId:1920} - INTERACTS_WITH -> mitochondrion{nodeId:125013} - INTERACTS_WITH -> BAX{nodeId:1139}', 'TOMM34{nodeId:2048} - INTERACTS_WITH -> mitochondrion{nodeId:125013} - INTERACTS_WITH -> BAX{nodeId:1139}', 'TOMM20{nodeId:2219} - INTERACTS_WITH -> mitochondrion{nodeId:125013} - INTERACTS_WITH -> BAX{nodeId:1139}', 'CPT1A{nodeId:2481} - INTERACTS_WITH -> mitochondrion{nodeId:125013} - INTERACTS_WITH -> BAX{nodeId:1139}', 'TOMM40{nodeId:2665} - INTERACTS_WITH -> mitochondrion{nodeId:125013} - INTERACTS_WITH -> BAX{nodeId:1139}', 'TIMM44{nodeId:4009} - INTERACTS_WITH -> mitochondrion{nodeId:125013} - INTERACTS_WITH -> BAX{nodeId:1139}', 'ATP5MF{nodeId:6126} - INTERACTS_WITH -> mitochondrion{nodeId:125013} - INTERACTS_WITH -> BAX{nodeId:1139}', 'TMEM11{nodeId:6242} - INTERACTS_WITH -> mitochondrion{nodeId:125013} - INTERACTS_WITH -> BAX{nodeId:1139}', 'TOMM22{nodeId:6932} - INTERACTS_WITH -> mitochondrion{nodeId:125013} - INTERACTS_WITH -> BAX{nodeId:1139}', 'MPV17{nodeId:7084} - INTERACTS_WITH -> mitochondrion{nodeId:125013} - INTERACTS_WITH -> BAX{nodeId:1139}', 'PXMP2{nodeId:7326} - INTERACTS_WITH -> mitochondrion{nodeId:125013} - INTERACTS_WITH -> BAX{nodeId:1139}', 'TIMM8A{nodeId:7814} - INTERACTS_WITH -> mitochondrion{nodeId:125013} - INTERACTS_WITH -> BAX{nodeId:1139}', 'TIMM50{nodeId:8191} - INTERACTS_WITH -> mitochondrion{nodeId:125013} - INTERACTS_WITH -> BAX{nodeId:1139}', 'ABHD6{nodeId:8199} - INTERACTS_WITH -> mitochondrion{nodeId:125013} - INTERACTS_WITH -> BAX{nodeId:1139}', 'TAMM41{nodeId:11309} - INTERACTS_WITH -> mitochondrion{nodeId:125013} - INTERACTS_WITH -> BAX{nodeId:1139}', 'POR{nodeId:11369} - INTERACTS_WITH -> mitochondrion{nodeId:125013} - INTERACTS_WITH -> BAX{nodeId:1139}', 'TIMM9{nodeId:11671} - INTERACTS_WITH -> mitochondrion{nodeId:125013} - INTERACTS_WITH -> BAX{nodeId:1139}', 'OXSM{nodeId:12702} - INTERACTS_WITH -> mitochondrion{nodeId:125013} - INTERACTS_WITH -> BAX{nodeId:1139}', 'OPA3{nodeId:13304} - INTERACTS_WITH -> mitochondrion{nodeId:125013} - INTERACTS_WITH -> BAX{nodeId:1139}', 'PERP{nodeId:35311} - INTERACTS_WITH -> mitochondrion{nodeId:125013} - INTERACTS_WITH -> BAX{nodeId:1139}', 'LIPT2{nodeId:35401} - INTERACTS_WITH -> mitochondrion{nodeId:125013} - INTERACTS_WITH -> BAX{nodeId:1139}', 'TMEM102{nodeId:57288} - INTERACTS_WITH -> mitochondrion{nodeId:125013} - INTERACTS_WITH -> BAX{nodeId:1139}', 'IMMP1L{nodeId:58602} - INTERACTS_WITH -> mitochondrion{nodeId:125013} - INTERACTS_WITH -> BAX{nodeId:1139}', 'MPV17L2{nodeId:60368} - INTERACTS_WITH -> mitochondrion{nodeId:125013} - INTERACTS_WITH -> BAX{nodeId:1139}', 'MPV17L{nodeId:60432} - INTERACTS_WITH -> mitochondrion{nodeId:125013} - INTERACTS_WITH -> BAX{nodeId:1139}', 'TOMM5{nodeId:60505} - INTERACTS_WITH -> mitochondrion{nodeId:125013} - INTERACTS_WITH -> BAX{nodeId:1139}', 'OXA1L{nodeId:486} - INTERACTS_WITH -> mitochondrion{nodeId:125013} - INTERACTS_WITH -> BNIP3{nodeId:1310}', 'IMMT{nodeId:1916} - INTERACTS_WITH -> mitochondrion{nodeId:125013} - INTERACTS_WITH -> BNIP3{nodeId:1310}', 'PEX11B{nodeId:1920} - INTERACTS_WITH -> mitochondrion{nodeId:125013} - INTERACTS_WITH -> BNIP3{nodeId:1310}', 'TOMM34{nodeId:2048} - INTERACTS_WITH -> mitochondrion{nodeId:125013} - INTERACTS_WITH -> BNIP3{nodeId:1310}', 'TOMM20{nodeId:2219} - INTERACTS_WITH -> mitochondrion{nodeId:125013} - INTERACTS_WITH -> BNIP3{nodeId:1310}', 'CPT1A{nodeId:2481} - INTERACTS_WITH -> mitochondrion{nodeId:125013} - INTERACTS_WITH -> BNIP3{nodeId:1310}', 'TOMM40{nodeId:2665} - INTERACTS_WITH -> mitochondrion{nodeId:125013} - INTERACTS_WITH -> BNIP3{nodeId:1310}', 'TIMM44{nodeId:4009} - INTERACTS_WITH -> mitochondrion{nodeId:125013} - INTERACTS_WITH -> BNIP3{nodeId:1310}', 'ATP5MF{nodeId:6126} - INTERACTS_WITH -> mitochondrion{nodeId:125013} - INTERACTS_WITH -> BNIP3{nodeId:1310}', 'TMEM11{nodeId:6242} - INTERACTS_WITH -> mitochondrion{nodeId:125013} - INTERACTS_WITH -> BNIP3{nodeId:1310}', 'TOMM22{nodeId:6932} - INTERACTS_WITH -> mitochondrion{nodeId:125013} - INTERACTS_WITH -> BNIP3{nodeId:1310}', 'MPV17{nodeId:7084} - INTERACTS_WITH -> mitochondrion{nodeId:125013} - INTERACTS_WITH -> BNIP3{nodeId:1310}', 'PXMP2{nodeId:7326} - INTERACTS_WITH -> mitochondrion{nodeId:125013} - INTERACTS_WITH -> BNIP3{nodeId:1310}', 'TIMM8A{nodeId:7814} - INTERACTS_WITH -> mitochondrion{nodeId:125013} - INTERACTS_WITH -> BNIP3{nodeId:1310}', 'TIMM50{nodeId:8191} - INTERACTS_WITH -> mitochondrion{nodeId:125013} - INTERACTS_WITH -> BNIP3{nodeId:1310}', 'ABHD6{nodeId:8199} - INTERACTS_WITH -> mitochondrion{nodeId:125013} - INTERACTS_WITH -> BNIP3{nodeId:1310}', 'TAMM41{nodeId:11309} - INTERACTS_WITH -> mitochondrion{nodeId:125013} - INTERACTS_WITH -> BNIP3{nodeId:1310}', 'POR{nodeId:11369} - INTERACTS_WITH -> mitochondrion{nodeId:125013} - INTERACTS_WITH -> BNIP3{nodeId:1310}', 'TIMM9{nodeId:11671} - INTERACTS_WITH -> mitochondrion{nodeId:125013} - INTERACTS_WITH -> BNIP3{nodeId:1310}', 'OXSM{nodeId:12702} - INTERACTS_WITH -> mitochondrion{nodeId:125013} - INTERACTS_WITH -> BNIP3{nodeId:1310}', 'OPA3{nodeId:13304} - INTERACTS_WITH -> mitochondrion{nodeId:125013} - INTERACTS_WITH -> BNIP3{nodeId:1310}', 'PERP{nodeId:35311} - INTERACTS_WITH -> mitochondrion{nodeId:125013} - INTERACTS_WITH -> BNIP3{nodeId:1310}', 'LIPT2{nodeId:35401} - INTERACTS_WITH -> mitochondrion{nodeId:125013} - INTERACTS_WITH -> BNIP3{nodeId:1310}', 'TMEM102{nodeId:57288} - INTERACTS_WITH -> mitochondrion{nodeId:125013} - INTERACTS_WITH -> BNIP3{nodeId:1310}', 'IMMP1L{nodeId:58602} - INTERACTS_WITH -> mitochondrion{nodeId:125013} - INTERACTS_WITH -> BNIP3{nodeId:1310}', 'MPV17L2{nodeId:60368} - INTERACTS_WITH -> mitochondrion{nodeId:125013} - INTERACTS_WITH -> BNIP3{nodeId:1310}', 'MPV17L{nodeId:60432} - INTERACTS_WITH -> mitochondrion{nodeId:125013} - INTERACTS_WITH -> BNIP3{nodeId:1310}', 'TOMM5{nodeId:60505} - INTERACTS_WITH -> mitochondrion{nodeId:125013} - INTERACTS_WITH -> BNIP3{nodeId:1310}', 'OXA1L{nodeId:486} - INTERACTS_WITH -> mitochondrion{nodeId:125013} - INTERACTS_WITH -> PMAIP1{nodeId:1929}', 'IMMT{nodeId:1916} - INTERACTS_WITH -> mitochondrion{nodeId:125013} - INTERACTS_WITH -> PMAIP1{nodeId:1929}', 'PEX11B{nodeId:1920} - INTERACTS_WITH -> mitochondrion{nodeId:125013} - INTERACTS_WITH -> PMAIP1{nodeId:1929}', 'TOMM34{nodeId:2048} - INTERACTS_WITH -> mitochondrion{nodeId:125013} - INTERACTS_WITH -> PMAIP1{nodeId:1929}', 'TOMM20{nodeId:2219} - INTERACTS_WITH -> mitochondrion{nodeId:125013} - INTERACTS_WITH -> PMAIP1{nodeId:1929}', 'CPT1A{nodeId:2481} - INTERACTS_WITH -> mitochondrion{nodeId:125013} - INTERACTS_WITH -> PMAIP1{nodeId:1929}', 'TOMM40{nodeId:2665} - INTERACTS_WITH -> mitochondrion{nodeId:125013} - INTERACTS_WITH -> PMAIP1{nodeId:1929}', 'TIMM44{nodeId:4009} - INTERACTS_WITH -> mitochondrion{nodeId:125013} - INTERACTS_WITH -> PMAIP1{nodeId:1929}', 'ATP5MF{nodeId:6126} - INTERACTS_WITH -> mitochondrion{nodeId:125013} - INTERACTS_WITH -> PMAIP1{nodeId:1929}', 'TMEM11{nodeId:6242} - INTERACTS_WITH -> mitochondrion{nodeId:125013} - INTERACTS_WITH -> PMAIP1{nodeId:1929}', 'TOMM22{nodeId:6932} - INTERACTS_WITH -> mitochondrion{nodeId:125013} - INTERACTS_WITH -> PMAIP1{nodeId:1929}', 'MPV17{nodeId:7084} - INTERACTS_WITH -> mitochondrion{nodeId:125013} - INTERACTS_WITH -> PMAIP1{nodeId:1929}', 'PXMP2{nodeId:7326} - INTERACTS_WITH -> mitochondrion{nodeId:125013} - INTERACTS_WITH -> PMAIP1{nodeId:1929}', 'TIMM8A{nodeId:7814} - INTERACTS_WITH -> mitochondrion{nodeId:125013} - INTERACTS_WITH -> PMAIP1{nodeId:1929}', 'TIMM50{nodeId:8191} - INTERACTS_WITH -> mitochondrion{nodeId:125013} - INTERACTS_WITH -> PMAIP1{nodeId:1929}', 'ABHD6{nodeId:8199} - INTERACTS_WITH -> mitochondrion{nodeId:125013} - INTERACTS_WITH -> PMAIP1{nodeId:1929}', 'TAMM41{nodeId:11309} - INTERACTS_WITH -> mitochondrion{nodeId:125013} - INTERACTS_WITH -> PMAIP1{nodeId:1929}', 'POR{nodeId:11369} - INTERACTS_WITH -> mitochondrion{nodeId:125013} - INTERACTS_WITH -> PMAIP1{nodeId:1929}', 'TIMM9{nodeId:11671} - INTERACTS_WITH -> mitochondrion{nodeId:125013} - INTERACTS_WITH -> PMAIP1{nodeId:1929}', 'OXSM{nodeId:12702} - INTERACTS_WITH -> mitochondrion{nodeId:125013} - INTERACTS_WITH -> PMAIP1{nodeId:1929}', 'OPA3{nodeId:13304} - INTERACTS_WITH -> mitochondrion{nodeId:125013} - INTERACTS_WITH -> PMAIP1{nodeId:1929}', 'PERP{nodeId:35311} - INTERACTS_WITH -> mitochondrion{nodeId:125013} - INTERACTS_WITH -> PMAIP1{nodeId:1929}', 'LIPT2{nodeId:35401} - INTERACTS_WITH -> mitochondrion{nodeId:125013} - INTERACTS_WITH -> PMAIP1{nodeId:1929}', 'TMEM102{nodeId:57288} - INTERACTS_WITH -> mitochondrion{nodeId:125013} - INTERACTS_WITH -> PMAIP1{nodeId:1929}', 'IMMP1L{nodeId:58602} - INTERACTS_WITH -> mitochondrion{nodeId:125013} - INTERACTS_WITH -> PMAIP1{nodeId:1929}', 'MPV17L2{nodeId:60368} - INTERACTS_WITH -> mitochondrion{nodeId:125013} - INTERACTS_WITH -> PMAIP1{nodeId:1929}', 'MPV17L{nodeId:60432} - INTERACTS_WITH -> mitochondrion{nodeId:125013} - INTERACTS_WITH -> PMAIP1{nodeId:1929}', 'TOMM5{nodeId:60505} - INTERACTS_WITH -> mitochondrion{nodeId:125013} - INTERACTS_WITH -> PMAIP1{nodeId:1929}', 'OXA1L{nodeId:486} - INTERACTS_WITH -> mitochondrion{nodeId:125013} - INTERACTS_WITH -> BCL2{nodeId:2429}', 'IMMT{nodeId:1916} - INTERACTS_WITH -> mitochondrion{nodeId:125013} - INTERACTS_WITH -> BCL2{nodeId:2429}', 'PEX11B{nodeId:1920} - INTERACTS_WITH -> mitochondrion{nodeId:125013} - INTERACTS_WITH -> BCL2{nodeId:2429}', 'TOMM34{nodeId:2048} - INTERACTS_WITH -> mitochondrion{nodeId:125013} - INTERACTS_WITH -> BCL2{nodeId:2429}', 'TOMM20{nodeId:2219} - INTERACTS_WITH -> mitochondrion{nodeId:125013} - INTERACTS_WITH -> BCL2{nodeId:2429}', 'CPT1A{nodeId:2481} - INTERACTS_WITH -> mitochondrion{nodeId:125013} - INTERACTS_WITH -> BCL2{nodeId:2429}', 'TOMM40{nodeId:2665} - INTERACTS_WITH -> mitochondrion{nodeId:125013} - INTERACTS_WITH -> BCL2{nodeId:2429}', 'TIMM44{nodeId:4009} - INTERACTS_WITH -> mitochondrion{nodeId:125013} - INTERACTS_WITH -> BCL2{nodeId:2429}', 'ATP5MF{nodeId:6126} - INTERACTS_WITH -> mitochondrion{nodeId:125013} - INTERACTS_WITH -> BCL2{nodeId:2429}', 'TMEM11{nodeId:6242} - INTERACTS_WITH -> mitochondrion{nodeId:125013} - INTERACTS_WITH -> BCL2{nodeId:2429}', 'TOMM22{nodeId:6932} - INTERACTS_WITH -> mitochondrion{nodeId:125013} - INTERACTS_WITH -> BCL2{nodeId:2429}', 'MPV17{nodeId:7084} - INTERACTS_WITH -> mitochondrion{nodeId:125013} - INTERACTS_WITH -> BCL2{nodeId:2429}', 'PXMP2{nodeId:7326} - INTERACTS_WITH -> mitochondrion{nodeId:125013} - INTERACTS_WITH -> BCL2{nodeId:2429}', 'TIMM8A{nodeId:7814} - INTERACTS_WITH -> mitochondrion{nodeId:125013} - INTERACTS_WITH -> BCL2{nodeId:2429}', 'TIMM50{nodeId:8191} - INTERACTS_WITH -> mitochondrion{nodeId:125013} - INTERACTS_WITH -> BCL2{nodeId:2429}', 'ABHD6{nodeId:8199} - INTERACTS_WITH -> mitochondrion{nodeId:125013} - INTERACTS_WITH -> BCL2{nodeId:2429}', 'TAMM41{nodeId:11309} - INTERACTS_WITH -> mitochondrion{nodeId:125013} - INTERACTS_WITH -> BCL2{nodeId:2429}', 'POR{nodeId:11369} - INTERACTS_WITH -> mitochondrion{nodeId:125013} - INTERACTS_WITH -> BCL2{nodeId:2429}', 'TIMM9{nodeId:11671} - INTERACTS_WITH -> mitochondrion{nodeId:125013} - INTERACTS_WITH -> BCL2{nodeId:2429}', 'OXSM{nodeId:12702} - INTERACTS_WITH -> mitochondrion{nodeId:125013} - INTERACTS_WITH -> BCL2{nodeId:2429}', 'OPA3{nodeId:13304} - INTERACTS_WITH -> mitochondrion{nodeId:125013} - INTERACTS_WITH -> BCL2{nodeId:2429}', 'PERP{nodeId:35311} - INTERACTS_WITH -> mitochondrion{nodeId:125013} - INTERACTS_WITH -> BCL2{nodeId:2429}', 'LIPT2{nodeId:35401} - INTERACTS_WITH -> mitochondrion{nodeId:125013} - INTERACTS_WITH -> BCL2{nodeId:2429}', 'TMEM102{nodeId:57288} - INTERACTS_WITH -> mitochondrion{nodeId:125013} - INTERACTS_WITH -> BCL2{nodeId:2429}', 'IMMP1L{nodeId:58602} - INTERACTS_WITH -> mitochondrion{nodeId:125013} - INTERACTS_WITH -> BCL2{nodeId:2429}', 'MPV17L2{nodeId:60368} - INTERACTS_WITH -> mitochondrion{nodeId:125013} - INTERACTS_WITH -> BCL2{nodeId:2429}', 'MPV17L{nodeId:60432} - INTERACTS_WITH -> mitochondrion{nodeId:125013} - INTERACTS_WITH -> BCL2{nodeId:2429}', 'TOMM5{nodeId:60505} - INTERACTS_WITH -> mitochondrion{nodeId:125013} - INTERACTS_WITH -> BCL2{nodeId:2429}', 'OXA1L{nodeId:486} - INTERACTS_WITH -> mitochondrion{nodeId:125013} - INTERACTS_WITH -> MAPK10{nodeId:3392}', 'IMMT{nodeId:1916} - INTERACTS_WITH -> mitochondrion{nodeId:125013} - INTERACTS_WITH -> MAPK10{nodeId:3392}', 'PEX11B{nodeId:1920} - INTERACTS_WITH -> mitochondrion{nodeId:125013} - INTERACTS_WITH -> MAPK10{nodeId:3392}', 'TOMM34{nodeId:2048} - INTERACTS_WITH -> mitochondrion{nodeId:125013} - INTERACTS_WITH -> MAPK10{nodeId:3392}', 'TOMM20{nodeId:2219} - INTERACTS_WITH -> mitochondrion{nodeId:125013} - INTERACTS_WITH -> MAPK10{nodeId:3392}', 'CPT1A{nodeId:2481} - INTERACTS_WITH -> mitochondrion{nodeId:125013} - INTERACTS_WITH -> MAPK10{nodeId:3392}', 'TOMM40{nodeId:2665} - INTERACTS_WITH -> mitochondrion{nodeId:125013} - INTERACTS_WITH -> MAPK10{nodeId:3392}', 'TIMM44{nodeId:4009} - INTERACTS_WITH -> mitochondrion{nodeId:125013} - INTERACTS_WITH -> MAPK10{nodeId:3392}', 'ATP5MF{nodeId:6126} - INTERACTS_WITH -> mitochondrion{nodeId:125013} - INTERACTS_WITH -> MAPK10{nodeId:3392}', 'TMEM11{nodeId:6242} - INTERACTS_WITH -> mitochondrion{nodeId:125013} - INTERACTS_WITH -> MAPK10{nodeId:3392}', 'TOMM22{nodeId:6932} - INTERACTS_WITH -> mitochondrion{nodeId:125013} - INTERACTS_WITH -> MAPK10{nodeId:3392}', 'MPV17{nodeId:7084} - INTERACTS_WITH -> mitochondrion{nodeId:125013} - INTERACTS_WITH -> MAPK10{nodeId:3392}', 'PXMP2{nodeId:7326} - INTERACTS_WITH -> mitochondrion{nodeId:125013} - INTERACTS_WITH -> MAPK10{nodeId:3392}', 'TIMM8A{nodeId:7814} - INTERACTS_WITH -> mitochondrion{nodeId:125013} - INTERACTS_WITH -> MAPK10{nodeId:3392}', 'TIMM50{nodeId:8191} - INTERACTS_WITH -> mitochondrion{nodeId:125013} - INTERACTS_WITH -> MAPK10{nodeId:3392}', 'ABHD6{nodeId:8199} - INTERACTS_WITH -> mitochondrion{nodeId:125013} - INTERACTS_WITH -> MAPK10{nodeId:3392}', 'TAMM41{nodeId:11309} - INTERACTS_WITH -> mitochondrion{nodeId:125013} - INTERACTS_WITH -> MAPK10{nodeId:3392}', 'POR{nodeId:11369} - INTERACTS_WITH -> mitochondrion{nodeId:125013} - INTERACTS_WITH -> MAPK10{nodeId:3392}', 'TIMM9{nodeId:11671} - INTERACTS_WITH -> mitochondrion{nodeId:125013} - INTERACTS_WITH -> MAPK10{nodeId:3392}', 'OXSM{nodeId:12702} - INTERACTS_WITH -> mitochondrion{nodeId:125013} - INTERACTS_WITH -> MAPK10{nodeId:3392}', 'OPA3{nodeId:13304} - INTERACTS_WITH -> mitochondrion{nodeId:125013} - INTERACTS_WITH -> MAPK10{nodeId:3392}', 'PERP{nodeId:35311} - INTERACTS_WITH -> mitochondrion{nodeId:125013} - INTERACTS_WITH -> MAPK10{nodeId:3392}', 'LIPT2{nodeId:35401} - INTERACTS_WITH -> mitochondrion{nodeId:125013} - INTERACTS_WITH -> MAPK10{nodeId:3392}', 'TMEM102{nodeId:57288} - INTERACTS_WITH -> mitochondrion{nodeId:125013} - INTERACTS_WITH -> MAPK10{nodeId:3392}', 'IMMP1L{nodeId:58602} - INTERACTS_WITH -> mitochondrion{nodeId:125013} - INTERACTS_WITH -> MAPK10{nodeId:3392}', 'MPV17L2{nodeId:60368} - INTERACTS_WITH -> mitochondrion{nodeId:125013} - INTERACTS_WITH -> MAPK10{nodeId:3392}', 'MPV17L{nodeId:60432} - INTERACTS_WITH -> mitochondrion{nodeId:125013} - INTERACTS_WITH -> MAPK10{nodeId:3392}', 'TOMM5{nodeId:60505} - INTERACTS_WITH -> mitochondrion{nodeId:125013} - INTERACTS_WITH -> MAPK10{nodeId:3392}', 'OXA1L{nodeId:486} - INTERACTS_WITH -> mitochondrion{nodeId:125013} - INTERACTS_WITH -> BAD{nodeId:4060}', 'IMMT{nodeId:1916} - INTERACTS_WITH -> mitochondrion{nodeId:125013} - INTERACTS_WITH -> BAD{nodeId:4060}', 'PEX11B{nodeId:1920} - INTERACTS_WITH -> mitochondrion{nodeId:125013} - INTERACTS_WITH -> BAD{nodeId:4060}', 'TOMM34{nodeId:2048} - INTERACTS_WITH -> mitochondrion{nodeId:125013} - INTERACTS_WITH -> BAD{nodeId:4060}', 'TOMM20{nodeId:2219} - INTERACTS_WITH -> mitochondrion{nodeId:125013} - INTERACTS_WITH -> BAD{nodeId:4060}', 'CPT1A{nodeId:2481} - INTERACTS_WITH -> mitochondrion{nodeId:125013} - INTERACTS_WITH -> BAD{nodeId:4060}', 'TOMM40{nodeId:2665} - INTERACTS_WITH -> mitochondrion{nodeId:125013} - INTERACTS_WITH -> BAD{nodeId:4060}', 'TIMM44{nodeId:4009} - INTERACTS_WITH -> mitochondrion{nodeId:125013} - INTERACTS_WITH -> BAD{nodeId:4060}', 'ATP5MF{nodeId:6126} - INTERACTS_WITH -> mitochondrion{nodeId:125013} - INTERACTS_WITH -> BAD{nodeId:4060}', 'TMEM11{nodeId:6242} - INTERACTS_WITH -> mitochondrion{nodeId:125013} - INTERACTS_WITH -> BAD{nodeId:4060}', 'TOMM22{nodeId:6932} - INTERACTS_WITH -> mitochondrion{nodeId:125013} - INTERACTS_WITH -> BAD{nodeId:4060}', 'MPV17{nodeId:7084} - INTERACTS_WITH -> mitochondrion{nodeId:125013} - INTERACTS_WITH -> BAD{nodeId:4060}', 'PXMP2{nodeId:7326} - INTERACTS_WITH -> mitochondrion{nodeId:125013} - INTERACTS_WITH -> BAD{nodeId:4060}', 'TIMM8A{nodeId:7814} - INTERACTS_WITH -> mitochondrion{nodeId:125013} - INTERACTS_WITH -> BAD{nodeId:4060}', 'TIMM50{nodeId:8191} - INTERACTS_WITH -> mitochondrion{nodeId:125013} - INTERACTS_WITH -> BAD{nodeId:4060}', 'ABHD6{nodeId:8199} - INTERACTS_WITH -> mitochondrion{nodeId:125013} - INTERACTS_WITH -> BAD{nodeId:4060}', 'TAMM41{nodeId:11309} - INTERACTS_WITH -> mitochondrion{nodeId:125013} - INTERACTS_WITH -> BAD{nodeId:4060}', 'POR{nodeId:11369} - INTERACTS_WITH -> mitochondrion{nodeId:125013} - INTERACTS_WITH -> BAD{nodeId:4060}', 'TIMM9{nodeId:11671} - INTERACTS_WITH -> mitochondrion{nodeId:125013} - INTERACTS_WITH -> BAD{nodeId:4060}', 'OXSM{nodeId:12702} - INTERACTS_WITH -> mitochondrion{nodeId:125013} - INTERACTS_WITH -> BAD{nodeId:4060}', 'OPA3{nodeId:13304} - INTERACTS_WITH -> mitochondrion{nodeId:125013} - INTERACTS_WITH -> BAD{nodeId:4060}', 'PERP{nodeId:35311} - INTERACTS_WITH -> mitochondrion{nodeId:125013} - INTERACTS_WITH -> BAD{nodeId:4060}', 'LIPT2{nodeId:35401} - INTERACTS_WITH -> mitochondrion{nodeId:125013} - INTERACTS_WITH -> BAD{nodeId:4060}', 'TMEM102{nodeId:57288} - INTERACTS_WITH -> mitochondrion{nodeId:125013} - INTERACTS_WITH -> BAD{nodeId:4060}', 'IMMP1L{nodeId:58602} - INTERACTS_WITH -> mitochondrion{nodeId:125013} - INTERACTS_WITH -> BAD{nodeId:4060}', 'MPV17L2{nodeId:60368} - INTERACTS_WITH -> mitochondrion{nodeId:125013} - INTERACTS_WITH -> BAD{nodeId:4060}', 'MPV17L{nodeId:60432} - INTERACTS_WITH -> mitochondrion{nodeId:125013} - INTERACTS_WITH -> BAD{nodeId:4060}', 'TOMM5{nodeId:60505} - INTERACTS_WITH -> mitochondrion{nodeId:125013} - INTERACTS_WITH -> BAD{nodeId:4060}', 'OXA1L{nodeId:486} - INTERACTS_WITH -> mitochondrion{nodeId:125013} - INTERACTS_WITH -> BCL2L11{nodeId:4295}', 'IMMT{nodeId:1916} - INTERACTS_WITH -> mitochondrion{nodeId:125013} - INTERACTS_WITH -> BCL2L11{nodeId:4295}', 'PEX11B{nodeId:1920} - INTERACTS_WITH -> mitochondrion{nodeId:125013} - INTERACTS_WITH -> BCL2L11{nodeId:4295}', 'TOMM34{nodeId:2048} - INTERACTS_WITH -> mitochondrion{nodeId:125013} - INTERACTS_WITH -> BCL2L11{nodeId:4295}', 'TOMM20{nodeId:2219} - INTERACTS_WITH -> mitochondrion{nodeId:125013} - INTERACTS_WITH -> BCL2L11{nodeId:4295}', 'CPT1A{nodeId:2481} - INTERACTS_WITH -> mitochondrion{nodeId:125013} - INTERACTS_WITH -> BCL2L11{nodeId:4295}', 'TOMM40{nodeId:2665} - INTERACTS_WITH -> mitochondrion{nodeId:125013} - INTERACTS_WITH -> BCL2L11{nodeId:4295}', 'TIMM44{nodeId:4009} - INTERACTS_WITH -> mitochondrion{nodeId:125013} - INTERACTS_WITH -> BCL2L11{nodeId:4295}', 'ATP5MF{nodeId:6126} - INTERACTS_WITH -> mitochondrion{nodeId:125013} - INTERACTS_WITH -> BCL2L11{nodeId:4295}', 'TMEM11{nodeId:6242} - INTERACTS_WITH -> mitochondrion{nodeId:125013} - INTERACTS_WITH -> BCL2L11{nodeId:4295}', 'TOMM22{nodeId:6932} - INTERACTS_WITH -> mitochondrion{nodeId:125013} - INTERACTS_WITH -> BCL2L11{nodeId:4295}', 'MPV17{nodeId:7084} - INTERACTS_WITH -> mitochondrion{nodeId:125013} - INTERACTS_WITH -> BCL2L11{nodeId:4295}', 'PXMP2{nodeId:7326} - INTERACTS_WITH -> mitochondrion{nodeId:125013} - INTERACTS_WITH -> BCL2L11{nodeId:4295}', 'TIMM8A{nodeId:7814} - INTERACTS_WITH -> mitochondrion{nodeId:125013} - INTERACTS_WITH -> BCL2L11{nodeId:4295}', 'TIMM50{nodeId:8191} - INTERACTS_WITH -> mitochondrion{nodeId:125013} - INTERACTS_WITH -> BCL2L11{nodeId:4295}', 'ABHD6{nodeId:8199} - INTERACTS_WITH -> mitochondrion{nodeId:125013} - INTERACTS_WITH -> BCL2L11{nodeId:4295}', 'TAMM41{nodeId:11309} - INTERACTS_WITH -> mitochondrion{nodeId:125013} - INTERACTS_WITH -> BCL2L11{nodeId:4295}', 'POR{nodeId:11369} - INTERACTS_WITH -> mitochondrion{nodeId:125013} - INTERACTS_WITH -> BCL2L11{nodeId:4295}', 'TIMM9{nodeId:11671} - INTERACTS_WITH -> mitochondrion{nodeId:125013} - INTERACTS_WITH -> BCL2L11{nodeId:4295}', 'OXSM{nodeId:12702} - INTERACTS_WITH -> mitochondrion{nodeId:125013} - INTERACTS_WITH -> BCL2L11{nodeId:4295}', 'OPA3{nodeId:13304} - INTERACTS_WITH -> mitochondrion{nodeId:125013} - INTERACTS_WITH -> BCL2L11{nodeId:4295}', 'PERP{nodeId:35311} - INTERACTS_WITH -> mitochondrion{nodeId:125013} - INTERACTS_WITH -> BCL2L11{nodeId:4295}', 'LIPT2{nodeId:35401} - INTERACTS_WITH -> mitochondrion{nodeId:125013} - INTERACTS_WITH -> BCL2L11{nodeId:4295}', 'TMEM102{nodeId:57288} - INTERACTS_WITH -> mitochondrion{nodeId:125013} - INTERACTS_WITH -> BCL2L11{nodeId:4295}', 'IMMP1L{nodeId:58602} - INTERACTS_WITH -> mitochondrion{nodeId:125013} - INTERACTS_WITH -> BCL2L11{nodeId:4295}', 'MPV17L2{nodeId:60368} - INTERACTS_WITH -> mitochondrion{nodeId:125013} - INTERACTS_WITH -> BCL2L11{nodeId:4295}', 'MPV17L{nodeId:60432} - INTERACTS_WITH -> mitochondrion{nodeId:125013} - INTERACTS_WITH -> BCL2L11{nodeId:4295}', 'TOMM5{nodeId:60505} - INTERACTS_WITH -> mitochondrion{nodeId:125013} - INTERACTS_WITH -> BCL2L11{nodeId:4295}', 'OXA1L{nodeId:486} - INTERACTS_WITH -> mitochondrion{nodeId:125013} - INTERACTS_WITH -> BCL2L1{nodeId:4323}', 'IMMT{nodeId:1916} - INTERACTS_WITH -> mitochondrion{nodeId:125013} - INTERACTS_WITH -> BCL2L1{nodeId:4323}', 'PEX11B{nodeId:1920} - INTERACTS_WITH -> mitochondrion{nodeId:125013} - INTERACTS_WITH -> BCL2L1{nodeId:4323}', 'TOMM34{nodeId:2048} - INTERACTS_WITH -> mitochondrion{nodeId:125013} - INTERACTS_WITH -> BCL2L1{nodeId:4323}', 'TOMM20{nodeId:2219} - INTERACTS_WITH -> mitochondrion{nodeId:125013} - INTERACTS_WITH -> BCL2L1{nodeId:4323}', 'CPT1A{nodeId:2481} - INTERACTS_WITH -> mitochondrion{nodeId:125013} - INTERACTS_WITH -> BCL2L1{nodeId:4323}', 'TOMM40{nodeId:2665} - INTERACTS_WITH -> mitochondrion{nodeId:125013} - INTERACTS_WITH -> BCL2L1{nodeId:4323}', 'TIMM44{nodeId:4009} - INTERACTS_WITH -> mitochondrion{nodeId:125013} - INTERACTS_WITH -> BCL2L1{nodeId:4323}', 'ATP5MF{nodeId:6126} - INTERACTS_WITH -> mitochondrion{nodeId:125013} - INTERACTS_WITH -> BCL2L1{nodeId:4323}', 'TMEM11{nodeId:6242} - INTERACTS_WITH -> mitochondrion{nodeId:125013} - INTERACTS_WITH -> BCL2L1{nodeId:4323}', 'TOMM22{nodeId:6932} - INTERACTS_WITH -> mitochondrion{nodeId:125013} - INTERACTS_WITH -> BCL2L1{nodeId:4323}', 'MPV17{nodeId:7084} - INTERACTS_WITH -> mitochondrion{nodeId:125013} - INTERACTS_WITH -> BCL2L1{nodeId:4323}', 'PXMP2{nodeId:7326} - INTERACTS_WITH -> mitochondrion{nodeId:125013} - INTERACTS_WITH -> BCL2L1{nodeId:4323}', 'TIMM8A{nodeId:7814} - INTERACTS_WITH -> mitochondrion{nodeId:125013} - INTERACTS_WITH -> BCL2L1{nodeId:4323}', 'TIMM50{nodeId:8191} - INTERACTS_WITH -> mitochondrion{nodeId:125013} - INTERACTS_WITH -> BCL2L1{nodeId:4323}', 'ABHD6{nodeId:8199} - INTERACTS_WITH -> mitochondrion{nodeId:125013} - INTERACTS_WITH -> BCL2L1{nodeId:4323}', 'TAMM41{nodeId:11309} - INTERACTS_WITH -> mitochondrion{nodeId:125013} - INTERACTS_WITH -> BCL2L1{nodeId:4323}', 'POR{nodeId:11369} - INTERACTS_WITH -> mitochondrion{nodeId:125013} - INTERACTS_WITH -> BCL2L1{nodeId:4323}', 'TIMM9{nodeId:11671} - INTERACTS_WITH -> mitochondrion{nodeId:125013} - INTERACTS_WITH -> BCL2L1{nodeId:4323}', 'OXSM{nodeId:12702} - INTERACTS_WITH -> mitochondrion{nodeId:125013} - INTERACTS_WITH -> BCL2L1{nodeId:4323}', 'OPA3{nodeId:13304} - INTERACTS_WITH -> mitochondrion{nodeId:125013} - INTERACTS_WITH -> BCL2L1{nodeId:4323}', 'PERP{nodeId:35311} - INTERACTS_WITH -> mitochondrion{nodeId:125013} - INTERACTS_WITH -> BCL2L1{nodeId:4323}', 'LIPT2{nodeId:35401} - INTERACTS_WITH -> mitochondrion{nodeId:125013} - INTERACTS_WITH -> BCL2L1{nodeId:4323}', 'TMEM102{nodeId:57288} - INTERACTS_WITH -> mitochondrion{nodeId:125013} - INTERACTS_WITH -> BCL2L1{nodeId:4323}', 'IMMP1L{nodeId:58602} - INTERACTS_WITH -> mitochondrion{nodeId:125013} - INTERACTS_WITH -> BCL2L1{nodeId:4323}', 'MPV17L2{nodeId:60368} - INTERACTS_WITH -> mitochondrion{nodeId:125013} - INTERACTS_WITH -> BCL2L1{nodeId:4323}', 'MPV17L{nodeId:60432} - INTERACTS_WITH -> mitochondrion{nodeId:125013} - INTERACTS_WITH -> BCL2L1{nodeId:4323}', 'TOMM5{nodeId:60505} - INTERACTS_WITH -> mitochondrion{nodeId:125013} - INTERACTS_WITH -> BCL2L1{nodeId:4323}', 'OXA1L{nodeId:486} - INTERACTS_WITH -> mitochondrion{nodeId:125013} - INTERACTS_WITH -> CASP9{nodeId:5349}', 'IMMT{nodeId:1916} - INTERACTS_WITH -> mitochondrion{nodeId:125013} - INTERACTS_WITH -> CASP9{nodeId:5349}', 'PEX11B{nodeId:1920} - INTERACTS_WITH -> mitochondrion{nodeId:125013} - INTERACTS_WITH -> CASP9{nodeId:5349}', 'TOMM34{nodeId:2048} - INTERACTS_WITH -> mitochondrion{nodeId:125013} - INTERACTS_WITH -> CASP9{nodeId:5349}', 'TOMM20{nodeId:2219} - INTERACTS_WITH -> mitochondrion{nodeId:125013} - INTERACTS_WITH -> CASP9{nodeId:5349}', 'CPT1A{nodeId:2481} - INTERACTS_WITH -> mitochondrion{nodeId:125013} - INTERACTS_WITH -> CASP9{nodeId:5349}', 'TOMM40{nodeId:2665} - INTERACTS_WITH -> mitochondrion{nodeId:125013} - INTERACTS_WITH -> CASP9{nodeId:5349}', 'TIMM44{nodeId:4009} - INTERACTS_WITH -> mitochondrion{nodeId:125013} - INTERACTS_WITH -> CASP9{nodeId:5349}', 'ATP5MF{nodeId:6126} - INTERACTS_WITH -> mitochondrion{nodeId:125013} - INTERACTS_WITH -> CASP9{nodeId:5349}', 'TMEM11{nodeId:6242} - INTERACTS_WITH -> mitochondrion{nodeId:125013} - INTERACTS_WITH -> CASP9{nodeId:5349}', 'TOMM22{nodeId:6932} - INTERACTS_WITH -> mitochondrion{nodeId:125013} - INTERACTS_WITH -> CASP9{nodeId:5349}', 'MPV17{nodeId:7084} - INTERACTS_WITH -> mitochondrion{nodeId:125013} - INTERACTS_WITH -> CASP9{nodeId:5349}', 'PXMP2{nodeId:7326} - INTERACTS_WITH -> mitochondrion{nodeId:125013} - INTERACTS_WITH -> CASP9{nodeId:5349}', 'TIMM8A{nodeId:7814} - INTERACTS_WITH -> mitochondrion{nodeId:125013} - INTERACTS_WITH -> CASP9{nodeId:5349}', 'TIMM50{nodeId:8191} - INTERACTS_WITH -> mitochondrion{nodeId:125013} - INTERACTS_WITH -> CASP9{nodeId:5349}', 'ABHD6{nodeId:8199} - INTERACTS_WITH -> mitochondrion{nodeId:125013} - INTERACTS_WITH -> CASP9{nodeId:5349}', 'TAMM41{nodeId:11309} - INTERACTS_WITH -> mitochondrion{nodeId:125013} - INTERACTS_WITH -> CASP9{nodeId:5349}', 'POR{nodeId:11369} - INTERACTS_WITH -> mitochondrion{nodeId:125013} - INTERACTS_WITH -> CASP9{nodeId:5349}', 'TIMM9{nodeId:11671} - INTERACTS_WITH -> mitochondrion{nodeId:125013} - INTERACTS_WITH -> CASP9{nodeId:5349}', 'OXSM{nodeId:12702} - INTERACTS_WITH -> mitochondrion{nodeId:125013} - INTERACTS_WITH -> CASP9{nodeId:5349}', 'OPA3{nodeId:13304} - INTERACTS_WITH -> mitochondrion{nodeId:125013} - INTERACTS_WITH -> CASP9{nodeId:5349}', 'PERP{nodeId:35311} - INTERACTS_WITH -> mitochondrion{nodeId:125013} - INTERACTS_WITH -> CASP9{nodeId:5349}', 'LIPT2{nodeId:35401} - INTERACTS_WITH -> mitochondrion{nodeId:125013} - INTERACTS_WITH -> CASP9{nodeId:5349}', 'TMEM102{nodeId:57288} - INTERACTS_WITH -> mitochondrion{nodeId:125013} - INTERACTS_WITH -> CASP9{nodeId:5349}', 'IMMP1L{nodeId:58602} - INTERACTS_WITH -> mitochondrion{nodeId:125013} - INTERACTS_WITH -> CASP9{nodeId:5349}', 'MPV17L2{nodeId:60368} - INTERACTS_WITH -> mitochondrion{nodeId:125013} - INTERACTS_WITH -> CASP9{nodeId:5349}', 'MPV17L{nodeId:60432} - INTERACTS_WITH -> mitochondrion{nodeId:125013} - INTERACTS_WITH -> CASP9{nodeId:5349}', 'TOMM5{nodeId:60505} - INTERACTS_WITH -> mitochondrion{nodeId:125013} - INTERACTS_WITH -> CASP9{nodeId:5349}', 'OXA1L{nodeId:486} - INTERACTS_WITH -> mitochondrion{nodeId:125013} - INTERACTS_WITH -> BOK{nodeId:6030}', 'IMMT{nodeId:1916} - INTERACTS_WITH -> mitochondrion{nodeId:125013} - INTERACTS_WITH -> BOK{nodeId:6030}', 'PEX11B{nodeId:1920} - INTERACTS_WITH -> mitochondrion{nodeId:125013} - INTERACTS_WITH -> BOK{nodeId:6030}', 'TOMM34{nodeId:2048} - INTERACTS_WITH -> mitochondrion{nodeId:125013} - INTERACTS_WITH -> BOK{nodeId:6030}', 'TOMM20{nodeId:2219} - INTERACTS_WITH -> mitochondrion{nodeId:125013} - INTERACTS_WITH -> BOK{nodeId:6030}', 'CPT1A{nodeId:2481} - INTERACTS_WITH -> mitochondrion{nodeId:125013} - INTERACTS_WITH -> BOK{nodeId:6030}', 'TOMM40{nodeId:2665} - INTERACTS_WITH -> mitochondrion{nodeId:125013} - INTERACTS_WITH -> BOK{nodeId:6030}', 'TIMM44{nodeId:4009} - INTERACTS_WITH -> mitochondrion{nodeId:125013} - INTERACTS_WITH -> BOK{nodeId:6030}', 'ATP5MF{nodeId:6126} - INTERACTS_WITH -> mitochondrion{nodeId:125013} - INTERACTS_WITH -> BOK{nodeId:6030}', 'TMEM11{nodeId:6242} - INTERACTS_WITH -> mitochondrion{nodeId:125013} - INTERACTS_WITH -> BOK{nodeId:6030}', 'TOMM22{nodeId:6932} - INTERACTS_WITH -> mitochondrion{nodeId:125013} - INTERACTS_WITH -> BOK{nodeId:6030}', 'MPV17{nodeId:7084} - INTERACTS_WITH -> mitochondrion{nodeId:125013} - INTERACTS_WITH -> BOK{nodeId:6030}', 'PXMP2{nodeId:7326} - INTERACTS_WITH -> mitochondrion{nodeId:125013} - INTERACTS_WITH -> BOK{nodeId:6030}', 'TIMM8A{nodeId:7814} - INTERACTS_WITH -> mitochondrion{nodeId:125013} - INTERACTS_WITH -> BOK{nodeId:6030}', 'TIMM50{nodeId:8191} - INTERACTS_WITH -> mitochondrion{nodeId:125013} - INTERACTS_WITH -> BOK{nodeId:6030}', 'ABHD6{nodeId:8199} - INTERACTS_WITH -> mitochondrion{nodeId:125013} - INTERACTS_WITH -> BOK{nodeId:6030}', 'TAMM41{nodeId:11309} - INTERACTS_WITH -> mitochondrion{nodeId:125013} - INTERACTS_WITH -> BOK{nodeId:6030}', 'POR{nodeId:11369} - INTERACTS_WITH -> mitochondrion{nodeId:125013} - INTERACTS_WITH -> BOK{nodeId:6030}', 'TIMM9{nodeId:11671} - INTERACTS_WITH -> mitochondrion{nodeId:125013} - INTERACTS_WITH -> BOK{nodeId:6030}', 'OXSM{nodeId:12702} - INTERACTS_WITH -> mitochondrion{nodeId:125013} - INTERACTS_WITH -> BOK{nodeId:6030}', 'OPA3{nodeId:13304} - INTERACTS_WITH -> mitochondrion{nodeId:125013} - INTERACTS_WITH -> BOK{nodeId:6030}', 'PERP{nodeId:35311} - INTERACTS_WITH -> mitochondrion{nodeId:125013} - INTERACTS_WITH -> BOK{nodeId:6030}', 'LIPT2{nodeId:35401} - INTERACTS_WITH -> mitochondrion{nodeId:125013} - INTERACTS_WITH -> BOK{nodeId:6030}', 'TMEM102{nodeId:57288} - INTERACTS_WITH -> mitochondrion{nodeId:125013} - INTERACTS_WITH -> BOK{nodeId:6030}', 'IMMP1L{nodeId:58602} - INTERACTS_WITH -> mitochondrion{nodeId:125013} - INTERACTS_WITH -> BOK{nodeId:6030}', 'MPV17L2{nodeId:60368} - INTERACTS_WITH -> mitochondrion{nodeId:125013} - INTERACTS_WITH -> BOK{nodeId:6030}', 'MPV17L{nodeId:60432} - INTERACTS_WITH -> mitochondrion{nodeId:125013} - INTERACTS_WITH -> BOK{nodeId:6030}', 'TOMM5{nodeId:60505} - INTERACTS_WITH -> mitochondrion{nodeId:125013} - INTERACTS_WITH -> BOK{nodeId:6030}', 'OXA1L{nodeId:486} - INTERACTS_WITH -> mitochondrion{nodeId:125013} - INTERACTS_WITH -> CASP14{nodeId:6539}', 'IMMT{nodeId:1916} - INTERACTS_WITH -> mitochondrion{nodeId:125013} - INTERACTS_WITH -> CASP14{nodeId:6539}', 'PEX11B{nodeId:1920} - INTERACTS_WITH -> mitochondrion{nodeId:125013} - INTERACTS_WITH -> CASP14{nodeId:6539}', 'TOMM34{nodeId:2048} - INTERACTS_WITH -> mitochondrion{nodeId:125013} - INTERACTS_WITH -> CASP14{nodeId:6539}', 'TOMM20{nodeId:2219} - INTERACTS_WITH -> mitochondrion{nodeId:125013} - INTERACTS_WITH -> CASP14{nodeId:6539}', 'CPT1A{nodeId:2481} - INTERACTS_WITH -> mitochondrion{nodeId:125013} - INTERACTS_WITH -> CASP14{nodeId:6539}', 'TOMM40{nodeId:2665} - INTERACTS_WITH -> mitochondrion{nodeId:125013} - INTERACTS_WITH -> CASP14{nodeId:6539}', 'TIMM44{nodeId:4009} - INTERACTS_WITH -> mitochondrion{nodeId:125013} - INTERACTS_WITH -> CASP14{nodeId:6539}', 'ATP5MF{nodeId:6126} - INTERACTS_WITH -> mitochondrion{nodeId:125013} - INTERACTS_WITH -> CASP14{nodeId:6539}', 'TMEM11{nodeId:6242} - INTERACTS_WITH -> mitochondrion{nodeId:125013} - INTERACTS_WITH -> CASP14{nodeId:6539}', 'TOMM22{nodeId:6932} - INTERACTS_WITH -> mitochondrion{nodeId:125013} - INTERACTS_WITH -> CASP14{nodeId:6539}', 'MPV17{nodeId:7084} - INTERACTS_WITH -> mitochondrion{nodeId:125013} - INTERACTS_WITH -> CASP14{nodeId:6539}', 'PXMP2{nodeId:7326} - INTERACTS_WITH -> mitochondrion{nodeId:125013} - INTERACTS_WITH -> CASP14{nodeId:6539}', 'TIMM8A{nodeId:7814} - INTERACTS_WITH -> mitochondrion{nodeId:125013} - INTERACTS_WITH -> CASP14{nodeId:6539}', 'TIMM50{nodeId:8191} - INTERACTS_WITH -> mitochondrion{nodeId:125013} - INTERACTS_WITH -> CASP14{nodeId:6539}', 'ABHD6{nodeId:8199} - INTERACTS_WITH -> mitochondrion{nodeId:125013} - INTERACTS_WITH -> CASP14{nodeId:6539}', 'TAMM41{nodeId:11309} - INTERACTS_WITH -> mitochondrion{nodeId:125013} - INTERACTS_WITH -> CASP14{nodeId:6539}', 'POR{nodeId:11369} - INTERACTS_WITH -> mitochondrion{nodeId:125013} - INTERACTS_WITH -> CASP14{nodeId:6539}', 'TIMM9{nodeId:11671} - INTERACTS_WITH -> mitochondrion{nodeId:125013} - INTERACTS_WITH -> CASP14{nodeId:6539}', 'OXSM{nodeId:12702} - INTERACTS_WITH -> mitochondrion{nodeId:125013} - INTERACTS_WITH -> CASP14{nodeId:6539}', 'OPA3{nodeId:13304} - INTERACTS_WITH -> mitochondrion{nodeId:125013} - INTERACTS_WITH -> CASP14{nodeId:6539}', 'PERP{nodeId:35311} - INTERACTS_WITH -> mitochondrion{nodeId:125013} - INTERACTS_WITH -> CASP14{nodeId:6539}', 'LIPT2{nodeId:35401} - INTERACTS_WITH -> mitochondrion{nodeId:125013} - INTERACTS_WITH -> CASP14{nodeId:6539}', 'TMEM102{nodeId:57288} - INTERACTS_WITH -> mitochondrion{nodeId:125013} - INTERACTS_WITH -> CASP14{nodeId:6539}', 'IMMP1L{nodeId:58602} - INTERACTS_WITH -> mitochondrion{nodeId:125013} - INTERACTS_WITH -> CASP14{nodeId:6539}', 'MPV17L2{nodeId:60368} - INTERACTS_WITH -> mitochondrion{nodeId:125013} - INTERACTS_WITH -> CASP14{nodeId:6539}', 'MPV17L{nodeId:60432} - INTERACTS_WITH -> mitochondrion{nodeId:125013} - INTERACTS_WITH -> CASP14{nodeId:6539}', 'TOMM5{nodeId:60505} - INTERACTS_WITH -> mitochondrion{nodeId:125013} - INTERACTS_WITH -> CASP14{nodeId:6539}', 'OXA1L{nodeId:486} - INTERACTS_WITH -> mitochondrion{nodeId:125013} - INTERACTS_WITH -> APH1A{nodeId:7208}', 'IMMT{nodeId:1916} - INTERACTS_WITH -> mitochondrion{nodeId:125013} - INTERACTS_WITH -> APH1A{nodeId:7208}', 'PEX11B{nodeId:1920} - INTERACTS_WITH -> mitochondrion{nodeId:125013} - INTERACTS_WITH -> APH1A{nodeId:7208}', 'TOMM34{nodeId:2048} - INTERACTS_WITH -> mitochondrion{nodeId:125013} - INTERACTS_WITH -> APH1A{nodeId:7208}', 'TOMM20{nodeId:2219} - INTERACTS_WITH -> mitochondrion{nodeId:125013} - INTERACTS_WITH -> APH1A{nodeId:7208}', 'CPT1A{nodeId:2481} - INTERACTS_WITH -> mitochondrion{nodeId:125013} - INTERACTS_WITH -> APH1A{nodeId:7208}', 'TOMM40{nodeId:2665} - INTERACTS_WITH -> mitochondrion{nodeId:125013} - INTERACTS_WITH -> APH1A{nodeId:7208}', 'TIMM44{nodeId:4009} - INTERACTS_WITH -> mitochondrion{nodeId:125013} - INTERACTS_WITH -> APH1A{nodeId:7208}', 'ATP5MF{nodeId:6126} - INTERACTS_WITH -> mitochondrion{nodeId:125013} - INTERACTS_WITH -> APH1A{nodeId:7208}', 'TMEM11{nodeId:6242} - INTERACTS_WITH -> mitochondrion{nodeId:125013} - INTERACTS_WITH -> APH1A{nodeId:7208}', 'TOMM22{nodeId:6932} - INTERACTS_WITH -> mitochondrion{nodeId:125013} - INTERACTS_WITH -> APH1A{nodeId:7208}', 'MPV17{nodeId:7084} - INTERACTS_WITH -> mitochondrion{nodeId:125013} - INTERACTS_WITH -> APH1A{nodeId:7208}', 'PXMP2{nodeId:7326} - INTERACTS_WITH -> mitochondrion{nodeId:125013} - INTERACTS_WITH -> APH1A{nodeId:7208}', 'TIMM8A{nodeId:7814} - INTERACTS_WITH -> mitochondrion{nodeId:125013} - INTERACTS_WITH -> APH1A{nodeId:7208}', 'TIMM50{nodeId:8191} - INTERACTS_WITH -> mitochondrion{nodeId:125013} - INTERACTS_WITH -> APH1A{nodeId:7208}', 'ABHD6{nodeId:8199} - INTERACTS_WITH -> mitochondrion{nodeId:125013} - INTERACTS_WITH -> APH1A{nodeId:7208}', 'TAMM41{nodeId:11309} - INTERACTS_WITH -> mitochondrion{nodeId:125013} - INTERACTS_WITH -> APH1A{nodeId:7208}', 'POR{nodeId:11369} - INTERACTS_WITH -> mitochondrion{nodeId:125013} - INTERACTS_WITH -> APH1A{nodeId:7208}', 'TIMM9{nodeId:11671} - INTERACTS_WITH -> mitochondrion{nodeId:125013} - INTERACTS_WITH -> APH1A{nodeId:7208}', 'OXSM{nodeId:12702} - INTERACTS_WITH -> mitochondrion{nodeId:125013} - INTERACTS_WITH -> APH1A{nodeId:7208}', 'OPA3{nodeId:13304} - INTERACTS_WITH -> mitochondrion{nodeId:125013} - INTERACTS_WITH -> APH1A{nodeId:7208}', 'PERP{nodeId:35311} - INTERACTS_WITH -> mitochondrion{nodeId:125013} - INTERACTS_WITH -> APH1A{nodeId:7208}', 'LIPT2{nodeId:35401} - INTERACTS_WITH -> mitochondrion{nodeId:125013} - INTERACTS_WITH -> APH1A{nodeId:7208}', 'TMEM102{nodeId:57288} - INTERACTS_WITH -> mitochondrion{nodeId:125013} - INTERACTS_WITH -> APH1A{nodeId:7208}', 'IMMP1L{nodeId:58602} - INTERACTS_WITH -> mitochondrion{nodeId:125013} - INTERACTS_WITH -> APH1A{nodeId:7208}', 'MPV17L2{nodeId:60368} - INTERACTS_WITH -> mitochondrion{nodeId:125013} - INTERACTS_WITH -> APH1A{nodeId:7208}', 'MPV17L{nodeId:60432} - INTERACTS_WITH -> mitochondrion{nodeId:125013} - INTERACTS_WITH -> APH1A{nodeId:7208}', 'TOMM5{nodeId:60505} - INTERACTS_WITH -> mitochondrion{nodeId:125013} - INTERACTS_WITH -> APH1A{nodeId:7208}', 'OXA1L{nodeId:486} - INTERACTS_WITH -> mitochondrion{nodeId:125013} - INTERACTS_WITH -> BNIP3L{nodeId:7262}', 'IMMT{nodeId:1916} - INTERACTS_WITH -> mitochondrion{nodeId:125013} - INTERACTS_WITH -> BNIP3L{nodeId:7262}', 'PEX11B{nodeId:1920} - INTERACTS_WITH -> mitochondrion{nodeId:125013} - INTERACTS_WITH -> BNIP3L{nodeId:7262}', 'TOMM34{nodeId:2048} - INTERACTS_WITH -> mitochondrion{nodeId:125013} - INTERACTS_WITH -> BNIP3L{nodeId:7262}', 'TOMM20{nodeId:2219} - INTERACTS_WITH -> mitochondrion{nodeId:125013} - INTERACTS_WITH -> BNIP3L{nodeId:7262}', 'CPT1A{nodeId:2481} - INTERACTS_WITH -> mitochondrion{nodeId:125013} - INTERACTS_WITH -> BNIP3L{nodeId:7262}', 'TOMM40{nodeId:2665} - INTERACTS_WITH -> mitochondrion{nodeId:125013} - INTERACTS_WITH -> BNIP3L{nodeId:7262}', 'TIMM44{nodeId:4009} - INTERACTS_WITH -> mitochondrion{nodeId:125013} - INTERACTS_WITH -> BNIP3L{nodeId:7262}', 'ATP5MF{nodeId:6126} - INTERACTS_WITH -> mitochondrion{nodeId:125013} - INTERACTS_WITH -> BNIP3L{nodeId:7262}', 'TMEM11{nodeId:6242} - INTERACTS_WITH -> mitochondrion{nodeId:125013} - INTERACTS_WITH -> BNIP3L{nodeId:7262}', 'TOMM22{nodeId:6932} - INTERACTS_WITH -> mitochondrion{nodeId:125013} - INTERACTS_WITH -> BNIP3L{nodeId:7262}', 'MPV17{nodeId:7084} - INTERACTS_WITH -> mitochondrion{nodeId:125013} - INTERACTS_WITH -> BNIP3L{nodeId:7262}', 'PXMP2{nodeId:7326} - INTERACTS_WITH -> mitochondrion{nodeId:125013} - INTERACTS_WITH -> BNIP3L{nodeId:7262}', 'TIMM8A{nodeId:7814} - INTERACTS_WITH -> mitochondrion{nodeId:125013} - INTERACTS_WITH -> BNIP3L{nodeId:7262}', 'TIMM50{nodeId:8191} - INTERACTS_WITH -> mitochondrion{nodeId:125013} - INTERACTS_WITH -> BNIP3L{nodeId:7262}', 'ABHD6{nodeId:8199} - INTERACTS_WITH -> mitochondrion{nodeId:125013} - INTERACTS_WITH -> BNIP3L{nodeId:7262}', 'TAMM41{nodeId:11309} - INTERACTS_WITH -> mitochondrion{nodeId:125013} - INTERACTS_WITH -> BNIP3L{nodeId:7262}', 'POR{nodeId:11369} - INTERACTS_WITH -> mitochondrion{nodeId:125013} - INTERACTS_WITH -> BNIP3L{nodeId:7262}', 'TIMM9{nodeId:11671} - INTERACTS_WITH -> mitochondrion{nodeId:125013} - INTERACTS_WITH -> BNIP3L{nodeId:7262}', 'OXSM{nodeId:12702} - INTERACTS_WITH -> mitochondrion{nodeId:125013} - INTERACTS_WITH -> BNIP3L{nodeId:7262}', 'OPA3{nodeId:13304} - INTERACTS_WITH -> mitochondrion{nodeId:125013} - INTERACTS_WITH -> BNIP3L{nodeId:7262}', 'PERP{nodeId:35311} - INTERACTS_WITH -> mitochondrion{nodeId:125013} - INTERACTS_WITH -> BNIP3L{nodeId:7262}', 'LIPT2{nodeId:35401} - INTERACTS_WITH -> mitochondrion{nodeId:125013} - INTERACTS_WITH -> BNIP3L{nodeId:7262}', 'TMEM102{nodeId:57288} - INTERACTS_WITH -> mitochondrion{nodeId:125013} - INTERACTS_WITH -> BNIP3L{nodeId:7262}', 'IMMP1L{nodeId:58602} - INTERACTS_WITH -> mitochondrion{nodeId:125013} - INTERACTS_WITH -> BNIP3L{nodeId:7262}', 'MPV17L2{nodeId:60368} - INTERACTS_WITH -> mitochondrion{nodeId:125013} - INTERACTS_WITH -> BNIP3L{nodeId:7262}', 'MPV17L{nodeId:60432} - INTERACTS_WITH -> mitochondrion{nodeId:125013} - INTERACTS_WITH -> BNIP3L{nodeId:7262}', 'TOMM5{nodeId:60505} - INTERACTS_WITH -> mitochondrion{nodeId:125013} - INTERACTS_WITH -> BNIP3L{nodeId:7262}', 'OXA1L{nodeId:486} - INTERACTS_WITH -> mitochondrion{nodeId:125013} - INTERACTS_WITH -> CASP8AP2{nodeId:7519}', 'IMMT{nodeId:1916} - INTERACTS_WITH -> mitochondrion{nodeId:125013} - INTERACTS_WITH -> CASP8AP2{nodeId:7519}', 'PEX11B{nodeId:1920} - INTERACTS_WITH -> mitochondrion{nodeId:125013} - INTERACTS_WITH -> CASP8AP2{nodeId:7519}', 'TOMM34{nodeId:2048} - INTERACTS_WITH -> mitochondrion{nodeId:125013} - INTERACTS_WITH -> CASP8AP2{nodeId:7519}', 'TOMM20{nodeId:2219} - INTERACTS_WITH -> mitochondrion{nodeId:125013} - INTERACTS_WITH -> CASP8AP2{nodeId:7519}', 'CPT1A{nodeId:2481} - INTERACTS_WITH -> mitochondrion{nodeId:125013} - INTERACTS_WITH -> CASP8AP2{nodeId:7519}', 'TOMM40{nodeId:2665} - INTERACTS_WITH -> mitochondrion{nodeId:125013} - INTERACTS_WITH -> CASP8AP2{nodeId:7519}', 'TIMM44{nodeId:4009} - INTERACTS_WITH -> mitochondrion{nodeId:125013} - INTERACTS_WITH -> CASP8AP2{nodeId:7519}', 'ATP5MF{nodeId:6126} - INTERACTS_WITH -> mitochondrion{nodeId:125013} - INTERACTS_WITH -> CASP8AP2{nodeId:7519}', 'TMEM11{nodeId:6242} - INTERACTS_WITH -> mitochondrion{nodeId:125013} - INTERACTS_WITH -> CASP8AP2{nodeId:7519}', 'TOMM22{nodeId:6932} - INTERACTS_WITH -> mitochondrion{nodeId:125013} - INTERACTS_WITH -> CASP8AP2{nodeId:7519}', 'MPV17{nodeId:7084} - INTERACTS_WITH -> mitochondrion{nodeId:125013} - INTERACTS_WITH -> CASP8AP2{nodeId:7519}', 'PXMP2{nodeId:7326} - INTERACTS_WITH -> mitochondrion{nodeId:125013} - INTERACTS_WITH -> CASP8AP2{nodeId:7519}', 'TIMM8A{nodeId:7814} - INTERACTS_WITH -> mitochondrion{nodeId:125013} - INTERACTS_WITH -> CASP8AP2{nodeId:7519}', 'TIMM50{nodeId:8191} - INTERACTS_WITH -> mitochondrion{nodeId:125013} - INTERACTS_WITH -> CASP8AP2{nodeId:7519}', 'ABHD6{nodeId:8199} - INTERACTS_WITH -> mitochondrion{nodeId:125013} - INTERACTS_WITH -> CASP8AP2{nodeId:7519}', 'TAMM41{nodeId:11309} - INTERACTS_WITH -> mitochondrion{nodeId:125013} - INTERACTS_WITH -> CASP8AP2{nodeId:7519}', 'POR{nodeId:11369} - INTERACTS_WITH -> mitochondrion{nodeId:125013} - INTERACTS_WITH -> CASP8AP2{nodeId:7519}', 'TIMM9{nodeId:11671} - INTERACTS_WITH -> mitochondrion{nodeId:125013} - INTERACTS_WITH -> CASP8AP2{nodeId:7519}', 'OXSM{nodeId:12702} - INTERACTS_WITH -> mitochondrion{nodeId:125013} - INTERACTS_WITH -> CASP8AP2{nodeId:7519}', 'OPA3{nodeId:13304} - INTERACTS_WITH -> mitochondrion{nodeId:125013} - INTERACTS_WITH -> CASP8AP2{nodeId:7519}', 'PERP{nodeId:35311} - INTERACTS_WITH -> mitochondrion{nodeId:125013} - INTERACTS_WITH -> CASP8AP2{nodeId:7519}', 'LIPT2{nodeId:35401} - INTERACTS_WITH -> mitochondrion{nodeId:125013} - INTERACTS_WITH -> CASP8AP2{nodeId:7519}', 'TMEM102{nodeId:57288} - INTERACTS_WITH -> mitochondrion{nodeId:125013} - INTERACTS_WITH -> CASP8AP2{nodeId:7519}', 'IMMP1L{nodeId:58602} - INTERACTS_WITH -> mitochondrion{nodeId:125013} - INTERACTS_WITH -> CASP8AP2{nodeId:7519}', 'MPV17L2{nodeId:60368} - INTERACTS_WITH -> mitochondrion{nodeId:125013} - INTERACTS_WITH -> CASP8AP2{nodeId:7519}', 'MPV17L{nodeId:60432} - INTERACTS_WITH -> mitochondrion{nodeId:125013} - INTERACTS_WITH -> CASP8AP2{nodeId:7519}', 'TOMM5{nodeId:60505} - INTERACTS_WITH -> mitochondrion{nodeId:125013} - INTERACTS_WITH -> CASP8AP2{nodeId:7519}', 'OXA1L{nodeId:486} - INTERACTS_WITH -> mitochondrion{nodeId:125013} - INTERACTS_WITH -> TRIAP1{nodeId:8734}', 'IMMT{nodeId:1916} - INTERACTS_WITH -> mitochondrion{nodeId:125013} - INTERACTS_WITH -> TRIAP1{nodeId:8734}', 'PEX11B{nodeId:1920} - INTERACTS_WITH -> mitochondrion{nodeId:125013} - INTERACTS_WITH -> TRIAP1{nodeId:8734}', 'TOMM34{nodeId:2048} - INTERACTS_WITH -> mitochondrion{nodeId:125013} - INTERACTS_WITH -> TRIAP1{nodeId:8734}', 'TOMM20{nodeId:2219} - INTERACTS_WITH -> mitochondrion{nodeId:125013} - INTERACTS_WITH -> TRIAP1{nodeId:8734}', 'CPT1A{nodeId:2481} - INTERACTS_WITH -> mitochondrion{nodeId:125013} - INTERACTS_WITH -> TRIAP1{nodeId:8734}', 'TOMM40{nodeId:2665} - INTERACTS_WITH -> mitochondrion{nodeId:125013} - INTERACTS_WITH -> TRIAP1{nodeId:8734}', 'TIMM44{nodeId:4009} - INTERACTS_WITH -> mitochondrion{nodeId:125013} - INTERACTS_WITH -> TRIAP1{nodeId:8734}', 'ATP5MF{nodeId:6126} - INTERACTS_WITH -> mitochondrion{nodeId:125013} - INTERACTS_WITH -> TRIAP1{nodeId:8734}', 'TMEM11{nodeId:6242} - INTERACTS_WITH -> mitochondrion{nodeId:125013} - INTERACTS_WITH -> TRIAP1{nodeId:8734}', 'TOMM22{nodeId:6932} - INTERACTS_WITH -> mitochondrion{nodeId:125013} - INTERACTS_WITH -> TRIAP1{nodeId:8734}', 'MPV17{nodeId:7084} - INTERACTS_WITH -> mitochondrion{nodeId:125013} - INTERACTS_WITH -> TRIAP1{nodeId:8734}', 'PXMP2{nodeId:7326} - INTERACTS_WITH -> mitochondrion{nodeId:125013} - INTERACTS_WITH -> TRIAP1{nodeId:8734}', 'TIMM8A{nodeId:7814} - INTERACTS_WITH -> mitochondrion{nodeId:125013} - INTERACTS_WITH -> TRIAP1{nodeId:8734}', 'TIMM50{nodeId:8191} - INTERACTS_WITH -> mitochondrion{nodeId:125013} - INTERACTS_WITH -> TRIAP1{nodeId:8734}', 'ABHD6{nodeId:8199} - INTERACTS_WITH -> mitochondrion{nodeId:125013} - INTERACTS_WITH -> TRIAP1{nodeId:8734}', 'TAMM41{nodeId:11309} - INTERACTS_WITH -> mitochondrion{nodeId:125013} - INTERACTS_WITH -> TRIAP1{nodeId:8734}', 'POR{nodeId:11369} - INTERACTS_WITH -> mitochondrion{nodeId:125013} - INTERACTS_WITH -> TRIAP1{nodeId:8734}', 'TIMM9{nodeId:11671} - INTERACTS_WITH -> mitochondrion{nodeId:125013} - INTERACTS_WITH -> TRIAP1{nodeId:8734}', 'OXSM{nodeId:12702} - INTERACTS_WITH -> mitochondrion{nodeId:125013} - INTERACTS_WITH -> TRIAP1{nodeId:8734}', 'OPA3{nodeId:13304} - INTERACTS_WITH -> mitochondrion{nodeId:125013} - INTERACTS_WITH -> TRIAP1{nodeId:8734}', 'PERP{nodeId:35311} - INTERACTS_WITH -> mitochondrion{nodeId:125013} - INTERACTS_WITH -> TRIAP1{nodeId:8734}', 'LIPT2{nodeId:35401} - INTERACTS_WITH -> mitochondrion{nodeId:125013} - INTERACTS_WITH -> TRIAP1{nodeId:8734}', 'TMEM102{nodeId:57288} - INTERACTS_WITH -> mitochondrion{nodeId:125013} - INTERACTS_WITH -> TRIAP1{nodeId:8734}', 'IMMP1L{nodeId:58602} - INTERACTS_WITH -> mitochondrion{nodeId:125013} - INTERACTS_WITH -> TRIAP1{nodeId:8734}', 'MPV17L2{nodeId:60368} - INTERACTS_WITH -> mitochondrion{nodeId:125013} - INTERACTS_WITH -> TRIAP1{nodeId:8734}', 'MPV17L{nodeId:60432} - INTERACTS_WITH -> mitochondrion{nodeId:125013} - INTERACTS_WITH -> TRIAP1{nodeId:8734}', 'TOMM5{nodeId:60505} - INTERACTS_WITH -> mitochondrion{nodeId:125013} - INTERACTS_WITH -> TRIAP1{nodeId:8734}', 'OXA1L{nodeId:486} - INTERACTS_WITH -> mitochondrion{nodeId:125013} - INTERACTS_WITH -> PPP1R13B{nodeId:9394}', 'IMMT{nodeId:1916} - INTERACTS_WITH -> mitochondrion{nodeId:125013} - INTERACTS_WITH -> PPP1R13B{nodeId:9394}', 'PEX11B{nodeId:1920} - INTERACTS_WITH -> mitochondrion{nodeId:125013} - INTERACTS_WITH -> PPP1R13B{nodeId:9394}', 'TOMM34{nodeId:2048} - INTERACTS_WITH -> mitochondrion{nodeId:125013} - INTERACTS_WITH -> PPP1R13B{nodeId:9394}', 'TOMM20{nodeId:2219} - INTERACTS_WITH -> mitochondrion{nodeId:125013} - INTERACTS_WITH -> PPP1R13B{nodeId:9394}', 'CPT1A{nodeId:2481} - INTERACTS_WITH -> mitochondrion{nodeId:125013} - INTERACTS_WITH -> PPP1R13B{nodeId:9394}', 'TOMM40{nodeId:2665} - INTERACTS_WITH -> mitochondrion{nodeId:125013} - INTERACTS_WITH -> PPP1R13B{nodeId:9394}', 'TIMM44{nodeId:4009} - INTERACTS_WITH -> mitochondrion{nodeId:125013} - INTERACTS_WITH -> PPP1R13B{nodeId:9394}', 'ATP5MF{nodeId:6126} - INTERACTS_WITH -> mitochondrion{nodeId:125013} - INTERACTS_WITH -> PPP1R13B{nodeId:9394}', 'TMEM11{nodeId:6242} - INTERACTS_WITH -> mitochondrion{nodeId:125013} - INTERACTS_WITH -> PPP1R13B{nodeId:9394}', 'TOMM22{nodeId:6932} - INTERACTS_WITH -> mitochondrion{nodeId:125013} - INTERACTS_WITH -> PPP1R13B{nodeId:9394}', 'MPV17{nodeId:7084} - INTERACTS_WITH -> mitochondrion{nodeId:125013} - INTERACTS_WITH -> PPP1R13B{nodeId:9394}', 'PXMP2{nodeId:7326} - INTERACTS_WITH -> mitochondrion{nodeId:125013} - INTERACTS_WITH -> PPP1R13B{nodeId:9394}', 'TIMM8A{nodeId:7814} - INTERACTS_WITH -> mitochondrion{nodeId:125013} - INTERACTS_WITH -> PPP1R13B{nodeId:9394}', 'TIMM50{nodeId:8191} - INTERACTS_WITH -> mitochondrion{nodeId:125013} - INTERACTS_WITH -> PPP1R13B{nodeId:9394}', 'ABHD6{nodeId:8199} - INTERACTS_WITH -> mitochondrion{nodeId:125013} - INTERACTS_WITH -> PPP1R13B{nodeId:9394}', 'TAMM41{nodeId:11309} - INTERACTS_WITH -> mitochondrion{nodeId:125013} - INTERACTS_WITH -> PPP1R13B{nodeId:9394}', 'POR{nodeId:11369} - INTERACTS_WITH -> mitochondrion{nodeId:125013} - INTERACTS_WITH -> PPP1R13B{nodeId:9394}', 'TIMM9{nodeId:11671} - INTERACTS_WITH -> mitochondrion{nodeId:125013} - INTERACTS_WITH -> PPP1R13B{nodeId:9394}', 'OXSM{nodeId:12702} - INTERACTS_WITH -> mitochondrion{nodeId:125013} - INTERACTS_WITH -> PPP1R13B{nodeId:9394}', 'OPA3{nodeId:13304} - INTERACTS_WITH -> mitochondrion{nodeId:125013} - INTERACTS_WITH -> PPP1R13B{nodeId:9394}', 'PERP{nodeId:35311} - INTERACTS_WITH -> mitochondrion{nodeId:125013} - INTERACTS_WITH -> PPP1R13B{nodeId:9394}', 'LIPT2{nodeId:35401} - INTERACTS_WITH -> mitochondrion{nodeId:125013} - INTERACTS_WITH -> PPP1R13B{nodeId:9394}', 'TMEM102{nodeId:57288} - INTERACTS_WITH -> mitochondrion{nodeId:125013} - INTERACTS_WITH -> PPP1R13B{nodeId:9394}', 'IMMP1L{nodeId:58602} - INTERACTS_WITH -> mitochondrion{nodeId:125013} - INTERACTS_WITH -> PPP1R13B{nodeId:9394}', 'MPV17L2{nodeId:60368} - INTERACTS_WITH -> mitochondrion{nodeId:125013} - INTERACTS_WITH -> PPP1R13B{nodeId:9394}', 'MPV17L{nodeId:60432} - INTERACTS_WITH -> mitochondrion{nodeId:125013} - INTERACTS_WITH -> PPP1R13B{nodeId:9394}', 'TOMM5{nodeId:60505} - INTERACTS_WITH -> mitochondrion{nodeId:125013} - INTERACTS_WITH -> PPP1R13B{nodeId:9394}', 'OXA1L{nodeId:486} - INTERACTS_WITH -> mitochondrion{nodeId:125013} - INTERACTS_WITH -> DELE1{nodeId:9481}', 'IMMT{nodeId:1916} - INTERACTS_WITH -> mitochondrion{nodeId:125013} - INTERACTS_WITH -> DELE1{nodeId:9481}', 'PEX11B{nodeId:1920} - INTERACTS_WITH -> mitochondrion{nodeId:125013} - INTERACTS_WITH -> DELE1{nodeId:9481}', 'TOMM34{nodeId:2048} - INTERACTS_WITH -> mitochondrion{nodeId:125013} - INTERACTS_WITH -> DELE1{nodeId:9481}', 'TOMM20{nodeId:2219} - INTERACTS_WITH -> mitochondrion{nodeId:125013} - INTERACTS_WITH -> DELE1{nodeId:9481}', 'CPT1A{nodeId:2481} - INTERACTS_WITH -> mitochondrion{nodeId:125013} - INTERACTS_WITH -> DELE1{nodeId:9481}', 'TOMM40{nodeId:2665} - INTERACTS_WITH -> mitochondrion{nodeId:125013} - INTERACTS_WITH -> DELE1{nodeId:9481}', 'TIMM44{nodeId:4009} - INTERACTS_WITH -> mitochondrion{nodeId:125013} - INTERACTS_WITH -> DELE1{nodeId:9481}', 'ATP5MF{nodeId:6126} - INTERACTS_WITH -> mitochondrion{nodeId:125013} - INTERACTS_WITH -> DELE1{nodeId:9481}', 'TMEM11{nodeId:6242} - INTERACTS_WITH -> mitochondrion{nodeId:125013} - INTERACTS_WITH -> DELE1{nodeId:9481}', 'TOMM22{nodeId:6932} - INTERACTS_WITH -> mitochondrion{nodeId:125013} - INTERACTS_WITH -> DELE1{nodeId:9481}', 'MPV17{nodeId:7084} - INTERACTS_WITH -> mitochondrion{nodeId:125013} - INTERACTS_WITH -> DELE1{nodeId:9481}', 'PXMP2{nodeId:7326} - INTERACTS_WITH -> mitochondrion{nodeId:125013} - INTERACTS_WITH -> DELE1{nodeId:9481}', 'TIMM8A{nodeId:7814} - INTERACTS_WITH -> mitochondrion{nodeId:125013} - INTERACTS_WITH -> DELE1{nodeId:9481}', 'TIMM50{nodeId:8191} - INTERACTS_WITH -> mitochondrion{nodeId:125013} - INTERACTS_WITH -> DELE1{nodeId:9481}', 'ABHD6{nodeId:8199} - INTERACTS_WITH -> mitochondrion{nodeId:125013} - INTERACTS_WITH -> DELE1{nodeId:9481}', 'TAMM41{nodeId:11309} - INTERACTS_WITH -> mitochondrion{nodeId:125013} - INTERACTS_WITH -> DELE1{nodeId:9481}', 'POR{nodeId:11369} - INTERACTS_WITH -> mitochondrion{nodeId:125013} - INTERACTS_WITH -> DELE1{nodeId:9481}', 'TIMM9{nodeId:11671} - INTERACTS_WITH -> mitochondrion{nodeId:125013} - INTERACTS_WITH -> DELE1{nodeId:9481}', 'OXSM{nodeId:12702} - INTERACTS_WITH -> mitochondrion{nodeId:125013} - INTERACTS_WITH -> DELE1{nodeId:9481}', 'OPA3{nodeId:13304} - INTERACTS_WITH -> mitochondrion{nodeId:125013} - INTERACTS_WITH -> DELE1{nodeId:9481}', 'PERP{nodeId:35311} - INTERACTS_WITH -> mitochondrion{nodeId:125013} - INTERACTS_WITH -> DELE1{nodeId:9481}', 'LIPT2{nodeId:35401} - INTERACTS_WITH -> mitochondrion{nodeId:125013} - INTERACTS_WITH -> DELE1{nodeId:9481}', 'TMEM102{nodeId:57288} - INTERACTS_WITH -> mitochondrion{nodeId:125013} - INTERACTS_WITH -> DELE1{nodeId:9481}', 'IMMP1L{nodeId:58602} - INTERACTS_WITH -> mitochondrion{nodeId:125013} - INTERACTS_WITH -> DELE1{nodeId:9481}', 'MPV17L2{nodeId:60368} - INTERACTS_WITH -> mitochondrion{nodeId:125013} - INTERACTS_WITH -> DELE1{nodeId:9481}', 'MPV17L{nodeId:60432} - INTERACTS_WITH -> mitochondrion{nodeId:125013} - INTERACTS_WITH -> DELE1{nodeId:9481}', 'TOMM5{nodeId:60505} - INTERACTS_WITH -> mitochondrion{nodeId:125013} - INTERACTS_WITH -> DELE1{nodeId:9481}', 'OXA1L{nodeId:486} - INTERACTS_WITH -> mitochondrion{nodeId:125013} - INTERACTS_WITH -> BCL2L10{nodeId:9633}', 'IMMT{nodeId:1916} - INTERACTS_WITH -> mitochondrion{nodeId:125013} - INTERACTS_WITH -> BCL2L10{nodeId:9633}', 'PEX11B{nodeId:1920} - INTERACTS_WITH -> mitochondrion{nodeId:125013} - INTERACTS_WITH -> BCL2L10{nodeId:9633}', 'TOMM34{nodeId:2048} - INTERACTS_WITH -> mitochondrion{nodeId:125013} - INTERACTS_WITH -> BCL2L10{nodeId:9633}', 'TOMM20{nodeId:2219} - INTERACTS_WITH -> mitochondrion{nodeId:125013} - INTERACTS_WITH -> BCL2L10{nodeId:9633}', 'CPT1A{nodeId:2481} - INTERACTS_WITH -> mitochondrion{nodeId:125013} - INTERACTS_WITH -> BCL2L10{nodeId:9633}', 'TOMM40{nodeId:2665} - INTERACTS_WITH -> mitochondrion{nodeId:125013} - INTERACTS_WITH -> BCL2L10{nodeId:9633}', 'TIMM44{nodeId:4009} - INTERACTS_WITH -> mitochondrion{nodeId:125013} - INTERACTS_WITH -> BCL2L10{nodeId:9633}', 'ATP5MF{nodeId:6126} - INTERACTS_WITH -> mitochondrion{nodeId:125013} - INTERACTS_WITH -> BCL2L10{nodeId:9633}', 'TMEM11{nodeId:6242} - INTERACTS_WITH -> mitochondrion{nodeId:125013} - INTERACTS_WITH -> BCL2L10{nodeId:9633}', 'TOMM22{nodeId:6932} - INTERACTS_WITH -> mitochondrion{nodeId:125013} - INTERACTS_WITH -> BCL2L10{nodeId:9633}', 'MPV17{nodeId:7084} - INTERACTS_WITH -> mitochondrion{nodeId:125013} - INTERACTS_WITH -> BCL2L10{nodeId:9633}', 'PXMP2{nodeId:7326} - INTERACTS_WITH -> mitochondrion{nodeId:125013} - INTERACTS_WITH -> BCL2L10{nodeId:9633}', 'TIMM8A{nodeId:7814} - INTERACTS_WITH -> mitochondrion{nodeId:125013} - INTERACTS_WITH -> BCL2L10{nodeId:9633}', 'TIMM50{nodeId:8191} - INTERACTS_WITH -> mitochondrion{nodeId:125013} - INTERACTS_WITH -> BCL2L10{nodeId:9633}', 'ABHD6{nodeId:8199} - INTERACTS_WITH -> mitochondrion{nodeId:125013} - INTERACTS_WITH -> BCL2L10{nodeId:9633}', 'TAMM41{nodeId:11309} - INTERACTS_WITH -> mitochondrion{nodeId:125013} - INTERACTS_WITH -> BCL2L10{nodeId:9633}', 'POR{nodeId:11369} - INTERACTS_WITH -> mitochondrion{nodeId:125013} - INTERACTS_WITH -> BCL2L10{nodeId:9633}', 'TIMM9{nodeId:11671} - INTERACTS_WITH -> mitochondrion{nodeId:125013} - INTERACTS_WITH -> BCL2L10{nodeId:9633}', 'OXSM{nodeId:12702} - INTERACTS_WITH -> mitochondrion{nodeId:125013} - INTERACTS_WITH -> BCL2L10{nodeId:9633}', 'OPA3{nodeId:13304} - INTERACTS_WITH -> mitochondrion{nodeId:125013} - INTERACTS_WITH -> BCL2L10{nodeId:9633}', 'PERP{nodeId:35311} - INTERACTS_WITH -> mitochondrion{nodeId:125013} - INTERACTS_WITH -> BCL2L10{nodeId:9633}', 'LIPT2{nodeId:35401} - INTERACTS_WITH -> mitochondrion{nodeId:125013} - INTERACTS_WITH -> BCL2L10{nodeId:9633}', 'TMEM102{nodeId:57288} - INTERACTS_WITH -> mitochondrion{nodeId:125013} - INTERACTS_WITH -> BCL2L10{nodeId:9633}', 'IMMP1L{nodeId:58602} - INTERACTS_WITH -> mitochondrion{nodeId:125013} - INTERACTS_WITH -> BCL2L10{nodeId:9633}', 'MPV17L2{nodeId:60368} - INTERACTS_WITH -> mitochondrion{nodeId:125013} - INTERACTS_WITH -> BCL2L10{nodeId:9633}', 'MPV17L{nodeId:60432} - INTERACTS_WITH -> mitochondrion{nodeId:125013} - INTERACTS_WITH -> BCL2L10{nodeId:9633}', 'TOMM5{nodeId:60505} - INTERACTS_WITH -> mitochondrion{nodeId:125013} - INTERACTS_WITH -> BCL2L10{nodeId:9633}', 'OXA1L{nodeId:486} - INTERACTS_WITH -> mitochondrion{nodeId:125013} - INTERACTS_WITH -> MOAP1{nodeId:9865}', 'IMMT{nodeId:1916} - INTERACTS_WITH -> mitochondrion{nodeId:125013} - INTERACTS_WITH -> MOAP1{nodeId:9865}', 'PEX11B{nodeId:1920} - INTERACTS_WITH -> mitochondrion{nodeId:125013} - INTERACTS_WITH -> MOAP1{nodeId:9865}', 'TOMM34{nodeId:2048} - INTERACTS_WITH -> mitochondrion{nodeId:125013} - INTERACTS_WITH -> MOAP1{nodeId:9865}', 'TOMM20{nodeId:2219} - INTERACTS_WITH -> mitochondrion{nodeId:125013} - INTERACTS_WITH -> MOAP1{nodeId:9865}', 'CPT1A{nodeId:2481} - INTERACTS_WITH -> mitochondrion{nodeId:125013} - INTERACTS_WITH -> MOAP1{nodeId:9865}', 'TOMM40{nodeId:2665} - INTERACTS_WITH -> mitochondrion{nodeId:125013} - INTERACTS_WITH -> MOAP1{nodeId:9865}', 'TIMM44{nodeId:4009} - INTERACTS_WITH -> mitochondrion{nodeId:125013} - INTERACTS_WITH -> MOAP1{nodeId:9865}', 'ATP5MF{nodeId:6126} - INTERACTS_WITH -> mitochondrion{nodeId:125013} - INTERACTS_WITH -> MOAP1{nodeId:9865}', 'TMEM11{nodeId:6242} - INTERACTS_WITH -> mitochondrion{nodeId:125013} - INTERACTS_WITH -> MOAP1{nodeId:9865}', 'TOMM22{nodeId:6932} - INTERACTS_WITH -> mitochondrion{nodeId:125013} - INTERACTS_WITH -> MOAP1{nodeId:9865}', 'MPV17{nodeId:7084} - INTERACTS_WITH -> mitochondrion{nodeId:125013} - INTERACTS_WITH -> MOAP1{nodeId:9865}', 'PXMP2{nodeId:7326} - INTERACTS_WITH -> mitochondrion{nodeId:125013} - INTERACTS_WITH -> MOAP1{nodeId:9865}', 'TIMM8A{nodeId:7814} - INTERACTS_WITH -> mitochondrion{nodeId:125013} - INTERACTS_WITH -> MOAP1{nodeId:9865}', 'TIMM50{nodeId:8191} - INTERACTS_WITH -> mitochondrion{nodeId:125013} - INTERACTS_WITH -> MOAP1{nodeId:9865}', 'ABHD6{nodeId:8199} - INTERACTS_WITH -> mitochondrion{nodeId:125013} - INTERACTS_WITH -> MOAP1{nodeId:9865}', 'TAMM41{nodeId:11309} - INTERACTS_WITH -> mitochondrion{nodeId:125013} - INTERACTS_WITH -> MOAP1{nodeId:9865}', 'POR{nodeId:11369} - INTERACTS_WITH -> mitochondrion{nodeId:125013} - INTERACTS_WITH -> MOAP1{nodeId:9865}', 'TIMM9{nodeId:11671} - INTERACTS_WITH -> mitochondrion{nodeId:125013} - INTERACTS_WITH -> MOAP1{nodeId:9865}', 'OXSM{nodeId:12702} - INTERACTS_WITH -> mitochondrion{nodeId:125013} - INTERACTS_WITH -> MOAP1{nodeId:9865}', 'OPA3{nodeId:13304} - INTERACTS_WITH -> mitochondrion{nodeId:125013} - INTERACTS_WITH -> MOAP1{nodeId:9865}', 'PERP{nodeId:35311} - INTERACTS_WITH -> mitochondrion{nodeId:125013} - INTERACTS_WITH -> MOAP1{nodeId:9865}', 'LIPT2{nodeId:35401} - INTERACTS_WITH -> mitochondrion{nodeId:125013} - INTERACTS_WITH -> MOAP1{nodeId:9865}', 'TMEM102{nodeId:57288} - INTERACTS_WITH -> mitochondrion{nodeId:125013} - INTERACTS_WITH -> MOAP1{nodeId:9865}', 'IMMP1L{nodeId:58602} - INTERACTS_WITH -> mitochondrion{nodeId:125013} - INTERACTS_WITH -> MOAP1{nodeId:9865}', 'MPV17L2{nodeId:60368} - INTERACTS_WITH -> mitochondrion{nodeId:125013} - INTERACTS_WITH -> MOAP1{nodeId:9865}', 'MPV17L{nodeId:60432} - INTERACTS_WITH -> mitochondrion{nodeId:125013} - INTERACTS_WITH -> MOAP1{nodeId:9865}', 'TOMM5{nodeId:60505} - INTERACTS_WITH -> mitochondrion{nodeId:125013} - INTERACTS_WITH -> MOAP1{nodeId:9865}', 'OXA1L{nodeId:486} - INTERACTS_WITH -> mitochondrion{nodeId:125013} - INTERACTS_WITH -> CIAPIN1{nodeId:10078}', 'IMMT{nodeId:1916} - INTERACTS_WITH -> mitochondrion{nodeId:125013} - INTERACTS_WITH -> CIAPIN1{nodeId:10078}', 'PEX11B{nodeId:1920} - INTERACTS_WITH -> mitochondrion{nodeId:125013} - INTERACTS_WITH -> CIAPIN1{nodeId:10078}', 'TOMM34{nodeId:2048} - INTERACTS_WITH -> mitochondrion{nodeId:125013} - INTERACTS_WITH -> CIAPIN1{nodeId:10078}', 'TOMM20{nodeId:2219} - INTERACTS_WITH -> mitochondrion{nodeId:125013} - INTERACTS_WITH -> CIAPIN1{nodeId:10078}', 'CPT1A{nodeId:2481} - INTERACTS_WITH -> mitochondrion{nodeId:125013} - INTERACTS_WITH -> CIAPIN1{nodeId:10078}', 'TOMM40{nodeId:2665} - INTERACTS_WITH -> mitochondrion{nodeId:125013} - INTERACTS_WITH -> CIAPIN1{nodeId:10078}', 'TIMM44{nodeId:4009} - INTERACTS_WITH -> mitochondrion{nodeId:125013} - INTERACTS_WITH -> CIAPIN1{nodeId:10078}', 'ATP5MF{nodeId:6126} - INTERACTS_WITH -> mitochondrion{nodeId:125013} - INTERACTS_WITH -> CIAPIN1{nodeId:10078}', 'TMEM11{nodeId:6242} - INTERACTS_WITH -> mitochondrion{nodeId:125013} - INTERACTS_WITH -> CIAPIN1{nodeId:10078}', 'TOMM22{nodeId:6932} - INTERACTS_WITH -> mitochondrion{nodeId:125013} - INTERACTS_WITH -> CIAPIN1{nodeId:10078}', 'MPV17{nodeId:7084} - INTERACTS_WITH -> mitochondrion{nodeId:125013} - INTERACTS_WITH -> CIAPIN1{nodeId:10078}', 'PXMP2{nodeId:7326} - INTERACTS_WITH -> mitochondrion{nodeId:125013} - INTERACTS_WITH -> CIAPIN1{nodeId:10078}', 'TIMM8A{nodeId:7814} - INTERACTS_WITH -> mitochondrion{nodeId:125013} - INTERACTS_WITH -> CIAPIN1{nodeId:10078}', 'TIMM50{nodeId:8191} - INTERACTS_WITH -> mitochondrion{nodeId:125013} - INTERACTS_WITH -> CIAPIN1{nodeId:10078}', 'ABHD6{nodeId:8199} - INTERACTS_WITH -> mitochondrion{nodeId:125013} - INTERACTS_WITH -> CIAPIN1{nodeId:10078}', 'TAMM41{nodeId:11309} - INTERACTS_WITH -> mitochondrion{nodeId:125013} - INTERACTS_WITH -> CIAPIN1{nodeId:10078}', 'POR{nodeId:11369} - INTERACTS_WITH -> mitochondrion{nodeId:125013} - INTERACTS_WITH -> CIAPIN1{nodeId:10078}', 'TIMM9{nodeId:11671} - INTERACTS_WITH -> mitochondrion{nodeId:125013} - INTERACTS_WITH -> CIAPIN1{nodeId:10078}', 'OXSM{nodeId:12702} - INTERACTS_WITH -> mitochondrion{nodeId:125013} - INTERACTS_WITH -> CIAPIN1{nodeId:10078}', 'OPA3{nodeId:13304} - INTERACTS_WITH -> mitochondrion{nodeId:125013} - INTERACTS_WITH -> CIAPIN1{nodeId:10078}', 'PERP{nodeId:35311} - INTERACTS_WITH -> mitochondrion{nodeId:125013} - INTERACTS_WITH -> CIAPIN1{nodeId:10078}', 'LIPT2{nodeId:35401} - INTERACTS_WITH -> mitochondrion{nodeId:125013} - INTERACTS_WITH -> CIAPIN1{nodeId:10078}', 'TMEM102{nodeId:57288} - INTERACTS_WITH -> mitochondrion{nodeId:125013} - INTERACTS_WITH -> CIAPIN1{nodeId:10078}', 'IMMP1L{nodeId:58602} - INTERACTS_WITH -> mitochondrion{nodeId:125013} - INTERACTS_WITH -> CIAPIN1{nodeId:10078}', 'MPV17L2{nodeId:60368} - INTERACTS_WITH -> mitochondrion{nodeId:125013} - INTERACTS_WITH -> CIAPIN1{nodeId:10078}', 'MPV17L{nodeId:60432} - INTERACTS_WITH -> mitochondrion{nodeId:125013} - INTERACTS_WITH -> CIAPIN1{nodeId:10078}', 'TOMM5{nodeId:60505} - INTERACTS_WITH -> mitochondrion{nodeId:125013} - INTERACTS_WITH -> CIAPIN1{nodeId:10078}', 'OXA1L{nodeId:486} - INTERACTS_WITH -> mitochondrion{nodeId:125013} - INTERACTS_WITH -> TP53AIP1{nodeId:12627}', 'IMMT{nodeId:1916} - INTERACTS_WITH -> mitochondrion{nodeId:125013} - INTERACTS_WITH -> TP53AIP1{nodeId:12627}', 'PEX11B{nodeId:1920} - INTERACTS_WITH -> mitochondrion{nodeId:125013} - INTERACTS_WITH -> TP53AIP1{nodeId:12627}', 'TOMM34{nodeId:2048} - INTERACTS_WITH -> mitochondrion{nodeId:125013} - INTERACTS_WITH -> TP53AIP1{nodeId:12627}', 'TOMM20{nodeId:2219} - INTERACTS_WITH -> mitochondrion{nodeId:125013} - INTERACTS_WITH -> TP53AIP1{nodeId:12627}', 'CPT1A{nodeId:2481} - INTERACTS_WITH -> mitochondrion{nodeId:125013} - INTERACTS_WITH -> TP53AIP1{nodeId:12627}', 'TOMM40{nodeId:2665} - INTERACTS_WITH -> mitochondrion{nodeId:125013} - INTERACTS_WITH -> TP53AIP1{nodeId:12627}', 'TIMM44{nodeId:4009} - INTERACTS_WITH -> mitochondrion{nodeId:125013} - INTERACTS_WITH -> TP53AIP1{nodeId:12627}', 'ATP5MF{nodeId:6126} - INTERACTS_WITH -> mitochondrion{nodeId:125013} - INTERACTS_WITH -> TP53AIP1{nodeId:12627}', 'TMEM11{nodeId:6242} - INTERACTS_WITH -> mitochondrion{nodeId:125013} - INTERACTS_WITH -> TP53AIP1{nodeId:12627}', 'TOMM22{nodeId:6932} - INTERACTS_WITH -> mitochondrion{nodeId:125013} - INTERACTS_WITH -> TP53AIP1{nodeId:12627}', 'MPV17{nodeId:7084} - INTERACTS_WITH -> mitochondrion{nodeId:125013} - INTERACTS_WITH -> TP53AIP1{nodeId:12627}', 'PXMP2{nodeId:7326} - INTERACTS_WITH -> mitochondrion{nodeId:125013} - INTERACTS_WITH -> TP53AIP1{nodeId:12627}', 'TIMM8A{nodeId:7814} - INTERACTS_WITH -> mitochondrion{nodeId:125013} - INTERACTS_WITH -> TP53AIP1{nodeId:12627}', 'TIMM50{nodeId:8191} - INTERACTS_WITH -> mitochondrion{nodeId:125013} - INTERACTS_WITH -> TP53AIP1{nodeId:12627}', 'ABHD6{nodeId:8199} - INTERACTS_WITH -> mitochondrion{nodeId:125013} - INTERACTS_WITH -> TP53AIP1{nodeId:12627}', 'TAMM41{nodeId:11309} - INTERACTS_WITH -> mitochondrion{nodeId:125013} - INTERACTS_WITH -> TP53AIP1{nodeId:12627}', 'POR{nodeId:11369} - INTERACTS_WITH -> mitochondrion{nodeId:125013} - INTERACTS_WITH -> TP53AIP1{nodeId:12627}', 'TIMM9{nodeId:11671} - INTERACTS_WITH -> mitochondrion{nodeId:125013} - INTERACTS_WITH -> TP53AIP1{nodeId:12627}', 'OXSM{nodeId:12702} - INTERACTS_WITH -> mitochondrion{nodeId:125013} - INTERACTS_WITH -> TP53AIP1{nodeId:12627}', 'OPA3{nodeId:13304} - INTERACTS_WITH -> mitochondrion{nodeId:125013} - INTERACTS_WITH -> TP53AIP1{nodeId:12627}', 'PERP{nodeId:35311} - INTERACTS_WITH -> mitochondrion{nodeId:125013} - INTERACTS_WITH -> TP53AIP1{nodeId:12627}', 'LIPT2{nodeId:35401} - INTERACTS_WITH -> mitochondrion{nodeId:125013} - INTERACTS_WITH -> TP53AIP1{nodeId:12627}', 'TMEM102{nodeId:57288} - INTERACTS_WITH -> mitochondrion{nodeId:125013} - INTERACTS_WITH -> TP53AIP1{nodeId:12627}', 'IMMP1L{nodeId:58602} - INTERACTS_WITH -> mitochondrion{nodeId:125013} - INTERACTS_WITH -> TP53AIP1{nodeId:12627}', 'MPV17L2{nodeId:60368} - INTERACTS_WITH -> mitochondrion{nodeId:125013} - INTERACTS_WITH -> TP53AIP1{nodeId:12627}', 'MPV17L{nodeId:60432} - INTERACTS_WITH -> mitochondrion{nodeId:125013} - INTERACTS_WITH -> TP53AIP1{nodeId:12627}', 'TOMM5{nodeId:60505} - INTERACTS_WITH -> mitochondrion{nodeId:125013} - INTERACTS_WITH -> TP53AIP1{nodeId:12627}', 'OXA1L{nodeId:486} - INTERACTS_WITH -> mitochondrion{nodeId:125013} - INTERACTS_WITH -> NAIF1{nodeId:13130}', 'IMMT{nodeId:1916} - INTERACTS_WITH -> mitochondrion{nodeId:125013} - INTERACTS_WITH -> NAIF1{nodeId:13130}', 'PEX11B{nodeId:1920} - INTERACTS_WITH -> mitochondrion{nodeId:125013} - INTERACTS_WITH -> NAIF1{nodeId:13130}', 'TOMM34{nodeId:2048} - INTERACTS_WITH -> mitochondrion{nodeId:125013} - INTERACTS_WITH -> NAIF1{nodeId:13130}', 'TOMM20{nodeId:2219} - INTERACTS_WITH -> mitochondrion{nodeId:125013} - INTERACTS_WITH -> NAIF1{nodeId:13130}', 'CPT1A{nodeId:2481} - INTERACTS_WITH -> mitochondrion{nodeId:125013} - INTERACTS_WITH -> NAIF1{nodeId:13130}', 'TOMM40{nodeId:2665} - INTERACTS_WITH -> mitochondrion{nodeId:125013} - INTERACTS_WITH -> NAIF1{nodeId:13130}', 'TIMM44{nodeId:4009} - INTERACTS_WITH -> mitochondrion{nodeId:125013} - INTERACTS_WITH -> NAIF1{nodeId:13130}', 'ATP5MF{nodeId:6126} - INTERACTS_WITH -> mitochondrion{nodeId:125013} - INTERACTS_WITH -> NAIF1{nodeId:13130}', 'TMEM11{nodeId:6242} - INTERACTS_WITH -> mitochondrion{nodeId:125013} - INTERACTS_WITH -> NAIF1{nodeId:13130}', 'TOMM22{nodeId:6932} - INTERACTS_WITH -> mitochondrion{nodeId:125013} - INTERACTS_WITH -> NAIF1{nodeId:13130}', 'MPV17{nodeId:7084} - INTERACTS_WITH -> mitochondrion{nodeId:125013} - INTERACTS_WITH -> NAIF1{nodeId:13130}', 'PXMP2{nodeId:7326} - INTERACTS_WITH -> mitochondrion{nodeId:125013} - INTERACTS_WITH -> NAIF1{nodeId:13130}', 'TIMM8A{nodeId:7814} - INTERACTS_WITH -> mitochondrion{nodeId:125013} - INTERACTS_WITH -> NAIF1{nodeId:13130}', 'TIMM50{nodeId:8191} - INTERACTS_WITH -> mitochondrion{nodeId:125013} - INTERACTS_WITH -> NAIF1{nodeId:13130}', 'ABHD6{nodeId:8199} - INTERACTS_WITH -> mitochondrion{nodeId:125013} - INTERACTS_WITH -> NAIF1{nodeId:13130}', 'TAMM41{nodeId:11309} - INTERACTS_WITH -> mitochondrion{nodeId:125013} - INTERACTS_WITH -> NAIF1{nodeId:13130}', 'POR{nodeId:11369} - INTERACTS_WITH -> mitochondrion{nodeId:125013} - INTERACTS_WITH -> NAIF1{nodeId:13130}', 'TIMM9{nodeId:11671} - INTERACTS_WITH -> mitochondrion{nodeId:125013} - INTERACTS_WITH -> NAIF1{nodeId:13130}', 'OXSM{nodeId:12702} - INTERACTS_WITH -> mitochondrion{nodeId:125013} - INTERACTS_WITH -> NAIF1{nodeId:13130}', 'OPA3{nodeId:13304} - INTERACTS_WITH -> mitochondrion{nodeId:125013} - INTERACTS_WITH -> NAIF1{nodeId:13130}', 'PERP{nodeId:35311} - INTERACTS_WITH -> mitochondrion{nodeId:125013} - INTERACTS_WITH -> NAIF1{nodeId:13130}', 'LIPT2{nodeId:35401} - INTERACTS_WITH -> mitochondrion{nodeId:125013} - INTERACTS_WITH -> NAIF1{nodeId:13130}', 'TMEM102{nodeId:57288} - INTERACTS_WITH -> mitochondrion{nodeId:125013} - INTERACTS_WITH -> NAIF1{nodeId:13130}', 'IMMP1L{nodeId:58602} - INTERACTS_WITH -> mitochondrion{nodeId:125013} - INTERACTS_WITH -> NAIF1{nodeId:13130}', 'MPV17L2{nodeId:60368} - INTERACTS_WITH -> mitochondrion{nodeId:125013} - INTERACTS_WITH -> NAIF1{nodeId:13130}', 'MPV17L{nodeId:60432} - INTERACTS_WITH -> mitochondrion{nodeId:125013} - INTERACTS_WITH -> NAIF1{nodeId:13130}', 'TOMM5{nodeId:60505} - INTERACTS_WITH -> mitochondrion{nodeId:125013} - INTERACTS_WITH -> NAIF1{nodeId:13130}', 'OXA1L{nodeId:486} - INTERACTS_WITH -> mitochondrion{nodeId:125013} - INTERACTS_WITH -> G0S2{nodeId:34664}', 'IMMT{nodeId:1916} - INTERACTS_WITH -> mitochondrion{nodeId:125013} - INTERACTS_WITH -> G0S2{nodeId:34664}', 'PEX11B{nodeId:1920} - INTERACTS_WITH -> mitochondrion{nodeId:125013} - INTERACTS_WITH -> G0S2{nodeId:34664}', 'TOMM34{nodeId:2048} - INTERACTS_WITH -> mitochondrion{nodeId:125013} - INTERACTS_WITH -> G0S2{nodeId:34664}', 'TOMM20{nodeId:2219} - INTERACTS_WITH -> mitochondrion{nodeId:125013} - INTERACTS_WITH -> G0S2{nodeId:34664}', 'CPT1A{nodeId:2481} - INTERACTS_WITH -> mitochondrion{nodeId:125013} - INTERACTS_WITH -> G0S2{nodeId:34664}', 'TOMM40{nodeId:2665} - INTERACTS_WITH -> mitochondrion{nodeId:125013} - INTERACTS_WITH -> G0S2{nodeId:34664}', 'TIMM44{nodeId:4009} - INTERACTS_WITH -> mitochondrion{nodeId:125013} - INTERACTS_WITH -> G0S2{nodeId:34664}', 'ATP5MF{nodeId:6126} - INTERACTS_WITH -> mitochondrion{nodeId:125013} - INTERACTS_WITH -> G0S2{nodeId:34664}', 'TMEM11{nodeId:6242} - INTERACTS_WITH -> mitochondrion{nodeId:125013} - INTERACTS_WITH -> G0S2{nodeId:34664}', 'TOMM22{nodeId:6932} - INTERACTS_WITH -> mitochondrion{nodeId:125013} - INTERACTS_WITH -> G0S2{nodeId:34664}', 'MPV17{nodeId:7084} - INTERACTS_WITH -> mitochondrion{nodeId:125013} - INTERACTS_WITH -> G0S2{nodeId:34664}', 'PXMP2{nodeId:7326} - INTERACTS_WITH -> mitochondrion{nodeId:125013} - INTERACTS_WITH -> G0S2{nodeId:34664}', 'TIMM8A{nodeId:7814} - INTERACTS_WITH -> mitochondrion{nodeId:125013} - INTERACTS_WITH -> G0S2{nodeId:34664}', 'TIMM50{nodeId:8191} - INTERACTS_WITH -> mitochondrion{nodeId:125013} - INTERACTS_WITH -> G0S2{nodeId:34664}', 'ABHD6{nodeId:8199} - INTERACTS_WITH -> mitochondrion{nodeId:125013} - INTERACTS_WITH -> G0S2{nodeId:34664}', 'TAMM41{nodeId:11309} - INTERACTS_WITH -> mitochondrion{nodeId:125013} - INTERACTS_WITH -> G0S2{nodeId:34664}', 'POR{nodeId:11369} - INTERACTS_WITH -> mitochondrion{nodeId:125013} - INTERACTS_WITH -> G0S2{nodeId:34664}', 'TIMM9{nodeId:11671} - INTERACTS_WITH -> mitochondrion{nodeId:125013} - INTERACTS_WITH -> G0S2{nodeId:34664}', 'OXSM{nodeId:12702} - INTERACTS_WITH -> mitochondrion{nodeId:125013} - INTERACTS_WITH -> G0S2{nodeId:34664}', 'OPA3{nodeId:13304} - INTERACTS_WITH -> mitochondrion{nodeId:125013} - INTERACTS_WITH -> G0S2{nodeId:34664}', 'PERP{nodeId:35311} - INTERACTS_WITH -> mitochondrion{nodeId:125013} - INTERACTS_WITH -> G0S2{nodeId:34664}', 'LIPT2{nodeId:35401} - INTERACTS_WITH -> mitochondrion{nodeId:125013} - INTERACTS_WITH -> G0S2{nodeId:34664}', 'TMEM102{nodeId:57288} - INTERACTS_WITH -> mitochondrion{nodeId:125013} - INTERACTS_WITH -> G0S2{nodeId:34664}', 'IMMP1L{nodeId:58602} - INTERACTS_WITH -> mitochondrion{nodeId:125013} - INTERACTS_WITH -> G0S2{nodeId:34664}', 'MPV17L2{nodeId:60368} - INTERACTS_WITH -> mitochondrion{nodeId:125013} - INTERACTS_WITH -> G0S2{nodeId:34664}', 'MPV17L{nodeId:60432} - INTERACTS_WITH -> mitochondrion{nodeId:125013} - INTERACTS_WITH -> G0S2{nodeId:34664}', 'TOMM5{nodeId:60505} - INTERACTS_WITH -> mitochondrion{nodeId:125013} - INTERACTS_WITH -> G0S2{nodeId:34664}', 'OXA1L{nodeId:486} - INTERACTS_WITH -> mitochondrion{nodeId:125013} - INTERACTS_WITH -> AIFM3{nodeId:58080}', 'IMMT{nodeId:1916} - INTERACTS_WITH -> mitochondrion{nodeId:125013} - INTERACTS_WITH -> AIFM3{nodeId:58080}', 'PEX11B{nodeId:1920} - INTERACTS_WITH -> mitochondrion{nodeId:125013} - INTERACTS_WITH -> AIFM3{nodeId:58080}', 'TOMM34{nodeId:2048} - INTERACTS_WITH -> mitochondrion{nodeId:125013} - INTERACTS_WITH -> AIFM3{nodeId:58080}', 'TOMM20{nodeId:2219} - INTERACTS_WITH -> mitochondrion{nodeId:125013} - INTERACTS_WITH -> AIFM3{nodeId:58080}', 'CPT1A{nodeId:2481} - INTERACTS_WITH -> mitochondrion{nodeId:125013} - INTERACTS_WITH -> AIFM3{nodeId:58080}', 'TOMM40{nodeId:2665} - INTERACTS_WITH -> mitochondrion{nodeId:125013} - INTERACTS_WITH -> AIFM3{nodeId:58080}', 'TIMM44{nodeId:4009} - INTERACTS_WITH -> mitochondrion{nodeId:125013} - INTERACTS_WITH -> AIFM3{nodeId:58080}', 'ATP5MF{nodeId:6126} - INTERACTS_WITH -> mitochondrion{nodeId:125013} - INTERACTS_WITH -> AIFM3{nodeId:58080}', 'TMEM11{nodeId:6242} - INTERACTS_WITH -> mitochondrion{nodeId:125013} - INTERACTS_WITH -> AIFM3{nodeId:58080}', 'TOMM22{nodeId:6932} - INTERACTS_WITH -> mitochondrion{nodeId:125013} - INTERACTS_WITH -> AIFM3{nodeId:58080}', 'MPV17{nodeId:7084} - INTERACTS_WITH -> mitochondrion{nodeId:125013} - INTERACTS_WITH -> AIFM3{nodeId:58080}', 'PXMP2{nodeId:7326} - INTERACTS_WITH -> mitochondrion{nodeId:125013} - INTERACTS_WITH -> AIFM3{nodeId:58080}', 'TIMM8A{nodeId:7814} - INTERACTS_WITH -> mitochondrion{nodeId:125013} - INTERACTS_WITH -> AIFM3{nodeId:58080}', 'TIMM50{nodeId:8191} - INTERACTS_WITH -> mitochondrion{nodeId:125013} - INTERACTS_WITH -> AIFM3{nodeId:58080}', 'ABHD6{nodeId:8199} - INTERACTS_WITH -> mitochondrion{nodeId:125013} - INTERACTS_WITH -> AIFM3{nodeId:58080}', 'TAMM41{nodeId:11309} - INTERACTS_WITH -> mitochondrion{nodeId:125013} - INTERACTS_WITH -> AIFM3{nodeId:58080}', 'POR{nodeId:11369} - INTERACTS_WITH -> mitochondrion{nodeId:125013} - INTERACTS_WITH -> AIFM3{nodeId:58080}', 'TIMM9{nodeId:11671} - INTERACTS_WITH -> mitochondrion{nodeId:125013} - INTERACTS_WITH -> AIFM3{nodeId:58080}', 'OXSM{nodeId:12702} - INTERACTS_WITH -> mitochondrion{nodeId:125013} - INTERACTS_WITH -> AIFM3{nodeId:58080}', 'OPA3{nodeId:13304} - INTERACTS_WITH -> mitochondrion{nodeId:125013} - INTERACTS_WITH -> AIFM3{nodeId:58080}', 'PERP{nodeId:35311} - INTERACTS_WITH -> mitochondrion{nodeId:125013} - INTERACTS_WITH -> AIFM3{nodeId:58080}', 'LIPT2{nodeId:35401} - INTERACTS_WITH -> mitochondrion{nodeId:125013} - INTERACTS_WITH -> AIFM3{nodeId:58080}', 'TMEM102{nodeId:57288} - INTERACTS_WITH -> mitochondrion{nodeId:125013} - INTERACTS_WITH -> AIFM3{nodeId:58080}', 'IMMP1L{nodeId:58602} - INTERACTS_WITH -> mitochondrion{nodeId:125013} - INTERACTS_WITH -> AIFM3{nodeId:58080}', 'MPV17L2{nodeId:60368} - INTERACTS_WITH -> mitochondrion{nodeId:125013} - INTERACTS_WITH -> AIFM3{nodeId:58080}', 'MPV17L{nodeId:60432} - INTERACTS_WITH -> mitochondrion{nodeId:125013} - INTERACTS_WITH -> AIFM3{nodeId:58080}', 'TOMM5{nodeId:60505} - INTERACTS_WITH -> mitochondrion{nodeId:125013} - INTERACTS_WITH -> AIFM3{nodeId:58080}', 'OXA1L{nodeId:486} - INTERACTS_WITH -> mitochondrion{nodeId:125013} - INTERACTS_WITH -> BLID{nodeId:60222}', 'IMMT{nodeId:1916} - INTERACTS_WITH -> mitochondrion{nodeId:125013} - INTERACTS_WITH -> BLID{nodeId:60222}', 'PEX11B{nodeId:1920} - INTERACTS_WITH -> mitochondrion{nodeId:125013} - INTERACTS_WITH -> BLID{nodeId:60222}', 'TOMM34{nodeId:2048} - INTERACTS_WITH -> mitochondrion{nodeId:125013} - INTERACTS_WITH -> BLID{nodeId:60222}', 'TOMM20{nodeId:2219} - INTERACTS_WITH -> mitochondrion{nodeId:125013} - INTERACTS_WITH -> BLID{nodeId:60222}', 'CPT1A{nodeId:2481} - INTERACTS_WITH -> mitochondrion{nodeId:125013} - INTERACTS_WITH -> BLID{nodeId:60222}', 'TOMM40{nodeId:2665} - INTERACTS_WITH -> mitochondrion{nodeId:125013} - INTERACTS_WITH -> BLID{nodeId:60222}', 'TIMM44{nodeId:4009} - INTERACTS_WITH -> mitochondrion{nodeId:125013} - INTERACTS_WITH -> BLID{nodeId:60222}', 'ATP5MF{nodeId:6126} - INTERACTS_WITH -> mitochondrion{nodeId:125013} - INTERACTS_WITH -> BLID{nodeId:60222}', 'TMEM11{nodeId:6242} - INTERACTS_WITH -> mitochondrion{nodeId:125013} - INTERACTS_WITH -> BLID{nodeId:60222}', 'TOMM22{nodeId:6932} - INTERACTS_WITH -> mitochondrion{nodeId:125013} - INTERACTS_WITH -> BLID{nodeId:60222}', 'MPV17{nodeId:7084} - INTERACTS_WITH -> mitochondrion{nodeId:125013} - INTERACTS_WITH -> BLID{nodeId:60222}', 'PXMP2{nodeId:7326} - INTERACTS_WITH -> mitochondrion{nodeId:125013} - INTERACTS_WITH -> BLID{nodeId:60222}', 'TIMM8A{nodeId:7814} - INTERACTS_WITH -> mitochondrion{nodeId:125013} - INTERACTS_WITH -> BLID{nodeId:60222}', 'TIMM50{nodeId:8191} - INTERACTS_WITH -> mitochondrion{nodeId:125013} - INTERACTS_WITH -> BLID{nodeId:60222}', 'ABHD6{nodeId:8199} - INTERACTS_WITH -> mitochondrion{nodeId:125013} - INTERACTS_WITH -> BLID{nodeId:60222}', 'TAMM41{nodeId:11309} - INTERACTS_WITH -> mitochondrion{nodeId:125013} - INTERACTS_WITH -> BLID{nodeId:60222}', 'POR{nodeId:11369} - INTERACTS_WITH -> mitochondrion{nodeId:125013} - INTERACTS_WITH -> BLID{nodeId:60222}', 'TIMM9{nodeId:11671} - INTERACTS_WITH -> mitochondrion{nodeId:125013} - INTERACTS_WITH -> BLID{nodeId:60222}', 'OXSM{nodeId:12702} - INTERACTS_WITH -> mitochondrion{nodeId:125013} - INTERACTS_WITH -> BLID{nodeId:60222}', 'OPA3{nodeId:13304} - INTERACTS_WITH -> mitochondrion{nodeId:125013} - INTERACTS_WITH -> BLID{nodeId:60222}', 'PERP{nodeId:35311} - INTERACTS_WITH -> mitochondrion{nodeId:125013} - INTERACTS_WITH -> BLID{nodeId:60222}', 'LIPT2{nodeId:35401} - INTERACTS_WITH -> mitochondrion{nodeId:125013} - INTERACTS_WITH -> BLID{nodeId:60222}', 'TMEM102{nodeId:57288} - INTERACTS_WITH -> mitochondrion{nodeId:125013} - INTERACTS_WITH -> BLID{nodeId:60222}', 'IMMP1L{nodeId:58602} - INTERACTS_WITH -> mitochondrion{nodeId:125013} - INTERACTS_WITH -> BLID{nodeId:60222}', 'MPV17L2{nodeId:60368} - INTERACTS_WITH -> mitochondrion{nodeId:125013} - INTERACTS_WITH -> BLID{nodeId:60222}', 'MPV17L{nodeId:60432} - INTERACTS_WITH -> mitochondrion{nodeId:125013} - INTERACTS_WITH -> BLID{nodeId:60222}', 'TOMM5{nodeId:60505} - INTERACTS_WITH -> mitochondrion{nodeId:125013} - INTERACTS_WITH -> BLID{nodeId:60222}', 'PLP2{nodeId:148} - INTERACTS_WITH -> membrane{nodeId:55725} - INTERACTS_WITH -> PDCD6IP{nodeId:1137}', 'PEX14{nodeId:643} - INTERACTS_WITH -> membrane{nodeId:55725} - INTERACTS_WITH -> PDCD6IP{nodeId:1137}', 'SLC25A17{nodeId:1435} - INTERACTS_WITH -> membrane{nodeId:55725} - INTERACTS_WITH -> PDCD6IP{nodeId:1137}', 'IMMT{nodeId:1916} - INTERACTS_WITH -> membrane{nodeId:55725} - INTERACTS_WITH -> PDCD6IP{nodeId:1137}', 'PEX11B{nodeId:1920} - INTERACTS_WITH -> membrane{nodeId:55725} - INTERACTS_WITH -> PDCD6IP{nodeId:1137}', 'TOMM34{nodeId:2048} - INTERACTS_WITH -> membrane{nodeId:55725} - INTERACTS_WITH -> PDCD6IP{nodeId:1137}', 'PEX16{nodeId:2069} - INTERACTS_WITH -> membrane{nodeId:55725} - INTERACTS_WITH -> PDCD6IP{nodeId:1137}', 'CPT1A{nodeId:2481} - INTERACTS_WITH -> membrane{nodeId:55725} - INTERACTS_WITH -> PDCD6IP{nodeId:1137}', 'PEX5{nodeId:3296} - INTERACTS_WITH -> membrane{nodeId:55725} - INTERACTS_WITH -> PDCD6IP{nodeId:1137}', 'TMEM86B{nodeId:3678} - INTERACTS_WITH -> membrane{nodeId:55725} - INTERACTS_WITH -> PDCD6IP{nodeId:1137}', 'TOMM22{nodeId:6932} - INTERACTS_WITH -> membrane{nodeId:55725} - INTERACTS_WITH -> PDCD6IP{nodeId:1137}', 'PXMP2{nodeId:7326} - INTERACTS_WITH -> membrane{nodeId:55725} - INTERACTS_WITH -> PDCD6IP{nodeId:1137}', 'MBOAT7{nodeId:7464} - INTERACTS_WITH -> membrane{nodeId:55725} - INTERACTS_WITH -> PDCD6IP{nodeId:1137}', 'LONP2{nodeId:8039} - INTERACTS_WITH -> membrane{nodeId:55725} - INTERACTS_WITH -> PDCD6IP{nodeId:1137}', 'VMP1{nodeId:9240} - INTERACTS_WITH -> membrane{nodeId:55725} - INTERACTS_WITH -> PDCD6IP{nodeId:1137}', 'PEX13{nodeId:9800} - INTERACTS_WITH -> membrane{nodeId:55725} - INTERACTS_WITH -> PDCD6IP{nodeId:1137}', 'PEX3{nodeId:10754} - INTERACTS_WITH -> membrane{nodeId:55725} - INTERACTS_WITH -> PDCD6IP{nodeId:1137}', 'TM9SF1{nodeId:10844} - INTERACTS_WITH -> membrane{nodeId:55725} - INTERACTS_WITH -> PDCD6IP{nodeId:1137}', 'POR{nodeId:11369} - INTERACTS_WITH -> membrane{nodeId:55725} - INTERACTS_WITH -> PDCD6IP{nodeId:1137}', 'PEX2{nodeId:11708} - INTERACTS_WITH -> membrane{nodeId:55725} - INTERACTS_WITH -> PDCD6IP{nodeId:1137}', 'MBOAT1{nodeId:12922} - INTERACTS_WITH -> membrane{nodeId:55725} - INTERACTS_WITH -> PDCD6IP{nodeId:1137}', 'MTMR12{nodeId:13864} - INTERACTS_WITH -> membrane{nodeId:55725} - INTERACTS_WITH -> PDCD6IP{nodeId:1137}', 'MBOAT2{nodeId:21963} - INTERACTS_WITH -> membrane{nodeId:55725} - INTERACTS_WITH -> PDCD6IP{nodeId:1137}', 'MBOAT4{nodeId:59583} - INTERACTS_WITH -> membrane{nodeId:55725} - INTERACTS_WITH -> PDCD6IP{nodeId:1137}', 'PLP2{nodeId:148} - INTERACTS_WITH -> membrane{nodeId:55725} - INTERACTS_WITH -> BAX{nodeId:1139}', 'PEX14{nodeId:643} - INTERACTS_WITH -> membrane{nodeId:55725} - INTERACTS_WITH -> BAX{nodeId:1139}', 'SLC25A17{nodeId:1435} - INTERACTS_WITH -> membrane{nodeId:55725} - INTERACTS_WITH -> BAX{nodeId:1139}', 'IMMT{nodeId:1916} - INTERACTS_WITH -> membrane{nodeId:55725} - INTERACTS_WITH -> BAX{nodeId:1139}', 'PEX11B{nodeId:1920} - INTERACTS_WITH -> membrane{nodeId:55725} - INTERACTS_WITH -> BAX{nodeId:1139}', 'TOMM34{nodeId:2048} - INTERACTS_WITH -> membrane{nodeId:55725} - INTERACTS_WITH -> BAX{nodeId:1139}', 'PEX16{nodeId:2069} - INTERACTS_WITH -> membrane{nodeId:55725} - INTERACTS_WITH -> BAX{nodeId:1139}', 'CPT1A{nodeId:2481} - INTERACTS_WITH -> membrane{nodeId:55725} - INTERACTS_WITH -> BAX{nodeId:1139}', 'PEX5{nodeId:3296} - INTERACTS_WITH -> membrane{nodeId:55725} - INTERACTS_WITH -> BAX{nodeId:1139}', 'TMEM86B{nodeId:3678} - INTERACTS_WITH -> membrane{nodeId:55725} - INTERACTS_WITH -> BAX{nodeId:1139}', 'TOMM22{nodeId:6932} - INTERACTS_WITH -> membrane{nodeId:55725} - INTERACTS_WITH -> BAX{nodeId:1139}', 'PXMP2{nodeId:7326} - INTERACTS_WITH -> membrane{nodeId:55725} - INTERACTS_WITH -> BAX{nodeId:1139}', 'MBOAT7{nodeId:7464} - INTERACTS_WITH -> membrane{nodeId:55725} - INTERACTS_WITH -> BAX{nodeId:1139}', 'LONP2{nodeId:8039} - INTERACTS_WITH -> membrane{nodeId:55725} - INTERACTS_WITH -> BAX{nodeId:1139}', 'VMP1{nodeId:9240} - INTERACTS_WITH -> membrane{nodeId:55725} - INTERACTS_WITH -> BAX{nodeId:1139}', 'PEX13{nodeId:9800} - INTERACTS_WITH -> membrane{nodeId:55725} - INTERACTS_WITH -> BAX{nodeId:1139}', 'PEX3{nodeId:10754} - INTERACTS_WITH -> membrane{nodeId:55725} - INTERACTS_WITH -> BAX{nodeId:1139}', 'TM9SF1{nodeId:10844} - INTERACTS_WITH -> membrane{nodeId:55725} - INTERACTS_WITH -> BAX{nodeId:1139}', 'POR{nodeId:11369} - INTERACTS_WITH -> membrane{nodeId:55725} - INTERACTS_WITH -> BAX{nodeId:1139}', 'PEX2{nodeId:11708} - INTERACTS_WITH -> membrane{nodeId:55725} - INTERACTS_WITH -> BAX{nodeId:1139}', 'MBOAT1{nodeId:12922} - INTERACTS_WITH -> membrane{nodeId:55725} - INTERACTS_WITH -> BAX{nodeId:1139}', 'MTMR12{nodeId:13864} - INTERACTS_WITH -> membrane{nodeId:55725} - INTERACTS_WITH -> BAX{nodeId:1139}', 'MBOAT2{nodeId:21963} - INTERACTS_WITH -> membrane{nodeId:55725} - INTERACTS_WITH -> BAX{nodeId:1139}', 'MBOAT4{nodeId:59583} - INTERACTS_WITH -> membrane{nodeId:55725} - INTERACTS_WITH -> BAX{nodeId:1139}', 'PLP2{nodeId:148} - INTERACTS_WITH -> membrane{nodeId:55725} - INTERACTS_WITH -> DAD1{nodeId:2136}', 'PEX14{nodeId:643} - INTERACTS_WITH -> membrane{nodeId:55725} - INTERACTS_WITH -> DAD1{nodeId:2136}', 'SLC25A17{nodeId:1435} - INTERACTS_WITH -> membrane{nodeId:55725} - INTERACTS_WITH -> DAD1{nodeId:2136}', 'IMMT{nodeId:1916} - INTERACTS_WITH -> membrane{nodeId:55725} - INTERACTS_WITH -> DAD1{nodeId:2136}', 'PEX11B{nodeId:1920} - INTERACTS_WITH -> membrane{nodeId:55725} - INTERACTS_WITH -> DAD1{nodeId:2136}', 'TOMM34{nodeId:2048} - INTERACTS_WITH -> membrane{nodeId:55725} - INTERACTS_WITH -> DAD1{nodeId:2136}', 'PEX16{nodeId:2069} - INTERACTS_WITH -> membrane{nodeId:55725} - INTERACTS_WITH -> DAD1{nodeId:2136}', 'CPT1A{nodeId:2481} - INTERACTS_WITH -> membrane{nodeId:55725} - INTERACTS_WITH -> DAD1{nodeId:2136}', 'PEX5{nodeId:3296} - INTERACTS_WITH -> membrane{nodeId:55725} - INTERACTS_WITH -> DAD1{nodeId:2136}', 'TMEM86B{nodeId:3678} - INTERACTS_WITH -> membrane{nodeId:55725} - INTERACTS_WITH -> DAD1{nodeId:2136}', 'TOMM22{nodeId:6932} - INTERACTS_WITH -> membrane{nodeId:55725} - INTERACTS_WITH -> DAD1{nodeId:2136}', 'PXMP2{nodeId:7326} - INTERACTS_WITH -> membrane{nodeId:55725} - INTERACTS_WITH -> DAD1{nodeId:2136}', 'MBOAT7{nodeId:7464} - INTERACTS_WITH -> membrane{nodeId:55725} - INTERACTS_WITH -> DAD1{nodeId:2136}', 'LONP2{nodeId:8039} - INTERACTS_WITH -> membrane{nodeId:55725} - INTERACTS_WITH -> DAD1{nodeId:2136}', 'VMP1{nodeId:9240} - INTERACTS_WITH -> membrane{nodeId:55725} - INTERACTS_WITH -> DAD1{nodeId:2136}', 'PEX13{nodeId:9800} - INTERACTS_WITH -> membrane{nodeId:55725} - INTERACTS_WITH -> DAD1{nodeId:2136}', 'PEX3{nodeId:10754} - INTERACTS_WITH -> membrane{nodeId:55725} - INTERACTS_WITH -> DAD1{nodeId:2136}', 'TM9SF1{nodeId:10844} - INTERACTS_WITH -> membrane{nodeId:55725} - INTERACTS_WITH -> DAD1{nodeId:2136}', 'POR{nodeId:11369} - INTERACTS_WITH -> membrane{nodeId:55725} - INTERACTS_WITH -> DAD1{nodeId:2136}', 'PEX2{nodeId:11708} - INTERACTS_WITH -> membrane{nodeId:55725} - INTERACTS_WITH -> DAD1{nodeId:2136}', 'MBOAT1{nodeId:12922} - INTERACTS_WITH -> membrane{nodeId:55725} - INTERACTS_WITH -> DAD1{nodeId:2136}', 'MTMR12{nodeId:13864} - INTERACTS_WITH -> membrane{nodeId:55725} - INTERACTS_WITH -> DAD1{nodeId:2136}', 'MBOAT2{nodeId:21963} - INTERACTS_WITH -> membrane{nodeId:55725} - INTERACTS_WITH -> DAD1{nodeId:2136}', 'MBOAT4{nodeId:59583} - INTERACTS_WITH -> membrane{nodeId:55725} - INTERACTS_WITH -> DAD1{nodeId:2136}', 'PLP2{nodeId:148} - INTERACTS_WITH -> membrane{nodeId:55725} - INTERACTS_WITH -> BCL2{nodeId:2429}', 'PEX14{nodeId:643} - INTERACTS_WITH -> membrane{nodeId:55725} - INTERACTS_WITH -> BCL2{nodeId:2429}', 'SLC25A17{nodeId:1435} - INTERACTS_WITH -> membrane{nodeId:55725} - INTERACTS_WITH -> BCL2{nodeId:2429}', 'IMMT{nodeId:1916} - INTERACTS_WITH -> membrane{nodeId:55725} - INTERACTS_WITH -> BCL2{nodeId:2429}', 'PEX11B{nodeId:1920} - INTERACTS_WITH -> membrane{nodeId:55725} - INTERACTS_WITH -> BCL2{nodeId:2429}', 'TOMM34{nodeId:2048} - INTERACTS_WITH -> membrane{nodeId:55725} - INTERACTS_WITH -> BCL2{nodeId:2429}', 'PEX16{nodeId:2069} - INTERACTS_WITH -> membrane{nodeId:55725} - INTERACTS_WITH -> BCL2{nodeId:2429}', 'CPT1A{nodeId:2481} - INTERACTS_WITH -> membrane{nodeId:55725} - INTERACTS_WITH -> BCL2{nodeId:2429}', 'PEX5{nodeId:3296} - INTERACTS_WITH -> membrane{nodeId:55725} - INTERACTS_WITH -> BCL2{nodeId:2429}', 'TMEM86B{nodeId:3678} - INTERACTS_WITH -> membrane{nodeId:55725} - INTERACTS_WITH -> BCL2{nodeId:2429}', 'TOMM22{nodeId:6932} - INTERACTS_WITH -> membrane{nodeId:55725} - INTERACTS_WITH -> BCL2{nodeId:2429}', 'PXMP2{nodeId:7326} - INTERACTS_WITH -> membrane{nodeId:55725} - INTERACTS_WITH -> BCL2{nodeId:2429}', 'MBOAT7{nodeId:7464} - INTERACTS_WITH -> membrane{nodeId:55725} - INTERACTS_WITH -> BCL2{nodeId:2429}', 'LONP2{nodeId:8039} - INTERACTS_WITH -> membrane{nodeId:55725} - INTERACTS_WITH -> BCL2{nodeId:2429}', 'VMP1{nodeId:9240} - INTERACTS_WITH -> membrane{nodeId:55725} - INTERACTS_WITH -> BCL2{nodeId:2429}', 'PEX13{nodeId:9800} - INTERACTS_WITH -> membrane{nodeId:55725} - INTERACTS_WITH -> BCL2{nodeId:2429}', 'PEX3{nodeId:10754} - INTERACTS_WITH -> membrane{nodeId:55725} - INTERACTS_WITH -> BCL2{nodeId:2429}', 'TM9SF1{nodeId:10844} - INTERACTS_WITH -> membrane{nodeId:55725} - INTERACTS_WITH -> BCL2{nodeId:2429}', 'POR{nodeId:11369} - INTERACTS_WITH -> membrane{nodeId:55725} - INTERACTS_WITH -> BCL2{nodeId:2429}', 'PEX2{nodeId:11708} - INTERACTS_WITH -> membrane{nodeId:55725} - INTERACTS_WITH -> BCL2{nodeId:2429}', 'MBOAT1{nodeId:12922} - INTERACTS_WITH -> membrane{nodeId:55725} - INTERACTS_WITH -> BCL2{nodeId:2429}', 'MTMR12{nodeId:13864} - INTERACTS_WITH -> membrane{nodeId:55725} - INTERACTS_WITH -> BCL2{nodeId:2429}', 'MBOAT2{nodeId:21963} - INTERACTS_WITH -> membrane{nodeId:55725} - INTERACTS_WITH -> BCL2{nodeId:2429}', 'MBOAT4{nodeId:59583} - INTERACTS_WITH -> membrane{nodeId:55725} - INTERACTS_WITH -> BCL2{nodeId:2429}', 'PLP2{nodeId:148} - INTERACTS_WITH -> membrane{nodeId:55725} - INTERACTS_WITH -> YAP1{nodeId:2840}', 'PEX14{nodeId:643} - INTERACTS_WITH -> membrane{nodeId:55725} - INTERACTS_WITH -> YAP1{nodeId:2840}', 'SLC25A17{nodeId:1435} - INTERACTS_WITH -> membrane{nodeId:55725} - INTERACTS_WITH -> YAP1{nodeId:2840}', 'IMMT{nodeId:1916} - INTERACTS_WITH -> membrane{nodeId:55725} - INTERACTS_WITH -> YAP1{nodeId:2840}', 'PEX11B{nodeId:1920} - INTERACTS_WITH -> membrane{nodeId:55725} - INTERACTS_WITH -> YAP1{nodeId:2840}', 'TOMM34{nodeId:2048} - INTERACTS_WITH -> membrane{nodeId:55725} - INTERACTS_WITH -> YAP1{nodeId:2840}', 'PEX16{nodeId:2069} - INTERACTS_WITH -> membrane{nodeId:55725} - INTERACTS_WITH -> YAP1{nodeId:2840}', 'CPT1A{nodeId:2481} - INTERACTS_WITH -> membrane{nodeId:55725} - INTERACTS_WITH -> YAP1{nodeId:2840}', 'PEX5{nodeId:3296} - INTERACTS_WITH -> membrane{nodeId:55725} - INTERACTS_WITH -> YAP1{nodeId:2840}', 'TMEM86B{nodeId:3678} - INTERACTS_WITH -> membrane{nodeId:55725} - INTERACTS_WITH -> YAP1{nodeId:2840}', 'TOMM22{nodeId:6932} - INTERACTS_WITH -> membrane{nodeId:55725} - INTERACTS_WITH -> YAP1{nodeId:2840}', 'PXMP2{nodeId:7326} - INTERACTS_WITH -> membrane{nodeId:55725} - INTERACTS_WITH -> YAP1{nodeId:2840}', 'MBOAT7{nodeId:7464} - INTERACTS_WITH -> membrane{nodeId:55725} - INTERACTS_WITH -> YAP1{nodeId:2840}', 'LONP2{nodeId:8039} - INTERACTS_WITH -> membrane{nodeId:55725} - INTERACTS_WITH -> YAP1{nodeId:2840}', 'VMP1{nodeId:9240} - INTERACTS_WITH -> membrane{nodeId:55725} - INTERACTS_WITH -> YAP1{nodeId:2840}', 'PEX13{nodeId:9800} - INTERACTS_WITH -> membrane{nodeId:55725} - INTERACTS_WITH -> YAP1{nodeId:2840}', 'PEX3{nodeId:10754} - INTERACTS_WITH -> membrane{nodeId:55725} - INTERACTS_WITH -> YAP1{nodeId:2840}', 'TM9SF1{nodeId:10844} - INTERACTS_WITH -> membrane{nodeId:55725} - INTERACTS_WITH -> YAP1{nodeId:2840}', 'POR{nodeId:11369} - INTERACTS_WITH -> membrane{nodeId:55725} - INTERACTS_WITH -> YAP1{nodeId:2840}', 'PEX2{nodeId:11708} - INTERACTS_WITH -> membrane{nodeId:55725} - INTERACTS_WITH -> YAP1{nodeId:2840}', 'MBOAT1{nodeId:12922} - INTERACTS_WITH -> membrane{nodeId:55725} - INTERACTS_WITH -> YAP1{nodeId:2840}', 'MTMR12{nodeId:13864} - INTERACTS_WITH -> membrane{nodeId:55725} - INTERACTS_WITH -> YAP1{nodeId:2840}', 'MBOAT2{nodeId:21963} - INTERACTS_WITH -> membrane{nodeId:55725} - INTERACTS_WITH -> YAP1{nodeId:2840}', 'MBOAT4{nodeId:59583} - INTERACTS_WITH -> membrane{nodeId:55725} - INTERACTS_WITH -> YAP1{nodeId:2840}', 'PLP2{nodeId:148} - INTERACTS_WITH -> membrane{nodeId:55725} - INTERACTS_WITH -> BFAR{nodeId:3547}', 'PEX14{nodeId:643} - INTERACTS_WITH -> membrane{nodeId:55725} - INTERACTS_WITH -> BFAR{nodeId:3547}', 'SLC25A17{nodeId:1435} - INTERACTS_WITH -> membrane{nodeId:55725} - INTERACTS_WITH -> BFAR{nodeId:3547}', 'IMMT{nodeId:1916} - INTERACTS_WITH -> membrane{nodeId:55725} - INTERACTS_WITH -> BFAR{nodeId:3547}', 'PEX11B{nodeId:1920} - INTERACTS_WITH -> membrane{nodeId:55725} - INTERACTS_WITH -> BFAR{nodeId:3547}', 'TOMM34{nodeId:2048} - INTERACTS_WITH -> membrane{nodeId:55725} - INTERACTS_WITH -> BFAR{nodeId:3547}', 'PEX16{nodeId:2069} - INTERACTS_WITH -> membrane{nodeId:55725} - INTERACTS_WITH -> BFAR{nodeId:3547}', 'CPT1A{nodeId:2481} - INTERACTS_WITH -> membrane{nodeId:55725} - INTERACTS_WITH -> BFAR{nodeId:3547}', 'PEX5{nodeId:3296} - INTERACTS_WITH -> membrane{nodeId:55725} - INTERACTS_WITH -> BFAR{nodeId:3547}', 'TMEM86B{nodeId:3678} - INTERACTS_WITH -> membrane{nodeId:55725} - INTERACTS_WITH -> BFAR{nodeId:3547}', 'TOMM22{nodeId:6932} - INTERACTS_WITH -> membrane{nodeId:55725} - INTERACTS_WITH -> BFAR{nodeId:3547}', 'PXMP2{nodeId:7326} - INTERACTS_WITH -> membrane{nodeId:55725} - INTERACTS_WITH -> BFAR{nodeId:3547}', 'MBOAT7{nodeId:7464} - INTERACTS_WITH -> membrane{nodeId:55725} - INTERACTS_WITH -> BFAR{nodeId:3547}', 'LONP2{nodeId:8039} - INTERACTS_WITH -> membrane{nodeId:55725} - INTERACTS_WITH -> BFAR{nodeId:3547}', 'VMP1{nodeId:9240} - INTERACTS_WITH -> membrane{nodeId:55725} - INTERACTS_WITH -> BFAR{nodeId:3547}', 'PEX13{nodeId:9800} - INTERACTS_WITH -> membrane{nodeId:55725} - INTERACTS_WITH -> BFAR{nodeId:3547}', 'PEX3{nodeId:10754} - INTERACTS_WITH -> membrane{nodeId:55725} - INTERACTS_WITH -> BFAR{nodeId:3547}', 'TM9SF1{nodeId:10844} - INTERACTS_WITH -> membrane{nodeId:55725} - INTERACTS_WITH -> BFAR{nodeId:3547}', 'POR{nodeId:11369} - INTERACTS_WITH -> membrane{nodeId:55725} - INTERACTS_WITH -> BFAR{nodeId:3547}', 'PEX2{nodeId:11708} - INTERACTS_WITH -> membrane{nodeId:55725} - INTERACTS_WITH -> BFAR{nodeId:3547}', 'MBOAT1{nodeId:12922} - INTERACTS_WITH -> membrane{nodeId:55725} - INTERACTS_WITH -> BFAR{nodeId:3547}', 'MTMR12{nodeId:13864} - INTERACTS_WITH -> membrane{nodeId:55725} - INTERACTS_WITH -> BFAR{nodeId:3547}', 'MBOAT2{nodeId:21963} - INTERACTS_WITH -> membrane{nodeId:55725} - INTERACTS_WITH -> BFAR{nodeId:3547}', 'MBOAT4{nodeId:59583} - INTERACTS_WITH -> membrane{nodeId:55725} - INTERACTS_WITH -> BFAR{nodeId:3547}', 'PLP2{nodeId:148} - INTERACTS_WITH -> membrane{nodeId:55725} - INTERACTS_WITH -> APPL1{nodeId:3802}', 'PEX14{nodeId:643} - INTERACTS_WITH -> membrane{nodeId:55725} - INTERACTS_WITH -> APPL1{nodeId:3802}', 'SLC25A17{nodeId:1435} - INTERACTS_WITH -> membrane{nodeId:55725} - INTERACTS_WITH -> APPL1{nodeId:3802}', 'IMMT{nodeId:1916} - INTERACTS_WITH -> membrane{nodeId:55725} - INTERACTS_WITH -> APPL1{nodeId:3802}', 'PEX11B{nodeId:1920} - INTERACTS_WITH -> membrane{nodeId:55725} - INTERACTS_WITH -> APPL1{nodeId:3802}', 'TOMM34{nodeId:2048} - INTERACTS_WITH -> membrane{nodeId:55725} - INTERACTS_WITH -> APPL1{nodeId:3802}', 'PEX16{nodeId:2069} - INTERACTS_WITH -> membrane{nodeId:55725} - INTERACTS_WITH -> APPL1{nodeId:3802}', 'CPT1A{nodeId:2481} - INTERACTS_WITH -> membrane{nodeId:55725} - INTERACTS_WITH -> APPL1{nodeId:3802}', 'PEX5{nodeId:3296} - INTERACTS_WITH -> membrane{nodeId:55725} - INTERACTS_WITH -> APPL1{nodeId:3802}', 'TMEM86B{nodeId:3678} - INTERACTS_WITH -> membrane{nodeId:55725} - INTERACTS_WITH -> APPL1{nodeId:3802}', 'TOMM22{nodeId:6932} - INTERACTS_WITH -> membrane{nodeId:55725} - INTERACTS_WITH -> APPL1{nodeId:3802}', 'PXMP2{nodeId:7326} - INTERACTS_WITH -> membrane{nodeId:55725} - INTERACTS_WITH -> APPL1{nodeId:3802}', 'MBOAT7{nodeId:7464} - INTERACTS_WITH -> membrane{nodeId:55725} - INTERACTS_WITH -> APPL1{nodeId:3802}', 'LONP2{nodeId:8039} - INTERACTS_WITH -> membrane{nodeId:55725} - INTERACTS_WITH -> APPL1{nodeId:3802}', 'VMP1{nodeId:9240} - INTERACTS_WITH -> membrane{nodeId:55725} - INTERACTS_WITH -> APPL1{nodeId:3802}', 'PEX13{nodeId:9800} - INTERACTS_WITH -> membrane{nodeId:55725} - INTERACTS_WITH -> APPL1{nodeId:3802}', 'PEX3{nodeId:10754} - INTERACTS_WITH -> membrane{nodeId:55725} - INTERACTS_WITH -> APPL1{nodeId:3802}', 'TM9SF1{nodeId:10844} - INTERACTS_WITH -> membrane{nodeId:55725} - INTERACTS_WITH -> APPL1{nodeId:3802}', 'POR{nodeId:11369} - INTERACTS_WITH -> membrane{nodeId:55725} - INTERACTS_WITH -> APPL1{nodeId:3802}', 'PEX2{nodeId:11708} - INTERACTS_WITH -> membrane{nodeId:55725} - INTERACTS_WITH -> APPL1{nodeId:3802}', 'MBOAT1{nodeId:12922} - INTERACTS_WITH -> membrane{nodeId:55725} - INTERACTS_WITH -> APPL1{nodeId:3802}', 'MTMR12{nodeId:13864} - INTERACTS_WITH -> membrane{nodeId:55725} - INTERACTS_WITH -> APPL1{nodeId:3802}', 'MBOAT2{nodeId:21963} - INTERACTS_WITH -> membrane{nodeId:55725} - INTERACTS_WITH -> APPL1{nodeId:3802}', 'MBOAT4{nodeId:59583} - INTERACTS_WITH -> membrane{nodeId:55725} - INTERACTS_WITH -> APPL1{nodeId:3802}', 'PLP2{nodeId:148} - INTERACTS_WITH -> membrane{nodeId:55725} - INTERACTS_WITH -> API5{nodeId:4130}', 'PEX14{nodeId:643} - INTERACTS_WITH -> membrane{nodeId:55725} - INTERACTS_WITH -> API5{nodeId:4130}', 'SLC25A17{nodeId:1435} - INTERACTS_WITH -> membrane{nodeId:55725} - INTERACTS_WITH -> API5{nodeId:4130}', 'IMMT{nodeId:1916} - INTERACTS_WITH -> membrane{nodeId:55725} - INTERACTS_WITH -> API5{nodeId:4130}', 'PEX11B{nodeId:1920} - INTERACTS_WITH -> membrane{nodeId:55725} - INTERACTS_WITH -> API5{nodeId:4130}', 'TOMM34{nodeId:2048} - INTERACTS_WITH -> membrane{nodeId:55725} - INTERACTS_WITH -> API5{nodeId:4130}', 'PEX16{nodeId:2069} - INTERACTS_WITH -> membrane{nodeId:55725} - INTERACTS_WITH -> API5{nodeId:4130}', 'CPT1A{nodeId:2481} - INTERACTS_WITH -> membrane{nodeId:55725} - INTERACTS_WITH -> API5{nodeId:4130}', 'PEX5{nodeId:3296} - INTERACTS_WITH -> membrane{nodeId:55725} - INTERACTS_WITH -> API5{nodeId:4130}', 'TMEM86B{nodeId:3678} - INTERACTS_WITH -> membrane{nodeId:55725} - INTERACTS_WITH -> API5{nodeId:4130}', 'TOMM22{nodeId:6932} - INTERACTS_WITH -> membrane{nodeId:55725} - INTERACTS_WITH -> API5{nodeId:4130}', 'PXMP2{nodeId:7326} - INTERACTS_WITH -> membrane{nodeId:55725} - INTERACTS_WITH -> API5{nodeId:4130}', 'MBOAT7{nodeId:7464} - INTERACTS_WITH -> membrane{nodeId:55725} - INTERACTS_WITH -> API5{nodeId:4130}', 'LONP2{nodeId:8039} - INTERACTS_WITH -> membrane{nodeId:55725} - INTERACTS_WITH -> API5{nodeId:4130}', 'VMP1{nodeId:9240} - INTERACTS_WITH -> membrane{nodeId:55725} - INTERACTS_WITH -> API5{nodeId:4130}', 'PEX13{nodeId:9800} - INTERACTS_WITH -> membrane{nodeId:55725} - INTERACTS_WITH -> API5{nodeId:4130}', 'PEX3{nodeId:10754} - INTERACTS_WITH -> membrane{nodeId:55725} - INTERACTS_WITH -> API5{nodeId:4130}', 'TM9SF1{nodeId:10844} - INTERACTS_WITH -> membrane{nodeId:55725} - INTERACTS_WITH -> API5{nodeId:4130}', 'POR{nodeId:11369} - INTERACTS_WITH -> membrane{nodeId:55725} - INTERACTS_WITH -> API5{nodeId:4130}', 'PEX2{nodeId:11708} - INTERACTS_WITH -> membrane{nodeId:55725} - INTERACTS_WITH -> API5{nodeId:4130}', 'MBOAT1{nodeId:12922} - INTERACTS_WITH -> membrane{nodeId:55725} - INTERACTS_WITH -> API5{nodeId:4130}', 'MTMR12{nodeId:13864} - INTERACTS_WITH -> membrane{nodeId:55725} - INTERACTS_WITH -> API5{nodeId:4130}', 'MBOAT2{nodeId:21963} - INTERACTS_WITH -> membrane{nodeId:55725} - INTERACTS_WITH -> API5{nodeId:4130}', 'MBOAT4{nodeId:59583} - INTERACTS_WITH -> membrane{nodeId:55725} - INTERACTS_WITH -> API5{nodeId:4130}', 'PLP2{nodeId:148} - INTERACTS_WITH -> membrane{nodeId:55725} - INTERACTS_WITH -> APPL2{nodeId:5765}', 'PEX14{nodeId:643} - INTERACTS_WITH -> membrane{nodeId:55725} - INTERACTS_WITH -> APPL2{nodeId:5765}', 'SLC25A17{nodeId:1435} - INTERACTS_WITH -> membrane{nodeId:55725} - INTERACTS_WITH -> APPL2{nodeId:5765}', 'IMMT{nodeId:1916} - INTERACTS_WITH -> membrane{nodeId:55725} - INTERACTS_WITH -> APPL2{nodeId:5765}', 'PEX11B{nodeId:1920} - INTERACTS_WITH -> membrane{nodeId:55725} - INTERACTS_WITH -> APPL2{nodeId:5765}', 'TOMM34{nodeId:2048} - INTERACTS_WITH -> membrane{nodeId:55725} - INTERACTS_WITH -> APPL2{nodeId:5765}', 'PEX16{nodeId:2069} - INTERACTS_WITH -> membrane{nodeId:55725} - INTERACTS_WITH -> APPL2{nodeId:5765}', 'CPT1A{nodeId:2481} - INTERACTS_WITH -> membrane{nodeId:55725} - INTERACTS_WITH -> APPL2{nodeId:5765}', 'PEX5{nodeId:3296} - INTERACTS_WITH -> membrane{nodeId:55725} - INTERACTS_WITH -> APPL2{nodeId:5765}', 'TMEM86B{nodeId:3678} - INTERACTS_WITH -> membrane{nodeId:55725} - INTERACTS_WITH -> APPL2{nodeId:5765}', 'TOMM22{nodeId:6932} - INTERACTS_WITH -> membrane{nodeId:55725} - INTERACTS_WITH -> APPL2{nodeId:5765}', 'PXMP2{nodeId:7326} - INTERACTS_WITH -> membrane{nodeId:55725} - INTERACTS_WITH -> APPL2{nodeId:5765}', 'MBOAT7{nodeId:7464} - INTERACTS_WITH -> membrane{nodeId:55725} - INTERACTS_WITH -> APPL2{nodeId:5765}', 'LONP2{nodeId:8039} - INTERACTS_WITH -> membrane{nodeId:55725} - INTERACTS_WITH -> APPL2{nodeId:5765}', 'VMP1{nodeId:9240} - INTERACTS_WITH -> membrane{nodeId:55725} - INTERACTS_WITH -> APPL2{nodeId:5765}', 'PEX13{nodeId:9800} - INTERACTS_WITH -> membrane{nodeId:55725} - INTERACTS_WITH -> APPL2{nodeId:5765}', 'PEX3{nodeId:10754} - INTERACTS_WITH -> membrane{nodeId:55725} - INTERACTS_WITH -> APPL2{nodeId:5765}', 'TM9SF1{nodeId:10844} - INTERACTS_WITH -> membrane{nodeId:55725} - INTERACTS_WITH -> APPL2{nodeId:5765}', 'POR{nodeId:11369} - INTERACTS_WITH -> membrane{nodeId:55725} - INTERACTS_WITH -> APPL2{nodeId:5765}', 'PEX2{nodeId:11708} - INTERACTS_WITH -> membrane{nodeId:55725} - INTERACTS_WITH -> APPL2{nodeId:5765}', 'MBOAT1{nodeId:12922} - INTERACTS_WITH -> membrane{nodeId:55725} - INTERACTS_WITH -> APPL2{nodeId:5765}', 'MTMR12{nodeId:13864} - INTERACTS_WITH -> membrane{nodeId:55725} - INTERACTS_WITH -> APPL2{nodeId:5765}', 'MBOAT2{nodeId:21963} - INTERACTS_WITH -> membrane{nodeId:55725} - INTERACTS_WITH -> APPL2{nodeId:5765}', 'MBOAT4{nodeId:59583} - INTERACTS_WITH -> membrane{nodeId:55725} - INTERACTS_WITH -> APPL2{nodeId:5765}', 'PLP2{nodeId:148} - INTERACTS_WITH -> membrane{nodeId:55725} - INTERACTS_WITH -> APH1A{nodeId:7208}', 'PEX14{nodeId:643} - INTERACTS_WITH -> membrane{nodeId:55725} - INTERACTS_WITH -> APH1A{nodeId:7208}', 'SLC25A17{nodeId:1435} - INTERACTS_WITH -> membrane{nodeId:55725} - INTERACTS_WITH -> APH1A{nodeId:7208}', 'IMMT{nodeId:1916} - INTERACTS_WITH -> membrane{nodeId:55725} - INTERACTS_WITH -> APH1A{nodeId:7208}', 'PEX11B{nodeId:1920} - INTERACTS_WITH -> membrane{nodeId:55725} - INTERACTS_WITH -> APH1A{nodeId:7208}', 'TOMM34{nodeId:2048} - INTERACTS_WITH -> membrane{nodeId:55725} - INTERACTS_WITH -> APH1A{nodeId:7208}', 'PEX16{nodeId:2069} - INTERACTS_WITH -> membrane{nodeId:55725} - INTERACTS_WITH -> APH1A{nodeId:7208}', 'CPT1A{nodeId:2481} - INTERACTS_WITH -> membrane{nodeId:55725} - INTERACTS_WITH -> APH1A{nodeId:7208}', 'PEX5{nodeId:3296} - INTERACTS_WITH -> membrane{nodeId:55725} - INTERACTS_WITH -> APH1A{nodeId:7208}', 'TMEM86B{nodeId:3678} - INTERACTS_WITH -> membrane{nodeId:55725} - INTERACTS_WITH -> APH1A{nodeId:7208}', 'TOMM22{nodeId:6932} - INTERACTS_WITH -> membrane{nodeId:55725} - INTERACTS_WITH -> APH1A{nodeId:7208}', 'PXMP2{nodeId:7326} - INTERACTS_WITH -> membrane{nodeId:55725} - INTERACTS_WITH -> APH1A{nodeId:7208}', 'MBOAT7{nodeId:7464} - INTERACTS_WITH -> membrane{nodeId:55725} - INTERACTS_WITH -> APH1A{nodeId:7208}', 'LONP2{nodeId:8039} - INTERACTS_WITH -> membrane{nodeId:55725} - INTERACTS_WITH -> APH1A{nodeId:7208}', 'VMP1{nodeId:9240} - INTERACTS_WITH -> membrane{nodeId:55725} - INTERACTS_WITH -> APH1A{nodeId:7208}', 'PEX13{nodeId:9800} - INTERACTS_WITH -> membrane{nodeId:55725} - INTERACTS_WITH -> APH1A{nodeId:7208}', 'PEX3{nodeId:10754} - INTERACTS_WITH -> membrane{nodeId:55725} - INTERACTS_WITH -> APH1A{nodeId:7208}', 'TM9SF1{nodeId:10844} - INTERACTS_WITH -> membrane{nodeId:55725} - INTERACTS_WITH -> APH1A{nodeId:7208}', 'POR{nodeId:11369} - INTERACTS_WITH -> membrane{nodeId:55725} - INTERACTS_WITH -> APH1A{nodeId:7208}', 'PEX2{nodeId:11708} - INTERACTS_WITH -> membrane{nodeId:55725} - INTERACTS_WITH -> APH1A{nodeId:7208}', 'MBOAT1{nodeId:12922} - INTERACTS_WITH -> membrane{nodeId:55725} - INTERACTS_WITH -> APH1A{nodeId:7208}', 'MTMR12{nodeId:13864} - INTERACTS_WITH -> membrane{nodeId:55725} - INTERACTS_WITH -> APH1A{nodeId:7208}', 'MBOAT2{nodeId:21963} - INTERACTS_WITH -> membrane{nodeId:55725} - INTERACTS_WITH -> APH1A{nodeId:7208}', 'MBOAT4{nodeId:59583} - INTERACTS_WITH -> membrane{nodeId:55725} - INTERACTS_WITH -> APH1A{nodeId:7208}', 'PLP2{nodeId:148} - INTERACTS_WITH -> membrane{nodeId:55725} - INTERACTS_WITH -> PIK3AP1{nodeId:9451}', 'PEX14{nodeId:643} - INTERACTS_WITH -> membrane{nodeId:55725} - INTERACTS_WITH -> PIK3AP1{nodeId:9451}', 'SLC25A17{nodeId:1435} - INTERACTS_WITH -> membrane{nodeId:55725} - INTERACTS_WITH -> PIK3AP1{nodeId:9451}', 'IMMT{nodeId:1916} - INTERACTS_WITH -> membrane{nodeId:55725} - INTERACTS_WITH -> PIK3AP1{nodeId:9451}', 'PEX11B{nodeId:1920} - INTERACTS_WITH -> membrane{nodeId:55725} - INTERACTS_WITH -> PIK3AP1{nodeId:9451}', 'TOMM34{nodeId:2048} - INTERACTS_WITH -> membrane{nodeId:55725} - INTERACTS_WITH -> PIK3AP1{nodeId:9451}', 'PEX16{nodeId:2069} - INTERACTS_WITH -> membrane{nodeId:55725} - INTERACTS_WITH -> PIK3AP1{nodeId:9451}', 'CPT1A{nodeId:2481} - INTERACTS_WITH -> membrane{nodeId:55725} - INTERACTS_WITH -> PIK3AP1{nodeId:9451}', 'PEX5{nodeId:3296} - INTERACTS_WITH -> membrane{nodeId:55725} - INTERACTS_WITH -> PIK3AP1{nodeId:9451}', 'TMEM86B{nodeId:3678} - INTERACTS_WITH -> membrane{nodeId:55725} - INTERACTS_WITH -> PIK3AP1{nodeId:9451}', 'TOMM22{nodeId:6932} - INTERACTS_WITH -> membrane{nodeId:55725} - INTERACTS_WITH -> PIK3AP1{nodeId:9451}', 'PXMP2{nodeId:7326} - INTERACTS_WITH -> membrane{nodeId:55725} - INTERACTS_WITH -> PIK3AP1{nodeId:9451}', 'MBOAT7{nodeId:7464} - INTERACTS_WITH -> membrane{nodeId:55725} - INTERACTS_WITH -> PIK3AP1{nodeId:9451}', 'LONP2{nodeId:8039} - INTERACTS_WITH -> membrane{nodeId:55725} - INTERACTS_WITH -> PIK3AP1{nodeId:9451}', 'VMP1{nodeId:9240} - INTERACTS_WITH -> membrane{nodeId:55725} - INTERACTS_WITH -> PIK3AP1{nodeId:9451}', 'PEX13{nodeId:9800} - INTERACTS_WITH -> membrane{nodeId:55725} - INTERACTS_WITH -> PIK3AP1{nodeId:9451}', 'PEX3{nodeId:10754} - INTERACTS_WITH -> membrane{nodeId:55725} - INTERACTS_WITH -> PIK3AP1{nodeId:9451}', 'TM9SF1{nodeId:10844} - INTERACTS_WITH -> membrane{nodeId:55725} - INTERACTS_WITH -> PIK3AP1{nodeId:9451}', 'POR{nodeId:11369} - INTERACTS_WITH -> membrane{nodeId:55725} - INTERACTS_WITH -> PIK3AP1{nodeId:9451}', 'PEX2{nodeId:11708} - INTERACTS_WITH -> membrane{nodeId:55725} - INTERACTS_WITH -> PIK3AP1{nodeId:9451}', 'MBOAT1{nodeId:12922} - INTERACTS_WITH -> membrane{nodeId:55725} - INTERACTS_WITH -> PIK3AP1{nodeId:9451}', 'MTMR12{nodeId:13864} - INTERACTS_WITH -> membrane{nodeId:55725} - INTERACTS_WITH -> PIK3AP1{nodeId:9451}', 'MBOAT2{nodeId:21963} - INTERACTS_WITH -> membrane{nodeId:55725} - INTERACTS_WITH -> PIK3AP1{nodeId:9451}', 'MBOAT4{nodeId:59583} - INTERACTS_WITH -> membrane{nodeId:55725} - INTERACTS_WITH -> PIK3AP1{nodeId:9451}', 'PLP2{nodeId:148} - INTERACTS_WITH -> membrane{nodeId:55725} - INTERACTS_WITH -> BCL2L10{nodeId:9633}', 'PEX14{nodeId:643} - INTERACTS_WITH -> membrane{nodeId:55725} - INTERACTS_WITH -> BCL2L10{nodeId:9633}', 'SLC25A17{nodeId:1435} - INTERACTS_WITH -> membrane{nodeId:55725} - INTERACTS_WITH -> BCL2L10{nodeId:9633}', 'IMMT{nodeId:1916} - INTERACTS_WITH -> membrane{nodeId:55725} - INTERACTS_WITH -> BCL2L10{nodeId:9633}', 'PEX11B{nodeId:1920} - INTERACTS_WITH -> membrane{nodeId:55725} - INTERACTS_WITH -> BCL2L10{nodeId:9633}', 'TOMM34{nodeId:2048} - INTERACTS_WITH -> membrane{nodeId:55725} - INTERACTS_WITH -> BCL2L10{nodeId:9633}', 'PEX16{nodeId:2069} - INTERACTS_WITH -> membrane{nodeId:55725} - INTERACTS_WITH -> BCL2L10{nodeId:9633}', 'CPT1A{nodeId:2481} - INTERACTS_WITH -> membrane{nodeId:55725} - INTERACTS_WITH -> BCL2L10{nodeId:9633}', 'PEX5{nodeId:3296} - INTERACTS_WITH -> membrane{nodeId:55725} - INTERACTS_WITH -> BCL2L10{nodeId:9633}', 'TMEM86B{nodeId:3678} - INTERACTS_WITH -> membrane{nodeId:55725} - INTERACTS_WITH -> BCL2L10{nodeId:9633}', 'TOMM22{nodeId:6932} - INTERACTS_WITH -> membrane{nodeId:55725} - INTERACTS_WITH -> BCL2L10{nodeId:9633}', 'PXMP2{nodeId:7326} - INTERACTS_WITH -> membrane{nodeId:55725} - INTERACTS_WITH -> BCL2L10{nodeId:9633}', 'MBOAT7{nodeId:7464} - INTERACTS_WITH -> membrane{nodeId:55725} - INTERACTS_WITH -> BCL2L10{nodeId:9633}', 'LONP2{nodeId:8039} - INTERACTS_WITH -> membrane{nodeId:55725} - INTERACTS_WITH -> BCL2L10{nodeId:9633}', 'VMP1{nodeId:9240} - INTERACTS_WITH -> membrane{nodeId:55725} - INTERACTS_WITH -> BCL2L10{nodeId:9633}', 'PEX13{nodeId:9800} - INTERACTS_WITH -> membrane{nodeId:55725} - INTERACTS_WITH -> BCL2L10{nodeId:9633}', 'PEX3{nodeId:10754} - INTERACTS_WITH -> membrane{nodeId:55725} - INTERACTS_WITH -> BCL2L10{nodeId:9633}', 'TM9SF1{nodeId:10844} - INTERACTS_WITH -> membrane{nodeId:55725} - INTERACTS_WITH -> BCL2L10{nodeId:9633}', 'POR{nodeId:11369} - INTERACTS_WITH -> membrane{nodeId:55725} - INTERACTS_WITH -> BCL2L10{nodeId:9633}', 'PEX2{nodeId:11708} - INTERACTS_WITH -> membrane{nodeId:55725} - INTERACTS_WITH -> BCL2L10{nodeId:9633}', 'MBOAT1{nodeId:12922} - INTERACTS_WITH -> membrane{nodeId:55725} - INTERACTS_WITH -> BCL2L10{nodeId:9633}', 'MTMR12{nodeId:13864} - INTERACTS_WITH -> membrane{nodeId:55725} - INTERACTS_WITH -> BCL2L10{nodeId:9633}', 'MBOAT2{nodeId:21963} - INTERACTS_WITH -> membrane{nodeId:55725} - INTERACTS_WITH -> BCL2L10{nodeId:9633}', 'MBOAT4{nodeId:59583} - INTERACTS_WITH -> membrane{nodeId:55725} - INTERACTS_WITH -> BCL2L10{nodeId:9633}', 'PLP2{nodeId:148} - INTERACTS_WITH -> membrane{nodeId:55725} - INTERACTS_WITH -> BCL2L14{nodeId:10186}', 'PEX14{nodeId:643} - INTERACTS_WITH -> membrane{nodeId:55725} - INTERACTS_WITH -> BCL2L14{nodeId:10186}', 'SLC25A17{nodeId:1435} - INTERACTS_WITH -> membrane{nodeId:55725} - INTERACTS_WITH -> BCL2L14{nodeId:10186}', 'IMMT{nodeId:1916} - INTERACTS_WITH -> membrane{nodeId:55725} - INTERACTS_WITH -> BCL2L14{nodeId:10186}', 'PEX11B{nodeId:1920} - INTERACTS_WITH -> membrane{nodeId:55725} - INTERACTS_WITH -> BCL2L14{nodeId:10186}', 'TOMM34{nodeId:2048} - INTERACTS_WITH -> membrane{nodeId:55725} - INTERACTS_WITH -> BCL2L14{nodeId:10186}', 'PEX16{nodeId:2069} - INTERACTS_WITH -> membrane{nodeId:55725} - INTERACTS_WITH -> BCL2L14{nodeId:10186}', 'CPT1A{nodeId:2481} - INTERACTS_WITH -> membrane{nodeId:55725} - INTERACTS_WITH -> BCL2L14{nodeId:10186}', 'PEX5{nodeId:3296} - INTERACTS_WITH -> membrane{nodeId:55725} - INTERACTS_WITH -> BCL2L14{nodeId:10186}', 'TMEM86B{nodeId:3678} - INTERACTS_WITH -> membrane{nodeId:55725} - INTERACTS_WITH -> BCL2L14{nodeId:10186}', 'TOMM22{nodeId:6932} - INTERACTS_WITH -> membrane{nodeId:55725} - INTERACTS_WITH -> BCL2L14{nodeId:10186}', 'PXMP2{nodeId:7326} - INTERACTS_WITH -> membrane{nodeId:55725} - INTERACTS_WITH -> BCL2L14{nodeId:10186}', 'MBOAT7{nodeId:7464} - INTERACTS_WITH -> membrane{nodeId:55725} - INTERACTS_WITH -> BCL2L14{nodeId:10186}', 'LONP2{nodeId:8039} - INTERACTS_WITH -> membrane{nodeId:55725} - INTERACTS_WITH -> BCL2L14{nodeId:10186}', 'VMP1{nodeId:9240} - INTERACTS_WITH -> membrane{nodeId:55725} - INTERACTS_WITH -> BCL2L14{nodeId:10186}', 'PEX13{nodeId:9800} - INTERACTS_WITH -> membrane{nodeId:55725} - INTERACTS_WITH -> BCL2L14{nodeId:10186}', 'PEX3{nodeId:10754} - INTERACTS_WITH -> membrane{nodeId:55725} - INTERACTS_WITH -> BCL2L14{nodeId:10186}', 'TM9SF1{nodeId:10844} - INTERACTS_WITH -> membrane{nodeId:55725} - INTERACTS_WITH -> BCL2L14{nodeId:10186}', 'POR{nodeId:11369} - INTERACTS_WITH -> membrane{nodeId:55725} - INTERACTS_WITH -> BCL2L14{nodeId:10186}', 'PEX2{nodeId:11708} - INTERACTS_WITH -> membrane{nodeId:55725} - INTERACTS_WITH -> BCL2L14{nodeId:10186}', 'MBOAT1{nodeId:12922} - INTERACTS_WITH -> membrane{nodeId:55725} - INTERACTS_WITH -> BCL2L14{nodeId:10186}', 'MTMR12{nodeId:13864} - INTERACTS_WITH -> membrane{nodeId:55725} - INTERACTS_WITH -> BCL2L14{nodeId:10186}', 'MBOAT2{nodeId:21963} - INTERACTS_WITH -> membrane{nodeId:55725} - INTERACTS_WITH -> BCL2L14{nodeId:10186}', 'MBOAT4{nodeId:59583} - INTERACTS_WITH -> membrane{nodeId:55725} - INTERACTS_WITH -> BCL2L14{nodeId:10186}', 'PLP2{nodeId:148} - INTERACTS_WITH -> membrane{nodeId:55725} - INTERACTS_WITH -> AVEN{nodeId:34873}', 'PEX14{nodeId:643} - INTERACTS_WITH -> membrane{nodeId:55725} - INTERACTS_WITH -> AVEN{nodeId:34873}', 'SLC25A17{nodeId:1435} - INTERACTS_WITH -> membrane{nodeId:55725} - INTERACTS_WITH -> AVEN{nodeId:34873}', 'IMMT{nodeId:1916} - INTERACTS_WITH -> membrane{nodeId:55725} - INTERACTS_WITH -> AVEN{nodeId:34873}', 'PEX11B{nodeId:1920} - INTERACTS_WITH -> membrane{nodeId:55725} - INTERACTS_WITH -> AVEN{nodeId:34873}', 'TOMM34{nodeId:2048} - INTERACTS_WITH -> membrane{nodeId:55725} - INTERACTS_WITH -> AVEN{nodeId:34873}', 'PEX16{nodeId:2069} - INTERACTS_WITH -> membrane{nodeId:55725} - INTERACTS_WITH -> AVEN{nodeId:34873}', 'CPT1A{nodeId:2481} - INTERACTS_WITH -> membrane{nodeId:55725} - INTERACTS_WITH -> AVEN{nodeId:34873}', 'PEX5{nodeId:3296} - INTERACTS_WITH -> membrane{nodeId:55725} - INTERACTS_WITH -> AVEN{nodeId:34873}', 'TMEM86B{nodeId:3678} - INTERACTS_WITH -> membrane{nodeId:55725} - INTERACTS_WITH -> AVEN{nodeId:34873}', 'TOMM22{nodeId:6932} - INTERACTS_WITH -> membrane{nodeId:55725} - INTERACTS_WITH -> AVEN{nodeId:34873}', 'PXMP2{nodeId:7326} - INTERACTS_WITH -> membrane{nodeId:55725} - INTERACTS_WITH -> AVEN{nodeId:34873}', 'MBOAT7{nodeId:7464} - INTERACTS_WITH -> membrane{nodeId:55725} - INTERACTS_WITH -> AVEN{nodeId:34873}', 'LONP2{nodeId:8039} - INTERACTS_WITH -> membrane{nodeId:55725} - INTERACTS_WITH -> AVEN{nodeId:34873}', 'VMP1{nodeId:9240} - INTERACTS_WITH -> membrane{nodeId:55725} - INTERACTS_WITH -> AVEN{nodeId:34873}', 'PEX13{nodeId:9800} - INTERACTS_WITH -> membrane{nodeId:55725} - INTERACTS_WITH -> AVEN{nodeId:34873}', 'PEX3{nodeId:10754} - INTERACTS_WITH -> membrane{nodeId:55725} - INTERACTS_WITH -> AVEN{nodeId:34873}', 'TM9SF1{nodeId:10844} - INTERACTS_WITH -> membrane{nodeId:55725} - INTERACTS_WITH -> AVEN{nodeId:34873}', 'POR{nodeId:11369} - INTERACTS_WITH -> membrane{nodeId:55725} - INTERACTS_WITH -> AVEN{nodeId:34873}', 'PEX2{nodeId:11708} - INTERACTS_WITH -> membrane{nodeId:55725} - INTERACTS_WITH -> AVEN{nodeId:34873}', 'MBOAT1{nodeId:12922} - INTERACTS_WITH -> membrane{nodeId:55725} - INTERACTS_WITH -> AVEN{nodeId:34873}', 'MTMR12{nodeId:13864} - INTERACTS_WITH -> membrane{nodeId:55725} - INTERACTS_WITH -> AVEN{nodeId:34873}', 'MBOAT2{nodeId:21963} - INTERACTS_WITH -> membrane{nodeId:55725} - INTERACTS_WITH -> AVEN{nodeId:34873}', 'MBOAT4{nodeId:59583} - INTERACTS_WITH -> membrane{nodeId:55725} - INTERACTS_WITH -> AVEN{nodeId:34873}', 'PLP2{nodeId:148} - INTERACTS_WITH -> membrane{nodeId:55725} - INTERACTS_WITH -> BCL2L12{nodeId:60251}', 'PEX14{nodeId:643} - INTERACTS_WITH -> membrane{nodeId:55725} - INTERACTS_WITH -> BCL2L12{nodeId:60251}', 'SLC25A17{nodeId:1435} - INTERACTS_WITH -> membrane{nodeId:55725} - INTERACTS_WITH -> BCL2L12{nodeId:60251}', 'IMMT{nodeId:1916} - INTERACTS_WITH -> membrane{nodeId:55725} - INTERACTS_WITH -> BCL2L12{nodeId:60251}', 'PEX11B{nodeId:1920} - INTERACTS_WITH -> membrane{nodeId:55725} - INTERACTS_WITH -> BCL2L12{nodeId:60251}', 'TOMM34{nodeId:2048} - INTERACTS_WITH -> membrane{nodeId:55725} - INTERACTS_WITH -> BCL2L12{nodeId:60251}', 'PEX16{nodeId:2069} - INTERACTS_WITH -> membrane{nodeId:55725} - INTERACTS_WITH -> BCL2L12{nodeId:60251}', 'CPT1A{nodeId:2481} - INTERACTS_WITH -> membrane{nodeId:55725} - INTERACTS_WITH -> BCL2L12{nodeId:60251}', 'PEX5{nodeId:3296} - INTERACTS_WITH -> membrane{nodeId:55725} - INTERACTS_WITH -> BCL2L12{nodeId:60251}', 'TMEM86B{nodeId:3678} - INTERACTS_WITH -> membrane{nodeId:55725} - INTERACTS_WITH -> BCL2L12{nodeId:60251}', 'TOMM22{nodeId:6932} - INTERACTS_WITH -> membrane{nodeId:55725} - INTERACTS_WITH -> BCL2L12{nodeId:60251}', 'PXMP2{nodeId:7326} - INTERACTS_WITH -> membrane{nodeId:55725} - INTERACTS_WITH -> BCL2L12{nodeId:60251}', 'MBOAT7{nodeId:7464} - INTERACTS_WITH -> membrane{nodeId:55725} - INTERACTS_WITH -> BCL2L12{nodeId:60251}', 'LONP2{nodeId:8039} - INTERACTS_WITH -> membrane{nodeId:55725} - INTERACTS_WITH -> BCL2L12{nodeId:60251}', 'VMP1{nodeId:9240} - INTERACTS_WITH -> membrane{nodeId:55725} - INTERACTS_WITH -> BCL2L12{nodeId:60251}', 'PEX13{nodeId:9800} - INTERACTS_WITH -> membrane{nodeId:55725} - INTERACTS_WITH -> BCL2L12{nodeId:60251}', 'PEX3{nodeId:10754} - INTERACTS_WITH -> membrane{nodeId:55725} - INTERACTS_WITH -> BCL2L12{nodeId:60251}', 'TM9SF1{nodeId:10844} - INTERACTS_WITH -> membrane{nodeId:55725} - INTERACTS_WITH -> BCL2L12{nodeId:60251}', 'POR{nodeId:11369} - INTERACTS_WITH -> membrane{nodeId:55725} - INTERACTS_WITH -> BCL2L12{nodeId:60251}', 'PEX2{nodeId:11708} - INTERACTS_WITH -> membrane{nodeId:55725} - INTERACTS_WITH -> BCL2L12{nodeId:60251}', 'MBOAT1{nodeId:12922} - INTERACTS_WITH -> membrane{nodeId:55725} - INTERACTS_WITH -> BCL2L12{nodeId:60251}', 'MTMR12{nodeId:13864} - INTERACTS_WITH -> membrane{nodeId:55725} - INTERACTS_WITH -> BCL2L12{nodeId:60251}', 'MBOAT2{nodeId:21963} - INTERACTS_WITH -> membrane{nodeId:55725} - INTERACTS_WITH -> BCL2L12{nodeId:60251}', 'MBOAT4{nodeId:59583} - INTERACTS_WITH -> membrane{nodeId:55725} - INTERACTS_WITH -> BCL2L12{nodeId:60251}']\n",
      "[]\n"
     ]
    }
   ],
   "execution_count": 153
  },
  {
   "metadata": {},
   "cell_type": "markdown",
   "source": [
    "### (Optional) Gen Match Patterns from Paper Relationql Patterns\n",
    "This step is just to format the access_patterns for match stamtent generation.  Only need to run once, not for online graphRAG pipeline\n"
   ],
   "id": "d15d852e716f37e9"
  },
  {
   "metadata": {},
   "cell_type": "code",
   "source": [
    "access_logics = {\n",
    "    \"(effect/phenotype → [phenotype absent] → disease ← [!indication] ← drug)\": \"Find diseases with zero indication drug and are associated with <effect/phenotype>\",\n",
    "    \"(drug → [contraindication] → disease ← [associated with] ← gene/protein)\": \"Identify diseases associated with <gene/protein> and are contraindicated with <drug>\",\n",
    "    \"(anatomy → [expression present] → gene/protein ← [expression absent] ← anatomy)\": \"What gene or protein is expressed in <anatomy1> while is absent in <anatomy2>?\",\n",
    "    \"(anatomy → [expression absent] → gene/protein ← [expression absent] ← anatomy)\": \"What gene/protein is absent in both <anatomy1> and <anatomy2>?\",\n",
    "    \"(drug → [carrier] → gene/protein ← [carrier] ← drug)\": \"Which target genes are shared carriers between <drug1> and <drug2>?\",\n",
    "    \"(anatomy → [expression present] → gene/protein → [target] → drug)\": \"What is the drug that targets the genes or proteins which are expressed in <anatomy>?\",\n",
    "    \"(drug → [side effect] → effect/phenotype → [side effect] → drug)\": \"What drug has common side effects as <drug>?\",\n",
    "    \"(drug → [carrier] → gene/protein → [carrier] → drug)\": \"What is the drug that has common gene/protein carrier with <drug>?\",\n",
    "    \"(anatomy → [expression present] → gene/protein → enzyme → drug)\": \"What is the drug that some genes or proteins act as an enzyme upon, where the genes or proteins are expressed in <anatomy>?\",\n",
    "    \"(cellular_component → [interacts with] → gene/protein → [carrier] → drug)\": \"What is the drug carried by genes or proteins that interact with <cellular_component>?\",\n",
    "    \"(molecular_function → [interacts with] → gene/protein → [target] → drug)\": \"What drug targets the genes or proteins that interact with <molecular_function>?\",\n",
    "    \"(effect/phenotype → [side effect] → drug → [synergistic interaction] → drug)\": \"What drug has a synergistic interaction with the drug that has <effect/phenotype> as a side effect?\",\n",
    "    \"(disease → [indication] → drug → [contraindication] → disease)\": \"What disease is a contraindication for the drugs indicated for <disease>?\",\n",
    "    \"(disease → [parent-child] → disease → [phenotype present] → effect/phenotype)\": \"What effect or phenotype is present in the sub type of <disease>?\",\n",
    "    \"(gene/protein → [transporter] → drug → [side effect] → effect/phenotype)\": \"What effect or phenotype is a [side effect] of the drug transported by <gene/protein>?\",\n",
    "    \"(drug → [transporter] → gene/protein → [interacts with] → exposure)\": \"What exposure may affect <drug>s efficacy by acting on its transporter genes?\",\n",
    "    \"(pathway → [interacts with] → gene/protein → [ppi] → gene/protein)\": \"What gene/protein interacts with the gene/protein that related to <pathway>?\",\n",
    "    \"(drug → [synergistic interaction] → drug → [transporter] → gene/protein)\": \"What gene or protein transports the drugs that have a synergistic interaction with <drug>?\",\n",
    "    \"(biological_process → [interacts with] → gene/protein → [interacts with] → biological_process)\": \"What biological process has the common interactino pattern with gene or proteins as <biological_process>?\",\n",
    "    \"(effect/phenotype → [associated with] → gene/protein → [interacts with] → biological_process)\": \"What biological process interacts with the gene/protein associated with <effect/phenotype>?\",\n",
    "    \"(drug → [transporter] → gene/protein → [expression present] → anatomy)\": \"What anatomy expressesed by the gene/protein that affect the transporter of <drug>?\",\n",
    "    \"(drug → [target] → gene/protein → [interacts with] → cellular_component)\": \"What cellular component interacts with genes or proteins targeted by <drug>?\",\n",
    "    \"(biological_process → [interacts with] → gene/protein → [expression absent] → anatomy)\": \"What anatomy does not express the genes or proteins that interacts with <biological_process>?\",\n",
    "    \"(effect/phenotype → [associated with] → gene/protein → [expression absent] → anatomy)\": \"What anatomy does not express the genes or proteins associated with <effect/phenotype>?\",\n",
    "    \"(drug → [indication] → disease → [indication] → drug) & (drug → [synergistic interaction] → drug)\": \"Find drugs that has a synergistic interaction with <drug> and both are indicated for the same disease.\",\n",
    "    \"(pathway → [interacts with] → gene/protein → [interacts with] → pathway) & (pathway → [parent-child] → pathway)\": \"Find pathway that is related with <pathway> and both can [interacts with] the same gene/protein.\",\n",
    "    \"(gene/protein → [associated with] → disease → [associated with] → gene/protein) & (gene/protein → [ppi] → gene/protein)\": \"Find gene/protein that can interect with <gene/protein> and both are associated with the same disease.\",\n",
    "    \"(gene/protein → [associated with] → effect/phenotype → [associated with] → gene/protein) & (gene/protein → [ppi] → gene/protein)\": \"Find gene/protein that can interect with <gene/protein> and both are associated with the same effect/phenotype.\"\n",
    "}"
   ],
   "id": "3c236d6aee682139",
   "outputs": [],
   "execution_count": null
  },
  {
   "metadata": {},
   "cell_type": "code",
   "source": [
    "examples = \"\"\"\n",
    "## Example 1\n",
    "### AccessLogic\n",
    "(disease → [parent-child] → disease → [phenotype present] → effect/phenotype)\n",
    "#### MATCH Statement\n",
    "MATCH p=(n1:Disease)-[r1:PARENT_CHILD]->(n2:Disease)-[r2:PHENOTYPE_PRESENT]->(n3:EffectOrPhenotype)\n",
    "\n",
    "## Example 2\n",
    "### AccessLogic\n",
    "(effect/phenotype → [phenotype absent] → disease ← [!indication] ← drug)\n",
    "#### MATCH Statement\n",
    "MATCH p=(n1:EffectOrPhenotype)-[r1:PHENOTYPE_ABSENT]->(n2:Disease)<-[r2:!INDICATION]-(n3:Drug)\n",
    "\n",
    "## Example 3\n",
    "### AccessLogic\n",
    "(pathway → [interacts with] → gene/protein → [interacts with] → pathway) & (pathway → [parent-child] → pathway)\n",
    "#### MATCH Statement\n",
    "MATCH (n1:Pathway)-[r1:INTERACTS_WITH]->(n2:GeneOrProtein)-[r2:INTERACTS_WITH]->(n3:Pathway), (n1:Pathway)-[r3:PARENT_CHILD]->(n3:Pathway)\n",
    "\n",
    "## Example 4\n",
    "### AccessLogic\n",
    "(gene/protein → [associated with] → effect/phenotype → [associated with] → gene/protein) & (gene/protein → [ppi] → gene/protein)\n",
    "#### MATCH Statement\n",
    "MATCH (n1:GeneOrProtein)-[r1:ASSOCIATED_WITH]->(n2:EffectOrPhenotype)-[r2:ASSOCIATED_WITH]->(n3:GeneOrProtein), (n1:GeneOrProtein)-[r3:PPI]->(n3:GeneOrProtein)\n",
    "\"\"\""
   ],
   "id": "9cb828f6acf4cd1a",
   "outputs": [],
   "execution_count": null
  },
  {
   "metadata": {},
   "cell_type": "code",
   "source": [
    "CYPHER_TEMPLATE = \"\"\"\n",
    "Task: Translate the below AccessLogic into a MATCH Statement in Cypher, Neo4j's Graph Query language, based on the supplied GraphSchema. \n",
    "Follow the format used in the Examples. \n",
    "\n",
    "\n",
    "# AccessLogic\n",
    "{accessLogic}\n",
    "\n",
    "# GraphSchema:\n",
    "{schema}\n",
    "\n",
    "# Examples:\n",
    "{examples}\n",
    "\n",
    "\n",
    "- Do not use any labels or relationships not included in the GraphSchema.\n",
    "- The symbol ! should be respected and maintained in translation as long as it is valid syntax\n",
    "- When an \"&\" is used in AccessLogic, it usually means no new nodes are being introduced after the \"&\" symbol. Instead reuse node variables assuming no cyclical relationships.  See examples.\n",
    "- Do not include triple backticks ``` or any additional text except the generated Cypher MATCH Statement in your response.\n",
    "\n",
    "# MATCH Statement:\n",
    "\"\"\""
   ],
   "id": "c2ab236df9e00559",
   "outputs": [],
   "execution_count": null
  },
  {
   "metadata": {},
   "cell_type": "code",
   "source": [
    "from langchain_core.prompts import PromptTemplate\n",
    "from langchain_openai import OpenAIEmbeddings, ChatOpenAI\n",
    "\n",
    "\n",
    "cypher_llm = ChatOpenAI(\n",
    "    model_name=\"gpt-4o-mini\",\n",
    "    temperature=0, # turning temperature down for more deterministic results\n",
    "    seed=42\n",
    ")\n",
    "\n",
    "\n",
    "\n",
    "def gen_match_pattern(access_logic:str):\n",
    "    prompt = CYPHER_TEMPLATE.format(accessLogic = access_logic, schema=schema, examples=examples)\n",
    "    match_pattern = cypher_llm.invoke(prompt)\n",
    "    gp = GraphPattern.from_string(match_pattern.content)\n",
    "    return match_pattern.content #gp.make_query()"
   ],
   "id": "46323f102522e9b5",
   "outputs": [],
   "execution_count": null
  },
  {
   "metadata": {},
   "cell_type": "code",
   "source": [
    "access_patterns = []\n",
    "for k, v in access_logics.items():\n",
    "    print('\\n=========================')\n",
    "    print(k)\n",
    "    print('-------------------')\n",
    "    access_patterns.append({\"pattern\": gen_match_pattern(k), \"description\": v})"
   ],
   "id": "ae7260bf9298a606",
   "outputs": [],
   "execution_count": null
  },
  {
   "metadata": {},
   "cell_type": "code",
   "source": "print(json.dumps(access_patterns, indent=4))",
   "id": "c57d18546efbe212",
   "outputs": [],
   "execution_count": null
  }
 ],
 "metadata": {
  "kernelspec": {
   "display_name": "Python 3 (ipykernel)",
   "language": "python",
   "name": "python3"
  },
  "language_info": {
   "codemirror_mode": {
    "name": "ipython",
    "version": 3
   },
   "file_extension": ".py",
   "mimetype": "text/x-python",
   "name": "python",
   "nbconvert_exporter": "python",
   "pygments_lexer": "ipython3",
   "version": "3.11.6"
  },
  "colab": {
   "provenance": []
  }
 },
 "nbformat": 4,
 "nbformat_minor": 5
}
